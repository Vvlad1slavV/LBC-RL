{
 "cells": [
  {
   "cell_type": "code",
   "execution_count": null,
   "id": "0c3e3136-25f7-4570-9c88-319fc7b1a120",
   "metadata": {},
   "outputs": [],
   "source": [
    "import glob\n",
    "import numpy as np\n",
    "import gym\n",
    "import torch as th\n",
    "\n",
    "from stable_baselines3.common.env_util import make_vec_env\n",
    "from stable_baselines3.common.evaluation import evaluate_policy\n",
    "from stable_baselines3 import PPO\n",
    "from imitation.algorithms import bc\n",
    "\n",
    "env_id = \"MountainCarContinuous-v0\""
   ]
  },
  {
   "cell_type": "code",
   "execution_count": null,
   "id": "7af4cdcc-4478-4fe8-985f-a5d438c2d668",
   "metadata": {},
   "outputs": [],
   "source": [
    "from MountainCar_utils import MountainCarContinuousObsWrapper\n",
    "\n",
    "def wrapper(env):\n",
    "    env = MountainCarContinuousObsWrapper(env) \n",
    "    return env"
   ]
  },
  {
   "cell_type": "code",
   "execution_count": null,
   "id": "9bbd5ac5-14ec-4e6c-a3ed-702d9b643d51",
   "metadata": {},
   "outputs": [],
   "source": [
    "expert_angle_policy = []\n",
    "for file in glob.glob('./Compare/test_expert/expert*.zip'):\n",
    "    expert_angle_policy.append(PPO.load(file, print_system_info=False))\n",
    "    \n",
    "expert_angle_policy_n32b64 = []\n",
    "for file in glob.glob('./Compare/expert_3264_1kk/expert*.zip'):\n",
    "    expert_angle_policy_n32b64.append(PPO.load(file, print_system_info=False))\n",
    "\n",
    "noob_policy = []\n",
    "for file in glob.glob('./Compare/test_noob/noob*.zip'):\n",
    "    noob_policy.append(PPO.load(file, print_system_info=False))\n",
    "    \n",
    "noob_policy_n32b64 = []\n",
    "for file in glob.glob('./Compare/noob_3264_1kk/noob*.zip'):\n",
    "    noob_policy_n32b64.append(PPO.load(file, print_system_info=False))\n",
    "\n",
    "best_expert = PPO.load(\"./policy/ppo_MountainCarContinuous_expert16921.zip\", print_system_info=False)\n",
    "best_noob = PPO.load(\"./policy/ppo_MountainCarContinuous_noob32230.zip\", print_system_info=False)\n",
    "bc_policy = th.load('./policy/bc1.zip')"
   ]
  },
  {
   "cell_type": "code",
   "execution_count": null,
   "id": "446bba11-7888-4f47-ac68-c8a2ce1e8da8",
   "metadata": {},
   "outputs": [],
   "source": [
    "env_angle = make_vec_env(env_id, wrapper_class=wrapper, n_envs=10)\n",
    "env = make_vec_env(env_id, n_envs=10)"
   ]
  },
  {
   "cell_type": "code",
   "execution_count": null,
   "id": "29353fb1-0d8d-417c-8756-0ebb30daad0e",
   "metadata": {
    "tags": []
   },
   "outputs": [],
   "source": [
    "expert_rewards = []\n",
    "for expert in expert_angle_policy:\n",
    "    env_angle.seed(0)\n",
    "    expert_reward, expert_reward_std = evaluate_policy(expert, env_angle, 100)\n",
    "    expert_rewards.append([expert_reward, expert_reward_std]) # [] -> ()\n",
    "    \n",
    "expert_rewards_n32b64 = []\n",
    "for expert in expert_angle_policy_n32b64:\n",
    "    env_angle.seed(0)\n",
    "    expert_reward, expert_reward_std = evaluate_policy(expert, env_angle, 100)\n",
    "    expert_rewards_n32b64.append([expert_reward, expert_reward_std])    \n",
    "\n",
    "noob_rewards = []\n",
    "for noob in noob_policy:\n",
    "    env.seed(0)\n",
    "    noob_reward, noob_reward_std = evaluate_policy(noob, env, 100)\n",
    "    noob_rewards.append([noob_reward, noob_reward_std])\n",
    "    \n",
    "noob_rewards_n32b64 = []\n",
    "for noob in noob_policy_n32b64:\n",
    "    env.seed(0)\n",
    "    noob_reward, noob_reward_std = evaluate_policy(noob, env, 100)\n",
    "    noob_rewards_n32b64.append([noob_reward, noob_reward_std])    \n",
    "    \n",
    "env.seed(0)\n",
    "bc_rew, bc_std = evaluate_policy(bc_policy, env, 100)\n",
    "    \n",
    "env_angle.seed(0)\n",
    "best_expert_rew, best_expert_std = evaluate_policy(best_expert, env_angle, 100)\n",
    "\n",
    "env.seed(0)\n",
    "best_noob_rew, best_noob_std = evaluate_policy(best_noob, env, 100)"
   ]
  },
  {
   "cell_type": "code",
   "execution_count": null,
   "id": "6ee73493-b8d3-4d0b-b1da-acf39a0446b6",
   "metadata": {},
   "outputs": [],
   "source": [
    "def filter_rew_and_std(rewards):\n",
    "    sort_rewards = np.sort(rewards, axis=0)[2:-2]\n",
    "    rew = np.mean(sort_rewards, axis=0)[0]\n",
    "    std = np.linalg.norm(sort_rewards[:, 1])/np.sqrt(len(sort_rewards))\n",
    "    return rew, std\n",
    "\n",
    "def get_best_result(rewards):\n",
    "    sort_rewards = np.sort(rewards, axis=0)\n",
    "    return sort_rewards[-1]"
   ]
  },
  {
   "cell_type": "code",
   "execution_count": null,
   "id": "d1fc2fcc-b684-43f2-a36f-299f8fc612fa",
   "metadata": {},
   "outputs": [],
   "source": [
    "expert_rew, expert_std = filter_rew_and_std(expert_rewards)\n",
    "expert_rew_n32b64, expert_std_n32b64 = filter_rew_and_std(expert_rewards_n32b64)\n",
    "noob_rew, noob_std = filter_rew_and_std(noob_rewards)\n",
    "noob_rew_n32b64, noob_std_n32b64 = filter_rew_and_std(noob_rewards_n32b64)\n",
    "\n",
    "best_expert_rew, best_expert_std = get_best_result(expert_rewards_n32b64)\n",
    "best_noob_rew, best_noob_std = get_best_result(noob_rewards_n32b64)"
   ]
  },
  {
   "cell_type": "code",
   "execution_count": null,
   "id": "2716f703-8b64-42f9-90d9-93b7c1c1c9af",
   "metadata": {},
   "outputs": [],
   "source": [
    "# Add Padndas\n",
    "# print(f'{\"expert reward\":<30} {expert_rew:.2f} +/- {expert_std:.2f}')\n",
    "print(f'{\"expert reward n32b64\":<30} {expert_rew_n32b64:.2f} +/- {expert_std_n32b64:.2f}')\n",
    "print(f'{\"best expert reward\":<30} {best_expert_rew:.2f} +/- {best_expert_std:.2f}')\n",
    "# print(f'{\"noob reward\":<30} {noob_rew:.2f} +/- {noob_std:.2f}')\n",
    "print(f'{\"noob reward n32b64\":<30} {noob_rew_n32b64:.2f} +/- {noob_std_n32b64:.2f}')\n",
    "print(f'{\"best noob reward\":<30} {best_noob_rew:.2f} +/- {best_noob_std:.2f}')\n",
    "print(f'{\"BC reward\":<30} {bc_rew:.2f} +/- {bc_std:.2f}')"
   ]
  },
  {
   "cell_type": "markdown",
   "id": "c339a17d-bafa-4591-bc20-0e04d77fad53",
   "metadata": {},
   "source": [
    "expert reward n32b64           94.18 +/- 0.06\n",
    "noob reward n32b64             93.39 +/- 0.66"
   ]
  }
 ],
 "metadata": {
  "kernelspec": {
   "display_name": "rl-venv",
   "language": "python",
   "name": "rl-venv"
  },
  "language_info": {
   "codemirror_mode": {
    "name": "ipython",
    "version": 3
   },
   "file_extension": ".py",
   "mimetype": "text/x-python",
   "name": "python",
   "nbconvert_exporter": "python",
   "pygments_lexer": "ipython3",
   "version": "3.10.6"
  }
 },
 "nbformat": 4,
 "nbformat_minor": 5
}
