{
 "cells": [
  {
   "cell_type": "code",
   "execution_count": null,
   "id": "0c3e3136-25f7-4570-9c88-319fc7b1a120",
   "metadata": {},
   "outputs": [],
   "source": [
    "import glob\n",
    "import numpy as np\n",
    "import gym\n",
    "import torch as th\n",
    "\n",
    "from stable_baselines3.common.env_util import make_vec_env\n",
    "from stable_baselines3.common.vec_env import VecFrameStack\n",
    "from stable_baselines3.common.evaluation import evaluate_policy\n",
    "from stable_baselines3 import PPO\n",
    "from imitation.algorithms import bc\n",
    "\n",
    "env_id = \"MountainCarContinuous-v0\""
   ]
  },
  {
   "cell_type": "code",
   "execution_count": null,
   "id": "7af4cdcc-4478-4fe8-985f-a5d438c2d668",
   "metadata": {},
   "outputs": [],
   "source": [
    "from MountainCar_utils.observation_wrapper import MountainCarContinuousObsWrapper, MountainCarContinuousNoVelObsWrapper\n",
    "\n",
    "def wrapper(env):\n",
    "    env = MountainCarContinuousObsWrapper(env) \n",
    "    return env\n",
    "\n",
    "def wrapper_no_vel(env):\n",
    "    env = MountainCarContinuousNoVelObsWrapper(env) \n",
    "    return env"
   ]
  },
  {
   "cell_type": "code",
   "execution_count": null,
   "id": "6ee73493-b8d3-4d0b-b1da-acf39a0446b6",
   "metadata": {},
   "outputs": [],
   "source": [
    "def filter_rew_and_std(rewards):\n",
    "    rewards = np.array(rewards)\n",
    "    sort_rewards = rewards[np.argsort(rewards[:, 0])][2:-2]\n",
    "    rew = np.mean(sort_rewards, axis=0)[0]\n",
    "    std = np.linalg.norm(sort_rewards[:, 1])/np.sqrt(len(sort_rewards))\n",
    "    return rew, std\n",
    "\n",
    "def get_best_result(rewards):\n",
    "    rewards = np.array(rewards)\n",
    "    sort_rewards = rewards[np.argsort(rewards[:, 0])]\n",
    "    return sort_rewards[-1]"
   ]
  },
  {
   "cell_type": "code",
   "execution_count": null,
   "id": "446bba11-7888-4f47-ac68-c8a2ce1e8da8",
   "metadata": {},
   "outputs": [],
   "source": [
    "env_angle = make_vec_env(env_id, wrapper_class=wrapper, n_envs=10)\n",
    "env_no_vel = make_vec_env(env_id, wrapper_class=wrapper_no_vel, n_envs=10)\n",
    "env_no_vel_fs = VecFrameStack(env_no_vel, 2)\n",
    "env = make_vec_env(env_id, n_envs=10)"
   ]
  },
  {
   "cell_type": "markdown",
   "id": "4e03e4d2-76e1-44a1-8a38-c61a098bcce5",
   "metadata": {},
   "source": [
    "# Full Obs"
   ]
  },
  {
   "cell_type": "code",
   "execution_count": null,
   "id": "9bbd5ac5-14ec-4e6c-a3ed-702d9b643d51",
   "metadata": {},
   "outputs": [],
   "source": [
    "expert_angle_policy = []\n",
    "for file in glob.glob('./Compare/test_expert/expert*.zip'):\n",
    "    expert_angle_policy.append(PPO.load(file, print_system_info=False))\n",
    "    \n",
    "expert_angle_policy_n32b64 = []\n",
    "for file in glob.glob('./Compare/expert_3264_1kk/expert*.zip'):\n",
    "    expert_angle_policy_n32b64.append(PPO.load(file, print_system_info=False))\n",
    "\n",
    "noob_policy = []\n",
    "for file in glob.glob('./Compare/test_noob/noob*.zip'):\n",
    "    noob_policy.append(PPO.load(file, print_system_info=False))\n",
    "    \n",
    "noob_policy_n32b64 = []\n",
    "for file in glob.glob('./Compare/noob_3264_1kk/noob*.zip'):\n",
    "    noob_policy_n32b64.append(PPO.load(file, print_system_info=False))\n",
    "\n",
    "bc_policy = th.load('./policy/bc1.zip')"
   ]
  },
  {
   "cell_type": "code",
   "execution_count": null,
   "id": "29353fb1-0d8d-417c-8756-0ebb30daad0e",
   "metadata": {
    "tags": []
   },
   "outputs": [],
   "source": [
    "SEED = 449\n",
    "NUM_EP = 100\n",
    "\n",
    "expert_rewards = []\n",
    "for expert in expert_angle_policy:\n",
    "    env_angle.seed(SEED)\n",
    "    reward, reward_std = evaluate_policy(expert, env_angle, NUM_EP)\n",
    "    expert_rewards.append([reward, reward_std]) # [] -> ()\n",
    "\n",
    "expert_rewards_n32b64 = []\n",
    "for expert in expert_angle_policy_n32b64:\n",
    "    env_angle.seed(SEED)\n",
    "    reward, reward_std = evaluate_policy(expert, env_angle, NUM_EP)\n",
    "    expert_rewards_n32b64.append([reward, reward_std])    \n",
    "\n",
    "noob_rewards = []\n",
    "for noob in noob_policy:\n",
    "    env.seed(SEED)\n",
    "    reward, reward_std = evaluate_policy(noob, env, NUM_EP)\n",
    "    noob_rewards.append([reward, reward_std])\n",
    "\n",
    "noob_rewards_n32b64 = []\n",
    "for noob in noob_policy_n32b64:\n",
    "    env.seed(SEED)\n",
    "    reward, reward_std = evaluate_policy(noob, env, NUM_EP)\n",
    "    noob_rewards_n32b64.append([reward, reward_std])    \n",
    "\n",
    "env.seed(SEED)\n",
    "bc_rew, bc_std = evaluate_policy(bc_policy, env, NUM_EP)"
   ]
  },
  {
   "cell_type": "code",
   "execution_count": null,
   "id": "d1fc2fcc-b684-43f2-a36f-299f8fc612fa",
   "metadata": {},
   "outputs": [],
   "source": [
    "expert_rew, expert_std = filter_rew_and_std(expert_rewards)\n",
    "expert_rew_n32b64, expert_std_n32b64 = filter_rew_and_std(expert_rewards_n32b64)\n",
    "noob_rew, noob_std = filter_rew_and_std(noob_rewards)\n",
    "noob_rew_n32b64, noob_std_n32b64 = filter_rew_and_std(noob_rewards_n32b64)\n",
    "\n",
    "best_expert_rew, best_expert_std = get_best_result(expert_rewards)\n",
    "best_expert_rew_n32b64, best_expert_std_n32b64 = get_best_result(expert_rewards_n32b64)\n",
    "best_noob_rew, best_noob_std = get_best_result(noob_rewards)\n",
    "best_noob_rew_n32b64, best_noob_std_n32b64 = get_best_result(noob_rewards_n32b64)"
   ]
  },
  {
   "cell_type": "markdown",
   "id": "88af718c-cfb4-4076-a6a9-fbc37b03078f",
   "metadata": {},
   "source": [
    "# NoVel"
   ]
  },
  {
   "cell_type": "code",
   "execution_count": null,
   "id": "8738f987-b5af-49d5-a74f-34742c787f23",
   "metadata": {},
   "outputs": [],
   "source": [
    "noob_lstm = []\n",
    "for file in glob.glob('./Compare/noob_lstm_n32b128_1kk/noob*.zip'):\n",
    "    noob_lstm.append(PPO.load(file, print_system_info=False))\n",
    "\n",
    "noob_framestack = []\n",
    "for file in glob.glob('./Compare/noob_novel_n32b64_1kk/noob*.zip'):\n",
    "    noob_framestack.append(PPO.load(file, print_system_info=False))"
   ]
  },
  {
   "cell_type": "code",
   "execution_count": null,
   "id": "906c7709-7b0b-4b22-b3f9-1c7cc8e38dae",
   "metadata": {},
   "outputs": [],
   "source": [
    "noob_framestack[0].observation_space"
   ]
  },
  {
   "cell_type": "code",
   "execution_count": null,
   "id": "172af3df-6254-4abb-a067-371261bf910b",
   "metadata": {},
   "outputs": [],
   "source": [
    "SEED = 449\n",
    "NUM_EP = 100\n",
    "\n",
    "noob_lstm_rewards = []\n",
    "for noob in noob_lstm:\n",
    "    env_no_vel.seed(SEED)\n",
    "    reward, reward_std = evaluate_policy(noob, env_no_vel, NUM_EP)\n",
    "    noob_lstm_rewards.append([reward, reward_std])\n",
    "    \n",
    "noob_framestack_rewards = []\n",
    "for noob in noob_framestack:\n",
    "    env_no_vel_fs.seed(SEED)\n",
    "    reward, reward_std = evaluate_policy(noob, env_no_vel_fs, NUM_EP)\n",
    "    noob_framestack_rewards.append([reward, reward_std]) "
   ]
  },
  {
   "cell_type": "code",
   "execution_count": null,
   "id": "66c3d2f9-fcd3-4b90-96b7-9ca4e3823c17",
   "metadata": {},
   "outputs": [],
   "source": [
    "noob_lstm_rew, noob_lstm_std = filter_rew_and_std(noob_lstm_rewards)\n",
    "noob_fs_rew, noob_fs_std = filter_rew_and_std(noob_framestack_rewards)\n",
    "\n",
    "best_noob_lstm_rew, best_noob_lstm_std = get_best_result(noob_lstm_rewards)\n",
    "best_fs_lstm_rew, best_noob_fs_std = get_best_result(noob_framestack_rewards)"
   ]
  },
  {
   "cell_type": "markdown",
   "id": "f81dcd48-40ab-40b7-89ee-4c9104ed4416",
   "metadata": {},
   "source": [
    "# Results"
   ]
  },
  {
   "cell_type": "code",
   "execution_count": null,
   "id": "2716f703-8b64-42f9-90d9-93b7c1c1c9af",
   "metadata": {},
   "outputs": [],
   "source": [
    "line_lenght = 25\n",
    "# Add Padndas\n",
    "print(f'{\"expert reward\":<{line_lenght}} {expert_rew:.2f} +/- {expert_std:.2f}')\n",
    "print(f'{\"best expert reward\":<{line_lenght}} {best_expert_rew:.2f} +/- {best_expert_std:.2f}')\n",
    "print(f'{\"noob reward\":<{line_lenght}} {noob_rew:.2f} +/- {noob_std:.2f}')\n",
    "print(f'{\"best noob reward\":<{line_lenght}} {best_noob_rew:.2f} +/- {best_noob_std:.2f}')\n",
    "print('n32b64')\n",
    "print(f'{\"expert reward\":<{line_lenght}} {expert_rew_n32b64:.2f} +/- {expert_std_n32b64:.2f}')\n",
    "print(f'{\"best expert reward\":<{line_lenght}} {best_expert_rew_n32b64:.2f} +/- {best_expert_std_n32b64:.2f}')\n",
    "print(f'{\"noob reward\":<{line_lenght}} {noob_rew_n32b64:.2f} +/- {noob_std_n32b64:.2f}')\n",
    "print(f'{\"best noob reward\":<{line_lenght}} {best_noob_rew_n32b64:.2f} +/- {best_noob_std_n32b64:.2f}')\n",
    "print('Imitation Learning')\n",
    "print(f'{\"BC reward\":<{line_lenght}} {bc_rew:.2f} +/- {bc_std:.2f}')"
   ]
  },
  {
   "cell_type": "code",
   "execution_count": null,
   "id": "4f7ce16a-660d-4cac-8a78-52d746ed77e8",
   "metadata": {},
   "outputs": [],
   "source": [
    "line_lenght = 25\n",
    "# Add Padndas\n",
    "print(f'{\"noob lstm reward\":<{line_lenght}} {noob_lstm_rew:.2f} +/- {noob_lstm_std:.2f}')\n",
    "print(f'{\"best noob lstm reward\":<{line_lenght}} {best_noob_lstm_rew:.2f} +/- {best_noob_lstm_std:.2f}')\n",
    "print(f'{\"noob fs reward\":<{line_lenght}} {noob_fs_rew:.2f} +/- {noob_fs_std:.2f}')\n",
    "print(f'{\"best noob fs reward\":<{line_lenght}} {best_fs_lstm_rew:.2f} +/- {best_noob_fs_std:.2f}')"
   ]
  }
 ],
 "metadata": {
  "kernelspec": {
   "display_name": "rl-venv",
   "language": "python",
   "name": "rl-venv"
  },
  "language_info": {
   "codemirror_mode": {
    "name": "ipython",
    "version": 3
   },
   "file_extension": ".py",
   "mimetype": "text/x-python",
   "name": "python",
   "nbconvert_exporter": "python",
   "pygments_lexer": "ipython3",
   "version": "3.10.6"
  }
 },
 "nbformat": 4,
 "nbformat_minor": 5
}
