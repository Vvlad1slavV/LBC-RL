{
 "cells": [
  {
   "cell_type": "code",
   "execution_count": 1,
   "metadata": {},
   "outputs": [
    {
     "data": {
      "text/plain": [
       "'0.21.0'"
      ]
     },
     "execution_count": 1,
     "metadata": {},
     "output_type": "execute_result"
    }
   ],
   "source": [
    "# import sys\n",
    "# import gymnasium as gym\n",
    "# sys.modules[\"gym\"] = gym\n",
    "import gym\n",
    "gym.__version__"
   ]
  },
  {
   "cell_type": "code",
   "execution_count": 2,
   "metadata": {},
   "outputs": [],
   "source": [
    "import gnwrapper"
   ]
  },
  {
   "cell_type": "code",
   "execution_count": 3,
   "metadata": {},
   "outputs": [
    {
     "name": "stdout",
     "output_type": "stream",
     "text": [
      "True\n"
     ]
    }
   ],
   "source": [
    "import os\n",
    "import numpy as np\n",
    "import torch\n",
    "print(torch.cuda.is_available())"
   ]
  },
  {
   "cell_type": "code",
   "execution_count": 4,
   "metadata": {},
   "outputs": [],
   "source": [
    "from stable_baselines3 import PPO\n",
    "from stable_baselines3.common.monitor import Monitor\n",
    "from stable_baselines3.common.vec_env import DummyVecEnv\n",
    "from stable_baselines3.common.env_util import make_vec_env\n",
    "from stable_baselines3.common.callbacks import EvalCallback"
   ]
  },
  {
   "cell_type": "code",
   "execution_count": 5,
   "metadata": {},
   "outputs": [],
   "source": [
    "env_id = \"MountainCarContinuous-v0\"\n",
    "NUM_CPU = 32  # Number of processes to use"
   ]
  },
  {
   "cell_type": "markdown",
   "metadata": {
    "tags": []
   },
   "source": [
    "# Observ Wrapper\n",
    "```\n",
    "class MountainCarContinuousObsWrapper(gym.ObservationWrapper):\n",
    "    def __init__(self, env, num_obs_points: int = 6):\n",
    "        super().__init__(env)\n",
    "        self.max_angle = 1\n",
    "        \n",
    "        self.low_state = np.append(self.low_state, -self.max_angle)\n",
    "        self.high_state = np.append(self.high_state, self.max_angle)\n",
    "        \n",
    "        self.observation_space = gym.spaces.Box(\n",
    "            low=self.low_state, high=self.high_state, dtype=np.float32\n",
    "        )\n",
    "        \n",
    "    def observation(self, obs):\n",
    "        return np.append(obs, np.cos(3 * obs[0]))\n",
    "```"
   ]
  },
  {
   "cell_type": "code",
   "execution_count": 6,
   "metadata": {},
   "outputs": [],
   "source": [
    "from MountainCar_utils import MountainCarContinuousObsWrapper\n",
    "def wrapper(env):\n",
    "    env = MountainCarContinuousObsWrapper(env) \n",
    "    env = gnwrapper.Animation(env)\n",
    "    return env"
   ]
  },
  {
   "cell_type": "markdown",
   "metadata": {
    "tags": []
   },
   "source": [
    "# Training 'expert' and 'noob' policy\n",
    "Skip this if you have trained policies"
   ]
  },
  {
   "cell_type": "code",
   "execution_count": 8,
   "metadata": {
    "tags": []
   },
   "outputs": [
    {
     "name": "stderr",
     "output_type": "stream",
     "text": [
      "/home/vlad1slav/Diploma/rl-venv/lib/python3.10/site-packages/gym/logger.py:34: UserWarning: \u001b[33mWARN: Box bound precision lowered by casting to float32\u001b[0m\n",
      "  warnings.warn(colorize(\"%s: %s\" % (\"WARN\", msg % args), \"yellow\"))\n"
     ]
    },
    {
     "data": {
      "text/plain": [
       "Box([-1.2  -0.07 -1.  ], [0.6  0.07 1.  ], (3,), float32)"
      ]
     },
     "execution_count": 8,
     "metadata": {},
     "output_type": "execute_result"
    }
   ],
   "source": [
    "# Parallel custom obs environments\n",
    "train_env_f = make_vec_env(env_id, \n",
    "                           n_envs=NUM_CPU,\n",
    "                           wrapper_class=MountainCarContinuousObsWrapper)\n",
    "train_env_f.observation_space"
   ]
  },
  {
   "cell_type": "code",
   "execution_count": 9,
   "metadata": {
    "collapsed": true,
    "jupyter": {
     "outputs_hidden": true
    },
    "tags": []
   },
   "outputs": [
    {
     "name": "stdout",
     "output_type": "stream",
     "text": [
      "Using cuda device\n",
      "Logging to ./logs/ppo_MountainCar_tensorboard_expert/PPO_1\n"
     ]
    },
    {
     "data": {
      "text/html": [
       "<pre style=\"white-space:pre;overflow-x:auto;line-height:normal;font-family:Menlo,'DejaVu Sans Mono',consolas,'Courier New',monospace\"></pre>\n"
      ],
      "text/plain": [
       "\u001b[?25l"
      ]
     },
     "metadata": {},
     "output_type": "display_data"
    },
    {
     "data": {
      "application/vnd.jupyter.widget-view+json": {
       "model_id": "28771debe9864a5cb44ffd178893dfd3",
       "version_major": 2,
       "version_minor": 0
      },
      "text/plain": [
       "Output()"
      ]
     },
     "metadata": {},
     "output_type": "display_data"
    },
    {
     "name": "stdout",
     "output_type": "stream",
     "text": [
      "-----------------------------\n",
      "| time/              |      |\n",
      "|    fps             | 9386 |\n",
      "|    iterations      | 1    |\n",
      "|    time_elapsed    | 0    |\n",
      "|    total_timesteps | 8192 |\n",
      "-----------------------------\n"
     ]
    },
    {
     "data": {
      "text/html": [
       "<pre style=\"white-space:pre;overflow-x:auto;line-height:normal;font-family:Menlo,'DejaVu Sans Mono',consolas,'Courier New',monospace\">\r",
       "\u001b[2KEval num_timesteps=16000, episode_reward=-1.06 +/- 0.11\n",
       "<span style=\"color: #800080; text-decoration-color: #800080\">   1%</span> <span style=\"color: #f92672; text-decoration-color: #f92672\">╸</span><span style=\"color: #3a3a3a; text-decoration-color: #3a3a3a\">━━━━━━━━━━━━━━━━━━━━━━━━━━━━━━━━━━━━━━━━━━━━━━━━━━━━━━━</span> <span style=\"color: #008000; text-decoration-color: #008000\">14,272/1,000,000 </span> [ <span style=\"color: #808000; text-decoration-color: #808000\">0:00:03</span> &lt; <span style=\"color: #008080; text-decoration-color: #008080\">0:02:01</span> , <span style=\"color: #800000; text-decoration-color: #800000\">8,169 it/s</span> ]</pre>\n"
      ],
      "text/plain": [
       "\r",
       "\u001b[2KEval num_timesteps=16000, episode_reward=-1.06 +/- 0.11\n",
       "\u001b[35m   1%\u001b[0m \u001b[38;2;249;38;114m╸\u001b[0m\u001b[38;5;237m━━━━━━━━━━━━━━━━━━━━━━━━━━━━━━━━━━━━━━━━━━━━━━━━━━━━━━━\u001b[0m \u001b[32m14,272/1,000,000 \u001b[0m [ \u001b[33m0:00:03\u001b[0m < \u001b[36m0:02:01\u001b[0m , \u001b[31m8,169 it/s\u001b[0m ]"
      ]
     },
     "metadata": {},
     "output_type": "display_data"
    },
    {
     "data": {
      "text/html": [
       "<pre style=\"white-space:pre;overflow-x:auto;line-height:normal;font-family:Menlo,'DejaVu Sans Mono',consolas,'Courier New',monospace\">\r",
       "\u001b[2KEpisode length: 999.00 +/- 0.00\n",
       "<span style=\"color: #800080; text-decoration-color: #800080\">   1%</span> <span style=\"color: #f92672; text-decoration-color: #f92672\">╸</span><span style=\"color: #3a3a3a; text-decoration-color: #3a3a3a\">━━━━━━━━━━━━━━━━━━━━━━━━━━━━━━━━━━━━━━━━━━━━━━━━━━━━━━━</span> <span style=\"color: #008000; text-decoration-color: #008000\">14,272/1,000,000 </span> [ <span style=\"color: #808000; text-decoration-color: #808000\">0:00:03</span> &lt; <span style=\"color: #008080; text-decoration-color: #008080\">0:02:01</span> , <span style=\"color: #800000; text-decoration-color: #800000\">8,169 it/s</span> ]</pre>\n"
      ],
      "text/plain": [
       "\r",
       "\u001b[2KEpisode length: 999.00 +/- 0.00\n",
       "\u001b[35m   1%\u001b[0m \u001b[38;2;249;38;114m╸\u001b[0m\u001b[38;5;237m━━━━━━━━━━━━━━━━━━━━━━━━━━━━━━━━━━━━━━━━━━━━━━━━━━━━━━━\u001b[0m \u001b[32m14,272/1,000,000 \u001b[0m [ \u001b[33m0:00:03\u001b[0m < \u001b[36m0:02:01\u001b[0m , \u001b[31m8,169 it/s\u001b[0m ]"
      ]
     },
     "metadata": {},
     "output_type": "display_data"
    },
    {
     "name": "stdout",
     "output_type": "stream",
     "text": [
      "---------------------------------------\n",
      "| eval/                   |           |\n",
      "|    mean_ep_length       | 999       |\n",
      "|    mean_reward          | -1.06     |\n",
      "| time/                   |           |\n",
      "|    total_timesteps      | 16000     |\n",
      "| train/                  |           |\n",
      "|    approx_kl            | 0.0422756 |\n",
      "|    clip_fraction        | 0.135     |\n",
      "|    clip_range           | 0.2       |\n",
      "|    entropy_loss         | -1.78     |\n",
      "|    explained_variance   | 0.0307    |\n",
      "|    learning_rate        | 7.77e-05  |\n",
      "|    loss                 | 0.171     |\n",
      "|    n_updates            | 10        |\n",
      "|    policy_gradient_loss | 0.05      |\n",
      "|    std                  | 0.988     |\n",
      "|    value_loss           | 0.262     |\n",
      "---------------------------------------\n"
     ]
    },
    {
     "data": {
      "text/html": [
       "<pre style=\"white-space:pre;overflow-x:auto;line-height:normal;font-family:Menlo,'DejaVu Sans Mono',consolas,'Courier New',monospace\">\r",
       "\u001b[2KNew best mean reward!\n",
       "<span style=\"color: #800080; text-decoration-color: #800080\">   1%</span> <span style=\"color: #f92672; text-decoration-color: #f92672\">╸</span><span style=\"color: #3a3a3a; text-decoration-color: #3a3a3a\">━━━━━━━━━━━━━━━━━━━━━━━━━━━━━━━━━━━━━━━━━━━━━━━━━━━━━━━</span> <span style=\"color: #008000; text-decoration-color: #008000\">14,272/1,000,000 </span> [ <span style=\"color: #808000; text-decoration-color: #808000\">0:00:03</span> &lt; <span style=\"color: #008080; text-decoration-color: #008080\">0:02:01</span> , <span style=\"color: #800000; text-decoration-color: #800000\">8,169 it/s</span> ]</pre>\n"
      ],
      "text/plain": [
       "\r",
       "\u001b[2KNew best mean reward!\n",
       "\u001b[35m   1%\u001b[0m \u001b[38;2;249;38;114m╸\u001b[0m\u001b[38;5;237m━━━━━━━━━━━━━━━━━━━━━━━━━━━━━━━━━━━━━━━━━━━━━━━━━━━━━━━\u001b[0m \u001b[32m14,272/1,000,000 \u001b[0m [ \u001b[33m0:00:03\u001b[0m < \u001b[36m0:02:01\u001b[0m , \u001b[31m8,169 it/s\u001b[0m ]"
      ]
     },
     "metadata": {},
     "output_type": "display_data"
    },
    {
     "name": "stdout",
     "output_type": "stream",
     "text": [
      "---------------------------------\n",
      "| rollout/           |          |\n",
      "|    ep_len_mean     | 294      |\n",
      "|    ep_rew_mean     | 71.5     |\n",
      "| time/              |          |\n",
      "|    fps             | 4491     |\n",
      "|    iterations      | 2        |\n",
      "|    time_elapsed    | 3        |\n",
      "|    total_timesteps | 16384    |\n",
      "---------------------------------\n",
      "-----------------------------------------\n",
      "| rollout/                |             |\n",
      "|    ep_len_mean          | 294         |\n",
      "|    ep_rew_mean          | 71.5        |\n",
      "| time/                   |             |\n",
      "|    fps                  | 5051        |\n",
      "|    iterations           | 3           |\n",
      "|    time_elapsed         | 4           |\n",
      "|    total_timesteps      | 24576       |\n",
      "| train/                  |             |\n",
      "|    approx_kl            | 0.032701466 |\n",
      "|    clip_fraction        | 0.109       |\n",
      "|    clip_range           | 0.2         |\n",
      "|    entropy_loss         | -2.07       |\n",
      "|    explained_variance   | 0.0245      |\n",
      "|    learning_rate        | 7.77e-05    |\n",
      "|    loss                 | 0.905       |\n",
      "|    n_updates            | 20          |\n",
      "|    policy_gradient_loss | 0.0157      |\n",
      "|    std                  | 0.981       |\n",
      "|    value_loss           | 6.57        |\n",
      "-----------------------------------------\n"
     ]
    },
    {
     "data": {
      "text/html": [
       "<pre style=\"white-space:pre;overflow-x:auto;line-height:normal;font-family:Menlo,'DejaVu Sans Mono',consolas,'Courier New',monospace\">\r",
       "\u001b[2KEval num_timesteps=32000, episode_reward=-10.27 +/- 1.58\n",
       "<span style=\"color: #800080; text-decoration-color: #800080\">   3%</span> <span style=\"color: #f92672; text-decoration-color: #f92672\">━╸</span><span style=\"color: #3a3a3a; text-decoration-color: #3a3a3a\">━━━━━━━━━━━━━━━━━━━━━━━━━━━━━━━━━━━━━━━━━━━━━━━━━━━━━━</span> <span style=\"color: #008000; text-decoration-color: #008000\">30,624/1,000,000 </span> [ <span style=\"color: #808000; text-decoration-color: #808000\">0:00:07</span> &lt; <span style=\"color: #008080; text-decoration-color: #008080\">0:03:01</span> , <span style=\"color: #800000; text-decoration-color: #800000\">5,362 it/s</span> ]</pre>\n"
      ],
      "text/plain": [
       "\r",
       "\u001b[2KEval num_timesteps=32000, episode_reward=-10.27 +/- 1.58\n",
       "\u001b[35m   3%\u001b[0m \u001b[38;2;249;38;114m━\u001b[0m\u001b[38;2;249;38;114m╸\u001b[0m\u001b[38;5;237m━━━━━━━━━━━━━━━━━━━━━━━━━━━━━━━━━━━━━━━━━━━━━━━━━━━━━━\u001b[0m \u001b[32m30,624/1,000,000 \u001b[0m [ \u001b[33m0:00:07\u001b[0m < \u001b[36m0:03:01\u001b[0m , \u001b[31m5,362 it/s\u001b[0m ]"
      ]
     },
     "metadata": {},
     "output_type": "display_data"
    },
    {
     "data": {
      "text/html": [
       "<pre style=\"white-space:pre;overflow-x:auto;line-height:normal;font-family:Menlo,'DejaVu Sans Mono',consolas,'Courier New',monospace\">\r",
       "\u001b[2KEpisode length: 999.00 +/- 0.00\n",
       "<span style=\"color: #800080; text-decoration-color: #800080\">   3%</span> <span style=\"color: #f92672; text-decoration-color: #f92672\">━╸</span><span style=\"color: #3a3a3a; text-decoration-color: #3a3a3a\">━━━━━━━━━━━━━━━━━━━━━━━━━━━━━━━━━━━━━━━━━━━━━━━━━━━━━━</span> <span style=\"color: #008000; text-decoration-color: #008000\">30,624/1,000,000 </span> [ <span style=\"color: #808000; text-decoration-color: #808000\">0:00:07</span> &lt; <span style=\"color: #008080; text-decoration-color: #008080\">0:03:01</span> , <span style=\"color: #800000; text-decoration-color: #800000\">5,362 it/s</span> ]</pre>\n"
      ],
      "text/plain": [
       "\r",
       "\u001b[2KEpisode length: 999.00 +/- 0.00\n",
       "\u001b[35m   3%\u001b[0m \u001b[38;2;249;38;114m━\u001b[0m\u001b[38;2;249;38;114m╸\u001b[0m\u001b[38;5;237m━━━━━━━━━━━━━━━━━━━━━━━━━━━━━━━━━━━━━━━━━━━━━━━━━━━━━━\u001b[0m \u001b[32m30,624/1,000,000 \u001b[0m [ \u001b[33m0:00:07\u001b[0m < \u001b[36m0:03:01\u001b[0m , \u001b[31m5,362 it/s\u001b[0m ]"
      ]
     },
     "metadata": {},
     "output_type": "display_data"
    },
    {
     "name": "stdout",
     "output_type": "stream",
     "text": [
      "-----------------------------------------\n",
      "| eval/                   |             |\n",
      "|    mean_ep_length       | 999         |\n",
      "|    mean_reward          | -10.3       |\n",
      "| time/                   |             |\n",
      "|    total_timesteps      | 32000       |\n",
      "| train/                  |             |\n",
      "|    approx_kl            | 0.015324648 |\n",
      "|    clip_fraction        | 0.0649      |\n",
      "|    clip_range           | 0.2         |\n",
      "|    entropy_loss         | -2.24       |\n",
      "|    explained_variance   | 0.509       |\n",
      "|    learning_rate        | 7.77e-05    |\n",
      "|    loss                 | 0.12        |\n",
      "|    n_updates            | 30          |\n",
      "|    policy_gradient_loss | 0.0267      |\n",
      "|    std                  | 0.975       |\n",
      "|    value_loss           | 0.198       |\n",
      "-----------------------------------------\n",
      "---------------------------------\n",
      "| rollout/           |          |\n",
      "|    ep_len_mean     | 294      |\n",
      "|    ep_rew_mean     | 71.5     |\n",
      "| time/              |          |\n",
      "|    fps             | 4220     |\n",
      "|    iterations      | 4        |\n",
      "|    time_elapsed    | 7        |\n",
      "|    total_timesteps | 32768    |\n",
      "---------------------------------\n",
      "-----------------------------------------\n",
      "| rollout/                |             |\n",
      "|    ep_len_mean          | 272         |\n",
      "|    ep_rew_mean          | 79.5        |\n",
      "| time/                   |             |\n",
      "|    fps                  | 4515        |\n",
      "|    iterations           | 5           |\n",
      "|    time_elapsed         | 9           |\n",
      "|    total_timesteps      | 40960       |\n",
      "| train/                  |             |\n",
      "|    approx_kl            | 0.030619685 |\n",
      "|    clip_fraction        | 0.178       |\n",
      "|    clip_range           | 0.2         |\n",
      "|    entropy_loss         | -2.51       |\n",
      "|    explained_variance   | 0.65        |\n",
      "|    learning_rate        | 7.77e-05    |\n",
      "|    loss                 | 0.0978      |\n",
      "|    n_updates            | 40          |\n",
      "|    policy_gradient_loss | 0.0121      |\n",
      "|    std                  | 0.968       |\n",
      "|    value_loss           | 0.233       |\n",
      "-----------------------------------------\n"
     ]
    },
    {
     "data": {
      "text/html": [
       "<pre style=\"white-space:pre;overflow-x:auto;line-height:normal;font-family:Menlo,'DejaVu Sans Mono',consolas,'Courier New',monospace\">\r",
       "\u001b[2KEval num_timesteps=48000, episode_reward=-44.64 +/- 1.92\n",
       "<span style=\"color: #800080; text-decoration-color: #800080\">   5%</span> <span style=\"color: #f92672; text-decoration-color: #f92672\">━━╸</span><span style=\"color: #3a3a3a; text-decoration-color: #3a3a3a\">━━━━━━━━━━━━━━━━━━━━━━━━━━━━━━━━━━━━━━━━━━━━━━━━━━━━━</span> <span style=\"color: #008000; text-decoration-color: #008000\">46,560/1,000,000 </span> [ <span style=\"color: #808000; text-decoration-color: #808000\">0:00:11</span> &lt; <span style=\"color: #008080; text-decoration-color: #008080\">0:03:22</span> , <span style=\"color: #800000; text-decoration-color: #800000\">4,729 it/s</span> ]</pre>\n"
      ],
      "text/plain": [
       "\r",
       "\u001b[2KEval num_timesteps=48000, episode_reward=-44.64 +/- 1.92\n",
       "\u001b[35m   5%\u001b[0m \u001b[38;2;249;38;114m━━\u001b[0m\u001b[38;2;249;38;114m╸\u001b[0m\u001b[38;5;237m━━━━━━━━━━━━━━━━━━━━━━━━━━━━━━━━━━━━━━━━━━━━━━━━━━━━━\u001b[0m \u001b[32m46,560/1,000,000 \u001b[0m [ \u001b[33m0:00:11\u001b[0m < \u001b[36m0:03:22\u001b[0m , \u001b[31m4,729 it/s\u001b[0m ]"
      ]
     },
     "metadata": {},
     "output_type": "display_data"
    },
    {
     "data": {
      "text/html": [
       "<pre style=\"white-space:pre;overflow-x:auto;line-height:normal;font-family:Menlo,'DejaVu Sans Mono',consolas,'Courier New',monospace\">\r",
       "\u001b[2KEpisode length: 999.00 +/- 0.00\n",
       "<span style=\"color: #800080; text-decoration-color: #800080\">   5%</span> <span style=\"color: #f92672; text-decoration-color: #f92672\">━━╸</span><span style=\"color: #3a3a3a; text-decoration-color: #3a3a3a\">━━━━━━━━━━━━━━━━━━━━━━━━━━━━━━━━━━━━━━━━━━━━━━━━━━━━━</span> <span style=\"color: #008000; text-decoration-color: #008000\">46,560/1,000,000 </span> [ <span style=\"color: #808000; text-decoration-color: #808000\">0:00:11</span> &lt; <span style=\"color: #008080; text-decoration-color: #008080\">0:03:22</span> , <span style=\"color: #800000; text-decoration-color: #800000\">4,729 it/s</span> ]</pre>\n"
      ],
      "text/plain": [
       "\r",
       "\u001b[2KEpisode length: 999.00 +/- 0.00\n",
       "\u001b[35m   5%\u001b[0m \u001b[38;2;249;38;114m━━\u001b[0m\u001b[38;2;249;38;114m╸\u001b[0m\u001b[38;5;237m━━━━━━━━━━━━━━━━━━━━━━━━━━━━━━━━━━━━━━━━━━━━━━━━━━━━━\u001b[0m \u001b[32m46,560/1,000,000 \u001b[0m [ \u001b[33m0:00:11\u001b[0m < \u001b[36m0:03:22\u001b[0m , \u001b[31m4,729 it/s\u001b[0m ]"
      ]
     },
     "metadata": {},
     "output_type": "display_data"
    },
    {
     "name": "stdout",
     "output_type": "stream",
     "text": [
      "-----------------------------------------\n",
      "| eval/                   |             |\n",
      "|    mean_ep_length       | 999         |\n",
      "|    mean_reward          | -44.6       |\n",
      "| time/                   |             |\n",
      "|    total_timesteps      | 48000       |\n",
      "| train/                  |             |\n",
      "|    approx_kl            | 0.026048336 |\n",
      "|    clip_fraction        | 0.116       |\n",
      "|    clip_range           | 0.2         |\n",
      "|    entropy_loss         | -2.51       |\n",
      "|    explained_variance   | 0.0866      |\n",
      "|    learning_rate        | 7.77e-05    |\n",
      "|    loss                 | 0.113       |\n",
      "|    n_updates            | 50          |\n",
      "|    policy_gradient_loss | 0.00101     |\n",
      "|    std                  | 0.961       |\n",
      "|    value_loss           | 6.77        |\n",
      "-----------------------------------------\n",
      "---------------------------------\n",
      "| rollout/           |          |\n",
      "|    ep_len_mean     | 341      |\n",
      "|    ep_rew_mean     | 71.6     |\n",
      "| time/              |          |\n",
      "|    fps             | 4167     |\n",
      "|    iterations      | 6        |\n",
      "|    time_elapsed    | 11       |\n",
      "|    total_timesteps | 49152    |\n",
      "---------------------------------\n",
      "-----------------------------------------\n",
      "| rollout/                |             |\n",
      "|    ep_len_mean          | 252         |\n",
      "|    ep_rew_mean          | 78.9        |\n",
      "| time/                   |             |\n",
      "|    fps                  | 4389        |\n",
      "|    iterations           | 7           |\n",
      "|    time_elapsed         | 13          |\n",
      "|    total_timesteps      | 57344       |\n",
      "| train/                  |             |\n",
      "|    approx_kl            | 0.006847988 |\n",
      "|    clip_fraction        | 0.0182      |\n",
      "|    clip_range           | 0.2         |\n",
      "|    entropy_loss         | -2.52       |\n",
      "|    explained_variance   | 0.113       |\n",
      "|    learning_rate        | 7.77e-05    |\n",
      "|    loss                 | 3.6         |\n",
      "|    n_updates            | 60          |\n",
      "|    policy_gradient_loss | -0.00369    |\n",
      "|    std                  | 0.957       |\n",
      "|    value_loss           | 13.2        |\n",
      "-----------------------------------------\n"
     ]
    },
    {
     "data": {
      "text/html": [
       "<pre style=\"white-space:pre;overflow-x:auto;line-height:normal;font-family:Menlo,'DejaVu Sans Mono',consolas,'Courier New',monospace\">\r",
       "\u001b[2KEval num_timesteps=64000, episode_reward=-60.98 +/- 1.34\n",
       "<span style=\"color: #800080; text-decoration-color: #800080\">   6%</span> <span style=\"color: #f92672; text-decoration-color: #f92672\">━━━╸</span><span style=\"color: #3a3a3a; text-decoration-color: #3a3a3a\">━━━━━━━━━━━━━━━━━━━━━━━━━━━━━━━━━━━━━━━━━━━━━━━━━━━━</span> <span style=\"color: #008000; text-decoration-color: #008000\">62,656/1,000,000 </span> [ <span style=\"color: #808000; text-decoration-color: #808000\">0:00:15</span> &lt; <span style=\"color: #008080; text-decoration-color: #008080\">0:03:27</span> , <span style=\"color: #800000; text-decoration-color: #800000\">4,532 it/s</span> ]</pre>\n"
      ],
      "text/plain": [
       "\r",
       "\u001b[2KEval num_timesteps=64000, episode_reward=-60.98 +/- 1.34\n",
       "\u001b[35m   6%\u001b[0m \u001b[38;2;249;38;114m━━━\u001b[0m\u001b[38;2;249;38;114m╸\u001b[0m\u001b[38;5;237m━━━━━━━━━━━━━━━━━━━━━━━━━━━━━━━━━━━━━━━━━━━━━━━━━━━━\u001b[0m \u001b[32m62,656/1,000,000 \u001b[0m [ \u001b[33m0:00:15\u001b[0m < \u001b[36m0:03:27\u001b[0m , \u001b[31m4,532 it/s\u001b[0m ]"
      ]
     },
     "metadata": {},
     "output_type": "display_data"
    },
    {
     "data": {
      "text/html": [
       "<pre style=\"white-space:pre;overflow-x:auto;line-height:normal;font-family:Menlo,'DejaVu Sans Mono',consolas,'Courier New',monospace\">\r",
       "\u001b[2KEpisode length: 999.00 +/- 0.00\n",
       "<span style=\"color: #800080; text-decoration-color: #800080\">   6%</span> <span style=\"color: #f92672; text-decoration-color: #f92672\">━━━╸</span><span style=\"color: #3a3a3a; text-decoration-color: #3a3a3a\">━━━━━━━━━━━━━━━━━━━━━━━━━━━━━━━━━━━━━━━━━━━━━━━━━━━━</span> <span style=\"color: #008000; text-decoration-color: #008000\">62,656/1,000,000 </span> [ <span style=\"color: #808000; text-decoration-color: #808000\">0:00:15</span> &lt; <span style=\"color: #008080; text-decoration-color: #008080\">0:03:27</span> , <span style=\"color: #800000; text-decoration-color: #800000\">4,532 it/s</span> ]</pre>\n"
      ],
      "text/plain": [
       "\r",
       "\u001b[2KEpisode length: 999.00 +/- 0.00\n",
       "\u001b[35m   6%\u001b[0m \u001b[38;2;249;38;114m━━━\u001b[0m\u001b[38;2;249;38;114m╸\u001b[0m\u001b[38;5;237m━━━━━━━━━━━━━━━━━━━━━━━━━━━━━━━━━━━━━━━━━━━━━━━━━━━━\u001b[0m \u001b[32m62,656/1,000,000 \u001b[0m [ \u001b[33m0:00:15\u001b[0m < \u001b[36m0:03:27\u001b[0m , \u001b[31m4,532 it/s\u001b[0m ]"
      ]
     },
     "metadata": {},
     "output_type": "display_data"
    },
    {
     "name": "stdout",
     "output_type": "stream",
     "text": [
      "-------------------------------------------\n",
      "| eval/                   |               |\n",
      "|    mean_ep_length       | 999           |\n",
      "|    mean_reward          | -61           |\n",
      "| time/                   |               |\n",
      "|    total_timesteps      | 64000         |\n",
      "| train/                  |               |\n",
      "|    approx_kl            | 0.00048430433 |\n",
      "|    clip_fraction        | 0.00171       |\n",
      "|    clip_range           | 0.2           |\n",
      "|    entropy_loss         | -2.48         |\n",
      "|    explained_variance   | 0.105         |\n",
      "|    learning_rate        | 7.77e-05      |\n",
      "|    loss                 | 2.65          |\n",
      "|    n_updates            | 70            |\n",
      "|    policy_gradient_loss | -0.000249     |\n",
      "|    std                  | 0.952         |\n",
      "|    value_loss           | 13.4          |\n",
      "-------------------------------------------\n",
      "---------------------------------\n",
      "| rollout/           |          |\n",
      "|    ep_len_mean     | 307      |\n",
      "|    ep_rew_mean     | 75.1     |\n",
      "| time/              |          |\n",
      "|    fps             | 4149     |\n",
      "|    iterations      | 8        |\n",
      "|    time_elapsed    | 15       |\n",
      "|    total_timesteps | 65536    |\n",
      "---------------------------------\n",
      "-----------------------------------------\n",
      "| rollout/                |             |\n",
      "|    ep_len_mean          | 274         |\n",
      "|    ep_rew_mean          | 77.5        |\n",
      "| time/                   |             |\n",
      "|    fps                  | 4326        |\n",
      "|    iterations           | 9           |\n",
      "|    time_elapsed         | 17          |\n",
      "|    total_timesteps      | 73728       |\n",
      "| train/                  |             |\n",
      "|    approx_kl            | 0.012794921 |\n",
      "|    clip_fraction        | 0.0449      |\n",
      "|    clip_range           | 0.2         |\n",
      "|    entropy_loss         | -2.55       |\n",
      "|    explained_variance   | 0.148       |\n",
      "|    learning_rate        | 7.77e-05    |\n",
      "|    loss                 | 15          |\n",
      "|    n_updates            | 80          |\n",
      "|    policy_gradient_loss | -0.00738    |\n",
      "|    std                  | 0.951       |\n",
      "|    value_loss           | 37.9        |\n",
      "-----------------------------------------\n"
     ]
    },
    {
     "data": {
      "text/html": [
       "<pre style=\"white-space:pre;overflow-x:auto;line-height:normal;font-family:Menlo,'DejaVu Sans Mono',consolas,'Courier New',monospace\">\r",
       "\u001b[2KEval num_timesteps=80000, episode_reward=-71.83 +/- 5.64\n",
       "<span style=\"color: #800080; text-decoration-color: #800080\">   8%</span> <span style=\"color: #f92672; text-decoration-color: #f92672\">━━━━</span><span style=\"color: #3a3a3a; text-decoration-color: #3a3a3a\">╺━━━━━━━━━━━━━━━━━━━━━━━━━━━━━━━━━━━━━━━━━━━━━━━━━━━</span> <span style=\"color: #008000; text-decoration-color: #008000\">79,168/1,000,000 </span> [ <span style=\"color: #808000; text-decoration-color: #808000\">0:00:19</span> &lt; <span style=\"color: #008080; text-decoration-color: #008080\">0:03:28</span> , <span style=\"color: #800000; text-decoration-color: #800000\">4,447 it/s</span> ]</pre>\n"
      ],
      "text/plain": [
       "\r",
       "\u001b[2KEval num_timesteps=80000, episode_reward=-71.83 +/- 5.64\n",
       "\u001b[35m   8%\u001b[0m \u001b[38;2;249;38;114m━━━━\u001b[0m\u001b[38;5;237m╺\u001b[0m\u001b[38;5;237m━━━━━━━━━━━━━━━━━━━━━━━━━━━━━━━━━━━━━━━━━━━━━━━━━━━\u001b[0m \u001b[32m79,168/1,000,000 \u001b[0m [ \u001b[33m0:00:19\u001b[0m < \u001b[36m0:03:28\u001b[0m , \u001b[31m4,447 it/s\u001b[0m ]"
      ]
     },
     "metadata": {},
     "output_type": "display_data"
    },
    {
     "data": {
      "text/html": [
       "<pre style=\"white-space:pre;overflow-x:auto;line-height:normal;font-family:Menlo,'DejaVu Sans Mono',consolas,'Courier New',monospace\">\r",
       "\u001b[2KEpisode length: 999.00 +/- 0.00\n",
       "<span style=\"color: #800080; text-decoration-color: #800080\">   8%</span> <span style=\"color: #f92672; text-decoration-color: #f92672\">━━━━</span><span style=\"color: #3a3a3a; text-decoration-color: #3a3a3a\">╺━━━━━━━━━━━━━━━━━━━━━━━━━━━━━━━━━━━━━━━━━━━━━━━━━━━</span> <span style=\"color: #008000; text-decoration-color: #008000\">79,168/1,000,000 </span> [ <span style=\"color: #808000; text-decoration-color: #808000\">0:00:19</span> &lt; <span style=\"color: #008080; text-decoration-color: #008080\">0:03:28</span> , <span style=\"color: #800000; text-decoration-color: #800000\">4,447 it/s</span> ]</pre>\n"
      ],
      "text/plain": [
       "\r",
       "\u001b[2KEpisode length: 999.00 +/- 0.00\n",
       "\u001b[35m   8%\u001b[0m \u001b[38;2;249;38;114m━━━━\u001b[0m\u001b[38;5;237m╺\u001b[0m\u001b[38;5;237m━━━━━━━━━━━━━━━━━━━━━━━━━━━━━━━━━━━━━━━━━━━━━━━━━━━\u001b[0m \u001b[32m79,168/1,000,000 \u001b[0m [ \u001b[33m0:00:19\u001b[0m < \u001b[36m0:03:28\u001b[0m , \u001b[31m4,447 it/s\u001b[0m ]"
      ]
     },
     "metadata": {},
     "output_type": "display_data"
    },
    {
     "name": "stdout",
     "output_type": "stream",
     "text": [
      "----------------------------------------\n",
      "| eval/                   |            |\n",
      "|    mean_ep_length       | 999        |\n",
      "|    mean_reward          | -71.8      |\n",
      "| time/                   |            |\n",
      "|    total_timesteps      | 80000      |\n",
      "| train/                  |            |\n",
      "|    approx_kl            | 0.00514522 |\n",
      "|    clip_fraction        | 0.0494     |\n",
      "|    clip_range           | 0.2        |\n",
      "|    entropy_loss         | -2.74      |\n",
      "|    explained_variance   | 0.234      |\n",
      "|    learning_rate        | 7.77e-05   |\n",
      "|    loss                 | 12.3       |\n",
      "|    n_updates            | 90         |\n",
      "|    policy_gradient_loss | -0.00487   |\n",
      "|    std                  | 0.946      |\n",
      "|    value_loss           | 13.3       |\n",
      "----------------------------------------\n",
      "---------------------------------\n",
      "| rollout/           |          |\n",
      "|    ep_len_mean     | 295      |\n",
      "|    ep_rew_mean     | 77.7     |\n",
      "| time/              |          |\n",
      "|    fps             | 4147     |\n",
      "|    iterations      | 10       |\n",
      "|    time_elapsed    | 19       |\n",
      "|    total_timesteps | 81920    |\n",
      "---------------------------------\n",
      "-----------------------------------------\n",
      "| rollout/                |             |\n",
      "|    ep_len_mean          | 232         |\n",
      "|    ep_rew_mean          | 81.9        |\n",
      "| time/                   |             |\n",
      "|    fps                  | 4286        |\n",
      "|    iterations           | 11          |\n",
      "|    time_elapsed         | 21          |\n",
      "|    total_timesteps      | 90112       |\n",
      "| train/                  |             |\n",
      "|    approx_kl            | 0.004399675 |\n",
      "|    clip_fraction        | 0.0472      |\n",
      "|    clip_range           | 0.2         |\n",
      "|    entropy_loss         | -2.66       |\n",
      "|    explained_variance   | 0.261       |\n",
      "|    learning_rate        | 7.77e-05    |\n",
      "|    loss                 | 2.72        |\n",
      "|    n_updates            | 100         |\n",
      "|    policy_gradient_loss | -0.0027     |\n",
      "|    std                  | 0.943       |\n",
      "|    value_loss           | 25.6        |\n",
      "-----------------------------------------\n"
     ]
    },
    {
     "data": {
      "text/html": [
       "<pre style=\"white-space:pre;overflow-x:auto;line-height:normal;font-family:Menlo,'DejaVu Sans Mono',consolas,'Courier New',monospace\">\r",
       "\u001b[2KEval num_timesteps=96000, episode_reward=-73.44 +/- 4.65\n",
       "<span style=\"color: #800080; text-decoration-color: #800080\">   9%</span> <span style=\"color: #f92672; text-decoration-color: #f92672\">━━━━━</span><span style=\"color: #3a3a3a; text-decoration-color: #3a3a3a\">╺━━━━━━━━━━━━━━━━━━━━━━━━━━━━━━━━━━━━━━━━━━━━━━━━━━</span> <span style=\"color: #008000; text-decoration-color: #008000\">94,240/1,000,000 </span> [ <span style=\"color: #808000; text-decoration-color: #808000\">0:00:23</span> &lt; <span style=\"color: #008080; text-decoration-color: #008080\">0:03:29</span> , <span style=\"color: #800000; text-decoration-color: #800000\">4,338 it/s</span> ]</pre>\n"
      ],
      "text/plain": [
       "\r",
       "\u001b[2KEval num_timesteps=96000, episode_reward=-73.44 +/- 4.65\n",
       "\u001b[35m   9%\u001b[0m \u001b[38;2;249;38;114m━━━━━\u001b[0m\u001b[38;5;237m╺\u001b[0m\u001b[38;5;237m━━━━━━━━━━━━━━━━━━━━━━━━━━━━━━━━━━━━━━━━━━━━━━━━━━\u001b[0m \u001b[32m94,240/1,000,000 \u001b[0m [ \u001b[33m0:00:23\u001b[0m < \u001b[36m0:03:29\u001b[0m , \u001b[31m4,338 it/s\u001b[0m ]"
      ]
     },
     "metadata": {},
     "output_type": "display_data"
    },
    {
     "data": {
      "text/html": [
       "<pre style=\"white-space:pre;overflow-x:auto;line-height:normal;font-family:Menlo,'DejaVu Sans Mono',consolas,'Courier New',monospace\">\r",
       "\u001b[2KEpisode length: 999.00 +/- 0.00\n",
       "<span style=\"color: #800080; text-decoration-color: #800080\">   9%</span> <span style=\"color: #f92672; text-decoration-color: #f92672\">━━━━━</span><span style=\"color: #3a3a3a; text-decoration-color: #3a3a3a\">╺━━━━━━━━━━━━━━━━━━━━━━━━━━━━━━━━━━━━━━━━━━━━━━━━━━</span> <span style=\"color: #008000; text-decoration-color: #008000\">94,240/1,000,000 </span> [ <span style=\"color: #808000; text-decoration-color: #808000\">0:00:23</span> &lt; <span style=\"color: #008080; text-decoration-color: #008080\">0:03:29</span> , <span style=\"color: #800000; text-decoration-color: #800000\">4,338 it/s</span> ]</pre>\n"
      ],
      "text/plain": [
       "\r",
       "\u001b[2KEpisode length: 999.00 +/- 0.00\n",
       "\u001b[35m   9%\u001b[0m \u001b[38;2;249;38;114m━━━━━\u001b[0m\u001b[38;5;237m╺\u001b[0m\u001b[38;5;237m━━━━━━━━━━━━━━━━━━━━━━━━━━━━━━━━━━━━━━━━━━━━━━━━━━\u001b[0m \u001b[32m94,240/1,000,000 \u001b[0m [ \u001b[33m0:00:23\u001b[0m < \u001b[36m0:03:29\u001b[0m , \u001b[31m4,338 it/s\u001b[0m ]"
      ]
     },
     "metadata": {},
     "output_type": "display_data"
    },
    {
     "name": "stdout",
     "output_type": "stream",
     "text": [
      "------------------------------------------\n",
      "| eval/                   |              |\n",
      "|    mean_ep_length       | 999          |\n",
      "|    mean_reward          | -73.4        |\n",
      "| time/                   |              |\n",
      "|    total_timesteps      | 96000        |\n",
      "| train/                  |              |\n",
      "|    approx_kl            | 0.0012335032 |\n",
      "|    clip_fraction        | 0.00272      |\n",
      "|    clip_range           | 0.2          |\n",
      "|    entropy_loss         | -2.58        |\n",
      "|    explained_variance   | 0.216        |\n",
      "|    learning_rate        | 7.77e-05     |\n",
      "|    loss                 | 31.4         |\n",
      "|    n_updates            | 110          |\n",
      "|    policy_gradient_loss | -0.00233     |\n",
      "|    std                  | 0.94         |\n",
      "|    value_loss           | 50.3         |\n",
      "------------------------------------------\n",
      "---------------------------------\n",
      "| rollout/           |          |\n",
      "|    ep_len_mean     | 245      |\n",
      "|    ep_rew_mean     | 80.8     |\n",
      "| time/              |          |\n",
      "|    fps             | 4144     |\n",
      "|    iterations      | 12       |\n",
      "|    time_elapsed    | 23       |\n",
      "|    total_timesteps | 98304    |\n",
      "---------------------------------\n",
      "-----------------------------------------\n",
      "| rollout/                |             |\n",
      "|    ep_len_mean          | 233         |\n",
      "|    ep_rew_mean          | 81.7        |\n",
      "| time/                   |             |\n",
      "|    fps                  | 4265        |\n",
      "|    iterations           | 13          |\n",
      "|    time_elapsed         | 24          |\n",
      "|    total_timesteps      | 106496      |\n",
      "| train/                  |             |\n",
      "|    approx_kl            | 0.010420103 |\n",
      "|    clip_fraction        | 0.0598      |\n",
      "|    clip_range           | 0.2         |\n",
      "|    entropy_loss         | -2.54       |\n",
      "|    explained_variance   | 0.337       |\n",
      "|    learning_rate        | 7.77e-05    |\n",
      "|    loss                 | 8.82        |\n",
      "|    n_updates            | 120         |\n",
      "|    policy_gradient_loss | -0.00813    |\n",
      "|    std                  | 0.937       |\n",
      "|    value_loss           | 19.8        |\n",
      "-----------------------------------------\n"
     ]
    },
    {
     "data": {
      "text/html": [
       "<pre style=\"white-space:pre;overflow-x:auto;line-height:normal;font-family:Menlo,'DejaVu Sans Mono',consolas,'Courier New',monospace\">\r",
       "\u001b[2KEval num_timesteps=112000, episode_reward=-51.65 +/- 50.53\n",
       "<span style=\"color: #800080; text-decoration-color: #800080\">  11%</span> <span style=\"color: #f92672; text-decoration-color: #f92672\">━━━━━━</span><span style=\"color: #3a3a3a; text-decoration-color: #3a3a3a\">╺━━━━━━━━━━━━━━━━━━━━━━━━━━━━━━━━━━━━━━━━━━━━━━━━</span> <span style=\"color: #008000; text-decoration-color: #008000\">111,392/1,000,000 </span> [ <span style=\"color: #808000; text-decoration-color: #808000\">0:00:27</span> &lt; <span style=\"color: #008080; text-decoration-color: #008080\">0:03:25</span> , <span style=\"color: #800000; text-decoration-color: #800000\">4,340 it/s</span> ]</pre>\n"
      ],
      "text/plain": [
       "\r",
       "\u001b[2KEval num_timesteps=112000, episode_reward=-51.65 +/- 50.53\n",
       "\u001b[35m  11%\u001b[0m \u001b[38;2;249;38;114m━━━━━━\u001b[0m\u001b[38;5;237m╺\u001b[0m\u001b[38;5;237m━━━━━━━━━━━━━━━━━━━━━━━━━━━━━━━━━━━━━━━━━━━━━━━━\u001b[0m \u001b[32m111,392/1,000,000 \u001b[0m [ \u001b[33m0:00:27\u001b[0m < \u001b[36m0:03:25\u001b[0m , \u001b[31m4,340 it/s\u001b[0m ]"
      ]
     },
     "metadata": {},
     "output_type": "display_data"
    },
    {
     "data": {
      "text/html": [
       "<pre style=\"white-space:pre;overflow-x:auto;line-height:normal;font-family:Menlo,'DejaVu Sans Mono',consolas,'Courier New',monospace\">\r",
       "\u001b[2KEpisode length: 961.20 +/- 75.60\n",
       "<span style=\"color: #800080; text-decoration-color: #800080\">  11%</span> <span style=\"color: #f92672; text-decoration-color: #f92672\">━━━━━━</span><span style=\"color: #3a3a3a; text-decoration-color: #3a3a3a\">╺━━━━━━━━━━━━━━━━━━━━━━━━━━━━━━━━━━━━━━━━━━━━━━━━</span> <span style=\"color: #008000; text-decoration-color: #008000\">111,392/1,000,000 </span> [ <span style=\"color: #808000; text-decoration-color: #808000\">0:00:27</span> &lt; <span style=\"color: #008080; text-decoration-color: #008080\">0:03:25</span> , <span style=\"color: #800000; text-decoration-color: #800000\">4,340 it/s</span> ]</pre>\n"
      ],
      "text/plain": [
       "\r",
       "\u001b[2KEpisode length: 961.20 +/- 75.60\n",
       "\u001b[35m  11%\u001b[0m \u001b[38;2;249;38;114m━━━━━━\u001b[0m\u001b[38;5;237m╺\u001b[0m\u001b[38;5;237m━━━━━━━━━━━━━━━━━━━━━━━━━━━━━━━━━━━━━━━━━━━━━━━━\u001b[0m \u001b[32m111,392/1,000,000 \u001b[0m [ \u001b[33m0:00:27\u001b[0m < \u001b[36m0:03:25\u001b[0m , \u001b[31m4,340 it/s\u001b[0m ]"
      ]
     },
     "metadata": {},
     "output_type": "display_data"
    },
    {
     "name": "stdout",
     "output_type": "stream",
     "text": [
      "----------------------------------------\n",
      "| eval/                   |            |\n",
      "|    mean_ep_length       | 961        |\n",
      "|    mean_reward          | -51.7      |\n",
      "| time/                   |            |\n",
      "|    total_timesteps      | 112000     |\n",
      "| train/                  |            |\n",
      "|    approx_kl            | 0.03204587 |\n",
      "|    clip_fraction        | 0.117      |\n",
      "|    clip_range           | 0.2        |\n",
      "|    entropy_loss         | -2.76      |\n",
      "|    explained_variance   | 0.381      |\n",
      "|    learning_rate        | 7.77e-05   |\n",
      "|    loss                 | 5.12       |\n",
      "|    n_updates            | 130        |\n",
      "|    policy_gradient_loss | -0.00359   |\n",
      "|    std                  | 0.925      |\n",
      "|    value_loss           | 24.8       |\n",
      "----------------------------------------\n",
      "---------------------------------\n",
      "| rollout/           |          |\n",
      "|    ep_len_mean     | 260      |\n",
      "|    ep_rew_mean     | 79.1     |\n",
      "| time/              |          |\n",
      "|    fps             | 4146     |\n",
      "|    iterations      | 14       |\n",
      "|    time_elapsed    | 27       |\n",
      "|    total_timesteps | 114688   |\n",
      "---------------------------------\n",
      "------------------------------------------\n",
      "| rollout/                |              |\n",
      "|    ep_len_mean          | 264          |\n",
      "|    ep_rew_mean          | 79           |\n",
      "| time/                   |              |\n",
      "|    fps                  | 4255         |\n",
      "|    iterations           | 15           |\n",
      "|    time_elapsed         | 28           |\n",
      "|    total_timesteps      | 122880       |\n",
      "| train/                  |              |\n",
      "|    approx_kl            | 0.0033071744 |\n",
      "|    clip_fraction        | 0.014        |\n",
      "|    clip_range           | 0.2          |\n",
      "|    entropy_loss         | -2.69        |\n",
      "|    explained_variance   | 0.367        |\n",
      "|    learning_rate        | 7.77e-05     |\n",
      "|    loss                 | 21.7         |\n",
      "|    n_updates            | 140          |\n",
      "|    policy_gradient_loss | 0.000438     |\n",
      "|    std                  | 0.921        |\n",
      "|    value_loss           | 47.4         |\n",
      "------------------------------------------\n"
     ]
    },
    {
     "data": {
      "text/html": [
       "<pre style=\"white-space:pre;overflow-x:auto;line-height:normal;font-family:Menlo,'DejaVu Sans Mono',consolas,'Courier New',monospace\">\r",
       "\u001b[2KEval num_timesteps=128000, episode_reward=-67.14 +/- 60.21\n",
       "<span style=\"color: #800080; text-decoration-color: #800080\">  13%</span> <span style=\"color: #f92672; text-decoration-color: #f92672\">━━━━━━╸</span><span style=\"color: #3a3a3a; text-decoration-color: #3a3a3a\">━━━━━━━━━━━━━━━━━━━━━━━━━━━━━━━━━━━━━━━━━━━━━━━━</span> <span style=\"color: #008000; text-decoration-color: #008000\">126,976/1,000,000 </span> [ <span style=\"color: #808000; text-decoration-color: #808000\">0:00:31</span> &lt; <span style=\"color: #008080; text-decoration-color: #008080\">0:03:24</span> , <span style=\"color: #800000; text-decoration-color: #800000\">4,297 it/s</span> ]</pre>\n"
      ],
      "text/plain": [
       "\r",
       "\u001b[2KEval num_timesteps=128000, episode_reward=-67.14 +/- 60.21\n",
       "\u001b[35m  13%\u001b[0m \u001b[38;2;249;38;114m━━━━━━\u001b[0m\u001b[38;2;249;38;114m╸\u001b[0m\u001b[38;5;237m━━━━━━━━━━━━━━━━━━━━━━━━━━━━━━━━━━━━━━━━━━━━━━━━\u001b[0m \u001b[32m126,976/1,000,000 \u001b[0m [ \u001b[33m0:00:31\u001b[0m < \u001b[36m0:03:24\u001b[0m , \u001b[31m4,297 it/s\u001b[0m ]"
      ]
     },
     "metadata": {},
     "output_type": "display_data"
    },
    {
     "data": {
      "text/html": [
       "<pre style=\"white-space:pre;overflow-x:auto;line-height:normal;font-family:Menlo,'DejaVu Sans Mono',consolas,'Courier New',monospace\">\r",
       "\u001b[2KEpisode length: 925.80 +/- 146.40\n",
       "<span style=\"color: #800080; text-decoration-color: #800080\">  13%</span> <span style=\"color: #f92672; text-decoration-color: #f92672\">━━━━━━╸</span><span style=\"color: #3a3a3a; text-decoration-color: #3a3a3a\">━━━━━━━━━━━━━━━━━━━━━━━━━━━━━━━━━━━━━━━━━━━━━━━━</span> <span style=\"color: #008000; text-decoration-color: #008000\">126,976/1,000,000 </span> [ <span style=\"color: #808000; text-decoration-color: #808000\">0:00:31</span> &lt; <span style=\"color: #008080; text-decoration-color: #008080\">0:03:24</span> , <span style=\"color: #800000; text-decoration-color: #800000\">4,297 it/s</span> ]</pre>\n"
      ],
      "text/plain": [
       "\r",
       "\u001b[2KEpisode length: 925.80 +/- 146.40\n",
       "\u001b[35m  13%\u001b[0m \u001b[38;2;249;38;114m━━━━━━\u001b[0m\u001b[38;2;249;38;114m╸\u001b[0m\u001b[38;5;237m━━━━━━━━━━━━━━━━━━━━━━━━━━━━━━━━━━━━━━━━━━━━━━━━\u001b[0m \u001b[32m126,976/1,000,000 \u001b[0m [ \u001b[33m0:00:31\u001b[0m < \u001b[36m0:03:24\u001b[0m , \u001b[31m4,297 it/s\u001b[0m ]"
      ]
     },
     "metadata": {},
     "output_type": "display_data"
    },
    {
     "name": "stdout",
     "output_type": "stream",
     "text": [
      "-----------------------------------------\n",
      "| eval/                   |             |\n",
      "|    mean_ep_length       | 926         |\n",
      "|    mean_reward          | -67.1       |\n",
      "| time/                   |             |\n",
      "|    total_timesteps      | 128000      |\n",
      "| train/                  |             |\n",
      "|    approx_kl            | 0.019567013 |\n",
      "|    clip_fraction        | 0.0891      |\n",
      "|    clip_range           | 0.2         |\n",
      "|    entropy_loss         | -2.77       |\n",
      "|    explained_variance   | 0.516       |\n",
      "|    learning_rate        | 7.77e-05    |\n",
      "|    loss                 | 6.05        |\n",
      "|    n_updates            | 150         |\n",
      "|    policy_gradient_loss | -0.00703    |\n",
      "|    std                  | 0.915       |\n",
      "|    value_loss           | 18.6        |\n",
      "-----------------------------------------\n",
      "---------------------------------\n",
      "| rollout/           |          |\n",
      "|    ep_len_mean     | 282      |\n",
      "|    ep_rew_mean     | 77       |\n",
      "| time/              |          |\n",
      "|    fps             | 4145     |\n",
      "|    iterations      | 16       |\n",
      "|    time_elapsed    | 31       |\n",
      "|    total_timesteps | 131072   |\n",
      "---------------------------------\n",
      "-----------------------------------------\n",
      "| rollout/                |             |\n",
      "|    ep_len_mean          | 279         |\n",
      "|    ep_rew_mean          | 77.1        |\n",
      "| time/                   |             |\n",
      "|    fps                  | 4238        |\n",
      "|    iterations           | 17          |\n",
      "|    time_elapsed         | 32          |\n",
      "|    total_timesteps      | 139264      |\n",
      "| train/                  |             |\n",
      "|    approx_kl            | 0.004650687 |\n",
      "|    clip_fraction        | 0.0113      |\n",
      "|    clip_range           | 0.2         |\n",
      "|    entropy_loss         | -2.69       |\n",
      "|    explained_variance   | 0.446       |\n",
      "|    learning_rate        | 7.77e-05    |\n",
      "|    loss                 | 12.5        |\n",
      "|    n_updates            | 160         |\n",
      "|    policy_gradient_loss | -0.00473    |\n",
      "|    std                  | 0.911       |\n",
      "|    value_loss           | 35.5        |\n",
      "-----------------------------------------\n"
     ]
    },
    {
     "data": {
      "text/html": [
       "<pre style=\"white-space:pre;overflow-x:auto;line-height:normal;font-family:Menlo,'DejaVu Sans Mono',consolas,'Courier New',monospace\">\r",
       "\u001b[2KEval num_timesteps=144000, episode_reward=-30.73 +/- 72.59\n",
       "<span style=\"color: #800080; text-decoration-color: #800080\">  14%</span> <span style=\"color: #f92672; text-decoration-color: #f92672\">━━━━━━━╸</span><span style=\"color: #3a3a3a; text-decoration-color: #3a3a3a\">━━━━━━━━━━━━━━━━━━━━━━━━━━━━━━━━━━━━━━━━━━━━━━━</span> <span style=\"color: #008000; text-decoration-color: #008000\">143,680/1,000,000 </span> [ <span style=\"color: #808000; text-decoration-color: #808000\">0:00:35</span> &lt; <span style=\"color: #008080; text-decoration-color: #008080\">0:03:20</span> , <span style=\"color: #800000; text-decoration-color: #800000\">4,299 it/s</span> ]</pre>\n"
      ],
      "text/plain": [
       "\r",
       "\u001b[2KEval num_timesteps=144000, episode_reward=-30.73 +/- 72.59\n",
       "\u001b[35m  14%\u001b[0m \u001b[38;2;249;38;114m━━━━━━━\u001b[0m\u001b[38;2;249;38;114m╸\u001b[0m\u001b[38;5;237m━━━━━━━━━━━━━━━━━━━━━━━━━━━━━━━━━━━━━━━━━━━━━━━\u001b[0m \u001b[32m143,680/1,000,000 \u001b[0m [ \u001b[33m0:00:35\u001b[0m < \u001b[36m0:03:20\u001b[0m , \u001b[31m4,299 it/s\u001b[0m ]"
      ]
     },
     "metadata": {},
     "output_type": "display_data"
    },
    {
     "data": {
      "text/html": [
       "<pre style=\"white-space:pre;overflow-x:auto;line-height:normal;font-family:Menlo,'DejaVu Sans Mono',consolas,'Courier New',monospace\">\r",
       "\u001b[2KEpisode length: 834.60 +/- 201.38\n",
       "<span style=\"color: #800080; text-decoration-color: #800080\">  14%</span> <span style=\"color: #f92672; text-decoration-color: #f92672\">━━━━━━━╸</span><span style=\"color: #3a3a3a; text-decoration-color: #3a3a3a\">━━━━━━━━━━━━━━━━━━━━━━━━━━━━━━━━━━━━━━━━━━━━━━━</span> <span style=\"color: #008000; text-decoration-color: #008000\">143,680/1,000,000 </span> [ <span style=\"color: #808000; text-decoration-color: #808000\">0:00:35</span> &lt; <span style=\"color: #008080; text-decoration-color: #008080\">0:03:20</span> , <span style=\"color: #800000; text-decoration-color: #800000\">4,299 it/s</span> ]</pre>\n"
      ],
      "text/plain": [
       "\r",
       "\u001b[2KEpisode length: 834.60 +/- 201.38\n",
       "\u001b[35m  14%\u001b[0m \u001b[38;2;249;38;114m━━━━━━━\u001b[0m\u001b[38;2;249;38;114m╸\u001b[0m\u001b[38;5;237m━━━━━━━━━━━━━━━━━━━━━━━━━━━━━━━━━━━━━━━━━━━━━━━\u001b[0m \u001b[32m143,680/1,000,000 \u001b[0m [ \u001b[33m0:00:35\u001b[0m < \u001b[36m0:03:20\u001b[0m , \u001b[31m4,299 it/s\u001b[0m ]"
      ]
     },
     "metadata": {},
     "output_type": "display_data"
    },
    {
     "name": "stdout",
     "output_type": "stream",
     "text": [
      "------------------------------------------\n",
      "| eval/                   |              |\n",
      "|    mean_ep_length       | 835          |\n",
      "|    mean_reward          | -30.7        |\n",
      "| time/                   |              |\n",
      "|    total_timesteps      | 144000       |\n",
      "| train/                  |              |\n",
      "|    approx_kl            | 0.0031074793 |\n",
      "|    clip_fraction        | 0.0145       |\n",
      "|    clip_range           | 0.2          |\n",
      "|    entropy_loss         | -2.67        |\n",
      "|    explained_variance   | 0.592        |\n",
      "|    learning_rate        | 7.77e-05     |\n",
      "|    loss                 | 3.2          |\n",
      "|    n_updates            | 170          |\n",
      "|    policy_gradient_loss | -0.0049      |\n",
      "|    std                  | 0.901        |\n",
      "|    value_loss           | 6.29         |\n",
      "------------------------------------------\n",
      "---------------------------------\n",
      "| rollout/           |          |\n",
      "|    ep_len_mean     | 317      |\n",
      "|    ep_rew_mean     | 73.2     |\n",
      "| time/              |          |\n",
      "|    fps             | 4146     |\n",
      "|    iterations      | 18       |\n",
      "|    time_elapsed    | 35       |\n",
      "|    total_timesteps | 147456   |\n",
      "---------------------------------\n",
      "------------------------------------------\n",
      "| rollout/                |              |\n",
      "|    ep_len_mean          | 326          |\n",
      "|    ep_rew_mean          | 72.7         |\n",
      "| time/                   |              |\n",
      "|    fps                  | 4227         |\n",
      "|    iterations           | 19           |\n",
      "|    time_elapsed         | 36           |\n",
      "|    total_timesteps      | 155648       |\n",
      "| train/                  |              |\n",
      "|    approx_kl            | 0.0075231045 |\n",
      "|    clip_fraction        | 0.0781       |\n",
      "|    clip_range           | 0.2          |\n",
      "|    entropy_loss         | -2.57        |\n",
      "|    explained_variance   | 0.455        |\n",
      "|    learning_rate        | 7.77e-05     |\n",
      "|    loss                 | 8.7          |\n",
      "|    n_updates            | 180          |\n",
      "|    policy_gradient_loss | -0.00509     |\n",
      "|    std                  | 0.896        |\n",
      "|    value_loss           | 40           |\n",
      "------------------------------------------\n"
     ]
    },
    {
     "data": {
      "text/html": [
       "<pre style=\"white-space:pre;overflow-x:auto;line-height:normal;font-family:Menlo,'DejaVu Sans Mono',consolas,'Courier New',monospace\">\r",
       "\u001b[2KEval num_timesteps=160000, episode_reward=30.44 +/- 57.41\n",
       "<span style=\"color: #800080; text-decoration-color: #800080\">  16%</span> <span style=\"color: #f92672; text-decoration-color: #f92672\">━━━━━━━━╸</span><span style=\"color: #3a3a3a; text-decoration-color: #3a3a3a\">━━━━━━━━━━━━━━━━━━━━━━━━━━━━━━━━━━━━━━━━━━━━━━</span> <span style=\"color: #008000; text-decoration-color: #008000\">158,528/1,000,000 </span> [ <span style=\"color: #808000; text-decoration-color: #808000\">0:00:39</span> &lt; <span style=\"color: #008080; text-decoration-color: #008080\">0:03:20</span> , <span style=\"color: #800000; text-decoration-color: #800000\">4,216 it/s</span> ]</pre>\n"
      ],
      "text/plain": [
       "\r",
       "\u001b[2KEval num_timesteps=160000, episode_reward=30.44 +/- 57.41\n",
       "\u001b[35m  16%\u001b[0m \u001b[38;2;249;38;114m━━━━━━━━\u001b[0m\u001b[38;2;249;38;114m╸\u001b[0m\u001b[38;5;237m━━━━━━━━━━━━━━━━━━━━━━━━━━━━━━━━━━━━━━━━━━━━━━\u001b[0m \u001b[32m158,528/1,000,000 \u001b[0m [ \u001b[33m0:00:39\u001b[0m < \u001b[36m0:03:20\u001b[0m , \u001b[31m4,216 it/s\u001b[0m ]"
      ]
     },
     "metadata": {},
     "output_type": "display_data"
    },
    {
     "data": {
      "text/html": [
       "<pre style=\"white-space:pre;overflow-x:auto;line-height:normal;font-family:Menlo,'DejaVu Sans Mono',consolas,'Courier New',monospace\">\r",
       "\u001b[2KEpisode length: 634.40 +/- 195.22\n",
       "<span style=\"color: #800080; text-decoration-color: #800080\">  16%</span> <span style=\"color: #f92672; text-decoration-color: #f92672\">━━━━━━━━╸</span><span style=\"color: #3a3a3a; text-decoration-color: #3a3a3a\">━━━━━━━━━━━━━━━━━━━━━━━━━━━━━━━━━━━━━━━━━━━━━━</span> <span style=\"color: #008000; text-decoration-color: #008000\">158,528/1,000,000 </span> [ <span style=\"color: #808000; text-decoration-color: #808000\">0:00:39</span> &lt; <span style=\"color: #008080; text-decoration-color: #008080\">0:03:20</span> , <span style=\"color: #800000; text-decoration-color: #800000\">4,216 it/s</span> ]</pre>\n"
      ],
      "text/plain": [
       "\r",
       "\u001b[2KEpisode length: 634.40 +/- 195.22\n",
       "\u001b[35m  16%\u001b[0m \u001b[38;2;249;38;114m━━━━━━━━\u001b[0m\u001b[38;2;249;38;114m╸\u001b[0m\u001b[38;5;237m━━━━━━━━━━━━━━━━━━━━━━━━━━━━━━━━━━━━━━━━━━━━━━\u001b[0m \u001b[32m158,528/1,000,000 \u001b[0m [ \u001b[33m0:00:39\u001b[0m < \u001b[36m0:03:20\u001b[0m , \u001b[31m4,216 it/s\u001b[0m ]"
      ]
     },
     "metadata": {},
     "output_type": "display_data"
    },
    {
     "name": "stdout",
     "output_type": "stream",
     "text": [
      "------------------------------------------\n",
      "| eval/                   |              |\n",
      "|    mean_ep_length       | 634          |\n",
      "|    mean_reward          | 30.4         |\n",
      "| time/                   |              |\n",
      "|    total_timesteps      | 160000       |\n",
      "| train/                  |              |\n",
      "|    approx_kl            | 0.0073532127 |\n",
      "|    clip_fraction        | 0.0495       |\n",
      "|    clip_range           | 0.2          |\n",
      "|    entropy_loss         | -2.67        |\n",
      "|    explained_variance   | 0.547        |\n",
      "|    learning_rate        | 7.77e-05     |\n",
      "|    loss                 | 11.4         |\n",
      "|    n_updates            | 190          |\n",
      "|    policy_gradient_loss | -0.00794     |\n",
      "|    std                  | 0.889        |\n",
      "|    value_loss           | 22.9         |\n",
      "------------------------------------------\n"
     ]
    },
    {
     "data": {
      "text/html": [
       "<pre style=\"white-space:pre;overflow-x:auto;line-height:normal;font-family:Menlo,'DejaVu Sans Mono',consolas,'Courier New',monospace\">\r",
       "\u001b[2KNew best mean reward!\n",
       "<span style=\"color: #800080; text-decoration-color: #800080\">  16%</span> <span style=\"color: #f92672; text-decoration-color: #f92672\">━━━━━━━━╸</span><span style=\"color: #3a3a3a; text-decoration-color: #3a3a3a\">━━━━━━━━━━━━━━━━━━━━━━━━━━━━━━━━━━━━━━━━━━━━━━</span> <span style=\"color: #008000; text-decoration-color: #008000\">158,528/1,000,000 </span> [ <span style=\"color: #808000; text-decoration-color: #808000\">0:00:39</span> &lt; <span style=\"color: #008080; text-decoration-color: #008080\">0:03:20</span> , <span style=\"color: #800000; text-decoration-color: #800000\">4,216 it/s</span> ]</pre>\n"
      ],
      "text/plain": [
       "\r",
       "\u001b[2KNew best mean reward!\n",
       "\u001b[35m  16%\u001b[0m \u001b[38;2;249;38;114m━━━━━━━━\u001b[0m\u001b[38;2;249;38;114m╸\u001b[0m\u001b[38;5;237m━━━━━━━━━━━━━━━━━━━━━━━━━━━━━━━━━━━━━━━━━━━━━━\u001b[0m \u001b[32m158,528/1,000,000 \u001b[0m [ \u001b[33m0:00:39\u001b[0m < \u001b[36m0:03:20\u001b[0m , \u001b[31m4,216 it/s\u001b[0m ]"
      ]
     },
     "metadata": {},
     "output_type": "display_data"
    },
    {
     "name": "stdout",
     "output_type": "stream",
     "text": [
      "---------------------------------\n",
      "| rollout/           |          |\n",
      "|    ep_len_mean     | 364      |\n",
      "|    ep_rew_mean     | 67.7     |\n",
      "| time/              |          |\n",
      "|    fps             | 4148     |\n",
      "|    iterations      | 20       |\n",
      "|    time_elapsed    | 39       |\n",
      "|    total_timesteps | 163840   |\n",
      "---------------------------------\n",
      "------------------------------------------\n",
      "| rollout/                |              |\n",
      "|    ep_len_mean          | 376          |\n",
      "|    ep_rew_mean          | 64           |\n",
      "| time/                   |              |\n",
      "|    fps                  | 4225         |\n",
      "|    iterations           | 21           |\n",
      "|    time_elapsed         | 40           |\n",
      "|    total_timesteps      | 172032       |\n",
      "| train/                  |              |\n",
      "|    approx_kl            | 0.0038089647 |\n",
      "|    clip_fraction        | 0.0083       |\n",
      "|    clip_range           | 0.2          |\n",
      "|    entropy_loss         | -2.67        |\n",
      "|    explained_variance   | 0.522        |\n",
      "|    learning_rate        | 7.77e-05     |\n",
      "|    loss                 | 24.9         |\n",
      "|    n_updates            | 200          |\n",
      "|    policy_gradient_loss | -0.00416     |\n",
      "|    std                  | 0.882        |\n",
      "|    value_loss           | 67.2         |\n",
      "------------------------------------------\n"
     ]
    },
    {
     "data": {
      "text/html": [
       "<pre style=\"white-space:pre;overflow-x:auto;line-height:normal;font-family:Menlo,'DejaVu Sans Mono',consolas,'Courier New',monospace\">\r",
       "\u001b[2KEval num_timesteps=176000, episode_reward=32.20 +/- 68.06\n",
       "<span style=\"color: #800080; text-decoration-color: #800080\">  18%</span> <span style=\"color: #f92672; text-decoration-color: #f92672\">━━━━━━━━━╸</span><span style=\"color: #3a3a3a; text-decoration-color: #3a3a3a\">━━━━━━━━━━━━━━━━━━━━━━━━━━━━━━━━━━━━━━━━━━━━━</span> <span style=\"color: #008000; text-decoration-color: #008000\">175,680/1,000,000 </span> [ <span style=\"color: #808000; text-decoration-color: #808000\">0:00:43</span> &lt; <span style=\"color: #008080; text-decoration-color: #008080\">0:03:14</span> , <span style=\"color: #800000; text-decoration-color: #800000\">4,259 it/s</span> ]</pre>\n"
      ],
      "text/plain": [
       "\r",
       "\u001b[2KEval num_timesteps=176000, episode_reward=32.20 +/- 68.06\n",
       "\u001b[35m  18%\u001b[0m \u001b[38;2;249;38;114m━━━━━━━━━\u001b[0m\u001b[38;2;249;38;114m╸\u001b[0m\u001b[38;5;237m━━━━━━━━━━━━━━━━━━━━━━━━━━━━━━━━━━━━━━━━━━━━━\u001b[0m \u001b[32m175,680/1,000,000 \u001b[0m [ \u001b[33m0:00:43\u001b[0m < \u001b[36m0:03:14\u001b[0m , \u001b[31m4,259 it/s\u001b[0m ]"
      ]
     },
     "metadata": {},
     "output_type": "display_data"
    },
    {
     "data": {
      "text/html": [
       "<pre style=\"white-space:pre;overflow-x:auto;line-height:normal;font-family:Menlo,'DejaVu Sans Mono',consolas,'Courier New',monospace\">\r",
       "\u001b[2KEpisode length: 556.80 +/- 289.97\n",
       "<span style=\"color: #800080; text-decoration-color: #800080\">  18%</span> <span style=\"color: #f92672; text-decoration-color: #f92672\">━━━━━━━━━╸</span><span style=\"color: #3a3a3a; text-decoration-color: #3a3a3a\">━━━━━━━━━━━━━━━━━━━━━━━━━━━━━━━━━━━━━━━━━━━━━</span> <span style=\"color: #008000; text-decoration-color: #008000\">175,680/1,000,000 </span> [ <span style=\"color: #808000; text-decoration-color: #808000\">0:00:43</span> &lt; <span style=\"color: #008080; text-decoration-color: #008080\">0:03:14</span> , <span style=\"color: #800000; text-decoration-color: #800000\">4,259 it/s</span> ]</pre>\n"
      ],
      "text/plain": [
       "\r",
       "\u001b[2KEpisode length: 556.80 +/- 289.97\n",
       "\u001b[35m  18%\u001b[0m \u001b[38;2;249;38;114m━━━━━━━━━\u001b[0m\u001b[38;2;249;38;114m╸\u001b[0m\u001b[38;5;237m━━━━━━━━━━━━━━━━━━━━━━━━━━━━━━━━━━━━━━━━━━━━━\u001b[0m \u001b[32m175,680/1,000,000 \u001b[0m [ \u001b[33m0:00:43\u001b[0m < \u001b[36m0:03:14\u001b[0m , \u001b[31m4,259 it/s\u001b[0m ]"
      ]
     },
     "metadata": {},
     "output_type": "display_data"
    },
    {
     "name": "stdout",
     "output_type": "stream",
     "text": [
      "-----------------------------------------\n",
      "| eval/                   |             |\n",
      "|    mean_ep_length       | 557         |\n",
      "|    mean_reward          | 32.2        |\n",
      "| time/                   |             |\n",
      "|    total_timesteps      | 176000      |\n",
      "| train/                  |             |\n",
      "|    approx_kl            | 0.005749942 |\n",
      "|    clip_fraction        | 0.0626      |\n",
      "|    clip_range           | 0.2         |\n",
      "|    entropy_loss         | -2.6        |\n",
      "|    explained_variance   | 0.488       |\n",
      "|    learning_rate        | 7.77e-05    |\n",
      "|    loss                 | 18.8        |\n",
      "|    n_updates            | 210         |\n",
      "|    policy_gradient_loss | -0.00432    |\n",
      "|    std                  | 0.878       |\n",
      "|    value_loss           | 39.9        |\n",
      "-----------------------------------------\n"
     ]
    },
    {
     "data": {
      "text/html": [
       "<pre style=\"white-space:pre;overflow-x:auto;line-height:normal;font-family:Menlo,'DejaVu Sans Mono',consolas,'Courier New',monospace\">\r",
       "\u001b[2KNew best mean reward!\n",
       "<span style=\"color: #800080; text-decoration-color: #800080\">  18%</span> <span style=\"color: #f92672; text-decoration-color: #f92672\">━━━━━━━━━╸</span><span style=\"color: #3a3a3a; text-decoration-color: #3a3a3a\">━━━━━━━━━━━━━━━━━━━━━━━━━━━━━━━━━━━━━━━━━━━━━</span> <span style=\"color: #008000; text-decoration-color: #008000\">175,680/1,000,000 </span> [ <span style=\"color: #808000; text-decoration-color: #808000\">0:00:43</span> &lt; <span style=\"color: #008080; text-decoration-color: #008080\">0:03:14</span> , <span style=\"color: #800000; text-decoration-color: #800000\">4,259 it/s</span> ]</pre>\n"
      ],
      "text/plain": [
       "\r",
       "\u001b[2KNew best mean reward!\n",
       "\u001b[35m  18%\u001b[0m \u001b[38;2;249;38;114m━━━━━━━━━\u001b[0m\u001b[38;2;249;38;114m╸\u001b[0m\u001b[38;5;237m━━━━━━━━━━━━━━━━━━━━━━━━━━━━━━━━━━━━━━━━━━━━━\u001b[0m \u001b[32m175,680/1,000,000 \u001b[0m [ \u001b[33m0:00:43\u001b[0m < \u001b[36m0:03:14\u001b[0m , \u001b[31m4,259 it/s\u001b[0m ]"
      ]
     },
     "metadata": {},
     "output_type": "display_data"
    },
    {
     "name": "stdout",
     "output_type": "stream",
     "text": [
      "---------------------------------\n",
      "| rollout/           |          |\n",
      "|    ep_len_mean     | 410      |\n",
      "|    ep_rew_mean     | 58.1     |\n",
      "| time/              |          |\n",
      "|    fps             | 4149     |\n",
      "|    iterations      | 22       |\n",
      "|    time_elapsed    | 43       |\n",
      "|    total_timesteps | 180224   |\n",
      "---------------------------------\n",
      "------------------------------------------\n",
      "| rollout/                |              |\n",
      "|    ep_len_mean          | 469          |\n",
      "|    ep_rew_mean          | 44.6         |\n",
      "| time/                   |              |\n",
      "|    fps                  | 4217         |\n",
      "|    iterations           | 23           |\n",
      "|    time_elapsed         | 44           |\n",
      "|    total_timesteps      | 188416       |\n",
      "| train/                  |              |\n",
      "|    approx_kl            | 0.0024291193 |\n",
      "|    clip_fraction        | 0.0385       |\n",
      "|    clip_range           | 0.2          |\n",
      "|    entropy_loss         | -2.61        |\n",
      "|    explained_variance   | 0.539        |\n",
      "|    learning_rate        | 7.77e-05     |\n",
      "|    loss                 | 13.7         |\n",
      "|    n_updates            | 220          |\n",
      "|    policy_gradient_loss | -0.00122     |\n",
      "|    std                  | 0.873        |\n",
      "|    value_loss           | 37.2         |\n",
      "------------------------------------------\n"
     ]
    },
    {
     "data": {
      "text/html": [
       "<pre style=\"white-space:pre;overflow-x:auto;line-height:normal;font-family:Menlo,'DejaVu Sans Mono',consolas,'Courier New',monospace\">\r",
       "\u001b[2KEval num_timesteps=192000, episode_reward=70.46 +/- 6.19\n",
       "<span style=\"color: #800080; text-decoration-color: #800080\">  19%</span> <span style=\"color: #f92672; text-decoration-color: #f92672\">━━━━━━━━━━</span><span style=\"color: #3a3a3a; text-decoration-color: #3a3a3a\">╺━━━━━━━━━━━━━━━━━━━━━━━━━━━━━━━━━━━━━━━━━━━━</span> <span style=\"color: #008000; text-decoration-color: #008000\">190,656/1,000,000 </span> [ <span style=\"color: #808000; text-decoration-color: #808000\">0:00:46</span> &lt; <span style=\"color: #008080; text-decoration-color: #008080\">0:03:11</span> , <span style=\"color: #800000; text-decoration-color: #800000\">4,238 it/s</span> ]</pre>\n"
      ],
      "text/plain": [
       "\r",
       "\u001b[2KEval num_timesteps=192000, episode_reward=70.46 +/- 6.19\n",
       "\u001b[35m  19%\u001b[0m \u001b[38;2;249;38;114m━━━━━━━━━━\u001b[0m\u001b[38;5;237m╺\u001b[0m\u001b[38;5;237m━━━━━━━━━━━━━━━━━━━━━━━━━━━━━━━━━━━━━━━━━━━━\u001b[0m \u001b[32m190,656/1,000,000 \u001b[0m [ \u001b[33m0:00:46\u001b[0m < \u001b[36m0:03:11\u001b[0m , \u001b[31m4,238 it/s\u001b[0m ]"
      ]
     },
     "metadata": {},
     "output_type": "display_data"
    },
    {
     "data": {
      "text/html": [
       "<pre style=\"white-space:pre;overflow-x:auto;line-height:normal;font-family:Menlo,'DejaVu Sans Mono',consolas,'Courier New',monospace\">\r",
       "\u001b[2KEpisode length: 365.20 +/- 70.44\n",
       "<span style=\"color: #800080; text-decoration-color: #800080\">  19%</span> <span style=\"color: #f92672; text-decoration-color: #f92672\">━━━━━━━━━━</span><span style=\"color: #3a3a3a; text-decoration-color: #3a3a3a\">╺━━━━━━━━━━━━━━━━━━━━━━━━━━━━━━━━━━━━━━━━━━━━</span> <span style=\"color: #008000; text-decoration-color: #008000\">190,656/1,000,000 </span> [ <span style=\"color: #808000; text-decoration-color: #808000\">0:00:46</span> &lt; <span style=\"color: #008080; text-decoration-color: #008080\">0:03:11</span> , <span style=\"color: #800000; text-decoration-color: #800000\">4,238 it/s</span> ]</pre>\n"
      ],
      "text/plain": [
       "\r",
       "\u001b[2KEpisode length: 365.20 +/- 70.44\n",
       "\u001b[35m  19%\u001b[0m \u001b[38;2;249;38;114m━━━━━━━━━━\u001b[0m\u001b[38;5;237m╺\u001b[0m\u001b[38;5;237m━━━━━━━━━━━━━━━━━━━━━━━━━━━━━━━━━━━━━━━━━━━━\u001b[0m \u001b[32m190,656/1,000,000 \u001b[0m [ \u001b[33m0:00:46\u001b[0m < \u001b[36m0:03:11\u001b[0m , \u001b[31m4,238 it/s\u001b[0m ]"
      ]
     },
     "metadata": {},
     "output_type": "display_data"
    },
    {
     "name": "stdout",
     "output_type": "stream",
     "text": [
      "----------------------------------------\n",
      "| eval/                   |            |\n",
      "|    mean_ep_length       | 365        |\n",
      "|    mean_reward          | 70.5       |\n",
      "| time/                   |            |\n",
      "|    total_timesteps      | 192000     |\n",
      "| train/                  |            |\n",
      "|    approx_kl            | 0.00683448 |\n",
      "|    clip_fraction        | 0.0505     |\n",
      "|    clip_range           | 0.2        |\n",
      "|    entropy_loss         | -2.63      |\n",
      "|    explained_variance   | 0.615      |\n",
      "|    learning_rate        | 7.77e-05   |\n",
      "|    loss                 | 9.41       |\n",
      "|    n_updates            | 230        |\n",
      "|    policy_gradient_loss | -0.00174   |\n",
      "|    std                  | 0.868      |\n",
      "|    value_loss           | 42.2       |\n",
      "----------------------------------------\n"
     ]
    },
    {
     "data": {
      "text/html": [
       "<pre style=\"white-space:pre;overflow-x:auto;line-height:normal;font-family:Menlo,'DejaVu Sans Mono',consolas,'Courier New',monospace\">\r",
       "\u001b[2KNew best mean reward!\n",
       "<span style=\"color: #800080; text-decoration-color: #800080\">  19%</span> <span style=\"color: #f92672; text-decoration-color: #f92672\">━━━━━━━━━━</span><span style=\"color: #3a3a3a; text-decoration-color: #3a3a3a\">╺━━━━━━━━━━━━━━━━━━━━━━━━━━━━━━━━━━━━━━━━━━━━</span> <span style=\"color: #008000; text-decoration-color: #008000\">190,656/1,000,000 </span> [ <span style=\"color: #808000; text-decoration-color: #808000\">0:00:46</span> &lt; <span style=\"color: #008080; text-decoration-color: #008080\">0:03:11</span> , <span style=\"color: #800000; text-decoration-color: #800000\">4,238 it/s</span> ]</pre>\n"
      ],
      "text/plain": [
       "\r",
       "\u001b[2KNew best mean reward!\n",
       "\u001b[35m  19%\u001b[0m \u001b[38;2;249;38;114m━━━━━━━━━━\u001b[0m\u001b[38;5;237m╺\u001b[0m\u001b[38;5;237m━━━━━━━━━━━━━━━━━━━━━━━━━━━━━━━━━━━━━━━━━━━━\u001b[0m \u001b[32m190,656/1,000,000 \u001b[0m [ \u001b[33m0:00:46\u001b[0m < \u001b[36m0:03:11\u001b[0m , \u001b[31m4,238 it/s\u001b[0m ]"
      ]
     },
     "metadata": {},
     "output_type": "display_data"
    },
    {
     "name": "stdout",
     "output_type": "stream",
     "text": [
      "---------------------------------\n",
      "| rollout/           |          |\n",
      "|    ep_len_mean     | 504      |\n",
      "|    ep_rew_mean     | 39.2     |\n",
      "| time/              |          |\n",
      "|    fps             | 4221     |\n",
      "|    iterations      | 24       |\n",
      "|    time_elapsed    | 46       |\n",
      "|    total_timesteps | 196608   |\n",
      "---------------------------------\n",
      "------------------------------------------\n",
      "| rollout/                |              |\n",
      "|    ep_len_mean          | 521          |\n",
      "|    ep_rew_mean          | 37.7         |\n",
      "| time/                   |              |\n",
      "|    fps                  | 4280         |\n",
      "|    iterations           | 25           |\n",
      "|    time_elapsed         | 47           |\n",
      "|    total_timesteps      | 204800       |\n",
      "| train/                  |              |\n",
      "|    approx_kl            | 0.0031682556 |\n",
      "|    clip_fraction        | 0.01         |\n",
      "|    clip_range           | 0.2          |\n",
      "|    entropy_loss         | -2.56        |\n",
      "|    explained_variance   | 0.598        |\n",
      "|    learning_rate        | 7.77e-05     |\n",
      "|    loss                 | 40.7         |\n",
      "|    n_updates            | 240          |\n",
      "|    policy_gradient_loss | -0.0043      |\n",
      "|    std                  | 0.865        |\n",
      "|    value_loss           | 52.4         |\n",
      "------------------------------------------\n"
     ]
    },
    {
     "data": {
      "text/html": [
       "<pre style=\"white-space:pre;overflow-x:auto;line-height:normal;font-family:Menlo,'DejaVu Sans Mono',consolas,'Courier New',monospace\">\r",
       "\u001b[2KEval num_timesteps=208000, episode_reward=28.73 +/- 65.01\n",
       "<span style=\"color: #800080; text-decoration-color: #800080\">  21%</span> <span style=\"color: #f92672; text-decoration-color: #f92672\">━━━━━━━━━━━</span><span style=\"color: #3a3a3a; text-decoration-color: #3a3a3a\">╺━━━━━━━━━━━━━━━━━━━━━━━━━━━━━━━━━━━━━━━━━━━</span> <span style=\"color: #008000; text-decoration-color: #008000\">206,944/1,000,000 </span> [ <span style=\"color: #808000; text-decoration-color: #808000\">0:00:50</span> &lt; <span style=\"color: #008080; text-decoration-color: #008080\">0:03:03</span> , <span style=\"color: #800000; text-decoration-color: #800000\">4,349 it/s</span> ]</pre>\n"
      ],
      "text/plain": [
       "\r",
       "\u001b[2KEval num_timesteps=208000, episode_reward=28.73 +/- 65.01\n",
       "\u001b[35m  21%\u001b[0m \u001b[38;2;249;38;114m━━━━━━━━━━━\u001b[0m\u001b[38;5;237m╺\u001b[0m\u001b[38;5;237m━━━━━━━━━━━━━━━━━━━━━━━━━━━━━━━━━━━━━━━━━━━\u001b[0m \u001b[32m206,944/1,000,000 \u001b[0m [ \u001b[33m0:00:50\u001b[0m < \u001b[36m0:03:03\u001b[0m , \u001b[31m4,349 it/s\u001b[0m ]"
      ]
     },
     "metadata": {},
     "output_type": "display_data"
    },
    {
     "data": {
      "text/html": [
       "<pre style=\"white-space:pre;overflow-x:auto;line-height:normal;font-family:Menlo,'DejaVu Sans Mono',consolas,'Courier New',monospace\">\r",
       "\u001b[2KEpisode length: 577.80 +/- 235.25\n",
       "<span style=\"color: #800080; text-decoration-color: #800080\">  21%</span> <span style=\"color: #f92672; text-decoration-color: #f92672\">━━━━━━━━━━━</span><span style=\"color: #3a3a3a; text-decoration-color: #3a3a3a\">╺━━━━━━━━━━━━━━━━━━━━━━━━━━━━━━━━━━━━━━━━━━━</span> <span style=\"color: #008000; text-decoration-color: #008000\">206,944/1,000,000 </span> [ <span style=\"color: #808000; text-decoration-color: #808000\">0:00:50</span> &lt; <span style=\"color: #008080; text-decoration-color: #008080\">0:03:03</span> , <span style=\"color: #800000; text-decoration-color: #800000\">4,349 it/s</span> ]</pre>\n"
      ],
      "text/plain": [
       "\r",
       "\u001b[2KEpisode length: 577.80 +/- 235.25\n",
       "\u001b[35m  21%\u001b[0m \u001b[38;2;249;38;114m━━━━━━━━━━━\u001b[0m\u001b[38;5;237m╺\u001b[0m\u001b[38;5;237m━━━━━━━━━━━━━━━━━━━━━━━━━━━━━━━━━━━━━━━━━━━\u001b[0m \u001b[32m206,944/1,000,000 \u001b[0m [ \u001b[33m0:00:50\u001b[0m < \u001b[36m0:03:03\u001b[0m , \u001b[31m4,349 it/s\u001b[0m ]"
      ]
     },
     "metadata": {},
     "output_type": "display_data"
    },
    {
     "name": "stdout",
     "output_type": "stream",
     "text": [
      "------------------------------------------\n",
      "| eval/                   |              |\n",
      "|    mean_ep_length       | 578          |\n",
      "|    mean_reward          | 28.7         |\n",
      "| time/                   |              |\n",
      "|    total_timesteps      | 208000       |\n",
      "| train/                  |              |\n",
      "|    approx_kl            | 0.0034431769 |\n",
      "|    clip_fraction        | 0.00986      |\n",
      "|    clip_range           | 0.2          |\n",
      "|    entropy_loss         | -2.55        |\n",
      "|    explained_variance   | 0.606        |\n",
      "|    learning_rate        | 7.77e-05     |\n",
      "|    loss                 | 17.3         |\n",
      "|    n_updates            | 250          |\n",
      "|    policy_gradient_loss | -0.00495     |\n",
      "|    std                  | 0.859        |\n",
      "|    value_loss           | 43.5         |\n",
      "------------------------------------------\n",
      "---------------------------------\n",
      "| rollout/           |          |\n",
      "|    ep_len_mean     | 537      |\n",
      "|    ep_rew_mean     | 36.2     |\n",
      "| time/              |          |\n",
      "|    fps             | 4214     |\n",
      "|    iterations      | 26       |\n",
      "|    time_elapsed    | 50       |\n",
      "|    total_timesteps | 212992   |\n",
      "---------------------------------\n",
      "------------------------------------------\n",
      "| rollout/                |              |\n",
      "|    ep_len_mean          | 564          |\n",
      "|    ep_rew_mean          | 28.2         |\n",
      "| time/                   |              |\n",
      "|    fps                  | 4265         |\n",
      "|    iterations           | 27           |\n",
      "|    time_elapsed         | 51           |\n",
      "|    total_timesteps      | 221184       |\n",
      "| train/                  |              |\n",
      "|    approx_kl            | 0.0024036726 |\n",
      "|    clip_fraction        | 0.0128       |\n",
      "|    clip_range           | 0.2          |\n",
      "|    entropy_loss         | -2.5         |\n",
      "|    explained_variance   | 0.596        |\n",
      "|    learning_rate        | 7.77e-05     |\n",
      "|    loss                 | 39.7         |\n",
      "|    n_updates            | 260          |\n",
      "|    policy_gradient_loss | -0.00344     |\n",
      "|    std                  | 0.856        |\n",
      "|    value_loss           | 52.4         |\n",
      "------------------------------------------\n"
     ]
    },
    {
     "data": {
      "text/html": [
       "<pre style=\"white-space:pre;overflow-x:auto;line-height:normal;font-family:Menlo,'DejaVu Sans Mono',consolas,'Courier New',monospace\">\r",
       "\u001b[2KEval num_timesteps=224000, episode_reward=64.24 +/- 20.73\n",
       "<span style=\"color: #800080; text-decoration-color: #800080\">  22%</span> <span style=\"color: #f92672; text-decoration-color: #f92672\">━━━━━━━━━━━━</span><span style=\"color: #3a3a3a; text-decoration-color: #3a3a3a\">╺━━━━━━━━━━━━━━━━━━━━━━━━━━━━━━━━━━━━━━━━━━</span> <span style=\"color: #008000; text-decoration-color: #008000\">222,688/1,000,000 </span> [ <span style=\"color: #808000; text-decoration-color: #808000\">0:00:53</span> &lt; <span style=\"color: #008080; text-decoration-color: #008080\">0:02:59</span> , <span style=\"color: #800000; text-decoration-color: #800000\">4,354 it/s</span> ]</pre>\n"
      ],
      "text/plain": [
       "\r",
       "\u001b[2KEval num_timesteps=224000, episode_reward=64.24 +/- 20.73\n",
       "\u001b[35m  22%\u001b[0m \u001b[38;2;249;38;114m━━━━━━━━━━━━\u001b[0m\u001b[38;5;237m╺\u001b[0m\u001b[38;5;237m━━━━━━━━━━━━━━━━━━━━━━━━━━━━━━━━━━━━━━━━━━\u001b[0m \u001b[32m222,688/1,000,000 \u001b[0m [ \u001b[33m0:00:53\u001b[0m < \u001b[36m0:02:59\u001b[0m , \u001b[31m4,354 it/s\u001b[0m ]"
      ]
     },
     "metadata": {},
     "output_type": "display_data"
    },
    {
     "data": {
      "text/html": [
       "<pre style=\"white-space:pre;overflow-x:auto;line-height:normal;font-family:Menlo,'DejaVu Sans Mono',consolas,'Courier New',monospace\">\r",
       "\u001b[2KEpisode length: 422.20 +/- 224.93\n",
       "<span style=\"color: #800080; text-decoration-color: #800080\">  22%</span> <span style=\"color: #f92672; text-decoration-color: #f92672\">━━━━━━━━━━━━</span><span style=\"color: #3a3a3a; text-decoration-color: #3a3a3a\">╺━━━━━━━━━━━━━━━━━━━━━━━━━━━━━━━━━━━━━━━━━━</span> <span style=\"color: #008000; text-decoration-color: #008000\">222,688/1,000,000 </span> [ <span style=\"color: #808000; text-decoration-color: #808000\">0:00:53</span> &lt; <span style=\"color: #008080; text-decoration-color: #008080\">0:02:59</span> , <span style=\"color: #800000; text-decoration-color: #800000\">4,354 it/s</span> ]</pre>\n"
      ],
      "text/plain": [
       "\r",
       "\u001b[2KEpisode length: 422.20 +/- 224.93\n",
       "\u001b[35m  22%\u001b[0m \u001b[38;2;249;38;114m━━━━━━━━━━━━\u001b[0m\u001b[38;5;237m╺\u001b[0m\u001b[38;5;237m━━━━━━━━━━━━━━━━━━━━━━━━━━━━━━━━━━━━━━━━━━\u001b[0m \u001b[32m222,688/1,000,000 \u001b[0m [ \u001b[33m0:00:53\u001b[0m < \u001b[36m0:02:59\u001b[0m , \u001b[31m4,354 it/s\u001b[0m ]"
      ]
     },
     "metadata": {},
     "output_type": "display_data"
    },
    {
     "name": "stdout",
     "output_type": "stream",
     "text": [
      "----------------------------------------\n",
      "| eval/                   |            |\n",
      "|    mean_ep_length       | 422        |\n",
      "|    mean_reward          | 64.2       |\n",
      "| time/                   |            |\n",
      "|    total_timesteps      | 224000     |\n",
      "| train/                  |            |\n",
      "|    approx_kl            | 0.00438564 |\n",
      "|    clip_fraction        | 0.03       |\n",
      "|    clip_range           | 0.2        |\n",
      "|    entropy_loss         | -2.58      |\n",
      "|    explained_variance   | 0.624      |\n",
      "|    learning_rate        | 7.77e-05   |\n",
      "|    loss                 | 22.4       |\n",
      "|    n_updates            | 270        |\n",
      "|    policy_gradient_loss | -0.00235   |\n",
      "|    std                  | 0.851      |\n",
      "|    value_loss           | 44.1       |\n",
      "----------------------------------------\n",
      "---------------------------------\n",
      "| rollout/           |          |\n",
      "|    ep_len_mean     | 591      |\n",
      "|    ep_rew_mean     | 18.1     |\n",
      "| time/              |          |\n",
      "|    fps             | 4223     |\n",
      "|    iterations      | 28       |\n",
      "|    time_elapsed    | 54       |\n",
      "|    total_timesteps | 229376   |\n",
      "---------------------------------\n",
      "----------------------------------------\n",
      "| rollout/                |            |\n",
      "|    ep_len_mean          | 609        |\n",
      "|    ep_rew_mean          | 13         |\n",
      "| time/                   |            |\n",
      "|    fps                  | 4278       |\n",
      "|    iterations           | 29         |\n",
      "|    time_elapsed         | 55         |\n",
      "|    total_timesteps      | 237568     |\n",
      "| train/                  |            |\n",
      "|    approx_kl            | 0.00639228 |\n",
      "|    clip_fraction        | 0.0575     |\n",
      "|    clip_range           | 0.2        |\n",
      "|    entropy_loss         | -2.52      |\n",
      "|    explained_variance   | 0.65       |\n",
      "|    learning_rate        | 7.77e-05   |\n",
      "|    loss                 | 26.6       |\n",
      "|    n_updates            | 280        |\n",
      "|    policy_gradient_loss | -0.00139   |\n",
      "|    std                  | 0.854      |\n",
      "|    value_loss           | 51.4       |\n",
      "----------------------------------------\n"
     ]
    },
    {
     "data": {
      "text/html": [
       "<pre style=\"white-space:pre;overflow-x:auto;line-height:normal;font-family:Menlo,'DejaVu Sans Mono',consolas,'Courier New',monospace\">\r",
       "\u001b[2KEval num_timesteps=240000, episode_reward=-64.25 +/- 71.30\n",
       "<span style=\"color: #800080; text-decoration-color: #800080\">  24%</span> <span style=\"color: #f92672; text-decoration-color: #f92672\">━━━━━━━━━━━━━</span><span style=\"color: #3a3a3a; text-decoration-color: #3a3a3a\">╺━━━━━━━━━━━━━━━━━━━━━━━━━━━━━━━━━━━━━━━━━</span> <span style=\"color: #008000; text-decoration-color: #008000\">239,392/1,000,000 </span> [ <span style=\"color: #808000; text-decoration-color: #808000\">0:00:57</span> &lt; <span style=\"color: #008080; text-decoration-color: #008080\">0:02:54</span> , <span style=\"color: #800000; text-decoration-color: #800000\">4,391 it/s</span> ]</pre>\n"
      ],
      "text/plain": [
       "\r",
       "\u001b[2KEval num_timesteps=240000, episode_reward=-64.25 +/- 71.30\n",
       "\u001b[35m  24%\u001b[0m \u001b[38;2;249;38;114m━━━━━━━━━━━━━\u001b[0m\u001b[38;5;237m╺\u001b[0m\u001b[38;5;237m━━━━━━━━━━━━━━━━━━━━━━━━━━━━━━━━━━━━━━━━━\u001b[0m \u001b[32m239,392/1,000,000 \u001b[0m [ \u001b[33m0:00:57\u001b[0m < \u001b[36m0:02:54\u001b[0m , \u001b[31m4,391 it/s\u001b[0m ]"
      ]
     },
     "metadata": {},
     "output_type": "display_data"
    },
    {
     "data": {
      "text/html": [
       "<pre style=\"white-space:pre;overflow-x:auto;line-height:normal;font-family:Menlo,'DejaVu Sans Mono',consolas,'Courier New',monospace\">\r",
       "\u001b[2KEpisode length: 853.00 +/- 292.00\n",
       "<span style=\"color: #800080; text-decoration-color: #800080\">  24%</span> <span style=\"color: #f92672; text-decoration-color: #f92672\">━━━━━━━━━━━━━</span><span style=\"color: #3a3a3a; text-decoration-color: #3a3a3a\">╺━━━━━━━━━━━━━━━━━━━━━━━━━━━━━━━━━━━━━━━━━</span> <span style=\"color: #008000; text-decoration-color: #008000\">239,392/1,000,000 </span> [ <span style=\"color: #808000; text-decoration-color: #808000\">0:00:57</span> &lt; <span style=\"color: #008080; text-decoration-color: #008080\">0:02:54</span> , <span style=\"color: #800000; text-decoration-color: #800000\">4,391 it/s</span> ]</pre>\n"
      ],
      "text/plain": [
       "\r",
       "\u001b[2KEpisode length: 853.00 +/- 292.00\n",
       "\u001b[35m  24%\u001b[0m \u001b[38;2;249;38;114m━━━━━━━━━━━━━\u001b[0m\u001b[38;5;237m╺\u001b[0m\u001b[38;5;237m━━━━━━━━━━━━━━━━━━━━━━━━━━━━━━━━━━━━━━━━━\u001b[0m \u001b[32m239,392/1,000,000 \u001b[0m [ \u001b[33m0:00:57\u001b[0m < \u001b[36m0:02:54\u001b[0m , \u001b[31m4,391 it/s\u001b[0m ]"
      ]
     },
     "metadata": {},
     "output_type": "display_data"
    },
    {
     "name": "stdout",
     "output_type": "stream",
     "text": [
      "-----------------------------------------\n",
      "| eval/                   |             |\n",
      "|    mean_ep_length       | 853         |\n",
      "|    mean_reward          | -64.3       |\n",
      "| time/                   |             |\n",
      "|    total_timesteps      | 240000      |\n",
      "| train/                  |             |\n",
      "|    approx_kl            | 0.009914284 |\n",
      "|    clip_fraction        | 0.0902      |\n",
      "|    clip_range           | 0.2         |\n",
      "|    entropy_loss         | -2.62       |\n",
      "|    explained_variance   | 0.642       |\n",
      "|    learning_rate        | 7.77e-05    |\n",
      "|    loss                 | 21.8        |\n",
      "|    n_updates            | 290         |\n",
      "|    policy_gradient_loss | -0.00616    |\n",
      "|    std                  | 0.85        |\n",
      "|    value_loss           | 45.1        |\n",
      "-----------------------------------------\n",
      "---------------------------------\n",
      "| rollout/           |          |\n",
      "|    ep_len_mean     | 575      |\n",
      "|    ep_rew_mean     | 20.3     |\n",
      "| time/              |          |\n",
      "|    fps             | 4220     |\n",
      "|    iterations      | 30       |\n",
      "|    time_elapsed    | 58       |\n",
      "|    total_timesteps | 245760   |\n",
      "---------------------------------\n",
      "------------------------------------------\n",
      "| rollout/                |              |\n",
      "|    ep_len_mean          | 563          |\n",
      "|    ep_rew_mean          | 23.2         |\n",
      "| time/                   |              |\n",
      "|    fps                  | 4271         |\n",
      "|    iterations           | 31           |\n",
      "|    time_elapsed         | 59           |\n",
      "|    total_timesteps      | 253952       |\n",
      "| train/                  |              |\n",
      "|    approx_kl            | 0.0067331335 |\n",
      "|    clip_fraction        | 0.0642       |\n",
      "|    clip_range           | 0.2          |\n",
      "|    entropy_loss         | -2.53        |\n",
      "|    explained_variance   | 0.626        |\n",
      "|    learning_rate        | 7.77e-05     |\n",
      "|    loss                 | 22.5         |\n",
      "|    n_updates            | 300          |\n",
      "|    policy_gradient_loss | -0.00943     |\n",
      "|    std                  | 0.85         |\n",
      "|    value_loss           | 48.9         |\n",
      "------------------------------------------\n"
     ]
    },
    {
     "data": {
      "text/html": [
       "<pre style=\"white-space:pre;overflow-x:auto;line-height:normal;font-family:Menlo,'DejaVu Sans Mono',consolas,'Courier New',monospace\">\r",
       "\u001b[2KEval num_timesteps=256000, episode_reward=42.18 +/- 71.33\n",
       "<span style=\"color: #800080; text-decoration-color: #800080\">  25%</span> <span style=\"color: #f92672; text-decoration-color: #f92672\">━━━━━━━━━━━━━╸</span><span style=\"color: #3a3a3a; text-decoration-color: #3a3a3a\">━━━━━━━━━━━━━━━━━━━━━━━━━━━━━━━━━━━━━━━━━</span> <span style=\"color: #008000; text-decoration-color: #008000\">254,368/1,000,000 </span> [ <span style=\"color: #808000; text-decoration-color: #808000\">0:01:01</span> &lt; <span style=\"color: #008080; text-decoration-color: #008080\">0:02:51</span> , <span style=\"color: #800000; text-decoration-color: #800000\">4,381 it/s</span> ]</pre>\n"
      ],
      "text/plain": [
       "\r",
       "\u001b[2KEval num_timesteps=256000, episode_reward=42.18 +/- 71.33\n",
       "\u001b[35m  25%\u001b[0m \u001b[38;2;249;38;114m━━━━━━━━━━━━━\u001b[0m\u001b[38;2;249;38;114m╸\u001b[0m\u001b[38;5;237m━━━━━━━━━━━━━━━━━━━━━━━━━━━━━━━━━━━━━━━━━\u001b[0m \u001b[32m254,368/1,000,000 \u001b[0m [ \u001b[33m0:01:01\u001b[0m < \u001b[36m0:02:51\u001b[0m , \u001b[31m4,381 it/s\u001b[0m ]"
      ]
     },
     "metadata": {},
     "output_type": "display_data"
    },
    {
     "data": {
      "text/html": [
       "<pre style=\"white-space:pre;overflow-x:auto;line-height:normal;font-family:Menlo,'DejaVu Sans Mono',consolas,'Courier New',monospace\">\r",
       "\u001b[2KEpisode length: 413.60 +/- 302.45\n",
       "<span style=\"color: #800080; text-decoration-color: #800080\">  25%</span> <span style=\"color: #f92672; text-decoration-color: #f92672\">━━━━━━━━━━━━━╸</span><span style=\"color: #3a3a3a; text-decoration-color: #3a3a3a\">━━━━━━━━━━━━━━━━━━━━━━━━━━━━━━━━━━━━━━━━━</span> <span style=\"color: #008000; text-decoration-color: #008000\">254,368/1,000,000 </span> [ <span style=\"color: #808000; text-decoration-color: #808000\">0:01:01</span> &lt; <span style=\"color: #008080; text-decoration-color: #008080\">0:02:51</span> , <span style=\"color: #800000; text-decoration-color: #800000\">4,381 it/s</span> ]</pre>\n"
      ],
      "text/plain": [
       "\r",
       "\u001b[2KEpisode length: 413.60 +/- 302.45\n",
       "\u001b[35m  25%\u001b[0m \u001b[38;2;249;38;114m━━━━━━━━━━━━━\u001b[0m\u001b[38;2;249;38;114m╸\u001b[0m\u001b[38;5;237m━━━━━━━━━━━━━━━━━━━━━━━━━━━━━━━━━━━━━━━━━\u001b[0m \u001b[32m254,368/1,000,000 \u001b[0m [ \u001b[33m0:01:01\u001b[0m < \u001b[36m0:02:51\u001b[0m , \u001b[31m4,381 it/s\u001b[0m ]"
      ]
     },
     "metadata": {},
     "output_type": "display_data"
    },
    {
     "name": "stdout",
     "output_type": "stream",
     "text": [
      "-----------------------------------------\n",
      "| eval/                   |             |\n",
      "|    mean_ep_length       | 414         |\n",
      "|    mean_reward          | 42.2        |\n",
      "| time/                   |             |\n",
      "|    total_timesteps      | 256000      |\n",
      "| train/                  |             |\n",
      "|    approx_kl            | 0.008853349 |\n",
      "|    clip_fraction        | 0.0343      |\n",
      "|    clip_range           | 0.2         |\n",
      "|    entropy_loss         | -2.5        |\n",
      "|    explained_variance   | 0.713       |\n",
      "|    learning_rate        | 7.77e-05    |\n",
      "|    loss                 | 34.2        |\n",
      "|    n_updates            | 310         |\n",
      "|    policy_gradient_loss | -0.00118    |\n",
      "|    std                  | 0.85        |\n",
      "|    value_loss           | 46.7        |\n",
      "-----------------------------------------\n",
      "---------------------------------\n",
      "| rollout/           |          |\n",
      "|    ep_len_mean     | 558      |\n",
      "|    ep_rew_mean     | 24.4     |\n",
      "| time/              |          |\n",
      "|    fps             | 4218     |\n",
      "|    iterations      | 32       |\n",
      "|    time_elapsed    | 62       |\n",
      "|    total_timesteps | 262144   |\n",
      "---------------------------------\n",
      "------------------------------------------\n",
      "| rollout/                |              |\n",
      "|    ep_len_mean          | 572          |\n",
      "|    ep_rew_mean          | 18.8         |\n",
      "| time/                   |              |\n",
      "|    fps                  | 4265         |\n",
      "|    iterations           | 33           |\n",
      "|    time_elapsed         | 63           |\n",
      "|    total_timesteps      | 270336       |\n",
      "| train/                  |              |\n",
      "|    approx_kl            | 0.0111205205 |\n",
      "|    clip_fraction        | 0.044        |\n",
      "|    clip_range           | 0.2          |\n",
      "|    entropy_loss         | -2.58        |\n",
      "|    explained_variance   | 0.649        |\n",
      "|    learning_rate        | 7.77e-05     |\n",
      "|    loss                 | 13.1         |\n",
      "|    n_updates            | 320          |\n",
      "|    policy_gradient_loss | -0.00868     |\n",
      "|    std                  | 0.843        |\n",
      "|    value_loss           | 49.3         |\n",
      "------------------------------------------\n"
     ]
    },
    {
     "data": {
      "text/html": [
       "<pre style=\"white-space:pre;overflow-x:auto;line-height:normal;font-family:Menlo,'DejaVu Sans Mono',consolas,'Courier New',monospace\">\r",
       "\u001b[2KEval num_timesteps=272000, episode_reward=10.11 +/- 89.88\n",
       "<span style=\"color: #800080; text-decoration-color: #800080\">  27%</span> <span style=\"color: #f92672; text-decoration-color: #f92672\">━━━━━━━━━━━━━━╸</span><span style=\"color: #3a3a3a; text-decoration-color: #3a3a3a\">━━━━━━━━━━━━━━━━━━━━━━━━━━━━━━━━━━━━━━━━</span> <span style=\"color: #008000; text-decoration-color: #008000\">271,264/1,000,000 </span> [ <span style=\"color: #808000; text-decoration-color: #808000\">0:01:05</span> &lt; <span style=\"color: #008080; text-decoration-color: #008080\">0:02:47</span> , <span style=\"color: #800000; text-decoration-color: #800000\">4,385 it/s</span> ]</pre>\n"
      ],
      "text/plain": [
       "\r",
       "\u001b[2KEval num_timesteps=272000, episode_reward=10.11 +/- 89.88\n",
       "\u001b[35m  27%\u001b[0m \u001b[38;2;249;38;114m━━━━━━━━━━━━━━\u001b[0m\u001b[38;2;249;38;114m╸\u001b[0m\u001b[38;5;237m━━━━━━━━━━━━━━━━━━━━━━━━━━━━━━━━━━━━━━━━\u001b[0m \u001b[32m271,264/1,000,000 \u001b[0m [ \u001b[33m0:01:05\u001b[0m < \u001b[36m0:02:47\u001b[0m , \u001b[31m4,385 it/s\u001b[0m ]"
      ]
     },
     "metadata": {},
     "output_type": "display_data"
    },
    {
     "data": {
      "text/html": [
       "<pre style=\"white-space:pre;overflow-x:auto;line-height:normal;font-family:Menlo,'DejaVu Sans Mono',consolas,'Courier New',monospace\">\r",
       "\u001b[2KEpisode length: 516.40 +/- 396.15\n",
       "<span style=\"color: #800080; text-decoration-color: #800080\">  27%</span> <span style=\"color: #f92672; text-decoration-color: #f92672\">━━━━━━━━━━━━━━╸</span><span style=\"color: #3a3a3a; text-decoration-color: #3a3a3a\">━━━━━━━━━━━━━━━━━━━━━━━━━━━━━━━━━━━━━━━━</span> <span style=\"color: #008000; text-decoration-color: #008000\">271,264/1,000,000 </span> [ <span style=\"color: #808000; text-decoration-color: #808000\">0:01:05</span> &lt; <span style=\"color: #008080; text-decoration-color: #008080\">0:02:47</span> , <span style=\"color: #800000; text-decoration-color: #800000\">4,385 it/s</span> ]</pre>\n"
      ],
      "text/plain": [
       "\r",
       "\u001b[2KEpisode length: 516.40 +/- 396.15\n",
       "\u001b[35m  27%\u001b[0m \u001b[38;2;249;38;114m━━━━━━━━━━━━━━\u001b[0m\u001b[38;2;249;38;114m╸\u001b[0m\u001b[38;5;237m━━━━━━━━━━━━━━━━━━━━━━━━━━━━━━━━━━━━━━━━\u001b[0m \u001b[32m271,264/1,000,000 \u001b[0m [ \u001b[33m0:01:05\u001b[0m < \u001b[36m0:02:47\u001b[0m , \u001b[31m4,385 it/s\u001b[0m ]"
      ]
     },
     "metadata": {},
     "output_type": "display_data"
    },
    {
     "name": "stdout",
     "output_type": "stream",
     "text": [
      "-----------------------------------------\n",
      "| eval/                   |             |\n",
      "|    mean_ep_length       | 516         |\n",
      "|    mean_reward          | 10.1        |\n",
      "| time/                   |             |\n",
      "|    total_timesteps      | 272000      |\n",
      "| train/                  |             |\n",
      "|    approx_kl            | 0.006029187 |\n",
      "|    clip_fraction        | 0.0503      |\n",
      "|    clip_range           | 0.2         |\n",
      "|    entropy_loss         | -2.51       |\n",
      "|    explained_variance   | 0.698       |\n",
      "|    learning_rate        | 7.77e-05    |\n",
      "|    loss                 | 21.7        |\n",
      "|    n_updates            | 330         |\n",
      "|    policy_gradient_loss | -0.00306    |\n",
      "|    std                  | 0.837       |\n",
      "|    value_loss           | 38          |\n",
      "-----------------------------------------\n",
      "---------------------------------\n",
      "| rollout/           |          |\n",
      "|    ep_len_mean     | 562      |\n",
      "|    ep_rew_mean     | 17.5     |\n",
      "| time/              |          |\n",
      "|    fps             | 4215     |\n",
      "|    iterations      | 34       |\n",
      "|    time_elapsed    | 66       |\n",
      "|    total_timesteps | 278528   |\n",
      "---------------------------------\n",
      "-------------------------------------------\n",
      "| rollout/                |               |\n",
      "|    ep_len_mean          | 551           |\n",
      "|    ep_rew_mean          | 18.7          |\n",
      "| time/                   |               |\n",
      "|    fps                  | 4260          |\n",
      "|    iterations           | 35            |\n",
      "|    time_elapsed         | 67            |\n",
      "|    total_timesteps      | 286720        |\n",
      "| train/                  |               |\n",
      "|    approx_kl            | 0.00029390567 |\n",
      "|    clip_fraction        | 0.00366       |\n",
      "|    clip_range           | 0.2           |\n",
      "|    entropy_loss         | -2.5          |\n",
      "|    explained_variance   | 0.664         |\n",
      "|    learning_rate        | 7.77e-05      |\n",
      "|    loss                 | 22.7          |\n",
      "|    n_updates            | 340           |\n",
      "|    policy_gradient_loss | -0.000122     |\n",
      "|    std                  | 0.833         |\n",
      "|    value_loss           | 57.1          |\n",
      "-------------------------------------------\n"
     ]
    },
    {
     "data": {
      "text/html": [
       "<pre style=\"white-space:pre;overflow-x:auto;line-height:normal;font-family:Menlo,'DejaVu Sans Mono',consolas,'Courier New',monospace\">\r",
       "\u001b[2KEval num_timesteps=288000, episode_reward=9.84 +/- 89.62\n",
       "<span style=\"color: #800080; text-decoration-color: #800080\">  29%</span> <span style=\"color: #f92672; text-decoration-color: #f92672\">━━━━━━━━━━━━━━━╸</span><span style=\"color: #3a3a3a; text-decoration-color: #3a3a3a\">━━━━━━━━━━━━━━━━━━━━━━━━━━━━━━━━━━━━━━━</span> <span style=\"color: #008000; text-decoration-color: #008000\">287,712/1,000,000 </span> [ <span style=\"color: #808000; text-decoration-color: #808000\">0:01:09</span> &lt; <span style=\"color: #008080; text-decoration-color: #008080\">0:02:41</span> , <span style=\"color: #800000; text-decoration-color: #800000\">4,428 it/s</span> ]</pre>\n"
      ],
      "text/plain": [
       "\r",
       "\u001b[2KEval num_timesteps=288000, episode_reward=9.84 +/- 89.62\n",
       "\u001b[35m  29%\u001b[0m \u001b[38;2;249;38;114m━━━━━━━━━━━━━━━\u001b[0m\u001b[38;2;249;38;114m╸\u001b[0m\u001b[38;5;237m━━━━━━━━━━━━━━━━━━━━━━━━━━━━━━━━━━━━━━━\u001b[0m \u001b[32m287,712/1,000,000 \u001b[0m [ \u001b[33m0:01:09\u001b[0m < \u001b[36m0:02:41\u001b[0m , \u001b[31m4,428 it/s\u001b[0m ]"
      ]
     },
     "metadata": {},
     "output_type": "display_data"
    },
    {
     "data": {
      "text/html": [
       "<pre style=\"white-space:pre;overflow-x:auto;line-height:normal;font-family:Menlo,'DejaVu Sans Mono',consolas,'Courier New',monospace\">\r",
       "\u001b[2KEpisode length: 519.80 +/- 392.06\n",
       "<span style=\"color: #800080; text-decoration-color: #800080\">  29%</span> <span style=\"color: #f92672; text-decoration-color: #f92672\">━━━━━━━━━━━━━━━╸</span><span style=\"color: #3a3a3a; text-decoration-color: #3a3a3a\">━━━━━━━━━━━━━━━━━━━━━━━━━━━━━━━━━━━━━━━</span> <span style=\"color: #008000; text-decoration-color: #008000\">287,712/1,000,000 </span> [ <span style=\"color: #808000; text-decoration-color: #808000\">0:01:09</span> &lt; <span style=\"color: #008080; text-decoration-color: #008080\">0:02:41</span> , <span style=\"color: #800000; text-decoration-color: #800000\">4,428 it/s</span> ]</pre>\n"
      ],
      "text/plain": [
       "\r",
       "\u001b[2KEpisode length: 519.80 +/- 392.06\n",
       "\u001b[35m  29%\u001b[0m \u001b[38;2;249;38;114m━━━━━━━━━━━━━━━\u001b[0m\u001b[38;2;249;38;114m╸\u001b[0m\u001b[38;5;237m━━━━━━━━━━━━━━━━━━━━━━━━━━━━━━━━━━━━━━━\u001b[0m \u001b[32m287,712/1,000,000 \u001b[0m [ \u001b[33m0:01:09\u001b[0m < \u001b[36m0:02:41\u001b[0m , \u001b[31m4,428 it/s\u001b[0m ]"
      ]
     },
     "metadata": {},
     "output_type": "display_data"
    },
    {
     "name": "stdout",
     "output_type": "stream",
     "text": [
      "-----------------------------------------\n",
      "| eval/                   |             |\n",
      "|    mean_ep_length       | 520         |\n",
      "|    mean_reward          | 9.84        |\n",
      "| time/                   |             |\n",
      "|    total_timesteps      | 288000      |\n",
      "| train/                  |             |\n",
      "|    approx_kl            | 0.008548347 |\n",
      "|    clip_fraction        | 0.0348      |\n",
      "|    clip_range           | 0.2         |\n",
      "|    entropy_loss         | -2.43       |\n",
      "|    explained_variance   | 0.721       |\n",
      "|    learning_rate        | 7.77e-05    |\n",
      "|    loss                 | 29.3        |\n",
      "|    n_updates            | 350         |\n",
      "|    policy_gradient_loss | -0.00353    |\n",
      "|    std                  | 0.836       |\n",
      "|    value_loss           | 56.7        |\n",
      "-----------------------------------------\n",
      "---------------------------------\n",
      "| rollout/           |          |\n",
      "|    ep_len_mean     | 524      |\n",
      "|    ep_rew_mean     | 22.2     |\n",
      "| time/              |          |\n",
      "|    fps             | 4213     |\n",
      "|    iterations      | 36       |\n",
      "|    time_elapsed    | 69       |\n",
      "|    total_timesteps | 294912   |\n",
      "---------------------------------\n",
      "------------------------------------------\n",
      "| rollout/                |              |\n",
      "|    ep_len_mean          | 491          |\n",
      "|    ep_rew_mean          | 29.2         |\n",
      "| time/                   |              |\n",
      "|    fps                  | 4256         |\n",
      "|    iterations           | 37           |\n",
      "|    time_elapsed         | 71           |\n",
      "|    total_timesteps      | 303104       |\n",
      "| train/                  |              |\n",
      "|    approx_kl            | 0.0012238857 |\n",
      "|    clip_fraction        | 0.00586      |\n",
      "|    clip_range           | 0.2          |\n",
      "|    entropy_loss         | -2.47        |\n",
      "|    explained_variance   | 0.693        |\n",
      "|    learning_rate        | 7.77e-05     |\n",
      "|    loss                 | 37.3         |\n",
      "|    n_updates            | 360          |\n",
      "|    policy_gradient_loss | -0.00132     |\n",
      "|    std                  | 0.831        |\n",
      "|    value_loss           | 70.7         |\n",
      "------------------------------------------\n"
     ]
    },
    {
     "data": {
      "text/html": [
       "<pre style=\"white-space:pre;overflow-x:auto;line-height:normal;font-family:Menlo,'DejaVu Sans Mono',consolas,'Courier New',monospace\">\r",
       "\u001b[2KEval num_timesteps=304000, episode_reward=43.95 +/- 72.09\n",
       "<span style=\"color: #800080; text-decoration-color: #800080\">  30%</span> <span style=\"color: #f92672; text-decoration-color: #f92672\">━━━━━━━━━━━━━━━━╸</span><span style=\"color: #3a3a3a; text-decoration-color: #3a3a3a\">━━━━━━━━━━━━━━━━━━━━━━━━━━━━━━━━━━━━━━</span> <span style=\"color: #008000; text-decoration-color: #008000\">302,528/1,000,000 </span> [ <span style=\"color: #808000; text-decoration-color: #808000\">0:01:13</span> &lt; <span style=\"color: #008080; text-decoration-color: #008080\">0:02:39</span> , <span style=\"color: #800000; text-decoration-color: #800000\">4,391 it/s</span> ]</pre>\n"
      ],
      "text/plain": [
       "\r",
       "\u001b[2KEval num_timesteps=304000, episode_reward=43.95 +/- 72.09\n",
       "\u001b[35m  30%\u001b[0m \u001b[38;2;249;38;114m━━━━━━━━━━━━━━━━\u001b[0m\u001b[38;2;249;38;114m╸\u001b[0m\u001b[38;5;237m━━━━━━━━━━━━━━━━━━━━━━━━━━━━━━━━━━━━━━\u001b[0m \u001b[32m302,528/1,000,000 \u001b[0m [ \u001b[33m0:01:13\u001b[0m < \u001b[36m0:02:39\u001b[0m , \u001b[31m4,391 it/s\u001b[0m ]"
      ]
     },
     "metadata": {},
     "output_type": "display_data"
    },
    {
     "data": {
      "text/html": [
       "<pre style=\"white-space:pre;overflow-x:auto;line-height:normal;font-family:Menlo,'DejaVu Sans Mono',consolas,'Courier New',monospace\">\r",
       "\u001b[2KEpisode length: 385.40 +/- 311.84\n",
       "<span style=\"color: #800080; text-decoration-color: #800080\">  30%</span> <span style=\"color: #f92672; text-decoration-color: #f92672\">━━━━━━━━━━━━━━━━╸</span><span style=\"color: #3a3a3a; text-decoration-color: #3a3a3a\">━━━━━━━━━━━━━━━━━━━━━━━━━━━━━━━━━━━━━━</span> <span style=\"color: #008000; text-decoration-color: #008000\">302,528/1,000,000 </span> [ <span style=\"color: #808000; text-decoration-color: #808000\">0:01:13</span> &lt; <span style=\"color: #008080; text-decoration-color: #008080\">0:02:39</span> , <span style=\"color: #800000; text-decoration-color: #800000\">4,391 it/s</span> ]</pre>\n"
      ],
      "text/plain": [
       "\r",
       "\u001b[2KEpisode length: 385.40 +/- 311.84\n",
       "\u001b[35m  30%\u001b[0m \u001b[38;2;249;38;114m━━━━━━━━━━━━━━━━\u001b[0m\u001b[38;2;249;38;114m╸\u001b[0m\u001b[38;5;237m━━━━━━━━━━━━━━━━━━━━━━━━━━━━━━━━━━━━━━\u001b[0m \u001b[32m302,528/1,000,000 \u001b[0m [ \u001b[33m0:01:13\u001b[0m < \u001b[36m0:02:39\u001b[0m , \u001b[31m4,391 it/s\u001b[0m ]"
      ]
     },
     "metadata": {},
     "output_type": "display_data"
    },
    {
     "name": "stdout",
     "output_type": "stream",
     "text": [
      "------------------------------------------\n",
      "| eval/                   |              |\n",
      "|    mean_ep_length       | 385          |\n",
      "|    mean_reward          | 43.9         |\n",
      "| time/                   |              |\n",
      "|    total_timesteps      | 304000       |\n",
      "| train/                  |              |\n",
      "|    approx_kl            | 0.0022016577 |\n",
      "|    clip_fraction        | 0.0164       |\n",
      "|    clip_range           | 0.2          |\n",
      "|    entropy_loss         | -2.44        |\n",
      "|    explained_variance   | 0.704        |\n",
      "|    learning_rate        | 7.77e-05     |\n",
      "|    loss                 | 45.6         |\n",
      "|    n_updates            | 370          |\n",
      "|    policy_gradient_loss | -0.00412     |\n",
      "|    std                  | 0.828        |\n",
      "|    value_loss           | 97.8         |\n",
      "------------------------------------------\n",
      "---------------------------------\n",
      "| rollout/           |          |\n",
      "|    ep_len_mean     | 453      |\n",
      "|    ep_rew_mean     | 34.8     |\n",
      "| time/              |          |\n",
      "|    fps             | 4212     |\n",
      "|    iterations      | 38       |\n",
      "|    time_elapsed    | 73       |\n",
      "|    total_timesteps | 311296   |\n",
      "---------------------------------\n",
      "------------------------------------------\n",
      "| rollout/                |              |\n",
      "|    ep_len_mean          | 457          |\n",
      "|    ep_rew_mean          | 33           |\n",
      "| time/                   |              |\n",
      "|    fps                  | 4252         |\n",
      "|    iterations           | 39           |\n",
      "|    time_elapsed         | 75           |\n",
      "|    total_timesteps      | 319488       |\n",
      "| train/                  |              |\n",
      "|    approx_kl            | 0.0021260655 |\n",
      "|    clip_fraction        | 0.025        |\n",
      "|    clip_range           | 0.2          |\n",
      "|    entropy_loss         | -2.42        |\n",
      "|    explained_variance   | 0.666        |\n",
      "|    learning_rate        | 7.77e-05     |\n",
      "|    loss                 | 33.6         |\n",
      "|    n_updates            | 380          |\n",
      "|    policy_gradient_loss | -0.00264     |\n",
      "|    std                  | 0.826        |\n",
      "|    value_loss           | 69.5         |\n",
      "------------------------------------------\n"
     ]
    },
    {
     "data": {
      "text/html": [
       "<pre style=\"white-space:pre;overflow-x:auto;line-height:normal;font-family:Menlo,'DejaVu Sans Mono',consolas,'Courier New',monospace\">\r",
       "\u001b[2KEval num_timesteps=320000, episode_reward=80.61 +/- 10.01\n",
       "<span style=\"color: #800080; text-decoration-color: #800080\">  32%</span> <span style=\"color: #f92672; text-decoration-color: #f92672\">━━━━━━━━━━━━━━━━━╸</span><span style=\"color: #3a3a3a; text-decoration-color: #3a3a3a\">━━━━━━━━━━━━━━━━━━━━━━━━━━━━━━━━━━━━━</span> <span style=\"color: #008000; text-decoration-color: #008000\">319,552/1,000,000 </span> [ <span style=\"color: #808000; text-decoration-color: #808000\">0:01:16</span> &lt; <span style=\"color: #008080; text-decoration-color: #008080\">0:02:38</span> , <span style=\"color: #800000; text-decoration-color: #800000\">4,314 it/s</span> ]</pre>\n"
      ],
      "text/plain": [
       "\r",
       "\u001b[2KEval num_timesteps=320000, episode_reward=80.61 +/- 10.01\n",
       "\u001b[35m  32%\u001b[0m \u001b[38;2;249;38;114m━━━━━━━━━━━━━━━━━\u001b[0m\u001b[38;2;249;38;114m╸\u001b[0m\u001b[38;5;237m━━━━━━━━━━━━━━━━━━━━━━━━━━━━━━━━━━━━━\u001b[0m \u001b[32m319,552/1,000,000 \u001b[0m [ \u001b[33m0:01:16\u001b[0m < \u001b[36m0:02:38\u001b[0m , \u001b[31m4,314 it/s\u001b[0m ]"
      ]
     },
     "metadata": {},
     "output_type": "display_data"
    },
    {
     "data": {
      "text/html": [
       "<pre style=\"white-space:pre;overflow-x:auto;line-height:normal;font-family:Menlo,'DejaVu Sans Mono',consolas,'Courier New',monospace\">\r",
       "\u001b[2KEpisode length: 220.20 +/- 116.01\n",
       "<span style=\"color: #800080; text-decoration-color: #800080\">  32%</span> <span style=\"color: #f92672; text-decoration-color: #f92672\">━━━━━━━━━━━━━━━━━╸</span><span style=\"color: #3a3a3a; text-decoration-color: #3a3a3a\">━━━━━━━━━━━━━━━━━━━━━━━━━━━━━━━━━━━━━</span> <span style=\"color: #008000; text-decoration-color: #008000\">319,552/1,000,000 </span> [ <span style=\"color: #808000; text-decoration-color: #808000\">0:01:16</span> &lt; <span style=\"color: #008080; text-decoration-color: #008080\">0:02:38</span> , <span style=\"color: #800000; text-decoration-color: #800000\">4,314 it/s</span> ]</pre>\n"
      ],
      "text/plain": [
       "\r",
       "\u001b[2KEpisode length: 220.20 +/- 116.01\n",
       "\u001b[35m  32%\u001b[0m \u001b[38;2;249;38;114m━━━━━━━━━━━━━━━━━\u001b[0m\u001b[38;2;249;38;114m╸\u001b[0m\u001b[38;5;237m━━━━━━━━━━━━━━━━━━━━━━━━━━━━━━━━━━━━━\u001b[0m \u001b[32m319,552/1,000,000 \u001b[0m [ \u001b[33m0:01:16\u001b[0m < \u001b[36m0:02:38\u001b[0m , \u001b[31m4,314 it/s\u001b[0m ]"
      ]
     },
     "metadata": {},
     "output_type": "display_data"
    },
    {
     "name": "stdout",
     "output_type": "stream",
     "text": [
      "------------------------------------------\n",
      "| eval/                   |              |\n",
      "|    mean_ep_length       | 220          |\n",
      "|    mean_reward          | 80.6         |\n",
      "| time/                   |              |\n",
      "|    total_timesteps      | 320000       |\n",
      "| train/                  |              |\n",
      "|    approx_kl            | 0.0024031766 |\n",
      "|    clip_fraction        | 0.0265       |\n",
      "|    clip_range           | 0.2          |\n",
      "|    entropy_loss         | -2.43        |\n",
      "|    explained_variance   | 0.731        |\n",
      "|    learning_rate        | 7.77e-05     |\n",
      "|    loss                 | 32.6         |\n",
      "|    n_updates            | 390          |\n",
      "|    policy_gradient_loss | -0.00258     |\n",
      "|    std                  | 0.822        |\n",
      "|    value_loss           | 67.1         |\n",
      "------------------------------------------\n"
     ]
    },
    {
     "data": {
      "text/html": [
       "<pre style=\"white-space:pre;overflow-x:auto;line-height:normal;font-family:Menlo,'DejaVu Sans Mono',consolas,'Courier New',monospace\">\r",
       "\u001b[2KNew best mean reward!\n",
       "<span style=\"color: #800080; text-decoration-color: #800080\">  32%</span> <span style=\"color: #f92672; text-decoration-color: #f92672\">━━━━━━━━━━━━━━━━━╸</span><span style=\"color: #3a3a3a; text-decoration-color: #3a3a3a\">━━━━━━━━━━━━━━━━━━━━━━━━━━━━━━━━━━━━━</span> <span style=\"color: #008000; text-decoration-color: #008000\">319,552/1,000,000 </span> [ <span style=\"color: #808000; text-decoration-color: #808000\">0:01:16</span> &lt; <span style=\"color: #008080; text-decoration-color: #008080\">0:02:38</span> , <span style=\"color: #800000; text-decoration-color: #800000\">4,314 it/s</span> ]</pre>\n"
      ],
      "text/plain": [
       "\r",
       "\u001b[2KNew best mean reward!\n",
       "\u001b[35m  32%\u001b[0m \u001b[38;2;249;38;114m━━━━━━━━━━━━━━━━━\u001b[0m\u001b[38;2;249;38;114m╸\u001b[0m\u001b[38;5;237m━━━━━━━━━━━━━━━━━━━━━━━━━━━━━━━━━━━━━\u001b[0m \u001b[32m319,552/1,000,000 \u001b[0m [ \u001b[33m0:01:16\u001b[0m < \u001b[36m0:02:38\u001b[0m , \u001b[31m4,314 it/s\u001b[0m ]"
      ]
     },
     "metadata": {},
     "output_type": "display_data"
    },
    {
     "name": "stdout",
     "output_type": "stream",
     "text": [
      "---------------------------------\n",
      "| rollout/           |          |\n",
      "|    ep_len_mean     | 433      |\n",
      "|    ep_rew_mean     | 39.6     |\n",
      "| time/              |          |\n",
      "|    fps             | 4258     |\n",
      "|    iterations      | 40       |\n",
      "|    time_elapsed    | 76       |\n",
      "|    total_timesteps | 327680   |\n",
      "---------------------------------\n",
      "-----------------------------------------\n",
      "| rollout/                |             |\n",
      "|    ep_len_mean          | 389         |\n",
      "|    ep_rew_mean          | 51          |\n",
      "| time/                   |             |\n",
      "|    fps                  | 4294        |\n",
      "|    iterations           | 41          |\n",
      "|    time_elapsed         | 78          |\n",
      "|    total_timesteps      | 335872      |\n",
      "| train/                  |             |\n",
      "|    approx_kl            | 0.006176679 |\n",
      "|    clip_fraction        | 0.0578      |\n",
      "|    clip_range           | 0.2         |\n",
      "|    entropy_loss         | -2.45       |\n",
      "|    explained_variance   | 0.635       |\n",
      "|    learning_rate        | 7.77e-05    |\n",
      "|    loss                 | 38.2        |\n",
      "|    n_updates            | 400         |\n",
      "|    policy_gradient_loss | -0.00536    |\n",
      "|    std                  | 0.819       |\n",
      "|    value_loss           | 105         |\n",
      "-----------------------------------------\n"
     ]
    },
    {
     "data": {
      "text/html": [
       "<pre style=\"white-space:pre;overflow-x:auto;line-height:normal;font-family:Menlo,'DejaVu Sans Mono',consolas,'Courier New',monospace\">\r",
       "\u001b[2KEval num_timesteps=336000, episode_reward=72.31 +/- 12.82\n",
       "<span style=\"color: #800080; text-decoration-color: #800080\">  34%</span> <span style=\"color: #f92672; text-decoration-color: #f92672\">━━━━━━━━━━━━━━━━━━</span><span style=\"color: #3a3a3a; text-decoration-color: #3a3a3a\">╺━━━━━━━━━━━━━━━━━━━━━━━━━━━━━━━━━━━━</span> <span style=\"color: #008000; text-decoration-color: #008000\">335,872/1,000,000 </span> [ <span style=\"color: #808000; text-decoration-color: #808000\">0:01:19</span> &lt; <span style=\"color: #008080; text-decoration-color: #008080\">0:02:31</span> , <span style=\"color: #800000; text-decoration-color: #800000\">4,413 it/s</span> ]</pre>\n"
      ],
      "text/plain": [
       "\r",
       "\u001b[2KEval num_timesteps=336000, episode_reward=72.31 +/- 12.82\n",
       "\u001b[35m  34%\u001b[0m \u001b[38;2;249;38;114m━━━━━━━━━━━━━━━━━━\u001b[0m\u001b[38;5;237m╺\u001b[0m\u001b[38;5;237m━━━━━━━━━━━━━━━━━━━━━━━━━━━━━━━━━━━━\u001b[0m \u001b[32m335,872/1,000,000 \u001b[0m [ \u001b[33m0:01:19\u001b[0m < \u001b[36m0:02:31\u001b[0m , \u001b[31m4,413 it/s\u001b[0m ]"
      ]
     },
     "metadata": {},
     "output_type": "display_data"
    },
    {
     "data": {
      "text/html": [
       "<pre style=\"white-space:pre;overflow-x:auto;line-height:normal;font-family:Menlo,'DejaVu Sans Mono',consolas,'Courier New',monospace\">\r",
       "\u001b[2KEpisode length: 313.60 +/- 142.71\n",
       "<span style=\"color: #800080; text-decoration-color: #800080\">  34%</span> <span style=\"color: #f92672; text-decoration-color: #f92672\">━━━━━━━━━━━━━━━━━━</span><span style=\"color: #3a3a3a; text-decoration-color: #3a3a3a\">╺━━━━━━━━━━━━━━━━━━━━━━━━━━━━━━━━━━━━</span> <span style=\"color: #008000; text-decoration-color: #008000\">335,872/1,000,000 </span> [ <span style=\"color: #808000; text-decoration-color: #808000\">0:01:19</span> &lt; <span style=\"color: #008080; text-decoration-color: #008080\">0:02:31</span> , <span style=\"color: #800000; text-decoration-color: #800000\">4,413 it/s</span> ]</pre>\n"
      ],
      "text/plain": [
       "\r",
       "\u001b[2KEpisode length: 313.60 +/- 142.71\n",
       "\u001b[35m  34%\u001b[0m \u001b[38;2;249;38;114m━━━━━━━━━━━━━━━━━━\u001b[0m\u001b[38;5;237m╺\u001b[0m\u001b[38;5;237m━━━━━━━━━━━━━━━━━━━━━━━━━━━━━━━━━━━━\u001b[0m \u001b[32m335,872/1,000,000 \u001b[0m [ \u001b[33m0:01:19\u001b[0m < \u001b[36m0:02:31\u001b[0m , \u001b[31m4,413 it/s\u001b[0m ]"
      ]
     },
     "metadata": {},
     "output_type": "display_data"
    },
    {
     "name": "stdout",
     "output_type": "stream",
     "text": [
      "----------------------------------------\n",
      "| eval/                   |            |\n",
      "|    mean_ep_length       | 314        |\n",
      "|    mean_reward          | 72.3       |\n",
      "| time/                   |            |\n",
      "|    total_timesteps      | 336000     |\n",
      "| train/                  |            |\n",
      "|    approx_kl            | 0.00117026 |\n",
      "|    clip_fraction        | 0.00997    |\n",
      "|    clip_range           | 0.2        |\n",
      "|    entropy_loss         | -2.44      |\n",
      "|    explained_variance   | 0.687      |\n",
      "|    learning_rate        | 7.77e-05   |\n",
      "|    loss                 | 57.2       |\n",
      "|    n_updates            | 410        |\n",
      "|    policy_gradient_loss | -0.00232   |\n",
      "|    std                  | 0.816      |\n",
      "|    value_loss           | 112        |\n",
      "----------------------------------------\n",
      "---------------------------------\n",
      "| rollout/           |          |\n",
      "|    ep_len_mean     | 358      |\n",
      "|    ep_rew_mean     | 56.3     |\n",
      "| time/              |          |\n",
      "|    fps             | 4287     |\n",
      "|    iterations      | 42       |\n",
      "|    time_elapsed    | 80       |\n",
      "|    total_timesteps | 344064   |\n",
      "---------------------------------\n"
     ]
    },
    {
     "data": {
      "text/html": [
       "<pre style=\"white-space:pre;overflow-x:auto;line-height:normal;font-family:Menlo,'DejaVu Sans Mono',consolas,'Courier New',monospace\">\r",
       "\u001b[2KEval num_timesteps=352000, episode_reward=77.96 +/- 7.03\n",
       "<span style=\"color: #800080; text-decoration-color: #800080\">  35%</span> <span style=\"color: #f92672; text-decoration-color: #f92672\">━━━━━━━━━━━━━━━━━━━</span><span style=\"color: #3a3a3a; text-decoration-color: #3a3a3a\">╺━━━━━━━━━━━━━━━━━━━━━━━━━━━━━━━━━━━</span> <span style=\"color: #008000; text-decoration-color: #008000\">351,136/1,000,000 </span> [ <span style=\"color: #808000; text-decoration-color: #808000\">0:01:22</span> &lt; <span style=\"color: #008080; text-decoration-color: #008080\">0:02:23</span> , <span style=\"color: #800000; text-decoration-color: #800000\">4,561 it/s</span> ]</pre>\n"
      ],
      "text/plain": [
       "\r",
       "\u001b[2KEval num_timesteps=352000, episode_reward=77.96 +/- 7.03\n",
       "\u001b[35m  35%\u001b[0m \u001b[38;2;249;38;114m━━━━━━━━━━━━━━━━━━━\u001b[0m\u001b[38;5;237m╺\u001b[0m\u001b[38;5;237m━━━━━━━━━━━━━━━━━━━━━━━━━━━━━━━━━━━\u001b[0m \u001b[32m351,136/1,000,000 \u001b[0m [ \u001b[33m0:01:22\u001b[0m < \u001b[36m0:02:23\u001b[0m , \u001b[31m4,561 it/s\u001b[0m ]"
      ]
     },
     "metadata": {},
     "output_type": "display_data"
    },
    {
     "data": {
      "text/html": [
       "<pre style=\"white-space:pre;overflow-x:auto;line-height:normal;font-family:Menlo,'DejaVu Sans Mono',consolas,'Courier New',monospace\">\r",
       "\u001b[2KEpisode length: 250.60 +/- 78.31\n",
       "<span style=\"color: #800080; text-decoration-color: #800080\">  35%</span> <span style=\"color: #f92672; text-decoration-color: #f92672\">━━━━━━━━━━━━━━━━━━━</span><span style=\"color: #3a3a3a; text-decoration-color: #3a3a3a\">╺━━━━━━━━━━━━━━━━━━━━━━━━━━━━━━━━━━━</span> <span style=\"color: #008000; text-decoration-color: #008000\">351,136/1,000,000 </span> [ <span style=\"color: #808000; text-decoration-color: #808000\">0:01:22</span> &lt; <span style=\"color: #008080; text-decoration-color: #008080\">0:02:23</span> , <span style=\"color: #800000; text-decoration-color: #800000\">4,561 it/s</span> ]</pre>\n"
      ],
      "text/plain": [
       "\r",
       "\u001b[2KEpisode length: 250.60 +/- 78.31\n",
       "\u001b[35m  35%\u001b[0m \u001b[38;2;249;38;114m━━━━━━━━━━━━━━━━━━━\u001b[0m\u001b[38;5;237m╺\u001b[0m\u001b[38;5;237m━━━━━━━━━━━━━━━━━━━━━━━━━━━━━━━━━━━\u001b[0m \u001b[32m351,136/1,000,000 \u001b[0m [ \u001b[33m0:01:22\u001b[0m < \u001b[36m0:02:23\u001b[0m , \u001b[31m4,561 it/s\u001b[0m ]"
      ]
     },
     "metadata": {},
     "output_type": "display_data"
    },
    {
     "name": "stdout",
     "output_type": "stream",
     "text": [
      "-------------------------------------------\n",
      "| eval/                   |               |\n",
      "|    mean_ep_length       | 251           |\n",
      "|    mean_reward          | 78            |\n",
      "| time/                   |               |\n",
      "|    total_timesteps      | 352000        |\n",
      "| train/                  |               |\n",
      "|    approx_kl            | 0.00078389945 |\n",
      "|    clip_fraction        | 0.00992       |\n",
      "|    clip_range           | 0.2           |\n",
      "|    entropy_loss         | -2.44         |\n",
      "|    explained_variance   | 0.696         |\n",
      "|    learning_rate        | 7.77e-05      |\n",
      "|    loss                 | 32.3          |\n",
      "|    n_updates            | 420           |\n",
      "|    policy_gradient_loss | -0.00339      |\n",
      "|    std                  | 0.815         |\n",
      "|    value_loss           | 82.5          |\n",
      "-------------------------------------------\n",
      "---------------------------------\n",
      "| rollout/           |          |\n",
      "|    ep_len_mean     | 382      |\n",
      "|    ep_rew_mean     | 53       |\n",
      "| time/              |          |\n",
      "|    fps             | 4290     |\n",
      "|    iterations      | 43       |\n",
      "|    time_elapsed    | 82       |\n",
      "|    total_timesteps | 352256   |\n",
      "---------------------------------\n",
      "------------------------------------------\n",
      "| rollout/                |              |\n",
      "|    ep_len_mean          | 288          |\n",
      "|    ep_rew_mean          | 72.4         |\n",
      "| time/                   |              |\n",
      "|    fps                  | 4324         |\n",
      "|    iterations           | 44           |\n",
      "|    time_elapsed         | 83           |\n",
      "|    total_timesteps      | 360448       |\n",
      "| train/                  |              |\n",
      "|    approx_kl            | 0.0022037702 |\n",
      "|    clip_fraction        | 0.0274       |\n",
      "|    clip_range           | 0.2          |\n",
      "|    entropy_loss         | -2.39        |\n",
      "|    explained_variance   | 0.715        |\n",
      "|    learning_rate        | 7.77e-05     |\n",
      "|    loss                 | 31.9         |\n",
      "|    n_updates            | 430          |\n",
      "|    policy_gradient_loss | -0.00723     |\n",
      "|    std                  | 0.812        |\n",
      "|    value_loss           | 83.5         |\n",
      "------------------------------------------\n"
     ]
    },
    {
     "data": {
      "text/html": [
       "<pre style=\"white-space:pre;overflow-x:auto;line-height:normal;font-family:Menlo,'DejaVu Sans Mono',consolas,'Courier New',monospace\">\r",
       "\u001b[2KEval num_timesteps=368000, episode_reward=10.43 +/- 90.15\n",
       "<span style=\"color: #800080; text-decoration-color: #800080\">  37%</span> <span style=\"color: #f92672; text-decoration-color: #f92672\">━━━━━━━━━━━━━━━━━━━━</span><span style=\"color: #3a3a3a; text-decoration-color: #3a3a3a\">╺━━━━━━━━━━━━━━━━━━━━━━━━━━━━━━━━━━</span> <span style=\"color: #008000; text-decoration-color: #008000\">367,936/1,000,000 </span> [ <span style=\"color: #808000; text-decoration-color: #808000\">0:01:25</span> &lt; <span style=\"color: #008080; text-decoration-color: #008080\">0:02:16</span> , <span style=\"color: #800000; text-decoration-color: #800000\">4,672 it/s</span> ]</pre>\n"
      ],
      "text/plain": [
       "\r",
       "\u001b[2KEval num_timesteps=368000, episode_reward=10.43 +/- 90.15\n",
       "\u001b[35m  37%\u001b[0m \u001b[38;2;249;38;114m━━━━━━━━━━━━━━━━━━━━\u001b[0m\u001b[38;5;237m╺\u001b[0m\u001b[38;5;237m━━━━━━━━━━━━━━━━━━━━━━━━━━━━━━━━━━\u001b[0m \u001b[32m367,936/1,000,000 \u001b[0m [ \u001b[33m0:01:25\u001b[0m < \u001b[36m0:02:16\u001b[0m , \u001b[31m4,672 it/s\u001b[0m ]"
      ]
     },
     "metadata": {},
     "output_type": "display_data"
    },
    {
     "data": {
      "text/html": [
       "<pre style=\"white-space:pre;overflow-x:auto;line-height:normal;font-family:Menlo,'DejaVu Sans Mono',consolas,'Courier New',monospace\">\r",
       "\u001b[2KEpisode length: 507.60 +/- 403.43\n",
       "<span style=\"color: #800080; text-decoration-color: #800080\">  37%</span> <span style=\"color: #f92672; text-decoration-color: #f92672\">━━━━━━━━━━━━━━━━━━━━</span><span style=\"color: #3a3a3a; text-decoration-color: #3a3a3a\">╺━━━━━━━━━━━━━━━━━━━━━━━━━━━━━━━━━━</span> <span style=\"color: #008000; text-decoration-color: #008000\">367,936/1,000,000 </span> [ <span style=\"color: #808000; text-decoration-color: #808000\">0:01:25</span> &lt; <span style=\"color: #008080; text-decoration-color: #008080\">0:02:16</span> , <span style=\"color: #800000; text-decoration-color: #800000\">4,672 it/s</span> ]</pre>\n"
      ],
      "text/plain": [
       "\r",
       "\u001b[2KEpisode length: 507.60 +/- 403.43\n",
       "\u001b[35m  37%\u001b[0m \u001b[38;2;249;38;114m━━━━━━━━━━━━━━━━━━━━\u001b[0m\u001b[38;5;237m╺\u001b[0m\u001b[38;5;237m━━━━━━━━━━━━━━━━━━━━━━━━━━━━━━━━━━\u001b[0m \u001b[32m367,936/1,000,000 \u001b[0m [ \u001b[33m0:01:25\u001b[0m < \u001b[36m0:02:16\u001b[0m , \u001b[31m4,672 it/s\u001b[0m ]"
      ]
     },
     "metadata": {},
     "output_type": "display_data"
    },
    {
     "name": "stdout",
     "output_type": "stream",
     "text": [
      "------------------------------------------\n",
      "| eval/                   |              |\n",
      "|    mean_ep_length       | 508          |\n",
      "|    mean_reward          | 10.4         |\n",
      "| time/                   |              |\n",
      "|    total_timesteps      | 368000       |\n",
      "| train/                  |              |\n",
      "|    approx_kl            | 0.0074087735 |\n",
      "|    clip_fraction        | 0.0341       |\n",
      "|    clip_range           | 0.2          |\n",
      "|    entropy_loss         | -2.44        |\n",
      "|    explained_variance   | 0.732        |\n",
      "|    learning_rate        | 7.77e-05     |\n",
      "|    loss                 | 49.9         |\n",
      "|    n_updates            | 440          |\n",
      "|    policy_gradient_loss | -0.00818     |\n",
      "|    std                  | 0.807        |\n",
      "|    value_loss           | 119          |\n",
      "------------------------------------------\n",
      "---------------------------------\n",
      "| rollout/           |          |\n",
      "|    ep_len_mean     | 290      |\n",
      "|    ep_rew_mean     | 72.3     |\n",
      "| time/              |          |\n",
      "|    fps             | 4284     |\n",
      "|    iterations      | 45       |\n",
      "|    time_elapsed    | 86       |\n",
      "|    total_timesteps | 368640   |\n",
      "---------------------------------\n",
      "----------------------------------------\n",
      "| rollout/                |            |\n",
      "|    ep_len_mean          | 297        |\n",
      "|    ep_rew_mean          | 68.3       |\n",
      "| time/                   |            |\n",
      "|    fps                  | 4318       |\n",
      "|    iterations           | 46         |\n",
      "|    time_elapsed         | 87         |\n",
      "|    total_timesteps      | 376832     |\n",
      "| train/                  |            |\n",
      "|    approx_kl            | 0.00457506 |\n",
      "|    clip_fraction        | 0.0245     |\n",
      "|    clip_range           | 0.2        |\n",
      "|    entropy_loss         | -2.44      |\n",
      "|    explained_variance   | 0.71       |\n",
      "|    learning_rate        | 7.77e-05   |\n",
      "|    loss                 | 55.4       |\n",
      "|    n_updates            | 450        |\n",
      "|    policy_gradient_loss | -0.00483   |\n",
      "|    std                  | 0.802      |\n",
      "|    value_loss           | 96.8       |\n",
      "----------------------------------------\n"
     ]
    },
    {
     "data": {
      "text/html": [
       "<pre style=\"white-space:pre;overflow-x:auto;line-height:normal;font-family:Menlo,'DejaVu Sans Mono',consolas,'Courier New',monospace\">\r",
       "\u001b[2KEval num_timesteps=384000, episode_reward=28.92 +/- 69.50\n",
       "<span style=\"color: #800080; text-decoration-color: #800080\">  38%</span> <span style=\"color: #f92672; text-decoration-color: #f92672\">━━━━━━━━━━━━━━━━━━━━━</span><span style=\"color: #3a3a3a; text-decoration-color: #3a3a3a\">╺━━━━━━━━━━━━━━━━━━━━━━━━━━━━━━━━━</span> <span style=\"color: #008000; text-decoration-color: #008000\">383,040/1,000,000 </span> [ <span style=\"color: #808000; text-decoration-color: #808000\">0:01:29</span> &lt; <span style=\"color: #008080; text-decoration-color: #008080\">0:02:13</span> , <span style=\"color: #800000; text-decoration-color: #800000\">4,667 it/s</span> ]</pre>\n"
      ],
      "text/plain": [
       "\r",
       "\u001b[2KEval num_timesteps=384000, episode_reward=28.92 +/- 69.50\n",
       "\u001b[35m  38%\u001b[0m \u001b[38;2;249;38;114m━━━━━━━━━━━━━━━━━━━━━\u001b[0m\u001b[38;5;237m╺\u001b[0m\u001b[38;5;237m━━━━━━━━━━━━━━━━━━━━━━━━━━━━━━━━━\u001b[0m \u001b[32m383,040/1,000,000 \u001b[0m [ \u001b[33m0:01:29\u001b[0m < \u001b[36m0:02:13\u001b[0m , \u001b[31m4,667 it/s\u001b[0m ]"
      ]
     },
     "metadata": {},
     "output_type": "display_data"
    },
    {
     "data": {
      "text/html": [
       "<pre style=\"white-space:pre;overflow-x:auto;line-height:normal;font-family:Menlo,'DejaVu Sans Mono',consolas,'Courier New',monospace\">\r",
       "\u001b[2KEpisode length: 536.20 +/- 354.02\n",
       "<span style=\"color: #800080; text-decoration-color: #800080\">  38%</span> <span style=\"color: #f92672; text-decoration-color: #f92672\">━━━━━━━━━━━━━━━━━━━━━</span><span style=\"color: #3a3a3a; text-decoration-color: #3a3a3a\">╺━━━━━━━━━━━━━━━━━━━━━━━━━━━━━━━━━</span> <span style=\"color: #008000; text-decoration-color: #008000\">383,040/1,000,000 </span> [ <span style=\"color: #808000; text-decoration-color: #808000\">0:01:29</span> &lt; <span style=\"color: #008080; text-decoration-color: #008080\">0:02:13</span> , <span style=\"color: #800000; text-decoration-color: #800000\">4,667 it/s</span> ]</pre>\n"
      ],
      "text/plain": [
       "\r",
       "\u001b[2KEpisode length: 536.20 +/- 354.02\n",
       "\u001b[35m  38%\u001b[0m \u001b[38;2;249;38;114m━━━━━━━━━━━━━━━━━━━━━\u001b[0m\u001b[38;5;237m╺\u001b[0m\u001b[38;5;237m━━━━━━━━━━━━━━━━━━━━━━━━━━━━━━━━━\u001b[0m \u001b[32m383,040/1,000,000 \u001b[0m [ \u001b[33m0:01:29\u001b[0m < \u001b[36m0:02:13\u001b[0m , \u001b[31m4,667 it/s\u001b[0m ]"
      ]
     },
     "metadata": {},
     "output_type": "display_data"
    },
    {
     "name": "stdout",
     "output_type": "stream",
     "text": [
      "------------------------------------------\n",
      "| eval/                   |              |\n",
      "|    mean_ep_length       | 536          |\n",
      "|    mean_reward          | 28.9         |\n",
      "| time/                   |              |\n",
      "|    total_timesteps      | 384000       |\n",
      "| train/                  |              |\n",
      "|    approx_kl            | 0.0051248316 |\n",
      "|    clip_fraction        | 0.018        |\n",
      "|    clip_range           | 0.2          |\n",
      "|    entropy_loss         | -2.41        |\n",
      "|    explained_variance   | 0.723        |\n",
      "|    learning_rate        | 7.77e-05     |\n",
      "|    loss                 | 38.8         |\n",
      "|    n_updates            | 460          |\n",
      "|    policy_gradient_loss | -0.00358     |\n",
      "|    std                  | 0.793        |\n",
      "|    value_loss           | 96.7         |\n",
      "------------------------------------------\n",
      "---------------------------------\n",
      "| rollout/           |          |\n",
      "|    ep_len_mean     | 306      |\n",
      "|    ep_rew_mean     | 65.1     |\n",
      "| time/              |          |\n",
      "|    fps             | 4279     |\n",
      "|    iterations      | 47       |\n",
      "|    time_elapsed    | 89       |\n",
      "|    total_timesteps | 385024   |\n",
      "---------------------------------\n",
      "----------------------------------------\n",
      "| rollout/                |            |\n",
      "|    ep_len_mean          | 334        |\n",
      "|    ep_rew_mean          | 58.1       |\n",
      "| time/                   |            |\n",
      "|    fps                  | 4309       |\n",
      "|    iterations           | 48         |\n",
      "|    time_elapsed         | 91         |\n",
      "|    total_timesteps      | 393216     |\n",
      "| train/                  |            |\n",
      "|    approx_kl            | 0.00661802 |\n",
      "|    clip_fraction        | 0.078      |\n",
      "|    clip_range           | 0.2        |\n",
      "|    entropy_loss         | -2.33      |\n",
      "|    explained_variance   | 0.739      |\n",
      "|    learning_rate        | 7.77e-05   |\n",
      "|    loss                 | 49.7       |\n",
      "|    n_updates            | 470        |\n",
      "|    policy_gradient_loss | -0.004     |\n",
      "|    std                  | 0.794      |\n",
      "|    value_loss           | 105        |\n",
      "----------------------------------------\n"
     ]
    },
    {
     "data": {
      "text/html": [
       "<pre style=\"white-space:pre;overflow-x:auto;line-height:normal;font-family:Menlo,'DejaVu Sans Mono',consolas,'Courier New',monospace\">\r",
       "\u001b[2KEval num_timesteps=400000, episode_reward=47.86 +/- 73.97\n",
       "<span style=\"color: #800080; text-decoration-color: #800080\">  40%</span> <span style=\"color: #f92672; text-decoration-color: #f92672\">━━━━━━━━━━━━━━━━━━━━━╸</span><span style=\"color: #3a3a3a; text-decoration-color: #3a3a3a\">━━━━━━━━━━━━━━━━━━━━━━━━━━━━━━━━━</span> <span style=\"color: #008000; text-decoration-color: #008000\">399,008/1,000,000 </span> [ <span style=\"color: #808000; text-decoration-color: #808000\">0:01:33</span> &lt; <span style=\"color: #008080; text-decoration-color: #008080\">0:02:10</span> , <span style=\"color: #800000; text-decoration-color: #800000\">4,640 it/s</span> ]</pre>\n"
      ],
      "text/plain": [
       "\r",
       "\u001b[2KEval num_timesteps=400000, episode_reward=47.86 +/- 73.97\n",
       "\u001b[35m  40%\u001b[0m \u001b[38;2;249;38;114m━━━━━━━━━━━━━━━━━━━━━\u001b[0m\u001b[38;2;249;38;114m╸\u001b[0m\u001b[38;5;237m━━━━━━━━━━━━━━━━━━━━━━━━━━━━━━━━━\u001b[0m \u001b[32m399,008/1,000,000 \u001b[0m [ \u001b[33m0:01:33\u001b[0m < \u001b[36m0:02:10\u001b[0m , \u001b[31m4,640 it/s\u001b[0m ]"
      ]
     },
     "metadata": {},
     "output_type": "display_data"
    },
    {
     "data": {
      "text/html": [
       "<pre style=\"white-space:pre;overflow-x:auto;line-height:normal;font-family:Menlo,'DejaVu Sans Mono',consolas,'Courier New',monospace\">\r",
       "\u001b[2KEpisode length: 334.40 +/- 335.22\n",
       "<span style=\"color: #800080; text-decoration-color: #800080\">  40%</span> <span style=\"color: #f92672; text-decoration-color: #f92672\">━━━━━━━━━━━━━━━━━━━━━╸</span><span style=\"color: #3a3a3a; text-decoration-color: #3a3a3a\">━━━━━━━━━━━━━━━━━━━━━━━━━━━━━━━━━</span> <span style=\"color: #008000; text-decoration-color: #008000\">399,008/1,000,000 </span> [ <span style=\"color: #808000; text-decoration-color: #808000\">0:01:33</span> &lt; <span style=\"color: #008080; text-decoration-color: #008080\">0:02:10</span> , <span style=\"color: #800000; text-decoration-color: #800000\">4,640 it/s</span> ]</pre>\n"
      ],
      "text/plain": [
       "\r",
       "\u001b[2KEpisode length: 334.40 +/- 335.22\n",
       "\u001b[35m  40%\u001b[0m \u001b[38;2;249;38;114m━━━━━━━━━━━━━━━━━━━━━\u001b[0m\u001b[38;2;249;38;114m╸\u001b[0m\u001b[38;5;237m━━━━━━━━━━━━━━━━━━━━━━━━━━━━━━━━━\u001b[0m \u001b[32m399,008/1,000,000 \u001b[0m [ \u001b[33m0:01:33\u001b[0m < \u001b[36m0:02:10\u001b[0m , \u001b[31m4,640 it/s\u001b[0m ]"
      ]
     },
     "metadata": {},
     "output_type": "display_data"
    },
    {
     "name": "stdout",
     "output_type": "stream",
     "text": [
      "-----------------------------------------\n",
      "| eval/                   |             |\n",
      "|    mean_ep_length       | 334         |\n",
      "|    mean_reward          | 47.9        |\n",
      "| time/                   |             |\n",
      "|    total_timesteps      | 400000      |\n",
      "| train/                  |             |\n",
      "|    approx_kl            | 0.008448731 |\n",
      "|    clip_fraction        | 0.0531      |\n",
      "|    clip_range           | 0.2         |\n",
      "|    entropy_loss         | -2.36       |\n",
      "|    explained_variance   | 0.735       |\n",
      "|    learning_rate        | 7.77e-05    |\n",
      "|    loss                 | 53.2        |\n",
      "|    n_updates            | 480         |\n",
      "|    policy_gradient_loss | -0.00527    |\n",
      "|    std                  | 0.785       |\n",
      "|    value_loss           | 82.8        |\n",
      "-----------------------------------------\n",
      "---------------------------------\n",
      "| rollout/           |          |\n",
      "|    ep_len_mean     | 339      |\n",
      "|    ep_rew_mean     | 55.3     |\n",
      "| time/              |          |\n",
      "|    fps             | 4270     |\n",
      "|    iterations      | 49       |\n",
      "|    time_elapsed    | 93       |\n",
      "|    total_timesteps | 401408   |\n",
      "---------------------------------\n",
      "------------------------------------------\n",
      "| rollout/                |              |\n",
      "|    ep_len_mean          | 358          |\n",
      "|    ep_rew_mean          | 51.2         |\n",
      "| time/                   |              |\n",
      "|    fps                  | 4301         |\n",
      "|    iterations           | 50           |\n",
      "|    time_elapsed         | 95           |\n",
      "|    total_timesteps      | 409600       |\n",
      "| train/                  |              |\n",
      "|    approx_kl            | 0.0066712485 |\n",
      "|    clip_fraction        | 0.0494       |\n",
      "|    clip_range           | 0.2          |\n",
      "|    entropy_loss         | -2.36        |\n",
      "|    explained_variance   | 0.73         |\n",
      "|    learning_rate        | 7.77e-05     |\n",
      "|    loss                 | 56.7         |\n",
      "|    n_updates            | 490          |\n",
      "|    policy_gradient_loss | -0.00428     |\n",
      "|    std                  | 0.776        |\n",
      "|    value_loss           | 112          |\n",
      "------------------------------------------\n"
     ]
    },
    {
     "data": {
      "text/html": [
       "<pre style=\"white-space:pre;overflow-x:auto;line-height:normal;font-family:Menlo,'DejaVu Sans Mono',consolas,'Courier New',monospace\">\r",
       "\u001b[2KEval num_timesteps=416000, episode_reward=45.87 +/- 73.01\n",
       "<span style=\"color: #800080; text-decoration-color: #800080\">  42%</span> <span style=\"color: #f92672; text-decoration-color: #f92672\">━━━━━━━━━━━━━━━━━━━━━━╸</span><span style=\"color: #3a3a3a; text-decoration-color: #3a3a3a\">━━━━━━━━━━━━━━━━━━━━━━━━━━━━━━━━</span> <span style=\"color: #008000; text-decoration-color: #008000\">415,328/1,000,000 </span> [ <span style=\"color: #808000; text-decoration-color: #808000\">0:01:37</span> &lt; <span style=\"color: #008080; text-decoration-color: #008080\">0:02:07</span> , <span style=\"color: #800000; text-decoration-color: #800000\">4,628 it/s</span> ]</pre>\n"
      ],
      "text/plain": [
       "\r",
       "\u001b[2KEval num_timesteps=416000, episode_reward=45.87 +/- 73.01\n",
       "\u001b[35m  42%\u001b[0m \u001b[38;2;249;38;114m━━━━━━━━━━━━━━━━━━━━━━\u001b[0m\u001b[38;2;249;38;114m╸\u001b[0m\u001b[38;5;237m━━━━━━━━━━━━━━━━━━━━━━━━━━━━━━━━\u001b[0m \u001b[32m415,328/1,000,000 \u001b[0m [ \u001b[33m0:01:37\u001b[0m < \u001b[36m0:02:07\u001b[0m , \u001b[31m4,628 it/s\u001b[0m ]"
      ]
     },
     "metadata": {},
     "output_type": "display_data"
    },
    {
     "data": {
      "text/html": [
       "<pre style=\"white-space:pre;overflow-x:auto;line-height:normal;font-family:Menlo,'DejaVu Sans Mono',consolas,'Courier New',monospace\">\r",
       "\u001b[2KEpisode length: 357.80 +/- 324.57\n",
       "<span style=\"color: #800080; text-decoration-color: #800080\">  42%</span> <span style=\"color: #f92672; text-decoration-color: #f92672\">━━━━━━━━━━━━━━━━━━━━━━╸</span><span style=\"color: #3a3a3a; text-decoration-color: #3a3a3a\">━━━━━━━━━━━━━━━━━━━━━━━━━━━━━━━━</span> <span style=\"color: #008000; text-decoration-color: #008000\">415,328/1,000,000 </span> [ <span style=\"color: #808000; text-decoration-color: #808000\">0:01:37</span> &lt; <span style=\"color: #008080; text-decoration-color: #008080\">0:02:07</span> , <span style=\"color: #800000; text-decoration-color: #800000\">4,628 it/s</span> ]</pre>\n"
      ],
      "text/plain": [
       "\r",
       "\u001b[2KEpisode length: 357.80 +/- 324.57\n",
       "\u001b[35m  42%\u001b[0m \u001b[38;2;249;38;114m━━━━━━━━━━━━━━━━━━━━━━\u001b[0m\u001b[38;2;249;38;114m╸\u001b[0m\u001b[38;5;237m━━━━━━━━━━━━━━━━━━━━━━━━━━━━━━━━\u001b[0m \u001b[32m415,328/1,000,000 \u001b[0m [ \u001b[33m0:01:37\u001b[0m < \u001b[36m0:02:07\u001b[0m , \u001b[31m4,628 it/s\u001b[0m ]"
      ]
     },
     "metadata": {},
     "output_type": "display_data"
    },
    {
     "name": "stdout",
     "output_type": "stream",
     "text": [
      "------------------------------------------\n",
      "| eval/                   |              |\n",
      "|    mean_ep_length       | 358          |\n",
      "|    mean_reward          | 45.9         |\n",
      "| time/                   |              |\n",
      "|    total_timesteps      | 416000       |\n",
      "| train/                  |              |\n",
      "|    approx_kl            | 0.0047094543 |\n",
      "|    clip_fraction        | 0.0279       |\n",
      "|    clip_range           | 0.2          |\n",
      "|    entropy_loss         | -2.27        |\n",
      "|    explained_variance   | 0.75         |\n",
      "|    learning_rate        | 7.77e-05     |\n",
      "|    loss                 | 39.9         |\n",
      "|    n_updates            | 500          |\n",
      "|    policy_gradient_loss | -0.00347     |\n",
      "|    std                  | 0.778        |\n",
      "|    value_loss           | 87.3         |\n",
      "------------------------------------------\n",
      "---------------------------------\n",
      "| rollout/           |          |\n",
      "|    ep_len_mean     | 361      |\n",
      "|    ep_rew_mean     | 49.7     |\n",
      "| time/              |          |\n",
      "|    fps             | 4267     |\n",
      "|    iterations      | 51       |\n",
      "|    time_elapsed    | 97       |\n",
      "|    total_timesteps | 417792   |\n",
      "---------------------------------\n",
      "------------------------------------------\n",
      "| rollout/                |              |\n",
      "|    ep_len_mean          | 323          |\n",
      "|    ep_rew_mean          | 57.4         |\n",
      "| time/                   |              |\n",
      "|    fps                  | 4297         |\n",
      "|    iterations           | 52           |\n",
      "|    time_elapsed         | 99           |\n",
      "|    total_timesteps      | 425984       |\n",
      "| train/                  |              |\n",
      "|    approx_kl            | 0.0045398506 |\n",
      "|    clip_fraction        | 0.0376       |\n",
      "|    clip_range           | 0.2          |\n",
      "|    entropy_loss         | -2.28        |\n",
      "|    explained_variance   | 0.76         |\n",
      "|    learning_rate        | 7.77e-05     |\n",
      "|    loss                 | 51.2         |\n",
      "|    n_updates            | 510          |\n",
      "|    policy_gradient_loss | -0.00751     |\n",
      "|    std                  | 0.776        |\n",
      "|    value_loss           | 96.8         |\n",
      "------------------------------------------\n"
     ]
    },
    {
     "data": {
      "text/html": [
       "<pre style=\"white-space:pre;overflow-x:auto;line-height:normal;font-family:Menlo,'DejaVu Sans Mono',consolas,'Courier New',monospace\">\r",
       "\u001b[2KEval num_timesteps=432000, episode_reward=87.77 +/- 2.62\n",
       "<span style=\"color: #800080; text-decoration-color: #800080\">  43%</span> <span style=\"color: #f92672; text-decoration-color: #f92672\">━━━━━━━━━━━━━━━━━━━━━━━╸</span><span style=\"color: #3a3a3a; text-decoration-color: #3a3a3a\">━━━━━━━━━━━━━━━━━━━━━━━━━━━━━━━</span> <span style=\"color: #008000; text-decoration-color: #008000\">431,872/1,000,000 </span> [ <span style=\"color: #808000; text-decoration-color: #808000\">0:01:40</span> &lt; <span style=\"color: #008080; text-decoration-color: #008080\">0:02:03</span> , <span style=\"color: #800000; text-decoration-color: #800000\">4,641 it/s</span> ]</pre>\n"
      ],
      "text/plain": [
       "\r",
       "\u001b[2KEval num_timesteps=432000, episode_reward=87.77 +/- 2.62\n",
       "\u001b[35m  43%\u001b[0m \u001b[38;2;249;38;114m━━━━━━━━━━━━━━━━━━━━━━━\u001b[0m\u001b[38;2;249;38;114m╸\u001b[0m\u001b[38;5;237m━━━━━━━━━━━━━━━━━━━━━━━━━━━━━━━\u001b[0m \u001b[32m431,872/1,000,000 \u001b[0m [ \u001b[33m0:01:40\u001b[0m < \u001b[36m0:02:03\u001b[0m , \u001b[31m4,641 it/s\u001b[0m ]"
      ]
     },
     "metadata": {},
     "output_type": "display_data"
    },
    {
     "data": {
      "text/html": [
       "<pre style=\"white-space:pre;overflow-x:auto;line-height:normal;font-family:Menlo,'DejaVu Sans Mono',consolas,'Courier New',monospace\">\r",
       "\u001b[2KEpisode length: 132.20 +/- 30.31\n",
       "<span style=\"color: #800080; text-decoration-color: #800080\">  43%</span> <span style=\"color: #f92672; text-decoration-color: #f92672\">━━━━━━━━━━━━━━━━━━━━━━━╸</span><span style=\"color: #3a3a3a; text-decoration-color: #3a3a3a\">━━━━━━━━━━━━━━━━━━━━━━━━━━━━━━━</span> <span style=\"color: #008000; text-decoration-color: #008000\">431,872/1,000,000 </span> [ <span style=\"color: #808000; text-decoration-color: #808000\">0:01:40</span> &lt; <span style=\"color: #008080; text-decoration-color: #008080\">0:02:03</span> , <span style=\"color: #800000; text-decoration-color: #800000\">4,641 it/s</span> ]</pre>\n"
      ],
      "text/plain": [
       "\r",
       "\u001b[2KEpisode length: 132.20 +/- 30.31\n",
       "\u001b[35m  43%\u001b[0m \u001b[38;2;249;38;114m━━━━━━━━━━━━━━━━━━━━━━━\u001b[0m\u001b[38;2;249;38;114m╸\u001b[0m\u001b[38;5;237m━━━━━━━━━━━━━━━━━━━━━━━━━━━━━━━\u001b[0m \u001b[32m431,872/1,000,000 \u001b[0m [ \u001b[33m0:01:40\u001b[0m < \u001b[36m0:02:03\u001b[0m , \u001b[31m4,641 it/s\u001b[0m ]"
      ]
     },
     "metadata": {},
     "output_type": "display_data"
    },
    {
     "name": "stdout",
     "output_type": "stream",
     "text": [
      "------------------------------------------\n",
      "| eval/                   |              |\n",
      "|    mean_ep_length       | 132          |\n",
      "|    mean_reward          | 87.8         |\n",
      "| time/                   |              |\n",
      "|    total_timesteps      | 432000       |\n",
      "| train/                  |              |\n",
      "|    approx_kl            | 0.0025148795 |\n",
      "|    clip_fraction        | 0.0236       |\n",
      "|    clip_range           | 0.2          |\n",
      "|    entropy_loss         | -2.29        |\n",
      "|    explained_variance   | 0.761        |\n",
      "|    learning_rate        | 7.77e-05     |\n",
      "|    loss                 | 39.6         |\n",
      "|    n_updates            | 520          |\n",
      "|    policy_gradient_loss | -0.00849     |\n",
      "|    std                  | 0.777        |\n",
      "|    value_loss           | 86.7         |\n",
      "------------------------------------------\n"
     ]
    },
    {
     "data": {
      "text/html": [
       "<pre style=\"white-space:pre;overflow-x:auto;line-height:normal;font-family:Menlo,'DejaVu Sans Mono',consolas,'Courier New',monospace\">\r",
       "\u001b[2KNew best mean reward!\n",
       "<span style=\"color: #800080; text-decoration-color: #800080\">  43%</span> <span style=\"color: #f92672; text-decoration-color: #f92672\">━━━━━━━━━━━━━━━━━━━━━━━╸</span><span style=\"color: #3a3a3a; text-decoration-color: #3a3a3a\">━━━━━━━━━━━━━━━━━━━━━━━━━━━━━━━</span> <span style=\"color: #008000; text-decoration-color: #008000\">431,872/1,000,000 </span> [ <span style=\"color: #808000; text-decoration-color: #808000\">0:01:40</span> &lt; <span style=\"color: #008080; text-decoration-color: #008080\">0:02:03</span> , <span style=\"color: #800000; text-decoration-color: #800000\">4,641 it/s</span> ]</pre>\n"
      ],
      "text/plain": [
       "\r",
       "\u001b[2KNew best mean reward!\n",
       "\u001b[35m  43%\u001b[0m \u001b[38;2;249;38;114m━━━━━━━━━━━━━━━━━━━━━━━\u001b[0m\u001b[38;2;249;38;114m╸\u001b[0m\u001b[38;5;237m━━━━━━━━━━━━━━━━━━━━━━━━━━━━━━━\u001b[0m \u001b[32m431,872/1,000,000 \u001b[0m [ \u001b[33m0:01:40\u001b[0m < \u001b[36m0:02:03\u001b[0m , \u001b[31m4,641 it/s\u001b[0m ]"
      ]
     },
     "metadata": {},
     "output_type": "display_data"
    },
    {
     "name": "stdout",
     "output_type": "stream",
     "text": [
      "---------------------------------\n",
      "| rollout/           |          |\n",
      "|    ep_len_mean     | 324      |\n",
      "|    ep_rew_mean     | 56.2     |\n",
      "| time/              |          |\n",
      "|    fps             | 4315     |\n",
      "|    iterations      | 53       |\n",
      "|    time_elapsed    | 100      |\n",
      "|    total_timesteps | 434176   |\n",
      "---------------------------------\n",
      "-----------------------------------------\n",
      "| rollout/                |             |\n",
      "|    ep_len_mean          | 285         |\n",
      "|    ep_rew_mean          | 65.1        |\n",
      "| time/                   |             |\n",
      "|    fps                  | 4344        |\n",
      "|    iterations           | 54          |\n",
      "|    time_elapsed         | 101         |\n",
      "|    total_timesteps      | 442368      |\n",
      "| train/                  |             |\n",
      "|    approx_kl            | 0.006932225 |\n",
      "|    clip_fraction        | 0.0332      |\n",
      "|    clip_range           | 0.2         |\n",
      "|    entropy_loss         | -2.25       |\n",
      "|    explained_variance   | 0.743       |\n",
      "|    learning_rate        | 7.77e-05    |\n",
      "|    loss                 | 48.1        |\n",
      "|    n_updates            | 530         |\n",
      "|    policy_gradient_loss | -0.0031     |\n",
      "|    std                  | 0.776       |\n",
      "|    value_loss           | 117         |\n",
      "-----------------------------------------\n"
     ]
    },
    {
     "data": {
      "text/html": [
       "<pre style=\"white-space:pre;overflow-x:auto;line-height:normal;font-family:Menlo,'DejaVu Sans Mono',consolas,'Courier New',monospace\">\r",
       "\u001b[2KEval num_timesteps=448000, episode_reward=84.53 +/- 5.14\n",
       "<span style=\"color: #800080; text-decoration-color: #800080\">  45%</span> <span style=\"color: #f92672; text-decoration-color: #f92672\">━━━━━━━━━━━━━━━━━━━━━━━━╸</span><span style=\"color: #3a3a3a; text-decoration-color: #3a3a3a\">━━━━━━━━━━━━━━━━━━━━━━━━━━━━━━</span> <span style=\"color: #008000; text-decoration-color: #008000\">446,848/1,000,000 </span> [ <span style=\"color: #808000; text-decoration-color: #808000\">0:01:43</span> &lt; <span style=\"color: #008080; text-decoration-color: #008080\">0:01:54</span> , <span style=\"color: #800000; text-decoration-color: #800000\">4,868 it/s</span> ]</pre>\n"
      ],
      "text/plain": [
       "\r",
       "\u001b[2KEval num_timesteps=448000, episode_reward=84.53 +/- 5.14\n",
       "\u001b[35m  45%\u001b[0m \u001b[38;2;249;38;114m━━━━━━━━━━━━━━━━━━━━━━━━\u001b[0m\u001b[38;2;249;38;114m╸\u001b[0m\u001b[38;5;237m━━━━━━━━━━━━━━━━━━━━━━━━━━━━━━\u001b[0m \u001b[32m446,848/1,000,000 \u001b[0m [ \u001b[33m0:01:43\u001b[0m < \u001b[36m0:01:54\u001b[0m , \u001b[31m4,868 it/s\u001b[0m ]"
      ]
     },
     "metadata": {},
     "output_type": "display_data"
    },
    {
     "data": {
      "text/html": [
       "<pre style=\"white-space:pre;overflow-x:auto;line-height:normal;font-family:Menlo,'DejaVu Sans Mono',consolas,'Courier New',monospace\">\r",
       "\u001b[2KEpisode length: 167.40 +/- 57.97\n",
       "<span style=\"color: #800080; text-decoration-color: #800080\">  45%</span> <span style=\"color: #f92672; text-decoration-color: #f92672\">━━━━━━━━━━━━━━━━━━━━━━━━╸</span><span style=\"color: #3a3a3a; text-decoration-color: #3a3a3a\">━━━━━━━━━━━━━━━━━━━━━━━━━━━━━━</span> <span style=\"color: #008000; text-decoration-color: #008000\">446,848/1,000,000 </span> [ <span style=\"color: #808000; text-decoration-color: #808000\">0:01:43</span> &lt; <span style=\"color: #008080; text-decoration-color: #008080\">0:01:54</span> , <span style=\"color: #800000; text-decoration-color: #800000\">4,868 it/s</span> ]</pre>\n"
      ],
      "text/plain": [
       "\r",
       "\u001b[2KEpisode length: 167.40 +/- 57.97\n",
       "\u001b[35m  45%\u001b[0m \u001b[38;2;249;38;114m━━━━━━━━━━━━━━━━━━━━━━━━\u001b[0m\u001b[38;2;249;38;114m╸\u001b[0m\u001b[38;5;237m━━━━━━━━━━━━━━━━━━━━━━━━━━━━━━\u001b[0m \u001b[32m446,848/1,000,000 \u001b[0m [ \u001b[33m0:01:43\u001b[0m < \u001b[36m0:01:54\u001b[0m , \u001b[31m4,868 it/s\u001b[0m ]"
      ]
     },
     "metadata": {},
     "output_type": "display_data"
    },
    {
     "name": "stdout",
     "output_type": "stream",
     "text": [
      "------------------------------------------\n",
      "| eval/                   |              |\n",
      "|    mean_ep_length       | 167          |\n",
      "|    mean_reward          | 84.5         |\n",
      "| time/                   |              |\n",
      "|    total_timesteps      | 448000       |\n",
      "| train/                  |              |\n",
      "|    approx_kl            | 0.0018467143 |\n",
      "|    clip_fraction        | 0.0151       |\n",
      "|    clip_range           | 0.2          |\n",
      "|    entropy_loss         | -2.34        |\n",
      "|    explained_variance   | 0.753        |\n",
      "|    learning_rate        | 7.77e-05     |\n",
      "|    loss                 | 64.8         |\n",
      "|    n_updates            | 540          |\n",
      "|    policy_gradient_loss | -0.00241     |\n",
      "|    std                  | 0.774        |\n",
      "|    value_loss           | 109          |\n",
      "------------------------------------------\n",
      "---------------------------------\n",
      "| rollout/           |          |\n",
      "|    ep_len_mean     | 259      |\n",
      "|    ep_rew_mean     | 70.8     |\n",
      "| time/              |          |\n",
      "|    fps             | 4356     |\n",
      "|    iterations      | 55       |\n",
      "|    time_elapsed    | 103      |\n",
      "|    total_timesteps | 450560   |\n",
      "---------------------------------\n",
      "------------------------------------------\n",
      "| rollout/                |              |\n",
      "|    ep_len_mean          | 225          |\n",
      "|    ep_rew_mean          | 78.3         |\n",
      "| time/                   |              |\n",
      "|    fps                  | 4384         |\n",
      "|    iterations           | 56           |\n",
      "|    time_elapsed         | 104          |\n",
      "|    total_timesteps      | 458752       |\n",
      "| train/                  |              |\n",
      "|    approx_kl            | 0.0019505789 |\n",
      "|    clip_fraction        | 0.0123       |\n",
      "|    clip_range           | 0.2          |\n",
      "|    entropy_loss         | -2.29        |\n",
      "|    explained_variance   | 0.749        |\n",
      "|    learning_rate        | 7.77e-05     |\n",
      "|    loss                 | 43.4         |\n",
      "|    n_updates            | 550          |\n",
      "|    policy_gradient_loss | -0.00161     |\n",
      "|    std                  | 0.773        |\n",
      "|    value_loss           | 110          |\n",
      "------------------------------------------\n"
     ]
    },
    {
     "data": {
      "text/html": [
       "<pre style=\"white-space:pre;overflow-x:auto;line-height:normal;font-family:Menlo,'DejaVu Sans Mono',consolas,'Courier New',monospace\">\r",
       "\u001b[2KEval num_timesteps=464000, episode_reward=84.99 +/- 4.04\n",
       "<span style=\"color: #800080; text-decoration-color: #800080\">  46%</span> <span style=\"color: #f92672; text-decoration-color: #f92672\">━━━━━━━━━━━━━━━━━━━━━━━━━╸</span><span style=\"color: #3a3a3a; text-decoration-color: #3a3a3a\">━━━━━━━━━━━━━━━━━━━━━━━━━━━━━</span> <span style=\"color: #008000; text-decoration-color: #008000\">463,840/1,000,000 </span> [ <span style=\"color: #808000; text-decoration-color: #808000\">0:01:45</span> &lt; <span style=\"color: #008080; text-decoration-color: #008080\">0:01:51</span> , <span style=\"color: #800000; text-decoration-color: #800000\">4,843 it/s</span> ]</pre>\n"
      ],
      "text/plain": [
       "\r",
       "\u001b[2KEval num_timesteps=464000, episode_reward=84.99 +/- 4.04\n",
       "\u001b[35m  46%\u001b[0m \u001b[38;2;249;38;114m━━━━━━━━━━━━━━━━━━━━━━━━━\u001b[0m\u001b[38;2;249;38;114m╸\u001b[0m\u001b[38;5;237m━━━━━━━━━━━━━━━━━━━━━━━━━━━━━\u001b[0m \u001b[32m463,840/1,000,000 \u001b[0m [ \u001b[33m0:01:45\u001b[0m < \u001b[36m0:01:51\u001b[0m , \u001b[31m4,843 it/s\u001b[0m ]"
      ]
     },
     "metadata": {},
     "output_type": "display_data"
    },
    {
     "data": {
      "text/html": [
       "<pre style=\"white-space:pre;overflow-x:auto;line-height:normal;font-family:Menlo,'DejaVu Sans Mono',consolas,'Courier New',monospace\">\r",
       "\u001b[2KEpisode length: 162.20 +/- 43.74\n",
       "<span style=\"color: #800080; text-decoration-color: #800080\">  46%</span> <span style=\"color: #f92672; text-decoration-color: #f92672\">━━━━━━━━━━━━━━━━━━━━━━━━━╸</span><span style=\"color: #3a3a3a; text-decoration-color: #3a3a3a\">━━━━━━━━━━━━━━━━━━━━━━━━━━━━━</span> <span style=\"color: #008000; text-decoration-color: #008000\">463,840/1,000,000 </span> [ <span style=\"color: #808000; text-decoration-color: #808000\">0:01:45</span> &lt; <span style=\"color: #008080; text-decoration-color: #008080\">0:01:51</span> , <span style=\"color: #800000; text-decoration-color: #800000\">4,843 it/s</span> ]</pre>\n"
      ],
      "text/plain": [
       "\r",
       "\u001b[2KEpisode length: 162.20 +/- 43.74\n",
       "\u001b[35m  46%\u001b[0m \u001b[38;2;249;38;114m━━━━━━━━━━━━━━━━━━━━━━━━━\u001b[0m\u001b[38;2;249;38;114m╸\u001b[0m\u001b[38;5;237m━━━━━━━━━━━━━━━━━━━━━━━━━━━━━\u001b[0m \u001b[32m463,840/1,000,000 \u001b[0m [ \u001b[33m0:01:45\u001b[0m < \u001b[36m0:01:51\u001b[0m , \u001b[31m4,843 it/s\u001b[0m ]"
      ]
     },
     "metadata": {},
     "output_type": "display_data"
    },
    {
     "name": "stdout",
     "output_type": "stream",
     "text": [
      "------------------------------------------\n",
      "| eval/                   |              |\n",
      "|    mean_ep_length       | 162          |\n",
      "|    mean_reward          | 85           |\n",
      "| time/                   |              |\n",
      "|    total_timesteps      | 464000       |\n",
      "| train/                  |              |\n",
      "|    approx_kl            | 0.0030821778 |\n",
      "|    clip_fraction        | 0.0304       |\n",
      "|    clip_range           | 0.2          |\n",
      "|    entropy_loss         | -2.26        |\n",
      "|    explained_variance   | 0.756        |\n",
      "|    learning_rate        | 7.77e-05     |\n",
      "|    loss                 | 47.9         |\n",
      "|    n_updates            | 560          |\n",
      "|    policy_gradient_loss | -0.0011      |\n",
      "|    std                  | 0.774        |\n",
      "|    value_loss           | 115          |\n",
      "------------------------------------------\n",
      "---------------------------------\n",
      "| rollout/           |          |\n",
      "|    ep_len_mean     | 217      |\n",
      "|    ep_rew_mean     | 80.1     |\n",
      "| time/              |          |\n",
      "|    fps             | 4398     |\n",
      "|    iterations      | 57       |\n",
      "|    time_elapsed    | 106      |\n",
      "|    total_timesteps | 466944   |\n",
      "---------------------------------\n",
      "-----------------------------------------\n",
      "| rollout/                |             |\n",
      "|    ep_len_mean          | 198         |\n",
      "|    ep_rew_mean          | 81.8        |\n",
      "| time/                   |             |\n",
      "|    fps                  | 4421        |\n",
      "|    iterations           | 58          |\n",
      "|    time_elapsed         | 107         |\n",
      "|    total_timesteps      | 475136      |\n",
      "| train/                  |             |\n",
      "|    approx_kl            | 0.003280939 |\n",
      "|    clip_fraction        | 0.0235      |\n",
      "|    clip_range           | 0.2         |\n",
      "|    entropy_loss         | -2.27       |\n",
      "|    explained_variance   | 0.722       |\n",
      "|    learning_rate        | 7.77e-05    |\n",
      "|    loss                 | 43          |\n",
      "|    n_updates            | 570         |\n",
      "|    policy_gradient_loss | -0.00418    |\n",
      "|    std                  | 0.773       |\n",
      "|    value_loss           | 117         |\n",
      "-----------------------------------------\n"
     ]
    },
    {
     "data": {
      "text/html": [
       "<pre style=\"white-space:pre;overflow-x:auto;line-height:normal;font-family:Menlo,'DejaVu Sans Mono',consolas,'Courier New',monospace\">\r",
       "\u001b[2KEval num_timesteps=480000, episode_reward=85.98 +/- 4.43\n",
       "<span style=\"color: #800080; text-decoration-color: #800080\">  48%</span> <span style=\"color: #f92672; text-decoration-color: #f92672\">━━━━━━━━━━━━━━━━━━━━━━━━━━</span><span style=\"color: #3a3a3a; text-decoration-color: #3a3a3a\">╺━━━━━━━━━━━━━━━━━━━━━━━━━━━━</span> <span style=\"color: #008000; text-decoration-color: #008000\">478,976/1,000,000 </span> [ <span style=\"color: #808000; text-decoration-color: #808000\">0:01:48</span> &lt; <span style=\"color: #008080; text-decoration-color: #008080\">0:01:46</span> , <span style=\"color: #800000; text-decoration-color: #800000\">4,958 it/s</span> ]</pre>\n"
      ],
      "text/plain": [
       "\r",
       "\u001b[2KEval num_timesteps=480000, episode_reward=85.98 +/- 4.43\n",
       "\u001b[35m  48%\u001b[0m \u001b[38;2;249;38;114m━━━━━━━━━━━━━━━━━━━━━━━━━━\u001b[0m\u001b[38;5;237m╺\u001b[0m\u001b[38;5;237m━━━━━━━━━━━━━━━━━━━━━━━━━━━━\u001b[0m \u001b[32m478,976/1,000,000 \u001b[0m [ \u001b[33m0:01:48\u001b[0m < \u001b[36m0:01:46\u001b[0m , \u001b[31m4,958 it/s\u001b[0m ]"
      ]
     },
     "metadata": {},
     "output_type": "display_data"
    },
    {
     "data": {
      "text/html": [
       "<pre style=\"white-space:pre;overflow-x:auto;line-height:normal;font-family:Menlo,'DejaVu Sans Mono',consolas,'Courier New',monospace\">\r",
       "\u001b[2KEpisode length: 152.40 +/- 52.94\n",
       "<span style=\"color: #800080; text-decoration-color: #800080\">  48%</span> <span style=\"color: #f92672; text-decoration-color: #f92672\">━━━━━━━━━━━━━━━━━━━━━━━━━━</span><span style=\"color: #3a3a3a; text-decoration-color: #3a3a3a\">╺━━━━━━━━━━━━━━━━━━━━━━━━━━━━</span> <span style=\"color: #008000; text-decoration-color: #008000\">478,976/1,000,000 </span> [ <span style=\"color: #808000; text-decoration-color: #808000\">0:01:48</span> &lt; <span style=\"color: #008080; text-decoration-color: #008080\">0:01:46</span> , <span style=\"color: #800000; text-decoration-color: #800000\">4,958 it/s</span> ]</pre>\n"
      ],
      "text/plain": [
       "\r",
       "\u001b[2KEpisode length: 152.40 +/- 52.94\n",
       "\u001b[35m  48%\u001b[0m \u001b[38;2;249;38;114m━━━━━━━━━━━━━━━━━━━━━━━━━━\u001b[0m\u001b[38;5;237m╺\u001b[0m\u001b[38;5;237m━━━━━━━━━━━━━━━━━━━━━━━━━━━━\u001b[0m \u001b[32m478,976/1,000,000 \u001b[0m [ \u001b[33m0:01:48\u001b[0m < \u001b[36m0:01:46\u001b[0m , \u001b[31m4,958 it/s\u001b[0m ]"
      ]
     },
     "metadata": {},
     "output_type": "display_data"
    },
    {
     "name": "stdout",
     "output_type": "stream",
     "text": [
      "-----------------------------------------\n",
      "| eval/                   |             |\n",
      "|    mean_ep_length       | 152         |\n",
      "|    mean_reward          | 86          |\n",
      "| time/                   |             |\n",
      "|    total_timesteps      | 480000      |\n",
      "| train/                  |             |\n",
      "|    approx_kl            | 0.012410551 |\n",
      "|    clip_fraction        | 0.103       |\n",
      "|    clip_range           | 0.2         |\n",
      "|    entropy_loss         | -2.22       |\n",
      "|    explained_variance   | 0.775       |\n",
      "|    learning_rate        | 7.77e-05    |\n",
      "|    loss                 | 55.5        |\n",
      "|    n_updates            | 580         |\n",
      "|    policy_gradient_loss | -0.0127     |\n",
      "|    std                  | 0.775       |\n",
      "|    value_loss           | 110         |\n",
      "-----------------------------------------\n",
      "---------------------------------\n",
      "| rollout/           |          |\n",
      "|    ep_len_mean     | 198      |\n",
      "|    ep_rew_mean     | 81.7     |\n",
      "| time/              |          |\n",
      "|    fps             | 4433     |\n",
      "|    iterations      | 59       |\n",
      "|    time_elapsed    | 109      |\n",
      "|    total_timesteps | 483328   |\n",
      "---------------------------------\n",
      "------------------------------------------\n",
      "| rollout/                |              |\n",
      "|    ep_len_mean          | 182          |\n",
      "|    ep_rew_mean          | 83.1         |\n",
      "| time/                   |              |\n",
      "|    fps                  | 4459         |\n",
      "|    iterations           | 60           |\n",
      "|    time_elapsed         | 110          |\n",
      "|    total_timesteps      | 491520       |\n",
      "| train/                  |              |\n",
      "|    approx_kl            | 0.0018030122 |\n",
      "|    clip_fraction        | 0.00732      |\n",
      "|    clip_range           | 0.2          |\n",
      "|    entropy_loss         | -2.31        |\n",
      "|    explained_variance   | 0.731        |\n",
      "|    learning_rate        | 7.77e-05     |\n",
      "|    loss                 | 79.9         |\n",
      "|    n_updates            | 590          |\n",
      "|    policy_gradient_loss | -0.00197     |\n",
      "|    std                  | 0.771        |\n",
      "|    value_loss           | 141          |\n",
      "------------------------------------------\n"
     ]
    },
    {
     "data": {
      "text/html": [
       "<pre style=\"white-space:pre;overflow-x:auto;line-height:normal;font-family:Menlo,'DejaVu Sans Mono',consolas,'Courier New',monospace\">\r",
       "\u001b[2KEval num_timesteps=496000, episode_reward=73.83 +/- 19.03\n",
       "<span style=\"color: #800080; text-decoration-color: #800080\">  50%</span> <span style=\"color: #f92672; text-decoration-color: #f92672\">━━━━━━━━━━━━━━━━━━━━━━━━━━━</span><span style=\"color: #3a3a3a; text-decoration-color: #3a3a3a\">╺━━━━━━━━━━━━━━━━━━━━━━━━━━━</span> <span style=\"color: #008000; text-decoration-color: #008000\">495,744/1,000,000 </span> [ <span style=\"color: #808000; text-decoration-color: #808000\">0:01:52</span> &lt; <span style=\"color: #008080; text-decoration-color: #008080\">0:01:42</span> , <span style=\"color: #800000; text-decoration-color: #800000\">4,946 it/s</span> ]</pre>\n"
      ],
      "text/plain": [
       "\r",
       "\u001b[2KEval num_timesteps=496000, episode_reward=73.83 +/- 19.03\n",
       "\u001b[35m  50%\u001b[0m \u001b[38;2;249;38;114m━━━━━━━━━━━━━━━━━━━━━━━━━━━\u001b[0m\u001b[38;5;237m╺\u001b[0m\u001b[38;5;237m━━━━━━━━━━━━━━━━━━━━━━━━━━━\u001b[0m \u001b[32m495,744/1,000,000 \u001b[0m [ \u001b[33m0:01:52\u001b[0m < \u001b[36m0:01:42\u001b[0m , \u001b[31m4,946 it/s\u001b[0m ]"
      ]
     },
     "metadata": {},
     "output_type": "display_data"
    },
    {
     "data": {
      "text/html": [
       "<pre style=\"white-space:pre;overflow-x:auto;line-height:normal;font-family:Menlo,'DejaVu Sans Mono',consolas,'Courier New',monospace\">\r",
       "\u001b[2KEpisode length: 278.60 +/- 200.95\n",
       "<span style=\"color: #800080; text-decoration-color: #800080\">  50%</span> <span style=\"color: #f92672; text-decoration-color: #f92672\">━━━━━━━━━━━━━━━━━━━━━━━━━━━</span><span style=\"color: #3a3a3a; text-decoration-color: #3a3a3a\">╺━━━━━━━━━━━━━━━━━━━━━━━━━━━</span> <span style=\"color: #008000; text-decoration-color: #008000\">495,744/1,000,000 </span> [ <span style=\"color: #808000; text-decoration-color: #808000\">0:01:52</span> &lt; <span style=\"color: #008080; text-decoration-color: #008080\">0:01:42</span> , <span style=\"color: #800000; text-decoration-color: #800000\">4,946 it/s</span> ]</pre>\n"
      ],
      "text/plain": [
       "\r",
       "\u001b[2KEpisode length: 278.60 +/- 200.95\n",
       "\u001b[35m  50%\u001b[0m \u001b[38;2;249;38;114m━━━━━━━━━━━━━━━━━━━━━━━━━━━\u001b[0m\u001b[38;5;237m╺\u001b[0m\u001b[38;5;237m━━━━━━━━━━━━━━━━━━━━━━━━━━━\u001b[0m \u001b[32m495,744/1,000,000 \u001b[0m [ \u001b[33m0:01:52\u001b[0m < \u001b[36m0:01:42\u001b[0m , \u001b[31m4,946 it/s\u001b[0m ]"
      ]
     },
     "metadata": {},
     "output_type": "display_data"
    },
    {
     "name": "stdout",
     "output_type": "stream",
     "text": [
      "------------------------------------------\n",
      "| eval/                   |              |\n",
      "|    mean_ep_length       | 279          |\n",
      "|    mean_reward          | 73.8         |\n",
      "| time/                   |              |\n",
      "|    total_timesteps      | 496000       |\n",
      "| train/                  |              |\n",
      "|    approx_kl            | 0.0028336637 |\n",
      "|    clip_fraction        | 0.0191       |\n",
      "|    clip_range           | 0.2          |\n",
      "|    entropy_loss         | -2.32        |\n",
      "|    explained_variance   | 0.758        |\n",
      "|    learning_rate        | 7.77e-05     |\n",
      "|    loss                 | 62.5         |\n",
      "|    n_updates            | 600          |\n",
      "|    policy_gradient_loss | -0.00236     |\n",
      "|    std                  | 0.771        |\n",
      "|    value_loss           | 128          |\n",
      "------------------------------------------\n",
      "---------------------------------\n",
      "| rollout/           |          |\n",
      "|    ep_len_mean     | 172      |\n",
      "|    ep_rew_mean     | 84.1     |\n",
      "| time/              |          |\n",
      "|    fps             | 4448     |\n",
      "|    iterations      | 61       |\n",
      "|    time_elapsed    | 112      |\n",
      "|    total_timesteps | 499712   |\n",
      "---------------------------------\n",
      "------------------------------------------\n",
      "| rollout/                |              |\n",
      "|    ep_len_mean          | 176          |\n",
      "|    ep_rew_mean          | 83.7         |\n",
      "| time/                   |              |\n",
      "|    fps                  | 4472         |\n",
      "|    iterations           | 62           |\n",
      "|    time_elapsed         | 113          |\n",
      "|    total_timesteps      | 507904       |\n",
      "| train/                  |              |\n",
      "|    approx_kl            | 0.0043048244 |\n",
      "|    clip_fraction        | 0.0229       |\n",
      "|    clip_range           | 0.2          |\n",
      "|    entropy_loss         | -2.28        |\n",
      "|    explained_variance   | 0.746        |\n",
      "|    learning_rate        | 7.77e-05     |\n",
      "|    loss                 | 81.1         |\n",
      "|    n_updates            | 610          |\n",
      "|    policy_gradient_loss | -0.00498     |\n",
      "|    std                  | 0.767        |\n",
      "|    value_loss           | 138          |\n",
      "------------------------------------------\n"
     ]
    },
    {
     "data": {
      "text/html": [
       "<pre style=\"white-space:pre;overflow-x:auto;line-height:normal;font-family:Menlo,'DejaVu Sans Mono',consolas,'Courier New',monospace\">\r",
       "\u001b[2KEval num_timesteps=512000, episode_reward=82.30 +/- 10.20\n",
       "<span style=\"color: #800080; text-decoration-color: #800080\">  51%</span> <span style=\"color: #f92672; text-decoration-color: #f92672\">━━━━━━━━━━━━━━━━━━━━━━━━━━━━</span><span style=\"color: #3a3a3a; text-decoration-color: #3a3a3a\">╺━━━━━━━━━━━━━━━━━━━━━━━━━━</span> <span style=\"color: #008000; text-decoration-color: #008000\">510,528/1,000,000 </span> [ <span style=\"color: #808000; text-decoration-color: #808000\">0:01:55</span> &lt; <span style=\"color: #008080; text-decoration-color: #008080\">0:01:42</span> , <span style=\"color: #800000; text-decoration-color: #800000\">4,812 it/s</span> ]</pre>\n"
      ],
      "text/plain": [
       "\r",
       "\u001b[2KEval num_timesteps=512000, episode_reward=82.30 +/- 10.20\n",
       "\u001b[35m  51%\u001b[0m \u001b[38;2;249;38;114m━━━━━━━━━━━━━━━━━━━━━━━━━━━━\u001b[0m\u001b[38;5;237m╺\u001b[0m\u001b[38;5;237m━━━━━━━━━━━━━━━━━━━━━━━━━━\u001b[0m \u001b[32m510,528/1,000,000 \u001b[0m [ \u001b[33m0:01:55\u001b[0m < \u001b[36m0:01:42\u001b[0m , \u001b[31m4,812 it/s\u001b[0m ]"
      ]
     },
     "metadata": {},
     "output_type": "display_data"
    },
    {
     "data": {
      "text/html": [
       "<pre style=\"white-space:pre;overflow-x:auto;line-height:normal;font-family:Menlo,'DejaVu Sans Mono',consolas,'Courier New',monospace\">\r",
       "\u001b[2KEpisode length: 187.40 +/- 109.43\n",
       "<span style=\"color: #800080; text-decoration-color: #800080\">  51%</span> <span style=\"color: #f92672; text-decoration-color: #f92672\">━━━━━━━━━━━━━━━━━━━━━━━━━━━━</span><span style=\"color: #3a3a3a; text-decoration-color: #3a3a3a\">╺━━━━━━━━━━━━━━━━━━━━━━━━━━</span> <span style=\"color: #008000; text-decoration-color: #008000\">510,528/1,000,000 </span> [ <span style=\"color: #808000; text-decoration-color: #808000\">0:01:55</span> &lt; <span style=\"color: #008080; text-decoration-color: #008080\">0:01:42</span> , <span style=\"color: #800000; text-decoration-color: #800000\">4,812 it/s</span> ]</pre>\n"
      ],
      "text/plain": [
       "\r",
       "\u001b[2KEpisode length: 187.40 +/- 109.43\n",
       "\u001b[35m  51%\u001b[0m \u001b[38;2;249;38;114m━━━━━━━━━━━━━━━━━━━━━━━━━━━━\u001b[0m\u001b[38;5;237m╺\u001b[0m\u001b[38;5;237m━━━━━━━━━━━━━━━━━━━━━━━━━━\u001b[0m \u001b[32m510,528/1,000,000 \u001b[0m [ \u001b[33m0:01:55\u001b[0m < \u001b[36m0:01:42\u001b[0m , \u001b[31m4,812 it/s\u001b[0m ]"
      ]
     },
     "metadata": {},
     "output_type": "display_data"
    },
    {
     "name": "stdout",
     "output_type": "stream",
     "text": [
      "------------------------------------------\n",
      "| eval/                   |              |\n",
      "|    mean_ep_length       | 187          |\n",
      "|    mean_reward          | 82.3         |\n",
      "| time/                   |              |\n",
      "|    total_timesteps      | 512000       |\n",
      "| train/                  |              |\n",
      "|    approx_kl            | 0.0060603535 |\n",
      "|    clip_fraction        | 0.0565       |\n",
      "|    clip_range           | 0.2          |\n",
      "|    entropy_loss         | -2.28        |\n",
      "|    explained_variance   | 0.755        |\n",
      "|    learning_rate        | 7.77e-05     |\n",
      "|    loss                 | 61.3         |\n",
      "|    n_updates            | 620          |\n",
      "|    policy_gradient_loss | -0.00681     |\n",
      "|    std                  | 0.767        |\n",
      "|    value_loss           | 126          |\n",
      "------------------------------------------\n",
      "---------------------------------\n",
      "| rollout/           |          |\n",
      "|    ep_len_mean     | 169      |\n",
      "|    ep_rew_mean     | 84.3     |\n",
      "| time/              |          |\n",
      "|    fps             | 4474     |\n",
      "|    iterations      | 63       |\n",
      "|    time_elapsed    | 115      |\n",
      "|    total_timesteps | 516096   |\n",
      "---------------------------------\n",
      "-----------------------------------------\n",
      "| rollout/                |             |\n",
      "|    ep_len_mean          | 160         |\n",
      "|    ep_rew_mean          | 85          |\n",
      "| time/                   |             |\n",
      "|    fps                  | 4497        |\n",
      "|    iterations           | 64          |\n",
      "|    time_elapsed         | 116         |\n",
      "|    total_timesteps      | 524288      |\n",
      "| train/                  |             |\n",
      "|    approx_kl            | 0.002956455 |\n",
      "|    clip_fraction        | 0.00375     |\n",
      "|    clip_range           | 0.2         |\n",
      "|    entropy_loss         | -2.34       |\n",
      "|    explained_variance   | 0.729       |\n",
      "|    learning_rate        | 7.77e-05    |\n",
      "|    loss                 | 71.6        |\n",
      "|    n_updates            | 630         |\n",
      "|    policy_gradient_loss | -0.00259    |\n",
      "|    std                  | 0.762       |\n",
      "|    value_loss           | 133         |\n",
      "-----------------------------------------\n"
     ]
    },
    {
     "data": {
      "text/html": [
       "<pre style=\"white-space:pre;overflow-x:auto;line-height:normal;font-family:Menlo,'DejaVu Sans Mono',consolas,'Courier New',monospace\">\r",
       "\u001b[2KEval num_timesteps=528000, episode_reward=87.56 +/- 2.58\n",
       "<span style=\"color: #800080; text-decoration-color: #800080\">  53%</span> <span style=\"color: #f92672; text-decoration-color: #f92672\">━━━━━━━━━━━━━━━━━━━━━━━━━━━━╸</span><span style=\"color: #3a3a3a; text-decoration-color: #3a3a3a\">━━━━━━━━━━━━━━━━━━━━━━━━━━</span> <span style=\"color: #008000; text-decoration-color: #008000\">527,072/1,000,000 </span> [ <span style=\"color: #808000; text-decoration-color: #808000\">0:01:57</span> &lt; <span style=\"color: #008080; text-decoration-color: #008080\">0:01:34</span> , <span style=\"color: #800000; text-decoration-color: #800000\">5,067 it/s</span> ]</pre>\n"
      ],
      "text/plain": [
       "\r",
       "\u001b[2KEval num_timesteps=528000, episode_reward=87.56 +/- 2.58\n",
       "\u001b[35m  53%\u001b[0m \u001b[38;2;249;38;114m━━━━━━━━━━━━━━━━━━━━━━━━━━━━\u001b[0m\u001b[38;2;249;38;114m╸\u001b[0m\u001b[38;5;237m━━━━━━━━━━━━━━━━━━━━━━━━━━\u001b[0m \u001b[32m527,072/1,000,000 \u001b[0m [ \u001b[33m0:01:57\u001b[0m < \u001b[36m0:01:34\u001b[0m , \u001b[31m5,067 it/s\u001b[0m ]"
      ]
     },
     "metadata": {},
     "output_type": "display_data"
    },
    {
     "data": {
      "text/html": [
       "<pre style=\"white-space:pre;overflow-x:auto;line-height:normal;font-family:Menlo,'DejaVu Sans Mono',consolas,'Courier New',monospace\">\r",
       "\u001b[2KEpisode length: 132.60 +/- 30.31\n",
       "<span style=\"color: #800080; text-decoration-color: #800080\">  53%</span> <span style=\"color: #f92672; text-decoration-color: #f92672\">━━━━━━━━━━━━━━━━━━━━━━━━━━━━╸</span><span style=\"color: #3a3a3a; text-decoration-color: #3a3a3a\">━━━━━━━━━━━━━━━━━━━━━━━━━━</span> <span style=\"color: #008000; text-decoration-color: #008000\">527,072/1,000,000 </span> [ <span style=\"color: #808000; text-decoration-color: #808000\">0:01:57</span> &lt; <span style=\"color: #008080; text-decoration-color: #008080\">0:01:34</span> , <span style=\"color: #800000; text-decoration-color: #800000\">5,067 it/s</span> ]</pre>\n"
      ],
      "text/plain": [
       "\r",
       "\u001b[2KEpisode length: 132.60 +/- 30.31\n",
       "\u001b[35m  53%\u001b[0m \u001b[38;2;249;38;114m━━━━━━━━━━━━━━━━━━━━━━━━━━━━\u001b[0m\u001b[38;2;249;38;114m╸\u001b[0m\u001b[38;5;237m━━━━━━━━━━━━━━━━━━━━━━━━━━\u001b[0m \u001b[32m527,072/1,000,000 \u001b[0m [ \u001b[33m0:01:57\u001b[0m < \u001b[36m0:01:34\u001b[0m , \u001b[31m5,067 it/s\u001b[0m ]"
      ]
     },
     "metadata": {},
     "output_type": "display_data"
    },
    {
     "name": "stdout",
     "output_type": "stream",
     "text": [
      "------------------------------------------\n",
      "| eval/                   |              |\n",
      "|    mean_ep_length       | 133          |\n",
      "|    mean_reward          | 87.6         |\n",
      "| time/                   |              |\n",
      "|    total_timesteps      | 528000       |\n",
      "| train/                  |              |\n",
      "|    approx_kl            | 0.0046265074 |\n",
      "|    clip_fraction        | 0.0177       |\n",
      "|    clip_range           | 0.2          |\n",
      "|    entropy_loss         | -2.34        |\n",
      "|    explained_variance   | 0.759        |\n",
      "|    learning_rate        | 7.77e-05     |\n",
      "|    loss                 | 65           |\n",
      "|    n_updates            | 640          |\n",
      "|    policy_gradient_loss | -0.00349     |\n",
      "|    std                  | 0.756        |\n",
      "|    value_loss           | 128          |\n",
      "------------------------------------------\n",
      "---------------------------------\n",
      "| rollout/           |          |\n",
      "|    ep_len_mean     | 153      |\n",
      "|    ep_rew_mean     | 85.7     |\n",
      "| time/              |          |\n",
      "|    fps             | 4510     |\n",
      "|    iterations      | 65       |\n",
      "|    time_elapsed    | 118      |\n",
      "|    total_timesteps | 532480   |\n",
      "---------------------------------\n",
      "-----------------------------------------\n",
      "| rollout/                |             |\n",
      "|    ep_len_mean          | 140         |\n",
      "|    ep_rew_mean          | 86.7        |\n",
      "| time/                   |             |\n",
      "|    fps                  | 4532        |\n",
      "|    iterations           | 66          |\n",
      "|    time_elapsed         | 119         |\n",
      "|    total_timesteps      | 540672      |\n",
      "| train/                  |             |\n",
      "|    approx_kl            | 0.004842569 |\n",
      "|    clip_fraction        | 0.035       |\n",
      "|    clip_range           | 0.2         |\n",
      "|    entropy_loss         | -2.36       |\n",
      "|    explained_variance   | 0.742       |\n",
      "|    learning_rate        | 7.77e-05    |\n",
      "|    loss                 | 53.5        |\n",
      "|    n_updates            | 650         |\n",
      "|    policy_gradient_loss | -0.00403    |\n",
      "|    std                  | 0.757       |\n",
      "|    value_loss           | 130         |\n",
      "-----------------------------------------\n"
     ]
    },
    {
     "data": {
      "text/html": [
       "<pre style=\"white-space:pre;overflow-x:auto;line-height:normal;font-family:Menlo,'DejaVu Sans Mono',consolas,'Courier New',monospace\">\r",
       "\u001b[2KEval num_timesteps=544000, episode_reward=84.47 +/- 6.75\n",
       "<span style=\"color: #800080; text-decoration-color: #800080\">  54%</span> <span style=\"color: #f92672; text-decoration-color: #f92672\">━━━━━━━━━━━━━━━━━━━━━━━━━━━━━╸</span><span style=\"color: #3a3a3a; text-decoration-color: #3a3a3a\">━━━━━━━━━━━━━━━━━━━━━━━━━</span> <span style=\"color: #008000; text-decoration-color: #008000\">542,176/1,000,000 </span> [ <span style=\"color: #808000; text-decoration-color: #808000\">0:02:00</span> &lt; <span style=\"color: #008080; text-decoration-color: #008080\">0:01:26</span> , <span style=\"color: #800000; text-decoration-color: #800000\">5,338 it/s</span> ]</pre>\n"
      ],
      "text/plain": [
       "\r",
       "\u001b[2KEval num_timesteps=544000, episode_reward=84.47 +/- 6.75\n",
       "\u001b[35m  54%\u001b[0m \u001b[38;2;249;38;114m━━━━━━━━━━━━━━━━━━━━━━━━━━━━━\u001b[0m\u001b[38;2;249;38;114m╸\u001b[0m\u001b[38;5;237m━━━━━━━━━━━━━━━━━━━━━━━━━\u001b[0m \u001b[32m542,176/1,000,000 \u001b[0m [ \u001b[33m0:02:00\u001b[0m < \u001b[36m0:01:26\u001b[0m , \u001b[31m5,338 it/s\u001b[0m ]"
      ]
     },
     "metadata": {},
     "output_type": "display_data"
    },
    {
     "data": {
      "text/html": [
       "<pre style=\"white-space:pre;overflow-x:auto;line-height:normal;font-family:Menlo,'DejaVu Sans Mono',consolas,'Courier New',monospace\">\r",
       "\u001b[2KEpisode length: 164.60 +/- 74.06\n",
       "<span style=\"color: #800080; text-decoration-color: #800080\">  54%</span> <span style=\"color: #f92672; text-decoration-color: #f92672\">━━━━━━━━━━━━━━━━━━━━━━━━━━━━━╸</span><span style=\"color: #3a3a3a; text-decoration-color: #3a3a3a\">━━━━━━━━━━━━━━━━━━━━━━━━━</span> <span style=\"color: #008000; text-decoration-color: #008000\">542,176/1,000,000 </span> [ <span style=\"color: #808000; text-decoration-color: #808000\">0:02:00</span> &lt; <span style=\"color: #008080; text-decoration-color: #008080\">0:01:26</span> , <span style=\"color: #800000; text-decoration-color: #800000\">5,338 it/s</span> ]</pre>\n"
      ],
      "text/plain": [
       "\r",
       "\u001b[2KEpisode length: 164.60 +/- 74.06\n",
       "\u001b[35m  54%\u001b[0m \u001b[38;2;249;38;114m━━━━━━━━━━━━━━━━━━━━━━━━━━━━━\u001b[0m\u001b[38;2;249;38;114m╸\u001b[0m\u001b[38;5;237m━━━━━━━━━━━━━━━━━━━━━━━━━\u001b[0m \u001b[32m542,176/1,000,000 \u001b[0m [ \u001b[33m0:02:00\u001b[0m < \u001b[36m0:01:26\u001b[0m , \u001b[31m5,338 it/s\u001b[0m ]"
      ]
     },
     "metadata": {},
     "output_type": "display_data"
    },
    {
     "name": "stdout",
     "output_type": "stream",
     "text": [
      "----------------------------------------\n",
      "| eval/                   |            |\n",
      "|    mean_ep_length       | 165        |\n",
      "|    mean_reward          | 84.5       |\n",
      "| time/                   |            |\n",
      "|    total_timesteps      | 544000     |\n",
      "| train/                  |            |\n",
      "|    approx_kl            | 0.00651427 |\n",
      "|    clip_fraction        | 0.0633     |\n",
      "|    clip_range           | 0.2        |\n",
      "|    entropy_loss         | -2.35      |\n",
      "|    explained_variance   | 0.764      |\n",
      "|    learning_rate        | 7.77e-05   |\n",
      "|    loss                 | 54.2       |\n",
      "|    n_updates            | 660        |\n",
      "|    policy_gradient_loss | -0.00685   |\n",
      "|    std                  | 0.75       |\n",
      "|    value_loss           | 130        |\n",
      "----------------------------------------\n",
      "---------------------------------\n",
      "| rollout/           |          |\n",
      "|    ep_len_mean     | 145      |\n",
      "|    ep_rew_mean     | 86.3     |\n",
      "| time/              |          |\n",
      "|    fps             | 4540     |\n",
      "|    iterations      | 67       |\n",
      "|    time_elapsed    | 120      |\n",
      "|    total_timesteps | 548864   |\n",
      "---------------------------------\n",
      "-----------------------------------------\n",
      "| rollout/                |             |\n",
      "|    ep_len_mean          | 144         |\n",
      "|    ep_rew_mean          | 86.4        |\n",
      "| time/                   |             |\n",
      "|    fps                  | 4562        |\n",
      "|    iterations           | 68          |\n",
      "|    time_elapsed         | 122         |\n",
      "|    total_timesteps      | 557056      |\n",
      "| train/                  |             |\n",
      "|    approx_kl            | 0.004331982 |\n",
      "|    clip_fraction        | 0.0383      |\n",
      "|    clip_range           | 0.2         |\n",
      "|    entropy_loss         | -2.36       |\n",
      "|    explained_variance   | 0.717       |\n",
      "|    learning_rate        | 7.77e-05    |\n",
      "|    loss                 | 70.4        |\n",
      "|    n_updates            | 670         |\n",
      "|    policy_gradient_loss | -0.00427    |\n",
      "|    std                  | 0.753       |\n",
      "|    value_loss           | 135         |\n",
      "-----------------------------------------\n"
     ]
    },
    {
     "data": {
      "text/html": [
       "<pre style=\"white-space:pre;overflow-x:auto;line-height:normal;font-family:Menlo,'DejaVu Sans Mono',consolas,'Courier New',monospace\">\r",
       "\u001b[2KEval num_timesteps=560000, episode_reward=84.14 +/- 6.37\n",
       "<span style=\"color: #800080; text-decoration-color: #800080\">  56%</span> <span style=\"color: #f92672; text-decoration-color: #f92672\">━━━━━━━━━━━━━━━━━━━━━━━━━━━━━━╸</span><span style=\"color: #3a3a3a; text-decoration-color: #3a3a3a\">━━━━━━━━━━━━━━━━━━━━━━━━</span> <span style=\"color: #008000; text-decoration-color: #008000\">559,200/1,000,000 </span> [ <span style=\"color: #808000; text-decoration-color: #808000\">0:02:03</span> &lt; <span style=\"color: #008080; text-decoration-color: #008080\">0:01:21</span> , <span style=\"color: #800000; text-decoration-color: #800000\">5,469 it/s</span> ]</pre>\n"
      ],
      "text/plain": [
       "\r",
       "\u001b[2KEval num_timesteps=560000, episode_reward=84.14 +/- 6.37\n",
       "\u001b[35m  56%\u001b[0m \u001b[38;2;249;38;114m━━━━━━━━━━━━━━━━━━━━━━━━━━━━━━\u001b[0m\u001b[38;2;249;38;114m╸\u001b[0m\u001b[38;5;237m━━━━━━━━━━━━━━━━━━━━━━━━\u001b[0m \u001b[32m559,200/1,000,000 \u001b[0m [ \u001b[33m0:02:03\u001b[0m < \u001b[36m0:01:21\u001b[0m , \u001b[31m5,469 it/s\u001b[0m ]"
      ]
     },
     "metadata": {},
     "output_type": "display_data"
    },
    {
     "data": {
      "text/html": [
       "<pre style=\"white-space:pre;overflow-x:auto;line-height:normal;font-family:Menlo,'DejaVu Sans Mono',consolas,'Courier New',monospace\">\r",
       "\u001b[2KEpisode length: 168.00 +/- 70.46\n",
       "<span style=\"color: #800080; text-decoration-color: #800080\">  56%</span> <span style=\"color: #f92672; text-decoration-color: #f92672\">━━━━━━━━━━━━━━━━━━━━━━━━━━━━━━╸</span><span style=\"color: #3a3a3a; text-decoration-color: #3a3a3a\">━━━━━━━━━━━━━━━━━━━━━━━━</span> <span style=\"color: #008000; text-decoration-color: #008000\">559,200/1,000,000 </span> [ <span style=\"color: #808000; text-decoration-color: #808000\">0:02:03</span> &lt; <span style=\"color: #008080; text-decoration-color: #008080\">0:01:21</span> , <span style=\"color: #800000; text-decoration-color: #800000\">5,469 it/s</span> ]</pre>\n"
      ],
      "text/plain": [
       "\r",
       "\u001b[2KEpisode length: 168.00 +/- 70.46\n",
       "\u001b[35m  56%\u001b[0m \u001b[38;2;249;38;114m━━━━━━━━━━━━━━━━━━━━━━━━━━━━━━\u001b[0m\u001b[38;2;249;38;114m╸\u001b[0m\u001b[38;5;237m━━━━━━━━━━━━━━━━━━━━━━━━\u001b[0m \u001b[32m559,200/1,000,000 \u001b[0m [ \u001b[33m0:02:03\u001b[0m < \u001b[36m0:01:21\u001b[0m , \u001b[31m5,469 it/s\u001b[0m ]"
      ]
     },
     "metadata": {},
     "output_type": "display_data"
    },
    {
     "name": "stdout",
     "output_type": "stream",
     "text": [
      "-----------------------------------------\n",
      "| eval/                   |             |\n",
      "|    mean_ep_length       | 168         |\n",
      "|    mean_reward          | 84.1        |\n",
      "| time/                   |             |\n",
      "|    total_timesteps      | 560000      |\n",
      "| train/                  |             |\n",
      "|    approx_kl            | 0.002408532 |\n",
      "|    clip_fraction        | 0.00934     |\n",
      "|    clip_range           | 0.2         |\n",
      "|    entropy_loss         | -2.35       |\n",
      "|    explained_variance   | 0.767       |\n",
      "|    learning_rate        | 7.77e-05    |\n",
      "|    loss                 | 68.2        |\n",
      "|    n_updates            | 680         |\n",
      "|    policy_gradient_loss | -0.00215    |\n",
      "|    std                  | 0.75        |\n",
      "|    value_loss           | 126         |\n",
      "-----------------------------------------\n",
      "---------------------------------\n",
      "| rollout/           |          |\n",
      "|    ep_len_mean     | 135      |\n",
      "|    ep_rew_mean     | 87.2     |\n",
      "| time/              |          |\n",
      "|    fps             | 4569     |\n",
      "|    iterations      | 69       |\n",
      "|    time_elapsed    | 123      |\n",
      "|    total_timesteps | 565248   |\n",
      "---------------------------------\n",
      "------------------------------------------\n",
      "| rollout/                |              |\n",
      "|    ep_len_mean          | 138          |\n",
      "|    ep_rew_mean          | 86.9         |\n",
      "| time/                   |              |\n",
      "|    fps                  | 4589         |\n",
      "|    iterations           | 70           |\n",
      "|    time_elapsed         | 124          |\n",
      "|    total_timesteps      | 573440       |\n",
      "| train/                  |              |\n",
      "|    approx_kl            | 0.0026494134 |\n",
      "|    clip_fraction        | 0.0147       |\n",
      "|    clip_range           | 0.2          |\n",
      "|    entropy_loss         | -2.34        |\n",
      "|    explained_variance   | 0.751        |\n",
      "|    learning_rate        | 7.77e-05     |\n",
      "|    loss                 | 48.4         |\n",
      "|    n_updates            | 690          |\n",
      "|    policy_gradient_loss | -0.00257     |\n",
      "|    std                  | 0.746        |\n",
      "|    value_loss           | 115          |\n",
      "------------------------------------------\n"
     ]
    },
    {
     "data": {
      "text/html": [
       "<pre style=\"white-space:pre;overflow-x:auto;line-height:normal;font-family:Menlo,'DejaVu Sans Mono',consolas,'Courier New',monospace\">\r",
       "\u001b[2KEval num_timesteps=576000, episode_reward=88.21 +/- 2.86\n",
       "<span style=\"color: #800080; text-decoration-color: #800080\">  57%</span> <span style=\"color: #f92672; text-decoration-color: #f92672\">━━━━━━━━━━━━━━━━━━━━━━━━━━━━━━━╸</span><span style=\"color: #3a3a3a; text-decoration-color: #3a3a3a\">━━━━━━━━━━━━━━━━━━━━━━━</span> <span style=\"color: #008000; text-decoration-color: #008000\">574,240/1,000,000 </span> [ <span style=\"color: #808000; text-decoration-color: #808000\">0:02:06</span> &lt; <span style=\"color: #008080; text-decoration-color: #008080\">0:01:18</span> , <span style=\"color: #800000; text-decoration-color: #800000\">5,525 it/s</span> ]</pre>\n"
      ],
      "text/plain": [
       "\r",
       "\u001b[2KEval num_timesteps=576000, episode_reward=88.21 +/- 2.86\n",
       "\u001b[35m  57%\u001b[0m \u001b[38;2;249;38;114m━━━━━━━━━━━━━━━━━━━━━━━━━━━━━━━\u001b[0m\u001b[38;2;249;38;114m╸\u001b[0m\u001b[38;5;237m━━━━━━━━━━━━━━━━━━━━━━━\u001b[0m \u001b[32m574,240/1,000,000 \u001b[0m [ \u001b[33m0:02:06\u001b[0m < \u001b[36m0:01:18\u001b[0m , \u001b[31m5,525 it/s\u001b[0m ]"
      ]
     },
     "metadata": {},
     "output_type": "display_data"
    },
    {
     "data": {
      "text/html": [
       "<pre style=\"white-space:pre;overflow-x:auto;line-height:normal;font-family:Menlo,'DejaVu Sans Mono',consolas,'Courier New',monospace\">\r",
       "\u001b[2KEpisode length: 123.80 +/- 32.20\n",
       "<span style=\"color: #800080; text-decoration-color: #800080\">  57%</span> <span style=\"color: #f92672; text-decoration-color: #f92672\">━━━━━━━━━━━━━━━━━━━━━━━━━━━━━━━╸</span><span style=\"color: #3a3a3a; text-decoration-color: #3a3a3a\">━━━━━━━━━━━━━━━━━━━━━━━</span> <span style=\"color: #008000; text-decoration-color: #008000\">574,240/1,000,000 </span> [ <span style=\"color: #808000; text-decoration-color: #808000\">0:02:06</span> &lt; <span style=\"color: #008080; text-decoration-color: #008080\">0:01:18</span> , <span style=\"color: #800000; text-decoration-color: #800000\">5,525 it/s</span> ]</pre>\n"
      ],
      "text/plain": [
       "\r",
       "\u001b[2KEpisode length: 123.80 +/- 32.20\n",
       "\u001b[35m  57%\u001b[0m \u001b[38;2;249;38;114m━━━━━━━━━━━━━━━━━━━━━━━━━━━━━━━\u001b[0m\u001b[38;2;249;38;114m╸\u001b[0m\u001b[38;5;237m━━━━━━━━━━━━━━━━━━━━━━━\u001b[0m \u001b[32m574,240/1,000,000 \u001b[0m [ \u001b[33m0:02:06\u001b[0m < \u001b[36m0:01:18\u001b[0m , \u001b[31m5,525 it/s\u001b[0m ]"
      ]
     },
     "metadata": {},
     "output_type": "display_data"
    },
    {
     "name": "stdout",
     "output_type": "stream",
     "text": [
      "------------------------------------------\n",
      "| eval/                   |              |\n",
      "|    mean_ep_length       | 124          |\n",
      "|    mean_reward          | 88.2         |\n",
      "| time/                   |              |\n",
      "|    total_timesteps      | 576000       |\n",
      "| train/                  |              |\n",
      "|    approx_kl            | 0.0036381723 |\n",
      "|    clip_fraction        | 0.0384       |\n",
      "|    clip_range           | 0.2          |\n",
      "|    entropy_loss         | -2.32        |\n",
      "|    explained_variance   | 0.752        |\n",
      "|    learning_rate        | 7.77e-05     |\n",
      "|    loss                 | 50.9         |\n",
      "|    n_updates            | 700          |\n",
      "|    policy_gradient_loss | -0.00673     |\n",
      "|    std                  | 0.74         |\n",
      "|    value_loss           | 110          |\n",
      "------------------------------------------\n"
     ]
    },
    {
     "data": {
      "text/html": [
       "<pre style=\"white-space:pre;overflow-x:auto;line-height:normal;font-family:Menlo,'DejaVu Sans Mono',consolas,'Courier New',monospace\">\r",
       "\u001b[2KNew best mean reward!\n",
       "<span style=\"color: #800080; text-decoration-color: #800080\">  57%</span> <span style=\"color: #f92672; text-decoration-color: #f92672\">━━━━━━━━━━━━━━━━━━━━━━━━━━━━━━━╸</span><span style=\"color: #3a3a3a; text-decoration-color: #3a3a3a\">━━━━━━━━━━━━━━━━━━━━━━━</span> <span style=\"color: #008000; text-decoration-color: #008000\">574,240/1,000,000 </span> [ <span style=\"color: #808000; text-decoration-color: #808000\">0:02:06</span> &lt; <span style=\"color: #008080; text-decoration-color: #008080\">0:01:18</span> , <span style=\"color: #800000; text-decoration-color: #800000\">5,525 it/s</span> ]</pre>\n"
      ],
      "text/plain": [
       "\r",
       "\u001b[2KNew best mean reward!\n",
       "\u001b[35m  57%\u001b[0m \u001b[38;2;249;38;114m━━━━━━━━━━━━━━━━━━━━━━━━━━━━━━━\u001b[0m\u001b[38;2;249;38;114m╸\u001b[0m\u001b[38;5;237m━━━━━━━━━━━━━━━━━━━━━━━\u001b[0m \u001b[32m574,240/1,000,000 \u001b[0m [ \u001b[33m0:02:06\u001b[0m < \u001b[36m0:01:18\u001b[0m , \u001b[31m5,525 it/s\u001b[0m ]"
      ]
     },
     "metadata": {},
     "output_type": "display_data"
    },
    {
     "name": "stdout",
     "output_type": "stream",
     "text": [
      "---------------------------------\n",
      "| rollout/           |          |\n",
      "|    ep_len_mean     | 150      |\n",
      "|    ep_rew_mean     | 85.8     |\n",
      "| time/              |          |\n",
      "|    fps             | 4600     |\n",
      "|    iterations      | 71       |\n",
      "|    time_elapsed    | 126      |\n",
      "|    total_timesteps | 581632   |\n",
      "---------------------------------\n",
      "------------------------------------------\n",
      "| rollout/                |              |\n",
      "|    ep_len_mean          | 144          |\n",
      "|    ep_rew_mean          | 86.3         |\n",
      "| time/                   |              |\n",
      "|    fps                  | 4620         |\n",
      "|    iterations           | 72           |\n",
      "|    time_elapsed         | 127          |\n",
      "|    total_timesteps      | 589824       |\n",
      "| train/                  |              |\n",
      "|    approx_kl            | 0.0029659416 |\n",
      "|    clip_fraction        | 0.023        |\n",
      "|    clip_range           | 0.2          |\n",
      "|    entropy_loss         | -2.33        |\n",
      "|    explained_variance   | 0.738        |\n",
      "|    learning_rate        | 7.77e-05     |\n",
      "|    loss                 | 56.6         |\n",
      "|    n_updates            | 710          |\n",
      "|    policy_gradient_loss | -0.0029      |\n",
      "|    std                  | 0.731        |\n",
      "|    value_loss           | 111          |\n",
      "------------------------------------------\n"
     ]
    },
    {
     "data": {
      "text/html": [
       "<pre style=\"white-space:pre;overflow-x:auto;line-height:normal;font-family:Menlo,'DejaVu Sans Mono',consolas,'Courier New',monospace\">\r",
       "\u001b[2KEval num_timesteps=592000, episode_reward=85.41 +/- 3.71\n",
       "<span style=\"color: #800080; text-decoration-color: #800080\">  59%</span> <span style=\"color: #f92672; text-decoration-color: #f92672\">━━━━━━━━━━━━━━━━━━━━━━━━━━━━━━━━╸</span><span style=\"color: #3a3a3a; text-decoration-color: #3a3a3a\">━━━━━━━━━━━━━━━━━━━━━━</span> <span style=\"color: #008000; text-decoration-color: #008000\">590,944/1,000,000 </span> [ <span style=\"color: #808000; text-decoration-color: #808000\">0:02:08</span> &lt; <span style=\"color: #008080; text-decoration-color: #008080\">0:01:11</span> , <span style=\"color: #800000; text-decoration-color: #800000\">5,798 it/s</span> ]</pre>\n"
      ],
      "text/plain": [
       "\r",
       "\u001b[2KEval num_timesteps=592000, episode_reward=85.41 +/- 3.71\n",
       "\u001b[35m  59%\u001b[0m \u001b[38;2;249;38;114m━━━━━━━━━━━━━━━━━━━━━━━━━━━━━━━━\u001b[0m\u001b[38;2;249;38;114m╸\u001b[0m\u001b[38;5;237m━━━━━━━━━━━━━━━━━━━━━━\u001b[0m \u001b[32m590,944/1,000,000 \u001b[0m [ \u001b[33m0:02:08\u001b[0m < \u001b[36m0:01:11\u001b[0m , \u001b[31m5,798 it/s\u001b[0m ]"
      ]
     },
     "metadata": {},
     "output_type": "display_data"
    },
    {
     "data": {
      "text/html": [
       "<pre style=\"white-space:pre;overflow-x:auto;line-height:normal;font-family:Menlo,'DejaVu Sans Mono',consolas,'Courier New',monospace\">\r",
       "\u001b[2KEpisode length: 153.20 +/- 39.04\n",
       "<span style=\"color: #800080; text-decoration-color: #800080\">  59%</span> <span style=\"color: #f92672; text-decoration-color: #f92672\">━━━━━━━━━━━━━━━━━━━━━━━━━━━━━━━━╸</span><span style=\"color: #3a3a3a; text-decoration-color: #3a3a3a\">━━━━━━━━━━━━━━━━━━━━━━</span> <span style=\"color: #008000; text-decoration-color: #008000\">590,944/1,000,000 </span> [ <span style=\"color: #808000; text-decoration-color: #808000\">0:02:08</span> &lt; <span style=\"color: #008080; text-decoration-color: #008080\">0:01:11</span> , <span style=\"color: #800000; text-decoration-color: #800000\">5,798 it/s</span> ]</pre>\n"
      ],
      "text/plain": [
       "\r",
       "\u001b[2KEpisode length: 153.20 +/- 39.04\n",
       "\u001b[35m  59%\u001b[0m \u001b[38;2;249;38;114m━━━━━━━━━━━━━━━━━━━━━━━━━━━━━━━━\u001b[0m\u001b[38;2;249;38;114m╸\u001b[0m\u001b[38;5;237m━━━━━━━━━━━━━━━━━━━━━━\u001b[0m \u001b[32m590,944/1,000,000 \u001b[0m [ \u001b[33m0:02:08\u001b[0m < \u001b[36m0:01:11\u001b[0m , \u001b[31m5,798 it/s\u001b[0m ]"
      ]
     },
     "metadata": {},
     "output_type": "display_data"
    },
    {
     "name": "stdout",
     "output_type": "stream",
     "text": [
      "------------------------------------------\n",
      "| eval/                   |              |\n",
      "|    mean_ep_length       | 153          |\n",
      "|    mean_reward          | 85.4         |\n",
      "| time/                   |              |\n",
      "|    total_timesteps      | 592000       |\n",
      "| train/                  |              |\n",
      "|    approx_kl            | 0.0046628513 |\n",
      "|    clip_fraction        | 0.0407       |\n",
      "|    clip_range           | 0.2          |\n",
      "|    entropy_loss         | -2.32        |\n",
      "|    explained_variance   | 0.735        |\n",
      "|    learning_rate        | 7.77e-05     |\n",
      "|    loss                 | 53.6         |\n",
      "|    n_updates            | 720          |\n",
      "|    policy_gradient_loss | -0.00488     |\n",
      "|    std                  | 0.73         |\n",
      "|    value_loss           | 114          |\n",
      "------------------------------------------\n",
      "---------------------------------\n",
      "| rollout/           |          |\n",
      "|    ep_len_mean     | 139      |\n",
      "|    ep_rew_mean     | 86.8     |\n",
      "| time/              |          |\n",
      "|    fps             | 4628     |\n",
      "|    iterations      | 73       |\n",
      "|    time_elapsed    | 129      |\n",
      "|    total_timesteps | 598016   |\n",
      "---------------------------------\n",
      "------------------------------------------\n",
      "| rollout/                |              |\n",
      "|    ep_len_mean          | 139          |\n",
      "|    ep_rew_mean          | 86.7         |\n",
      "| time/                   |              |\n",
      "|    fps                  | 4648         |\n",
      "|    iterations           | 74           |\n",
      "|    time_elapsed         | 130          |\n",
      "|    total_timesteps      | 606208       |\n",
      "| train/                  |              |\n",
      "|    approx_kl            | 0.0014386977 |\n",
      "|    clip_fraction        | 0.0136       |\n",
      "|    clip_range           | 0.2          |\n",
      "|    entropy_loss         | -2.34        |\n",
      "|    explained_variance   | 0.714        |\n",
      "|    learning_rate        | 7.77e-05     |\n",
      "|    loss                 | 53.7         |\n",
      "|    n_updates            | 730          |\n",
      "|    policy_gradient_loss | -0.00169     |\n",
      "|    std                  | 0.726        |\n",
      "|    value_loss           | 109          |\n",
      "------------------------------------------\n"
     ]
    },
    {
     "data": {
      "text/html": [
       "<pre style=\"white-space:pre;overflow-x:auto;line-height:normal;font-family:Menlo,'DejaVu Sans Mono',consolas,'Courier New',monospace\">\r",
       "\u001b[2KEval num_timesteps=608000, episode_reward=85.81 +/- 2.59\n",
       "<span style=\"color: #800080; text-decoration-color: #800080\">  61%</span> <span style=\"color: #f92672; text-decoration-color: #f92672\">━━━━━━━━━━━━━━━━━━━━━━━━━━━━━━━━━</span><span style=\"color: #3a3a3a; text-decoration-color: #3a3a3a\">╺━━━━━━━━━━━━━━━━━━━━━</span> <span style=\"color: #008000; text-decoration-color: #008000\">607,520/1,000,000 </span> [ <span style=\"color: #808000; text-decoration-color: #808000\">0:02:11</span> &lt; <span style=\"color: #008080; text-decoration-color: #008080\">0:01:08</span> , <span style=\"color: #800000; text-decoration-color: #800000\">5,792 it/s</span> ]</pre>\n"
      ],
      "text/plain": [
       "\r",
       "\u001b[2KEval num_timesteps=608000, episode_reward=85.81 +/- 2.59\n",
       "\u001b[35m  61%\u001b[0m \u001b[38;2;249;38;114m━━━━━━━━━━━━━━━━━━━━━━━━━━━━━━━━━\u001b[0m\u001b[38;5;237m╺\u001b[0m\u001b[38;5;237m━━━━━━━━━━━━━━━━━━━━━\u001b[0m \u001b[32m607,520/1,000,000 \u001b[0m [ \u001b[33m0:02:11\u001b[0m < \u001b[36m0:01:08\u001b[0m , \u001b[31m5,792 it/s\u001b[0m ]"
      ]
     },
     "metadata": {},
     "output_type": "display_data"
    },
    {
     "data": {
      "text/html": [
       "<pre style=\"white-space:pre;overflow-x:auto;line-height:normal;font-family:Menlo,'DejaVu Sans Mono',consolas,'Courier New',monospace\">\r",
       "\u001b[2KEpisode length: 150.80 +/- 30.10\n",
       "<span style=\"color: #800080; text-decoration-color: #800080\">  61%</span> <span style=\"color: #f92672; text-decoration-color: #f92672\">━━━━━━━━━━━━━━━━━━━━━━━━━━━━━━━━━</span><span style=\"color: #3a3a3a; text-decoration-color: #3a3a3a\">╺━━━━━━━━━━━━━━━━━━━━━</span> <span style=\"color: #008000; text-decoration-color: #008000\">607,520/1,000,000 </span> [ <span style=\"color: #808000; text-decoration-color: #808000\">0:02:11</span> &lt; <span style=\"color: #008080; text-decoration-color: #008080\">0:01:08</span> , <span style=\"color: #800000; text-decoration-color: #800000\">5,792 it/s</span> ]</pre>\n"
      ],
      "text/plain": [
       "\r",
       "\u001b[2KEpisode length: 150.80 +/- 30.10\n",
       "\u001b[35m  61%\u001b[0m \u001b[38;2;249;38;114m━━━━━━━━━━━━━━━━━━━━━━━━━━━━━━━━━\u001b[0m\u001b[38;5;237m╺\u001b[0m\u001b[38;5;237m━━━━━━━━━━━━━━━━━━━━━\u001b[0m \u001b[32m607,520/1,000,000 \u001b[0m [ \u001b[33m0:02:11\u001b[0m < \u001b[36m0:01:08\u001b[0m , \u001b[31m5,792 it/s\u001b[0m ]"
      ]
     },
     "metadata": {},
     "output_type": "display_data"
    },
    {
     "name": "stdout",
     "output_type": "stream",
     "text": [
      "------------------------------------------\n",
      "| eval/                   |              |\n",
      "|    mean_ep_length       | 151          |\n",
      "|    mean_reward          | 85.8         |\n",
      "| time/                   |              |\n",
      "|    total_timesteps      | 608000       |\n",
      "| train/                  |              |\n",
      "|    approx_kl            | 0.0033292677 |\n",
      "|    clip_fraction        | 0.0267       |\n",
      "|    clip_range           | 0.2          |\n",
      "|    entropy_loss         | -2.32        |\n",
      "|    explained_variance   | 0.74         |\n",
      "|    learning_rate        | 7.77e-05     |\n",
      "|    loss                 | 53.6         |\n",
      "|    n_updates            | 740          |\n",
      "|    policy_gradient_loss | -0.00349     |\n",
      "|    std                  | 0.726        |\n",
      "|    value_loss           | 96.8         |\n",
      "------------------------------------------\n",
      "---------------------------------\n",
      "| rollout/           |          |\n",
      "|    ep_len_mean     | 141      |\n",
      "|    ep_rew_mean     | 86.5     |\n",
      "| time/              |          |\n",
      "|    fps             | 4657     |\n",
      "|    iterations      | 75       |\n",
      "|    time_elapsed    | 131      |\n",
      "|    total_timesteps | 614400   |\n",
      "---------------------------------\n",
      "------------------------------------------\n",
      "| rollout/                |              |\n",
      "|    ep_len_mean          | 145          |\n",
      "|    ep_rew_mean          | 86.3         |\n",
      "| time/                   |              |\n",
      "|    fps                  | 4675         |\n",
      "|    iterations           | 76           |\n",
      "|    time_elapsed         | 133          |\n",
      "|    total_timesteps      | 622592       |\n",
      "| train/                  |              |\n",
      "|    approx_kl            | 0.0028085224 |\n",
      "|    clip_fraction        | 0.0168       |\n",
      "|    clip_range           | 0.2          |\n",
      "|    entropy_loss         | -2.28        |\n",
      "|    explained_variance   | 0.709        |\n",
      "|    learning_rate        | 7.77e-05     |\n",
      "|    loss                 | 41.3         |\n",
      "|    n_updates            | 750          |\n",
      "|    policy_gradient_loss | -0.0012      |\n",
      "|    std                  | 0.726        |\n",
      "|    value_loss           | 88           |\n",
      "------------------------------------------\n"
     ]
    },
    {
     "data": {
      "text/html": [
       "<pre style=\"white-space:pre;overflow-x:auto;line-height:normal;font-family:Menlo,'DejaVu Sans Mono',consolas,'Courier New',monospace\">\r",
       "\u001b[2KEval num_timesteps=624000, episode_reward=83.31 +/- 4.21\n",
       "<span style=\"color: #800080; text-decoration-color: #800080\">  62%</span> <span style=\"color: #f92672; text-decoration-color: #f92672\">━━━━━━━━━━━━━━━━━━━━━━━━━━━━━━━━━━</span><span style=\"color: #3a3a3a; text-decoration-color: #3a3a3a\">╺━━━━━━━━━━━━━━━━━━━━</span> <span style=\"color: #008000; text-decoration-color: #008000\">623,584/1,000,000 </span> [ <span style=\"color: #808000; text-decoration-color: #808000\">0:02:14</span> &lt; <span style=\"color: #008080; text-decoration-color: #008080\">0:01:05</span> , <span style=\"color: #800000; text-decoration-color: #800000\">5,794 it/s</span> ]</pre>\n"
      ],
      "text/plain": [
       "\r",
       "\u001b[2KEval num_timesteps=624000, episode_reward=83.31 +/- 4.21\n",
       "\u001b[35m  62%\u001b[0m \u001b[38;2;249;38;114m━━━━━━━━━━━━━━━━━━━━━━━━━━━━━━━━━━\u001b[0m\u001b[38;5;237m╺\u001b[0m\u001b[38;5;237m━━━━━━━━━━━━━━━━━━━━\u001b[0m \u001b[32m623,584/1,000,000 \u001b[0m [ \u001b[33m0:02:14\u001b[0m < \u001b[36m0:01:05\u001b[0m , \u001b[31m5,794 it/s\u001b[0m ]"
      ]
     },
     "metadata": {},
     "output_type": "display_data"
    },
    {
     "data": {
      "text/html": [
       "<pre style=\"white-space:pre;overflow-x:auto;line-height:normal;font-family:Menlo,'DejaVu Sans Mono',consolas,'Courier New',monospace\">\r",
       "\u001b[2KEpisode length: 175.20 +/- 42.91\n",
       "<span style=\"color: #800080; text-decoration-color: #800080\">  62%</span> <span style=\"color: #f92672; text-decoration-color: #f92672\">━━━━━━━━━━━━━━━━━━━━━━━━━━━━━━━━━━</span><span style=\"color: #3a3a3a; text-decoration-color: #3a3a3a\">╺━━━━━━━━━━━━━━━━━━━━</span> <span style=\"color: #008000; text-decoration-color: #008000\">623,584/1,000,000 </span> [ <span style=\"color: #808000; text-decoration-color: #808000\">0:02:14</span> &lt; <span style=\"color: #008080; text-decoration-color: #008080\">0:01:05</span> , <span style=\"color: #800000; text-decoration-color: #800000\">5,794 it/s</span> ]</pre>\n"
      ],
      "text/plain": [
       "\r",
       "\u001b[2KEpisode length: 175.20 +/- 42.91\n",
       "\u001b[35m  62%\u001b[0m \u001b[38;2;249;38;114m━━━━━━━━━━━━━━━━━━━━━━━━━━━━━━━━━━\u001b[0m\u001b[38;5;237m╺\u001b[0m\u001b[38;5;237m━━━━━━━━━━━━━━━━━━━━\u001b[0m \u001b[32m623,584/1,000,000 \u001b[0m [ \u001b[33m0:02:14\u001b[0m < \u001b[36m0:01:05\u001b[0m , \u001b[31m5,794 it/s\u001b[0m ]"
      ]
     },
     "metadata": {},
     "output_type": "display_data"
    },
    {
     "name": "stdout",
     "output_type": "stream",
     "text": [
      "------------------------------------------\n",
      "| eval/                   |              |\n",
      "|    mean_ep_length       | 175          |\n",
      "|    mean_reward          | 83.3         |\n",
      "| time/                   |              |\n",
      "|    total_timesteps      | 624000       |\n",
      "| train/                  |              |\n",
      "|    approx_kl            | 0.0033151389 |\n",
      "|    clip_fraction        | 0.0487       |\n",
      "|    clip_range           | 0.2          |\n",
      "|    entropy_loss         | -2.32        |\n",
      "|    explained_variance   | 0.728        |\n",
      "|    learning_rate        | 7.77e-05     |\n",
      "|    loss                 | 54.1         |\n",
      "|    n_updates            | 760          |\n",
      "|    policy_gradient_loss | -0.0047      |\n",
      "|    std                  | 0.729        |\n",
      "|    value_loss           | 97.4         |\n",
      "------------------------------------------\n",
      "---------------------------------\n",
      "| rollout/           |          |\n",
      "|    ep_len_mean     | 144      |\n",
      "|    ep_rew_mean     | 86.3     |\n",
      "| time/              |          |\n",
      "|    fps             | 4682     |\n",
      "|    iterations      | 77       |\n",
      "|    time_elapsed    | 134      |\n",
      "|    total_timesteps | 630784   |\n",
      "---------------------------------\n",
      "------------------------------------------\n",
      "| rollout/                |              |\n",
      "|    ep_len_mean          | 145          |\n",
      "|    ep_rew_mean          | 86.3         |\n",
      "| time/                   |              |\n",
      "|    fps                  | 4699         |\n",
      "|    iterations           | 78           |\n",
      "|    time_elapsed         | 135          |\n",
      "|    total_timesteps      | 638976       |\n",
      "| train/                  |              |\n",
      "|    approx_kl            | 0.0034754984 |\n",
      "|    clip_fraction        | 0.04         |\n",
      "|    clip_range           | 0.2          |\n",
      "|    entropy_loss         | -2.3         |\n",
      "|    explained_variance   | 0.721        |\n",
      "|    learning_rate        | 7.77e-05     |\n",
      "|    loss                 | 37           |\n",
      "|    n_updates            | 770          |\n",
      "|    policy_gradient_loss | -0.00322     |\n",
      "|    std                  | 0.728        |\n",
      "|    value_loss           | 79.4         |\n",
      "------------------------------------------\n"
     ]
    },
    {
     "data": {
      "text/html": [
       "<pre style=\"white-space:pre;overflow-x:auto;line-height:normal;font-family:Menlo,'DejaVu Sans Mono',consolas,'Courier New',monospace\">\r",
       "\u001b[2KEval num_timesteps=640000, episode_reward=87.91 +/- 3.46\n",
       "<span style=\"color: #800080; text-decoration-color: #800080\">  64%</span> <span style=\"color: #f92672; text-decoration-color: #f92672\">━━━━━━━━━━━━━━━━━━━━━━━━━━━━━━━━━━━</span><span style=\"color: #3a3a3a; text-decoration-color: #3a3a3a\">╺━━━━━━━━━━━━━━━━━━━</span> <span style=\"color: #008000; text-decoration-color: #008000\">639,744/1,000,000 </span> [ <span style=\"color: #808000; text-decoration-color: #808000\">0:02:16</span> &lt; <span style=\"color: #008080; text-decoration-color: #008080\">0:01:03</span> , <span style=\"color: #800000; text-decoration-color: #800000\">5,806 it/s</span> ]</pre>\n"
      ],
      "text/plain": [
       "\r",
       "\u001b[2KEval num_timesteps=640000, episode_reward=87.91 +/- 3.46\n",
       "\u001b[35m  64%\u001b[0m \u001b[38;2;249;38;114m━━━━━━━━━━━━━━━━━━━━━━━━━━━━━━━━━━━\u001b[0m\u001b[38;5;237m╺\u001b[0m\u001b[38;5;237m━━━━━━━━━━━━━━━━━━━\u001b[0m \u001b[32m639,744/1,000,000 \u001b[0m [ \u001b[33m0:02:16\u001b[0m < \u001b[36m0:01:03\u001b[0m , \u001b[31m5,806 it/s\u001b[0m ]"
      ]
     },
     "metadata": {},
     "output_type": "display_data"
    },
    {
     "data": {
      "text/html": [
       "<pre style=\"white-space:pre;overflow-x:auto;line-height:normal;font-family:Menlo,'DejaVu Sans Mono',consolas,'Courier New',monospace\">\r",
       "\u001b[2KEpisode length: 126.40 +/- 37.96\n",
       "<span style=\"color: #800080; text-decoration-color: #800080\">  64%</span> <span style=\"color: #f92672; text-decoration-color: #f92672\">━━━━━━━━━━━━━━━━━━━━━━━━━━━━━━━━━━━</span><span style=\"color: #3a3a3a; text-decoration-color: #3a3a3a\">╺━━━━━━━━━━━━━━━━━━━</span> <span style=\"color: #008000; text-decoration-color: #008000\">639,744/1,000,000 </span> [ <span style=\"color: #808000; text-decoration-color: #808000\">0:02:16</span> &lt; <span style=\"color: #008080; text-decoration-color: #008080\">0:01:03</span> , <span style=\"color: #800000; text-decoration-color: #800000\">5,806 it/s</span> ]</pre>\n"
      ],
      "text/plain": [
       "\r",
       "\u001b[2KEpisode length: 126.40 +/- 37.96\n",
       "\u001b[35m  64%\u001b[0m \u001b[38;2;249;38;114m━━━━━━━━━━━━━━━━━━━━━━━━━━━━━━━━━━━\u001b[0m\u001b[38;5;237m╺\u001b[0m\u001b[38;5;237m━━━━━━━━━━━━━━━━━━━\u001b[0m \u001b[32m639,744/1,000,000 \u001b[0m [ \u001b[33m0:02:16\u001b[0m < \u001b[36m0:01:03\u001b[0m , \u001b[31m5,806 it/s\u001b[0m ]"
      ]
     },
     "metadata": {},
     "output_type": "display_data"
    },
    {
     "name": "stdout",
     "output_type": "stream",
     "text": [
      "------------------------------------------\n",
      "| eval/                   |              |\n",
      "|    mean_ep_length       | 126          |\n",
      "|    mean_reward          | 87.9         |\n",
      "| time/                   |              |\n",
      "|    total_timesteps      | 640000       |\n",
      "| train/                  |              |\n",
      "|    approx_kl            | 0.0030441603 |\n",
      "|    clip_fraction        | 0.0326       |\n",
      "|    clip_range           | 0.2          |\n",
      "|    entropy_loss         | -2.31        |\n",
      "|    explained_variance   | 0.724        |\n",
      "|    learning_rate        | 7.77e-05     |\n",
      "|    loss                 | 41.5         |\n",
      "|    n_updates            | 780          |\n",
      "|    policy_gradient_loss | -0.00549     |\n",
      "|    std                  | 0.728        |\n",
      "|    value_loss           | 83.2         |\n",
      "------------------------------------------\n",
      "---------------------------------\n",
      "| rollout/           |          |\n",
      "|    ep_len_mean     | 137      |\n",
      "|    ep_rew_mean     | 86.9     |\n",
      "| time/              |          |\n",
      "|    fps             | 4707     |\n",
      "|    iterations      | 79       |\n",
      "|    time_elapsed    | 137      |\n",
      "|    total_timesteps | 647168   |\n",
      "---------------------------------\n",
      "------------------------------------------\n",
      "| rollout/                |              |\n",
      "|    ep_len_mean          | 141          |\n",
      "|    ep_rew_mean          | 86.6         |\n",
      "| time/                   |              |\n",
      "|    fps                  | 4724         |\n",
      "|    iterations           | 80           |\n",
      "|    time_elapsed         | 138          |\n",
      "|    total_timesteps      | 655360       |\n",
      "| train/                  |              |\n",
      "|    approx_kl            | 0.0043555396 |\n",
      "|    clip_fraction        | 0.0452       |\n",
      "|    clip_range           | 0.2          |\n",
      "|    entropy_loss         | -2.27        |\n",
      "|    explained_variance   | 0.725        |\n",
      "|    learning_rate        | 7.77e-05     |\n",
      "|    loss                 | 38.2         |\n",
      "|    n_updates            | 790          |\n",
      "|    policy_gradient_loss | -0.00459     |\n",
      "|    std                  | 0.728        |\n",
      "|    value_loss           | 87.8         |\n",
      "------------------------------------------\n"
     ]
    },
    {
     "data": {
      "text/html": [
       "<pre style=\"white-space:pre;overflow-x:auto;line-height:normal;font-family:Menlo,'DejaVu Sans Mono',consolas,'Courier New',monospace\">\r",
       "\u001b[2KEval num_timesteps=656000, episode_reward=85.81 +/- 3.30\n",
       "<span style=\"color: #800080; text-decoration-color: #800080\">  66%</span> <span style=\"color: #f92672; text-decoration-color: #f92672\">━━━━━━━━━━━━━━━━━━━━━━━━━━━━━━━━━━━━</span><span style=\"color: #3a3a3a; text-decoration-color: #3a3a3a\">╺━━━━━━━━━━━━━━━━━━</span> <span style=\"color: #008000; text-decoration-color: #008000\">655,904/1,000,000 </span> [ <span style=\"color: #808000; text-decoration-color: #808000\">0:02:19</span> &lt; <span style=\"color: #008080; text-decoration-color: #008080\">0:01:00</span> , <span style=\"color: #800000; text-decoration-color: #800000\">5,800 it/s</span> ]</pre>\n"
      ],
      "text/plain": [
       "\r",
       "\u001b[2KEval num_timesteps=656000, episode_reward=85.81 +/- 3.30\n",
       "\u001b[35m  66%\u001b[0m \u001b[38;2;249;38;114m━━━━━━━━━━━━━━━━━━━━━━━━━━━━━━━━━━━━\u001b[0m\u001b[38;5;237m╺\u001b[0m\u001b[38;5;237m━━━━━━━━━━━━━━━━━━\u001b[0m \u001b[32m655,904/1,000,000 \u001b[0m [ \u001b[33m0:02:19\u001b[0m < \u001b[36m0:01:00\u001b[0m , \u001b[31m5,800 it/s\u001b[0m ]"
      ]
     },
     "metadata": {},
     "output_type": "display_data"
    },
    {
     "data": {
      "text/html": [
       "<pre style=\"white-space:pre;overflow-x:auto;line-height:normal;font-family:Menlo,'DejaVu Sans Mono',consolas,'Courier New',monospace\">\r",
       "\u001b[2KEpisode length: 148.20 +/- 35.44\n",
       "<span style=\"color: #800080; text-decoration-color: #800080\">  66%</span> <span style=\"color: #f92672; text-decoration-color: #f92672\">━━━━━━━━━━━━━━━━━━━━━━━━━━━━━━━━━━━━</span><span style=\"color: #3a3a3a; text-decoration-color: #3a3a3a\">╺━━━━━━━━━━━━━━━━━━</span> <span style=\"color: #008000; text-decoration-color: #008000\">655,904/1,000,000 </span> [ <span style=\"color: #808000; text-decoration-color: #808000\">0:02:19</span> &lt; <span style=\"color: #008080; text-decoration-color: #008080\">0:01:00</span> , <span style=\"color: #800000; text-decoration-color: #800000\">5,800 it/s</span> ]</pre>\n"
      ],
      "text/plain": [
       "\r",
       "\u001b[2KEpisode length: 148.20 +/- 35.44\n",
       "\u001b[35m  66%\u001b[0m \u001b[38;2;249;38;114m━━━━━━━━━━━━━━━━━━━━━━━━━━━━━━━━━━━━\u001b[0m\u001b[38;5;237m╺\u001b[0m\u001b[38;5;237m━━━━━━━━━━━━━━━━━━\u001b[0m \u001b[32m655,904/1,000,000 \u001b[0m [ \u001b[33m0:02:19\u001b[0m < \u001b[36m0:01:00\u001b[0m , \u001b[31m5,800 it/s\u001b[0m ]"
      ]
     },
     "metadata": {},
     "output_type": "display_data"
    },
    {
     "name": "stdout",
     "output_type": "stream",
     "text": [
      "-----------------------------------------\n",
      "| eval/                   |             |\n",
      "|    mean_ep_length       | 148         |\n",
      "|    mean_reward          | 85.8        |\n",
      "| time/                   |             |\n",
      "|    total_timesteps      | 656000      |\n",
      "| train/                  |             |\n",
      "|    approx_kl            | 0.007556126 |\n",
      "|    clip_fraction        | 0.0582      |\n",
      "|    clip_range           | 0.2         |\n",
      "|    entropy_loss         | -2.31       |\n",
      "|    explained_variance   | 0.74        |\n",
      "|    learning_rate        | 7.77e-05    |\n",
      "|    loss                 | 32.2        |\n",
      "|    n_updates            | 800         |\n",
      "|    policy_gradient_loss | -0.00643    |\n",
      "|    std                  | 0.727       |\n",
      "|    value_loss           | 71.1        |\n",
      "-----------------------------------------\n",
      "---------------------------------\n",
      "| rollout/           |          |\n",
      "|    ep_len_mean     | 138      |\n",
      "|    ep_rew_mean     | 86.8     |\n",
      "| time/              |          |\n",
      "|    fps             | 4730     |\n",
      "|    iterations      | 81       |\n",
      "|    time_elapsed    | 140      |\n",
      "|    total_timesteps | 663552   |\n",
      "---------------------------------\n",
      "------------------------------------------\n",
      "| rollout/                |              |\n",
      "|    ep_len_mean          | 129          |\n",
      "|    ep_rew_mean          | 87.7         |\n",
      "| time/                   |              |\n",
      "|    fps                  | 4746         |\n",
      "|    iterations           | 82           |\n",
      "|    time_elapsed         | 141          |\n",
      "|    total_timesteps      | 671744       |\n",
      "| train/                  |              |\n",
      "|    approx_kl            | 0.0025336542 |\n",
      "|    clip_fraction        | 0.00822      |\n",
      "|    clip_range           | 0.2          |\n",
      "|    entropy_loss         | -2.31        |\n",
      "|    explained_variance   | 0.734        |\n",
      "|    learning_rate        | 7.77e-05     |\n",
      "|    loss                 | 44.4         |\n",
      "|    n_updates            | 810          |\n",
      "|    policy_gradient_loss | -0.00162     |\n",
      "|    std                  | 0.726        |\n",
      "|    value_loss           | 82.7         |\n",
      "------------------------------------------\n"
     ]
    },
    {
     "data": {
      "text/html": [
       "<pre style=\"white-space:pre;overflow-x:auto;line-height:normal;font-family:Menlo,'DejaVu Sans Mono',consolas,'Courier New',monospace\">\r",
       "\u001b[2KEval num_timesteps=672000, episode_reward=88.05 +/- 2.19\n",
       "<span style=\"color: #800080; text-decoration-color: #800080\">  67%</span> <span style=\"color: #f92672; text-decoration-color: #f92672\">━━━━━━━━━━━━━━━━━━━━━━━━━━━━━━━━━━━━╸</span><span style=\"color: #3a3a3a; text-decoration-color: #3a3a3a\">━━━━━━━━━━━━━━━━━━</span> <span style=\"color: #008000; text-decoration-color: #008000\">670,528/1,000,000 </span> [ <span style=\"color: #808000; text-decoration-color: #808000\">0:02:22</span> &lt; <span style=\"color: #008080; text-decoration-color: #008080\">0:00:56</span> , <span style=\"color: #800000; text-decoration-color: #800000\">5,926 it/s</span> ]</pre>\n"
      ],
      "text/plain": [
       "\r",
       "\u001b[2KEval num_timesteps=672000, episode_reward=88.05 +/- 2.19\n",
       "\u001b[35m  67%\u001b[0m \u001b[38;2;249;38;114m━━━━━━━━━━━━━━━━━━━━━━━━━━━━━━━━━━━━\u001b[0m\u001b[38;2;249;38;114m╸\u001b[0m\u001b[38;5;237m━━━━━━━━━━━━━━━━━━\u001b[0m \u001b[32m670,528/1,000,000 \u001b[0m [ \u001b[33m0:02:22\u001b[0m < \u001b[36m0:00:56\u001b[0m , \u001b[31m5,926 it/s\u001b[0m ]"
      ]
     },
     "metadata": {},
     "output_type": "display_data"
    },
    {
     "data": {
      "text/html": [
       "<pre style=\"white-space:pre;overflow-x:auto;line-height:normal;font-family:Menlo,'DejaVu Sans Mono',consolas,'Courier New',monospace\">\r",
       "\u001b[2KEpisode length: 123.60 +/- 23.69\n",
       "<span style=\"color: #800080; text-decoration-color: #800080\">  67%</span> <span style=\"color: #f92672; text-decoration-color: #f92672\">━━━━━━━━━━━━━━━━━━━━━━━━━━━━━━━━━━━━╸</span><span style=\"color: #3a3a3a; text-decoration-color: #3a3a3a\">━━━━━━━━━━━━━━━━━━</span> <span style=\"color: #008000; text-decoration-color: #008000\">670,528/1,000,000 </span> [ <span style=\"color: #808000; text-decoration-color: #808000\">0:02:22</span> &lt; <span style=\"color: #008080; text-decoration-color: #008080\">0:00:56</span> , <span style=\"color: #800000; text-decoration-color: #800000\">5,926 it/s</span> ]</pre>\n"
      ],
      "text/plain": [
       "\r",
       "\u001b[2KEpisode length: 123.60 +/- 23.69\n",
       "\u001b[35m  67%\u001b[0m \u001b[38;2;249;38;114m━━━━━━━━━━━━━━━━━━━━━━━━━━━━━━━━━━━━\u001b[0m\u001b[38;2;249;38;114m╸\u001b[0m\u001b[38;5;237m━━━━━━━━━━━━━━━━━━\u001b[0m \u001b[32m670,528/1,000,000 \u001b[0m [ \u001b[33m0:02:22\u001b[0m < \u001b[36m0:00:56\u001b[0m , \u001b[31m5,926 it/s\u001b[0m ]"
      ]
     },
     "metadata": {},
     "output_type": "display_data"
    },
    {
     "name": "stdout",
     "output_type": "stream",
     "text": [
      "-----------------------------------------\n",
      "| eval/                   |             |\n",
      "|    mean_ep_length       | 124         |\n",
      "|    mean_reward          | 88.1        |\n",
      "| time/                   |             |\n",
      "|    total_timesteps      | 672000      |\n",
      "| train/                  |             |\n",
      "|    approx_kl            | 0.004786435 |\n",
      "|    clip_fraction        | 0.0479      |\n",
      "|    clip_range           | 0.2         |\n",
      "|    entropy_loss         | -2.29       |\n",
      "|    explained_variance   | 0.756       |\n",
      "|    learning_rate        | 7.77e-05    |\n",
      "|    loss                 | 34          |\n",
      "|    n_updates            | 820         |\n",
      "|    policy_gradient_loss | -0.00513    |\n",
      "|    std                  | 0.731       |\n",
      "|    value_loss           | 64.5        |\n",
      "-----------------------------------------\n",
      "---------------------------------\n",
      "| rollout/           |          |\n",
      "|    ep_len_mean     | 128      |\n",
      "|    ep_rew_mean     | 87.7     |\n",
      "| time/              |          |\n",
      "|    fps             | 4755     |\n",
      "|    iterations      | 83       |\n",
      "|    time_elapsed    | 142      |\n",
      "|    total_timesteps | 679936   |\n",
      "---------------------------------\n"
     ]
    },
    {
     "data": {
      "text/html": [
       "<pre style=\"white-space:pre;overflow-x:auto;line-height:normal;font-family:Menlo,'DejaVu Sans Mono',consolas,'Courier New',monospace\">\r",
       "\u001b[2KEval num_timesteps=688000, episode_reward=88.01 +/- 1.91\n",
       "<span style=\"color: #800080; text-decoration-color: #800080\">  69%</span> <span style=\"color: #f92672; text-decoration-color: #f92672\">━━━━━━━━━━━━━━━━━━━━━━━━━━━━━━━━━━━━━╸</span><span style=\"color: #3a3a3a; text-decoration-color: #3a3a3a\">━━━━━━━━━━━━━━━━━</span> <span style=\"color: #008000; text-decoration-color: #008000\">686,240/1,000,000 </span> [ <span style=\"color: #808000; text-decoration-color: #808000\">0:02:24</span> &lt; <span style=\"color: #008080; text-decoration-color: #008080\">0:00:53</span> , <span style=\"color: #800000; text-decoration-color: #800000\">5,953 it/s</span> ]</pre>\n"
      ],
      "text/plain": [
       "\r",
       "\u001b[2KEval num_timesteps=688000, episode_reward=88.01 +/- 1.91\n",
       "\u001b[35m  69%\u001b[0m \u001b[38;2;249;38;114m━━━━━━━━━━━━━━━━━━━━━━━━━━━━━━━━━━━━━\u001b[0m\u001b[38;2;249;38;114m╸\u001b[0m\u001b[38;5;237m━━━━━━━━━━━━━━━━━\u001b[0m \u001b[32m686,240/1,000,000 \u001b[0m [ \u001b[33m0:02:24\u001b[0m < \u001b[36m0:00:53\u001b[0m , \u001b[31m5,953 it/s\u001b[0m ]"
      ]
     },
     "metadata": {},
     "output_type": "display_data"
    },
    {
     "data": {
      "text/html": [
       "<pre style=\"white-space:pre;overflow-x:auto;line-height:normal;font-family:Menlo,'DejaVu Sans Mono',consolas,'Courier New',monospace\">\r",
       "\u001b[2KEpisode length: 124.00 +/- 21.06\n",
       "<span style=\"color: #800080; text-decoration-color: #800080\">  69%</span> <span style=\"color: #f92672; text-decoration-color: #f92672\">━━━━━━━━━━━━━━━━━━━━━━━━━━━━━━━━━━━━━╸</span><span style=\"color: #3a3a3a; text-decoration-color: #3a3a3a\">━━━━━━━━━━━━━━━━━</span> <span style=\"color: #008000; text-decoration-color: #008000\">686,240/1,000,000 </span> [ <span style=\"color: #808000; text-decoration-color: #808000\">0:02:24</span> &lt; <span style=\"color: #008080; text-decoration-color: #008080\">0:00:53</span> , <span style=\"color: #800000; text-decoration-color: #800000\">5,953 it/s</span> ]</pre>\n"
      ],
      "text/plain": [
       "\r",
       "\u001b[2KEpisode length: 124.00 +/- 21.06\n",
       "\u001b[35m  69%\u001b[0m \u001b[38;2;249;38;114m━━━━━━━━━━━━━━━━━━━━━━━━━━━━━━━━━━━━━\u001b[0m\u001b[38;2;249;38;114m╸\u001b[0m\u001b[38;5;237m━━━━━━━━━━━━━━━━━\u001b[0m \u001b[32m686,240/1,000,000 \u001b[0m [ \u001b[33m0:02:24\u001b[0m < \u001b[36m0:00:53\u001b[0m , \u001b[31m5,953 it/s\u001b[0m ]"
      ]
     },
     "metadata": {},
     "output_type": "display_data"
    },
    {
     "name": "stdout",
     "output_type": "stream",
     "text": [
      "------------------------------------------\n",
      "| eval/                   |              |\n",
      "|    mean_ep_length       | 124          |\n",
      "|    mean_reward          | 88           |\n",
      "| time/                   |              |\n",
      "|    total_timesteps      | 688000       |\n",
      "| train/                  |              |\n",
      "|    approx_kl            | 0.0028572036 |\n",
      "|    clip_fraction        | 0.0266       |\n",
      "|    clip_range           | 0.2          |\n",
      "|    entropy_loss         | -2.35        |\n",
      "|    explained_variance   | 0.749        |\n",
      "|    learning_rate        | 7.77e-05     |\n",
      "|    loss                 | 31.2         |\n",
      "|    n_updates            | 830          |\n",
      "|    policy_gradient_loss | -0.00346     |\n",
      "|    std                  | 0.73         |\n",
      "|    value_loss           | 64.4         |\n",
      "------------------------------------------\n",
      "---------------------------------\n",
      "| rollout/           |          |\n",
      "|    ep_len_mean     | 138      |\n",
      "|    ep_rew_mean     | 86.9     |\n",
      "| time/              |          |\n",
      "|    fps             | 4762     |\n",
      "|    iterations      | 84       |\n",
      "|    time_elapsed    | 144      |\n",
      "|    total_timesteps | 688128   |\n",
      "---------------------------------\n",
      "------------------------------------------\n",
      "| rollout/                |              |\n",
      "|    ep_len_mean          | 127          |\n",
      "|    ep_rew_mean          | 87.8         |\n",
      "| time/                   |              |\n",
      "|    fps                  | 4781         |\n",
      "|    iterations           | 85           |\n",
      "|    time_elapsed         | 145          |\n",
      "|    total_timesteps      | 696320       |\n",
      "| train/                  |              |\n",
      "|    approx_kl            | 0.0051034824 |\n",
      "|    clip_fraction        | 0.0237       |\n",
      "|    clip_range           | 0.2          |\n",
      "|    entropy_loss         | -2.36        |\n",
      "|    explained_variance   | 0.716        |\n",
      "|    learning_rate        | 7.77e-05     |\n",
      "|    loss                 | 31           |\n",
      "|    n_updates            | 840          |\n",
      "|    policy_gradient_loss | -0.00313     |\n",
      "|    std                  | 0.726        |\n",
      "|    value_loss           | 72.1         |\n",
      "------------------------------------------\n"
     ]
    },
    {
     "data": {
      "text/html": [
       "<pre style=\"white-space:pre;overflow-x:auto;line-height:normal;font-family:Menlo,'DejaVu Sans Mono',consolas,'Courier New',monospace\">\r",
       "\u001b[2KEval num_timesteps=704000, episode_reward=87.91 +/- 2.54\n",
       "<span style=\"color: #800080; text-decoration-color: #800080\">  70%</span> <span style=\"color: #f92672; text-decoration-color: #f92672\">━━━━━━━━━━━━━━━━━━━━━━━━━━━━━━━━━━━━━━╸</span><span style=\"color: #3a3a3a; text-decoration-color: #3a3a3a\">━━━━━━━━━━━━━━━━</span> <span style=\"color: #008000; text-decoration-color: #008000\">703,392/1,000,000 </span> [ <span style=\"color: #808000; text-decoration-color: #808000\">0:02:27</span> &lt; <span style=\"color: #008080; text-decoration-color: #008080\">0:00:49</span> , <span style=\"color: #800000; text-decoration-color: #800000\">6,061 it/s</span> ]</pre>\n"
      ],
      "text/plain": [
       "\r",
       "\u001b[2KEval num_timesteps=704000, episode_reward=87.91 +/- 2.54\n",
       "\u001b[35m  70%\u001b[0m \u001b[38;2;249;38;114m━━━━━━━━━━━━━━━━━━━━━━━━━━━━━━━━━━━━━━\u001b[0m\u001b[38;2;249;38;114m╸\u001b[0m\u001b[38;5;237m━━━━━━━━━━━━━━━━\u001b[0m \u001b[32m703,392/1,000,000 \u001b[0m [ \u001b[33m0:02:27\u001b[0m < \u001b[36m0:00:49\u001b[0m , \u001b[31m6,061 it/s\u001b[0m ]"
      ]
     },
     "metadata": {},
     "output_type": "display_data"
    },
    {
     "data": {
      "text/html": [
       "<pre style=\"white-space:pre;overflow-x:auto;line-height:normal;font-family:Menlo,'DejaVu Sans Mono',consolas,'Courier New',monospace\">\r",
       "\u001b[2KEpisode length: 125.60 +/- 28.25\n",
       "<span style=\"color: #800080; text-decoration-color: #800080\">  70%</span> <span style=\"color: #f92672; text-decoration-color: #f92672\">━━━━━━━━━━━━━━━━━━━━━━━━━━━━━━━━━━━━━━╸</span><span style=\"color: #3a3a3a; text-decoration-color: #3a3a3a\">━━━━━━━━━━━━━━━━</span> <span style=\"color: #008000; text-decoration-color: #008000\">703,392/1,000,000 </span> [ <span style=\"color: #808000; text-decoration-color: #808000\">0:02:27</span> &lt; <span style=\"color: #008080; text-decoration-color: #008080\">0:00:49</span> , <span style=\"color: #800000; text-decoration-color: #800000\">6,061 it/s</span> ]</pre>\n"
      ],
      "text/plain": [
       "\r",
       "\u001b[2KEpisode length: 125.60 +/- 28.25\n",
       "\u001b[35m  70%\u001b[0m \u001b[38;2;249;38;114m━━━━━━━━━━━━━━━━━━━━━━━━━━━━━━━━━━━━━━\u001b[0m\u001b[38;2;249;38;114m╸\u001b[0m\u001b[38;5;237m━━━━━━━━━━━━━━━━\u001b[0m \u001b[32m703,392/1,000,000 \u001b[0m [ \u001b[33m0:02:27\u001b[0m < \u001b[36m0:00:49\u001b[0m , \u001b[31m6,061 it/s\u001b[0m ]"
      ]
     },
     "metadata": {},
     "output_type": "display_data"
    },
    {
     "name": "stdout",
     "output_type": "stream",
     "text": [
      "------------------------------------------\n",
      "| eval/                   |              |\n",
      "|    mean_ep_length       | 126          |\n",
      "|    mean_reward          | 87.9         |\n",
      "| time/                   |              |\n",
      "|    total_timesteps      | 704000       |\n",
      "| train/                  |              |\n",
      "|    approx_kl            | 0.0033191792 |\n",
      "|    clip_fraction        | 0.0217       |\n",
      "|    clip_range           | 0.2          |\n",
      "|    entropy_loss         | -2.36        |\n",
      "|    explained_variance   | 0.763        |\n",
      "|    learning_rate        | 7.77e-05     |\n",
      "|    loss                 | 30.6         |\n",
      "|    n_updates            | 850          |\n",
      "|    policy_gradient_loss | -0.00214     |\n",
      "|    std                  | 0.723        |\n",
      "|    value_loss           | 59.8         |\n",
      "------------------------------------------\n",
      "---------------------------------\n",
      "| rollout/           |          |\n",
      "|    ep_len_mean     | 128      |\n",
      "|    ep_rew_mean     | 87.6     |\n",
      "| time/              |          |\n",
      "|    fps             | 4788     |\n",
      "|    iterations      | 86       |\n",
      "|    time_elapsed    | 147      |\n",
      "|    total_timesteps | 704512   |\n",
      "---------------------------------\n",
      "-----------------------------------------\n",
      "| rollout/                |             |\n",
      "|    ep_len_mean          | 133         |\n",
      "|    ep_rew_mean          | 87.2        |\n",
      "| time/                   |             |\n",
      "|    fps                  | 4803        |\n",
      "|    iterations           | 87          |\n",
      "|    time_elapsed         | 148         |\n",
      "|    total_timesteps      | 712704      |\n",
      "| train/                  |             |\n",
      "|    approx_kl            | 0.001345562 |\n",
      "|    clip_fraction        | 0.0066      |\n",
      "|    clip_range           | 0.2         |\n",
      "|    entropy_loss         | -2.32       |\n",
      "|    explained_variance   | 0.742       |\n",
      "|    learning_rate        | 7.77e-05    |\n",
      "|    loss                 | 26.8        |\n",
      "|    n_updates            | 860         |\n",
      "|    policy_gradient_loss | -0.00222    |\n",
      "|    std                  | 0.73        |\n",
      "|    value_loss           | 56.2        |\n",
      "-----------------------------------------\n"
     ]
    },
    {
     "data": {
      "text/html": [
       "<pre style=\"white-space:pre;overflow-x:auto;line-height:normal;font-family:Menlo,'DejaVu Sans Mono',consolas,'Courier New',monospace\">\r",
       "\u001b[2KEval num_timesteps=720000, episode_reward=87.24 +/- 1.93\n",
       "<span style=\"color: #800080; text-decoration-color: #800080\">  72%</span> <span style=\"color: #f92672; text-decoration-color: #f92672\">━━━━━━━━━━━━━━━━━━━━━━━━━━━━━━━━━━━━━━━╸</span><span style=\"color: #3a3a3a; text-decoration-color: #3a3a3a\">━━━━━━━━━━━━━━━</span> <span style=\"color: #008000; text-decoration-color: #008000\">719,936/1,000,000 </span> [ <span style=\"color: #808000; text-decoration-color: #808000\">0:02:29</span> &lt; <span style=\"color: #008080; text-decoration-color: #008080\">0:00:47</span> , <span style=\"color: #800000; text-decoration-color: #800000\">6,038 it/s</span> ]</pre>\n"
      ],
      "text/plain": [
       "\r",
       "\u001b[2KEval num_timesteps=720000, episode_reward=87.24 +/- 1.93\n",
       "\u001b[35m  72%\u001b[0m \u001b[38;2;249;38;114m━━━━━━━━━━━━━━━━━━━━━━━━━━━━━━━━━━━━━━━\u001b[0m\u001b[38;2;249;38;114m╸\u001b[0m\u001b[38;5;237m━━━━━━━━━━━━━━━\u001b[0m \u001b[32m719,936/1,000,000 \u001b[0m [ \u001b[33m0:02:29\u001b[0m < \u001b[36m0:00:47\u001b[0m , \u001b[31m6,038 it/s\u001b[0m ]"
      ]
     },
     "metadata": {},
     "output_type": "display_data"
    },
    {
     "data": {
      "text/html": [
       "<pre style=\"white-space:pre;overflow-x:auto;line-height:normal;font-family:Menlo,'DejaVu Sans Mono',consolas,'Courier New',monospace\">\r",
       "\u001b[2KEpisode length: 132.20 +/- 21.30\n",
       "<span style=\"color: #800080; text-decoration-color: #800080\">  72%</span> <span style=\"color: #f92672; text-decoration-color: #f92672\">━━━━━━━━━━━━━━━━━━━━━━━━━━━━━━━━━━━━━━━╸</span><span style=\"color: #3a3a3a; text-decoration-color: #3a3a3a\">━━━━━━━━━━━━━━━</span> <span style=\"color: #008000; text-decoration-color: #008000\">719,936/1,000,000 </span> [ <span style=\"color: #808000; text-decoration-color: #808000\">0:02:29</span> &lt; <span style=\"color: #008080; text-decoration-color: #008080\">0:00:47</span> , <span style=\"color: #800000; text-decoration-color: #800000\">6,038 it/s</span> ]</pre>\n"
      ],
      "text/plain": [
       "\r",
       "\u001b[2KEpisode length: 132.20 +/- 21.30\n",
       "\u001b[35m  72%\u001b[0m \u001b[38;2;249;38;114m━━━━━━━━━━━━━━━━━━━━━━━━━━━━━━━━━━━━━━━\u001b[0m\u001b[38;2;249;38;114m╸\u001b[0m\u001b[38;5;237m━━━━━━━━━━━━━━━\u001b[0m \u001b[32m719,936/1,000,000 \u001b[0m [ \u001b[33m0:02:29\u001b[0m < \u001b[36m0:00:47\u001b[0m , \u001b[31m6,038 it/s\u001b[0m ]"
      ]
     },
     "metadata": {},
     "output_type": "display_data"
    },
    {
     "name": "stdout",
     "output_type": "stream",
     "text": [
      "-----------------------------------------\n",
      "| eval/                   |             |\n",
      "|    mean_ep_length       | 132         |\n",
      "|    mean_reward          | 87.2        |\n",
      "| time/                   |             |\n",
      "|    total_timesteps      | 720000      |\n",
      "| train/                  |             |\n",
      "|    approx_kl            | 0.002580005 |\n",
      "|    clip_fraction        | 0.0235      |\n",
      "|    clip_range           | 0.2         |\n",
      "|    entropy_loss         | -2.34       |\n",
      "|    explained_variance   | 0.769       |\n",
      "|    learning_rate        | 7.77e-05    |\n",
      "|    loss                 | 27.4        |\n",
      "|    n_updates            | 870         |\n",
      "|    policy_gradient_loss | -0.00142    |\n",
      "|    std                  | 0.731       |\n",
      "|    value_loss           | 56.3        |\n",
      "-----------------------------------------\n",
      "---------------------------------\n",
      "| rollout/           |          |\n",
      "|    ep_len_mean     | 130      |\n",
      "|    ep_rew_mean     | 87.5     |\n",
      "| time/              |          |\n",
      "|    fps             | 4810     |\n",
      "|    iterations      | 88       |\n",
      "|    time_elapsed    | 149      |\n",
      "|    total_timesteps | 720896   |\n",
      "---------------------------------\n",
      "-----------------------------------------\n",
      "| rollout/                |             |\n",
      "|    ep_len_mean          | 128         |\n",
      "|    ep_rew_mean          | 87.7        |\n",
      "| time/                   |             |\n",
      "|    fps                  | 4826        |\n",
      "|    iterations           | 89          |\n",
      "|    time_elapsed         | 151         |\n",
      "|    total_timesteps      | 729088      |\n",
      "| train/                  |             |\n",
      "|    approx_kl            | 0.005689125 |\n",
      "|    clip_fraction        | 0.0439      |\n",
      "|    clip_range           | 0.2         |\n",
      "|    entropy_loss         | -2.37       |\n",
      "|    explained_variance   | 0.75        |\n",
      "|    learning_rate        | 7.77e-05    |\n",
      "|    loss                 | 27.3        |\n",
      "|    n_updates            | 880         |\n",
      "|    policy_gradient_loss | -0.00439    |\n",
      "|    std                  | 0.728       |\n",
      "|    value_loss           | 53.7        |\n",
      "-----------------------------------------\n"
     ]
    },
    {
     "data": {
      "text/html": [
       "<pre style=\"white-space:pre;overflow-x:auto;line-height:normal;font-family:Menlo,'DejaVu Sans Mono',consolas,'Courier New',monospace\">\r",
       "\u001b[2KEval num_timesteps=736000, episode_reward=88.78 +/- 2.20\n",
       "<span style=\"color: #800080; text-decoration-color: #800080\">  74%</span> <span style=\"color: #f92672; text-decoration-color: #f92672\">━━━━━━━━━━━━━━━━━━━━━━━━━━━━━━━━━━━━━━━━</span><span style=\"color: #3a3a3a; text-decoration-color: #3a3a3a\">╺━━━━━━━━━━━━━━</span> <span style=\"color: #008000; text-decoration-color: #008000\">735,040/1,000,000 </span> [ <span style=\"color: #808000; text-decoration-color: #808000\">0:02:32</span> &lt; <span style=\"color: #008080; text-decoration-color: #008080\">0:00:44</span> , <span style=\"color: #800000; text-decoration-color: #800000\">6,061 it/s</span> ]</pre>\n"
      ],
      "text/plain": [
       "\r",
       "\u001b[2KEval num_timesteps=736000, episode_reward=88.78 +/- 2.20\n",
       "\u001b[35m  74%\u001b[0m \u001b[38;2;249;38;114m━━━━━━━━━━━━━━━━━━━━━━━━━━━━━━━━━━━━━━━━\u001b[0m\u001b[38;5;237m╺\u001b[0m\u001b[38;5;237m━━━━━━━━━━━━━━\u001b[0m \u001b[32m735,040/1,000,000 \u001b[0m [ \u001b[33m0:02:32\u001b[0m < \u001b[36m0:00:44\u001b[0m , \u001b[31m6,061 it/s\u001b[0m ]"
      ]
     },
     "metadata": {},
     "output_type": "display_data"
    },
    {
     "data": {
      "text/html": [
       "<pre style=\"white-space:pre;overflow-x:auto;line-height:normal;font-family:Menlo,'DejaVu Sans Mono',consolas,'Courier New',monospace\">\r",
       "\u001b[2KEpisode length: 116.40 +/- 24.32\n",
       "<span style=\"color: #800080; text-decoration-color: #800080\">  74%</span> <span style=\"color: #f92672; text-decoration-color: #f92672\">━━━━━━━━━━━━━━━━━━━━━━━━━━━━━━━━━━━━━━━━</span><span style=\"color: #3a3a3a; text-decoration-color: #3a3a3a\">╺━━━━━━━━━━━━━━</span> <span style=\"color: #008000; text-decoration-color: #008000\">735,040/1,000,000 </span> [ <span style=\"color: #808000; text-decoration-color: #808000\">0:02:32</span> &lt; <span style=\"color: #008080; text-decoration-color: #008080\">0:00:44</span> , <span style=\"color: #800000; text-decoration-color: #800000\">6,061 it/s</span> ]</pre>\n"
      ],
      "text/plain": [
       "\r",
       "\u001b[2KEpisode length: 116.40 +/- 24.32\n",
       "\u001b[35m  74%\u001b[0m \u001b[38;2;249;38;114m━━━━━━━━━━━━━━━━━━━━━━━━━━━━━━━━━━━━━━━━\u001b[0m\u001b[38;5;237m╺\u001b[0m\u001b[38;5;237m━━━━━━━━━━━━━━\u001b[0m \u001b[32m735,040/1,000,000 \u001b[0m [ \u001b[33m0:02:32\u001b[0m < \u001b[36m0:00:44\u001b[0m , \u001b[31m6,061 it/s\u001b[0m ]"
      ]
     },
     "metadata": {},
     "output_type": "display_data"
    },
    {
     "name": "stdout",
     "output_type": "stream",
     "text": [
      "----------------------------------------\n",
      "| eval/                   |            |\n",
      "|    mean_ep_length       | 116        |\n",
      "|    mean_reward          | 88.8       |\n",
      "| time/                   |            |\n",
      "|    total_timesteps      | 736000     |\n",
      "| train/                  |            |\n",
      "|    approx_kl            | 0.00370872 |\n",
      "|    clip_fraction        | 0.0137     |\n",
      "|    clip_range           | 0.2        |\n",
      "|    entropy_loss         | -2.33      |\n",
      "|    explained_variance   | 0.772      |\n",
      "|    learning_rate        | 7.77e-05   |\n",
      "|    loss                 | 28.7       |\n",
      "|    n_updates            | 890        |\n",
      "|    policy_gradient_loss | -0.00172   |\n",
      "|    std                  | 0.726      |\n",
      "|    value_loss           | 51.4       |\n",
      "----------------------------------------\n"
     ]
    },
    {
     "data": {
      "text/html": [
       "<pre style=\"white-space:pre;overflow-x:auto;line-height:normal;font-family:Menlo,'DejaVu Sans Mono',consolas,'Courier New',monospace\">\r",
       "\u001b[2KNew best mean reward!\n",
       "<span style=\"color: #800080; text-decoration-color: #800080\">  74%</span> <span style=\"color: #f92672; text-decoration-color: #f92672\">━━━━━━━━━━━━━━━━━━━━━━━━━━━━━━━━━━━━━━━━</span><span style=\"color: #3a3a3a; text-decoration-color: #3a3a3a\">╺━━━━━━━━━━━━━━</span> <span style=\"color: #008000; text-decoration-color: #008000\">735,040/1,000,000 </span> [ <span style=\"color: #808000; text-decoration-color: #808000\">0:02:32</span> &lt; <span style=\"color: #008080; text-decoration-color: #008080\">0:00:44</span> , <span style=\"color: #800000; text-decoration-color: #800000\">6,061 it/s</span> ]</pre>\n"
      ],
      "text/plain": [
       "\r",
       "\u001b[2KNew best mean reward!\n",
       "\u001b[35m  74%\u001b[0m \u001b[38;2;249;38;114m━━━━━━━━━━━━━━━━━━━━━━━━━━━━━━━━━━━━━━━━\u001b[0m\u001b[38;5;237m╺\u001b[0m\u001b[38;5;237m━━━━━━━━━━━━━━\u001b[0m \u001b[32m735,040/1,000,000 \u001b[0m [ \u001b[33m0:02:32\u001b[0m < \u001b[36m0:00:44\u001b[0m , \u001b[31m6,061 it/s\u001b[0m ]"
      ]
     },
     "metadata": {},
     "output_type": "display_data"
    },
    {
     "name": "stdout",
     "output_type": "stream",
     "text": [
      "---------------------------------\n",
      "| rollout/           |          |\n",
      "|    ep_len_mean     | 131      |\n",
      "|    ep_rew_mean     | 87.4     |\n",
      "| time/              |          |\n",
      "|    fps             | 4833     |\n",
      "|    iterations      | 90       |\n",
      "|    time_elapsed    | 152      |\n",
      "|    total_timesteps | 737280   |\n",
      "---------------------------------\n",
      "------------------------------------------\n",
      "| rollout/                |              |\n",
      "|    ep_len_mean          | 130          |\n",
      "|    ep_rew_mean          | 87.6         |\n",
      "| time/                   |              |\n",
      "|    fps                  | 4848         |\n",
      "|    iterations           | 91           |\n",
      "|    time_elapsed         | 153          |\n",
      "|    total_timesteps      | 745472       |\n",
      "| train/                  |              |\n",
      "|    approx_kl            | 0.0027557213 |\n",
      "|    clip_fraction        | 0.0223       |\n",
      "|    clip_range           | 0.2          |\n",
      "|    entropy_loss         | -2.35        |\n",
      "|    explained_variance   | 0.749        |\n",
      "|    learning_rate        | 7.77e-05     |\n",
      "|    loss                 | 23.6         |\n",
      "|    n_updates            | 900          |\n",
      "|    policy_gradient_loss | -0.00221     |\n",
      "|    std                  | 0.728        |\n",
      "|    value_loss           | 49.3         |\n",
      "------------------------------------------\n"
     ]
    },
    {
     "data": {
      "text/html": [
       "<pre style=\"white-space:pre;overflow-x:auto;line-height:normal;font-family:Menlo,'DejaVu Sans Mono',consolas,'Courier New',monospace\">\r",
       "\u001b[2KEval num_timesteps=752000, episode_reward=88.81 +/- 2.27\n",
       "<span style=\"color: #800080; text-decoration-color: #800080\">  75%</span> <span style=\"color: #f92672; text-decoration-color: #f92672\">━━━━━━━━━━━━━━━━━━━━━━━━━━━━━━━━━━━━━━━━━</span><span style=\"color: #3a3a3a; text-decoration-color: #3a3a3a\">╺━━━━━━━━━━━━━</span> <span style=\"color: #008000; text-decoration-color: #008000\">751,968/1,000,000 </span> [ <span style=\"color: #808000; text-decoration-color: #808000\">0:02:35</span> &lt; <span style=\"color: #008080; text-decoration-color: #008080\">0:00:42</span> , <span style=\"color: #800000; text-decoration-color: #800000\">5,989 it/s</span> ]</pre>\n"
      ],
      "text/plain": [
       "\r",
       "\u001b[2KEval num_timesteps=752000, episode_reward=88.81 +/- 2.27\n",
       "\u001b[35m  75%\u001b[0m \u001b[38;2;249;38;114m━━━━━━━━━━━━━━━━━━━━━━━━━━━━━━━━━━━━━━━━━\u001b[0m\u001b[38;5;237m╺\u001b[0m\u001b[38;5;237m━━━━━━━━━━━━━\u001b[0m \u001b[32m751,968/1,000,000 \u001b[0m [ \u001b[33m0:02:35\u001b[0m < \u001b[36m0:00:42\u001b[0m , \u001b[31m5,989 it/s\u001b[0m ]"
      ]
     },
     "metadata": {},
     "output_type": "display_data"
    },
    {
     "data": {
      "text/html": [
       "<pre style=\"white-space:pre;overflow-x:auto;line-height:normal;font-family:Menlo,'DejaVu Sans Mono',consolas,'Courier New',monospace\">\r",
       "\u001b[2KEpisode length: 115.60 +/- 24.71\n",
       "<span style=\"color: #800080; text-decoration-color: #800080\">  75%</span> <span style=\"color: #f92672; text-decoration-color: #f92672\">━━━━━━━━━━━━━━━━━━━━━━━━━━━━━━━━━━━━━━━━━</span><span style=\"color: #3a3a3a; text-decoration-color: #3a3a3a\">╺━━━━━━━━━━━━━</span> <span style=\"color: #008000; text-decoration-color: #008000\">751,968/1,000,000 </span> [ <span style=\"color: #808000; text-decoration-color: #808000\">0:02:35</span> &lt; <span style=\"color: #008080; text-decoration-color: #008080\">0:00:42</span> , <span style=\"color: #800000; text-decoration-color: #800000\">5,989 it/s</span> ]</pre>\n"
      ],
      "text/plain": [
       "\r",
       "\u001b[2KEpisode length: 115.60 +/- 24.71\n",
       "\u001b[35m  75%\u001b[0m \u001b[38;2;249;38;114m━━━━━━━━━━━━━━━━━━━━━━━━━━━━━━━━━━━━━━━━━\u001b[0m\u001b[38;5;237m╺\u001b[0m\u001b[38;5;237m━━━━━━━━━━━━━\u001b[0m \u001b[32m751,968/1,000,000 \u001b[0m [ \u001b[33m0:02:35\u001b[0m < \u001b[36m0:00:42\u001b[0m , \u001b[31m5,989 it/s\u001b[0m ]"
      ]
     },
     "metadata": {},
     "output_type": "display_data"
    },
    {
     "name": "stdout",
     "output_type": "stream",
     "text": [
      "-----------------------------------------\n",
      "| eval/                   |             |\n",
      "|    mean_ep_length       | 116         |\n",
      "|    mean_reward          | 88.8        |\n",
      "| time/                   |             |\n",
      "|    total_timesteps      | 752000      |\n",
      "| train/                  |             |\n",
      "|    approx_kl            | 0.007353806 |\n",
      "|    clip_fraction        | 0.0653      |\n",
      "|    clip_range           | 0.2         |\n",
      "|    entropy_loss         | -2.36       |\n",
      "|    explained_variance   | 0.77        |\n",
      "|    learning_rate        | 7.77e-05    |\n",
      "|    loss                 | 19.7        |\n",
      "|    n_updates            | 910         |\n",
      "|    policy_gradient_loss | -0.00907    |\n",
      "|    std                  | 0.732       |\n",
      "|    value_loss           | 46.9        |\n",
      "-----------------------------------------\n"
     ]
    },
    {
     "data": {
      "text/html": [
       "<pre style=\"white-space:pre;overflow-x:auto;line-height:normal;font-family:Menlo,'DejaVu Sans Mono',consolas,'Courier New',monospace\">\r",
       "\u001b[2KNew best mean reward!\n",
       "<span style=\"color: #800080; text-decoration-color: #800080\">  75%</span> <span style=\"color: #f92672; text-decoration-color: #f92672\">━━━━━━━━━━━━━━━━━━━━━━━━━━━━━━━━━━━━━━━━━</span><span style=\"color: #3a3a3a; text-decoration-color: #3a3a3a\">╺━━━━━━━━━━━━━</span> <span style=\"color: #008000; text-decoration-color: #008000\">751,968/1,000,000 </span> [ <span style=\"color: #808000; text-decoration-color: #808000\">0:02:35</span> &lt; <span style=\"color: #008080; text-decoration-color: #008080\">0:00:42</span> , <span style=\"color: #800000; text-decoration-color: #800000\">5,989 it/s</span> ]</pre>\n"
      ],
      "text/plain": [
       "\r",
       "\u001b[2KNew best mean reward!\n",
       "\u001b[35m  75%\u001b[0m \u001b[38;2;249;38;114m━━━━━━━━━━━━━━━━━━━━━━━━━━━━━━━━━━━━━━━━━\u001b[0m\u001b[38;5;237m╺\u001b[0m\u001b[38;5;237m━━━━━━━━━━━━━\u001b[0m \u001b[32m751,968/1,000,000 \u001b[0m [ \u001b[33m0:02:35\u001b[0m < \u001b[36m0:00:42\u001b[0m , \u001b[31m5,989 it/s\u001b[0m ]"
      ]
     },
     "metadata": {},
     "output_type": "display_data"
    },
    {
     "name": "stdout",
     "output_type": "stream",
     "text": [
      "---------------------------------\n",
      "| rollout/           |          |\n",
      "|    ep_len_mean     | 127      |\n",
      "|    ep_rew_mean     | 87.8     |\n",
      "| time/              |          |\n",
      "|    fps             | 4856     |\n",
      "|    iterations      | 92       |\n",
      "|    time_elapsed    | 155      |\n",
      "|    total_timesteps | 753664   |\n",
      "---------------------------------\n",
      "------------------------------------------\n",
      "| rollout/                |              |\n",
      "|    ep_len_mean          | 125          |\n",
      "|    ep_rew_mean          | 87.9         |\n",
      "| time/                   |              |\n",
      "|    fps                  | 4871         |\n",
      "|    iterations           | 93           |\n",
      "|    time_elapsed         | 156          |\n",
      "|    total_timesteps      | 761856       |\n",
      "| train/                  |              |\n",
      "|    approx_kl            | 0.0050494233 |\n",
      "|    clip_fraction        | 0.0417       |\n",
      "|    clip_range           | 0.2          |\n",
      "|    entropy_loss         | -2.35        |\n",
      "|    explained_variance   | 0.759        |\n",
      "|    learning_rate        | 7.77e-05     |\n",
      "|    loss                 | 21.4         |\n",
      "|    n_updates            | 920          |\n",
      "|    policy_gradient_loss | -0.00528     |\n",
      "|    std                  | 0.734        |\n",
      "|    value_loss           | 48.7         |\n",
      "------------------------------------------\n"
     ]
    },
    {
     "data": {
      "text/html": [
       "<pre style=\"white-space:pre;overflow-x:auto;line-height:normal;font-family:Menlo,'DejaVu Sans Mono',consolas,'Courier New',monospace\">\r",
       "\u001b[2KEval num_timesteps=768000, episode_reward=85.48 +/- 2.24\n",
       "<span style=\"color: #800080; text-decoration-color: #800080\">  77%</span> <span style=\"color: #f92672; text-decoration-color: #f92672\">━━━━━━━━━━━━━━━━━━━━━━━━━━━━━━━━━━━━━━━━━━</span><span style=\"color: #3a3a3a; text-decoration-color: #3a3a3a\">╺━━━━━━━━━━━━</span> <span style=\"color: #008000; text-decoration-color: #008000\">766,848/1,000,000 </span> [ <span style=\"color: #808000; text-decoration-color: #808000\">0:02:37</span> &lt; <span style=\"color: #008080; text-decoration-color: #008080\">0:00:39</span> , <span style=\"color: #800000; text-decoration-color: #800000\">6,023 it/s</span> ]</pre>\n"
      ],
      "text/plain": [
       "\r",
       "\u001b[2KEval num_timesteps=768000, episode_reward=85.48 +/- 2.24\n",
       "\u001b[35m  77%\u001b[0m \u001b[38;2;249;38;114m━━━━━━━━━━━━━━━━━━━━━━━━━━━━━━━━━━━━━━━━━━\u001b[0m\u001b[38;5;237m╺\u001b[0m\u001b[38;5;237m━━━━━━━━━━━━\u001b[0m \u001b[32m766,848/1,000,000 \u001b[0m [ \u001b[33m0:02:37\u001b[0m < \u001b[36m0:00:39\u001b[0m , \u001b[31m6,023 it/s\u001b[0m ]"
      ]
     },
     "metadata": {},
     "output_type": "display_data"
    },
    {
     "data": {
      "text/html": [
       "<pre style=\"white-space:pre;overflow-x:auto;line-height:normal;font-family:Menlo,'DejaVu Sans Mono',consolas,'Courier New',monospace\">\r",
       "\u001b[2KEpisode length: 153.60 +/- 25.30\n",
       "<span style=\"color: #800080; text-decoration-color: #800080\">  77%</span> <span style=\"color: #f92672; text-decoration-color: #f92672\">━━━━━━━━━━━━━━━━━━━━━━━━━━━━━━━━━━━━━━━━━━</span><span style=\"color: #3a3a3a; text-decoration-color: #3a3a3a\">╺━━━━━━━━━━━━</span> <span style=\"color: #008000; text-decoration-color: #008000\">766,848/1,000,000 </span> [ <span style=\"color: #808000; text-decoration-color: #808000\">0:02:37</span> &lt; <span style=\"color: #008080; text-decoration-color: #008080\">0:00:39</span> , <span style=\"color: #800000; text-decoration-color: #800000\">6,023 it/s</span> ]</pre>\n"
      ],
      "text/plain": [
       "\r",
       "\u001b[2KEpisode length: 153.60 +/- 25.30\n",
       "\u001b[35m  77%\u001b[0m \u001b[38;2;249;38;114m━━━━━━━━━━━━━━━━━━━━━━━━━━━━━━━━━━━━━━━━━━\u001b[0m\u001b[38;5;237m╺\u001b[0m\u001b[38;5;237m━━━━━━━━━━━━\u001b[0m \u001b[32m766,848/1,000,000 \u001b[0m [ \u001b[33m0:02:37\u001b[0m < \u001b[36m0:00:39\u001b[0m , \u001b[31m6,023 it/s\u001b[0m ]"
      ]
     },
     "metadata": {},
     "output_type": "display_data"
    },
    {
     "name": "stdout",
     "output_type": "stream",
     "text": [
      "------------------------------------------\n",
      "| eval/                   |              |\n",
      "|    mean_ep_length       | 154          |\n",
      "|    mean_reward          | 85.5         |\n",
      "| time/                   |              |\n",
      "|    total_timesteps      | 768000       |\n",
      "| train/                  |              |\n",
      "|    approx_kl            | 0.0037108946 |\n",
      "|    clip_fraction        | 0.022        |\n",
      "|    clip_range           | 0.2          |\n",
      "|    entropy_loss         | -2.35        |\n",
      "|    explained_variance   | 0.789        |\n",
      "|    learning_rate        | 7.77e-05     |\n",
      "|    loss                 | 16.6         |\n",
      "|    n_updates            | 930          |\n",
      "|    policy_gradient_loss | -0.00149     |\n",
      "|    std                  | 0.732        |\n",
      "|    value_loss           | 40           |\n",
      "------------------------------------------\n",
      "---------------------------------\n",
      "| rollout/           |          |\n",
      "|    ep_len_mean     | 130      |\n",
      "|    ep_rew_mean     | 87.5     |\n",
      "| time/              |          |\n",
      "|    fps             | 4878     |\n",
      "|    iterations      | 94       |\n",
      "|    time_elapsed    | 157      |\n",
      "|    total_timesteps | 770048   |\n",
      "---------------------------------\n",
      "------------------------------------------\n",
      "| rollout/                |              |\n",
      "|    ep_len_mean          | 129          |\n",
      "|    ep_rew_mean          | 87.6         |\n",
      "| time/                   |              |\n",
      "|    fps                  | 4890         |\n",
      "|    iterations           | 95           |\n",
      "|    time_elapsed         | 159          |\n",
      "|    total_timesteps      | 778240       |\n",
      "| train/                  |              |\n",
      "|    approx_kl            | 0.0009753213 |\n",
      "|    clip_fraction        | 0.0123       |\n",
      "|    clip_range           | 0.2          |\n",
      "|    entropy_loss         | -2.35        |\n",
      "|    explained_variance   | 0.738        |\n",
      "|    learning_rate        | 7.77e-05     |\n",
      "|    loss                 | 19.5         |\n",
      "|    n_updates            | 940          |\n",
      "|    policy_gradient_loss | -0.000387    |\n",
      "|    std                  | 0.73         |\n",
      "|    value_loss           | 43.8         |\n",
      "------------------------------------------\n"
     ]
    },
    {
     "data": {
      "text/html": [
       "<pre style=\"white-space:pre;overflow-x:auto;line-height:normal;font-family:Menlo,'DejaVu Sans Mono',consolas,'Courier New',monospace\">\r",
       "\u001b[2KEval num_timesteps=784000, episode_reward=88.26 +/- 2.19\n",
       "<span style=\"color: #800080; text-decoration-color: #800080\">  78%</span> <span style=\"color: #f92672; text-decoration-color: #f92672\">━━━━━━━━━━━━━━━━━━━━━━━━━━━━━━━━━━━━━━━━━━━</span><span style=\"color: #3a3a3a; text-decoration-color: #3a3a3a\">╺━━━━━━━━━━━</span> <span style=\"color: #008000; text-decoration-color: #008000\">782,976/1,000,000 </span> [ <span style=\"color: #808000; text-decoration-color: #808000\">0:02:40</span> &lt; <span style=\"color: #008080; text-decoration-color: #008080\">0:00:36</span> , <span style=\"color: #800000; text-decoration-color: #800000\">6,029 it/s</span> ]</pre>\n"
      ],
      "text/plain": [
       "\r",
       "\u001b[2KEval num_timesteps=784000, episode_reward=88.26 +/- 2.19\n",
       "\u001b[35m  78%\u001b[0m \u001b[38;2;249;38;114m━━━━━━━━━━━━━━━━━━━━━━━━━━━━━━━━━━━━━━━━━━━\u001b[0m\u001b[38;5;237m╺\u001b[0m\u001b[38;5;237m━━━━━━━━━━━\u001b[0m \u001b[32m782,976/1,000,000 \u001b[0m [ \u001b[33m0:02:40\u001b[0m < \u001b[36m0:00:36\u001b[0m , \u001b[31m6,029 it/s\u001b[0m ]"
      ]
     },
     "metadata": {},
     "output_type": "display_data"
    },
    {
     "data": {
      "text/html": [
       "<pre style=\"white-space:pre;overflow-x:auto;line-height:normal;font-family:Menlo,'DejaVu Sans Mono',consolas,'Courier New',monospace\">\r",
       "\u001b[2KEpisode length: 121.80 +/- 24.38\n",
       "<span style=\"color: #800080; text-decoration-color: #800080\">  78%</span> <span style=\"color: #f92672; text-decoration-color: #f92672\">━━━━━━━━━━━━━━━━━━━━━━━━━━━━━━━━━━━━━━━━━━━</span><span style=\"color: #3a3a3a; text-decoration-color: #3a3a3a\">╺━━━━━━━━━━━</span> <span style=\"color: #008000; text-decoration-color: #008000\">782,976/1,000,000 </span> [ <span style=\"color: #808000; text-decoration-color: #808000\">0:02:40</span> &lt; <span style=\"color: #008080; text-decoration-color: #008080\">0:00:36</span> , <span style=\"color: #800000; text-decoration-color: #800000\">6,029 it/s</span> ]</pre>\n"
      ],
      "text/plain": [
       "\r",
       "\u001b[2KEpisode length: 121.80 +/- 24.38\n",
       "\u001b[35m  78%\u001b[0m \u001b[38;2;249;38;114m━━━━━━━━━━━━━━━━━━━━━━━━━━━━━━━━━━━━━━━━━━━\u001b[0m\u001b[38;5;237m╺\u001b[0m\u001b[38;5;237m━━━━━━━━━━━\u001b[0m \u001b[32m782,976/1,000,000 \u001b[0m [ \u001b[33m0:02:40\u001b[0m < \u001b[36m0:00:36\u001b[0m , \u001b[31m6,029 it/s\u001b[0m ]"
      ]
     },
     "metadata": {},
     "output_type": "display_data"
    },
    {
     "name": "stdout",
     "output_type": "stream",
     "text": [
      "------------------------------------------\n",
      "| eval/                   |              |\n",
      "|    mean_ep_length       | 122          |\n",
      "|    mean_reward          | 88.3         |\n",
      "| time/                   |              |\n",
      "|    total_timesteps      | 784000       |\n",
      "| train/                  |              |\n",
      "|    approx_kl            | 0.0013232642 |\n",
      "|    clip_fraction        | 0.00527      |\n",
      "|    clip_range           | 0.2          |\n",
      "|    entropy_loss         | -2.34        |\n",
      "|    explained_variance   | 0.788        |\n",
      "|    learning_rate        | 7.77e-05     |\n",
      "|    loss                 | 17.9         |\n",
      "|    n_updates            | 950          |\n",
      "|    policy_gradient_loss | -0.000104    |\n",
      "|    std                  | 0.727        |\n",
      "|    value_loss           | 39.4         |\n",
      "------------------------------------------\n",
      "---------------------------------\n",
      "| rollout/           |          |\n",
      "|    ep_len_mean     | 125      |\n",
      "|    ep_rew_mean     | 88       |\n",
      "| time/              |          |\n",
      "|    fps             | 4897     |\n",
      "|    iterations      | 96       |\n",
      "|    time_elapsed    | 160      |\n",
      "|    total_timesteps | 786432   |\n",
      "---------------------------------\n",
      "------------------------------------------\n",
      "| rollout/                |              |\n",
      "|    ep_len_mean          | 127          |\n",
      "|    ep_rew_mean          | 87.8         |\n",
      "| time/                   |              |\n",
      "|    fps                  | 4911         |\n",
      "|    iterations           | 97           |\n",
      "|    time_elapsed         | 161          |\n",
      "|    total_timesteps      | 794624       |\n",
      "| train/                  |              |\n",
      "|    approx_kl            | 0.0037596493 |\n",
      "|    clip_fraction        | 0.0352       |\n",
      "|    clip_range           | 0.2          |\n",
      "|    entropy_loss         | -2.36        |\n",
      "|    explained_variance   | 0.764        |\n",
      "|    learning_rate        | 7.77e-05     |\n",
      "|    loss                 | 20.8         |\n",
      "|    n_updates            | 960          |\n",
      "|    policy_gradient_loss | -0.00411     |\n",
      "|    std                  | 0.718        |\n",
      "|    value_loss           | 39.5         |\n",
      "------------------------------------------\n"
     ]
    },
    {
     "data": {
      "text/html": [
       "<pre style=\"white-space:pre;overflow-x:auto;line-height:normal;font-family:Menlo,'DejaVu Sans Mono',consolas,'Courier New',monospace\">\r",
       "\u001b[2KEval num_timesteps=800000, episode_reward=87.75 +/- 1.92\n",
       "<span style=\"color: #800080; text-decoration-color: #800080\">  80%</span> <span style=\"color: #f92672; text-decoration-color: #f92672\">━━━━━━━━━━━━━━━━━━━━━━━━━━━━━━━━━━━━━━━━━━━╸</span><span style=\"color: #3a3a3a; text-decoration-color: #3a3a3a\">━━━━━━━━━━━</span> <span style=\"color: #008000; text-decoration-color: #008000\">799,872/1,000,000 </span> [ <span style=\"color: #808000; text-decoration-color: #808000\">0:02:42</span> &lt; <span style=\"color: #008080; text-decoration-color: #008080\">0:00:34</span> , <span style=\"color: #800000; text-decoration-color: #800000\">6,058 it/s</span> ]</pre>\n"
      ],
      "text/plain": [
       "\r",
       "\u001b[2KEval num_timesteps=800000, episode_reward=87.75 +/- 1.92\n",
       "\u001b[35m  80%\u001b[0m \u001b[38;2;249;38;114m━━━━━━━━━━━━━━━━━━━━━━━━━━━━━━━━━━━━━━━━━━━\u001b[0m\u001b[38;2;249;38;114m╸\u001b[0m\u001b[38;5;237m━━━━━━━━━━━\u001b[0m \u001b[32m799,872/1,000,000 \u001b[0m [ \u001b[33m0:02:42\u001b[0m < \u001b[36m0:00:34\u001b[0m , \u001b[31m6,058 it/s\u001b[0m ]"
      ]
     },
     "metadata": {},
     "output_type": "display_data"
    },
    {
     "data": {
      "text/html": [
       "<pre style=\"white-space:pre;overflow-x:auto;line-height:normal;font-family:Menlo,'DejaVu Sans Mono',consolas,'Courier New',monospace\">\r",
       "\u001b[2KEpisode length: 127.20 +/- 21.78\n",
       "<span style=\"color: #800080; text-decoration-color: #800080\">  80%</span> <span style=\"color: #f92672; text-decoration-color: #f92672\">━━━━━━━━━━━━━━━━━━━━━━━━━━━━━━━━━━━━━━━━━━━╸</span><span style=\"color: #3a3a3a; text-decoration-color: #3a3a3a\">━━━━━━━━━━━</span> <span style=\"color: #008000; text-decoration-color: #008000\">799,872/1,000,000 </span> [ <span style=\"color: #808000; text-decoration-color: #808000\">0:02:42</span> &lt; <span style=\"color: #008080; text-decoration-color: #008080\">0:00:34</span> , <span style=\"color: #800000; text-decoration-color: #800000\">6,058 it/s</span> ]</pre>\n"
      ],
      "text/plain": [
       "\r",
       "\u001b[2KEpisode length: 127.20 +/- 21.78\n",
       "\u001b[35m  80%\u001b[0m \u001b[38;2;249;38;114m━━━━━━━━━━━━━━━━━━━━━━━━━━━━━━━━━━━━━━━━━━━\u001b[0m\u001b[38;2;249;38;114m╸\u001b[0m\u001b[38;5;237m━━━━━━━━━━━\u001b[0m \u001b[32m799,872/1,000,000 \u001b[0m [ \u001b[33m0:02:42\u001b[0m < \u001b[36m0:00:34\u001b[0m , \u001b[31m6,058 it/s\u001b[0m ]"
      ]
     },
     "metadata": {},
     "output_type": "display_data"
    },
    {
     "name": "stdout",
     "output_type": "stream",
     "text": [
      "------------------------------------------\n",
      "| eval/                   |              |\n",
      "|    mean_ep_length       | 127          |\n",
      "|    mean_reward          | 87.8         |\n",
      "| time/                   |              |\n",
      "|    total_timesteps      | 800000       |\n",
      "| train/                  |              |\n",
      "|    approx_kl            | 0.0025000232 |\n",
      "|    clip_fraction        | 0.0199       |\n",
      "|    clip_range           | 0.2          |\n",
      "|    entropy_loss         | -2.35        |\n",
      "|    explained_variance   | 0.801        |\n",
      "|    learning_rate        | 7.77e-05     |\n",
      "|    loss                 | 17.5         |\n",
      "|    n_updates            | 970          |\n",
      "|    policy_gradient_loss | -0.00177     |\n",
      "|    std                  | 0.717        |\n",
      "|    value_loss           | 34.5         |\n",
      "------------------------------------------\n",
      "---------------------------------\n",
      "| rollout/           |          |\n",
      "|    ep_len_mean     | 123      |\n",
      "|    ep_rew_mean     | 88.1     |\n",
      "| time/              |          |\n",
      "|    fps             | 4917     |\n",
      "|    iterations      | 98       |\n",
      "|    time_elapsed    | 163      |\n",
      "|    total_timesteps | 802816   |\n",
      "---------------------------------\n",
      "----------------------------------------\n",
      "| rollout/                |            |\n",
      "|    ep_len_mean          | 120        |\n",
      "|    ep_rew_mean          | 88.4       |\n",
      "| time/                   |            |\n",
      "|    fps                  | 4930       |\n",
      "|    iterations           | 99         |\n",
      "|    time_elapsed         | 164        |\n",
      "|    total_timesteps      | 811008     |\n",
      "| train/                  |            |\n",
      "|    approx_kl            | 0.00299523 |\n",
      "|    clip_fraction        | 0.0135     |\n",
      "|    clip_range           | 0.2        |\n",
      "|    entropy_loss         | -2.33      |\n",
      "|    explained_variance   | 0.794      |\n",
      "|    learning_rate        | 7.77e-05   |\n",
      "|    loss                 | 14.8       |\n",
      "|    n_updates            | 980        |\n",
      "|    policy_gradient_loss | -0.00149   |\n",
      "|    std                  | 0.713      |\n",
      "|    value_loss           | 32.5       |\n",
      "----------------------------------------\n"
     ]
    },
    {
     "data": {
      "text/html": [
       "<pre style=\"white-space:pre;overflow-x:auto;line-height:normal;font-family:Menlo,'DejaVu Sans Mono',consolas,'Courier New',monospace\">\r",
       "\u001b[2KEval num_timesteps=816000, episode_reward=88.59 +/- 2.25\n",
       "<span style=\"color: #800080; text-decoration-color: #800080\">  81%</span> <span style=\"color: #f92672; text-decoration-color: #f92672\">━━━━━━━━━━━━━━━━━━━━━━━━━━━━━━━━━━━━━━━━━━━━╸</span><span style=\"color: #3a3a3a; text-decoration-color: #3a3a3a\">━━━━━━━━━━</span> <span style=\"color: #008000; text-decoration-color: #008000\">814,880/1,000,000 </span> [ <span style=\"color: #808000; text-decoration-color: #808000\">0:02:45</span> &lt; <span style=\"color: #008080; text-decoration-color: #008080\">0:00:31</span> , <span style=\"color: #800000; text-decoration-color: #800000\">6,131 it/s</span> ]</pre>\n"
      ],
      "text/plain": [
       "\r",
       "\u001b[2KEval num_timesteps=816000, episode_reward=88.59 +/- 2.25\n",
       "\u001b[35m  81%\u001b[0m \u001b[38;2;249;38;114m━━━━━━━━━━━━━━━━━━━━━━━━━━━━━━━━━━━━━━━━━━━━\u001b[0m\u001b[38;2;249;38;114m╸\u001b[0m\u001b[38;5;237m━━━━━━━━━━\u001b[0m \u001b[32m814,880/1,000,000 \u001b[0m [ \u001b[33m0:02:45\u001b[0m < \u001b[36m0:00:31\u001b[0m , \u001b[31m6,131 it/s\u001b[0m ]"
      ]
     },
     "metadata": {},
     "output_type": "display_data"
    },
    {
     "data": {
      "text/html": [
       "<pre style=\"white-space:pre;overflow-x:auto;line-height:normal;font-family:Menlo,'DejaVu Sans Mono',consolas,'Courier New',monospace\">\r",
       "\u001b[2KEpisode length: 118.60 +/- 24.80\n",
       "<span style=\"color: #800080; text-decoration-color: #800080\">  81%</span> <span style=\"color: #f92672; text-decoration-color: #f92672\">━━━━━━━━━━━━━━━━━━━━━━━━━━━━━━━━━━━━━━━━━━━━╸</span><span style=\"color: #3a3a3a; text-decoration-color: #3a3a3a\">━━━━━━━━━━</span> <span style=\"color: #008000; text-decoration-color: #008000\">814,880/1,000,000 </span> [ <span style=\"color: #808000; text-decoration-color: #808000\">0:02:45</span> &lt; <span style=\"color: #008080; text-decoration-color: #008080\">0:00:31</span> , <span style=\"color: #800000; text-decoration-color: #800000\">6,131 it/s</span> ]</pre>\n"
      ],
      "text/plain": [
       "\r",
       "\u001b[2KEpisode length: 118.60 +/- 24.80\n",
       "\u001b[35m  81%\u001b[0m \u001b[38;2;249;38;114m━━━━━━━━━━━━━━━━━━━━━━━━━━━━━━━━━━━━━━━━━━━━\u001b[0m\u001b[38;2;249;38;114m╸\u001b[0m\u001b[38;5;237m━━━━━━━━━━\u001b[0m \u001b[32m814,880/1,000,000 \u001b[0m [ \u001b[33m0:02:45\u001b[0m < \u001b[36m0:00:31\u001b[0m , \u001b[31m6,131 it/s\u001b[0m ]"
      ]
     },
     "metadata": {},
     "output_type": "display_data"
    },
    {
     "name": "stdout",
     "output_type": "stream",
     "text": [
      "------------------------------------------\n",
      "| eval/                   |              |\n",
      "|    mean_ep_length       | 119          |\n",
      "|    mean_reward          | 88.6         |\n",
      "| time/                   |              |\n",
      "|    total_timesteps      | 816000       |\n",
      "| train/                  |              |\n",
      "|    approx_kl            | 0.0014806559 |\n",
      "|    clip_fraction        | 0.00482      |\n",
      "|    clip_range           | 0.2          |\n",
      "|    entropy_loss         | -2.35        |\n",
      "|    explained_variance   | 0.818        |\n",
      "|    learning_rate        | 7.77e-05     |\n",
      "|    loss                 | 13           |\n",
      "|    n_updates            | 990          |\n",
      "|    policy_gradient_loss | -0.000327    |\n",
      "|    std                  | 0.712        |\n",
      "|    value_loss           | 30.3         |\n",
      "------------------------------------------\n",
      "---------------------------------\n",
      "| rollout/           |          |\n",
      "|    ep_len_mean     | 124      |\n",
      "|    ep_rew_mean     | 88.1     |\n",
      "| time/              |          |\n",
      "|    fps             | 4935     |\n",
      "|    iterations      | 100      |\n",
      "|    time_elapsed    | 165      |\n",
      "|    total_timesteps | 819200   |\n",
      "---------------------------------\n",
      "------------------------------------------\n",
      "| rollout/                |              |\n",
      "|    ep_len_mean          | 125          |\n",
      "|    ep_rew_mean          | 88           |\n",
      "| time/                   |              |\n",
      "|    fps                  | 4948         |\n",
      "|    iterations           | 101          |\n",
      "|    time_elapsed         | 167          |\n",
      "|    total_timesteps      | 827392       |\n",
      "| train/                  |              |\n",
      "|    approx_kl            | 0.0044052037 |\n",
      "|    clip_fraction        | 0.035        |\n",
      "|    clip_range           | 0.2          |\n",
      "|    entropy_loss         | -2.33        |\n",
      "|    explained_variance   | 0.81         |\n",
      "|    learning_rate        | 7.77e-05     |\n",
      "|    loss                 | 13           |\n",
      "|    n_updates            | 1000         |\n",
      "|    policy_gradient_loss | -0.00414     |\n",
      "|    std                  | 0.715        |\n",
      "|    value_loss           | 29.6         |\n",
      "------------------------------------------\n"
     ]
    },
    {
     "data": {
      "text/html": [
       "<pre style=\"white-space:pre;overflow-x:auto;line-height:normal;font-family:Menlo,'DejaVu Sans Mono',consolas,'Courier New',monospace\">\r",
       "\u001b[2KEval num_timesteps=832000, episode_reward=89.81 +/- 0.45\n",
       "<span style=\"color: #800080; text-decoration-color: #800080\">  83%</span> <span style=\"color: #f92672; text-decoration-color: #f92672\">━━━━━━━━━━━━━━━━━━━━━━━━━━━━━━━━━━━━━━━━━━━━━╸</span><span style=\"color: #3a3a3a; text-decoration-color: #3a3a3a\">━━━━━━━━━</span> <span style=\"color: #008000; text-decoration-color: #008000\">831,168/1,000,000 </span> [ <span style=\"color: #808000; text-decoration-color: #808000\">0:02:48</span> &lt; <span style=\"color: #008080; text-decoration-color: #008080\">0:00:28</span> , <span style=\"color: #800000; text-decoration-color: #800000\">6,136 it/s</span> ]</pre>\n"
      ],
      "text/plain": [
       "\r",
       "\u001b[2KEval num_timesteps=832000, episode_reward=89.81 +/- 0.45\n",
       "\u001b[35m  83%\u001b[0m \u001b[38;2;249;38;114m━━━━━━━━━━━━━━━━━━━━━━━━━━━━━━━━━━━━━━━━━━━━━\u001b[0m\u001b[38;2;249;38;114m╸\u001b[0m\u001b[38;5;237m━━━━━━━━━\u001b[0m \u001b[32m831,168/1,000,000 \u001b[0m [ \u001b[33m0:02:48\u001b[0m < \u001b[36m0:00:28\u001b[0m , \u001b[31m6,136 it/s\u001b[0m ]"
      ]
     },
     "metadata": {},
     "output_type": "display_data"
    },
    {
     "data": {
      "text/html": [
       "<pre style=\"white-space:pre;overflow-x:auto;line-height:normal;font-family:Menlo,'DejaVu Sans Mono',consolas,'Courier New',monospace\">\r",
       "\u001b[2KEpisode length: 104.80 +/- 4.66\n",
       "<span style=\"color: #800080; text-decoration-color: #800080\">  83%</span> <span style=\"color: #f92672; text-decoration-color: #f92672\">━━━━━━━━━━━━━━━━━━━━━━━━━━━━━━━━━━━━━━━━━━━━━╸</span><span style=\"color: #3a3a3a; text-decoration-color: #3a3a3a\">━━━━━━━━━</span> <span style=\"color: #008000; text-decoration-color: #008000\">831,168/1,000,000 </span> [ <span style=\"color: #808000; text-decoration-color: #808000\">0:02:48</span> &lt; <span style=\"color: #008080; text-decoration-color: #008080\">0:00:28</span> , <span style=\"color: #800000; text-decoration-color: #800000\">6,136 it/s</span> ]</pre>\n"
      ],
      "text/plain": [
       "\r",
       "\u001b[2KEpisode length: 104.80 +/- 4.66\n",
       "\u001b[35m  83%\u001b[0m \u001b[38;2;249;38;114m━━━━━━━━━━━━━━━━━━━━━━━━━━━━━━━━━━━━━━━━━━━━━\u001b[0m\u001b[38;2;249;38;114m╸\u001b[0m\u001b[38;5;237m━━━━━━━━━\u001b[0m \u001b[32m831,168/1,000,000 \u001b[0m [ \u001b[33m0:02:48\u001b[0m < \u001b[36m0:00:28\u001b[0m , \u001b[31m6,136 it/s\u001b[0m ]"
      ]
     },
     "metadata": {},
     "output_type": "display_data"
    },
    {
     "name": "stdout",
     "output_type": "stream",
     "text": [
      "-----------------------------------------\n",
      "| eval/                   |             |\n",
      "|    mean_ep_length       | 105         |\n",
      "|    mean_reward          | 89.8        |\n",
      "| time/                   |             |\n",
      "|    total_timesteps      | 832000      |\n",
      "| train/                  |             |\n",
      "|    approx_kl            | 0.004993898 |\n",
      "|    clip_fraction        | 0.0413      |\n",
      "|    clip_range           | 0.2         |\n",
      "|    entropy_loss         | -2.35       |\n",
      "|    explained_variance   | 0.829       |\n",
      "|    learning_rate        | 7.77e-05    |\n",
      "|    loss                 | 12.9        |\n",
      "|    n_updates            | 1010        |\n",
      "|    policy_gradient_loss | -0.00426    |\n",
      "|    std                  | 0.716       |\n",
      "|    value_loss           | 27.8        |\n",
      "-----------------------------------------\n"
     ]
    },
    {
     "data": {
      "text/html": [
       "<pre style=\"white-space:pre;overflow-x:auto;line-height:normal;font-family:Menlo,'DejaVu Sans Mono',consolas,'Courier New',monospace\">\r",
       "\u001b[2KNew best mean reward!\n",
       "<span style=\"color: #800080; text-decoration-color: #800080\">  83%</span> <span style=\"color: #f92672; text-decoration-color: #f92672\">━━━━━━━━━━━━━━━━━━━━━━━━━━━━━━━━━━━━━━━━━━━━━╸</span><span style=\"color: #3a3a3a; text-decoration-color: #3a3a3a\">━━━━━━━━━</span> <span style=\"color: #008000; text-decoration-color: #008000\">831,168/1,000,000 </span> [ <span style=\"color: #808000; text-decoration-color: #808000\">0:02:48</span> &lt; <span style=\"color: #008080; text-decoration-color: #008080\">0:00:28</span> , <span style=\"color: #800000; text-decoration-color: #800000\">6,136 it/s</span> ]</pre>\n"
      ],
      "text/plain": [
       "\r",
       "\u001b[2KNew best mean reward!\n",
       "\u001b[35m  83%\u001b[0m \u001b[38;2;249;38;114m━━━━━━━━━━━━━━━━━━━━━━━━━━━━━━━━━━━━━━━━━━━━━\u001b[0m\u001b[38;2;249;38;114m╸\u001b[0m\u001b[38;5;237m━━━━━━━━━\u001b[0m \u001b[32m831,168/1,000,000 \u001b[0m [ \u001b[33m0:02:48\u001b[0m < \u001b[36m0:00:28\u001b[0m , \u001b[31m6,136 it/s\u001b[0m ]"
      ]
     },
     "metadata": {},
     "output_type": "display_data"
    },
    {
     "name": "stdout",
     "output_type": "stream",
     "text": [
      "---------------------------------\n",
      "| rollout/           |          |\n",
      "|    ep_len_mean     | 124      |\n",
      "|    ep_rew_mean     | 88       |\n",
      "| time/              |          |\n",
      "|    fps             | 4955     |\n",
      "|    iterations      | 102      |\n",
      "|    time_elapsed    | 168      |\n",
      "|    total_timesteps | 835584   |\n",
      "---------------------------------\n",
      "------------------------------------------\n",
      "| rollout/                |              |\n",
      "|    ep_len_mean          | 130          |\n",
      "|    ep_rew_mean          | 87.5         |\n",
      "| time/                   |              |\n",
      "|    fps                  | 4968         |\n",
      "|    iterations           | 103          |\n",
      "|    time_elapsed         | 169          |\n",
      "|    total_timesteps      | 843776       |\n",
      "| train/                  |              |\n",
      "|    approx_kl            | 0.0043886756 |\n",
      "|    clip_fraction        | 0.0286       |\n",
      "|    clip_range           | 0.2          |\n",
      "|    entropy_loss         | -2.3         |\n",
      "|    explained_variance   | 0.787        |\n",
      "|    learning_rate        | 7.77e-05     |\n",
      "|    loss                 | 10.4         |\n",
      "|    n_updates            | 1020         |\n",
      "|    policy_gradient_loss | -0.00402     |\n",
      "|    std                  | 0.71         |\n",
      "|    value_loss           | 28.3         |\n",
      "------------------------------------------\n"
     ]
    },
    {
     "data": {
      "text/html": [
       "<pre style=\"white-space:pre;overflow-x:auto;line-height:normal;font-family:Menlo,'DejaVu Sans Mono',consolas,'Courier New',monospace\">\r",
       "\u001b[2KEval num_timesteps=848000, episode_reward=88.38 +/- 2.06\n",
       "<span style=\"color: #800080; text-decoration-color: #800080\">  85%</span> <span style=\"color: #f92672; text-decoration-color: #f92672\">━━━━━━━━━━━━━━━━━━━━━━━━━━━━━━━━━━━━━━━━━━━━━━╸</span><span style=\"color: #3a3a3a; text-decoration-color: #3a3a3a\">━━━━━━━━</span> <span style=\"color: #008000; text-decoration-color: #008000\">846,240/1,000,000 </span> [ <span style=\"color: #808000; text-decoration-color: #808000\">0:02:51</span> &lt; <span style=\"color: #008080; text-decoration-color: #008080\">0:00:25</span> , <span style=\"color: #800000; text-decoration-color: #800000\">6,156 it/s</span> ]</pre>\n"
      ],
      "text/plain": [
       "\r",
       "\u001b[2KEval num_timesteps=848000, episode_reward=88.38 +/- 2.06\n",
       "\u001b[35m  85%\u001b[0m \u001b[38;2;249;38;114m━━━━━━━━━━━━━━━━━━━━━━━━━━━━━━━━━━━━━━━━━━━━━━\u001b[0m\u001b[38;2;249;38;114m╸\u001b[0m\u001b[38;5;237m━━━━━━━━\u001b[0m \u001b[32m846,240/1,000,000 \u001b[0m [ \u001b[33m0:02:51\u001b[0m < \u001b[36m0:00:25\u001b[0m , \u001b[31m6,156 it/s\u001b[0m ]"
      ]
     },
     "metadata": {},
     "output_type": "display_data"
    },
    {
     "data": {
      "text/html": [
       "<pre style=\"white-space:pre;overflow-x:auto;line-height:normal;font-family:Menlo,'DejaVu Sans Mono',consolas,'Courier New',monospace\">\r",
       "\u001b[2KEpisode length: 120.00 +/- 22.74\n",
       "<span style=\"color: #800080; text-decoration-color: #800080\">  85%</span> <span style=\"color: #f92672; text-decoration-color: #f92672\">━━━━━━━━━━━━━━━━━━━━━━━━━━━━━━━━━━━━━━━━━━━━━━╸</span><span style=\"color: #3a3a3a; text-decoration-color: #3a3a3a\">━━━━━━━━</span> <span style=\"color: #008000; text-decoration-color: #008000\">846,240/1,000,000 </span> [ <span style=\"color: #808000; text-decoration-color: #808000\">0:02:51</span> &lt; <span style=\"color: #008080; text-decoration-color: #008080\">0:00:25</span> , <span style=\"color: #800000; text-decoration-color: #800000\">6,156 it/s</span> ]</pre>\n"
      ],
      "text/plain": [
       "\r",
       "\u001b[2KEpisode length: 120.00 +/- 22.74\n",
       "\u001b[35m  85%\u001b[0m \u001b[38;2;249;38;114m━━━━━━━━━━━━━━━━━━━━━━━━━━━━━━━━━━━━━━━━━━━━━━\u001b[0m\u001b[38;2;249;38;114m╸\u001b[0m\u001b[38;5;237m━━━━━━━━\u001b[0m \u001b[32m846,240/1,000,000 \u001b[0m [ \u001b[33m0:02:51\u001b[0m < \u001b[36m0:00:25\u001b[0m , \u001b[31m6,156 it/s\u001b[0m ]"
      ]
     },
     "metadata": {},
     "output_type": "display_data"
    },
    {
     "name": "stdout",
     "output_type": "stream",
     "text": [
      "-----------------------------------------\n",
      "| eval/                   |             |\n",
      "|    mean_ep_length       | 120         |\n",
      "|    mean_reward          | 88.4        |\n",
      "| time/                   |             |\n",
      "|    total_timesteps      | 848000      |\n",
      "| train/                  |             |\n",
      "|    approx_kl            | 0.005340468 |\n",
      "|    clip_fraction        | 0.0473      |\n",
      "|    clip_range           | 0.2         |\n",
      "|    entropy_loss         | -2.33       |\n",
      "|    explained_variance   | 0.822       |\n",
      "|    learning_rate        | 7.77e-05    |\n",
      "|    loss                 | 12.3        |\n",
      "|    n_updates            | 1030        |\n",
      "|    policy_gradient_loss | -0.00651    |\n",
      "|    std                  | 0.708       |\n",
      "|    value_loss           | 25.8        |\n",
      "-----------------------------------------\n",
      "---------------------------------\n",
      "| rollout/           |          |\n",
      "|    ep_len_mean     | 123      |\n",
      "|    ep_rew_mean     | 88.1     |\n",
      "| time/              |          |\n",
      "|    fps             | 4974     |\n",
      "|    iterations      | 104      |\n",
      "|    time_elapsed    | 171      |\n",
      "|    total_timesteps | 851968   |\n",
      "---------------------------------\n",
      "------------------------------------------\n",
      "| rollout/                |              |\n",
      "|    ep_len_mean          | 124          |\n",
      "|    ep_rew_mean          | 88.1         |\n",
      "| time/                   |              |\n",
      "|    fps                  | 4987         |\n",
      "|    iterations           | 105          |\n",
      "|    time_elapsed         | 172          |\n",
      "|    total_timesteps      | 860160       |\n",
      "| train/                  |              |\n",
      "|    approx_kl            | 0.0017149519 |\n",
      "|    clip_fraction        | 0.0162       |\n",
      "|    clip_range           | 0.2          |\n",
      "|    entropy_loss         | -2.36        |\n",
      "|    explained_variance   | 0.821        |\n",
      "|    learning_rate        | 7.77e-05     |\n",
      "|    loss                 | 12.3         |\n",
      "|    n_updates            | 1040         |\n",
      "|    policy_gradient_loss | -0.000967    |\n",
      "|    std                  | 0.71         |\n",
      "|    value_loss           | 24.3         |\n",
      "------------------------------------------\n"
     ]
    },
    {
     "data": {
      "text/html": [
       "<pre style=\"white-space:pre;overflow-x:auto;line-height:normal;font-family:Menlo,'DejaVu Sans Mono',consolas,'Courier New',monospace\">\r",
       "\u001b[2KEval num_timesteps=864000, episode_reward=88.37 +/- 2.08\n",
       "<span style=\"color: #800080; text-decoration-color: #800080\">  86%</span> <span style=\"color: #f92672; text-decoration-color: #f92672\">━━━━━━━━━━━━━━━━━━━━━━━━━━━━━━━━━━━━━━━━━━━━━━━╸</span><span style=\"color: #3a3a3a; text-decoration-color: #3a3a3a\">━━━━━━━</span> <span style=\"color: #008000; text-decoration-color: #008000\">863,744/1,000,000 </span> [ <span style=\"color: #808000; text-decoration-color: #808000\">0:02:53</span> &lt; <span style=\"color: #008080; text-decoration-color: #008080\">0:00:23</span> , <span style=\"color: #800000; text-decoration-color: #800000\">6,176 it/s</span> ]</pre>\n"
      ],
      "text/plain": [
       "\r",
       "\u001b[2KEval num_timesteps=864000, episode_reward=88.37 +/- 2.08\n",
       "\u001b[35m  86%\u001b[0m \u001b[38;2;249;38;114m━━━━━━━━━━━━━━━━━━━━━━━━━━━━━━━━━━━━━━━━━━━━━━━\u001b[0m\u001b[38;2;249;38;114m╸\u001b[0m\u001b[38;5;237m━━━━━━━\u001b[0m \u001b[32m863,744/1,000,000 \u001b[0m [ \u001b[33m0:02:53\u001b[0m < \u001b[36m0:00:23\u001b[0m , \u001b[31m6,176 it/s\u001b[0m ]"
      ]
     },
     "metadata": {},
     "output_type": "display_data"
    },
    {
     "data": {
      "text/html": [
       "<pre style=\"white-space:pre;overflow-x:auto;line-height:normal;font-family:Menlo,'DejaVu Sans Mono',consolas,'Courier New',monospace\">\r",
       "\u001b[2KEpisode length: 120.00 +/- 23.09\n",
       "<span style=\"color: #800080; text-decoration-color: #800080\">  86%</span> <span style=\"color: #f92672; text-decoration-color: #f92672\">━━━━━━━━━━━━━━━━━━━━━━━━━━━━━━━━━━━━━━━━━━━━━━━╸</span><span style=\"color: #3a3a3a; text-decoration-color: #3a3a3a\">━━━━━━━</span> <span style=\"color: #008000; text-decoration-color: #008000\">863,744/1,000,000 </span> [ <span style=\"color: #808000; text-decoration-color: #808000\">0:02:53</span> &lt; <span style=\"color: #008080; text-decoration-color: #008080\">0:00:23</span> , <span style=\"color: #800000; text-decoration-color: #800000\">6,176 it/s</span> ]</pre>\n"
      ],
      "text/plain": [
       "\r",
       "\u001b[2KEpisode length: 120.00 +/- 23.09\n",
       "\u001b[35m  86%\u001b[0m \u001b[38;2;249;38;114m━━━━━━━━━━━━━━━━━━━━━━━━━━━━━━━━━━━━━━━━━━━━━━━\u001b[0m\u001b[38;2;249;38;114m╸\u001b[0m\u001b[38;5;237m━━━━━━━\u001b[0m \u001b[32m863,744/1,000,000 \u001b[0m [ \u001b[33m0:02:53\u001b[0m < \u001b[36m0:00:23\u001b[0m , \u001b[31m6,176 it/s\u001b[0m ]"
      ]
     },
     "metadata": {},
     "output_type": "display_data"
    },
    {
     "name": "stdout",
     "output_type": "stream",
     "text": [
      "------------------------------------------\n",
      "| eval/                   |              |\n",
      "|    mean_ep_length       | 120          |\n",
      "|    mean_reward          | 88.4         |\n",
      "| time/                   |              |\n",
      "|    total_timesteps      | 864000       |\n",
      "| train/                  |              |\n",
      "|    approx_kl            | 0.0026887648 |\n",
      "|    clip_fraction        | 0.0333       |\n",
      "|    clip_range           | 0.2          |\n",
      "|    entropy_loss         | -2.31        |\n",
      "|    explained_variance   | 0.834        |\n",
      "|    learning_rate        | 7.77e-05     |\n",
      "|    loss                 | 11           |\n",
      "|    n_updates            | 1050         |\n",
      "|    policy_gradient_loss | -0.00493     |\n",
      "|    std                  | 0.711        |\n",
      "|    value_loss           | 22.1         |\n",
      "------------------------------------------\n",
      "---------------------------------\n",
      "| rollout/           |          |\n",
      "|    ep_len_mean     | 126      |\n",
      "|    ep_rew_mean     | 87.8     |\n",
      "| time/              |          |\n",
      "|    fps             | 4992     |\n",
      "|    iterations      | 106      |\n",
      "|    time_elapsed    | 173      |\n",
      "|    total_timesteps | 868352   |\n",
      "---------------------------------\n",
      "-----------------------------------------\n",
      "| rollout/                |             |\n",
      "|    ep_len_mean          | 119         |\n",
      "|    ep_rew_mean          | 88.5        |\n",
      "| time/                   |             |\n",
      "|    fps                  | 5004        |\n",
      "|    iterations           | 107         |\n",
      "|    time_elapsed         | 175         |\n",
      "|    total_timesteps      | 876544      |\n",
      "| train/                  |             |\n",
      "|    approx_kl            | 0.002118298 |\n",
      "|    clip_fraction        | 0.0102      |\n",
      "|    clip_range           | 0.2         |\n",
      "|    entropy_loss         | -2.38       |\n",
      "|    explained_variance   | 0.811       |\n",
      "|    learning_rate        | 7.77e-05    |\n",
      "|    loss                 | 9.82        |\n",
      "|    n_updates            | 1060        |\n",
      "|    policy_gradient_loss | -0.000357   |\n",
      "|    std                  | 0.711       |\n",
      "|    value_loss           | 21.7        |\n",
      "-----------------------------------------\n"
     ]
    },
    {
     "data": {
      "text/html": [
       "<pre style=\"white-space:pre;overflow-x:auto;line-height:normal;font-family:Menlo,'DejaVu Sans Mono',consolas,'Courier New',monospace\">\r",
       "\u001b[2KEval num_timesteps=880000, episode_reward=89.66 +/- 0.48\n",
       "<span style=\"color: #800080; text-decoration-color: #800080\">  88%</span> <span style=\"color: #f92672; text-decoration-color: #f92672\">━━━━━━━━━━━━━━━━━━━━━━━━━━━━━━━━━━━━━━━━━━━━━━━━</span><span style=\"color: #3a3a3a; text-decoration-color: #3a3a3a\">╺━━━━━━</span> <span style=\"color: #008000; text-decoration-color: #008000\">878,688/1,000,000 </span> [ <span style=\"color: #808000; text-decoration-color: #808000\">0:02:56</span> &lt; <span style=\"color: #008080; text-decoration-color: #008080\">0:00:20</span> , <span style=\"color: #800000; text-decoration-color: #800000\">6,151 it/s</span> ]</pre>\n"
      ],
      "text/plain": [
       "\r",
       "\u001b[2KEval num_timesteps=880000, episode_reward=89.66 +/- 0.48\n",
       "\u001b[35m  88%\u001b[0m \u001b[38;2;249;38;114m━━━━━━━━━━━━━━━━━━━━━━━━━━━━━━━━━━━━━━━━━━━━━━━━\u001b[0m\u001b[38;5;237m╺\u001b[0m\u001b[38;5;237m━━━━━━\u001b[0m \u001b[32m878,688/1,000,000 \u001b[0m [ \u001b[33m0:02:56\u001b[0m < \u001b[36m0:00:20\u001b[0m , \u001b[31m6,151 it/s\u001b[0m ]"
      ]
     },
     "metadata": {},
     "output_type": "display_data"
    },
    {
     "data": {
      "text/html": [
       "<pre style=\"white-space:pre;overflow-x:auto;line-height:normal;font-family:Menlo,'DejaVu Sans Mono',consolas,'Courier New',monospace\">\r",
       "\u001b[2KEpisode length: 106.20 +/- 4.79\n",
       "<span style=\"color: #800080; text-decoration-color: #800080\">  88%</span> <span style=\"color: #f92672; text-decoration-color: #f92672\">━━━━━━━━━━━━━━━━━━━━━━━━━━━━━━━━━━━━━━━━━━━━━━━━</span><span style=\"color: #3a3a3a; text-decoration-color: #3a3a3a\">╺━━━━━━</span> <span style=\"color: #008000; text-decoration-color: #008000\">878,688/1,000,000 </span> [ <span style=\"color: #808000; text-decoration-color: #808000\">0:02:56</span> &lt; <span style=\"color: #008080; text-decoration-color: #008080\">0:00:20</span> , <span style=\"color: #800000; text-decoration-color: #800000\">6,151 it/s</span> ]</pre>\n"
      ],
      "text/plain": [
       "\r",
       "\u001b[2KEpisode length: 106.20 +/- 4.79\n",
       "\u001b[35m  88%\u001b[0m \u001b[38;2;249;38;114m━━━━━━━━━━━━━━━━━━━━━━━━━━━━━━━━━━━━━━━━━━━━━━━━\u001b[0m\u001b[38;5;237m╺\u001b[0m\u001b[38;5;237m━━━━━━\u001b[0m \u001b[32m878,688/1,000,000 \u001b[0m [ \u001b[33m0:02:56\u001b[0m < \u001b[36m0:00:20\u001b[0m , \u001b[31m6,151 it/s\u001b[0m ]"
      ]
     },
     "metadata": {},
     "output_type": "display_data"
    },
    {
     "name": "stdout",
     "output_type": "stream",
     "text": [
      "-----------------------------------------\n",
      "| eval/                   |             |\n",
      "|    mean_ep_length       | 106         |\n",
      "|    mean_reward          | 89.7        |\n",
      "| time/                   |             |\n",
      "|    total_timesteps      | 880000      |\n",
      "| train/                  |             |\n",
      "|    approx_kl            | 0.005747391 |\n",
      "|    clip_fraction        | 0.0544      |\n",
      "|    clip_range           | 0.2         |\n",
      "|    entropy_loss         | -2.34       |\n",
      "|    explained_variance   | 0.85        |\n",
      "|    learning_rate        | 7.77e-05    |\n",
      "|    loss                 | 9.95        |\n",
      "|    n_updates            | 1070        |\n",
      "|    policy_gradient_loss | -0.00513    |\n",
      "|    std                  | 0.712       |\n",
      "|    value_loss           | 21.2        |\n",
      "-----------------------------------------\n",
      "---------------------------------\n",
      "| rollout/           |          |\n",
      "|    ep_len_mean     | 120      |\n",
      "|    ep_rew_mean     | 88.4     |\n",
      "| time/              |          |\n",
      "|    fps             | 5011     |\n",
      "|    iterations      | 108      |\n",
      "|    time_elapsed    | 176      |\n",
      "|    total_timesteps | 884736   |\n",
      "---------------------------------\n",
      "------------------------------------------\n",
      "| rollout/                |              |\n",
      "|    ep_len_mean          | 127          |\n",
      "|    ep_rew_mean          | 87.7         |\n",
      "| time/                   |              |\n",
      "|    fps                  | 5021         |\n",
      "|    iterations           | 109          |\n",
      "|    time_elapsed         | 177          |\n",
      "|    total_timesteps      | 892928       |\n",
      "| train/                  |              |\n",
      "|    approx_kl            | 0.0027027598 |\n",
      "|    clip_fraction        | 0.0222       |\n",
      "|    clip_range           | 0.2          |\n",
      "|    entropy_loss         | -2.3         |\n",
      "|    explained_variance   | 0.832        |\n",
      "|    learning_rate        | 7.77e-05     |\n",
      "|    loss                 | 9.81         |\n",
      "|    n_updates            | 1080         |\n",
      "|    policy_gradient_loss | -0.00192     |\n",
      "|    std                  | 0.717        |\n",
      "|    value_loss           | 19.6         |\n",
      "------------------------------------------\n"
     ]
    },
    {
     "data": {
      "text/html": [
       "<pre style=\"white-space:pre;overflow-x:auto;line-height:normal;font-family:Menlo,'DejaVu Sans Mono',consolas,'Courier New',monospace\">\r",
       "\u001b[2KEval num_timesteps=896000, episode_reward=89.29 +/- 0.72\n",
       "<span style=\"color: #800080; text-decoration-color: #800080\">  90%</span> <span style=\"color: #f92672; text-decoration-color: #f92672\">━━━━━━━━━━━━━━━━━━━━━━━━━━━━━━━━━━━━━━━━━━━━━━━━━</span><span style=\"color: #3a3a3a; text-decoration-color: #3a3a3a\">╺━━━━━</span> <span style=\"color: #008000; text-decoration-color: #008000\">895,072/1,000,000 </span> [ <span style=\"color: #808000; text-decoration-color: #808000\">0:02:58</span> &lt; <span style=\"color: #008080; text-decoration-color: #008080\">0:00:18</span> , <span style=\"color: #800000; text-decoration-color: #800000\">6,153 it/s</span> ]</pre>\n"
      ],
      "text/plain": [
       "\r",
       "\u001b[2KEval num_timesteps=896000, episode_reward=89.29 +/- 0.72\n",
       "\u001b[35m  90%\u001b[0m \u001b[38;2;249;38;114m━━━━━━━━━━━━━━━━━━━━━━━━━━━━━━━━━━━━━━━━━━━━━━━━━\u001b[0m\u001b[38;5;237m╺\u001b[0m\u001b[38;5;237m━━━━━\u001b[0m \u001b[32m895,072/1,000,000 \u001b[0m [ \u001b[33m0:02:58\u001b[0m < \u001b[36m0:00:18\u001b[0m , \u001b[31m6,153 it/s\u001b[0m ]"
      ]
     },
     "metadata": {},
     "output_type": "display_data"
    },
    {
     "data": {
      "text/html": [
       "<pre style=\"white-space:pre;overflow-x:auto;line-height:normal;font-family:Menlo,'DejaVu Sans Mono',consolas,'Courier New',monospace\">\r",
       "\u001b[2KEpisode length: 110.00 +/- 7.38\n",
       "<span style=\"color: #800080; text-decoration-color: #800080\">  90%</span> <span style=\"color: #f92672; text-decoration-color: #f92672\">━━━━━━━━━━━━━━━━━━━━━━━━━━━━━━━━━━━━━━━━━━━━━━━━━</span><span style=\"color: #3a3a3a; text-decoration-color: #3a3a3a\">╺━━━━━</span> <span style=\"color: #008000; text-decoration-color: #008000\">895,072/1,000,000 </span> [ <span style=\"color: #808000; text-decoration-color: #808000\">0:02:58</span> &lt; <span style=\"color: #008080; text-decoration-color: #008080\">0:00:18</span> , <span style=\"color: #800000; text-decoration-color: #800000\">6,153 it/s</span> ]</pre>\n"
      ],
      "text/plain": [
       "\r",
       "\u001b[2KEpisode length: 110.00 +/- 7.38\n",
       "\u001b[35m  90%\u001b[0m \u001b[38;2;249;38;114m━━━━━━━━━━━━━━━━━━━━━━━━━━━━━━━━━━━━━━━━━━━━━━━━━\u001b[0m\u001b[38;5;237m╺\u001b[0m\u001b[38;5;237m━━━━━\u001b[0m \u001b[32m895,072/1,000,000 \u001b[0m [ \u001b[33m0:02:58\u001b[0m < \u001b[36m0:00:18\u001b[0m , \u001b[31m6,153 it/s\u001b[0m ]"
      ]
     },
     "metadata": {},
     "output_type": "display_data"
    },
    {
     "name": "stdout",
     "output_type": "stream",
     "text": [
      "------------------------------------------\n",
      "| eval/                   |              |\n",
      "|    mean_ep_length       | 110          |\n",
      "|    mean_reward          | 89.3         |\n",
      "| time/                   |              |\n",
      "|    total_timesteps      | 896000       |\n",
      "| train/                  |              |\n",
      "|    approx_kl            | 0.0049548666 |\n",
      "|    clip_fraction        | 0.035        |\n",
      "|    clip_range           | 0.2          |\n",
      "|    entropy_loss         | -2.37        |\n",
      "|    explained_variance   | 0.848        |\n",
      "|    learning_rate        | 7.77e-05     |\n",
      "|    loss                 | 8.93         |\n",
      "|    n_updates            | 1090         |\n",
      "|    policy_gradient_loss | -0.00435     |\n",
      "|    std                  | 0.723        |\n",
      "|    value_loss           | 18.5         |\n",
      "------------------------------------------\n",
      "---------------------------------\n",
      "| rollout/           |          |\n",
      "|    ep_len_mean     | 129      |\n",
      "|    ep_rew_mean     | 87.6     |\n",
      "| time/              |          |\n",
      "|    fps             | 5026     |\n",
      "|    iterations      | 110      |\n",
      "|    time_elapsed    | 179      |\n",
      "|    total_timesteps | 901120   |\n",
      "---------------------------------\n",
      "------------------------------------------\n",
      "| rollout/                |              |\n",
      "|    ep_len_mean          | 127          |\n",
      "|    ep_rew_mean          | 87.7         |\n",
      "| time/                   |              |\n",
      "|    fps                  | 5037         |\n",
      "|    iterations           | 111          |\n",
      "|    time_elapsed         | 180          |\n",
      "|    total_timesteps      | 909312       |\n",
      "| train/                  |              |\n",
      "|    approx_kl            | 0.0046241097 |\n",
      "|    clip_fraction        | 0.0278       |\n",
      "|    clip_range           | 0.2          |\n",
      "|    entropy_loss         | -2.36        |\n",
      "|    explained_variance   | 0.838        |\n",
      "|    learning_rate        | 7.77e-05     |\n",
      "|    loss                 | 8.53         |\n",
      "|    n_updates            | 1100         |\n",
      "|    policy_gradient_loss | -0.00319     |\n",
      "|    std                  | 0.723        |\n",
      "|    value_loss           | 18.4         |\n",
      "------------------------------------------\n"
     ]
    },
    {
     "data": {
      "text/html": [
       "<pre style=\"white-space:pre;overflow-x:auto;line-height:normal;font-family:Menlo,'DejaVu Sans Mono',consolas,'Courier New',monospace\">\r",
       "\u001b[2KEval num_timesteps=912000, episode_reward=87.41 +/- 2.70\n",
       "<span style=\"color: #800080; text-decoration-color: #800080\">  91%</span> <span style=\"color: #f92672; text-decoration-color: #f92672\">━━━━━━━━━━━━━━━━━━━━━━━━━━━━━━━━━━━━━━━━━━━━━━━━━━</span><span style=\"color: #3a3a3a; text-decoration-color: #3a3a3a\">╺━━━━</span> <span style=\"color: #008000; text-decoration-color: #008000\">911,488/1,000,000 </span> [ <span style=\"color: #808000; text-decoration-color: #808000\">0:03:01</span> &lt; <span style=\"color: #008080; text-decoration-color: #008080\">0:00:15</span> , <span style=\"color: #800000; text-decoration-color: #800000\">6,153 it/s</span> ]</pre>\n"
      ],
      "text/plain": [
       "\r",
       "\u001b[2KEval num_timesteps=912000, episode_reward=87.41 +/- 2.70\n",
       "\u001b[35m  91%\u001b[0m \u001b[38;2;249;38;114m━━━━━━━━━━━━━━━━━━━━━━━━━━━━━━━━━━━━━━━━━━━━━━━━━━\u001b[0m\u001b[38;5;237m╺\u001b[0m\u001b[38;5;237m━━━━\u001b[0m \u001b[32m911,488/1,000,000 \u001b[0m [ \u001b[33m0:03:01\u001b[0m < \u001b[36m0:00:15\u001b[0m , \u001b[31m6,153 it/s\u001b[0m ]"
      ]
     },
     "metadata": {},
     "output_type": "display_data"
    },
    {
     "data": {
      "text/html": [
       "<pre style=\"white-space:pre;overflow-x:auto;line-height:normal;font-family:Menlo,'DejaVu Sans Mono',consolas,'Courier New',monospace\">\r",
       "\u001b[2KEpisode length: 130.40 +/- 28.93\n",
       "<span style=\"color: #800080; text-decoration-color: #800080\">  91%</span> <span style=\"color: #f92672; text-decoration-color: #f92672\">━━━━━━━━━━━━━━━━━━━━━━━━━━━━━━━━━━━━━━━━━━━━━━━━━━</span><span style=\"color: #3a3a3a; text-decoration-color: #3a3a3a\">╺━━━━</span> <span style=\"color: #008000; text-decoration-color: #008000\">911,488/1,000,000 </span> [ <span style=\"color: #808000; text-decoration-color: #808000\">0:03:01</span> &lt; <span style=\"color: #008080; text-decoration-color: #008080\">0:00:15</span> , <span style=\"color: #800000; text-decoration-color: #800000\">6,153 it/s</span> ]</pre>\n"
      ],
      "text/plain": [
       "\r",
       "\u001b[2KEpisode length: 130.40 +/- 28.93\n",
       "\u001b[35m  91%\u001b[0m \u001b[38;2;249;38;114m━━━━━━━━━━━━━━━━━━━━━━━━━━━━━━━━━━━━━━━━━━━━━━━━━━\u001b[0m\u001b[38;5;237m╺\u001b[0m\u001b[38;5;237m━━━━\u001b[0m \u001b[32m911,488/1,000,000 \u001b[0m [ \u001b[33m0:03:01\u001b[0m < \u001b[36m0:00:15\u001b[0m , \u001b[31m6,153 it/s\u001b[0m ]"
      ]
     },
     "metadata": {},
     "output_type": "display_data"
    },
    {
     "name": "stdout",
     "output_type": "stream",
     "text": [
      "------------------------------------------\n",
      "| eval/                   |              |\n",
      "|    mean_ep_length       | 130          |\n",
      "|    mean_reward          | 87.4         |\n",
      "| time/                   |              |\n",
      "|    total_timesteps      | 912000       |\n",
      "| train/                  |              |\n",
      "|    approx_kl            | 0.0042016255 |\n",
      "|    clip_fraction        | 0.0414       |\n",
      "|    clip_range           | 0.2          |\n",
      "|    entropy_loss         | -2.35        |\n",
      "|    explained_variance   | 0.863        |\n",
      "|    learning_rate        | 7.77e-05     |\n",
      "|    loss                 | 8.39         |\n",
      "|    n_updates            | 1110         |\n",
      "|    policy_gradient_loss | -0.00636     |\n",
      "|    std                  | 0.719        |\n",
      "|    value_loss           | 16.6         |\n",
      "------------------------------------------\n",
      "---------------------------------\n",
      "| rollout/           |          |\n",
      "|    ep_len_mean     | 124      |\n",
      "|    ep_rew_mean     | 88       |\n",
      "| time/              |          |\n",
      "|    fps             | 5042     |\n",
      "|    iterations      | 112      |\n",
      "|    time_elapsed    | 181      |\n",
      "|    total_timesteps | 917504   |\n",
      "---------------------------------\n",
      "------------------------------------------\n",
      "| rollout/                |              |\n",
      "|    ep_len_mean          | 124          |\n",
      "|    ep_rew_mean          | 87.9         |\n",
      "| time/                   |              |\n",
      "|    fps                  | 5053         |\n",
      "|    iterations           | 113          |\n",
      "|    time_elapsed         | 183          |\n",
      "|    total_timesteps      | 925696       |\n",
      "| train/                  |              |\n",
      "|    approx_kl            | 0.0016279274 |\n",
      "|    clip_fraction        | 0.00763      |\n",
      "|    clip_range           | 0.2          |\n",
      "|    entropy_loss         | -2.38        |\n",
      "|    explained_variance   | 0.852        |\n",
      "|    learning_rate        | 7.77e-05     |\n",
      "|    loss                 | 8.25         |\n",
      "|    n_updates            | 1120         |\n",
      "|    policy_gradient_loss | -0.00151     |\n",
      "|    std                  | 0.713        |\n",
      "|    value_loss           | 17.2         |\n",
      "------------------------------------------\n"
     ]
    },
    {
     "data": {
      "text/html": [
       "<pre style=\"white-space:pre;overflow-x:auto;line-height:normal;font-family:Menlo,'DejaVu Sans Mono',consolas,'Courier New',monospace\">\r",
       "\u001b[2KEval num_timesteps=928000, episode_reward=87.43 +/- 2.64\n",
       "<span style=\"color: #800080; text-decoration-color: #800080\">  93%</span> <span style=\"color: #f92672; text-decoration-color: #f92672\">━━━━━━━━━━━━━━━━━━━━━━━━━━━━━━━━━━━━━━━━━━━━━━━━━━━</span><span style=\"color: #3a3a3a; text-decoration-color: #3a3a3a\">╺━━━</span> <span style=\"color: #008000; text-decoration-color: #008000\">927,904/1,000,000 </span> [ <span style=\"color: #808000; text-decoration-color: #808000\">0:03:04</span> &lt; <span style=\"color: #008080; text-decoration-color: #008080\">0:00:12</span> , <span style=\"color: #800000; text-decoration-color: #800000\">6,141 it/s</span> ]</pre>\n"
      ],
      "text/plain": [
       "\r",
       "\u001b[2KEval num_timesteps=928000, episode_reward=87.43 +/- 2.64\n",
       "\u001b[35m  93%\u001b[0m \u001b[38;2;249;38;114m━━━━━━━━━━━━━━━━━━━━━━━━━━━━━━━━━━━━━━━━━━━━━━━━━━━\u001b[0m\u001b[38;5;237m╺\u001b[0m\u001b[38;5;237m━━━\u001b[0m \u001b[32m927,904/1,000,000 \u001b[0m [ \u001b[33m0:03:04\u001b[0m < \u001b[36m0:00:12\u001b[0m , \u001b[31m6,141 it/s\u001b[0m ]"
      ]
     },
     "metadata": {},
     "output_type": "display_data"
    },
    {
     "data": {
      "text/html": [
       "<pre style=\"white-space:pre;overflow-x:auto;line-height:normal;font-family:Menlo,'DejaVu Sans Mono',consolas,'Courier New',monospace\">\r",
       "\u001b[2KEpisode length: 131.00 +/- 29.75\n",
       "<span style=\"color: #800080; text-decoration-color: #800080\">  93%</span> <span style=\"color: #f92672; text-decoration-color: #f92672\">━━━━━━━━━━━━━━━━━━━━━━━━━━━━━━━━━━━━━━━━━━━━━━━━━━━</span><span style=\"color: #3a3a3a; text-decoration-color: #3a3a3a\">╺━━━</span> <span style=\"color: #008000; text-decoration-color: #008000\">927,904/1,000,000 </span> [ <span style=\"color: #808000; text-decoration-color: #808000\">0:03:04</span> &lt; <span style=\"color: #008080; text-decoration-color: #008080\">0:00:12</span> , <span style=\"color: #800000; text-decoration-color: #800000\">6,141 it/s</span> ]</pre>\n"
      ],
      "text/plain": [
       "\r",
       "\u001b[2KEpisode length: 131.00 +/- 29.75\n",
       "\u001b[35m  93%\u001b[0m \u001b[38;2;249;38;114m━━━━━━━━━━━━━━━━━━━━━━━━━━━━━━━━━━━━━━━━━━━━━━━━━━━\u001b[0m\u001b[38;5;237m╺\u001b[0m\u001b[38;5;237m━━━\u001b[0m \u001b[32m927,904/1,000,000 \u001b[0m [ \u001b[33m0:03:04\u001b[0m < \u001b[36m0:00:12\u001b[0m , \u001b[31m6,141 it/s\u001b[0m ]"
      ]
     },
     "metadata": {},
     "output_type": "display_data"
    },
    {
     "name": "stdout",
     "output_type": "stream",
     "text": [
      "------------------------------------------\n",
      "| eval/                   |              |\n",
      "|    mean_ep_length       | 131          |\n",
      "|    mean_reward          | 87.4         |\n",
      "| time/                   |              |\n",
      "|    total_timesteps      | 928000       |\n",
      "| train/                  |              |\n",
      "|    approx_kl            | 0.0023860398 |\n",
      "|    clip_fraction        | 0.00659      |\n",
      "|    clip_range           | 0.2          |\n",
      "|    entropy_loss         | -2.34        |\n",
      "|    explained_variance   | 0.874        |\n",
      "|    learning_rate        | 7.77e-05     |\n",
      "|    loss                 | 8.21         |\n",
      "|    n_updates            | 1130         |\n",
      "|    policy_gradient_loss | -0.000439    |\n",
      "|    std                  | 0.712        |\n",
      "|    value_loss           | 15.1         |\n",
      "------------------------------------------\n",
      "---------------------------------\n",
      "| rollout/           |          |\n",
      "|    ep_len_mean     | 122      |\n",
      "|    ep_rew_mean     | 88.1     |\n",
      "| time/              |          |\n",
      "|    fps             | 5057     |\n",
      "|    iterations      | 114      |\n",
      "|    time_elapsed    | 184      |\n",
      "|    total_timesteps | 933888   |\n",
      "---------------------------------\n",
      "------------------------------------------\n",
      "| rollout/                |              |\n",
      "|    ep_len_mean          | 126          |\n",
      "|    ep_rew_mean          | 87.8         |\n",
      "| time/                   |              |\n",
      "|    fps                  | 5069         |\n",
      "|    iterations           | 115          |\n",
      "|    time_elapsed         | 185          |\n",
      "|    total_timesteps      | 942080       |\n",
      "| train/                  |              |\n",
      "|    approx_kl            | 0.0011025026 |\n",
      "|    clip_fraction        | 0.00631      |\n",
      "|    clip_range           | 0.2          |\n",
      "|    entropy_loss         | -2.34        |\n",
      "|    explained_variance   | 0.864        |\n",
      "|    learning_rate        | 7.77e-05     |\n",
      "|    loss                 | 7.51         |\n",
      "|    n_updates            | 1140         |\n",
      "|    policy_gradient_loss | -0.000482    |\n",
      "|    std                  | 0.71         |\n",
      "|    value_loss           | 15.3         |\n",
      "------------------------------------------\n"
     ]
    },
    {
     "data": {
      "text/html": [
       "<pre style=\"white-space:pre;overflow-x:auto;line-height:normal;font-family:Menlo,'DejaVu Sans Mono',consolas,'Courier New',monospace\">\r",
       "\u001b[2KEval num_timesteps=944000, episode_reward=89.00 +/- 0.79\n",
       "<span style=\"color: #800080; text-decoration-color: #800080\">  94%</span> <span style=\"color: #f92672; text-decoration-color: #f92672\">━━━━━━━━━━━━━━━━━━━━━━━━━━━━━━━━━━━━━━━━━━━━━━━━━━━╸</span><span style=\"color: #3a3a3a; text-decoration-color: #3a3a3a\">━━━</span> <span style=\"color: #008000; text-decoration-color: #008000\">942,880/1,000,000 </span> [ <span style=\"color: #808000; text-decoration-color: #808000\">0:03:06</span> &lt; <span style=\"color: #008080; text-decoration-color: #008080\">0:00:10</span> , <span style=\"color: #800000; text-decoration-color: #800000\">6,099 it/s</span> ]</pre>\n"
      ],
      "text/plain": [
       "\r",
       "\u001b[2KEval num_timesteps=944000, episode_reward=89.00 +/- 0.79\n",
       "\u001b[35m  94%\u001b[0m \u001b[38;2;249;38;114m━━━━━━━━━━━━━━━━━━━━━━━━━━━━━━━━━━━━━━━━━━━━━━━━━━━\u001b[0m\u001b[38;2;249;38;114m╸\u001b[0m\u001b[38;5;237m━━━\u001b[0m \u001b[32m942,880/1,000,000 \u001b[0m [ \u001b[33m0:03:06\u001b[0m < \u001b[36m0:00:10\u001b[0m , \u001b[31m6,099 it/s\u001b[0m ]"
      ]
     },
     "metadata": {},
     "output_type": "display_data"
    },
    {
     "data": {
      "text/html": [
       "<pre style=\"white-space:pre;overflow-x:auto;line-height:normal;font-family:Menlo,'DejaVu Sans Mono',consolas,'Courier New',monospace\">\r",
       "\u001b[2KEpisode length: 112.60 +/- 8.06\n",
       "<span style=\"color: #800080; text-decoration-color: #800080\">  94%</span> <span style=\"color: #f92672; text-decoration-color: #f92672\">━━━━━━━━━━━━━━━━━━━━━━━━━━━━━━━━━━━━━━━━━━━━━━━━━━━╸</span><span style=\"color: #3a3a3a; text-decoration-color: #3a3a3a\">━━━</span> <span style=\"color: #008000; text-decoration-color: #008000\">942,880/1,000,000 </span> [ <span style=\"color: #808000; text-decoration-color: #808000\">0:03:06</span> &lt; <span style=\"color: #008080; text-decoration-color: #008080\">0:00:10</span> , <span style=\"color: #800000; text-decoration-color: #800000\">6,099 it/s</span> ]</pre>\n"
      ],
      "text/plain": [
       "\r",
       "\u001b[2KEpisode length: 112.60 +/- 8.06\n",
       "\u001b[35m  94%\u001b[0m \u001b[38;2;249;38;114m━━━━━━━━━━━━━━━━━━━━━━━━━━━━━━━━━━━━━━━━━━━━━━━━━━━\u001b[0m\u001b[38;2;249;38;114m╸\u001b[0m\u001b[38;5;237m━━━\u001b[0m \u001b[32m942,880/1,000,000 \u001b[0m [ \u001b[33m0:03:06\u001b[0m < \u001b[36m0:00:10\u001b[0m , \u001b[31m6,099 it/s\u001b[0m ]"
      ]
     },
     "metadata": {},
     "output_type": "display_data"
    },
    {
     "name": "stdout",
     "output_type": "stream",
     "text": [
      "------------------------------------------\n",
      "| eval/                   |              |\n",
      "|    mean_ep_length       | 113          |\n",
      "|    mean_reward          | 89           |\n",
      "| time/                   |              |\n",
      "|    total_timesteps      | 944000       |\n",
      "| train/                  |              |\n",
      "|    approx_kl            | 0.0040601636 |\n",
      "|    clip_fraction        | 0.0221       |\n",
      "|    clip_range           | 0.2          |\n",
      "|    entropy_loss         | -2.36        |\n",
      "|    explained_variance   | 0.874        |\n",
      "|    learning_rate        | 7.77e-05     |\n",
      "|    loss                 | 7.01         |\n",
      "|    n_updates            | 1150         |\n",
      "|    policy_gradient_loss | -0.00299     |\n",
      "|    std                  | 0.709        |\n",
      "|    value_loss           | 14.7         |\n",
      "------------------------------------------\n",
      "---------------------------------\n",
      "| rollout/           |          |\n",
      "|    ep_len_mean     | 121      |\n",
      "|    ep_rew_mean     | 88.2     |\n",
      "| time/              |          |\n",
      "|    fps             | 5074     |\n",
      "|    iterations      | 116      |\n",
      "|    time_elapsed    | 187      |\n",
      "|    total_timesteps | 950272   |\n",
      "---------------------------------\n",
      "-----------------------------------------\n",
      "| rollout/                |             |\n",
      "|    ep_len_mean          | 119         |\n",
      "|    ep_rew_mean          | 88.5        |\n",
      "| time/                   |             |\n",
      "|    fps                  | 5084        |\n",
      "|    iterations           | 117         |\n",
      "|    time_elapsed         | 188         |\n",
      "|    total_timesteps      | 958464      |\n",
      "| train/                  |             |\n",
      "|    approx_kl            | 0.002931619 |\n",
      "|    clip_fraction        | 0.0219      |\n",
      "|    clip_range           | 0.2         |\n",
      "|    entropy_loss         | -2.33       |\n",
      "|    explained_variance   | 0.86        |\n",
      "|    learning_rate        | 7.77e-05    |\n",
      "|    loss                 | 6.86        |\n",
      "|    n_updates            | 1160        |\n",
      "|    policy_gradient_loss | -0.00341    |\n",
      "|    std                  | 0.712       |\n",
      "|    value_loss           | 14.9        |\n",
      "-----------------------------------------\n"
     ]
    },
    {
     "data": {
      "text/html": [
       "<pre style=\"white-space:pre;overflow-x:auto;line-height:normal;font-family:Menlo,'DejaVu Sans Mono',consolas,'Courier New',monospace\">\r",
       "\u001b[2KEval num_timesteps=960000, episode_reward=89.62 +/- 0.35\n",
       "<span style=\"color: #800080; text-decoration-color: #800080\">  96%</span> <span style=\"color: #f92672; text-decoration-color: #f92672\">━━━━━━━━━━━━━━━━━━━━━━━━━━━━━━━━━━━━━━━━━━━━━━━━━━━━╸</span><span style=\"color: #3a3a3a; text-decoration-color: #3a3a3a\">━━</span> <span style=\"color: #008000; text-decoration-color: #008000\">958,720/1,000,000 </span> [ <span style=\"color: #808000; text-decoration-color: #808000\">0:03:09</span> &lt; <span style=\"color: #008080; text-decoration-color: #008080\">0:00:07</span> , <span style=\"color: #800000; text-decoration-color: #800000\">6,113 it/s</span> ]</pre>\n"
      ],
      "text/plain": [
       "\r",
       "\u001b[2KEval num_timesteps=960000, episode_reward=89.62 +/- 0.35\n",
       "\u001b[35m  96%\u001b[0m \u001b[38;2;249;38;114m━━━━━━━━━━━━━━━━━━━━━━━━━━━━━━━━━━━━━━━━━━━━━━━━━━━━\u001b[0m\u001b[38;2;249;38;114m╸\u001b[0m\u001b[38;5;237m━━\u001b[0m \u001b[32m958,720/1,000,000 \u001b[0m [ \u001b[33m0:03:09\u001b[0m < \u001b[36m0:00:07\u001b[0m , \u001b[31m6,113 it/s\u001b[0m ]"
      ]
     },
     "metadata": {},
     "output_type": "display_data"
    },
    {
     "data": {
      "text/html": [
       "<pre style=\"white-space:pre;overflow-x:auto;line-height:normal;font-family:Menlo,'DejaVu Sans Mono',consolas,'Courier New',monospace\">\r",
       "\u001b[2KEpisode length: 106.20 +/- 3.76\n",
       "<span style=\"color: #800080; text-decoration-color: #800080\">  96%</span> <span style=\"color: #f92672; text-decoration-color: #f92672\">━━━━━━━━━━━━━━━━━━━━━━━━━━━━━━━━━━━━━━━━━━━━━━━━━━━━╸</span><span style=\"color: #3a3a3a; text-decoration-color: #3a3a3a\">━━</span> <span style=\"color: #008000; text-decoration-color: #008000\">958,720/1,000,000 </span> [ <span style=\"color: #808000; text-decoration-color: #808000\">0:03:09</span> &lt; <span style=\"color: #008080; text-decoration-color: #008080\">0:00:07</span> , <span style=\"color: #800000; text-decoration-color: #800000\">6,113 it/s</span> ]</pre>\n"
      ],
      "text/plain": [
       "\r",
       "\u001b[2KEpisode length: 106.20 +/- 3.76\n",
       "\u001b[35m  96%\u001b[0m \u001b[38;2;249;38;114m━━━━━━━━━━━━━━━━━━━━━━━━━━━━━━━━━━━━━━━━━━━━━━━━━━━━\u001b[0m\u001b[38;2;249;38;114m╸\u001b[0m\u001b[38;5;237m━━\u001b[0m \u001b[32m958,720/1,000,000 \u001b[0m [ \u001b[33m0:03:09\u001b[0m < \u001b[36m0:00:07\u001b[0m , \u001b[31m6,113 it/s\u001b[0m ]"
      ]
     },
     "metadata": {},
     "output_type": "display_data"
    },
    {
     "name": "stdout",
     "output_type": "stream",
     "text": [
      "-----------------------------------------\n",
      "| eval/                   |             |\n",
      "|    mean_ep_length       | 106         |\n",
      "|    mean_reward          | 89.6        |\n",
      "| time/                   |             |\n",
      "|    total_timesteps      | 960000      |\n",
      "| train/                  |             |\n",
      "|    approx_kl            | 0.005062665 |\n",
      "|    clip_fraction        | 0.0254      |\n",
      "|    clip_range           | 0.2         |\n",
      "|    entropy_loss         | -2.33       |\n",
      "|    explained_variance   | 0.884       |\n",
      "|    learning_rate        | 7.77e-05    |\n",
      "|    loss                 | 5.85        |\n",
      "|    n_updates            | 1170        |\n",
      "|    policy_gradient_loss | -0.00355    |\n",
      "|    std                  | 0.713       |\n",
      "|    value_loss           | 12.5        |\n",
      "-----------------------------------------\n",
      "---------------------------------\n",
      "| rollout/           |          |\n",
      "|    ep_len_mean     | 123      |\n",
      "|    ep_rew_mean     | 88.1     |\n",
      "| time/              |          |\n",
      "|    fps             | 5090     |\n",
      "|    iterations      | 118      |\n",
      "|    time_elapsed    | 189      |\n",
      "|    total_timesteps | 966656   |\n",
      "---------------------------------\n",
      "------------------------------------------\n",
      "| rollout/                |              |\n",
      "|    ep_len_mean          | 122          |\n",
      "|    ep_rew_mean          | 88.2         |\n",
      "| time/                   |              |\n",
      "|    fps                  | 5100         |\n",
      "|    iterations           | 119          |\n",
      "|    time_elapsed         | 191          |\n",
      "|    total_timesteps      | 974848       |\n",
      "| train/                  |              |\n",
      "|    approx_kl            | 0.0023719694 |\n",
      "|    clip_fraction        | 0.0147       |\n",
      "|    clip_range           | 0.2          |\n",
      "|    entropy_loss         | -2.36        |\n",
      "|    explained_variance   | 0.837        |\n",
      "|    learning_rate        | 7.77e-05     |\n",
      "|    loss                 | 6.58         |\n",
      "|    n_updates            | 1180         |\n",
      "|    policy_gradient_loss | -0.00205     |\n",
      "|    std                  | 0.712        |\n",
      "|    value_loss           | 15.6         |\n",
      "------------------------------------------\n"
     ]
    },
    {
     "data": {
      "text/html": [
       "<pre style=\"white-space:pre;overflow-x:auto;line-height:normal;font-family:Menlo,'DejaVu Sans Mono',consolas,'Courier New',monospace\">\r",
       "\u001b[2KEval num_timesteps=976000, episode_reward=87.61 +/- 2.70\n",
       "<span style=\"color: #800080; text-decoration-color: #800080\">  98%</span> <span style=\"color: #f92672; text-decoration-color: #f92672\">━━━━━━━━━━━━━━━━━━━━━━━━━━━━━━━━━━━━━━━━━━━━━━━━━━━━━╸</span><span style=\"color: #3a3a3a; text-decoration-color: #3a3a3a\">━</span> <span style=\"color: #008000; text-decoration-color: #008000\">975,424/1,000,000 </span> [ <span style=\"color: #808000; text-decoration-color: #808000\">0:03:12</span> &lt; <span style=\"color: #008080; text-decoration-color: #008080\">0:00:04</span> , <span style=\"color: #800000; text-decoration-color: #800000\">6,156 it/s</span> ]</pre>\n"
      ],
      "text/plain": [
       "\r",
       "\u001b[2KEval num_timesteps=976000, episode_reward=87.61 +/- 2.70\n",
       "\u001b[35m  98%\u001b[0m \u001b[38;2;249;38;114m━━━━━━━━━━━━━━━━━━━━━━━━━━━━━━━━━━━━━━━━━━━━━━━━━━━━━\u001b[0m\u001b[38;2;249;38;114m╸\u001b[0m\u001b[38;5;237m━\u001b[0m \u001b[32m975,424/1,000,000 \u001b[0m [ \u001b[33m0:03:12\u001b[0m < \u001b[36m0:00:04\u001b[0m , \u001b[31m6,156 it/s\u001b[0m ]"
      ]
     },
     "metadata": {},
     "output_type": "display_data"
    },
    {
     "data": {
      "text/html": [
       "<pre style=\"white-space:pre;overflow-x:auto;line-height:normal;font-family:Menlo,'DejaVu Sans Mono',consolas,'Courier New',monospace\">\r",
       "\u001b[2KEpisode length: 128.60 +/- 30.18\n",
       "<span style=\"color: #800080; text-decoration-color: #800080\">  98%</span> <span style=\"color: #f92672; text-decoration-color: #f92672\">━━━━━━━━━━━━━━━━━━━━━━━━━━━━━━━━━━━━━━━━━━━━━━━━━━━━━╸</span><span style=\"color: #3a3a3a; text-decoration-color: #3a3a3a\">━</span> <span style=\"color: #008000; text-decoration-color: #008000\">975,424/1,000,000 </span> [ <span style=\"color: #808000; text-decoration-color: #808000\">0:03:12</span> &lt; <span style=\"color: #008080; text-decoration-color: #008080\">0:00:04</span> , <span style=\"color: #800000; text-decoration-color: #800000\">6,156 it/s</span> ]</pre>\n"
      ],
      "text/plain": [
       "\r",
       "\u001b[2KEpisode length: 128.60 +/- 30.18\n",
       "\u001b[35m  98%\u001b[0m \u001b[38;2;249;38;114m━━━━━━━━━━━━━━━━━━━━━━━━━━━━━━━━━━━━━━━━━━━━━━━━━━━━━\u001b[0m\u001b[38;2;249;38;114m╸\u001b[0m\u001b[38;5;237m━\u001b[0m \u001b[32m975,424/1,000,000 \u001b[0m [ \u001b[33m0:03:12\u001b[0m < \u001b[36m0:00:04\u001b[0m , \u001b[31m6,156 it/s\u001b[0m ]"
      ]
     },
     "metadata": {},
     "output_type": "display_data"
    },
    {
     "name": "stdout",
     "output_type": "stream",
     "text": [
      "------------------------------------------\n",
      "| eval/                   |              |\n",
      "|    mean_ep_length       | 129          |\n",
      "|    mean_reward          | 87.6         |\n",
      "| time/                   |              |\n",
      "|    total_timesteps      | 976000       |\n",
      "| train/                  |              |\n",
      "|    approx_kl            | 0.0020101648 |\n",
      "|    clip_fraction        | 0.0202       |\n",
      "|    clip_range           | 0.2          |\n",
      "|    entropy_loss         | -2.37        |\n",
      "|    explained_variance   | 0.884        |\n",
      "|    learning_rate        | 7.77e-05     |\n",
      "|    loss                 | 6            |\n",
      "|    n_updates            | 1190         |\n",
      "|    policy_gradient_loss | -0.0026      |\n",
      "|    std                  | 0.713        |\n",
      "|    value_loss           | 12.1         |\n",
      "------------------------------------------\n",
      "---------------------------------\n",
      "| rollout/           |          |\n",
      "|    ep_len_mean     | 125      |\n",
      "|    ep_rew_mean     | 87.9     |\n",
      "| time/              |          |\n",
      "|    fps             | 5104     |\n",
      "|    iterations      | 120      |\n",
      "|    time_elapsed    | 192      |\n",
      "|    total_timesteps | 983040   |\n",
      "---------------------------------\n",
      "------------------------------------------\n",
      "| rollout/                |              |\n",
      "|    ep_len_mean          | 123          |\n",
      "|    ep_rew_mean          | 88           |\n",
      "| time/                   |              |\n",
      "|    fps                  | 5114         |\n",
      "|    iterations           | 121          |\n",
      "|    time_elapsed         | 193          |\n",
      "|    total_timesteps      | 991232       |\n",
      "| train/                  |              |\n",
      "|    approx_kl            | 0.0016738384 |\n",
      "|    clip_fraction        | 0.015        |\n",
      "|    clip_range           | 0.2          |\n",
      "|    entropy_loss         | -2.39        |\n",
      "|    explained_variance   | 0.873        |\n",
      "|    learning_rate        | 7.77e-05     |\n",
      "|    loss                 | 5.55         |\n",
      "|    n_updates            | 1200         |\n",
      "|    policy_gradient_loss | -0.00202     |\n",
      "|    std                  | 0.707        |\n",
      "|    value_loss           | 12.5         |\n",
      "------------------------------------------\n"
     ]
    },
    {
     "data": {
      "text/html": [
       "<pre style=\"white-space:pre;overflow-x:auto;line-height:normal;font-family:Menlo,'DejaVu Sans Mono',consolas,'Courier New',monospace\">\r",
       "\u001b[2KEval num_timesteps=992000, episode_reward=86.36 +/- 2.71\n",
       "<span style=\"color: #800080; text-decoration-color: #800080\">  99%</span> <span style=\"color: #f92672; text-decoration-color: #f92672\">━━━━━━━━━━━━━━━━━━━━━━━━━━━━━━━━━━━━━━━━━━━━━━━━━━━━━━╸</span> <span style=\"color: #008000; text-decoration-color: #008000\">991,872/1,000,000 </span> [ <span style=\"color: #808000; text-decoration-color: #808000\">0:03:14</span> &lt; <span style=\"color: #008080; text-decoration-color: #008080\">0:00:02</span> , <span style=\"color: #800000; text-decoration-color: #800000\">6,147 it/s</span> ]</pre>\n"
      ],
      "text/plain": [
       "\r",
       "\u001b[2KEval num_timesteps=992000, episode_reward=86.36 +/- 2.71\n",
       "\u001b[35m  99%\u001b[0m \u001b[38;2;249;38;114m━━━━━━━━━━━━━━━━━━━━━━━━━━━━━━━━━━━━━━━━━━━━━━━━━━━━━━\u001b[0m\u001b[38;2;249;38;114m╸\u001b[0m \u001b[32m991,872/1,000,000 \u001b[0m [ \u001b[33m0:03:14\u001b[0m < \u001b[36m0:00:02\u001b[0m , \u001b[31m6,147 it/s\u001b[0m ]"
      ]
     },
     "metadata": {},
     "output_type": "display_data"
    },
    {
     "data": {
      "text/html": [
       "<pre style=\"white-space:pre;overflow-x:auto;line-height:normal;font-family:Menlo,'DejaVu Sans Mono',consolas,'Courier New',monospace\">\r",
       "\u001b[2KEpisode length: 140.80 +/- 29.26\n",
       "<span style=\"color: #800080; text-decoration-color: #800080\">  99%</span> <span style=\"color: #f92672; text-decoration-color: #f92672\">━━━━━━━━━━━━━━━━━━━━━━━━━━━━━━━━━━━━━━━━━━━━━━━━━━━━━━╸</span> <span style=\"color: #008000; text-decoration-color: #008000\">991,872/1,000,000 </span> [ <span style=\"color: #808000; text-decoration-color: #808000\">0:03:14</span> &lt; <span style=\"color: #008080; text-decoration-color: #008080\">0:00:02</span> , <span style=\"color: #800000; text-decoration-color: #800000\">6,147 it/s</span> ]</pre>\n"
      ],
      "text/plain": [
       "\r",
       "\u001b[2KEpisode length: 140.80 +/- 29.26\n",
       "\u001b[35m  99%\u001b[0m \u001b[38;2;249;38;114m━━━━━━━━━━━━━━━━━━━━━━━━━━━━━━━━━━━━━━━━━━━━━━━━━━━━━━\u001b[0m\u001b[38;2;249;38;114m╸\u001b[0m \u001b[32m991,872/1,000,000 \u001b[0m [ \u001b[33m0:03:14\u001b[0m < \u001b[36m0:00:02\u001b[0m , \u001b[31m6,147 it/s\u001b[0m ]"
      ]
     },
     "metadata": {},
     "output_type": "display_data"
    },
    {
     "name": "stdout",
     "output_type": "stream",
     "text": [
      "------------------------------------------\n",
      "| eval/                   |              |\n",
      "|    mean_ep_length       | 141          |\n",
      "|    mean_reward          | 86.4         |\n",
      "| time/                   |              |\n",
      "|    total_timesteps      | 992000       |\n",
      "| train/                  |              |\n",
      "|    approx_kl            | 0.0036322135 |\n",
      "|    clip_fraction        | 0.0447       |\n",
      "|    clip_range           | 0.2          |\n",
      "|    entropy_loss         | -2.34        |\n",
      "|    explained_variance   | 0.892        |\n",
      "|    learning_rate        | 7.77e-05     |\n",
      "|    loss                 | 5.25         |\n",
      "|    n_updates            | 1210         |\n",
      "|    policy_gradient_loss | -0.00669     |\n",
      "|    std                  | 0.704        |\n",
      "|    value_loss           | 10.8         |\n",
      "------------------------------------------\n",
      "---------------------------------\n",
      "| rollout/           |          |\n",
      "|    ep_len_mean     | 119      |\n",
      "|    ep_rew_mean     | 88.4     |\n",
      "| time/              |          |\n",
      "|    fps             | 5117     |\n",
      "|    iterations      | 122      |\n",
      "|    time_elapsed    | 195      |\n",
      "|    total_timesteps | 999424   |\n",
      "---------------------------------\n",
      "------------------------------------------\n",
      "| rollout/                |              |\n",
      "|    ep_len_mean          | 124          |\n",
      "|    ep_rew_mean          | 88           |\n",
      "| time/                   |              |\n",
      "|    fps                  | 5127         |\n",
      "|    iterations           | 123          |\n",
      "|    time_elapsed         | 196          |\n",
      "|    total_timesteps      | 1007616      |\n",
      "| train/                  |              |\n",
      "|    approx_kl            | 0.0021088105 |\n",
      "|    clip_fraction        | 0.0171       |\n",
      "|    clip_range           | 0.2          |\n",
      "|    entropy_loss         | -2.38        |\n",
      "|    explained_variance   | 0.872        |\n",
      "|    learning_rate        | 7.77e-05     |\n",
      "|    loss                 | 5.76         |\n",
      "|    n_updates            | 1220         |\n",
      "|    policy_gradient_loss | -0.00194     |\n",
      "|    std                  | 0.701        |\n",
      "|    value_loss           | 11.6         |\n",
      "------------------------------------------\n"
     ]
    },
    {
     "data": {
      "text/html": [
       "<pre style=\"white-space:pre;overflow-x:auto;line-height:normal;font-family:Menlo,'DejaVu Sans Mono',consolas,'Courier New',monospace\">\n",
       "</pre>\n"
      ],
      "text/plain": [
       "\n",
       "\u001b[?25h"
      ]
     },
     "metadata": {},
     "output_type": "display_data"
    }
   ],
   "source": [
    "eval_callback = EvalCallback(train_env_f, \n",
    "                             best_model_save_path=\"./logs/best_model/expert\",\n",
    "                             log_path=\"./logs/results\",\n",
    "                             eval_freq=500,\n",
    "                             deterministic=True, render=False)\n",
    "model = PPO(\"MlpPolicy\", \n",
    "            train_env_f,\n",
    "            verbose=1, \n",
    "            seed=0,\n",
    "            batch_size=512,\n",
    "            # ent_coef=0.00429,\n",
    "            learning_rate=7.77e-05,\n",
    "            n_epochs=10,\n",
    "            n_steps=8*NUM_CPU,\n",
    "            gae_lambda=0.9,\n",
    "            gamma=0.9999,\n",
    "            # clip_range=0.1,\n",
    "            max_grad_norm=5,\n",
    "            # vf_coef=0.19,\n",
    "            use_sde=True,\n",
    "            # policy_kwargs=dict(log_std_init=-3.29, ortho_init=False),\n",
    "            tensorboard_log=\"./logs/ppo_MountainCar_tensorboard_expert/\")\n",
    "\n",
    "model.learn(total_timesteps=1_000_000, callback=eval_callback, progress_bar=True)\n",
    "model.save(\"./logs/ppo_MountainCar_expert\")\n",
    "\n",
    "del model # remove to demonstrate saving and loading"
   ]
  },
  {
   "cell_type": "code",
   "execution_count": 10,
   "metadata": {},
   "outputs": [
    {
     "data": {
      "text/plain": [
       "Box([-1.2  -0.07], [0.6  0.07], (2,), float32)"
      ]
     },
     "execution_count": 10,
     "metadata": {},
     "output_type": "execute_result"
    }
   ],
   "source": [
    "# Parallel environments\n",
    "train_env = make_vec_env(env_id, \n",
    "                         n_envs=NUM_CPU)\n",
    "train_env.observation_space"
   ]
  },
  {
   "cell_type": "code",
   "execution_count": 11,
   "metadata": {
    "collapsed": true,
    "jupyter": {
     "outputs_hidden": true
    },
    "tags": []
   },
   "outputs": [
    {
     "name": "stdout",
     "output_type": "stream",
     "text": [
      "Using cuda device\n",
      "Logging to ./logs/ppo_MountainCar_tensorboard_noob/PPO_1\n"
     ]
    },
    {
     "data": {
      "text/html": [
       "<pre style=\"white-space:pre;overflow-x:auto;line-height:normal;font-family:Menlo,'DejaVu Sans Mono',consolas,'Courier New',monospace\"></pre>\n"
      ],
      "text/plain": [
       "\u001b[?25l"
      ]
     },
     "metadata": {},
     "output_type": "display_data"
    },
    {
     "data": {
      "application/vnd.jupyter.widget-view+json": {
       "model_id": "fb8fa04ba1f9474ba8a552760ba6883d",
       "version_major": 2,
       "version_minor": 0
      },
      "text/plain": [
       "Output()"
      ]
     },
     "metadata": {},
     "output_type": "display_data"
    },
    {
     "name": "stdout",
     "output_type": "stream",
     "text": [
      "------------------------------\n",
      "| time/              |       |\n",
      "|    fps             | 19867 |\n",
      "|    iterations      | 1     |\n",
      "|    time_elapsed    | 0     |\n",
      "|    total_timesteps | 8192  |\n",
      "------------------------------\n"
     ]
    },
    {
     "data": {
      "text/html": [
       "<pre style=\"white-space:pre;overflow-x:auto;line-height:normal;font-family:Menlo,'DejaVu Sans Mono',consolas,'Courier New',monospace\">\r",
       "\u001b[2KEval num_timesteps=16000, episode_reward=-2.68 +/- 0.01\n",
       "<span style=\"color: #800080; text-decoration-color: #800080\">   2%</span> <span style=\"color: #f92672; text-decoration-color: #f92672\">╸</span><span style=\"color: #3a3a3a; text-decoration-color: #3a3a3a\">━━━━━━━━━━━━━━━━━━━━━━━━━━━━━━━━━━━━━━━━━━━━━━━━━━━━━━━</span> <span style=\"color: #008000; text-decoration-color: #008000\">15,520/1,000,000 </span> [ <span style=\"color: #808000; text-decoration-color: #808000\">0:00:02</span> &lt; <span style=\"color: #008080; text-decoration-color: #008080\">0:01:45</span> , <span style=\"color: #800000; text-decoration-color: #800000\">9,409 it/s</span> ]</pre>\n"
      ],
      "text/plain": [
       "\r",
       "\u001b[2KEval num_timesteps=16000, episode_reward=-2.68 +/- 0.01\n",
       "\u001b[35m   2%\u001b[0m \u001b[38;2;249;38;114m╸\u001b[0m\u001b[38;5;237m━━━━━━━━━━━━━━━━━━━━━━━━━━━━━━━━━━━━━━━━━━━━━━━━━━━━━━━\u001b[0m \u001b[32m15,520/1,000,000 \u001b[0m [ \u001b[33m0:00:02\u001b[0m < \u001b[36m0:01:45\u001b[0m , \u001b[31m9,409 it/s\u001b[0m ]"
      ]
     },
     "metadata": {},
     "output_type": "display_data"
    },
    {
     "data": {
      "text/html": [
       "<pre style=\"white-space:pre;overflow-x:auto;line-height:normal;font-family:Menlo,'DejaVu Sans Mono',consolas,'Courier New',monospace\">\r",
       "\u001b[2KEpisode length: 999.00 +/- 0.00\n",
       "<span style=\"color: #800080; text-decoration-color: #800080\">   2%</span> <span style=\"color: #f92672; text-decoration-color: #f92672\">╸</span><span style=\"color: #3a3a3a; text-decoration-color: #3a3a3a\">━━━━━━━━━━━━━━━━━━━━━━━━━━━━━━━━━━━━━━━━━━━━━━━━━━━━━━━</span> <span style=\"color: #008000; text-decoration-color: #008000\">15,520/1,000,000 </span> [ <span style=\"color: #808000; text-decoration-color: #808000\">0:00:02</span> &lt; <span style=\"color: #008080; text-decoration-color: #008080\">0:01:45</span> , <span style=\"color: #800000; text-decoration-color: #800000\">9,409 it/s</span> ]</pre>\n"
      ],
      "text/plain": [
       "\r",
       "\u001b[2KEpisode length: 999.00 +/- 0.00\n",
       "\u001b[35m   2%\u001b[0m \u001b[38;2;249;38;114m╸\u001b[0m\u001b[38;5;237m━━━━━━━━━━━━━━━━━━━━━━━━━━━━━━━━━━━━━━━━━━━━━━━━━━━━━━━\u001b[0m \u001b[32m15,520/1,000,000 \u001b[0m [ \u001b[33m0:00:02\u001b[0m < \u001b[36m0:01:45\u001b[0m , \u001b[31m9,409 it/s\u001b[0m ]"
      ]
     },
     "metadata": {},
     "output_type": "display_data"
    },
    {
     "name": "stdout",
     "output_type": "stream",
     "text": [
      "-----------------------------------------\n",
      "| eval/                   |             |\n",
      "|    mean_ep_length       | 999         |\n",
      "|    mean_reward          | -2.68       |\n",
      "| time/                   |             |\n",
      "|    total_timesteps      | 16000       |\n",
      "| train/                  |             |\n",
      "|    approx_kl            | 0.062302686 |\n",
      "|    clip_fraction        | 0.318       |\n",
      "|    clip_range           | 0.2         |\n",
      "|    entropy_loss         | -1.78       |\n",
      "|    explained_variance   | -0.121      |\n",
      "|    learning_rate        | 7.77e-05    |\n",
      "|    loss                 | 0.234       |\n",
      "|    n_updates            | 10          |\n",
      "|    policy_gradient_loss | 0.0889      |\n",
      "|    std                  | 0.988       |\n",
      "|    value_loss           | 0.204       |\n",
      "-----------------------------------------\n"
     ]
    },
    {
     "data": {
      "text/html": [
       "<pre style=\"white-space:pre;overflow-x:auto;line-height:normal;font-family:Menlo,'DejaVu Sans Mono',consolas,'Courier New',monospace\">\r",
       "\u001b[2KNew best mean reward!\n",
       "<span style=\"color: #800080; text-decoration-color: #800080\">   2%</span> <span style=\"color: #f92672; text-decoration-color: #f92672\">╸</span><span style=\"color: #3a3a3a; text-decoration-color: #3a3a3a\">━━━━━━━━━━━━━━━━━━━━━━━━━━━━━━━━━━━━━━━━━━━━━━━━━━━━━━━</span> <span style=\"color: #008000; text-decoration-color: #008000\">15,520/1,000,000 </span> [ <span style=\"color: #808000; text-decoration-color: #808000\">0:00:02</span> &lt; <span style=\"color: #008080; text-decoration-color: #008080\">0:01:45</span> , <span style=\"color: #800000; text-decoration-color: #800000\">9,409 it/s</span> ]</pre>\n"
      ],
      "text/plain": [
       "\r",
       "\u001b[2KNew best mean reward!\n",
       "\u001b[35m   2%\u001b[0m \u001b[38;2;249;38;114m╸\u001b[0m\u001b[38;5;237m━━━━━━━━━━━━━━━━━━━━━━━━━━━━━━━━━━━━━━━━━━━━━━━━━━━━━━━\u001b[0m \u001b[32m15,520/1,000,000 \u001b[0m [ \u001b[33m0:00:02\u001b[0m < \u001b[36m0:01:45\u001b[0m , \u001b[31m9,409 it/s\u001b[0m ]"
      ]
     },
     "metadata": {},
     "output_type": "display_data"
    },
    {
     "name": "stdout",
     "output_type": "stream",
     "text": [
      "---------------------------------\n",
      "| rollout/           |          |\n",
      "|    ep_len_mean     | 289      |\n",
      "|    ep_rew_mean     | 72.8     |\n",
      "| time/              |          |\n",
      "|    fps             | 6192     |\n",
      "|    iterations      | 2        |\n",
      "|    time_elapsed    | 2        |\n",
      "|    total_timesteps | 16384    |\n",
      "---------------------------------\n",
      "----------------------------------------\n",
      "| rollout/                |            |\n",
      "|    ep_len_mean          | 260        |\n",
      "|    ep_rew_mean          | 80.4       |\n",
      "| time/                   |            |\n",
      "|    fps                  | 6519       |\n",
      "|    iterations           | 3          |\n",
      "|    time_elapsed         | 3          |\n",
      "|    total_timesteps      | 24576      |\n",
      "| train/                  |            |\n",
      "|    approx_kl            | 0.02083389 |\n",
      "|    clip_fraction        | 0.0847     |\n",
      "|    clip_range           | 0.2        |\n",
      "|    entropy_loss         | -2.09      |\n",
      "|    explained_variance   | 0.0159     |\n",
      "|    learning_rate        | 7.77e-05   |\n",
      "|    loss                 | 6.43       |\n",
      "|    n_updates            | 20         |\n",
      "|    policy_gradient_loss | 0.0198     |\n",
      "|    std                  | 0.981      |\n",
      "|    value_loss           | 6.63       |\n",
      "----------------------------------------\n"
     ]
    },
    {
     "data": {
      "text/html": [
       "<pre style=\"white-space:pre;overflow-x:auto;line-height:normal;font-family:Menlo,'DejaVu Sans Mono',consolas,'Courier New',monospace\">\r",
       "\u001b[2KEval num_timesteps=32000, episode_reward=-10.21 +/- 0.03\n",
       "<span style=\"color: #800080; text-decoration-color: #800080\">   3%</span> <span style=\"color: #f92672; text-decoration-color: #f92672\">━╸</span><span style=\"color: #3a3a3a; text-decoration-color: #3a3a3a\">━━━━━━━━━━━━━━━━━━━━━━━━━━━━━━━━━━━━━━━━━━━━━━━━━━━━━━</span> <span style=\"color: #008000; text-decoration-color: #008000\">31,648/1,000,000 </span> [ <span style=\"color: #808000; text-decoration-color: #808000\">0:00:05</span> &lt; <span style=\"color: #008080; text-decoration-color: #008080\">0:02:35</span> , <span style=\"color: #800000; text-decoration-color: #800000\">6,282 it/s</span> ]</pre>\n"
      ],
      "text/plain": [
       "\r",
       "\u001b[2KEval num_timesteps=32000, episode_reward=-10.21 +/- 0.03\n",
       "\u001b[35m   3%\u001b[0m \u001b[38;2;249;38;114m━\u001b[0m\u001b[38;2;249;38;114m╸\u001b[0m\u001b[38;5;237m━━━━━━━━━━━━━━━━━━━━━━━━━━━━━━━━━━━━━━━━━━━━━━━━━━━━━━\u001b[0m \u001b[32m31,648/1,000,000 \u001b[0m [ \u001b[33m0:00:05\u001b[0m < \u001b[36m0:02:35\u001b[0m , \u001b[31m6,282 it/s\u001b[0m ]"
      ]
     },
     "metadata": {},
     "output_type": "display_data"
    },
    {
     "data": {
      "text/html": [
       "<pre style=\"white-space:pre;overflow-x:auto;line-height:normal;font-family:Menlo,'DejaVu Sans Mono',consolas,'Courier New',monospace\">\r",
       "\u001b[2KEpisode length: 999.00 +/- 0.00\n",
       "<span style=\"color: #800080; text-decoration-color: #800080\">   3%</span> <span style=\"color: #f92672; text-decoration-color: #f92672\">━╸</span><span style=\"color: #3a3a3a; text-decoration-color: #3a3a3a\">━━━━━━━━━━━━━━━━━━━━━━━━━━━━━━━━━━━━━━━━━━━━━━━━━━━━━━</span> <span style=\"color: #008000; text-decoration-color: #008000\">31,648/1,000,000 </span> [ <span style=\"color: #808000; text-decoration-color: #808000\">0:00:05</span> &lt; <span style=\"color: #008080; text-decoration-color: #008080\">0:02:35</span> , <span style=\"color: #800000; text-decoration-color: #800000\">6,282 it/s</span> ]</pre>\n"
      ],
      "text/plain": [
       "\r",
       "\u001b[2KEpisode length: 999.00 +/- 0.00\n",
       "\u001b[35m   3%\u001b[0m \u001b[38;2;249;38;114m━\u001b[0m\u001b[38;2;249;38;114m╸\u001b[0m\u001b[38;5;237m━━━━━━━━━━━━━━━━━━━━━━━━━━━━━━━━━━━━━━━━━━━━━━━━━━━━━━\u001b[0m \u001b[32m31,648/1,000,000 \u001b[0m [ \u001b[33m0:00:05\u001b[0m < \u001b[36m0:02:35\u001b[0m , \u001b[31m6,282 it/s\u001b[0m ]"
      ]
     },
     "metadata": {},
     "output_type": "display_data"
    },
    {
     "name": "stdout",
     "output_type": "stream",
     "text": [
      "------------------------------------------\n",
      "| eval/                   |              |\n",
      "|    mean_ep_length       | 999          |\n",
      "|    mean_reward          | -10.2        |\n",
      "| time/                   |              |\n",
      "|    total_timesteps      | 32000        |\n",
      "| train/                  |              |\n",
      "|    approx_kl            | 0.0023339936 |\n",
      "|    clip_fraction        | 0.0102       |\n",
      "|    clip_range           | 0.2          |\n",
      "|    entropy_loss         | -2.12        |\n",
      "|    explained_variance   | 0.0546       |\n",
      "|    learning_rate        | 7.77e-05     |\n",
      "|    loss                 | 2.33         |\n",
      "|    n_updates            | 30           |\n",
      "|    policy_gradient_loss | 0.00217      |\n",
      "|    std                  | 0.973        |\n",
      "|    value_loss           | 6.65         |\n",
      "------------------------------------------\n",
      "---------------------------------\n",
      "| rollout/           |          |\n",
      "|    ep_len_mean     | 281      |\n",
      "|    ep_rew_mean     | 76.2     |\n",
      "| time/              |          |\n",
      "|    fps             | 5528     |\n",
      "|    iterations      | 4        |\n",
      "|    time_elapsed    | 5        |\n",
      "|    total_timesteps | 32768    |\n",
      "---------------------------------\n",
      "------------------------------------------\n",
      "| rollout/                |              |\n",
      "|    ep_len_mean          | 240          |\n",
      "|    ep_rew_mean          | 79.6         |\n",
      "| time/                   |              |\n",
      "|    fps                  | 5818         |\n",
      "|    iterations           | 5            |\n",
      "|    time_elapsed         | 7            |\n",
      "|    total_timesteps      | 40960        |\n",
      "| train/                  |              |\n",
      "|    approx_kl            | 0.0038362993 |\n",
      "|    clip_fraction        | 0.0102       |\n",
      "|    clip_range           | 0.2          |\n",
      "|    entropy_loss         | -2.18        |\n",
      "|    explained_variance   | 0.0609       |\n",
      "|    learning_rate        | 7.77e-05     |\n",
      "|    loss                 | 4.51         |\n",
      "|    n_updates            | 40           |\n",
      "|    policy_gradient_loss | -0.000703    |\n",
      "|    std                  | 0.97         |\n",
      "|    value_loss           | 13.1         |\n",
      "------------------------------------------\n"
     ]
    },
    {
     "data": {
      "text/html": [
       "<pre style=\"white-space:pre;overflow-x:auto;line-height:normal;font-family:Menlo,'DejaVu Sans Mono',consolas,'Courier New',monospace\">\r",
       "\u001b[2KEval num_timesteps=48000, episode_reward=-19.54 +/- 0.10\n",
       "<span style=\"color: #800080; text-decoration-color: #800080\">   5%</span> <span style=\"color: #f92672; text-decoration-color: #f92672\">━━╸</span><span style=\"color: #3a3a3a; text-decoration-color: #3a3a3a\">━━━━━━━━━━━━━━━━━━━━━━━━━━━━━━━━━━━━━━━━━━━━━━━━━━━━━</span> <span style=\"color: #008000; text-decoration-color: #008000\">47,040/1,000,000 </span> [ <span style=\"color: #808000; text-decoration-color: #808000\">0:00:09</span> &lt; <span style=\"color: #008080; text-decoration-color: #008080\">0:02:48</span> , <span style=\"color: #800000; text-decoration-color: #800000\">5,672 it/s</span> ]</pre>\n"
      ],
      "text/plain": [
       "\r",
       "\u001b[2KEval num_timesteps=48000, episode_reward=-19.54 +/- 0.10\n",
       "\u001b[35m   5%\u001b[0m \u001b[38;2;249;38;114m━━\u001b[0m\u001b[38;2;249;38;114m╸\u001b[0m\u001b[38;5;237m━━━━━━━━━━━━━━━━━━━━━━━━━━━━━━━━━━━━━━━━━━━━━━━━━━━━━\u001b[0m \u001b[32m47,040/1,000,000 \u001b[0m [ \u001b[33m0:00:09\u001b[0m < \u001b[36m0:02:48\u001b[0m , \u001b[31m5,672 it/s\u001b[0m ]"
      ]
     },
     "metadata": {},
     "output_type": "display_data"
    },
    {
     "data": {
      "text/html": [
       "<pre style=\"white-space:pre;overflow-x:auto;line-height:normal;font-family:Menlo,'DejaVu Sans Mono',consolas,'Courier New',monospace\">\r",
       "\u001b[2KEpisode length: 999.00 +/- 0.00\n",
       "<span style=\"color: #800080; text-decoration-color: #800080\">   5%</span> <span style=\"color: #f92672; text-decoration-color: #f92672\">━━╸</span><span style=\"color: #3a3a3a; text-decoration-color: #3a3a3a\">━━━━━━━━━━━━━━━━━━━━━━━━━━━━━━━━━━━━━━━━━━━━━━━━━━━━━</span> <span style=\"color: #008000; text-decoration-color: #008000\">47,040/1,000,000 </span> [ <span style=\"color: #808000; text-decoration-color: #808000\">0:00:09</span> &lt; <span style=\"color: #008080; text-decoration-color: #008080\">0:02:48</span> , <span style=\"color: #800000; text-decoration-color: #800000\">5,672 it/s</span> ]</pre>\n"
      ],
      "text/plain": [
       "\r",
       "\u001b[2KEpisode length: 999.00 +/- 0.00\n",
       "\u001b[35m   5%\u001b[0m \u001b[38;2;249;38;114m━━\u001b[0m\u001b[38;2;249;38;114m╸\u001b[0m\u001b[38;5;237m━━━━━━━━━━━━━━━━━━━━━━━━━━━━━━━━━━━━━━━━━━━━━━━━━━━━━\u001b[0m \u001b[32m47,040/1,000,000 \u001b[0m [ \u001b[33m0:00:09\u001b[0m < \u001b[36m0:02:48\u001b[0m , \u001b[31m5,672 it/s\u001b[0m ]"
      ]
     },
     "metadata": {},
     "output_type": "display_data"
    },
    {
     "name": "stdout",
     "output_type": "stream",
     "text": [
      "-----------------------------------------\n",
      "| eval/                   |             |\n",
      "|    mean_ep_length       | 999         |\n",
      "|    mean_reward          | -19.5       |\n",
      "| time/                   |             |\n",
      "|    total_timesteps      | 48000       |\n",
      "| train/                  |             |\n",
      "|    approx_kl            | 0.005932426 |\n",
      "|    clip_fraction        | 0.0306      |\n",
      "|    clip_range           | 0.2         |\n",
      "|    entropy_loss         | -2.14       |\n",
      "|    explained_variance   | 0.144       |\n",
      "|    learning_rate        | 7.77e-05    |\n",
      "|    loss                 | 0.434       |\n",
      "|    n_updates            | 50          |\n",
      "|    policy_gradient_loss | -0.00314    |\n",
      "|    std                  | 0.964       |\n",
      "|    value_loss           | 6.72        |\n",
      "-----------------------------------------\n",
      "---------------------------------\n",
      "| rollout/           |          |\n",
      "|    ep_len_mean     | 280      |\n",
      "|    ep_rew_mean     | 74.9     |\n",
      "| time/              |          |\n",
      "|    fps             | 5339     |\n",
      "|    iterations      | 6        |\n",
      "|    time_elapsed    | 9        |\n",
      "|    total_timesteps | 49152    |\n",
      "---------------------------------\n",
      "------------------------------------------\n",
      "| rollout/                |              |\n",
      "|    ep_len_mean          | 228          |\n",
      "|    ep_rew_mean          | 80.1         |\n",
      "| time/                   |              |\n",
      "|    fps                  | 5572         |\n",
      "|    iterations           | 7            |\n",
      "|    time_elapsed         | 10           |\n",
      "|    total_timesteps      | 57344        |\n",
      "| train/                  |              |\n",
      "|    approx_kl            | 0.0043726442 |\n",
      "|    clip_fraction        | 0.0199       |\n",
      "|    clip_range           | 0.2          |\n",
      "|    entropy_loss         | -2.15        |\n",
      "|    explained_variance   | 0.0999       |\n",
      "|    learning_rate        | 7.77e-05     |\n",
      "|    loss                 | 23.1         |\n",
      "|    n_updates            | 60           |\n",
      "|    policy_gradient_loss | 0.00272      |\n",
      "|    std                  | 0.959        |\n",
      "|    value_loss           | 32.3         |\n",
      "------------------------------------------\n"
     ]
    },
    {
     "data": {
      "text/html": [
       "<pre style=\"white-space:pre;overflow-x:auto;line-height:normal;font-family:Menlo,'DejaVu Sans Mono',consolas,'Courier New',monospace\">\r",
       "\u001b[2KEval num_timesteps=64000, episode_reward=-40.40 +/- 0.07\n",
       "<span style=\"color: #800080; text-decoration-color: #800080\">   6%</span> <span style=\"color: #f92672; text-decoration-color: #f92672\">━━━╸</span><span style=\"color: #3a3a3a; text-decoration-color: #3a3a3a\">━━━━━━━━━━━━━━━━━━━━━━━━━━━━━━━━━━━━━━━━━━━━━━━━━━━━</span> <span style=\"color: #008000; text-decoration-color: #008000\">63,776/1,000,000 </span> [ <span style=\"color: #808000; text-decoration-color: #808000\">0:00:12</span> &lt; <span style=\"color: #008080; text-decoration-color: #008080\">0:02:50</span> , <span style=\"color: #800000; text-decoration-color: #800000\">5,513 it/s</span> ]</pre>\n"
      ],
      "text/plain": [
       "\r",
       "\u001b[2KEval num_timesteps=64000, episode_reward=-40.40 +/- 0.07\n",
       "\u001b[35m   6%\u001b[0m \u001b[38;2;249;38;114m━━━\u001b[0m\u001b[38;2;249;38;114m╸\u001b[0m\u001b[38;5;237m━━━━━━━━━━━━━━━━━━━━━━━━━━━━━━━━━━━━━━━━━━━━━━━━━━━━\u001b[0m \u001b[32m63,776/1,000,000 \u001b[0m [ \u001b[33m0:00:12\u001b[0m < \u001b[36m0:02:50\u001b[0m , \u001b[31m5,513 it/s\u001b[0m ]"
      ]
     },
     "metadata": {},
     "output_type": "display_data"
    },
    {
     "data": {
      "text/html": [
       "<pre style=\"white-space:pre;overflow-x:auto;line-height:normal;font-family:Menlo,'DejaVu Sans Mono',consolas,'Courier New',monospace\">\r",
       "\u001b[2KEpisode length: 999.00 +/- 0.00\n",
       "<span style=\"color: #800080; text-decoration-color: #800080\">   6%</span> <span style=\"color: #f92672; text-decoration-color: #f92672\">━━━╸</span><span style=\"color: #3a3a3a; text-decoration-color: #3a3a3a\">━━━━━━━━━━━━━━━━━━━━━━━━━━━━━━━━━━━━━━━━━━━━━━━━━━━━</span> <span style=\"color: #008000; text-decoration-color: #008000\">63,776/1,000,000 </span> [ <span style=\"color: #808000; text-decoration-color: #808000\">0:00:12</span> &lt; <span style=\"color: #008080; text-decoration-color: #008080\">0:02:50</span> , <span style=\"color: #800000; text-decoration-color: #800000\">5,513 it/s</span> ]</pre>\n"
      ],
      "text/plain": [
       "\r",
       "\u001b[2KEpisode length: 999.00 +/- 0.00\n",
       "\u001b[35m   6%\u001b[0m \u001b[38;2;249;38;114m━━━\u001b[0m\u001b[38;2;249;38;114m╸\u001b[0m\u001b[38;5;237m━━━━━━━━━━━━━━━━━━━━━━━━━━━━━━━━━━━━━━━━━━━━━━━━━━━━\u001b[0m \u001b[32m63,776/1,000,000 \u001b[0m [ \u001b[33m0:00:12\u001b[0m < \u001b[36m0:02:50\u001b[0m , \u001b[31m5,513 it/s\u001b[0m ]"
      ]
     },
     "metadata": {},
     "output_type": "display_data"
    },
    {
     "name": "stdout",
     "output_type": "stream",
     "text": [
      "------------------------------------------\n",
      "| eval/                   |              |\n",
      "|    mean_ep_length       | 999          |\n",
      "|    mean_reward          | -40.4        |\n",
      "| time/                   |              |\n",
      "|    total_timesteps      | 64000        |\n",
      "| train/                  |              |\n",
      "|    approx_kl            | 0.0063453387 |\n",
      "|    clip_fraction        | 0.0208       |\n",
      "|    clip_range           | 0.2          |\n",
      "|    entropy_loss         | -2.14        |\n",
      "|    explained_variance   | 0.154        |\n",
      "|    learning_rate        | 7.77e-05     |\n",
      "|    loss                 | 23           |\n",
      "|    n_updates            | 70           |\n",
      "|    policy_gradient_loss | 0.00302      |\n",
      "|    std                  | 0.952        |\n",
      "|    value_loss           | 26.1         |\n",
      "------------------------------------------\n",
      "---------------------------------\n",
      "| rollout/           |          |\n",
      "|    ep_len_mean     | 259      |\n",
      "|    ep_rew_mean     | 78       |\n",
      "| time/              |          |\n",
      "|    fps             | 5263     |\n",
      "|    iterations      | 8        |\n",
      "|    time_elapsed    | 12       |\n",
      "|    total_timesteps | 65536    |\n",
      "---------------------------------\n",
      "-----------------------------------------\n",
      "| rollout/                |             |\n",
      "|    ep_len_mean          | 252         |\n",
      "|    ep_rew_mean          | 79          |\n",
      "| time/                   |             |\n",
      "|    fps                  | 5441        |\n",
      "|    iterations           | 9           |\n",
      "|    time_elapsed         | 13          |\n",
      "|    total_timesteps      | 73728       |\n",
      "| train/                  |             |\n",
      "|    approx_kl            | 0.017679358 |\n",
      "|    clip_fraction        | 0.0465      |\n",
      "|    clip_range           | 0.2         |\n",
      "|    entropy_loss         | -2.32       |\n",
      "|    explained_variance   | 0.193       |\n",
      "|    learning_rate        | 7.77e-05    |\n",
      "|    loss                 | 30.8        |\n",
      "|    n_updates            | 80          |\n",
      "|    policy_gradient_loss | 0.00535     |\n",
      "|    std                  | 0.941       |\n",
      "|    value_loss           | 32.1        |\n",
      "-----------------------------------------\n"
     ]
    },
    {
     "data": {
      "text/html": [
       "<pre style=\"white-space:pre;overflow-x:auto;line-height:normal;font-family:Menlo,'DejaVu Sans Mono',consolas,'Courier New',monospace\">\r",
       "\u001b[2KEval num_timesteps=80000, episode_reward=-79.81 +/- 1.03\n",
       "<span style=\"color: #800080; text-decoration-color: #800080\">   8%</span> <span style=\"color: #f92672; text-decoration-color: #f92672\">━━━━</span><span style=\"color: #3a3a3a; text-decoration-color: #3a3a3a\">╺━━━━━━━━━━━━━━━━━━━━━━━━━━━━━━━━━━━━━━━━━━━━━━━━━━━</span> <span style=\"color: #008000; text-decoration-color: #008000\">79,328/1,000,000 </span> [ <span style=\"color: #808000; text-decoration-color: #808000\">0:00:15</span> &lt; <span style=\"color: #008080; text-decoration-color: #008080\">0:02:52</span> , <span style=\"color: #800000; text-decoration-color: #800000\">5,365 it/s</span> ]</pre>\n"
      ],
      "text/plain": [
       "\r",
       "\u001b[2KEval num_timesteps=80000, episode_reward=-79.81 +/- 1.03\n",
       "\u001b[35m   8%\u001b[0m \u001b[38;2;249;38;114m━━━━\u001b[0m\u001b[38;5;237m╺\u001b[0m\u001b[38;5;237m━━━━━━━━━━━━━━━━━━━━━━━━━━━━━━━━━━━━━━━━━━━━━━━━━━━\u001b[0m \u001b[32m79,328/1,000,000 \u001b[0m [ \u001b[33m0:00:15\u001b[0m < \u001b[36m0:02:52\u001b[0m , \u001b[31m5,365 it/s\u001b[0m ]"
      ]
     },
     "metadata": {},
     "output_type": "display_data"
    },
    {
     "data": {
      "text/html": [
       "<pre style=\"white-space:pre;overflow-x:auto;line-height:normal;font-family:Menlo,'DejaVu Sans Mono',consolas,'Courier New',monospace\">\r",
       "\u001b[2KEpisode length: 999.00 +/- 0.00\n",
       "<span style=\"color: #800080; text-decoration-color: #800080\">   8%</span> <span style=\"color: #f92672; text-decoration-color: #f92672\">━━━━</span><span style=\"color: #3a3a3a; text-decoration-color: #3a3a3a\">╺━━━━━━━━━━━━━━━━━━━━━━━━━━━━━━━━━━━━━━━━━━━━━━━━━━━</span> <span style=\"color: #008000; text-decoration-color: #008000\">79,328/1,000,000 </span> [ <span style=\"color: #808000; text-decoration-color: #808000\">0:00:15</span> &lt; <span style=\"color: #008080; text-decoration-color: #008080\">0:02:52</span> , <span style=\"color: #800000; text-decoration-color: #800000\">5,365 it/s</span> ]</pre>\n"
      ],
      "text/plain": [
       "\r",
       "\u001b[2KEpisode length: 999.00 +/- 0.00\n",
       "\u001b[35m   8%\u001b[0m \u001b[38;2;249;38;114m━━━━\u001b[0m\u001b[38;5;237m╺\u001b[0m\u001b[38;5;237m━━━━━━━━━━━━━━━━━━━━━━━━━━━━━━━━━━━━━━━━━━━━━━━━━━━\u001b[0m \u001b[32m79,328/1,000,000 \u001b[0m [ \u001b[33m0:00:15\u001b[0m < \u001b[36m0:02:52\u001b[0m , \u001b[31m5,365 it/s\u001b[0m ]"
      ]
     },
     "metadata": {},
     "output_type": "display_data"
    },
    {
     "name": "stdout",
     "output_type": "stream",
     "text": [
      "-----------------------------------------\n",
      "| eval/                   |             |\n",
      "|    mean_ep_length       | 999         |\n",
      "|    mean_reward          | -79.8       |\n",
      "| time/                   |             |\n",
      "|    total_timesteps      | 80000       |\n",
      "| train/                  |             |\n",
      "|    approx_kl            | 0.008141379 |\n",
      "|    clip_fraction        | 0.0276      |\n",
      "|    clip_range           | 0.2         |\n",
      "|    entropy_loss         | -2.48       |\n",
      "|    explained_variance   | 0.305       |\n",
      "|    learning_rate        | 7.77e-05    |\n",
      "|    loss                 | 3.76        |\n",
      "|    n_updates            | 90          |\n",
      "|    policy_gradient_loss | -0.00172    |\n",
      "|    std                  | 0.934       |\n",
      "|    value_loss           | 20.5        |\n",
      "-----------------------------------------\n",
      "---------------------------------\n",
      "| rollout/           |          |\n",
      "|    ep_len_mean     | 272      |\n",
      "|    ep_rew_mean     | 77.1     |\n",
      "| time/              |          |\n",
      "|    fps             | 5221     |\n",
      "|    iterations      | 10       |\n",
      "|    time_elapsed    | 15       |\n",
      "|    total_timesteps | 81920    |\n",
      "---------------------------------\n",
      "-----------------------------------------\n",
      "| rollout/                |             |\n",
      "|    ep_len_mean          | 250         |\n",
      "|    ep_rew_mean          | 78.8        |\n",
      "| time/                   |             |\n",
      "|    fps                  | 5343        |\n",
      "|    iterations           | 11          |\n",
      "|    time_elapsed         | 16          |\n",
      "|    total_timesteps      | 90112       |\n",
      "| train/                  |             |\n",
      "|    approx_kl            | 0.016522925 |\n",
      "|    clip_fraction        | 0.0426      |\n",
      "|    clip_range           | 0.2         |\n",
      "|    entropy_loss         | -2.71       |\n",
      "|    explained_variance   | 0.266       |\n",
      "|    learning_rate        | 7.77e-05    |\n",
      "|    loss                 | 13.2        |\n",
      "|    n_updates            | 100         |\n",
      "|    policy_gradient_loss | -0.000142   |\n",
      "|    std                  | 0.928       |\n",
      "|    value_loss           | 43.2        |\n",
      "-----------------------------------------\n"
     ]
    },
    {
     "data": {
      "text/html": [
       "<pre style=\"white-space:pre;overflow-x:auto;line-height:normal;font-family:Menlo,'DejaVu Sans Mono',consolas,'Courier New',monospace\">\r",
       "\u001b[2KEval num_timesteps=96000, episode_reward=-90.61 +/- 7.79\n",
       "<span style=\"color: #800080; text-decoration-color: #800080\">  10%</span> <span style=\"color: #f92672; text-decoration-color: #f92672\">━━━━━</span><span style=\"color: #3a3a3a; text-decoration-color: #3a3a3a\">╺━━━━━━━━━━━━━━━━━━━━━━━━━━━━━━━━━━━━━━━━━━━━━━━━━━</span> <span style=\"color: #008000; text-decoration-color: #008000\">95,712/1,000,000 </span> [ <span style=\"color: #808000; text-decoration-color: #808000\">0:00:18</span> &lt; <span style=\"color: #008080; text-decoration-color: #008080\">0:02:52</span> , <span style=\"color: #800000; text-decoration-color: #800000\">5,277 it/s</span> ]</pre>\n"
      ],
      "text/plain": [
       "\r",
       "\u001b[2KEval num_timesteps=96000, episode_reward=-90.61 +/- 7.79\n",
       "\u001b[35m  10%\u001b[0m \u001b[38;2;249;38;114m━━━━━\u001b[0m\u001b[38;5;237m╺\u001b[0m\u001b[38;5;237m━━━━━━━━━━━━━━━━━━━━━━━━━━━━━━━━━━━━━━━━━━━━━━━━━━\u001b[0m \u001b[32m95,712/1,000,000 \u001b[0m [ \u001b[33m0:00:18\u001b[0m < \u001b[36m0:02:52\u001b[0m , \u001b[31m5,277 it/s\u001b[0m ]"
      ]
     },
     "metadata": {},
     "output_type": "display_data"
    },
    {
     "data": {
      "text/html": [
       "<pre style=\"white-space:pre;overflow-x:auto;line-height:normal;font-family:Menlo,'DejaVu Sans Mono',consolas,'Courier New',monospace\">\r",
       "\u001b[2KEpisode length: 999.00 +/- 0.00\n",
       "<span style=\"color: #800080; text-decoration-color: #800080\">  10%</span> <span style=\"color: #f92672; text-decoration-color: #f92672\">━━━━━</span><span style=\"color: #3a3a3a; text-decoration-color: #3a3a3a\">╺━━━━━━━━━━━━━━━━━━━━━━━━━━━━━━━━━━━━━━━━━━━━━━━━━━</span> <span style=\"color: #008000; text-decoration-color: #008000\">95,712/1,000,000 </span> [ <span style=\"color: #808000; text-decoration-color: #808000\">0:00:18</span> &lt; <span style=\"color: #008080; text-decoration-color: #008080\">0:02:52</span> , <span style=\"color: #800000; text-decoration-color: #800000\">5,277 it/s</span> ]</pre>\n"
      ],
      "text/plain": [
       "\r",
       "\u001b[2KEpisode length: 999.00 +/- 0.00\n",
       "\u001b[35m  10%\u001b[0m \u001b[38;2;249;38;114m━━━━━\u001b[0m\u001b[38;5;237m╺\u001b[0m\u001b[38;5;237m━━━━━━━━━━━━━━━━━━━━━━━━━━━━━━━━━━━━━━━━━━━━━━━━━━\u001b[0m \u001b[32m95,712/1,000,000 \u001b[0m [ \u001b[33m0:00:18\u001b[0m < \u001b[36m0:02:52\u001b[0m , \u001b[31m5,277 it/s\u001b[0m ]"
      ]
     },
     "metadata": {},
     "output_type": "display_data"
    },
    {
     "name": "stdout",
     "output_type": "stream",
     "text": [
      "-----------------------------------------\n",
      "| eval/                   |             |\n",
      "|    mean_ep_length       | 999         |\n",
      "|    mean_reward          | -90.6       |\n",
      "| time/                   |             |\n",
      "|    total_timesteps      | 96000       |\n",
      "| train/                  |             |\n",
      "|    approx_kl            | 0.006481895 |\n",
      "|    clip_fraction        | 0.037       |\n",
      "|    clip_range           | 0.2         |\n",
      "|    entropy_loss         | -2.6        |\n",
      "|    explained_variance   | 0.354       |\n",
      "|    learning_rate        | 7.77e-05    |\n",
      "|    loss                 | 31          |\n",
      "|    n_updates            | 110         |\n",
      "|    policy_gradient_loss | -0.00294    |\n",
      "|    std                  | 0.918       |\n",
      "|    value_loss           | 27.8        |\n",
      "-----------------------------------------\n",
      "---------------------------------\n",
      "| rollout/           |          |\n",
      "|    ep_len_mean     | 265      |\n",
      "|    ep_rew_mean     | 78       |\n",
      "| time/              |          |\n",
      "|    fps             | 5167     |\n",
      "|    iterations      | 12       |\n",
      "|    time_elapsed    | 19       |\n",
      "|    total_timesteps | 98304    |\n",
      "---------------------------------\n",
      "------------------------------------------\n",
      "| rollout/                |              |\n",
      "|    ep_len_mean          | 265          |\n",
      "|    ep_rew_mean          | 77.9         |\n",
      "| time/                   |              |\n",
      "|    fps                  | 5277         |\n",
      "|    iterations           | 13           |\n",
      "|    time_elapsed         | 20           |\n",
      "|    total_timesteps      | 106496       |\n",
      "| train/                  |              |\n",
      "|    approx_kl            | 0.0004482385 |\n",
      "|    clip_fraction        | 0.00114      |\n",
      "|    clip_range           | 0.2          |\n",
      "|    entropy_loss         | -2.5         |\n",
      "|    explained_variance   | 0.283        |\n",
      "|    learning_rate        | 7.77e-05     |\n",
      "|    loss                 | 4.06         |\n",
      "|    n_updates            | 120          |\n",
      "|    policy_gradient_loss | -0.000483    |\n",
      "|    std                  | 0.914        |\n",
      "|    value_loss           | 38.6         |\n",
      "------------------------------------------\n"
     ]
    },
    {
     "data": {
      "text/html": [
       "<pre style=\"white-space:pre;overflow-x:auto;line-height:normal;font-family:Menlo,'DejaVu Sans Mono',consolas,'Courier New',monospace\">\r",
       "\u001b[2KEval num_timesteps=112000, episode_reward=-89.24 +/- 9.73\n",
       "<span style=\"color: #800080; text-decoration-color: #800080\">  11%</span> <span style=\"color: #f92672; text-decoration-color: #f92672\">━━━━━━</span><span style=\"color: #3a3a3a; text-decoration-color: #3a3a3a\">╺━━━━━━━━━━━━━━━━━━━━━━━━━━━━━━━━━━━━━━━━━━━━━━━━</span> <span style=\"color: #008000; text-decoration-color: #008000\">111,776/1,000,000 </span> [ <span style=\"color: #808000; text-decoration-color: #808000\">0:00:22</span> &lt; <span style=\"color: #008080; text-decoration-color: #008080\">0:02:51</span> , <span style=\"color: #800000; text-decoration-color: #800000\">5,212 it/s</span> ]</pre>\n"
      ],
      "text/plain": [
       "\r",
       "\u001b[2KEval num_timesteps=112000, episode_reward=-89.24 +/- 9.73\n",
       "\u001b[35m  11%\u001b[0m \u001b[38;2;249;38;114m━━━━━━\u001b[0m\u001b[38;5;237m╺\u001b[0m\u001b[38;5;237m━━━━━━━━━━━━━━━━━━━━━━━━━━━━━━━━━━━━━━━━━━━━━━━━\u001b[0m \u001b[32m111,776/1,000,000 \u001b[0m [ \u001b[33m0:00:22\u001b[0m < \u001b[36m0:02:51\u001b[0m , \u001b[31m5,212 it/s\u001b[0m ]"
      ]
     },
     "metadata": {},
     "output_type": "display_data"
    },
    {
     "data": {
      "text/html": [
       "<pre style=\"white-space:pre;overflow-x:auto;line-height:normal;font-family:Menlo,'DejaVu Sans Mono',consolas,'Courier New',monospace\">\r",
       "\u001b[2KEpisode length: 999.00 +/- 0.00\n",
       "<span style=\"color: #800080; text-decoration-color: #800080\">  11%</span> <span style=\"color: #f92672; text-decoration-color: #f92672\">━━━━━━</span><span style=\"color: #3a3a3a; text-decoration-color: #3a3a3a\">╺━━━━━━━━━━━━━━━━━━━━━━━━━━━━━━━━━━━━━━━━━━━━━━━━</span> <span style=\"color: #008000; text-decoration-color: #008000\">111,776/1,000,000 </span> [ <span style=\"color: #808000; text-decoration-color: #808000\">0:00:22</span> &lt; <span style=\"color: #008080; text-decoration-color: #008080\">0:02:51</span> , <span style=\"color: #800000; text-decoration-color: #800000\">5,212 it/s</span> ]</pre>\n"
      ],
      "text/plain": [
       "\r",
       "\u001b[2KEpisode length: 999.00 +/- 0.00\n",
       "\u001b[35m  11%\u001b[0m \u001b[38;2;249;38;114m━━━━━━\u001b[0m\u001b[38;5;237m╺\u001b[0m\u001b[38;5;237m━━━━━━━━━━━━━━━━━━━━━━━━━━━━━━━━━━━━━━━━━━━━━━━━\u001b[0m \u001b[32m111,776/1,000,000 \u001b[0m [ \u001b[33m0:00:22\u001b[0m < \u001b[36m0:02:51\u001b[0m , \u001b[31m5,212 it/s\u001b[0m ]"
      ]
     },
     "metadata": {},
     "output_type": "display_data"
    },
    {
     "name": "stdout",
     "output_type": "stream",
     "text": [
      "------------------------------------------\n",
      "| eval/                   |              |\n",
      "|    mean_ep_length       | 999          |\n",
      "|    mean_reward          | -89.2        |\n",
      "| time/                   |              |\n",
      "|    total_timesteps      | 112000       |\n",
      "| train/                  |              |\n",
      "|    approx_kl            | 0.0035832657 |\n",
      "|    clip_fraction        | 0.0095       |\n",
      "|    clip_range           | 0.2          |\n",
      "|    entropy_loss         | -2.53        |\n",
      "|    explained_variance   | 0.511        |\n",
      "|    learning_rate        | 7.77e-05     |\n",
      "|    loss                 | 4.56         |\n",
      "|    n_updates            | 130          |\n",
      "|    policy_gradient_loss | -0.00193     |\n",
      "|    std                  | 0.909        |\n",
      "|    value_loss           | 8.53         |\n",
      "------------------------------------------\n",
      "---------------------------------\n",
      "| rollout/           |          |\n",
      "|    ep_len_mean     | 274      |\n",
      "|    ep_rew_mean     | 77       |\n",
      "| time/              |          |\n",
      "|    fps             | 5127     |\n",
      "|    iterations      | 14       |\n",
      "|    time_elapsed    | 22       |\n",
      "|    total_timesteps | 114688   |\n",
      "---------------------------------\n",
      "------------------------------------------\n",
      "| rollout/                |              |\n",
      "|    ep_len_mean          | 274          |\n",
      "|    ep_rew_mean          | 77           |\n",
      "| time/                   |              |\n",
      "|    fps                  | 5232         |\n",
      "|    iterations           | 15           |\n",
      "|    time_elapsed         | 23           |\n",
      "|    total_timesteps      | 122880       |\n",
      "| train/                  |              |\n",
      "|    approx_kl            | 0.0027199278 |\n",
      "|    clip_fraction        | 0.0168       |\n",
      "|    clip_range           | 0.2          |\n",
      "|    entropy_loss         | -2.6         |\n",
      "|    explained_variance   | 0.387        |\n",
      "|    learning_rate        | 7.77e-05     |\n",
      "|    loss                 | 2.62         |\n",
      "|    n_updates            | 140          |\n",
      "|    policy_gradient_loss | -0.00259     |\n",
      "|    std                  | 0.902        |\n",
      "|    value_loss           | 19.5         |\n",
      "------------------------------------------\n"
     ]
    },
    {
     "data": {
      "text/html": [
       "<pre style=\"white-space:pre;overflow-x:auto;line-height:normal;font-family:Menlo,'DejaVu Sans Mono',consolas,'Courier New',monospace\">\r",
       "\u001b[2KEval num_timesteps=128000, episode_reward=-90.58 +/- 10.72\n",
       "<span style=\"color: #800080; text-decoration-color: #800080\">  13%</span> <span style=\"color: #f92672; text-decoration-color: #f92672\">━━━━━━╸</span><span style=\"color: #3a3a3a; text-decoration-color: #3a3a3a\">━━━━━━━━━━━━━━━━━━━━━━━━━━━━━━━━━━━━━━━━━━━━━━━━</span> <span style=\"color: #008000; text-decoration-color: #008000\">126,112/1,000,000 </span> [ <span style=\"color: #808000; text-decoration-color: #808000\">0:00:25</span> &lt; <span style=\"color: #008080; text-decoration-color: #008080\">0:02:51</span> , <span style=\"color: #800000; text-decoration-color: #800000\">5,116 it/s</span> ]</pre>\n"
      ],
      "text/plain": [
       "\r",
       "\u001b[2KEval num_timesteps=128000, episode_reward=-90.58 +/- 10.72\n",
       "\u001b[35m  13%\u001b[0m \u001b[38;2;249;38;114m━━━━━━\u001b[0m\u001b[38;2;249;38;114m╸\u001b[0m\u001b[38;5;237m━━━━━━━━━━━━━━━━━━━━━━━━━━━━━━━━━━━━━━━━━━━━━━━━\u001b[0m \u001b[32m126,112/1,000,000 \u001b[0m [ \u001b[33m0:00:25\u001b[0m < \u001b[36m0:02:51\u001b[0m , \u001b[31m5,116 it/s\u001b[0m ]"
      ]
     },
     "metadata": {},
     "output_type": "display_data"
    },
    {
     "data": {
      "text/html": [
       "<pre style=\"white-space:pre;overflow-x:auto;line-height:normal;font-family:Menlo,'DejaVu Sans Mono',consolas,'Courier New',monospace\">\r",
       "\u001b[2KEpisode length: 999.00 +/- 0.00\n",
       "<span style=\"color: #800080; text-decoration-color: #800080\">  13%</span> <span style=\"color: #f92672; text-decoration-color: #f92672\">━━━━━━╸</span><span style=\"color: #3a3a3a; text-decoration-color: #3a3a3a\">━━━━━━━━━━━━━━━━━━━━━━━━━━━━━━━━━━━━━━━━━━━━━━━━</span> <span style=\"color: #008000; text-decoration-color: #008000\">126,112/1,000,000 </span> [ <span style=\"color: #808000; text-decoration-color: #808000\">0:00:25</span> &lt; <span style=\"color: #008080; text-decoration-color: #008080\">0:02:51</span> , <span style=\"color: #800000; text-decoration-color: #800000\">5,116 it/s</span> ]</pre>\n"
      ],
      "text/plain": [
       "\r",
       "\u001b[2KEpisode length: 999.00 +/- 0.00\n",
       "\u001b[35m  13%\u001b[0m \u001b[38;2;249;38;114m━━━━━━\u001b[0m\u001b[38;2;249;38;114m╸\u001b[0m\u001b[38;5;237m━━━━━━━━━━━━━━━━━━━━━━━━━━━━━━━━━━━━━━━━━━━━━━━━\u001b[0m \u001b[32m126,112/1,000,000 \u001b[0m [ \u001b[33m0:00:25\u001b[0m < \u001b[36m0:02:51\u001b[0m , \u001b[31m5,116 it/s\u001b[0m ]"
      ]
     },
     "metadata": {},
     "output_type": "display_data"
    },
    {
     "name": "stdout",
     "output_type": "stream",
     "text": [
      "----------------------------------------\n",
      "| eval/                   |            |\n",
      "|    mean_ep_length       | 999        |\n",
      "|    mean_reward          | -90.6      |\n",
      "| time/                   |            |\n",
      "|    total_timesteps      | 128000     |\n",
      "| train/                  |            |\n",
      "|    approx_kl            | 0.12211906 |\n",
      "|    clip_fraction        | 0.0741     |\n",
      "|    clip_range           | 0.2        |\n",
      "|    entropy_loss         | -2.53      |\n",
      "|    explained_variance   | 0.767      |\n",
      "|    learning_rate        | 7.77e-05   |\n",
      "|    loss                 | 0.737      |\n",
      "|    n_updates            | 150        |\n",
      "|    policy_gradient_loss | 0.000988   |\n",
      "|    std                  | 0.898      |\n",
      "|    value_loss           | 1.73       |\n",
      "----------------------------------------\n",
      "---------------------------------\n",
      "| rollout/           |          |\n",
      "|    ep_len_mean     | 280      |\n",
      "|    ep_rew_mean     | 76.3     |\n",
      "| time/              |          |\n",
      "|    fps             | 5114     |\n",
      "|    iterations      | 16       |\n",
      "|    time_elapsed    | 25       |\n",
      "|    total_timesteps | 131072   |\n",
      "---------------------------------\n",
      "------------------------------------------\n",
      "| rollout/                |              |\n",
      "|    ep_len_mean          | 280          |\n",
      "|    ep_rew_mean          | 76.3         |\n",
      "| time/                   |              |\n",
      "|    fps                  | 5201         |\n",
      "|    iterations           | 17           |\n",
      "|    time_elapsed         | 26           |\n",
      "|    total_timesteps      | 139264       |\n",
      "| train/                  |              |\n",
      "|    approx_kl            | 0.0026970347 |\n",
      "|    clip_fraction        | 0.00497      |\n",
      "|    clip_range           | 0.2          |\n",
      "|    entropy_loss         | -2.55        |\n",
      "|    explained_variance   | 0.373        |\n",
      "|    learning_rate        | 7.77e-05     |\n",
      "|    loss                 | 6.4          |\n",
      "|    n_updates            | 160          |\n",
      "|    policy_gradient_loss | -0.00247     |\n",
      "|    std                  | 0.893        |\n",
      "|    value_loss           | 14.4         |\n",
      "------------------------------------------\n"
     ]
    },
    {
     "data": {
      "text/html": [
       "<pre style=\"white-space:pre;overflow-x:auto;line-height:normal;font-family:Menlo,'DejaVu Sans Mono',consolas,'Courier New',monospace\">\r",
       "\u001b[2KEval num_timesteps=144000, episode_reward=-81.52 +/- 9.20\n",
       "<span style=\"color: #800080; text-decoration-color: #800080\">  14%</span> <span style=\"color: #f92672; text-decoration-color: #f92672\">━━━━━━━╸</span><span style=\"color: #3a3a3a; text-decoration-color: #3a3a3a\">━━━━━━━━━━━━━━━━━━━━━━━━━━━━━━━━━━━━━━━━━━━━━━━</span> <span style=\"color: #008000; text-decoration-color: #008000\">142,688/1,000,000 </span> [ <span style=\"color: #808000; text-decoration-color: #808000\">0:00:28</span> &lt; <span style=\"color: #008080; text-decoration-color: #008080\">0:02:48</span> , <span style=\"color: #800000; text-decoration-color: #800000\">5,104 it/s</span> ]</pre>\n"
      ],
      "text/plain": [
       "\r",
       "\u001b[2KEval num_timesteps=144000, episode_reward=-81.52 +/- 9.20\n",
       "\u001b[35m  14%\u001b[0m \u001b[38;2;249;38;114m━━━━━━━\u001b[0m\u001b[38;2;249;38;114m╸\u001b[0m\u001b[38;5;237m━━━━━━━━━━━━━━━━━━━━━━━━━━━━━━━━━━━━━━━━━━━━━━━\u001b[0m \u001b[32m142,688/1,000,000 \u001b[0m [ \u001b[33m0:00:28\u001b[0m < \u001b[36m0:02:48\u001b[0m , \u001b[31m5,104 it/s\u001b[0m ]"
      ]
     },
     "metadata": {},
     "output_type": "display_data"
    },
    {
     "data": {
      "text/html": [
       "<pre style=\"white-space:pre;overflow-x:auto;line-height:normal;font-family:Menlo,'DejaVu Sans Mono',consolas,'Courier New',monospace\">\r",
       "\u001b[2KEpisode length: 999.00 +/- 0.00\n",
       "<span style=\"color: #800080; text-decoration-color: #800080\">  14%</span> <span style=\"color: #f92672; text-decoration-color: #f92672\">━━━━━━━╸</span><span style=\"color: #3a3a3a; text-decoration-color: #3a3a3a\">━━━━━━━━━━━━━━━━━━━━━━━━━━━━━━━━━━━━━━━━━━━━━━━</span> <span style=\"color: #008000; text-decoration-color: #008000\">142,688/1,000,000 </span> [ <span style=\"color: #808000; text-decoration-color: #808000\">0:00:28</span> &lt; <span style=\"color: #008080; text-decoration-color: #008080\">0:02:48</span> , <span style=\"color: #800000; text-decoration-color: #800000\">5,104 it/s</span> ]</pre>\n"
      ],
      "text/plain": [
       "\r",
       "\u001b[2KEpisode length: 999.00 +/- 0.00\n",
       "\u001b[35m  14%\u001b[0m \u001b[38;2;249;38;114m━━━━━━━\u001b[0m\u001b[38;2;249;38;114m╸\u001b[0m\u001b[38;5;237m━━━━━━━━━━━━━━━━━━━━━━━━━━━━━━━━━━━━━━━━━━━━━━━\u001b[0m \u001b[32m142,688/1,000,000 \u001b[0m [ \u001b[33m0:00:28\u001b[0m < \u001b[36m0:02:48\u001b[0m , \u001b[31m5,104 it/s\u001b[0m ]"
      ]
     },
     "metadata": {},
     "output_type": "display_data"
    },
    {
     "name": "stdout",
     "output_type": "stream",
     "text": [
      "----------------------------------------\n",
      "| eval/                   |            |\n",
      "|    mean_ep_length       | 999        |\n",
      "|    mean_reward          | -81.5      |\n",
      "| time/                   |            |\n",
      "|    total_timesteps      | 144000     |\n",
      "| train/                  |            |\n",
      "|    approx_kl            | 0.36199018 |\n",
      "|    clip_fraction        | 0.141      |\n",
      "|    clip_range           | 0.2        |\n",
      "|    entropy_loss         | -2.48      |\n",
      "|    explained_variance   | 0.705      |\n",
      "|    learning_rate        | 7.77e-05   |\n",
      "|    loss                 | 0.656      |\n",
      "|    n_updates            | 170        |\n",
      "|    policy_gradient_loss | -0.00529   |\n",
      "|    std                  | 0.89       |\n",
      "|    value_loss           | 1.45       |\n",
      "----------------------------------------\n",
      "---------------------------------\n",
      "| rollout/           |          |\n",
      "|    ep_len_mean     | 284      |\n",
      "|    ep_rew_mean     | 75.8     |\n",
      "| time/              |          |\n",
      "|    fps             | 5096     |\n",
      "|    iterations      | 18       |\n",
      "|    time_elapsed    | 28       |\n",
      "|    total_timesteps | 147456   |\n",
      "---------------------------------\n",
      "-----------------------------------------\n",
      "| rollout/                |             |\n",
      "|    ep_len_mean          | 284         |\n",
      "|    ep_rew_mean          | 75.8        |\n",
      "| time/                   |             |\n",
      "|    fps                  | 5177        |\n",
      "|    iterations           | 19          |\n",
      "|    time_elapsed         | 30          |\n",
      "|    total_timesteps      | 155648      |\n",
      "| train/                  |             |\n",
      "|    approx_kl            | 0.011179266 |\n",
      "|    clip_fraction        | 0.116       |\n",
      "|    clip_range           | 0.2         |\n",
      "|    entropy_loss         | -2.31       |\n",
      "|    explained_variance   | 0.276       |\n",
      "|    learning_rate        | 7.77e-05    |\n",
      "|    loss                 | 0.924       |\n",
      "|    n_updates            | 180         |\n",
      "|    policy_gradient_loss | -0.00512    |\n",
      "|    std                  | 0.885       |\n",
      "|    value_loss           | 14.4        |\n",
      "-----------------------------------------\n"
     ]
    },
    {
     "data": {
      "text/html": [
       "<pre style=\"white-space:pre;overflow-x:auto;line-height:normal;font-family:Menlo,'DejaVu Sans Mono',consolas,'Courier New',monospace\">\r",
       "\u001b[2KEval num_timesteps=160000, episode_reward=-85.49 +/- 10.41\n",
       "<span style=\"color: #800080; text-decoration-color: #800080\">  16%</span> <span style=\"color: #f92672; text-decoration-color: #f92672\">━━━━━━━━╸</span><span style=\"color: #3a3a3a; text-decoration-color: #3a3a3a\">━━━━━━━━━━━━━━━━━━━━━━━━━━━━━━━━━━━━━━━━━━━━━━</span> <span style=\"color: #008000; text-decoration-color: #008000\">159,136/1,000,000 </span> [ <span style=\"color: #808000; text-decoration-color: #808000\">0:00:32</span> &lt; <span style=\"color: #008080; text-decoration-color: #008080\">0:02:47</span> , <span style=\"color: #800000; text-decoration-color: #800000\">5,059 it/s</span> ]</pre>\n"
      ],
      "text/plain": [
       "\r",
       "\u001b[2KEval num_timesteps=160000, episode_reward=-85.49 +/- 10.41\n",
       "\u001b[35m  16%\u001b[0m \u001b[38;2;249;38;114m━━━━━━━━\u001b[0m\u001b[38;2;249;38;114m╸\u001b[0m\u001b[38;5;237m━━━━━━━━━━━━━━━━━━━━━━━━━━━━━━━━━━━━━━━━━━━━━━\u001b[0m \u001b[32m159,136/1,000,000 \u001b[0m [ \u001b[33m0:00:32\u001b[0m < \u001b[36m0:02:47\u001b[0m , \u001b[31m5,059 it/s\u001b[0m ]"
      ]
     },
     "metadata": {},
     "output_type": "display_data"
    },
    {
     "data": {
      "text/html": [
       "<pre style=\"white-space:pre;overflow-x:auto;line-height:normal;font-family:Menlo,'DejaVu Sans Mono',consolas,'Courier New',monospace\">\r",
       "\u001b[2KEpisode length: 999.00 +/- 0.00\n",
       "<span style=\"color: #800080; text-decoration-color: #800080\">  16%</span> <span style=\"color: #f92672; text-decoration-color: #f92672\">━━━━━━━━╸</span><span style=\"color: #3a3a3a; text-decoration-color: #3a3a3a\">━━━━━━━━━━━━━━━━━━━━━━━━━━━━━━━━━━━━━━━━━━━━━━</span> <span style=\"color: #008000; text-decoration-color: #008000\">159,136/1,000,000 </span> [ <span style=\"color: #808000; text-decoration-color: #808000\">0:00:32</span> &lt; <span style=\"color: #008080; text-decoration-color: #008080\">0:02:47</span> , <span style=\"color: #800000; text-decoration-color: #800000\">5,059 it/s</span> ]</pre>\n"
      ],
      "text/plain": [
       "\r",
       "\u001b[2KEpisode length: 999.00 +/- 0.00\n",
       "\u001b[35m  16%\u001b[0m \u001b[38;2;249;38;114m━━━━━━━━\u001b[0m\u001b[38;2;249;38;114m╸\u001b[0m\u001b[38;5;237m━━━━━━━━━━━━━━━━━━━━━━━━━━━━━━━━━━━━━━━━━━━━━━\u001b[0m \u001b[32m159,136/1,000,000 \u001b[0m [ \u001b[33m0:00:32\u001b[0m < \u001b[36m0:02:47\u001b[0m , \u001b[31m5,059 it/s\u001b[0m ]"
      ]
     },
     "metadata": {},
     "output_type": "display_data"
    },
    {
     "name": "stdout",
     "output_type": "stream",
     "text": [
      "------------------------------------------\n",
      "| eval/                   |              |\n",
      "|    mean_ep_length       | 999          |\n",
      "|    mean_reward          | -85.5        |\n",
      "| time/                   |              |\n",
      "|    total_timesteps      | 160000       |\n",
      "| train/                  |              |\n",
      "|    approx_kl            | 0.0017487392 |\n",
      "|    clip_fraction        | 0.00613      |\n",
      "|    clip_range           | 0.2          |\n",
      "|    entropy_loss         | -2.44        |\n",
      "|    explained_variance   | 0.666        |\n",
      "|    learning_rate        | 7.77e-05     |\n",
      "|    loss                 | 0.505        |\n",
      "|    n_updates            | 190          |\n",
      "|    policy_gradient_loss | -0.00145     |\n",
      "|    std                  | 0.877        |\n",
      "|    value_loss           | 1.33         |\n",
      "------------------------------------------\n",
      "---------------------------------\n",
      "| rollout/           |          |\n",
      "|    ep_len_mean     | 295      |\n",
      "|    ep_rew_mean     | 74.7     |\n",
      "| time/              |          |\n",
      "|    fps             | 5075     |\n",
      "|    iterations      | 20       |\n",
      "|    time_elapsed    | 32       |\n",
      "|    total_timesteps | 163840   |\n",
      "---------------------------------\n",
      "------------------------------------------\n",
      "| rollout/                |              |\n",
      "|    ep_len_mean          | 296          |\n",
      "|    ep_rew_mean          | 74.5         |\n",
      "| time/                   |              |\n",
      "|    fps                  | 5144         |\n",
      "|    iterations           | 21           |\n",
      "|    time_elapsed         | 33           |\n",
      "|    total_timesteps      | 172032       |\n",
      "| train/                  |              |\n",
      "|    approx_kl            | 0.0011071216 |\n",
      "|    clip_fraction        | 0.000745     |\n",
      "|    clip_range           | 0.2          |\n",
      "|    entropy_loss         | -2.39        |\n",
      "|    explained_variance   | 0.277        |\n",
      "|    learning_rate        | 7.77e-05     |\n",
      "|    loss                 | 3.41         |\n",
      "|    n_updates            | 200          |\n",
      "|    policy_gradient_loss | -0.0015      |\n",
      "|    std                  | 0.865        |\n",
      "|    value_loss           | 33.8         |\n",
      "------------------------------------------\n"
     ]
    },
    {
     "data": {
      "text/html": [
       "<pre style=\"white-space:pre;overflow-x:auto;line-height:normal;font-family:Menlo,'DejaVu Sans Mono',consolas,'Courier New',monospace\">\r",
       "\u001b[2KEval num_timesteps=176000, episode_reward=-84.29 +/- 7.86\n",
       "<span style=\"color: #800080; text-decoration-color: #800080\">  18%</span> <span style=\"color: #f92672; text-decoration-color: #f92672\">━━━━━━━━━╸</span><span style=\"color: #3a3a3a; text-decoration-color: #3a3a3a\">━━━━━━━━━━━━━━━━━━━━━━━━━━━━━━━━━━━━━━━━━━━━━</span> <span style=\"color: #008000; text-decoration-color: #008000\">175,840/1,000,000 </span> [ <span style=\"color: #808000; text-decoration-color: #808000\">0:00:35</span> &lt; <span style=\"color: #008080; text-decoration-color: #008080\">0:02:43</span> , <span style=\"color: #800000; text-decoration-color: #800000\">5,073 it/s</span> ]</pre>\n"
      ],
      "text/plain": [
       "\r",
       "\u001b[2KEval num_timesteps=176000, episode_reward=-84.29 +/- 7.86\n",
       "\u001b[35m  18%\u001b[0m \u001b[38;2;249;38;114m━━━━━━━━━\u001b[0m\u001b[38;2;249;38;114m╸\u001b[0m\u001b[38;5;237m━━━━━━━━━━━━━━━━━━━━━━━━━━━━━━━━━━━━━━━━━━━━━\u001b[0m \u001b[32m175,840/1,000,000 \u001b[0m [ \u001b[33m0:00:35\u001b[0m < \u001b[36m0:02:43\u001b[0m , \u001b[31m5,073 it/s\u001b[0m ]"
      ]
     },
     "metadata": {},
     "output_type": "display_data"
    },
    {
     "data": {
      "text/html": [
       "<pre style=\"white-space:pre;overflow-x:auto;line-height:normal;font-family:Menlo,'DejaVu Sans Mono',consolas,'Courier New',monospace\">\r",
       "\u001b[2KEpisode length: 999.00 +/- 0.00\n",
       "<span style=\"color: #800080; text-decoration-color: #800080\">  18%</span> <span style=\"color: #f92672; text-decoration-color: #f92672\">━━━━━━━━━╸</span><span style=\"color: #3a3a3a; text-decoration-color: #3a3a3a\">━━━━━━━━━━━━━━━━━━━━━━━━━━━━━━━━━━━━━━━━━━━━━</span> <span style=\"color: #008000; text-decoration-color: #008000\">175,840/1,000,000 </span> [ <span style=\"color: #808000; text-decoration-color: #808000\">0:00:35</span> &lt; <span style=\"color: #008080; text-decoration-color: #008080\">0:02:43</span> , <span style=\"color: #800000; text-decoration-color: #800000\">5,073 it/s</span> ]</pre>\n"
      ],
      "text/plain": [
       "\r",
       "\u001b[2KEpisode length: 999.00 +/- 0.00\n",
       "\u001b[35m  18%\u001b[0m \u001b[38;2;249;38;114m━━━━━━━━━\u001b[0m\u001b[38;2;249;38;114m╸\u001b[0m\u001b[38;5;237m━━━━━━━━━━━━━━━━━━━━━━━━━━━━━━━━━━━━━━━━━━━━━\u001b[0m \u001b[32m175,840/1,000,000 \u001b[0m [ \u001b[33m0:00:35\u001b[0m < \u001b[36m0:02:43\u001b[0m , \u001b[31m5,073 it/s\u001b[0m ]"
      ]
     },
     "metadata": {},
     "output_type": "display_data"
    },
    {
     "name": "stdout",
     "output_type": "stream",
     "text": [
      "------------------------------------------\n",
      "| eval/                   |              |\n",
      "|    mean_ep_length       | 999          |\n",
      "|    mean_reward          | -84.3        |\n",
      "| time/                   |              |\n",
      "|    total_timesteps      | 176000       |\n",
      "| train/                  |              |\n",
      "|    approx_kl            | 0.0041036094 |\n",
      "|    clip_fraction        | 0.0774       |\n",
      "|    clip_range           | 0.2          |\n",
      "|    entropy_loss         | -2.36        |\n",
      "|    explained_variance   | 0.382        |\n",
      "|    learning_rate        | 7.77e-05     |\n",
      "|    loss                 | 15.7         |\n",
      "|    n_updates            | 210          |\n",
      "|    policy_gradient_loss | -0.00695     |\n",
      "|    std                  | 0.86         |\n",
      "|    value_loss           | 21.7         |\n",
      "------------------------------------------\n",
      "---------------------------------\n",
      "| rollout/           |          |\n",
      "|    ep_len_mean     | 306      |\n",
      "|    ep_rew_mean     | 73.3     |\n",
      "| time/              |          |\n",
      "|    fps             | 5070     |\n",
      "|    iterations      | 22       |\n",
      "|    time_elapsed    | 35       |\n",
      "|    total_timesteps | 180224   |\n",
      "---------------------------------\n",
      "-----------------------------------------\n",
      "| rollout/                |             |\n",
      "|    ep_len_mean          | 302         |\n",
      "|    ep_rew_mean          | 73.7        |\n",
      "| time/                   |             |\n",
      "|    fps                  | 5138        |\n",
      "|    iterations           | 23          |\n",
      "|    time_elapsed         | 36          |\n",
      "|    total_timesteps      | 188416      |\n",
      "| train/                  |             |\n",
      "|    approx_kl            | 0.006679182 |\n",
      "|    clip_fraction        | 0.0404      |\n",
      "|    clip_range           | 0.2         |\n",
      "|    entropy_loss         | -2.22       |\n",
      "|    explained_variance   | 0.329       |\n",
      "|    learning_rate        | 7.77e-05    |\n",
      "|    loss                 | 9.24        |\n",
      "|    n_updates            | 220         |\n",
      "|    policy_gradient_loss | -0.0049     |\n",
      "|    std                  | 0.862       |\n",
      "|    value_loss           | 27.7        |\n",
      "-----------------------------------------\n"
     ]
    },
    {
     "data": {
      "text/html": [
       "<pre style=\"white-space:pre;overflow-x:auto;line-height:normal;font-family:Menlo,'DejaVu Sans Mono',consolas,'Courier New',monospace\">\r",
       "\u001b[2KEval num_timesteps=192000, episode_reward=-83.23 +/- 2.27\n",
       "<span style=\"color: #800080; text-decoration-color: #800080\">  19%</span> <span style=\"color: #f92672; text-decoration-color: #f92672\">━━━━━━━━━━</span><span style=\"color: #3a3a3a; text-decoration-color: #3a3a3a\">╺━━━━━━━━━━━━━━━━━━━━━━━━━━━━━━━━━━━━━━━━━━━━</span> <span style=\"color: #008000; text-decoration-color: #008000\">190,784/1,000,000 </span> [ <span style=\"color: #808000; text-decoration-color: #808000\">0:00:38</span> &lt; <span style=\"color: #008080; text-decoration-color: #008080\">0:02:42</span> , <span style=\"color: #800000; text-decoration-color: #800000\">5,000 it/s</span> ]</pre>\n"
      ],
      "text/plain": [
       "\r",
       "\u001b[2KEval num_timesteps=192000, episode_reward=-83.23 +/- 2.27\n",
       "\u001b[35m  19%\u001b[0m \u001b[38;2;249;38;114m━━━━━━━━━━\u001b[0m\u001b[38;5;237m╺\u001b[0m\u001b[38;5;237m━━━━━━━━━━━━━━━━━━━━━━━━━━━━━━━━━━━━━━━━━━━━\u001b[0m \u001b[32m190,784/1,000,000 \u001b[0m [ \u001b[33m0:00:38\u001b[0m < \u001b[36m0:02:42\u001b[0m , \u001b[31m5,000 it/s\u001b[0m ]"
      ]
     },
     "metadata": {},
     "output_type": "display_data"
    },
    {
     "data": {
      "text/html": [
       "<pre style=\"white-space:pre;overflow-x:auto;line-height:normal;font-family:Menlo,'DejaVu Sans Mono',consolas,'Courier New',monospace\">\r",
       "\u001b[2KEpisode length: 999.00 +/- 0.00\n",
       "<span style=\"color: #800080; text-decoration-color: #800080\">  19%</span> <span style=\"color: #f92672; text-decoration-color: #f92672\">━━━━━━━━━━</span><span style=\"color: #3a3a3a; text-decoration-color: #3a3a3a\">╺━━━━━━━━━━━━━━━━━━━━━━━━━━━━━━━━━━━━━━━━━━━━</span> <span style=\"color: #008000; text-decoration-color: #008000\">190,784/1,000,000 </span> [ <span style=\"color: #808000; text-decoration-color: #808000\">0:00:38</span> &lt; <span style=\"color: #008080; text-decoration-color: #008080\">0:02:42</span> , <span style=\"color: #800000; text-decoration-color: #800000\">5,000 it/s</span> ]</pre>\n"
      ],
      "text/plain": [
       "\r",
       "\u001b[2KEpisode length: 999.00 +/- 0.00\n",
       "\u001b[35m  19%\u001b[0m \u001b[38;2;249;38;114m━━━━━━━━━━\u001b[0m\u001b[38;5;237m╺\u001b[0m\u001b[38;5;237m━━━━━━━━━━━━━━━━━━━━━━━━━━━━━━━━━━━━━━━━━━━━\u001b[0m \u001b[32m190,784/1,000,000 \u001b[0m [ \u001b[33m0:00:38\u001b[0m < \u001b[36m0:02:42\u001b[0m , \u001b[31m5,000 it/s\u001b[0m ]"
      ]
     },
     "metadata": {},
     "output_type": "display_data"
    },
    {
     "name": "stdout",
     "output_type": "stream",
     "text": [
      "------------------------------------------\n",
      "| eval/                   |              |\n",
      "|    mean_ep_length       | 999          |\n",
      "|    mean_reward          | -83.2        |\n",
      "| time/                   |              |\n",
      "|    total_timesteps      | 192000       |\n",
      "| train/                  |              |\n",
      "|    approx_kl            | 0.0029901932 |\n",
      "|    clip_fraction        | 0.0281       |\n",
      "|    clip_range           | 0.2          |\n",
      "|    entropy_loss         | -2.29        |\n",
      "|    explained_variance   | 0.364        |\n",
      "|    learning_rate        | 7.77e-05     |\n",
      "|    loss                 | 18.6         |\n",
      "|    n_updates            | 230          |\n",
      "|    policy_gradient_loss | -0.000105    |\n",
      "|    std                  | 0.859        |\n",
      "|    value_loss           | 21.6         |\n",
      "------------------------------------------\n",
      "---------------------------------\n",
      "| rollout/           |          |\n",
      "|    ep_len_mean     | 308      |\n",
      "|    ep_rew_mean     | 73.2     |\n",
      "| time/              |          |\n",
      "|    fps             | 5068     |\n",
      "|    iterations      | 24       |\n",
      "|    time_elapsed    | 38       |\n",
      "|    total_timesteps | 196608   |\n",
      "---------------------------------\n",
      "-----------------------------------------\n",
      "| rollout/                |             |\n",
      "|    ep_len_mean          | 306         |\n",
      "|    ep_rew_mean          | 73.3        |\n",
      "| time/                   |             |\n",
      "|    fps                  | 5130        |\n",
      "|    iterations           | 25          |\n",
      "|    time_elapsed         | 39          |\n",
      "|    total_timesteps      | 204800      |\n",
      "| train/                  |             |\n",
      "|    approx_kl            | 0.001664887 |\n",
      "|    clip_fraction        | 0.0119      |\n",
      "|    clip_range           | 0.2         |\n",
      "|    entropy_loss         | -2.19       |\n",
      "|    explained_variance   | 0.367       |\n",
      "|    learning_rate        | 7.77e-05    |\n",
      "|    loss                 | 3.03        |\n",
      "|    n_updates            | 240         |\n",
      "|    policy_gradient_loss | -0.00124    |\n",
      "|    std                  | 0.863       |\n",
      "|    value_loss           | 20.1        |\n",
      "-----------------------------------------\n"
     ]
    },
    {
     "data": {
      "text/html": [
       "<pre style=\"white-space:pre;overflow-x:auto;line-height:normal;font-family:Menlo,'DejaVu Sans Mono',consolas,'Courier New',monospace\">\r",
       "\u001b[2KEval num_timesteps=208000, episode_reward=-85.76 +/- 7.10\n",
       "<span style=\"color: #800080; text-decoration-color: #800080\">  21%</span> <span style=\"color: #f92672; text-decoration-color: #f92672\">━━━━━━━━━━━</span><span style=\"color: #3a3a3a; text-decoration-color: #3a3a3a\">╺━━━━━━━━━━━━━━━━━━━━━━━━━━━━━━━━━━━━━━━━━━━</span> <span style=\"color: #008000; text-decoration-color: #008000\">207,872/1,000,000 </span> [ <span style=\"color: #808000; text-decoration-color: #808000\">0:00:41</span> &lt; <span style=\"color: #008080; text-decoration-color: #008080\">0:02:39</span> , <span style=\"color: #800000; text-decoration-color: #800000\">5,012 it/s</span> ]</pre>\n"
      ],
      "text/plain": [
       "\r",
       "\u001b[2KEval num_timesteps=208000, episode_reward=-85.76 +/- 7.10\n",
       "\u001b[35m  21%\u001b[0m \u001b[38;2;249;38;114m━━━━━━━━━━━\u001b[0m\u001b[38;5;237m╺\u001b[0m\u001b[38;5;237m━━━━━━━━━━━━━━━━━━━━━━━━━━━━━━━━━━━━━━━━━━━\u001b[0m \u001b[32m207,872/1,000,000 \u001b[0m [ \u001b[33m0:00:41\u001b[0m < \u001b[36m0:02:39\u001b[0m , \u001b[31m5,012 it/s\u001b[0m ]"
      ]
     },
     "metadata": {},
     "output_type": "display_data"
    },
    {
     "data": {
      "text/html": [
       "<pre style=\"white-space:pre;overflow-x:auto;line-height:normal;font-family:Menlo,'DejaVu Sans Mono',consolas,'Courier New',monospace\">\r",
       "\u001b[2KEpisode length: 999.00 +/- 0.00\n",
       "<span style=\"color: #800080; text-decoration-color: #800080\">  21%</span> <span style=\"color: #f92672; text-decoration-color: #f92672\">━━━━━━━━━━━</span><span style=\"color: #3a3a3a; text-decoration-color: #3a3a3a\">╺━━━━━━━━━━━━━━━━━━━━━━━━━━━━━━━━━━━━━━━━━━━</span> <span style=\"color: #008000; text-decoration-color: #008000\">207,872/1,000,000 </span> [ <span style=\"color: #808000; text-decoration-color: #808000\">0:00:41</span> &lt; <span style=\"color: #008080; text-decoration-color: #008080\">0:02:39</span> , <span style=\"color: #800000; text-decoration-color: #800000\">5,012 it/s</span> ]</pre>\n"
      ],
      "text/plain": [
       "\r",
       "\u001b[2KEpisode length: 999.00 +/- 0.00\n",
       "\u001b[35m  21%\u001b[0m \u001b[38;2;249;38;114m━━━━━━━━━━━\u001b[0m\u001b[38;5;237m╺\u001b[0m\u001b[38;5;237m━━━━━━━━━━━━━━━━━━━━━━━━━━━━━━━━━━━━━━━━━━━\u001b[0m \u001b[32m207,872/1,000,000 \u001b[0m [ \u001b[33m0:00:41\u001b[0m < \u001b[36m0:02:39\u001b[0m , \u001b[31m5,012 it/s\u001b[0m ]"
      ]
     },
     "metadata": {},
     "output_type": "display_data"
    },
    {
     "name": "stdout",
     "output_type": "stream",
     "text": [
      "-----------------------------------------\n",
      "| eval/                   |             |\n",
      "|    mean_ep_length       | 999         |\n",
      "|    mean_reward          | -85.8       |\n",
      "| time/                   |             |\n",
      "|    total_timesteps      | 208000      |\n",
      "| train/                  |             |\n",
      "|    approx_kl            | 0.009536859 |\n",
      "|    clip_fraction        | 0.0364      |\n",
      "|    clip_range           | 0.2         |\n",
      "|    entropy_loss         | -2.22       |\n",
      "|    explained_variance   | 0.406       |\n",
      "|    learning_rate        | 7.77e-05    |\n",
      "|    loss                 | 1.03        |\n",
      "|    n_updates            | 250         |\n",
      "|    policy_gradient_loss | -0.00611    |\n",
      "|    std                  | 0.857       |\n",
      "|    value_loss           | 8.7         |\n",
      "-----------------------------------------\n",
      "---------------------------------\n",
      "| rollout/           |          |\n",
      "|    ep_len_mean     | 308      |\n",
      "|    ep_rew_mean     | 73.1     |\n",
      "| time/              |          |\n",
      "|    fps             | 5056     |\n",
      "|    iterations      | 26       |\n",
      "|    time_elapsed    | 42       |\n",
      "|    total_timesteps | 212992   |\n",
      "---------------------------------\n",
      "-----------------------------------------\n",
      "| rollout/                |             |\n",
      "|    ep_len_mean          | 308         |\n",
      "|    ep_rew_mean          | 73          |\n",
      "| time/                   |             |\n",
      "|    fps                  | 5105        |\n",
      "|    iterations           | 27          |\n",
      "|    time_elapsed         | 43          |\n",
      "|    total_timesteps      | 221184      |\n",
      "| train/                  |             |\n",
      "|    approx_kl            | 0.008154526 |\n",
      "|    clip_fraction        | 0.0439      |\n",
      "|    clip_range           | 0.2         |\n",
      "|    entropy_loss         | -2.16       |\n",
      "|    explained_variance   | 0.442       |\n",
      "|    learning_rate        | 7.77e-05    |\n",
      "|    loss                 | 6.18        |\n",
      "|    n_updates            | 260         |\n",
      "|    policy_gradient_loss | -0.00316    |\n",
      "|    std                  | 0.852       |\n",
      "|    value_loss           | 8.44        |\n",
      "-----------------------------------------\n"
     ]
    },
    {
     "data": {
      "text/html": [
       "<pre style=\"white-space:pre;overflow-x:auto;line-height:normal;font-family:Menlo,'DejaVu Sans Mono',consolas,'Courier New',monospace\">\r",
       "\u001b[2KEval num_timesteps=224000, episode_reward=-33.38 +/- 57.91\n",
       "<span style=\"color: #800080; text-decoration-color: #800080\">  22%</span> <span style=\"color: #f92672; text-decoration-color: #f92672\">━━━━━━━━━━━━</span><span style=\"color: #3a3a3a; text-decoration-color: #3a3a3a\">╺━━━━━━━━━━━━━━━━━━━━━━━━━━━━━━━━━━━━━━━━━━</span> <span style=\"color: #008000; text-decoration-color: #008000\">223,424/1,000,000 </span> [ <span style=\"color: #808000; text-decoration-color: #808000\">0:00:45</span> &lt; <span style=\"color: #008080; text-decoration-color: #008080\">0:02:37</span> , <span style=\"color: #800000; text-decoration-color: #800000\">4,970 it/s</span> ]</pre>\n"
      ],
      "text/plain": [
       "\r",
       "\u001b[2KEval num_timesteps=224000, episode_reward=-33.38 +/- 57.91\n",
       "\u001b[35m  22%\u001b[0m \u001b[38;2;249;38;114m━━━━━━━━━━━━\u001b[0m\u001b[38;5;237m╺\u001b[0m\u001b[38;5;237m━━━━━━━━━━━━━━━━━━━━━━━━━━━━━━━━━━━━━━━━━━\u001b[0m \u001b[32m223,424/1,000,000 \u001b[0m [ \u001b[33m0:00:45\u001b[0m < \u001b[36m0:02:37\u001b[0m , \u001b[31m4,970 it/s\u001b[0m ]"
      ]
     },
     "metadata": {},
     "output_type": "display_data"
    },
    {
     "data": {
      "text/html": [
       "<pre style=\"white-space:pre;overflow-x:auto;line-height:normal;font-family:Menlo,'DejaVu Sans Mono',consolas,'Courier New',monospace\">\r",
       "\u001b[2KEpisode length: 910.20 +/- 108.77\n",
       "<span style=\"color: #800080; text-decoration-color: #800080\">  22%</span> <span style=\"color: #f92672; text-decoration-color: #f92672\">━━━━━━━━━━━━</span><span style=\"color: #3a3a3a; text-decoration-color: #3a3a3a\">╺━━━━━━━━━━━━━━━━━━━━━━━━━━━━━━━━━━━━━━━━━━</span> <span style=\"color: #008000; text-decoration-color: #008000\">223,424/1,000,000 </span> [ <span style=\"color: #808000; text-decoration-color: #808000\">0:00:45</span> &lt; <span style=\"color: #008080; text-decoration-color: #008080\">0:02:37</span> , <span style=\"color: #800000; text-decoration-color: #800000\">4,970 it/s</span> ]</pre>\n"
      ],
      "text/plain": [
       "\r",
       "\u001b[2KEpisode length: 910.20 +/- 108.77\n",
       "\u001b[35m  22%\u001b[0m \u001b[38;2;249;38;114m━━━━━━━━━━━━\u001b[0m\u001b[38;5;237m╺\u001b[0m\u001b[38;5;237m━━━━━━━━━━━━━━━━━━━━━━━━━━━━━━━━━━━━━━━━━━\u001b[0m \u001b[32m223,424/1,000,000 \u001b[0m [ \u001b[33m0:00:45\u001b[0m < \u001b[36m0:02:37\u001b[0m , \u001b[31m4,970 it/s\u001b[0m ]"
      ]
     },
     "metadata": {},
     "output_type": "display_data"
    },
    {
     "name": "stdout",
     "output_type": "stream",
     "text": [
      "-----------------------------------------\n",
      "| eval/                   |             |\n",
      "|    mean_ep_length       | 910         |\n",
      "|    mean_reward          | -33.4       |\n",
      "| time/                   |             |\n",
      "|    total_timesteps      | 224000      |\n",
      "| train/                  |             |\n",
      "|    approx_kl            | 0.016451292 |\n",
      "|    clip_fraction        | 0.0529      |\n",
      "|    clip_range           | 0.2         |\n",
      "|    entropy_loss         | -2.13       |\n",
      "|    explained_variance   | 0.381       |\n",
      "|    learning_rate        | 7.77e-05    |\n",
      "|    loss                 | 8.24        |\n",
      "|    n_updates            | 270         |\n",
      "|    policy_gradient_loss | -0.00523    |\n",
      "|    std                  | 0.845       |\n",
      "|    value_loss           | 13.9        |\n",
      "-----------------------------------------\n",
      "---------------------------------\n",
      "| rollout/           |          |\n",
      "|    ep_len_mean     | 317      |\n",
      "|    ep_rew_mean     | 72       |\n",
      "| time/              |          |\n",
      "|    fps             | 5017     |\n",
      "|    iterations      | 28       |\n",
      "|    time_elapsed    | 45       |\n",
      "|    total_timesteps | 229376   |\n",
      "---------------------------------\n",
      "------------------------------------------\n",
      "| rollout/                |              |\n",
      "|    ep_len_mean          | 317          |\n",
      "|    ep_rew_mean          | 72           |\n",
      "| time/                   |              |\n",
      "|    fps                  | 5026         |\n",
      "|    iterations           | 29           |\n",
      "|    time_elapsed         | 47           |\n",
      "|    total_timesteps      | 237568       |\n",
      "| train/                  |              |\n",
      "|    approx_kl            | 0.0047685513 |\n",
      "|    clip_fraction        | 0.0222       |\n",
      "|    clip_range           | 0.2          |\n",
      "|    entropy_loss         | -2.12        |\n",
      "|    explained_variance   | 0.403        |\n",
      "|    learning_rate        | 7.77e-05     |\n",
      "|    loss                 | 9.28         |\n",
      "|    n_updates            | 280          |\n",
      "|    policy_gradient_loss | -0.000993    |\n",
      "|    std                  | 0.844        |\n",
      "|    value_loss           | 26.4         |\n",
      "------------------------------------------\n"
     ]
    },
    {
     "data": {
      "text/html": [
       "<pre style=\"white-space:pre;overflow-x:auto;line-height:normal;font-family:Menlo,'DejaVu Sans Mono',consolas,'Courier New',monospace\">\r",
       "\u001b[2KEval num_timesteps=240000, episode_reward=40.08 +/- 8.59\n",
       "<span style=\"color: #800080; text-decoration-color: #800080\">  24%</span> <span style=\"color: #f92672; text-decoration-color: #f92672\">━━━━━━━━━━━━━</span><span style=\"color: #3a3a3a; text-decoration-color: #3a3a3a\">╺━━━━━━━━━━━━━━━━━━━━━━━━━━━━━━━━━━━━━━━━━</span> <span style=\"color: #008000; text-decoration-color: #008000\">239,616/1,000,000 </span> [ <span style=\"color: #808000; text-decoration-color: #808000\">0:00:49</span> &lt; <span style=\"color: #008080; text-decoration-color: #008080\">0:02:37</span> , <span style=\"color: #800000; text-decoration-color: #800000\">4,850 it/s</span> ]</pre>\n"
      ],
      "text/plain": [
       "\r",
       "\u001b[2KEval num_timesteps=240000, episode_reward=40.08 +/- 8.59\n",
       "\u001b[35m  24%\u001b[0m \u001b[38;2;249;38;114m━━━━━━━━━━━━━\u001b[0m\u001b[38;5;237m╺\u001b[0m\u001b[38;5;237m━━━━━━━━━━━━━━━━━━━━━━━━━━━━━━━━━━━━━━━━━\u001b[0m \u001b[32m239,616/1,000,000 \u001b[0m [ \u001b[33m0:00:49\u001b[0m < \u001b[36m0:02:37\u001b[0m , \u001b[31m4,850 it/s\u001b[0m ]"
      ]
     },
     "metadata": {},
     "output_type": "display_data"
    },
    {
     "data": {
      "text/html": [
       "<pre style=\"white-space:pre;overflow-x:auto;line-height:normal;font-family:Menlo,'DejaVu Sans Mono',consolas,'Courier New',monospace\">\r",
       "\u001b[2KEpisode length: 763.60 +/- 108.72\n",
       "<span style=\"color: #800080; text-decoration-color: #800080\">  24%</span> <span style=\"color: #f92672; text-decoration-color: #f92672\">━━━━━━━━━━━━━</span><span style=\"color: #3a3a3a; text-decoration-color: #3a3a3a\">╺━━━━━━━━━━━━━━━━━━━━━━━━━━━━━━━━━━━━━━━━━</span> <span style=\"color: #008000; text-decoration-color: #008000\">239,616/1,000,000 </span> [ <span style=\"color: #808000; text-decoration-color: #808000\">0:00:49</span> &lt; <span style=\"color: #008080; text-decoration-color: #008080\">0:02:37</span> , <span style=\"color: #800000; text-decoration-color: #800000\">4,850 it/s</span> ]</pre>\n"
      ],
      "text/plain": [
       "\r",
       "\u001b[2KEpisode length: 763.60 +/- 108.72\n",
       "\u001b[35m  24%\u001b[0m \u001b[38;2;249;38;114m━━━━━━━━━━━━━\u001b[0m\u001b[38;5;237m╺\u001b[0m\u001b[38;5;237m━━━━━━━━━━━━━━━━━━━━━━━━━━━━━━━━━━━━━━━━━\u001b[0m \u001b[32m239,616/1,000,000 \u001b[0m [ \u001b[33m0:00:49\u001b[0m < \u001b[36m0:02:37\u001b[0m , \u001b[31m4,850 it/s\u001b[0m ]"
      ]
     },
     "metadata": {},
     "output_type": "display_data"
    },
    {
     "name": "stdout",
     "output_type": "stream",
     "text": [
      "-----------------------------------------\n",
      "| eval/                   |             |\n",
      "|    mean_ep_length       | 764         |\n",
      "|    mean_reward          | 40.1        |\n",
      "| time/                   |             |\n",
      "|    total_timesteps      | 240000      |\n",
      "| train/                  |             |\n",
      "|    approx_kl            | 0.004689045 |\n",
      "|    clip_fraction        | 0.0121      |\n",
      "|    clip_range           | 0.2         |\n",
      "|    entropy_loss         | -1.97       |\n",
      "|    explained_variance   | 0.424       |\n",
      "|    learning_rate        | 7.77e-05    |\n",
      "|    loss                 | 1.33        |\n",
      "|    n_updates            | 290         |\n",
      "|    policy_gradient_loss | -0.00307    |\n",
      "|    std                  | 0.838       |\n",
      "|    value_loss           | 3.09        |\n",
      "-----------------------------------------\n"
     ]
    },
    {
     "data": {
      "text/html": [
       "<pre style=\"white-space:pre;overflow-x:auto;line-height:normal;font-family:Menlo,'DejaVu Sans Mono',consolas,'Courier New',monospace\">\r",
       "\u001b[2KNew best mean reward!\n",
       "<span style=\"color: #800080; text-decoration-color: #800080\">  24%</span> <span style=\"color: #f92672; text-decoration-color: #f92672\">━━━━━━━━━━━━━</span><span style=\"color: #3a3a3a; text-decoration-color: #3a3a3a\">╺━━━━━━━━━━━━━━━━━━━━━━━━━━━━━━━━━━━━━━━━━</span> <span style=\"color: #008000; text-decoration-color: #008000\">239,616/1,000,000 </span> [ <span style=\"color: #808000; text-decoration-color: #808000\">0:00:49</span> &lt; <span style=\"color: #008080; text-decoration-color: #008080\">0:02:37</span> , <span style=\"color: #800000; text-decoration-color: #800000\">4,850 it/s</span> ]</pre>\n"
      ],
      "text/plain": [
       "\r",
       "\u001b[2KNew best mean reward!\n",
       "\u001b[35m  24%\u001b[0m \u001b[38;2;249;38;114m━━━━━━━━━━━━━\u001b[0m\u001b[38;5;237m╺\u001b[0m\u001b[38;5;237m━━━━━━━━━━━━━━━━━━━━━━━━━━━━━━━━━━━━━━━━━\u001b[0m \u001b[32m239,616/1,000,000 \u001b[0m [ \u001b[33m0:00:49\u001b[0m < \u001b[36m0:02:37\u001b[0m , \u001b[31m4,850 it/s\u001b[0m ]"
      ]
     },
     "metadata": {},
     "output_type": "display_data"
    },
    {
     "name": "stdout",
     "output_type": "stream",
     "text": [
      "---------------------------------\n",
      "| rollout/           |          |\n",
      "|    ep_len_mean     | 446      |\n",
      "|    ep_rew_mean     | 49.5     |\n",
      "| time/              |          |\n",
      "|    fps             | 4911     |\n",
      "|    iterations      | 30       |\n",
      "|    time_elapsed    | 50       |\n",
      "|    total_timesteps | 245760   |\n",
      "---------------------------------\n",
      "-----------------------------------------\n",
      "| rollout/                |             |\n",
      "|    ep_len_mean          | 432         |\n",
      "|    ep_rew_mean          | 51.5        |\n",
      "| time/                   |             |\n",
      "|    fps                  | 4921        |\n",
      "|    iterations           | 31          |\n",
      "|    time_elapsed         | 51          |\n",
      "|    total_timesteps      | 253952      |\n",
      "| train/                  |             |\n",
      "|    approx_kl            | 0.014695555 |\n",
      "|    clip_fraction        | 0.0534      |\n",
      "|    clip_range           | 0.2         |\n",
      "|    entropy_loss         | -2.21       |\n",
      "|    explained_variance   | 0.417       |\n",
      "|    learning_rate        | 7.77e-05    |\n",
      "|    loss                 | 41.1        |\n",
      "|    n_updates            | 300         |\n",
      "|    policy_gradient_loss | -0.00106    |\n",
      "|    std                  | 0.827       |\n",
      "|    value_loss           | 59.6        |\n",
      "-----------------------------------------\n"
     ]
    },
    {
     "data": {
      "text/html": [
       "<pre style=\"white-space:pre;overflow-x:auto;line-height:normal;font-family:Menlo,'DejaVu Sans Mono',consolas,'Courier New',monospace\">\r",
       "\u001b[2KEval num_timesteps=256000, episode_reward=-69.45 +/- 47.34\n",
       "<span style=\"color: #800080; text-decoration-color: #800080\">  25%</span> <span style=\"color: #f92672; text-decoration-color: #f92672\">━━━━━━━━━━━━━━</span><span style=\"color: #3a3a3a; text-decoration-color: #3a3a3a\">╺━━━━━━━━━━━━━━━━━━━━━━━━━━━━━━━━━━━━━━━━</span> <span style=\"color: #008000; text-decoration-color: #008000\">254,976/1,000,000 </span> [ <span style=\"color: #808000; text-decoration-color: #808000\">0:00:55</span> &lt; <span style=\"color: #008080; text-decoration-color: #008080\">0:02:37</span> , <span style=\"color: #800000; text-decoration-color: #800000\">4,750 it/s</span> ]</pre>\n"
      ],
      "text/plain": [
       "\r",
       "\u001b[2KEval num_timesteps=256000, episode_reward=-69.45 +/- 47.34\n",
       "\u001b[35m  25%\u001b[0m \u001b[38;2;249;38;114m━━━━━━━━━━━━━━\u001b[0m\u001b[38;5;237m╺\u001b[0m\u001b[38;5;237m━━━━━━━━━━━━━━━━━━━━━━━━━━━━━━━━━━━━━━━━\u001b[0m \u001b[32m254,976/1,000,000 \u001b[0m [ \u001b[33m0:00:55\u001b[0m < \u001b[36m0:02:37\u001b[0m , \u001b[31m4,750 it/s\u001b[0m ]"
      ]
     },
     "metadata": {},
     "output_type": "display_data"
    },
    {
     "data": {
      "text/html": [
       "<pre style=\"white-space:pre;overflow-x:auto;line-height:normal;font-family:Menlo,'DejaVu Sans Mono',consolas,'Courier New',monospace\">\r",
       "\u001b[2KEpisode length: 986.40 +/- 25.20\n",
       "<span style=\"color: #800080; text-decoration-color: #800080\">  25%</span> <span style=\"color: #f92672; text-decoration-color: #f92672\">━━━━━━━━━━━━━━</span><span style=\"color: #3a3a3a; text-decoration-color: #3a3a3a\">╺━━━━━━━━━━━━━━━━━━━━━━━━━━━━━━━━━━━━━━━━</span> <span style=\"color: #008000; text-decoration-color: #008000\">254,976/1,000,000 </span> [ <span style=\"color: #808000; text-decoration-color: #808000\">0:00:55</span> &lt; <span style=\"color: #008080; text-decoration-color: #008080\">0:02:37</span> , <span style=\"color: #800000; text-decoration-color: #800000\">4,750 it/s</span> ]</pre>\n"
      ],
      "text/plain": [
       "\r",
       "\u001b[2KEpisode length: 986.40 +/- 25.20\n",
       "\u001b[35m  25%\u001b[0m \u001b[38;2;249;38;114m━━━━━━━━━━━━━━\u001b[0m\u001b[38;5;237m╺\u001b[0m\u001b[38;5;237m━━━━━━━━━━━━━━━━━━━━━━━━━━━━━━━━━━━━━━━━\u001b[0m \u001b[32m254,976/1,000,000 \u001b[0m [ \u001b[33m0:00:55\u001b[0m < \u001b[36m0:02:37\u001b[0m , \u001b[31m4,750 it/s\u001b[0m ]"
      ]
     },
     "metadata": {},
     "output_type": "display_data"
    },
    {
     "name": "stdout",
     "output_type": "stream",
     "text": [
      "-----------------------------------------\n",
      "| eval/                   |             |\n",
      "|    mean_ep_length       | 986         |\n",
      "|    mean_reward          | -69.5       |\n",
      "| time/                   |             |\n",
      "|    total_timesteps      | 256000      |\n",
      "| train/                  |             |\n",
      "|    approx_kl            | 0.020028077 |\n",
      "|    clip_fraction        | 0.0978      |\n",
      "|    clip_range           | 0.2         |\n",
      "|    entropy_loss         | -2.04       |\n",
      "|    explained_variance   | 0.455       |\n",
      "|    learning_rate        | 7.77e-05    |\n",
      "|    loss                 | 15.6        |\n",
      "|    n_updates            | 310         |\n",
      "|    policy_gradient_loss | -0.00395    |\n",
      "|    std                  | 0.824       |\n",
      "|    value_loss           | 39.4        |\n",
      "-----------------------------------------\n",
      "---------------------------------\n",
      "| rollout/           |          |\n",
      "|    ep_len_mean     | 434      |\n",
      "|    ep_rew_mean     | 51.7     |\n",
      "| time/              |          |\n",
      "|    fps             | 4635     |\n",
      "|    iterations      | 32       |\n",
      "|    time_elapsed    | 56       |\n",
      "|    total_timesteps | 262144   |\n",
      "---------------------------------\n",
      "-----------------------------------------\n",
      "| rollout/                |             |\n",
      "|    ep_len_mean          | 442         |\n",
      "|    ep_rew_mean          | 50.9        |\n",
      "| time/                   |             |\n",
      "|    fps                  | 4554        |\n",
      "|    iterations           | 33          |\n",
      "|    time_elapsed         | 59          |\n",
      "|    total_timesteps      | 270336      |\n",
      "| train/                  |             |\n",
      "|    approx_kl            | 0.078025565 |\n",
      "|    clip_fraction        | 0.104       |\n",
      "|    clip_range           | 0.2         |\n",
      "|    entropy_loss         | -2.11       |\n",
      "|    explained_variance   | 0.437       |\n",
      "|    learning_rate        | 7.77e-05    |\n",
      "|    loss                 | 7.84        |\n",
      "|    n_updates            | 320         |\n",
      "|    policy_gradient_loss | -0.0035     |\n",
      "|    std                  | 0.815       |\n",
      "|    value_loss           | 16.1        |\n",
      "-----------------------------------------\n"
     ]
    },
    {
     "data": {
      "text/html": [
       "<pre style=\"white-space:pre;overflow-x:auto;line-height:normal;font-family:Menlo,'DejaVu Sans Mono',consolas,'Courier New',monospace\">\r",
       "\u001b[2KEval num_timesteps=272000, episode_reward=-17.03 +/- 61.03\n",
       "<span style=\"color: #800080; text-decoration-color: #800080\">  27%</span> <span style=\"color: #f92672; text-decoration-color: #f92672\">━━━━━━━━━━━━━━╸</span><span style=\"color: #3a3a3a; text-decoration-color: #3a3a3a\">━━━━━━━━━━━━━━━━━━━━━━━━━━━━━━━━━━━━━━━━</span> <span style=\"color: #008000; text-decoration-color: #008000\">271,904/1,000,000 </span> [ <span style=\"color: #808000; text-decoration-color: #808000\">0:01:02</span> &lt; <span style=\"color: #008080; text-decoration-color: #008080\">0:03:10</span> , <span style=\"color: #800000; text-decoration-color: #800000\">3,844 it/s</span> ]</pre>\n"
      ],
      "text/plain": [
       "\r",
       "\u001b[2KEval num_timesteps=272000, episode_reward=-17.03 +/- 61.03\n",
       "\u001b[35m  27%\u001b[0m \u001b[38;2;249;38;114m━━━━━━━━━━━━━━\u001b[0m\u001b[38;2;249;38;114m╸\u001b[0m\u001b[38;5;237m━━━━━━━━━━━━━━━━━━━━━━━━━━━━━━━━━━━━━━━━\u001b[0m \u001b[32m271,904/1,000,000 \u001b[0m [ \u001b[33m0:01:02\u001b[0m < \u001b[36m0:03:10\u001b[0m , \u001b[31m3,844 it/s\u001b[0m ]"
      ]
     },
     "metadata": {},
     "output_type": "display_data"
    },
    {
     "data": {
      "text/html": [
       "<pre style=\"white-space:pre;overflow-x:auto;line-height:normal;font-family:Menlo,'DejaVu Sans Mono',consolas,'Courier New',monospace\">\r",
       "\u001b[2KEpisode length: 894.20 +/- 100.06\n",
       "<span style=\"color: #800080; text-decoration-color: #800080\">  27%</span> <span style=\"color: #f92672; text-decoration-color: #f92672\">━━━━━━━━━━━━━━╸</span><span style=\"color: #3a3a3a; text-decoration-color: #3a3a3a\">━━━━━━━━━━━━━━━━━━━━━━━━━━━━━━━━━━━━━━━━</span> <span style=\"color: #008000; text-decoration-color: #008000\">271,904/1,000,000 </span> [ <span style=\"color: #808000; text-decoration-color: #808000\">0:01:02</span> &lt; <span style=\"color: #008080; text-decoration-color: #008080\">0:03:10</span> , <span style=\"color: #800000; text-decoration-color: #800000\">3,844 it/s</span> ]</pre>\n"
      ],
      "text/plain": [
       "\r",
       "\u001b[2KEpisode length: 894.20 +/- 100.06\n",
       "\u001b[35m  27%\u001b[0m \u001b[38;2;249;38;114m━━━━━━━━━━━━━━\u001b[0m\u001b[38;2;249;38;114m╸\u001b[0m\u001b[38;5;237m━━━━━━━━━━━━━━━━━━━━━━━━━━━━━━━━━━━━━━━━\u001b[0m \u001b[32m271,904/1,000,000 \u001b[0m [ \u001b[33m0:01:02\u001b[0m < \u001b[36m0:03:10\u001b[0m , \u001b[31m3,844 it/s\u001b[0m ]"
      ]
     },
     "metadata": {},
     "output_type": "display_data"
    },
    {
     "name": "stdout",
     "output_type": "stream",
     "text": [
      "-----------------------------------------\n",
      "| eval/                   |             |\n",
      "|    mean_ep_length       | 894         |\n",
      "|    mean_reward          | -17         |\n",
      "| time/                   |             |\n",
      "|    total_timesteps      | 272000      |\n",
      "| train/                  |             |\n",
      "|    approx_kl            | 0.023900663 |\n",
      "|    clip_fraction        | 0.0731      |\n",
      "|    clip_range           | 0.2         |\n",
      "|    entropy_loss         | -2.15       |\n",
      "|    explained_variance   | 0.448       |\n",
      "|    learning_rate        | 7.77e-05    |\n",
      "|    loss                 | 6.62        |\n",
      "|    n_updates            | 330         |\n",
      "|    policy_gradient_loss | 0.00593     |\n",
      "|    std                  | 0.812       |\n",
      "|    value_loss           | 21.8        |\n",
      "-----------------------------------------\n",
      "---------------------------------\n",
      "| rollout/           |          |\n",
      "|    ep_len_mean     | 456      |\n",
      "|    ep_rew_mean     | 49.7     |\n",
      "| time/              |          |\n",
      "|    fps             | 4422     |\n",
      "|    iterations      | 34       |\n",
      "|    time_elapsed    | 62       |\n",
      "|    total_timesteps | 278528   |\n",
      "---------------------------------\n",
      "-----------------------------------------\n",
      "| rollout/                |             |\n",
      "|    ep_len_mean          | 455         |\n",
      "|    ep_rew_mean          | 49.8        |\n",
      "| time/                   |             |\n",
      "|    fps                  | 4424        |\n",
      "|    iterations           | 35          |\n",
      "|    time_elapsed         | 64          |\n",
      "|    total_timesteps      | 286720      |\n",
      "| train/                  |             |\n",
      "|    approx_kl            | 0.005230438 |\n",
      "|    clip_fraction        | 0.0134      |\n",
      "|    clip_range           | 0.2         |\n",
      "|    entropy_loss         | -2.21       |\n",
      "|    explained_variance   | 0.379       |\n",
      "|    learning_rate        | 7.77e-05    |\n",
      "|    loss                 | 22.1        |\n",
      "|    n_updates            | 340         |\n",
      "|    policy_gradient_loss | -0.00108    |\n",
      "|    std                  | 0.805       |\n",
      "|    value_loss           | 35.7        |\n",
      "-----------------------------------------\n"
     ]
    },
    {
     "data": {
      "text/html": [
       "<pre style=\"white-space:pre;overflow-x:auto;line-height:normal;font-family:Menlo,'DejaVu Sans Mono',consolas,'Courier New',monospace\">\r",
       "\u001b[2KEval num_timesteps=288000, episode_reward=-47.14 +/- 59.73\n",
       "<span style=\"color: #800080; text-decoration-color: #800080\">  29%</span> <span style=\"color: #f92672; text-decoration-color: #f92672\">━━━━━━━━━━━━━━━╸</span><span style=\"color: #3a3a3a; text-decoration-color: #3a3a3a\">━━━━━━━━━━━━━━━━━━━━━━━━━━━━━━━━━━━━━━━</span> <span style=\"color: #008000; text-decoration-color: #008000\">287,200/1,000,000 </span> [ <span style=\"color: #808000; text-decoration-color: #808000\">0:01:07</span> &lt; <span style=\"color: #008080; text-decoration-color: #008080\">0:03:18</span> , <span style=\"color: #800000; text-decoration-color: #800000\">3,615 it/s</span> ]</pre>\n"
      ],
      "text/plain": [
       "\r",
       "\u001b[2KEval num_timesteps=288000, episode_reward=-47.14 +/- 59.73\n",
       "\u001b[35m  29%\u001b[0m \u001b[38;2;249;38;114m━━━━━━━━━━━━━━━\u001b[0m\u001b[38;2;249;38;114m╸\u001b[0m\u001b[38;5;237m━━━━━━━━━━━━━━━━━━━━━━━━━━━━━━━━━━━━━━━\u001b[0m \u001b[32m287,200/1,000,000 \u001b[0m [ \u001b[33m0:01:07\u001b[0m < \u001b[36m0:03:18\u001b[0m , \u001b[31m3,615 it/s\u001b[0m ]"
      ]
     },
     "metadata": {},
     "output_type": "display_data"
    },
    {
     "data": {
      "text/html": [
       "<pre style=\"white-space:pre;overflow-x:auto;line-height:normal;font-family:Menlo,'DejaVu Sans Mono',consolas,'Courier New',monospace\">\r",
       "\u001b[2KEpisode length: 952.80 +/- 62.64\n",
       "<span style=\"color: #800080; text-decoration-color: #800080\">  29%</span> <span style=\"color: #f92672; text-decoration-color: #f92672\">━━━━━━━━━━━━━━━╸</span><span style=\"color: #3a3a3a; text-decoration-color: #3a3a3a\">━━━━━━━━━━━━━━━━━━━━━━━━━━━━━━━━━━━━━━━</span> <span style=\"color: #008000; text-decoration-color: #008000\">287,200/1,000,000 </span> [ <span style=\"color: #808000; text-decoration-color: #808000\">0:01:07</span> &lt; <span style=\"color: #008080; text-decoration-color: #008080\">0:03:18</span> , <span style=\"color: #800000; text-decoration-color: #800000\">3,615 it/s</span> ]</pre>\n"
      ],
      "text/plain": [
       "\r",
       "\u001b[2KEpisode length: 952.80 +/- 62.64\n",
       "\u001b[35m  29%\u001b[0m \u001b[38;2;249;38;114m━━━━━━━━━━━━━━━\u001b[0m\u001b[38;2;249;38;114m╸\u001b[0m\u001b[38;5;237m━━━━━━━━━━━━━━━━━━━━━━━━━━━━━━━━━━━━━━━\u001b[0m \u001b[32m287,200/1,000,000 \u001b[0m [ \u001b[33m0:01:07\u001b[0m < \u001b[36m0:03:18\u001b[0m , \u001b[31m3,615 it/s\u001b[0m ]"
      ]
     },
     "metadata": {},
     "output_type": "display_data"
    },
    {
     "name": "stdout",
     "output_type": "stream",
     "text": [
      "-----------------------------------------\n",
      "| eval/                   |             |\n",
      "|    mean_ep_length       | 953         |\n",
      "|    mean_reward          | -47.1       |\n",
      "| time/                   |             |\n",
      "|    total_timesteps      | 288000      |\n",
      "| train/                  |             |\n",
      "|    approx_kl            | 0.014313569 |\n",
      "|    clip_fraction        | 0.0831      |\n",
      "|    clip_range           | 0.2         |\n",
      "|    entropy_loss         | -2.25       |\n",
      "|    explained_variance   | 0.482       |\n",
      "|    learning_rate        | 7.77e-05    |\n",
      "|    loss                 | 4.44        |\n",
      "|    n_updates            | 350         |\n",
      "|    policy_gradient_loss | -0.0049     |\n",
      "|    std                  | 0.804       |\n",
      "|    value_loss           | 16          |\n",
      "-----------------------------------------\n",
      "---------------------------------\n",
      "| rollout/           |          |\n",
      "|    ep_len_mean     | 470      |\n",
      "|    ep_rew_mean     | 48.6     |\n",
      "| time/              |          |\n",
      "|    fps             | 4374     |\n",
      "|    iterations      | 36       |\n",
      "|    time_elapsed    | 67       |\n",
      "|    total_timesteps | 294912   |\n",
      "---------------------------------\n",
      "------------------------------------------\n",
      "| rollout/                |              |\n",
      "|    ep_len_mean          | 473          |\n",
      "|    ep_rew_mean          | 48.4         |\n",
      "| time/                   |              |\n",
      "|    fps                  | 4422         |\n",
      "|    iterations           | 37           |\n",
      "|    time_elapsed         | 68           |\n",
      "|    total_timesteps      | 303104       |\n",
      "| train/                  |              |\n",
      "|    approx_kl            | 0.0016532983 |\n",
      "|    clip_fraction        | 0.00198      |\n",
      "|    clip_range           | 0.2          |\n",
      "|    entropy_loss         | -2.22        |\n",
      "|    explained_variance   | 0.407        |\n",
      "|    learning_rate        | 7.77e-05     |\n",
      "|    loss                 | 13.3         |\n",
      "|    n_updates            | 360          |\n",
      "|    policy_gradient_loss | -0.00237     |\n",
      "|    std                  | 0.808        |\n",
      "|    value_loss           | 21.7         |\n",
      "------------------------------------------\n"
     ]
    },
    {
     "data": {
      "text/html": [
       "<pre style=\"white-space:pre;overflow-x:auto;line-height:normal;font-family:Menlo,'DejaVu Sans Mono',consolas,'Courier New',monospace\">\r",
       "\u001b[2KEval num_timesteps=304000, episode_reward=-98.98 +/- 1.83\n",
       "<span style=\"color: #800080; text-decoration-color: #800080\">  30%</span> <span style=\"color: #f92672; text-decoration-color: #f92672\">━━━━━━━━━━━━━━━━╸</span><span style=\"color: #3a3a3a; text-decoration-color: #3a3a3a\">━━━━━━━━━━━━━━━━━━━━━━━━━━━━━━━━━━━━━━</span> <span style=\"color: #008000; text-decoration-color: #008000\">303,680/1,000,000 </span> [ <span style=\"color: #808000; text-decoration-color: #808000\">0:01:10</span> &lt; <span style=\"color: #008080; text-decoration-color: #008080\">0:03:14</span> , <span style=\"color: #800000; text-decoration-color: #800000\">3,596 it/s</span> ]</pre>\n"
      ],
      "text/plain": [
       "\r",
       "\u001b[2KEval num_timesteps=304000, episode_reward=-98.98 +/- 1.83\n",
       "\u001b[35m  30%\u001b[0m \u001b[38;2;249;38;114m━━━━━━━━━━━━━━━━\u001b[0m\u001b[38;2;249;38;114m╸\u001b[0m\u001b[38;5;237m━━━━━━━━━━━━━━━━━━━━━━━━━━━━━━━━━━━━━━\u001b[0m \u001b[32m303,680/1,000,000 \u001b[0m [ \u001b[33m0:01:10\u001b[0m < \u001b[36m0:03:14\u001b[0m , \u001b[31m3,596 it/s\u001b[0m ]"
      ]
     },
     "metadata": {},
     "output_type": "display_data"
    },
    {
     "data": {
      "text/html": [
       "<pre style=\"white-space:pre;overflow-x:auto;line-height:normal;font-family:Menlo,'DejaVu Sans Mono',consolas,'Courier New',monospace\">\r",
       "\u001b[2KEpisode length: 999.00 +/- 0.00\n",
       "<span style=\"color: #800080; text-decoration-color: #800080\">  30%</span> <span style=\"color: #f92672; text-decoration-color: #f92672\">━━━━━━━━━━━━━━━━╸</span><span style=\"color: #3a3a3a; text-decoration-color: #3a3a3a\">━━━━━━━━━━━━━━━━━━━━━━━━━━━━━━━━━━━━━━</span> <span style=\"color: #008000; text-decoration-color: #008000\">303,680/1,000,000 </span> [ <span style=\"color: #808000; text-decoration-color: #808000\">0:01:10</span> &lt; <span style=\"color: #008080; text-decoration-color: #008080\">0:03:14</span> , <span style=\"color: #800000; text-decoration-color: #800000\">3,596 it/s</span> ]</pre>\n"
      ],
      "text/plain": [
       "\r",
       "\u001b[2KEpisode length: 999.00 +/- 0.00\n",
       "\u001b[35m  30%\u001b[0m \u001b[38;2;249;38;114m━━━━━━━━━━━━━━━━\u001b[0m\u001b[38;2;249;38;114m╸\u001b[0m\u001b[38;5;237m━━━━━━━━━━━━━━━━━━━━━━━━━━━━━━━━━━━━━━\u001b[0m \u001b[32m303,680/1,000,000 \u001b[0m [ \u001b[33m0:01:10\u001b[0m < \u001b[36m0:03:14\u001b[0m , \u001b[31m3,596 it/s\u001b[0m ]"
      ]
     },
     "metadata": {},
     "output_type": "display_data"
    },
    {
     "name": "stdout",
     "output_type": "stream",
     "text": [
      "----------------------------------------\n",
      "| eval/                   |            |\n",
      "|    mean_ep_length       | 999        |\n",
      "|    mean_reward          | -99        |\n",
      "| time/                   |            |\n",
      "|    total_timesteps      | 304000     |\n",
      "| train/                  |            |\n",
      "|    approx_kl            | 0.02534132 |\n",
      "|    clip_fraction        | 0.0747     |\n",
      "|    clip_range           | 0.2        |\n",
      "|    entropy_loss         | -2.29      |\n",
      "|    explained_variance   | 0.503      |\n",
      "|    learning_rate        | 7.77e-05   |\n",
      "|    loss                 | 6.5        |\n",
      "|    n_updates            | 370        |\n",
      "|    policy_gradient_loss | -0.00471   |\n",
      "|    std                  | 0.807      |\n",
      "|    value_loss           | 9.77       |\n",
      "----------------------------------------\n",
      "---------------------------------\n",
      "| rollout/           |          |\n",
      "|    ep_len_mean     | 476      |\n",
      "|    ep_rew_mean     | 48       |\n",
      "| time/              |          |\n",
      "|    fps             | 4398     |\n",
      "|    iterations      | 38       |\n",
      "|    time_elapsed    | 70       |\n",
      "|    total_timesteps | 311296   |\n",
      "---------------------------------\n",
      "-----------------------------------------\n",
      "| rollout/                |             |\n",
      "|    ep_len_mean          | 475         |\n",
      "|    ep_rew_mean          | 48.1        |\n",
      "| time/                   |             |\n",
      "|    fps                  | 4407        |\n",
      "|    iterations           | 39          |\n",
      "|    time_elapsed         | 72          |\n",
      "|    total_timesteps      | 319488      |\n",
      "| train/                  |             |\n",
      "|    approx_kl            | 0.017088026 |\n",
      "|    clip_fraction        | 0.0561      |\n",
      "|    clip_range           | 0.2         |\n",
      "|    entropy_loss         | -2.31       |\n",
      "|    explained_variance   | 0.414       |\n",
      "|    learning_rate        | 7.77e-05    |\n",
      "|    loss                 | 9.5         |\n",
      "|    n_updates            | 380         |\n",
      "|    policy_gradient_loss | -0.011      |\n",
      "|    std                  | 0.811       |\n",
      "|    value_loss           | 8.24        |\n",
      "-----------------------------------------\n"
     ]
    },
    {
     "data": {
      "text/html": [
       "<pre style=\"white-space:pre;overflow-x:auto;line-height:normal;font-family:Menlo,'DejaVu Sans Mono',consolas,'Courier New',monospace\">\r",
       "\u001b[2KEval num_timesteps=320000, episode_reward=-72.85 +/- 46.67\n",
       "<span style=\"color: #800080; text-decoration-color: #800080\">  32%</span> <span style=\"color: #f92672; text-decoration-color: #f92672\">━━━━━━━━━━━━━━━━━╸</span><span style=\"color: #3a3a3a; text-decoration-color: #3a3a3a\">━━━━━━━━━━━━━━━━━━━━━━━━━━━━━━━━━━━━━</span> <span style=\"color: #008000; text-decoration-color: #008000\">319,840/1,000,000 </span> [ <span style=\"color: #808000; text-decoration-color: #808000\">0:01:15</span> &lt; <span style=\"color: #008080; text-decoration-color: #008080\">0:03:24</span> , <span style=\"color: #800000; text-decoration-color: #800000\">3,344 it/s</span> ]</pre>\n"
      ],
      "text/plain": [
       "\r",
       "\u001b[2KEval num_timesteps=320000, episode_reward=-72.85 +/- 46.67\n",
       "\u001b[35m  32%\u001b[0m \u001b[38;2;249;38;114m━━━━━━━━━━━━━━━━━\u001b[0m\u001b[38;2;249;38;114m╸\u001b[0m\u001b[38;5;237m━━━━━━━━━━━━━━━━━━━━━━━━━━━━━━━━━━━━━\u001b[0m \u001b[32m319,840/1,000,000 \u001b[0m [ \u001b[33m0:01:15\u001b[0m < \u001b[36m0:03:24\u001b[0m , \u001b[31m3,344 it/s\u001b[0m ]"
      ]
     },
     "metadata": {},
     "output_type": "display_data"
    },
    {
     "data": {
      "text/html": [
       "<pre style=\"white-space:pre;overflow-x:auto;line-height:normal;font-family:Menlo,'DejaVu Sans Mono',consolas,'Courier New',monospace\">\r",
       "\u001b[2KEpisode length: 992.60 +/- 12.80\n",
       "<span style=\"color: #800080; text-decoration-color: #800080\">  32%</span> <span style=\"color: #f92672; text-decoration-color: #f92672\">━━━━━━━━━━━━━━━━━╸</span><span style=\"color: #3a3a3a; text-decoration-color: #3a3a3a\">━━━━━━━━━━━━━━━━━━━━━━━━━━━━━━━━━━━━━</span> <span style=\"color: #008000; text-decoration-color: #008000\">319,840/1,000,000 </span> [ <span style=\"color: #808000; text-decoration-color: #808000\">0:01:15</span> &lt; <span style=\"color: #008080; text-decoration-color: #008080\">0:03:24</span> , <span style=\"color: #800000; text-decoration-color: #800000\">3,344 it/s</span> ]</pre>\n"
      ],
      "text/plain": [
       "\r",
       "\u001b[2KEpisode length: 992.60 +/- 12.80\n",
       "\u001b[35m  32%\u001b[0m \u001b[38;2;249;38;114m━━━━━━━━━━━━━━━━━\u001b[0m\u001b[38;2;249;38;114m╸\u001b[0m\u001b[38;5;237m━━━━━━━━━━━━━━━━━━━━━━━━━━━━━━━━━━━━━\u001b[0m \u001b[32m319,840/1,000,000 \u001b[0m [ \u001b[33m0:01:15\u001b[0m < \u001b[36m0:03:24\u001b[0m , \u001b[31m3,344 it/s\u001b[0m ]"
      ]
     },
     "metadata": {},
     "output_type": "display_data"
    },
    {
     "name": "stdout",
     "output_type": "stream",
     "text": [
      "------------------------------------------\n",
      "| eval/                   |              |\n",
      "|    mean_ep_length       | 993          |\n",
      "|    mean_reward          | -72.8        |\n",
      "| time/                   |              |\n",
      "|    total_timesteps      | 320000       |\n",
      "| train/                  |              |\n",
      "|    approx_kl            | 0.0077314423 |\n",
      "|    clip_fraction        | 0.0367       |\n",
      "|    clip_range           | 0.2          |\n",
      "|    entropy_loss         | -2.21        |\n",
      "|    explained_variance   | 0.402        |\n",
      "|    learning_rate        | 7.77e-05     |\n",
      "|    loss                 | 11.5         |\n",
      "|    n_updates            | 390          |\n",
      "|    policy_gradient_loss | -0.00102     |\n",
      "|    std                  | 0.813        |\n",
      "|    value_loss           | 14.9         |\n",
      "------------------------------------------\n",
      "---------------------------------\n",
      "| rollout/           |          |\n",
      "|    ep_len_mean     | 475      |\n",
      "|    ep_rew_mean     | 48.1     |\n",
      "| time/              |          |\n",
      "|    fps             | 4295     |\n",
      "|    iterations      | 40       |\n",
      "|    time_elapsed    | 76       |\n",
      "|    total_timesteps | 327680   |\n",
      "---------------------------------\n",
      "----------------------------------------\n",
      "| rollout/                |            |\n",
      "|    ep_len_mean          | 475        |\n",
      "|    ep_rew_mean          | 48.1       |\n",
      "| time/                   |            |\n",
      "|    fps                  | 4336       |\n",
      "|    iterations           | 41         |\n",
      "|    time_elapsed         | 77         |\n",
      "|    total_timesteps      | 335872     |\n",
      "| train/                  |            |\n",
      "|    approx_kl            | 0.82798636 |\n",
      "|    clip_fraction        | 0.276      |\n",
      "|    clip_range           | 0.2        |\n",
      "|    entropy_loss         | -2.08      |\n",
      "|    explained_variance   | 0.509      |\n",
      "|    learning_rate        | 7.77e-05   |\n",
      "|    loss                 | 0.162      |\n",
      "|    n_updates            | 400        |\n",
      "|    policy_gradient_loss | 0.0118     |\n",
      "|    std                  | 0.825      |\n",
      "|    value_loss           | 0.515      |\n",
      "----------------------------------------\n"
     ]
    },
    {
     "data": {
      "text/html": [
       "<pre style=\"white-space:pre;overflow-x:auto;line-height:normal;font-family:Menlo,'DejaVu Sans Mono',consolas,'Courier New',monospace\">\r",
       "\u001b[2KEval num_timesteps=336000, episode_reward=-36.14 +/- 70.38\n",
       "<span style=\"color: #800080; text-decoration-color: #800080\">  34%</span> <span style=\"color: #f92672; text-decoration-color: #f92672\">━━━━━━━━━━━━━━━━━━</span><span style=\"color: #3a3a3a; text-decoration-color: #3a3a3a\">╺━━━━━━━━━━━━━━━━━━━━━━━━━━━━━━━━━━━━</span> <span style=\"color: #008000; text-decoration-color: #008000\">335,712/1,000,000 </span> [ <span style=\"color: #808000; text-decoration-color: #808000\">0:01:19</span> &lt; <span style=\"color: #008080; text-decoration-color: #008080\">0:03:19</span> , <span style=\"color: #800000; text-decoration-color: #800000\">3,346 it/s</span> ]</pre>\n"
      ],
      "text/plain": [
       "\r",
       "\u001b[2KEval num_timesteps=336000, episode_reward=-36.14 +/- 70.38\n",
       "\u001b[35m  34%\u001b[0m \u001b[38;2;249;38;114m━━━━━━━━━━━━━━━━━━\u001b[0m\u001b[38;5;237m╺\u001b[0m\u001b[38;5;237m━━━━━━━━━━━━━━━━━━━━━━━━━━━━━━━━━━━━\u001b[0m \u001b[32m335,712/1,000,000 \u001b[0m [ \u001b[33m0:01:19\u001b[0m < \u001b[36m0:03:19\u001b[0m , \u001b[31m3,346 it/s\u001b[0m ]"
      ]
     },
     "metadata": {},
     "output_type": "display_data"
    },
    {
     "data": {
      "text/html": [
       "<pre style=\"white-space:pre;overflow-x:auto;line-height:normal;font-family:Menlo,'DejaVu Sans Mono',consolas,'Courier New',monospace\">\r",
       "\u001b[2KEpisode length: 846.60 +/- 192.13\n",
       "<span style=\"color: #800080; text-decoration-color: #800080\">  34%</span> <span style=\"color: #f92672; text-decoration-color: #f92672\">━━━━━━━━━━━━━━━━━━</span><span style=\"color: #3a3a3a; text-decoration-color: #3a3a3a\">╺━━━━━━━━━━━━━━━━━━━━━━━━━━━━━━━━━━━━</span> <span style=\"color: #008000; text-decoration-color: #008000\">335,712/1,000,000 </span> [ <span style=\"color: #808000; text-decoration-color: #808000\">0:01:19</span> &lt; <span style=\"color: #008080; text-decoration-color: #008080\">0:03:19</span> , <span style=\"color: #800000; text-decoration-color: #800000\">3,346 it/s</span> ]</pre>\n"
      ],
      "text/plain": [
       "\r",
       "\u001b[2KEpisode length: 846.60 +/- 192.13\n",
       "\u001b[35m  34%\u001b[0m \u001b[38;2;249;38;114m━━━━━━━━━━━━━━━━━━\u001b[0m\u001b[38;5;237m╺\u001b[0m\u001b[38;5;237m━━━━━━━━━━━━━━━━━━━━━━━━━━━━━━━━━━━━\u001b[0m \u001b[32m335,712/1,000,000 \u001b[0m [ \u001b[33m0:01:19\u001b[0m < \u001b[36m0:03:19\u001b[0m , \u001b[31m3,346 it/s\u001b[0m ]"
      ]
     },
     "metadata": {},
     "output_type": "display_data"
    },
    {
     "name": "stdout",
     "output_type": "stream",
     "text": [
      "---------------------------------------\n",
      "| eval/                   |           |\n",
      "|    mean_ep_length       | 847       |\n",
      "|    mean_reward          | -36.1     |\n",
      "| time/                   |           |\n",
      "|    total_timesteps      | 336000    |\n",
      "| train/                  |           |\n",
      "|    approx_kl            | 1.0952775 |\n",
      "|    clip_fraction        | 0.595     |\n",
      "|    clip_range           | 0.2       |\n",
      "|    entropy_loss         | -1.86     |\n",
      "|    explained_variance   | 0.54      |\n",
      "|    learning_rate        | 7.77e-05  |\n",
      "|    loss                 | 0.248     |\n",
      "|    n_updates            | 410       |\n",
      "|    policy_gradient_loss | -0.0182   |\n",
      "|    std                  | 0.832     |\n",
      "|    value_loss           | 0.719     |\n",
      "---------------------------------------\n",
      "---------------------------------\n",
      "| rollout/           |          |\n",
      "|    ep_len_mean     | 481      |\n",
      "|    ep_rew_mean     | 47.5     |\n",
      "| time/              |          |\n",
      "|    fps             | 4271     |\n",
      "|    iterations      | 42       |\n",
      "|    time_elapsed    | 80       |\n",
      "|    total_timesteps | 344064   |\n",
      "---------------------------------\n"
     ]
    },
    {
     "data": {
      "text/html": [
       "<pre style=\"white-space:pre;overflow-x:auto;line-height:normal;font-family:Menlo,'DejaVu Sans Mono',consolas,'Courier New',monospace\">\r",
       "\u001b[2KEval num_timesteps=352000, episode_reward=17.37 +/- 51.34\n",
       "<span style=\"color: #800080; text-decoration-color: #800080\">  35%</span> <span style=\"color: #f92672; text-decoration-color: #f92672\">━━━━━━━━━━━━━━━━━━━</span><span style=\"color: #3a3a3a; text-decoration-color: #3a3a3a\">╺━━━━━━━━━━━━━━━━━━━━━━━━━━━━━━━━━━━</span> <span style=\"color: #008000; text-decoration-color: #008000\">351,584/1,000,000 </span> [ <span style=\"color: #808000; text-decoration-color: #808000\">0:01:23</span> &lt; <span style=\"color: #008080; text-decoration-color: #008080\">0:03:17</span> , <span style=\"color: #800000; text-decoration-color: #800000\">3,297 it/s</span> ]</pre>\n"
      ],
      "text/plain": [
       "\r",
       "\u001b[2KEval num_timesteps=352000, episode_reward=17.37 +/- 51.34\n",
       "\u001b[35m  35%\u001b[0m \u001b[38;2;249;38;114m━━━━━━━━━━━━━━━━━━━\u001b[0m\u001b[38;5;237m╺\u001b[0m\u001b[38;5;237m━━━━━━━━━━━━━━━━━━━━━━━━━━━━━━━━━━━\u001b[0m \u001b[32m351,584/1,000,000 \u001b[0m [ \u001b[33m0:01:23\u001b[0m < \u001b[36m0:03:17\u001b[0m , \u001b[31m3,297 it/s\u001b[0m ]"
      ]
     },
     "metadata": {},
     "output_type": "display_data"
    },
    {
     "data": {
      "text/html": [
       "<pre style=\"white-space:pre;overflow-x:auto;line-height:normal;font-family:Menlo,'DejaVu Sans Mono',consolas,'Courier New',monospace\">\r",
       "\u001b[2KEpisode length: 761.60 +/- 170.41\n",
       "<span style=\"color: #800080; text-decoration-color: #800080\">  35%</span> <span style=\"color: #f92672; text-decoration-color: #f92672\">━━━━━━━━━━━━━━━━━━━</span><span style=\"color: #3a3a3a; text-decoration-color: #3a3a3a\">╺━━━━━━━━━━━━━━━━━━━━━━━━━━━━━━━━━━━</span> <span style=\"color: #008000; text-decoration-color: #008000\">351,584/1,000,000 </span> [ <span style=\"color: #808000; text-decoration-color: #808000\">0:01:23</span> &lt; <span style=\"color: #008080; text-decoration-color: #008080\">0:03:17</span> , <span style=\"color: #800000; text-decoration-color: #800000\">3,297 it/s</span> ]</pre>\n"
      ],
      "text/plain": [
       "\r",
       "\u001b[2KEpisode length: 761.60 +/- 170.41\n",
       "\u001b[35m  35%\u001b[0m \u001b[38;2;249;38;114m━━━━━━━━━━━━━━━━━━━\u001b[0m\u001b[38;5;237m╺\u001b[0m\u001b[38;5;237m━━━━━━━━━━━━━━━━━━━━━━━━━━━━━━━━━━━\u001b[0m \u001b[32m351,584/1,000,000 \u001b[0m [ \u001b[33m0:01:23\u001b[0m < \u001b[36m0:03:17\u001b[0m , \u001b[31m3,297 it/s\u001b[0m ]"
      ]
     },
     "metadata": {},
     "output_type": "display_data"
    },
    {
     "name": "stdout",
     "output_type": "stream",
     "text": [
      "-----------------------------------------\n",
      "| eval/                   |             |\n",
      "|    mean_ep_length       | 762         |\n",
      "|    mean_reward          | 17.4        |\n",
      "| time/                   |             |\n",
      "|    total_timesteps      | 352000      |\n",
      "| train/                  |             |\n",
      "|    approx_kl            | 0.004484566 |\n",
      "|    clip_fraction        | 0.0417      |\n",
      "|    clip_range           | 0.2         |\n",
      "|    entropy_loss         | -1.85       |\n",
      "|    explained_variance   | 0.404       |\n",
      "|    learning_rate        | 7.77e-05    |\n",
      "|    loss                 | 19.4        |\n",
      "|    n_updates            | 420         |\n",
      "|    policy_gradient_loss | -0.0033     |\n",
      "|    std                  | 0.826       |\n",
      "|    value_loss           | 25.5        |\n",
      "-----------------------------------------\n",
      "---------------------------------\n",
      "| rollout/           |          |\n",
      "|    ep_len_mean     | 514      |\n",
      "|    ep_rew_mean     | 44.7     |\n",
      "| time/              |          |\n",
      "|    fps             | 4234     |\n",
      "|    iterations      | 43       |\n",
      "|    time_elapsed    | 83       |\n",
      "|    total_timesteps | 352256   |\n",
      "---------------------------------\n",
      "-----------------------------------------\n",
      "| rollout/                |             |\n",
      "|    ep_len_mean          | 526         |\n",
      "|    ep_rew_mean          | 43.8        |\n",
      "| time/                   |             |\n",
      "|    fps                  | 4268        |\n",
      "|    iterations           | 44          |\n",
      "|    time_elapsed         | 84          |\n",
      "|    total_timesteps      | 360448      |\n",
      "| train/                  |             |\n",
      "|    approx_kl            | 0.011512422 |\n",
      "|    clip_fraction        | 0.0423      |\n",
      "|    clip_range           | 0.2         |\n",
      "|    entropy_loss         | -1.97       |\n",
      "|    explained_variance   | 0.406       |\n",
      "|    learning_rate        | 7.77e-05    |\n",
      "|    loss                 | 40.6        |\n",
      "|    n_updates            | 430         |\n",
      "|    policy_gradient_loss | -0.00112    |\n",
      "|    std                  | 0.82        |\n",
      "|    value_loss           | 77.9        |\n",
      "-----------------------------------------\n"
     ]
    },
    {
     "data": {
      "text/html": [
       "<pre style=\"white-space:pre;overflow-x:auto;line-height:normal;font-family:Menlo,'DejaVu Sans Mono',consolas,'Courier New',monospace\">\r",
       "\u001b[2KEval num_timesteps=368000, episode_reward=37.13 +/- 11.08\n",
       "<span style=\"color: #800080; text-decoration-color: #800080\">  37%</span> <span style=\"color: #f92672; text-decoration-color: #f92672\">━━━━━━━━━━━━━━━━━━━━</span><span style=\"color: #3a3a3a; text-decoration-color: #3a3a3a\">╺━━━━━━━━━━━━━━━━━━━━━━━━━━━━━━━━━━</span> <span style=\"color: #008000; text-decoration-color: #008000\">367,648/1,000,000 </span> [ <span style=\"color: #808000; text-decoration-color: #808000\">0:01:27</span> &lt; <span style=\"color: #008080; text-decoration-color: #008080\">0:02:50</span> , <span style=\"color: #800000; text-decoration-color: #800000\">3,720 it/s</span> ]</pre>\n"
      ],
      "text/plain": [
       "\r",
       "\u001b[2KEval num_timesteps=368000, episode_reward=37.13 +/- 11.08\n",
       "\u001b[35m  37%\u001b[0m \u001b[38;2;249;38;114m━━━━━━━━━━━━━━━━━━━━\u001b[0m\u001b[38;5;237m╺\u001b[0m\u001b[38;5;237m━━━━━━━━━━━━━━━━━━━━━━━━━━━━━━━━━━\u001b[0m \u001b[32m367,648/1,000,000 \u001b[0m [ \u001b[33m0:01:27\u001b[0m < \u001b[36m0:02:50\u001b[0m , \u001b[31m3,720 it/s\u001b[0m ]"
      ]
     },
     "metadata": {},
     "output_type": "display_data"
    },
    {
     "data": {
      "text/html": [
       "<pre style=\"white-space:pre;overflow-x:auto;line-height:normal;font-family:Menlo,'DejaVu Sans Mono',consolas,'Courier New',monospace\">\r",
       "\u001b[2KEpisode length: 760.20 +/- 135.84\n",
       "<span style=\"color: #800080; text-decoration-color: #800080\">  37%</span> <span style=\"color: #f92672; text-decoration-color: #f92672\">━━━━━━━━━━━━━━━━━━━━</span><span style=\"color: #3a3a3a; text-decoration-color: #3a3a3a\">╺━━━━━━━━━━━━━━━━━━━━━━━━━━━━━━━━━━</span> <span style=\"color: #008000; text-decoration-color: #008000\">367,648/1,000,000 </span> [ <span style=\"color: #808000; text-decoration-color: #808000\">0:01:27</span> &lt; <span style=\"color: #008080; text-decoration-color: #008080\">0:02:50</span> , <span style=\"color: #800000; text-decoration-color: #800000\">3,720 it/s</span> ]</pre>\n"
      ],
      "text/plain": [
       "\r",
       "\u001b[2KEpisode length: 760.20 +/- 135.84\n",
       "\u001b[35m  37%\u001b[0m \u001b[38;2;249;38;114m━━━━━━━━━━━━━━━━━━━━\u001b[0m\u001b[38;5;237m╺\u001b[0m\u001b[38;5;237m━━━━━━━━━━━━━━━━━━━━━━━━━━━━━━━━━━\u001b[0m \u001b[32m367,648/1,000,000 \u001b[0m [ \u001b[33m0:01:27\u001b[0m < \u001b[36m0:02:50\u001b[0m , \u001b[31m3,720 it/s\u001b[0m ]"
      ]
     },
     "metadata": {},
     "output_type": "display_data"
    },
    {
     "name": "stdout",
     "output_type": "stream",
     "text": [
      "------------------------------------------\n",
      "| eval/                   |              |\n",
      "|    mean_ep_length       | 760          |\n",
      "|    mean_reward          | 37.1         |\n",
      "| time/                   |              |\n",
      "|    total_timesteps      | 368000       |\n",
      "| train/                  |              |\n",
      "|    approx_kl            | 0.0018469342 |\n",
      "|    clip_fraction        | 0.00363      |\n",
      "|    clip_range           | 0.2          |\n",
      "|    entropy_loss         | -1.83        |\n",
      "|    explained_variance   | 0.467        |\n",
      "|    learning_rate        | 7.77e-05     |\n",
      "|    loss                 | 24.1         |\n",
      "|    n_updates            | 440          |\n",
      "|    policy_gradient_loss | 0.00039      |\n",
      "|    std                  | 0.822        |\n",
      "|    value_loss           | 24.5         |\n",
      "------------------------------------------\n",
      "---------------------------------\n",
      "| rollout/           |          |\n",
      "|    ep_len_mean     | 553      |\n",
      "|    ep_rew_mean     | 40.4     |\n",
      "| time/              |          |\n",
      "|    fps             | 4220     |\n",
      "|    iterations      | 45       |\n",
      "|    time_elapsed    | 87       |\n",
      "|    total_timesteps | 368640   |\n",
      "---------------------------------\n",
      "-----------------------------------------\n",
      "| rollout/                |             |\n",
      "|    ep_len_mean          | 632         |\n",
      "|    ep_rew_mean          | 24          |\n",
      "| time/                   |             |\n",
      "|    fps                  | 4233        |\n",
      "|    iterations           | 46          |\n",
      "|    time_elapsed         | 89          |\n",
      "|    total_timesteps      | 376832      |\n",
      "| train/                  |             |\n",
      "|    approx_kl            | 0.047852878 |\n",
      "|    clip_fraction        | 0.19        |\n",
      "|    clip_range           | 0.2         |\n",
      "|    entropy_loss         | -2.05       |\n",
      "|    explained_variance   | 0.497       |\n",
      "|    learning_rate        | 7.77e-05    |\n",
      "|    loss                 | 22.2        |\n",
      "|    n_updates            | 450         |\n",
      "|    policy_gradient_loss | -0.00239    |\n",
      "|    std                  | 0.812       |\n",
      "|    value_loss           | 44.2        |\n",
      "-----------------------------------------\n"
     ]
    },
    {
     "data": {
      "text/html": [
       "<pre style=\"white-space:pre;overflow-x:auto;line-height:normal;font-family:Menlo,'DejaVu Sans Mono',consolas,'Courier New',monospace\">\r",
       "\u001b[2KEval num_timesteps=384000, episode_reward=-35.76 +/- 66.30\n",
       "<span style=\"color: #800080; text-decoration-color: #800080\">  38%</span> <span style=\"color: #f92672; text-decoration-color: #f92672\">━━━━━━━━━━━━━━━━━━━━━</span><span style=\"color: #3a3a3a; text-decoration-color: #3a3a3a\">╺━━━━━━━━━━━━━━━━━━━━━━━━━━━━━━━━━</span> <span style=\"color: #008000; text-decoration-color: #008000\">383,424/1,000,000 </span> [ <span style=\"color: #808000; text-decoration-color: #808000\">0:01:31</span> &lt; <span style=\"color: #008080; text-decoration-color: #008080\">0:02:43</span> , <span style=\"color: #800000; text-decoration-color: #800000\">3,798 it/s</span> ]</pre>\n"
      ],
      "text/plain": [
       "\r",
       "\u001b[2KEval num_timesteps=384000, episode_reward=-35.76 +/- 66.30\n",
       "\u001b[35m  38%\u001b[0m \u001b[38;2;249;38;114m━━━━━━━━━━━━━━━━━━━━━\u001b[0m\u001b[38;5;237m╺\u001b[0m\u001b[38;5;237m━━━━━━━━━━━━━━━━━━━━━━━━━━━━━━━━━\u001b[0m \u001b[32m383,424/1,000,000 \u001b[0m [ \u001b[33m0:01:31\u001b[0m < \u001b[36m0:02:43\u001b[0m , \u001b[31m3,798 it/s\u001b[0m ]"
      ]
     },
     "metadata": {},
     "output_type": "display_data"
    },
    {
     "data": {
      "text/html": [
       "<pre style=\"white-space:pre;overflow-x:auto;line-height:normal;font-family:Menlo,'DejaVu Sans Mono',consolas,'Courier New',monospace\">\r",
       "\u001b[2KEpisode length: 864.20 +/- 166.84\n",
       "<span style=\"color: #800080; text-decoration-color: #800080\">  38%</span> <span style=\"color: #f92672; text-decoration-color: #f92672\">━━━━━━━━━━━━━━━━━━━━━</span><span style=\"color: #3a3a3a; text-decoration-color: #3a3a3a\">╺━━━━━━━━━━━━━━━━━━━━━━━━━━━━━━━━━</span> <span style=\"color: #008000; text-decoration-color: #008000\">383,424/1,000,000 </span> [ <span style=\"color: #808000; text-decoration-color: #808000\">0:01:31</span> &lt; <span style=\"color: #008080; text-decoration-color: #008080\">0:02:43</span> , <span style=\"color: #800000; text-decoration-color: #800000\">3,798 it/s</span> ]</pre>\n"
      ],
      "text/plain": [
       "\r",
       "\u001b[2KEpisode length: 864.20 +/- 166.84\n",
       "\u001b[35m  38%\u001b[0m \u001b[38;2;249;38;114m━━━━━━━━━━━━━━━━━━━━━\u001b[0m\u001b[38;5;237m╺\u001b[0m\u001b[38;5;237m━━━━━━━━━━━━━━━━━━━━━━━━━━━━━━━━━\u001b[0m \u001b[32m383,424/1,000,000 \u001b[0m [ \u001b[33m0:01:31\u001b[0m < \u001b[36m0:02:43\u001b[0m , \u001b[31m3,798 it/s\u001b[0m ]"
      ]
     },
     "metadata": {},
     "output_type": "display_data"
    },
    {
     "name": "stdout",
     "output_type": "stream",
     "text": [
      "-----------------------------------------\n",
      "| eval/                   |             |\n",
      "|    mean_ep_length       | 864         |\n",
      "|    mean_reward          | -35.8       |\n",
      "| time/                   |             |\n",
      "|    total_timesteps      | 384000      |\n",
      "| train/                  |             |\n",
      "|    approx_kl            | 0.030417265 |\n",
      "|    clip_fraction        | 0.137       |\n",
      "|    clip_range           | 0.2         |\n",
      "|    entropy_loss         | -1.99       |\n",
      "|    explained_variance   | 0.5         |\n",
      "|    learning_rate        | 7.77e-05    |\n",
      "|    loss                 | 11.5        |\n",
      "|    n_updates            | 460         |\n",
      "|    policy_gradient_loss | -0.000335   |\n",
      "|    std                  | 0.811       |\n",
      "|    value_loss           | 38.7        |\n",
      "-----------------------------------------\n",
      "---------------------------------\n",
      "| rollout/           |          |\n",
      "|    ep_len_mean     | 656      |\n",
      "|    ep_rew_mean     | 22.2     |\n",
      "| time/              |          |\n",
      "|    fps             | 4204     |\n",
      "|    iterations      | 47       |\n",
      "|    time_elapsed    | 91       |\n",
      "|    total_timesteps | 385024   |\n",
      "---------------------------------\n",
      "-----------------------------------------\n",
      "| rollout/                |             |\n",
      "|    ep_len_mean          | 660         |\n",
      "|    ep_rew_mean          | 21.9        |\n",
      "| time/                   |             |\n",
      "|    fps                  | 4210        |\n",
      "|    iterations           | 48          |\n",
      "|    time_elapsed         | 93          |\n",
      "|    total_timesteps      | 393216      |\n",
      "| train/                  |             |\n",
      "|    approx_kl            | 0.005873436 |\n",
      "|    clip_fraction        | 0.00681     |\n",
      "|    clip_range           | 0.2         |\n",
      "|    entropy_loss         | -2.01       |\n",
      "|    explained_variance   | 0.482       |\n",
      "|    learning_rate        | 7.77e-05    |\n",
      "|    loss                 | 38          |\n",
      "|    n_updates            | 470         |\n",
      "|    policy_gradient_loss | -0.00301    |\n",
      "|    std                  | 0.81        |\n",
      "|    value_loss           | 85.9        |\n",
      "-----------------------------------------\n"
     ]
    },
    {
     "data": {
      "text/html": [
       "<pre style=\"white-space:pre;overflow-x:auto;line-height:normal;font-family:Menlo,'DejaVu Sans Mono',consolas,'Courier New',monospace\">\r",
       "\u001b[2KEval num_timesteps=400000, episode_reward=-38.87 +/- 66.32\n",
       "<span style=\"color: #800080; text-decoration-color: #800080\">  40%</span> <span style=\"color: #f92672; text-decoration-color: #f92672\">━━━━━━━━━━━━━━━━━━━━━╸</span><span style=\"color: #3a3a3a; text-decoration-color: #3a3a3a\">━━━━━━━━━━━━━━━━━━━━━━━━━━━━━━━━━</span> <span style=\"color: #008000; text-decoration-color: #008000\">399,712/1,000,000 </span> [ <span style=\"color: #808000; text-decoration-color: #808000\">0:01:36</span> &lt; <span style=\"color: #008080; text-decoration-color: #008080\">0:02:37</span> , <span style=\"color: #800000; text-decoration-color: #800000\">3,845 it/s</span> ]</pre>\n"
      ],
      "text/plain": [
       "\r",
       "\u001b[2KEval num_timesteps=400000, episode_reward=-38.87 +/- 66.32\n",
       "\u001b[35m  40%\u001b[0m \u001b[38;2;249;38;114m━━━━━━━━━━━━━━━━━━━━━\u001b[0m\u001b[38;2;249;38;114m╸\u001b[0m\u001b[38;5;237m━━━━━━━━━━━━━━━━━━━━━━━━━━━━━━━━━\u001b[0m \u001b[32m399,712/1,000,000 \u001b[0m [ \u001b[33m0:01:36\u001b[0m < \u001b[36m0:02:37\u001b[0m , \u001b[31m3,845 it/s\u001b[0m ]"
      ]
     },
     "metadata": {},
     "output_type": "display_data"
    },
    {
     "data": {
      "text/html": [
       "<pre style=\"white-space:pre;overflow-x:auto;line-height:normal;font-family:Menlo,'DejaVu Sans Mono',consolas,'Courier New',monospace\">\r",
       "\u001b[2KEpisode length: 881.80 +/- 143.54\n",
       "<span style=\"color: #800080; text-decoration-color: #800080\">  40%</span> <span style=\"color: #f92672; text-decoration-color: #f92672\">━━━━━━━━━━━━━━━━━━━━━╸</span><span style=\"color: #3a3a3a; text-decoration-color: #3a3a3a\">━━━━━━━━━━━━━━━━━━━━━━━━━━━━━━━━━</span> <span style=\"color: #008000; text-decoration-color: #008000\">399,712/1,000,000 </span> [ <span style=\"color: #808000; text-decoration-color: #808000\">0:01:36</span> &lt; <span style=\"color: #008080; text-decoration-color: #008080\">0:02:37</span> , <span style=\"color: #800000; text-decoration-color: #800000\">3,845 it/s</span> ]</pre>\n"
      ],
      "text/plain": [
       "\r",
       "\u001b[2KEpisode length: 881.80 +/- 143.54\n",
       "\u001b[35m  40%\u001b[0m \u001b[38;2;249;38;114m━━━━━━━━━━━━━━━━━━━━━\u001b[0m\u001b[38;2;249;38;114m╸\u001b[0m\u001b[38;5;237m━━━━━━━━━━━━━━━━━━━━━━━━━━━━━━━━━\u001b[0m \u001b[32m399,712/1,000,000 \u001b[0m [ \u001b[33m0:01:36\u001b[0m < \u001b[36m0:02:37\u001b[0m , \u001b[31m3,845 it/s\u001b[0m ]"
      ]
     },
     "metadata": {},
     "output_type": "display_data"
    },
    {
     "name": "stdout",
     "output_type": "stream",
     "text": [
      "----------------------------------------\n",
      "| eval/                   |            |\n",
      "|    mean_ep_length       | 882        |\n",
      "|    mean_reward          | -38.9      |\n",
      "| time/                   |            |\n",
      "|    total_timesteps      | 400000     |\n",
      "| train/                  |            |\n",
      "|    approx_kl            | 0.03603651 |\n",
      "|    clip_fraction        | 0.172      |\n",
      "|    clip_range           | 0.2        |\n",
      "|    entropy_loss         | -1.89      |\n",
      "|    explained_variance   | 0.507      |\n",
      "|    learning_rate        | 7.77e-05   |\n",
      "|    loss                 | 2.65       |\n",
      "|    n_updates            | 480        |\n",
      "|    policy_gradient_loss | -0.00883   |\n",
      "|    std                  | 0.813      |\n",
      "|    value_loss           | 16.9       |\n",
      "----------------------------------------\n",
      "---------------------------------\n",
      "| rollout/           |          |\n",
      "|    ep_len_mean     | 667      |\n",
      "|    ep_rew_mean     | 21.8     |\n",
      "| time/              |          |\n",
      "|    fps             | 4140     |\n",
      "|    iterations      | 49       |\n",
      "|    time_elapsed    | 96       |\n",
      "|    total_timesteps | 401408   |\n",
      "---------------------------------\n",
      "-----------------------------------------\n",
      "| rollout/                |             |\n",
      "|    ep_len_mean          | 658         |\n",
      "|    ep_rew_mean          | 22.6        |\n",
      "| time/                   |             |\n",
      "|    fps                  | 4145        |\n",
      "|    iterations           | 50          |\n",
      "|    time_elapsed         | 98          |\n",
      "|    total_timesteps      | 409600      |\n",
      "| train/                  |             |\n",
      "|    approx_kl            | 0.004587994 |\n",
      "|    clip_fraction        | 0.0313      |\n",
      "|    clip_range           | 0.2         |\n",
      "|    entropy_loss         | -1.94       |\n",
      "|    explained_variance   | 0.516       |\n",
      "|    learning_rate        | 7.77e-05    |\n",
      "|    loss                 | 9.66        |\n",
      "|    n_updates            | 490         |\n",
      "|    policy_gradient_loss | -0.00222    |\n",
      "|    std                  | 0.811       |\n",
      "|    value_loss           | 36.1        |\n",
      "-----------------------------------------\n"
     ]
    },
    {
     "data": {
      "text/html": [
       "<pre style=\"white-space:pre;overflow-x:auto;line-height:normal;font-family:Menlo,'DejaVu Sans Mono',consolas,'Courier New',monospace\">\r",
       "\u001b[2KEval num_timesteps=416000, episode_reward=17.22 +/- 58.60\n",
       "<span style=\"color: #800080; text-decoration-color: #800080\">  41%</span> <span style=\"color: #f92672; text-decoration-color: #f92672\">━━━━━━━━━━━━━━━━━━━━━━╸</span><span style=\"color: #3a3a3a; text-decoration-color: #3a3a3a\">━━━━━━━━━━━━━━━━━━━━━━━━━━━━━━━━</span> <span style=\"color: #008000; text-decoration-color: #008000\">414,784/1,000,000 </span> [ <span style=\"color: #808000; text-decoration-color: #808000\">0:01:41</span> &lt; <span style=\"color: #008080; text-decoration-color: #008080\">0:02:37</span> , <span style=\"color: #800000; text-decoration-color: #800000\">3,729 it/s</span> ]</pre>\n"
      ],
      "text/plain": [
       "\r",
       "\u001b[2KEval num_timesteps=416000, episode_reward=17.22 +/- 58.60\n",
       "\u001b[35m  41%\u001b[0m \u001b[38;2;249;38;114m━━━━━━━━━━━━━━━━━━━━━━\u001b[0m\u001b[38;2;249;38;114m╸\u001b[0m\u001b[38;5;237m━━━━━━━━━━━━━━━━━━━━━━━━━━━━━━━━\u001b[0m \u001b[32m414,784/1,000,000 \u001b[0m [ \u001b[33m0:01:41\u001b[0m < \u001b[36m0:02:37\u001b[0m , \u001b[31m3,729 it/s\u001b[0m ]"
      ]
     },
     "metadata": {},
     "output_type": "display_data"
    },
    {
     "data": {
      "text/html": [
       "<pre style=\"white-space:pre;overflow-x:auto;line-height:normal;font-family:Menlo,'DejaVu Sans Mono',consolas,'Courier New',monospace\">\r",
       "\u001b[2KEpisode length: 720.20 +/- 142.22\n",
       "<span style=\"color: #800080; text-decoration-color: #800080\">  41%</span> <span style=\"color: #f92672; text-decoration-color: #f92672\">━━━━━━━━━━━━━━━━━━━━━━╸</span><span style=\"color: #3a3a3a; text-decoration-color: #3a3a3a\">━━━━━━━━━━━━━━━━━━━━━━━━━━━━━━━━</span> <span style=\"color: #008000; text-decoration-color: #008000\">414,784/1,000,000 </span> [ <span style=\"color: #808000; text-decoration-color: #808000\">0:01:41</span> &lt; <span style=\"color: #008080; text-decoration-color: #008080\">0:02:37</span> , <span style=\"color: #800000; text-decoration-color: #800000\">3,729 it/s</span> ]</pre>\n"
      ],
      "text/plain": [
       "\r",
       "\u001b[2KEpisode length: 720.20 +/- 142.22\n",
       "\u001b[35m  41%\u001b[0m \u001b[38;2;249;38;114m━━━━━━━━━━━━━━━━━━━━━━\u001b[0m\u001b[38;2;249;38;114m╸\u001b[0m\u001b[38;5;237m━━━━━━━━━━━━━━━━━━━━━━━━━━━━━━━━\u001b[0m \u001b[32m414,784/1,000,000 \u001b[0m [ \u001b[33m0:01:41\u001b[0m < \u001b[36m0:02:37\u001b[0m , \u001b[31m3,729 it/s\u001b[0m ]"
      ]
     },
     "metadata": {},
     "output_type": "display_data"
    },
    {
     "name": "stdout",
     "output_type": "stream",
     "text": [
      "-----------------------------------------\n",
      "| eval/                   |             |\n",
      "|    mean_ep_length       | 720         |\n",
      "|    mean_reward          | 17.2        |\n",
      "| time/                   |             |\n",
      "|    total_timesteps      | 416000      |\n",
      "| train/                  |             |\n",
      "|    approx_kl            | 0.014350246 |\n",
      "|    clip_fraction        | 0.111       |\n",
      "|    clip_range           | 0.2         |\n",
      "|    entropy_loss         | -1.98       |\n",
      "|    explained_variance   | 0.522       |\n",
      "|    learning_rate        | 7.77e-05    |\n",
      "|    loss                 | 12.8        |\n",
      "|    n_updates            | 500         |\n",
      "|    policy_gradient_loss | -0.00632    |\n",
      "|    std                  | 0.807       |\n",
      "|    value_loss           | 22.4        |\n",
      "-----------------------------------------\n",
      "---------------------------------\n",
      "| rollout/           |          |\n",
      "|    ep_len_mean     | 640      |\n",
      "|    ep_rew_mean     | 23.8     |\n",
      "| time/              |          |\n",
      "|    fps             | 4122     |\n",
      "|    iterations      | 51       |\n",
      "|    time_elapsed    | 101      |\n",
      "|    total_timesteps | 417792   |\n",
      "---------------------------------\n",
      "----------------------------------------\n",
      "| rollout/                |            |\n",
      "|    ep_len_mean          | 633        |\n",
      "|    ep_rew_mean          | 25.5       |\n",
      "| time/                   |            |\n",
      "|    fps                  | 4137       |\n",
      "|    iterations           | 52         |\n",
      "|    time_elapsed         | 102        |\n",
      "|    total_timesteps      | 425984     |\n",
      "| train/                  |            |\n",
      "|    approx_kl            | 0.01485749 |\n",
      "|    clip_fraction        | 0.0528     |\n",
      "|    clip_range           | 0.2        |\n",
      "|    entropy_loss         | -1.86      |\n",
      "|    explained_variance   | 0.545      |\n",
      "|    learning_rate        | 7.77e-05   |\n",
      "|    loss                 | 16.7       |\n",
      "|    n_updates            | 510        |\n",
      "|    policy_gradient_loss | -0.000432  |\n",
      "|    std                  | 0.81       |\n",
      "|    value_loss           | 30.8       |\n",
      "----------------------------------------\n"
     ]
    },
    {
     "data": {
      "text/html": [
       "<pre style=\"white-space:pre;overflow-x:auto;line-height:normal;font-family:Menlo,'DejaVu Sans Mono',consolas,'Courier New',monospace\">\r",
       "\u001b[2KEval num_timesteps=432000, episode_reward=12.67 +/- 54.15\n",
       "<span style=\"color: #800080; text-decoration-color: #800080\">  43%</span> <span style=\"color: #f92672; text-decoration-color: #f92672\">━━━━━━━━━━━━━━━━━━━━━━━╸</span><span style=\"color: #3a3a3a; text-decoration-color: #3a3a3a\">━━━━━━━━━━━━━━━━━━━━━━━━━━━━━━━</span> <span style=\"color: #008000; text-decoration-color: #008000\">431,072/1,000,000 </span> [ <span style=\"color: #808000; text-decoration-color: #808000\">0:01:45</span> &lt; <span style=\"color: #008080; text-decoration-color: #008080\">0:02:26</span> , <span style=\"color: #800000; text-decoration-color: #800000\">3,913 it/s</span> ]</pre>\n"
      ],
      "text/plain": [
       "\r",
       "\u001b[2KEval num_timesteps=432000, episode_reward=12.67 +/- 54.15\n",
       "\u001b[35m  43%\u001b[0m \u001b[38;2;249;38;114m━━━━━━━━━━━━━━━━━━━━━━━\u001b[0m\u001b[38;2;249;38;114m╸\u001b[0m\u001b[38;5;237m━━━━━━━━━━━━━━━━━━━━━━━━━━━━━━━\u001b[0m \u001b[32m431,072/1,000,000 \u001b[0m [ \u001b[33m0:01:45\u001b[0m < \u001b[36m0:02:26\u001b[0m , \u001b[31m3,913 it/s\u001b[0m ]"
      ]
     },
     "metadata": {},
     "output_type": "display_data"
    },
    {
     "data": {
      "text/html": [
       "<pre style=\"white-space:pre;overflow-x:auto;line-height:normal;font-family:Menlo,'DejaVu Sans Mono',consolas,'Courier New',monospace\">\r",
       "\u001b[2KEpisode length: 826.80 +/- 137.94\n",
       "<span style=\"color: #800080; text-decoration-color: #800080\">  43%</span> <span style=\"color: #f92672; text-decoration-color: #f92672\">━━━━━━━━━━━━━━━━━━━━━━━╸</span><span style=\"color: #3a3a3a; text-decoration-color: #3a3a3a\">━━━━━━━━━━━━━━━━━━━━━━━━━━━━━━━</span> <span style=\"color: #008000; text-decoration-color: #008000\">431,072/1,000,000 </span> [ <span style=\"color: #808000; text-decoration-color: #808000\">0:01:45</span> &lt; <span style=\"color: #008080; text-decoration-color: #008080\">0:02:26</span> , <span style=\"color: #800000; text-decoration-color: #800000\">3,913 it/s</span> ]</pre>\n"
      ],
      "text/plain": [
       "\r",
       "\u001b[2KEpisode length: 826.80 +/- 137.94\n",
       "\u001b[35m  43%\u001b[0m \u001b[38;2;249;38;114m━━━━━━━━━━━━━━━━━━━━━━━\u001b[0m\u001b[38;2;249;38;114m╸\u001b[0m\u001b[38;5;237m━━━━━━━━━━━━━━━━━━━━━━━━━━━━━━━\u001b[0m \u001b[32m431,072/1,000,000 \u001b[0m [ \u001b[33m0:01:45\u001b[0m < \u001b[36m0:02:26\u001b[0m , \u001b[31m3,913 it/s\u001b[0m ]"
      ]
     },
     "metadata": {},
     "output_type": "display_data"
    },
    {
     "name": "stdout",
     "output_type": "stream",
     "text": [
      "-----------------------------------------\n",
      "| eval/                   |             |\n",
      "|    mean_ep_length       | 827         |\n",
      "|    mean_reward          | 12.7        |\n",
      "| time/                   |             |\n",
      "|    total_timesteps      | 432000      |\n",
      "| train/                  |             |\n",
      "|    approx_kl            | 0.031313933 |\n",
      "|    clip_fraction        | 0.369       |\n",
      "|    clip_range           | 0.2         |\n",
      "|    entropy_loss         | -1.75       |\n",
      "|    explained_variance   | 0.519       |\n",
      "|    learning_rate        | 7.77e-05    |\n",
      "|    loss                 | 2.25        |\n",
      "|    n_updates            | 520         |\n",
      "|    policy_gradient_loss | -0.0114     |\n",
      "|    std                  | 0.81        |\n",
      "|    value_loss           | 10.1        |\n",
      "-----------------------------------------\n",
      "---------------------------------\n",
      "| rollout/           |          |\n",
      "|    ep_len_mean     | 620      |\n",
      "|    ep_rew_mean     | 29.8     |\n",
      "| time/              |          |\n",
      "|    fps             | 4127     |\n",
      "|    iterations      | 53       |\n",
      "|    time_elapsed    | 105      |\n",
      "|    total_timesteps | 434176   |\n",
      "---------------------------------\n",
      "-----------------------------------------\n",
      "| rollout/                |             |\n",
      "|    ep_len_mean          | 606         |\n",
      "|    ep_rew_mean          | 32.9        |\n",
      "| time/                   |             |\n",
      "|    fps                  | 4159        |\n",
      "|    iterations           | 54          |\n",
      "|    time_elapsed         | 106         |\n",
      "|    total_timesteps      | 442368      |\n",
      "| train/                  |             |\n",
      "|    approx_kl            | 0.016612664 |\n",
      "|    clip_fraction        | 0.107       |\n",
      "|    clip_range           | 0.2         |\n",
      "|    entropy_loss         | -1.72       |\n",
      "|    explained_variance   | 0.515       |\n",
      "|    learning_rate        | 7.77e-05    |\n",
      "|    loss                 | 15.8        |\n",
      "|    n_updates            | 530         |\n",
      "|    policy_gradient_loss | -0.00507    |\n",
      "|    std                  | 0.803       |\n",
      "|    value_loss           | 21.7        |\n",
      "-----------------------------------------\n"
     ]
    },
    {
     "data": {
      "text/html": [
       "<pre style=\"white-space:pre;overflow-x:auto;line-height:normal;font-family:Menlo,'DejaVu Sans Mono',consolas,'Courier New',monospace\">\r",
       "\u001b[2KEval num_timesteps=448000, episode_reward=-33.58 +/- 62.85\n",
       "<span style=\"color: #800080; text-decoration-color: #800080\">  45%</span> <span style=\"color: #f92672; text-decoration-color: #f92672\">━━━━━━━━━━━━━━━━━━━━━━━━╸</span><span style=\"color: #3a3a3a; text-decoration-color: #3a3a3a\">━━━━━━━━━━━━━━━━━━━━━━━━━━━━━━</span> <span style=\"color: #008000; text-decoration-color: #008000\">447,200/1,000,000 </span> [ <span style=\"color: #808000; text-decoration-color: #808000\">0:01:48</span> &lt; <span style=\"color: #008080; text-decoration-color: #008080\">0:02:26</span> , <span style=\"color: #800000; text-decoration-color: #800000\">3,794 it/s</span> ]</pre>\n"
      ],
      "text/plain": [
       "\r",
       "\u001b[2KEval num_timesteps=448000, episode_reward=-33.58 +/- 62.85\n",
       "\u001b[35m  45%\u001b[0m \u001b[38;2;249;38;114m━━━━━━━━━━━━━━━━━━━━━━━━\u001b[0m\u001b[38;2;249;38;114m╸\u001b[0m\u001b[38;5;237m━━━━━━━━━━━━━━━━━━━━━━━━━━━━━━\u001b[0m \u001b[32m447,200/1,000,000 \u001b[0m [ \u001b[33m0:01:48\u001b[0m < \u001b[36m0:02:26\u001b[0m , \u001b[31m3,794 it/s\u001b[0m ]"
      ]
     },
     "metadata": {},
     "output_type": "display_data"
    },
    {
     "data": {
      "text/html": [
       "<pre style=\"white-space:pre;overflow-x:auto;line-height:normal;font-family:Menlo,'DejaVu Sans Mono',consolas,'Courier New',monospace\">\r",
       "\u001b[2KEpisode length: 898.40 +/- 125.47\n",
       "<span style=\"color: #800080; text-decoration-color: #800080\">  45%</span> <span style=\"color: #f92672; text-decoration-color: #f92672\">━━━━━━━━━━━━━━━━━━━━━━━━╸</span><span style=\"color: #3a3a3a; text-decoration-color: #3a3a3a\">━━━━━━━━━━━━━━━━━━━━━━━━━━━━━━</span> <span style=\"color: #008000; text-decoration-color: #008000\">447,200/1,000,000 </span> [ <span style=\"color: #808000; text-decoration-color: #808000\">0:01:48</span> &lt; <span style=\"color: #008080; text-decoration-color: #008080\">0:02:26</span> , <span style=\"color: #800000; text-decoration-color: #800000\">3,794 it/s</span> ]</pre>\n"
      ],
      "text/plain": [
       "\r",
       "\u001b[2KEpisode length: 898.40 +/- 125.47\n",
       "\u001b[35m  45%\u001b[0m \u001b[38;2;249;38;114m━━━━━━━━━━━━━━━━━━━━━━━━\u001b[0m\u001b[38;2;249;38;114m╸\u001b[0m\u001b[38;5;237m━━━━━━━━━━━━━━━━━━━━━━━━━━━━━━\u001b[0m \u001b[32m447,200/1,000,000 \u001b[0m [ \u001b[33m0:01:48\u001b[0m < \u001b[36m0:02:26\u001b[0m , \u001b[31m3,794 it/s\u001b[0m ]"
      ]
     },
     "metadata": {},
     "output_type": "display_data"
    },
    {
     "name": "stdout",
     "output_type": "stream",
     "text": [
      "-----------------------------------------\n",
      "| eval/                   |             |\n",
      "|    mean_ep_length       | 898         |\n",
      "|    mean_reward          | -33.6       |\n",
      "| time/                   |             |\n",
      "|    total_timesteps      | 448000      |\n",
      "| train/                  |             |\n",
      "|    approx_kl            | 0.008729126 |\n",
      "|    clip_fraction        | 0.0968      |\n",
      "|    clip_range           | 0.2         |\n",
      "|    entropy_loss         | -1.82       |\n",
      "|    explained_variance   | 0.53        |\n",
      "|    learning_rate        | 7.77e-05    |\n",
      "|    loss                 | 10.5        |\n",
      "|    n_updates            | 540         |\n",
      "|    policy_gradient_loss | -0.00645    |\n",
      "|    std                  | 0.795       |\n",
      "|    value_loss           | 16.4        |\n",
      "-----------------------------------------\n",
      "---------------------------------\n",
      "| rollout/           |          |\n",
      "|    ep_len_mean     | 594      |\n",
      "|    ep_rew_mean     | 38.1     |\n",
      "| time/              |          |\n",
      "|    fps             | 4150     |\n",
      "|    iterations      | 55       |\n",
      "|    time_elapsed    | 108      |\n",
      "|    total_timesteps | 450560   |\n",
      "---------------------------------\n",
      "-----------------------------------------\n",
      "| rollout/                |             |\n",
      "|    ep_len_mean          | 592         |\n",
      "|    ep_rew_mean          | 39.2        |\n",
      "| time/                   |             |\n",
      "|    fps                  | 4180        |\n",
      "|    iterations           | 56          |\n",
      "|    time_elapsed         | 109         |\n",
      "|    total_timesteps      | 458752      |\n",
      "| train/                  |             |\n",
      "|    approx_kl            | 0.003140763 |\n",
      "|    clip_fraction        | 0.0252      |\n",
      "|    clip_range           | 0.2         |\n",
      "|    entropy_loss         | -1.91       |\n",
      "|    explained_variance   | 0.536       |\n",
      "|    learning_rate        | 7.77e-05    |\n",
      "|    loss                 | 10.7        |\n",
      "|    n_updates            | 550         |\n",
      "|    policy_gradient_loss | -0.00355    |\n",
      "|    std                  | 0.786       |\n",
      "|    value_loss           | 34.7        |\n",
      "-----------------------------------------\n"
     ]
    },
    {
     "data": {
      "text/html": [
       "<pre style=\"white-space:pre;overflow-x:auto;line-height:normal;font-family:Menlo,'DejaVu Sans Mono',consolas,'Courier New',monospace\">\r",
       "\u001b[2KEval num_timesteps=464000, episode_reward=-39.05 +/- 73.48\n",
       "<span style=\"color: #800080; text-decoration-color: #800080\">  46%</span> <span style=\"color: #f92672; text-decoration-color: #f92672\">━━━━━━━━━━━━━━━━━━━━━━━━━╸</span><span style=\"color: #3a3a3a; text-decoration-color: #3a3a3a\">━━━━━━━━━━━━━━━━━━━━━━━━━━━━━</span> <span style=\"color: #008000; text-decoration-color: #008000\">463,744/1,000,000 </span> [ <span style=\"color: #808000; text-decoration-color: #808000\">0:01:52</span> &lt; <span style=\"color: #008080; text-decoration-color: #008080\">0:02:15</span> , <span style=\"color: #800000; text-decoration-color: #800000\">3,986 it/s</span> ]</pre>\n"
      ],
      "text/plain": [
       "\r",
       "\u001b[2KEval num_timesteps=464000, episode_reward=-39.05 +/- 73.48\n",
       "\u001b[35m  46%\u001b[0m \u001b[38;2;249;38;114m━━━━━━━━━━━━━━━━━━━━━━━━━\u001b[0m\u001b[38;2;249;38;114m╸\u001b[0m\u001b[38;5;237m━━━━━━━━━━━━━━━━━━━━━━━━━━━━━\u001b[0m \u001b[32m463,744/1,000,000 \u001b[0m [ \u001b[33m0:01:52\u001b[0m < \u001b[36m0:02:15\u001b[0m , \u001b[31m3,986 it/s\u001b[0m ]"
      ]
     },
     "metadata": {},
     "output_type": "display_data"
    },
    {
     "data": {
      "text/html": [
       "<pre style=\"white-space:pre;overflow-x:auto;line-height:normal;font-family:Menlo,'DejaVu Sans Mono',consolas,'Courier New',monospace\">\r",
       "\u001b[2KEpisode length: 857.40 +/- 180.13\n",
       "<span style=\"color: #800080; text-decoration-color: #800080\">  46%</span> <span style=\"color: #f92672; text-decoration-color: #f92672\">━━━━━━━━━━━━━━━━━━━━━━━━━╸</span><span style=\"color: #3a3a3a; text-decoration-color: #3a3a3a\">━━━━━━━━━━━━━━━━━━━━━━━━━━━━━</span> <span style=\"color: #008000; text-decoration-color: #008000\">463,744/1,000,000 </span> [ <span style=\"color: #808000; text-decoration-color: #808000\">0:01:52</span> &lt; <span style=\"color: #008080; text-decoration-color: #008080\">0:02:15</span> , <span style=\"color: #800000; text-decoration-color: #800000\">3,986 it/s</span> ]</pre>\n"
      ],
      "text/plain": [
       "\r",
       "\u001b[2KEpisode length: 857.40 +/- 180.13\n",
       "\u001b[35m  46%\u001b[0m \u001b[38;2;249;38;114m━━━━━━━━━━━━━━━━━━━━━━━━━\u001b[0m\u001b[38;2;249;38;114m╸\u001b[0m\u001b[38;5;237m━━━━━━━━━━━━━━━━━━━━━━━━━━━━━\u001b[0m \u001b[32m463,744/1,000,000 \u001b[0m [ \u001b[33m0:01:52\u001b[0m < \u001b[36m0:02:15\u001b[0m , \u001b[31m3,986 it/s\u001b[0m ]"
      ]
     },
     "metadata": {},
     "output_type": "display_data"
    },
    {
     "name": "stdout",
     "output_type": "stream",
     "text": [
      "------------------------------------------\n",
      "| eval/                   |              |\n",
      "|    mean_ep_length       | 857          |\n",
      "|    mean_reward          | -39.1        |\n",
      "| time/                   |              |\n",
      "|    total_timesteps      | 464000       |\n",
      "| train/                  |              |\n",
      "|    approx_kl            | 0.0015624452 |\n",
      "|    clip_fraction        | 0.0109       |\n",
      "|    clip_range           | 0.2          |\n",
      "|    entropy_loss         | -1.77        |\n",
      "|    explained_variance   | 0.546        |\n",
      "|    learning_rate        | 7.77e-05     |\n",
      "|    loss                 | 9.38         |\n",
      "|    n_updates            | 560          |\n",
      "|    policy_gradient_loss | -0.000866    |\n",
      "|    std                  | 0.783        |\n",
      "|    value_loss           | 16.6         |\n",
      "------------------------------------------\n",
      "---------------------------------\n",
      "| rollout/           |          |\n",
      "|    ep_len_mean     | 597      |\n",
      "|    ep_rew_mean     | 38.8     |\n",
      "| time/              |          |\n",
      "|    fps             | 4148     |\n",
      "|    iterations      | 57       |\n",
      "|    time_elapsed    | 112      |\n",
      "|    total_timesteps | 466944   |\n",
      "---------------------------------\n",
      "-----------------------------------------\n",
      "| rollout/                |             |\n",
      "|    ep_len_mean          | 612         |\n",
      "|    ep_rew_mean          | 37.8        |\n",
      "| time/                   |             |\n",
      "|    fps                  | 4167        |\n",
      "|    iterations           | 58          |\n",
      "|    time_elapsed         | 114         |\n",
      "|    total_timesteps      | 475136      |\n",
      "| train/                  |             |\n",
      "|    approx_kl            | 0.007745813 |\n",
      "|    clip_fraction        | 0.0338      |\n",
      "|    clip_range           | 0.2         |\n",
      "|    entropy_loss         | -1.74       |\n",
      "|    explained_variance   | 0.492       |\n",
      "|    learning_rate        | 7.77e-05    |\n",
      "|    loss                 | 3.01        |\n",
      "|    n_updates            | 570         |\n",
      "|    policy_gradient_loss | -0.00287    |\n",
      "|    std                  | 0.782       |\n",
      "|    value_loss           | 10.9        |\n",
      "-----------------------------------------\n"
     ]
    },
    {
     "data": {
      "text/html": [
       "<pre style=\"white-space:pre;overflow-x:auto;line-height:normal;font-family:Menlo,'DejaVu Sans Mono',consolas,'Courier New',monospace\">\r",
       "\u001b[2KEval num_timesteps=480000, episode_reward=-44.27 +/- 67.36\n",
       "<span style=\"color: #800080; text-decoration-color: #800080\">  48%</span> <span style=\"color: #f92672; text-decoration-color: #f92672\">━━━━━━━━━━━━━━━━━━━━━━━━━━</span><span style=\"color: #3a3a3a; text-decoration-color: #3a3a3a\">╺━━━━━━━━━━━━━━━━━━━━━━━━━━━━</span> <span style=\"color: #008000; text-decoration-color: #008000\">478,976/1,000,000 </span> [ <span style=\"color: #808000; text-decoration-color: #808000\">0:01:57</span> &lt; <span style=\"color: #008080; text-decoration-color: #008080\">0:02:21</span> , <span style=\"color: #800000; text-decoration-color: #800000\">3,716 it/s</span> ]</pre>\n"
      ],
      "text/plain": [
       "\r",
       "\u001b[2KEval num_timesteps=480000, episode_reward=-44.27 +/- 67.36\n",
       "\u001b[35m  48%\u001b[0m \u001b[38;2;249;38;114m━━━━━━━━━━━━━━━━━━━━━━━━━━\u001b[0m\u001b[38;5;237m╺\u001b[0m\u001b[38;5;237m━━━━━━━━━━━━━━━━━━━━━━━━━━━━\u001b[0m \u001b[32m478,976/1,000,000 \u001b[0m [ \u001b[33m0:01:57\u001b[0m < \u001b[36m0:02:21\u001b[0m , \u001b[31m3,716 it/s\u001b[0m ]"
      ]
     },
     "metadata": {},
     "output_type": "display_data"
    },
    {
     "data": {
      "text/html": [
       "<pre style=\"white-space:pre;overflow-x:auto;line-height:normal;font-family:Menlo,'DejaVu Sans Mono',consolas,'Courier New',monospace\">\r",
       "\u001b[2KEpisode length: 920.00 +/- 137.51\n",
       "<span style=\"color: #800080; text-decoration-color: #800080\">  48%</span> <span style=\"color: #f92672; text-decoration-color: #f92672\">━━━━━━━━━━━━━━━━━━━━━━━━━━</span><span style=\"color: #3a3a3a; text-decoration-color: #3a3a3a\">╺━━━━━━━━━━━━━━━━━━━━━━━━━━━━</span> <span style=\"color: #008000; text-decoration-color: #008000\">478,976/1,000,000 </span> [ <span style=\"color: #808000; text-decoration-color: #808000\">0:01:57</span> &lt; <span style=\"color: #008080; text-decoration-color: #008080\">0:02:21</span> , <span style=\"color: #800000; text-decoration-color: #800000\">3,716 it/s</span> ]</pre>\n"
      ],
      "text/plain": [
       "\r",
       "\u001b[2KEpisode length: 920.00 +/- 137.51\n",
       "\u001b[35m  48%\u001b[0m \u001b[38;2;249;38;114m━━━━━━━━━━━━━━━━━━━━━━━━━━\u001b[0m\u001b[38;5;237m╺\u001b[0m\u001b[38;5;237m━━━━━━━━━━━━━━━━━━━━━━━━━━━━\u001b[0m \u001b[32m478,976/1,000,000 \u001b[0m [ \u001b[33m0:01:57\u001b[0m < \u001b[36m0:02:21\u001b[0m , \u001b[31m3,716 it/s\u001b[0m ]"
      ]
     },
     "metadata": {},
     "output_type": "display_data"
    },
    {
     "name": "stdout",
     "output_type": "stream",
     "text": [
      "------------------------------------------\n",
      "| eval/                   |              |\n",
      "|    mean_ep_length       | 920          |\n",
      "|    mean_reward          | -44.3        |\n",
      "| time/                   |              |\n",
      "|    total_timesteps      | 480000       |\n",
      "| train/                  |              |\n",
      "|    approx_kl            | 0.0063842954 |\n",
      "|    clip_fraction        | 0.0548       |\n",
      "|    clip_range           | 0.2          |\n",
      "|    entropy_loss         | -1.8         |\n",
      "|    explained_variance   | 0.484        |\n",
      "|    learning_rate        | 7.77e-05     |\n",
      "|    loss                 | 13.6         |\n",
      "|    n_updates            | 580          |\n",
      "|    policy_gradient_loss | -0.00179     |\n",
      "|    std                  | 0.778        |\n",
      "|    value_loss           | 31.6         |\n",
      "------------------------------------------\n",
      "---------------------------------\n",
      "| rollout/           |          |\n",
      "|    ep_len_mean     | 615      |\n",
      "|    ep_rew_mean     | 37.9     |\n",
      "| time/              |          |\n",
      "|    fps             | 4109     |\n",
      "|    iterations      | 59       |\n",
      "|    time_elapsed    | 117      |\n",
      "|    total_timesteps | 483328   |\n",
      "---------------------------------\n",
      "-----------------------------------------\n",
      "| rollout/                |             |\n",
      "|    ep_len_mean          | 622         |\n",
      "|    ep_rew_mean          | 37.6        |\n",
      "| time/                   |             |\n",
      "|    fps                  | 4115        |\n",
      "|    iterations           | 60          |\n",
      "|    time_elapsed         | 119         |\n",
      "|    total_timesteps      | 491520      |\n",
      "| train/                  |             |\n",
      "|    approx_kl            | 0.006449828 |\n",
      "|    clip_fraction        | 0.0428      |\n",
      "|    clip_range           | 0.2         |\n",
      "|    entropy_loss         | -1.67       |\n",
      "|    explained_variance   | 0.514       |\n",
      "|    learning_rate        | 7.77e-05    |\n",
      "|    loss                 | 20          |\n",
      "|    n_updates            | 590         |\n",
      "|    policy_gradient_loss | -0.00217    |\n",
      "|    std                  | 0.78        |\n",
      "|    value_loss           | 48.7        |\n",
      "-----------------------------------------\n"
     ]
    },
    {
     "data": {
      "text/html": [
       "<pre style=\"white-space:pre;overflow-x:auto;line-height:normal;font-family:Menlo,'DejaVu Sans Mono',consolas,'Courier New',monospace\">\r",
       "\u001b[2KEval num_timesteps=496000, episode_reward=-31.03 +/- 70.36\n",
       "<span style=\"color: #800080; text-decoration-color: #800080\">  50%</span> <span style=\"color: #f92672; text-decoration-color: #f92672\">━━━━━━━━━━━━━━━━━━━━━━━━━━━</span><span style=\"color: #3a3a3a; text-decoration-color: #3a3a3a\">╺━━━━━━━━━━━━━━━━━━━━━━━━━━━</span> <span style=\"color: #008000; text-decoration-color: #008000\">495,648/1,000,000 </span> [ <span style=\"color: #808000; text-decoration-color: #808000\">0:02:01</span> &lt; <span style=\"color: #008080; text-decoration-color: #008080\">0:02:09</span> , <span style=\"color: #800000; text-decoration-color: #800000\">3,925 it/s</span> ]</pre>\n"
      ],
      "text/plain": [
       "\r",
       "\u001b[2KEval num_timesteps=496000, episode_reward=-31.03 +/- 70.36\n",
       "\u001b[35m  50%\u001b[0m \u001b[38;2;249;38;114m━━━━━━━━━━━━━━━━━━━━━━━━━━━\u001b[0m\u001b[38;5;237m╺\u001b[0m\u001b[38;5;237m━━━━━━━━━━━━━━━━━━━━━━━━━━━\u001b[0m \u001b[32m495,648/1,000,000 \u001b[0m [ \u001b[33m0:02:01\u001b[0m < \u001b[36m0:02:09\u001b[0m , \u001b[31m3,925 it/s\u001b[0m ]"
      ]
     },
     "metadata": {},
     "output_type": "display_data"
    },
    {
     "data": {
      "text/html": [
       "<pre style=\"white-space:pre;overflow-x:auto;line-height:normal;font-family:Menlo,'DejaVu Sans Mono',consolas,'Courier New',monospace\">\r",
       "\u001b[2KEpisode length: 843.40 +/- 191.93\n",
       "<span style=\"color: #800080; text-decoration-color: #800080\">  50%</span> <span style=\"color: #f92672; text-decoration-color: #f92672\">━━━━━━━━━━━━━━━━━━━━━━━━━━━</span><span style=\"color: #3a3a3a; text-decoration-color: #3a3a3a\">╺━━━━━━━━━━━━━━━━━━━━━━━━━━━</span> <span style=\"color: #008000; text-decoration-color: #008000\">495,648/1,000,000 </span> [ <span style=\"color: #808000; text-decoration-color: #808000\">0:02:01</span> &lt; <span style=\"color: #008080; text-decoration-color: #008080\">0:02:09</span> , <span style=\"color: #800000; text-decoration-color: #800000\">3,925 it/s</span> ]</pre>\n"
      ],
      "text/plain": [
       "\r",
       "\u001b[2KEpisode length: 843.40 +/- 191.93\n",
       "\u001b[35m  50%\u001b[0m \u001b[38;2;249;38;114m━━━━━━━━━━━━━━━━━━━━━━━━━━━\u001b[0m\u001b[38;5;237m╺\u001b[0m\u001b[38;5;237m━━━━━━━━━━━━━━━━━━━━━━━━━━━\u001b[0m \u001b[32m495,648/1,000,000 \u001b[0m [ \u001b[33m0:02:01\u001b[0m < \u001b[36m0:02:09\u001b[0m , \u001b[31m3,925 it/s\u001b[0m ]"
      ]
     },
     "metadata": {},
     "output_type": "display_data"
    },
    {
     "name": "stdout",
     "output_type": "stream",
     "text": [
      "-----------------------------------------\n",
      "| eval/                   |             |\n",
      "|    mean_ep_length       | 843         |\n",
      "|    mean_reward          | -31         |\n",
      "| time/                   |             |\n",
      "|    total_timesteps      | 496000      |\n",
      "| train/                  |             |\n",
      "|    approx_kl            | 0.014894924 |\n",
      "|    clip_fraction        | 0.0956      |\n",
      "|    clip_range           | 0.2         |\n",
      "|    entropy_loss         | -1.6        |\n",
      "|    explained_variance   | 0.569       |\n",
      "|    learning_rate        | 7.77e-05    |\n",
      "|    loss                 | 11.8        |\n",
      "|    n_updates            | 600         |\n",
      "|    policy_gradient_loss | -0.00718    |\n",
      "|    std                  | 0.772       |\n",
      "|    value_loss           | 16.1        |\n",
      "-----------------------------------------\n",
      "---------------------------------\n",
      "| rollout/           |          |\n",
      "|    ep_len_mean     | 619      |\n",
      "|    ep_rew_mean     | 38.2     |\n",
      "| time/              |          |\n",
      "|    fps             | 4085     |\n",
      "|    iterations      | 61       |\n",
      "|    time_elapsed    | 122      |\n",
      "|    total_timesteps | 499712   |\n",
      "---------------------------------\n",
      "------------------------------------------\n",
      "| rollout/                |              |\n",
      "|    ep_len_mean          | 626          |\n",
      "|    ep_rew_mean          | 38.2         |\n",
      "| time/                   |              |\n",
      "|    fps                  | 4072         |\n",
      "|    iterations           | 62           |\n",
      "|    time_elapsed         | 124          |\n",
      "|    total_timesteps      | 507904       |\n",
      "| train/                  |              |\n",
      "|    approx_kl            | 0.0025122017 |\n",
      "|    clip_fraction        | 0.00378      |\n",
      "|    clip_range           | 0.2          |\n",
      "|    entropy_loss         | -1.58        |\n",
      "|    explained_variance   | 0.554        |\n",
      "|    learning_rate        | 7.77e-05     |\n",
      "|    loss                 | 13.9         |\n",
      "|    n_updates            | 610          |\n",
      "|    policy_gradient_loss | -0.00192     |\n",
      "|    std                  | 0.77         |\n",
      "|    value_loss           | 36.9         |\n",
      "------------------------------------------\n"
     ]
    },
    {
     "data": {
      "text/html": [
       "<pre style=\"white-space:pre;overflow-x:auto;line-height:normal;font-family:Menlo,'DejaVu Sans Mono',consolas,'Courier New',monospace\">\r",
       "\u001b[2KEval num_timesteps=512000, episode_reward=-18.08 +/- 55.50\n",
       "<span style=\"color: #800080; text-decoration-color: #800080\">  51%</span> <span style=\"color: #f92672; text-decoration-color: #f92672\">━━━━━━━━━━━━━━━━━━━━━━━━━━━━</span><span style=\"color: #3a3a3a; text-decoration-color: #3a3a3a\">╺━━━━━━━━━━━━━━━━━━━━━━━━━━</span> <span style=\"color: #008000; text-decoration-color: #008000\">510,208/1,000,000 </span> [ <span style=\"color: #808000; text-decoration-color: #808000\">0:02:06</span> &lt; <span style=\"color: #008080; text-decoration-color: #008080\">0:02:10</span> , <span style=\"color: #800000; text-decoration-color: #800000\">3,779 it/s</span> ]</pre>\n"
      ],
      "text/plain": [
       "\r",
       "\u001b[2KEval num_timesteps=512000, episode_reward=-18.08 +/- 55.50\n",
       "\u001b[35m  51%\u001b[0m \u001b[38;2;249;38;114m━━━━━━━━━━━━━━━━━━━━━━━━━━━━\u001b[0m\u001b[38;5;237m╺\u001b[0m\u001b[38;5;237m━━━━━━━━━━━━━━━━━━━━━━━━━━\u001b[0m \u001b[32m510,208/1,000,000 \u001b[0m [ \u001b[33m0:02:06\u001b[0m < \u001b[36m0:02:10\u001b[0m , \u001b[31m3,779 it/s\u001b[0m ]"
      ]
     },
     "metadata": {},
     "output_type": "display_data"
    },
    {
     "data": {
      "text/html": [
       "<pre style=\"white-space:pre;overflow-x:auto;line-height:normal;font-family:Menlo,'DejaVu Sans Mono',consolas,'Courier New',monospace\">\r",
       "\u001b[2KEpisode length: 967.20 +/- 38.54\n",
       "<span style=\"color: #800080; text-decoration-color: #800080\">  51%</span> <span style=\"color: #f92672; text-decoration-color: #f92672\">━━━━━━━━━━━━━━━━━━━━━━━━━━━━</span><span style=\"color: #3a3a3a; text-decoration-color: #3a3a3a\">╺━━━━━━━━━━━━━━━━━━━━━━━━━━</span> <span style=\"color: #008000; text-decoration-color: #008000\">510,208/1,000,000 </span> [ <span style=\"color: #808000; text-decoration-color: #808000\">0:02:06</span> &lt; <span style=\"color: #008080; text-decoration-color: #008080\">0:02:10</span> , <span style=\"color: #800000; text-decoration-color: #800000\">3,779 it/s</span> ]</pre>\n"
      ],
      "text/plain": [
       "\r",
       "\u001b[2KEpisode length: 967.20 +/- 38.54\n",
       "\u001b[35m  51%\u001b[0m \u001b[38;2;249;38;114m━━━━━━━━━━━━━━━━━━━━━━━━━━━━\u001b[0m\u001b[38;5;237m╺\u001b[0m\u001b[38;5;237m━━━━━━━━━━━━━━━━━━━━━━━━━━\u001b[0m \u001b[32m510,208/1,000,000 \u001b[0m [ \u001b[33m0:02:06\u001b[0m < \u001b[36m0:02:10\u001b[0m , \u001b[31m3,779 it/s\u001b[0m ]"
      ]
     },
     "metadata": {},
     "output_type": "display_data"
    },
    {
     "name": "stdout",
     "output_type": "stream",
     "text": [
      "-----------------------------------------\n",
      "| eval/                   |             |\n",
      "|    mean_ep_length       | 967         |\n",
      "|    mean_reward          | -18.1       |\n",
      "| time/                   |             |\n",
      "|    total_timesteps      | 512000      |\n",
      "| train/                  |             |\n",
      "|    approx_kl            | 0.026759569 |\n",
      "|    clip_fraction        | 0.0885      |\n",
      "|    clip_range           | 0.2         |\n",
      "|    entropy_loss         | -1.64       |\n",
      "|    explained_variance   | 0.568       |\n",
      "|    learning_rate        | 7.77e-05    |\n",
      "|    loss                 | 37.1        |\n",
      "|    n_updates            | 620         |\n",
      "|    policy_gradient_loss | -0.00738    |\n",
      "|    std                  | 0.765       |\n",
      "|    value_loss           | 49.9        |\n",
      "-----------------------------------------\n",
      "---------------------------------\n",
      "| rollout/           |          |\n",
      "|    ep_len_mean     | 624      |\n",
      "|    ep_rew_mean     | 37.4     |\n",
      "| time/              |          |\n",
      "|    fps             | 4058     |\n",
      "|    iterations      | 63       |\n",
      "|    time_elapsed    | 127      |\n",
      "|    total_timesteps | 516096   |\n",
      "---------------------------------\n",
      "-----------------------------------------\n",
      "| rollout/                |             |\n",
      "|    ep_len_mean          | 616         |\n",
      "|    ep_rew_mean          | 38.1        |\n",
      "| time/                   |             |\n",
      "|    fps                  | 4083        |\n",
      "|    iterations           | 64          |\n",
      "|    time_elapsed         | 128         |\n",
      "|    total_timesteps      | 524288      |\n",
      "| train/                  |             |\n",
      "|    approx_kl            | 0.012920584 |\n",
      "|    clip_fraction        | 0.101       |\n",
      "|    clip_range           | 0.2         |\n",
      "|    entropy_loss         | -1.7        |\n",
      "|    explained_variance   | 0.58        |\n",
      "|    learning_rate        | 7.77e-05    |\n",
      "|    loss                 | 11.9        |\n",
      "|    n_updates            | 630         |\n",
      "|    policy_gradient_loss | -0.00148    |\n",
      "|    std                  | 0.754       |\n",
      "|    value_loss           | 42.9        |\n",
      "-----------------------------------------\n"
     ]
    },
    {
     "data": {
      "text/html": [
       "<pre style=\"white-space:pre;overflow-x:auto;line-height:normal;font-family:Menlo,'DejaVu Sans Mono',consolas,'Courier New',monospace\">\r",
       "\u001b[2KEval num_timesteps=528000, episode_reward=-68.01 +/- 61.58\n",
       "<span style=\"color: #800080; text-decoration-color: #800080\">  53%</span> <span style=\"color: #f92672; text-decoration-color: #f92672\">━━━━━━━━━━━━━━━━━━━━━━━━━━━━╸</span><span style=\"color: #3a3a3a; text-decoration-color: #3a3a3a\">━━━━━━━━━━━━━━━━━━━━━━━━━━</span> <span style=\"color: #008000; text-decoration-color: #008000\">527,232/1,000,000 </span> [ <span style=\"color: #808000; text-decoration-color: #808000\">0:02:10</span> &lt; <span style=\"color: #008080; text-decoration-color: #008080\">0:02:00</span> , <span style=\"color: #800000; text-decoration-color: #800000\">3,955 it/s</span> ]</pre>\n"
      ],
      "text/plain": [
       "\r",
       "\u001b[2KEval num_timesteps=528000, episode_reward=-68.01 +/- 61.58\n",
       "\u001b[35m  53%\u001b[0m \u001b[38;2;249;38;114m━━━━━━━━━━━━━━━━━━━━━━━━━━━━\u001b[0m\u001b[38;2;249;38;114m╸\u001b[0m\u001b[38;5;237m━━━━━━━━━━━━━━━━━━━━━━━━━━\u001b[0m \u001b[32m527,232/1,000,000 \u001b[0m [ \u001b[33m0:02:10\u001b[0m < \u001b[36m0:02:00\u001b[0m , \u001b[31m3,955 it/s\u001b[0m ]"
      ]
     },
     "metadata": {},
     "output_type": "display_data"
    },
    {
     "data": {
      "text/html": [
       "<pre style=\"white-space:pre;overflow-x:auto;line-height:normal;font-family:Menlo,'DejaVu Sans Mono',consolas,'Courier New',monospace\">\r",
       "\u001b[2KEpisode length: 917.60 +/- 162.80\n",
       "<span style=\"color: #800080; text-decoration-color: #800080\">  53%</span> <span style=\"color: #f92672; text-decoration-color: #f92672\">━━━━━━━━━━━━━━━━━━━━━━━━━━━━╸</span><span style=\"color: #3a3a3a; text-decoration-color: #3a3a3a\">━━━━━━━━━━━━━━━━━━━━━━━━━━</span> <span style=\"color: #008000; text-decoration-color: #008000\">527,232/1,000,000 </span> [ <span style=\"color: #808000; text-decoration-color: #808000\">0:02:10</span> &lt; <span style=\"color: #008080; text-decoration-color: #008080\">0:02:00</span> , <span style=\"color: #800000; text-decoration-color: #800000\">3,955 it/s</span> ]</pre>\n"
      ],
      "text/plain": [
       "\r",
       "\u001b[2KEpisode length: 917.60 +/- 162.80\n",
       "\u001b[35m  53%\u001b[0m \u001b[38;2;249;38;114m━━━━━━━━━━━━━━━━━━━━━━━━━━━━\u001b[0m\u001b[38;2;249;38;114m╸\u001b[0m\u001b[38;5;237m━━━━━━━━━━━━━━━━━━━━━━━━━━\u001b[0m \u001b[32m527,232/1,000,000 \u001b[0m [ \u001b[33m0:02:10\u001b[0m < \u001b[36m0:02:00\u001b[0m , \u001b[31m3,955 it/s\u001b[0m ]"
      ]
     },
     "metadata": {},
     "output_type": "display_data"
    },
    {
     "name": "stdout",
     "output_type": "stream",
     "text": [
      "------------------------------------------\n",
      "| eval/                   |              |\n",
      "|    mean_ep_length       | 918          |\n",
      "|    mean_reward          | -68          |\n",
      "| time/                   |              |\n",
      "|    total_timesteps      | 528000       |\n",
      "| train/                  |              |\n",
      "|    approx_kl            | 0.0038624732 |\n",
      "|    clip_fraction        | 0.0479       |\n",
      "|    clip_range           | 0.2          |\n",
      "|    entropy_loss         | -1.7         |\n",
      "|    explained_variance   | 0.595        |\n",
      "|    learning_rate        | 7.77e-05     |\n",
      "|    loss                 | 20.1         |\n",
      "|    n_updates            | 640          |\n",
      "|    policy_gradient_loss | -0.00141     |\n",
      "|    std                  | 0.749        |\n",
      "|    value_loss           | 36.5         |\n",
      "------------------------------------------\n",
      "---------------------------------\n",
      "| rollout/           |          |\n",
      "|    ep_len_mean     | 597      |\n",
      "|    ep_rew_mean     | 41.6     |\n",
      "| time/              |          |\n",
      "|    fps             | 4066     |\n",
      "|    iterations      | 65       |\n",
      "|    time_elapsed    | 130      |\n",
      "|    total_timesteps | 532480   |\n",
      "---------------------------------\n",
      "-----------------------------------------\n",
      "| rollout/                |             |\n",
      "|    ep_len_mean          | 588         |\n",
      "|    ep_rew_mean          | 42.3        |\n",
      "| time/                   |             |\n",
      "|    fps                  | 4087        |\n",
      "|    iterations           | 66          |\n",
      "|    time_elapsed         | 132         |\n",
      "|    total_timesteps      | 540672      |\n",
      "| train/                  |             |\n",
      "|    approx_kl            | 0.005946243 |\n",
      "|    clip_fraction        | 0.0426      |\n",
      "|    clip_range           | 0.2         |\n",
      "|    entropy_loss         | -1.69       |\n",
      "|    explained_variance   | 0.612       |\n",
      "|    learning_rate        | 7.77e-05    |\n",
      "|    loss                 | 26.6        |\n",
      "|    n_updates            | 650         |\n",
      "|    policy_gradient_loss | -0.0024     |\n",
      "|    std                  | 0.749       |\n",
      "|    value_loss           | 56.8        |\n",
      "-----------------------------------------\n"
     ]
    },
    {
     "data": {
      "text/html": [
       "<pre style=\"white-space:pre;overflow-x:auto;line-height:normal;font-family:Menlo,'DejaVu Sans Mono',consolas,'Courier New',monospace\">\r",
       "\u001b[2KEval num_timesteps=544000, episode_reward=-68.70 +/- 58.11\n",
       "<span style=\"color: #800080; text-decoration-color: #800080\">  54%</span> <span style=\"color: #f92672; text-decoration-color: #f92672\">━━━━━━━━━━━━━━━━━━━━━━━━━━━━━╸</span><span style=\"color: #3a3a3a; text-decoration-color: #3a3a3a\">━━━━━━━━━━━━━━━━━━━━━━━━━</span> <span style=\"color: #008000; text-decoration-color: #008000\">543,680/1,000,000 </span> [ <span style=\"color: #808000; text-decoration-color: #808000\">0:02:14</span> &lt; <span style=\"color: #008080; text-decoration-color: #008080\">0:01:55</span> , <span style=\"color: #800000; text-decoration-color: #800000\">3,982 it/s</span> ]</pre>\n"
      ],
      "text/plain": [
       "\r",
       "\u001b[2KEval num_timesteps=544000, episode_reward=-68.70 +/- 58.11\n",
       "\u001b[35m  54%\u001b[0m \u001b[38;2;249;38;114m━━━━━━━━━━━━━━━━━━━━━━━━━━━━━\u001b[0m\u001b[38;2;249;38;114m╸\u001b[0m\u001b[38;5;237m━━━━━━━━━━━━━━━━━━━━━━━━━\u001b[0m \u001b[32m543,680/1,000,000 \u001b[0m [ \u001b[33m0:02:14\u001b[0m < \u001b[36m0:01:55\u001b[0m , \u001b[31m3,982 it/s\u001b[0m ]"
      ]
     },
     "metadata": {},
     "output_type": "display_data"
    },
    {
     "data": {
      "text/html": [
       "<pre style=\"white-space:pre;overflow-x:auto;line-height:normal;font-family:Menlo,'DejaVu Sans Mono',consolas,'Courier New',monospace\">\r",
       "\u001b[2KEpisode length: 935.00 +/- 128.00\n",
       "<span style=\"color: #800080; text-decoration-color: #800080\">  54%</span> <span style=\"color: #f92672; text-decoration-color: #f92672\">━━━━━━━━━━━━━━━━━━━━━━━━━━━━━╸</span><span style=\"color: #3a3a3a; text-decoration-color: #3a3a3a\">━━━━━━━━━━━━━━━━━━━━━━━━━</span> <span style=\"color: #008000; text-decoration-color: #008000\">543,680/1,000,000 </span> [ <span style=\"color: #808000; text-decoration-color: #808000\">0:02:14</span> &lt; <span style=\"color: #008080; text-decoration-color: #008080\">0:01:55</span> , <span style=\"color: #800000; text-decoration-color: #800000\">3,982 it/s</span> ]</pre>\n"
      ],
      "text/plain": [
       "\r",
       "\u001b[2KEpisode length: 935.00 +/- 128.00\n",
       "\u001b[35m  54%\u001b[0m \u001b[38;2;249;38;114m━━━━━━━━━━━━━━━━━━━━━━━━━━━━━\u001b[0m\u001b[38;2;249;38;114m╸\u001b[0m\u001b[38;5;237m━━━━━━━━━━━━━━━━━━━━━━━━━\u001b[0m \u001b[32m543,680/1,000,000 \u001b[0m [ \u001b[33m0:02:14\u001b[0m < \u001b[36m0:01:55\u001b[0m , \u001b[31m3,982 it/s\u001b[0m ]"
      ]
     },
     "metadata": {},
     "output_type": "display_data"
    },
    {
     "name": "stdout",
     "output_type": "stream",
     "text": [
      "----------------------------------------\n",
      "| eval/                   |            |\n",
      "|    mean_ep_length       | 935        |\n",
      "|    mean_reward          | -68.7      |\n",
      "| time/                   |            |\n",
      "|    total_timesteps      | 544000     |\n",
      "| train/                  |            |\n",
      "|    approx_kl            | 0.01042157 |\n",
      "|    clip_fraction        | 0.101      |\n",
      "|    clip_range           | 0.2        |\n",
      "|    entropy_loss         | -1.77      |\n",
      "|    explained_variance   | 0.59       |\n",
      "|    learning_rate        | 7.77e-05   |\n",
      "|    loss                 | 4.99       |\n",
      "|    n_updates            | 660        |\n",
      "|    policy_gradient_loss | -0.00707   |\n",
      "|    std                  | 0.746      |\n",
      "|    value_loss           | 12.6       |\n",
      "----------------------------------------\n",
      "---------------------------------\n",
      "| rollout/           |          |\n",
      "|    ep_len_mean     | 563      |\n",
      "|    ep_rew_mean     | 50       |\n",
      "| time/              |          |\n",
      "|    fps             | 4079     |\n",
      "|    iterations      | 67       |\n",
      "|    time_elapsed    | 134      |\n",
      "|    total_timesteps | 548864   |\n",
      "---------------------------------\n",
      "------------------------------------------\n",
      "| rollout/                |              |\n",
      "|    ep_len_mean          | 560          |\n",
      "|    ep_rew_mean          | 51.3         |\n",
      "| time/                   |              |\n",
      "|    fps                  | 4105         |\n",
      "|    iterations           | 68           |\n",
      "|    time_elapsed         | 135          |\n",
      "|    total_timesteps      | 557056       |\n",
      "| train/                  |              |\n",
      "|    approx_kl            | 0.0027343747 |\n",
      "|    clip_fraction        | 0.0146       |\n",
      "|    clip_range           | 0.2          |\n",
      "|    entropy_loss         | -1.76        |\n",
      "|    explained_variance   | 0.6          |\n",
      "|    learning_rate        | 7.77e-05     |\n",
      "|    loss                 | 11           |\n",
      "|    n_updates            | 670          |\n",
      "|    policy_gradient_loss | -0.000856    |\n",
      "|    std                  | 0.748        |\n",
      "|    value_loss           | 32.5         |\n",
      "------------------------------------------\n"
     ]
    },
    {
     "data": {
      "text/html": [
       "<pre style=\"white-space:pre;overflow-x:auto;line-height:normal;font-family:Menlo,'DejaVu Sans Mono',consolas,'Courier New',monospace\">\r",
       "\u001b[2KEval num_timesteps=560000, episode_reward=-61.92 +/- 58.71\n",
       "<span style=\"color: #800080; text-decoration-color: #800080\">  56%</span> <span style=\"color: #f92672; text-decoration-color: #f92672\">━━━━━━━━━━━━━━━━━━━━━━━━━━━━━━╸</span><span style=\"color: #3a3a3a; text-decoration-color: #3a3a3a\">━━━━━━━━━━━━━━━━━━━━━━━━</span> <span style=\"color: #008000; text-decoration-color: #008000\">559,904/1,000,000 </span> [ <span style=\"color: #808000; text-decoration-color: #808000\">0:02:17</span> &lt; <span style=\"color: #008080; text-decoration-color: #008080\">0:01:51</span> , <span style=\"color: #800000; text-decoration-color: #800000\">3,981 it/s</span> ]</pre>\n"
      ],
      "text/plain": [
       "\r",
       "\u001b[2KEval num_timesteps=560000, episode_reward=-61.92 +/- 58.71\n",
       "\u001b[35m  56%\u001b[0m \u001b[38;2;249;38;114m━━━━━━━━━━━━━━━━━━━━━━━━━━━━━━\u001b[0m\u001b[38;2;249;38;114m╸\u001b[0m\u001b[38;5;237m━━━━━━━━━━━━━━━━━━━━━━━━\u001b[0m \u001b[32m559,904/1,000,000 \u001b[0m [ \u001b[33m0:02:17\u001b[0m < \u001b[36m0:01:51\u001b[0m , \u001b[31m3,981 it/s\u001b[0m ]"
      ]
     },
     "metadata": {},
     "output_type": "display_data"
    },
    {
     "data": {
      "text/html": [
       "<pre style=\"white-space:pre;overflow-x:auto;line-height:normal;font-family:Menlo,'DejaVu Sans Mono',consolas,'Courier New',monospace\">\r",
       "\u001b[2KEpisode length: 919.60 +/- 158.80\n",
       "<span style=\"color: #800080; text-decoration-color: #800080\">  56%</span> <span style=\"color: #f92672; text-decoration-color: #f92672\">━━━━━━━━━━━━━━━━━━━━━━━━━━━━━━╸</span><span style=\"color: #3a3a3a; text-decoration-color: #3a3a3a\">━━━━━━━━━━━━━━━━━━━━━━━━</span> <span style=\"color: #008000; text-decoration-color: #008000\">559,904/1,000,000 </span> [ <span style=\"color: #808000; text-decoration-color: #808000\">0:02:17</span> &lt; <span style=\"color: #008080; text-decoration-color: #008080\">0:01:51</span> , <span style=\"color: #800000; text-decoration-color: #800000\">3,981 it/s</span> ]</pre>\n"
      ],
      "text/plain": [
       "\r",
       "\u001b[2KEpisode length: 919.60 +/- 158.80\n",
       "\u001b[35m  56%\u001b[0m \u001b[38;2;249;38;114m━━━━━━━━━━━━━━━━━━━━━━━━━━━━━━\u001b[0m\u001b[38;2;249;38;114m╸\u001b[0m\u001b[38;5;237m━━━━━━━━━━━━━━━━━━━━━━━━\u001b[0m \u001b[32m559,904/1,000,000 \u001b[0m [ \u001b[33m0:02:17\u001b[0m < \u001b[36m0:01:51\u001b[0m , \u001b[31m3,981 it/s\u001b[0m ]"
      ]
     },
     "metadata": {},
     "output_type": "display_data"
    },
    {
     "name": "stdout",
     "output_type": "stream",
     "text": [
      "-----------------------------------------\n",
      "| eval/                   |             |\n",
      "|    mean_ep_length       | 920         |\n",
      "|    mean_reward          | -61.9       |\n",
      "| time/                   |             |\n",
      "|    total_timesteps      | 560000      |\n",
      "| train/                  |             |\n",
      "|    approx_kl            | 0.030938946 |\n",
      "|    clip_fraction        | 0.191       |\n",
      "|    clip_range           | 0.2         |\n",
      "|    entropy_loss         | -1.72       |\n",
      "|    explained_variance   | 0.619       |\n",
      "|    learning_rate        | 7.77e-05    |\n",
      "|    loss                 | 7.95        |\n",
      "|    n_updates            | 680         |\n",
      "|    policy_gradient_loss | -0.00865    |\n",
      "|    std                  | 0.757       |\n",
      "|    value_loss           | 8.8         |\n",
      "-----------------------------------------\n",
      "---------------------------------\n",
      "| rollout/           |          |\n",
      "|    ep_len_mean     | 560      |\n",
      "|    ep_rew_mean     | 51.3     |\n",
      "| time/              |          |\n",
      "|    fps             | 4098     |\n",
      "|    iterations      | 69       |\n",
      "|    time_elapsed    | 137      |\n",
      "|    total_timesteps | 565248   |\n",
      "---------------------------------\n",
      "-----------------------------------------\n",
      "| rollout/                |             |\n",
      "|    ep_len_mean          | 544         |\n",
      "|    ep_rew_mean          | 55.5        |\n",
      "| time/                   |             |\n",
      "|    fps                  | 4124        |\n",
      "|    iterations           | 70          |\n",
      "|    time_elapsed         | 139         |\n",
      "|    total_timesteps      | 573440      |\n",
      "| train/                  |             |\n",
      "|    approx_kl            | 0.013078371 |\n",
      "|    clip_fraction        | 0.0682      |\n",
      "|    clip_range           | 0.2         |\n",
      "|    entropy_loss         | -1.72       |\n",
      "|    explained_variance   | 0.335       |\n",
      "|    learning_rate        | 7.77e-05    |\n",
      "|    loss                 | 0.792       |\n",
      "|    n_updates            | 690         |\n",
      "|    policy_gradient_loss | -0.00478    |\n",
      "|    std                  | 0.769       |\n",
      "|    value_loss           | 3.21        |\n",
      "-----------------------------------------\n"
     ]
    },
    {
     "data": {
      "text/html": [
       "<pre style=\"white-space:pre;overflow-x:auto;line-height:normal;font-family:Menlo,'DejaVu Sans Mono',consolas,'Courier New',monospace\">\r",
       "\u001b[2KEval num_timesteps=576000, episode_reward=15.29 +/- 58.19\n",
       "<span style=\"color: #800080; text-decoration-color: #800080\">  57%</span> <span style=\"color: #f92672; text-decoration-color: #f92672\">━━━━━━━━━━━━━━━━━━━━━━━━━━━━━━━╸</span><span style=\"color: #3a3a3a; text-decoration-color: #3a3a3a\">━━━━━━━━━━━━━━━━━━━━━━━</span> <span style=\"color: #008000; text-decoration-color: #008000\">573,984/1,000,000 </span> [ <span style=\"color: #808000; text-decoration-color: #808000\">0:02:20</span> &lt; <span style=\"color: #008080; text-decoration-color: #008080\">0:01:47</span> , <span style=\"color: #800000; text-decoration-color: #800000\">3,987 it/s</span> ]</pre>\n"
      ],
      "text/plain": [
       "\r",
       "\u001b[2KEval num_timesteps=576000, episode_reward=15.29 +/- 58.19\n",
       "\u001b[35m  57%\u001b[0m \u001b[38;2;249;38;114m━━━━━━━━━━━━━━━━━━━━━━━━━━━━━━━\u001b[0m\u001b[38;2;249;38;114m╸\u001b[0m\u001b[38;5;237m━━━━━━━━━━━━━━━━━━━━━━━\u001b[0m \u001b[32m573,984/1,000,000 \u001b[0m [ \u001b[33m0:02:20\u001b[0m < \u001b[36m0:01:47\u001b[0m , \u001b[31m3,987 it/s\u001b[0m ]"
      ]
     },
     "metadata": {},
     "output_type": "display_data"
    },
    {
     "data": {
      "text/html": [
       "<pre style=\"white-space:pre;overflow-x:auto;line-height:normal;font-family:Menlo,'DejaVu Sans Mono',consolas,'Courier New',monospace\">\r",
       "\u001b[2KEpisode length: 792.80 +/- 138.73\n",
       "<span style=\"color: #800080; text-decoration-color: #800080\">  57%</span> <span style=\"color: #f92672; text-decoration-color: #f92672\">━━━━━━━━━━━━━━━━━━━━━━━━━━━━━━━╸</span><span style=\"color: #3a3a3a; text-decoration-color: #3a3a3a\">━━━━━━━━━━━━━━━━━━━━━━━</span> <span style=\"color: #008000; text-decoration-color: #008000\">573,984/1,000,000 </span> [ <span style=\"color: #808000; text-decoration-color: #808000\">0:02:20</span> &lt; <span style=\"color: #008080; text-decoration-color: #008080\">0:01:47</span> , <span style=\"color: #800000; text-decoration-color: #800000\">3,987 it/s</span> ]</pre>\n"
      ],
      "text/plain": [
       "\r",
       "\u001b[2KEpisode length: 792.80 +/- 138.73\n",
       "\u001b[35m  57%\u001b[0m \u001b[38;2;249;38;114m━━━━━━━━━━━━━━━━━━━━━━━━━━━━━━━\u001b[0m\u001b[38;2;249;38;114m╸\u001b[0m\u001b[38;5;237m━━━━━━━━━━━━━━━━━━━━━━━\u001b[0m \u001b[32m573,984/1,000,000 \u001b[0m [ \u001b[33m0:02:20\u001b[0m < \u001b[36m0:01:47\u001b[0m , \u001b[31m3,987 it/s\u001b[0m ]"
      ]
     },
     "metadata": {},
     "output_type": "display_data"
    },
    {
     "name": "stdout",
     "output_type": "stream",
     "text": [
      "------------------------------------------\n",
      "| eval/                   |              |\n",
      "|    mean_ep_length       | 793          |\n",
      "|    mean_reward          | 15.3         |\n",
      "| time/                   |              |\n",
      "|    total_timesteps      | 576000       |\n",
      "| train/                  |              |\n",
      "|    approx_kl            | 0.0029506572 |\n",
      "|    clip_fraction        | 0.0238       |\n",
      "|    clip_range           | 0.2          |\n",
      "|    entropy_loss         | -1.7         |\n",
      "|    explained_variance   | 0.46         |\n",
      "|    learning_rate        | 7.77e-05     |\n",
      "|    loss                 | 14.5         |\n",
      "|    n_updates            | 700          |\n",
      "|    policy_gradient_loss | -4.92e-05    |\n",
      "|    std                  | 0.771        |\n",
      "|    value_loss           | 22.9         |\n",
      "------------------------------------------\n",
      "---------------------------------\n",
      "| rollout/           |          |\n",
      "|    ep_len_mean     | 539      |\n",
      "|    ep_rew_mean     | 57.2     |\n",
      "| time/              |          |\n",
      "|    fps             | 4115     |\n",
      "|    iterations      | 71       |\n",
      "|    time_elapsed    | 141      |\n",
      "|    total_timesteps | 581632   |\n",
      "---------------------------------\n",
      "-----------------------------------------\n",
      "| rollout/                |             |\n",
      "|    ep_len_mean          | 542         |\n",
      "|    ep_rew_mean          | 57.4        |\n",
      "| time/                   |             |\n",
      "|    fps                  | 4126        |\n",
      "|    iterations           | 72          |\n",
      "|    time_elapsed         | 142         |\n",
      "|    total_timesteps      | 589824      |\n",
      "| train/                  |             |\n",
      "|    approx_kl            | 0.022803273 |\n",
      "|    clip_fraction        | 0.14        |\n",
      "|    clip_range           | 0.2         |\n",
      "|    entropy_loss         | -1.54       |\n",
      "|    explained_variance   | 0.566       |\n",
      "|    learning_rate        | 7.77e-05    |\n",
      "|    loss                 | 8.16        |\n",
      "|    n_updates            | 710         |\n",
      "|    policy_gradient_loss | -0.00468    |\n",
      "|    std                  | 0.77        |\n",
      "|    value_loss           | 34.5        |\n",
      "-----------------------------------------\n"
     ]
    },
    {
     "data": {
      "text/html": [
       "<pre style=\"white-space:pre;overflow-x:auto;line-height:normal;font-family:Menlo,'DejaVu Sans Mono',consolas,'Courier New',monospace\">\r",
       "\u001b[2KEval num_timesteps=592000, episode_reward=-36.25 +/- 72.16\n",
       "<span style=\"color: #800080; text-decoration-color: #800080\">  59%</span> <span style=\"color: #f92672; text-decoration-color: #f92672\">━━━━━━━━━━━━━━━━━━━━━━━━━━━━━━━━╸</span><span style=\"color: #3a3a3a; text-decoration-color: #3a3a3a\">━━━━━━━━━━━━━━━━━━━━━━</span> <span style=\"color: #008000; text-decoration-color: #008000\">591,136/1,000,000 </span> [ <span style=\"color: #808000; text-decoration-color: #808000\">0:02:25</span> &lt; <span style=\"color: #008080; text-decoration-color: #008080\">0:01:42</span> , <span style=\"color: #800000; text-decoration-color: #800000\">4,045 it/s</span> ]</pre>\n"
      ],
      "text/plain": [
       "\r",
       "\u001b[2KEval num_timesteps=592000, episode_reward=-36.25 +/- 72.16\n",
       "\u001b[35m  59%\u001b[0m \u001b[38;2;249;38;114m━━━━━━━━━━━━━━━━━━━━━━━━━━━━━━━━\u001b[0m\u001b[38;2;249;38;114m╸\u001b[0m\u001b[38;5;237m━━━━━━━━━━━━━━━━━━━━━━\u001b[0m \u001b[32m591,136/1,000,000 \u001b[0m [ \u001b[33m0:02:25\u001b[0m < \u001b[36m0:01:42\u001b[0m , \u001b[31m4,045 it/s\u001b[0m ]"
      ]
     },
     "metadata": {},
     "output_type": "display_data"
    },
    {
     "data": {
      "text/html": [
       "<pre style=\"white-space:pre;overflow-x:auto;line-height:normal;font-family:Menlo,'DejaVu Sans Mono',consolas,'Courier New',monospace\">\r",
       "\u001b[2KEpisode length: 869.40 +/- 187.23\n",
       "<span style=\"color: #800080; text-decoration-color: #800080\">  59%</span> <span style=\"color: #f92672; text-decoration-color: #f92672\">━━━━━━━━━━━━━━━━━━━━━━━━━━━━━━━━╸</span><span style=\"color: #3a3a3a; text-decoration-color: #3a3a3a\">━━━━━━━━━━━━━━━━━━━━━━</span> <span style=\"color: #008000; text-decoration-color: #008000\">591,136/1,000,000 </span> [ <span style=\"color: #808000; text-decoration-color: #808000\">0:02:25</span> &lt; <span style=\"color: #008080; text-decoration-color: #008080\">0:01:42</span> , <span style=\"color: #800000; text-decoration-color: #800000\">4,045 it/s</span> ]</pre>\n"
      ],
      "text/plain": [
       "\r",
       "\u001b[2KEpisode length: 869.40 +/- 187.23\n",
       "\u001b[35m  59%\u001b[0m \u001b[38;2;249;38;114m━━━━━━━━━━━━━━━━━━━━━━━━━━━━━━━━\u001b[0m\u001b[38;2;249;38;114m╸\u001b[0m\u001b[38;5;237m━━━━━━━━━━━━━━━━━━━━━━\u001b[0m \u001b[32m591,136/1,000,000 \u001b[0m [ \u001b[33m0:02:25\u001b[0m < \u001b[36m0:01:42\u001b[0m , \u001b[31m4,045 it/s\u001b[0m ]"
      ]
     },
     "metadata": {},
     "output_type": "display_data"
    },
    {
     "name": "stdout",
     "output_type": "stream",
     "text": [
      "-----------------------------------------\n",
      "| eval/                   |             |\n",
      "|    mean_ep_length       | 869         |\n",
      "|    mean_reward          | -36.3       |\n",
      "| time/                   |             |\n",
      "|    total_timesteps      | 592000      |\n",
      "| train/                  |             |\n",
      "|    approx_kl            | 0.016204694 |\n",
      "|    clip_fraction        | 0.123       |\n",
      "|    clip_range           | 0.2         |\n",
      "|    entropy_loss         | -1.45       |\n",
      "|    explained_variance   | 0.617       |\n",
      "|    learning_rate        | 7.77e-05    |\n",
      "|    loss                 | 13.6        |\n",
      "|    n_updates            | 720         |\n",
      "|    policy_gradient_loss | -0.00874    |\n",
      "|    std                  | 0.767       |\n",
      "|    value_loss           | 30.1        |\n",
      "-----------------------------------------\n",
      "---------------------------------\n",
      "| rollout/           |          |\n",
      "|    ep_len_mean     | 551      |\n",
      "|    ep_rew_mean     | 56.9     |\n",
      "| time/              |          |\n",
      "|    fps             | 4100     |\n",
      "|    iterations      | 73       |\n",
      "|    time_elapsed    | 145      |\n",
      "|    total_timesteps | 598016   |\n",
      "---------------------------------\n",
      "------------------------------------------\n",
      "| rollout/                |              |\n",
      "|    ep_len_mean          | 551          |\n",
      "|    ep_rew_mean          | 57           |\n",
      "| time/                   |              |\n",
      "|    fps                  | 4119         |\n",
      "|    iterations           | 74           |\n",
      "|    time_elapsed         | 147          |\n",
      "|    total_timesteps      | 606208       |\n",
      "| train/                  |              |\n",
      "|    approx_kl            | 0.0024003657 |\n",
      "|    clip_fraction        | 0.0134       |\n",
      "|    clip_range           | 0.2          |\n",
      "|    entropy_loss         | -1.5         |\n",
      "|    explained_variance   | 0.613        |\n",
      "|    learning_rate        | 7.77e-05     |\n",
      "|    loss                 | 11.9         |\n",
      "|    n_updates            | 730          |\n",
      "|    policy_gradient_loss | -0.000806    |\n",
      "|    std                  | 0.762        |\n",
      "|    value_loss           | 16.9         |\n",
      "------------------------------------------\n"
     ]
    },
    {
     "data": {
      "text/html": [
       "<pre style=\"white-space:pre;overflow-x:auto;line-height:normal;font-family:Menlo,'DejaVu Sans Mono',consolas,'Courier New',monospace\">\r",
       "\u001b[2KEval num_timesteps=608000, episode_reward=-14.84 +/- 68.48\n",
       "<span style=\"color: #800080; text-decoration-color: #800080\">  61%</span> <span style=\"color: #f92672; text-decoration-color: #f92672\">━━━━━━━━━━━━━━━━━━━━━━━━━━━━━━━━━</span><span style=\"color: #3a3a3a; text-decoration-color: #3a3a3a\">╺━━━━━━━━━━━━━━━━━━━━━</span> <span style=\"color: #008000; text-decoration-color: #008000\">606,240/1,000,000 </span> [ <span style=\"color: #808000; text-decoration-color: #808000\">0:02:29</span> &lt; <span style=\"color: #008080; text-decoration-color: #008080\">0:01:33</span> , <span style=\"color: #800000; text-decoration-color: #800000\">4,242 it/s</span> ]</pre>\n"
      ],
      "text/plain": [
       "\r",
       "\u001b[2KEval num_timesteps=608000, episode_reward=-14.84 +/- 68.48\n",
       "\u001b[35m  61%\u001b[0m \u001b[38;2;249;38;114m━━━━━━━━━━━━━━━━━━━━━━━━━━━━━━━━━\u001b[0m\u001b[38;5;237m╺\u001b[0m\u001b[38;5;237m━━━━━━━━━━━━━━━━━━━━━\u001b[0m \u001b[32m606,240/1,000,000 \u001b[0m [ \u001b[33m0:02:29\u001b[0m < \u001b[36m0:01:33\u001b[0m , \u001b[31m4,242 it/s\u001b[0m ]"
      ]
     },
     "metadata": {},
     "output_type": "display_data"
    },
    {
     "data": {
      "text/html": [
       "<pre style=\"white-space:pre;overflow-x:auto;line-height:normal;font-family:Menlo,'DejaVu Sans Mono',consolas,'Courier New',monospace\">\r",
       "\u001b[2KEpisode length: 877.20 +/- 124.53\n",
       "<span style=\"color: #800080; text-decoration-color: #800080\">  61%</span> <span style=\"color: #f92672; text-decoration-color: #f92672\">━━━━━━━━━━━━━━━━━━━━━━━━━━━━━━━━━</span><span style=\"color: #3a3a3a; text-decoration-color: #3a3a3a\">╺━━━━━━━━━━━━━━━━━━━━━</span> <span style=\"color: #008000; text-decoration-color: #008000\">606,240/1,000,000 </span> [ <span style=\"color: #808000; text-decoration-color: #808000\">0:02:29</span> &lt; <span style=\"color: #008080; text-decoration-color: #008080\">0:01:33</span> , <span style=\"color: #800000; text-decoration-color: #800000\">4,242 it/s</span> ]</pre>\n"
      ],
      "text/plain": [
       "\r",
       "\u001b[2KEpisode length: 877.20 +/- 124.53\n",
       "\u001b[35m  61%\u001b[0m \u001b[38;2;249;38;114m━━━━━━━━━━━━━━━━━━━━━━━━━━━━━━━━━\u001b[0m\u001b[38;5;237m╺\u001b[0m\u001b[38;5;237m━━━━━━━━━━━━━━━━━━━━━\u001b[0m \u001b[32m606,240/1,000,000 \u001b[0m [ \u001b[33m0:02:29\u001b[0m < \u001b[36m0:01:33\u001b[0m , \u001b[31m4,242 it/s\u001b[0m ]"
      ]
     },
     "metadata": {},
     "output_type": "display_data"
    },
    {
     "name": "stdout",
     "output_type": "stream",
     "text": [
      "----------------------------------------\n",
      "| eval/                   |            |\n",
      "|    mean_ep_length       | 877        |\n",
      "|    mean_reward          | -14.8      |\n",
      "| time/                   |            |\n",
      "|    total_timesteps      | 608000     |\n",
      "| train/                  |            |\n",
      "|    approx_kl            | 0.03000087 |\n",
      "|    clip_fraction        | 0.0724     |\n",
      "|    clip_range           | 0.2        |\n",
      "|    entropy_loss         | -1.48      |\n",
      "|    explained_variance   | 0.582      |\n",
      "|    learning_rate        | 7.77e-05   |\n",
      "|    loss                 | 12.7       |\n",
      "|    n_updates            | 740        |\n",
      "|    policy_gradient_loss | -0.00963   |\n",
      "|    std                  | 0.762      |\n",
      "|    value_loss           | 29.1       |\n",
      "----------------------------------------\n",
      "---------------------------------\n",
      "| rollout/           |          |\n",
      "|    ep_len_mean     | 553      |\n",
      "|    ep_rew_mean     | 56.9     |\n",
      "| time/              |          |\n",
      "|    fps             | 4112     |\n",
      "|    iterations      | 75       |\n",
      "|    time_elapsed    | 149      |\n",
      "|    total_timesteps | 614400   |\n",
      "---------------------------------\n",
      "-----------------------------------------\n",
      "| rollout/                |             |\n",
      "|    ep_len_mean          | 565         |\n",
      "|    ep_rew_mean          | 56.8        |\n",
      "| time/                   |             |\n",
      "|    fps                  | 4133        |\n",
      "|    iterations           | 76          |\n",
      "|    time_elapsed         | 150         |\n",
      "|    total_timesteps      | 622592      |\n",
      "| train/                  |             |\n",
      "|    approx_kl            | 0.004061988 |\n",
      "|    clip_fraction        | 0.0517      |\n",
      "|    clip_range           | 0.2         |\n",
      "|    entropy_loss         | -1.44       |\n",
      "|    explained_variance   | 0.594       |\n",
      "|    learning_rate        | 7.77e-05    |\n",
      "|    loss                 | 4.79        |\n",
      "|    n_updates            | 750         |\n",
      "|    policy_gradient_loss | -0.00482    |\n",
      "|    std                  | 0.765       |\n",
      "|    value_loss           | 19.7        |\n",
      "-----------------------------------------\n"
     ]
    },
    {
     "data": {
      "text/html": [
       "<pre style=\"white-space:pre;overflow-x:auto;line-height:normal;font-family:Menlo,'DejaVu Sans Mono',consolas,'Courier New',monospace\">\r",
       "\u001b[2KEval num_timesteps=624000, episode_reward=48.74 +/- 15.63\n",
       "<span style=\"color: #800080; text-decoration-color: #800080\">  62%</span> <span style=\"color: #f92672; text-decoration-color: #f92672\">━━━━━━━━━━━━━━━━━━━━━━━━━━━━━━━━━━</span><span style=\"color: #3a3a3a; text-decoration-color: #3a3a3a\">╺━━━━━━━━━━━━━━━━━━━━</span> <span style=\"color: #008000; text-decoration-color: #008000\">622,624/1,000,000 </span> [ <span style=\"color: #808000; text-decoration-color: #808000\">0:02:32</span> &lt; <span style=\"color: #008080; text-decoration-color: #008080\">0:01:29</span> , <span style=\"color: #800000; text-decoration-color: #800000\">4,276 it/s</span> ]</pre>\n"
      ],
      "text/plain": [
       "\r",
       "\u001b[2KEval num_timesteps=624000, episode_reward=48.74 +/- 15.63\n",
       "\u001b[35m  62%\u001b[0m \u001b[38;2;249;38;114m━━━━━━━━━━━━━━━━━━━━━━━━━━━━━━━━━━\u001b[0m\u001b[38;5;237m╺\u001b[0m\u001b[38;5;237m━━━━━━━━━━━━━━━━━━━━\u001b[0m \u001b[32m622,624/1,000,000 \u001b[0m [ \u001b[33m0:02:32\u001b[0m < \u001b[36m0:01:29\u001b[0m , \u001b[31m4,276 it/s\u001b[0m ]"
      ]
     },
     "metadata": {},
     "output_type": "display_data"
    },
    {
     "data": {
      "text/html": [
       "<pre style=\"white-space:pre;overflow-x:auto;line-height:normal;font-family:Menlo,'DejaVu Sans Mono',consolas,'Courier New',monospace\">\r",
       "\u001b[2KEpisode length: 687.40 +/- 180.87\n",
       "<span style=\"color: #800080; text-decoration-color: #800080\">  62%</span> <span style=\"color: #f92672; text-decoration-color: #f92672\">━━━━━━━━━━━━━━━━━━━━━━━━━━━━━━━━━━</span><span style=\"color: #3a3a3a; text-decoration-color: #3a3a3a\">╺━━━━━━━━━━━━━━━━━━━━</span> <span style=\"color: #008000; text-decoration-color: #008000\">622,624/1,000,000 </span> [ <span style=\"color: #808000; text-decoration-color: #808000\">0:02:32</span> &lt; <span style=\"color: #008080; text-decoration-color: #008080\">0:01:29</span> , <span style=\"color: #800000; text-decoration-color: #800000\">4,276 it/s</span> ]</pre>\n"
      ],
      "text/plain": [
       "\r",
       "\u001b[2KEpisode length: 687.40 +/- 180.87\n",
       "\u001b[35m  62%\u001b[0m \u001b[38;2;249;38;114m━━━━━━━━━━━━━━━━━━━━━━━━━━━━━━━━━━\u001b[0m\u001b[38;5;237m╺\u001b[0m\u001b[38;5;237m━━━━━━━━━━━━━━━━━━━━\u001b[0m \u001b[32m622,624/1,000,000 \u001b[0m [ \u001b[33m0:02:32\u001b[0m < \u001b[36m0:01:29\u001b[0m , \u001b[31m4,276 it/s\u001b[0m ]"
      ]
     },
     "metadata": {},
     "output_type": "display_data"
    },
    {
     "name": "stdout",
     "output_type": "stream",
     "text": [
      "------------------------------------------\n",
      "| eval/                   |              |\n",
      "|    mean_ep_length       | 687          |\n",
      "|    mean_reward          | 48.7         |\n",
      "| time/                   |              |\n",
      "|    total_timesteps      | 624000       |\n",
      "| train/                  |              |\n",
      "|    approx_kl            | 0.0008084517 |\n",
      "|    clip_fraction        | 0.00591      |\n",
      "|    clip_range           | 0.2          |\n",
      "|    entropy_loss         | -1.42        |\n",
      "|    explained_variance   | 0.612        |\n",
      "|    learning_rate        | 7.77e-05     |\n",
      "|    loss                 | 43.8         |\n",
      "|    n_updates            | 760          |\n",
      "|    policy_gradient_loss | -0.000327    |\n",
      "|    std                  | 0.763        |\n",
      "|    value_loss           | 73.9         |\n",
      "------------------------------------------\n"
     ]
    },
    {
     "data": {
      "text/html": [
       "<pre style=\"white-space:pre;overflow-x:auto;line-height:normal;font-family:Menlo,'DejaVu Sans Mono',consolas,'Courier New',monospace\">\r",
       "\u001b[2KNew best mean reward!\n",
       "<span style=\"color: #800080; text-decoration-color: #800080\">  62%</span> <span style=\"color: #f92672; text-decoration-color: #f92672\">━━━━━━━━━━━━━━━━━━━━━━━━━━━━━━━━━━</span><span style=\"color: #3a3a3a; text-decoration-color: #3a3a3a\">╺━━━━━━━━━━━━━━━━━━━━</span> <span style=\"color: #008000; text-decoration-color: #008000\">622,624/1,000,000 </span> [ <span style=\"color: #808000; text-decoration-color: #808000\">0:02:32</span> &lt; <span style=\"color: #008080; text-decoration-color: #008080\">0:01:29</span> , <span style=\"color: #800000; text-decoration-color: #800000\">4,276 it/s</span> ]</pre>\n"
      ],
      "text/plain": [
       "\r",
       "\u001b[2KNew best mean reward!\n",
       "\u001b[35m  62%\u001b[0m \u001b[38;2;249;38;114m━━━━━━━━━━━━━━━━━━━━━━━━━━━━━━━━━━\u001b[0m\u001b[38;5;237m╺\u001b[0m\u001b[38;5;237m━━━━━━━━━━━━━━━━━━━━\u001b[0m \u001b[32m622,624/1,000,000 \u001b[0m [ \u001b[33m0:02:32\u001b[0m < \u001b[36m0:01:29\u001b[0m , \u001b[31m4,276 it/s\u001b[0m ]"
      ]
     },
     "metadata": {},
     "output_type": "display_data"
    },
    {
     "name": "stdout",
     "output_type": "stream",
     "text": [
      "---------------------------------\n",
      "| rollout/           |          |\n",
      "|    ep_len_mean     | 597      |\n",
      "|    ep_rew_mean     | 46.9     |\n",
      "| time/              |          |\n",
      "|    fps             | 4126     |\n",
      "|    iterations      | 77       |\n",
      "|    time_elapsed    | 152      |\n",
      "|    total_timesteps | 630784   |\n",
      "---------------------------------\n",
      "-----------------------------------------\n",
      "| rollout/                |             |\n",
      "|    ep_len_mean          | 592         |\n",
      "|    ep_rew_mean          | 47.2        |\n",
      "| time/                   |             |\n",
      "|    fps                  | 4147        |\n",
      "|    iterations           | 78          |\n",
      "|    time_elapsed         | 154         |\n",
      "|    total_timesteps      | 638976      |\n",
      "| train/                  |             |\n",
      "|    approx_kl            | 0.010408881 |\n",
      "|    clip_fraction        | 0.0457      |\n",
      "|    clip_range           | 0.2         |\n",
      "|    entropy_loss         | -1.56       |\n",
      "|    explained_variance   | 0.617       |\n",
      "|    learning_rate        | 7.77e-05    |\n",
      "|    loss                 | 32.3        |\n",
      "|    n_updates            | 770         |\n",
      "|    policy_gradient_loss | -0.00141    |\n",
      "|    std                  | 0.761       |\n",
      "|    value_loss           | 57.1        |\n",
      "-----------------------------------------\n"
     ]
    },
    {
     "data": {
      "text/html": [
       "<pre style=\"white-space:pre;overflow-x:auto;line-height:normal;font-family:Menlo,'DejaVu Sans Mono',consolas,'Courier New',monospace\">\r",
       "\u001b[2KEval num_timesteps=640000, episode_reward=50.52 +/- 16.34\n",
       "<span style=\"color: #800080; text-decoration-color: #800080\">  64%</span> <span style=\"color: #f92672; text-decoration-color: #f92672\">━━━━━━━━━━━━━━━━━━━━━━━━━━━━━━━━━━━</span><span style=\"color: #3a3a3a; text-decoration-color: #3a3a3a\">╺━━━━━━━━━━━━━━━━━━━</span> <span style=\"color: #008000; text-decoration-color: #008000\">638,560/1,000,000 </span> [ <span style=\"color: #808000; text-decoration-color: #808000\">0:02:35</span> &lt; <span style=\"color: #008080; text-decoration-color: #008080\">0:01:19</span> , <span style=\"color: #800000; text-decoration-color: #800000\">4,585 it/s</span> ]</pre>\n"
      ],
      "text/plain": [
       "\r",
       "\u001b[2KEval num_timesteps=640000, episode_reward=50.52 +/- 16.34\n",
       "\u001b[35m  64%\u001b[0m \u001b[38;2;249;38;114m━━━━━━━━━━━━━━━━━━━━━━━━━━━━━━━━━━━\u001b[0m\u001b[38;5;237m╺\u001b[0m\u001b[38;5;237m━━━━━━━━━━━━━━━━━━━\u001b[0m \u001b[32m638,560/1,000,000 \u001b[0m [ \u001b[33m0:02:35\u001b[0m < \u001b[36m0:01:19\u001b[0m , \u001b[31m4,585 it/s\u001b[0m ]"
      ]
     },
     "metadata": {},
     "output_type": "display_data"
    },
    {
     "data": {
      "text/html": [
       "<pre style=\"white-space:pre;overflow-x:auto;line-height:normal;font-family:Menlo,'DejaVu Sans Mono',consolas,'Courier New',monospace\">\r",
       "\u001b[2KEpisode length: 662.80 +/- 178.29\n",
       "<span style=\"color: #800080; text-decoration-color: #800080\">  64%</span> <span style=\"color: #f92672; text-decoration-color: #f92672\">━━━━━━━━━━━━━━━━━━━━━━━━━━━━━━━━━━━</span><span style=\"color: #3a3a3a; text-decoration-color: #3a3a3a\">╺━━━━━━━━━━━━━━━━━━━</span> <span style=\"color: #008000; text-decoration-color: #008000\">638,560/1,000,000 </span> [ <span style=\"color: #808000; text-decoration-color: #808000\">0:02:35</span> &lt; <span style=\"color: #008080; text-decoration-color: #008080\">0:01:19</span> , <span style=\"color: #800000; text-decoration-color: #800000\">4,585 it/s</span> ]</pre>\n"
      ],
      "text/plain": [
       "\r",
       "\u001b[2KEpisode length: 662.80 +/- 178.29\n",
       "\u001b[35m  64%\u001b[0m \u001b[38;2;249;38;114m━━━━━━━━━━━━━━━━━━━━━━━━━━━━━━━━━━━\u001b[0m\u001b[38;5;237m╺\u001b[0m\u001b[38;5;237m━━━━━━━━━━━━━━━━━━━\u001b[0m \u001b[32m638,560/1,000,000 \u001b[0m [ \u001b[33m0:02:35\u001b[0m < \u001b[36m0:01:19\u001b[0m , \u001b[31m4,585 it/s\u001b[0m ]"
      ]
     },
     "metadata": {},
     "output_type": "display_data"
    },
    {
     "name": "stdout",
     "output_type": "stream",
     "text": [
      "------------------------------------------\n",
      "| eval/                   |              |\n",
      "|    mean_ep_length       | 663          |\n",
      "|    mean_reward          | 50.5         |\n",
      "| time/                   |              |\n",
      "|    total_timesteps      | 640000       |\n",
      "| train/                  |              |\n",
      "|    approx_kl            | 0.0073019434 |\n",
      "|    clip_fraction        | 0.0258       |\n",
      "|    clip_range           | 0.2          |\n",
      "|    entropy_loss         | -1.47        |\n",
      "|    explained_variance   | 0.679        |\n",
      "|    learning_rate        | 7.77e-05     |\n",
      "|    loss                 | 16.1         |\n",
      "|    n_updates            | 780          |\n",
      "|    policy_gradient_loss | -0.00249     |\n",
      "|    std                  | 0.76         |\n",
      "|    value_loss           | 30.4         |\n",
      "------------------------------------------\n"
     ]
    },
    {
     "data": {
      "text/html": [
       "<pre style=\"white-space:pre;overflow-x:auto;line-height:normal;font-family:Menlo,'DejaVu Sans Mono',consolas,'Courier New',monospace\">\r",
       "\u001b[2KNew best mean reward!\n",
       "<span style=\"color: #800080; text-decoration-color: #800080\">  64%</span> <span style=\"color: #f92672; text-decoration-color: #f92672\">━━━━━━━━━━━━━━━━━━━━━━━━━━━━━━━━━━━</span><span style=\"color: #3a3a3a; text-decoration-color: #3a3a3a\">╺━━━━━━━━━━━━━━━━━━━</span> <span style=\"color: #008000; text-decoration-color: #008000\">638,560/1,000,000 </span> [ <span style=\"color: #808000; text-decoration-color: #808000\">0:02:35</span> &lt; <span style=\"color: #008080; text-decoration-color: #008080\">0:01:19</span> , <span style=\"color: #800000; text-decoration-color: #800000\">4,585 it/s</span> ]</pre>\n"
      ],
      "text/plain": [
       "\r",
       "\u001b[2KNew best mean reward!\n",
       "\u001b[35m  64%\u001b[0m \u001b[38;2;249;38;114m━━━━━━━━━━━━━━━━━━━━━━━━━━━━━━━━━━━\u001b[0m\u001b[38;5;237m╺\u001b[0m\u001b[38;5;237m━━━━━━━━━━━━━━━━━━━\u001b[0m \u001b[32m638,560/1,000,000 \u001b[0m [ \u001b[33m0:02:35\u001b[0m < \u001b[36m0:01:19\u001b[0m , \u001b[31m4,585 it/s\u001b[0m ]"
      ]
     },
     "metadata": {},
     "output_type": "display_data"
    },
    {
     "name": "stdout",
     "output_type": "stream",
     "text": [
      "---------------------------------\n",
      "| rollout/           |          |\n",
      "|    ep_len_mean     | 615      |\n",
      "|    ep_rew_mean     | 39.7     |\n",
      "| time/              |          |\n",
      "|    fps             | 4143     |\n",
      "|    iterations      | 79       |\n",
      "|    time_elapsed    | 156      |\n",
      "|    total_timesteps | 647168   |\n",
      "---------------------------------\n",
      "----------------------------------------\n",
      "| rollout/                |            |\n",
      "|    ep_len_mean          | 626        |\n",
      "|    ep_rew_mean          | 38.9       |\n",
      "| time/                   |            |\n",
      "|    fps                  | 4166       |\n",
      "|    iterations           | 80         |\n",
      "|    time_elapsed         | 157        |\n",
      "|    total_timesteps      | 655360     |\n",
      "| train/                  |            |\n",
      "|    approx_kl            | 0.01589326 |\n",
      "|    clip_fraction        | 0.0592     |\n",
      "|    clip_range           | 0.2        |\n",
      "|    entropy_loss         | -1.4       |\n",
      "|    explained_variance   | 0.633      |\n",
      "|    learning_rate        | 7.77e-05   |\n",
      "|    loss                 | 22         |\n",
      "|    n_updates            | 790        |\n",
      "|    policy_gradient_loss | -0.00909   |\n",
      "|    std                  | 0.754      |\n",
      "|    value_loss           | 48.2       |\n",
      "----------------------------------------\n"
     ]
    },
    {
     "data": {
      "text/html": [
       "<pre style=\"white-space:pre;overflow-x:auto;line-height:normal;font-family:Menlo,'DejaVu Sans Mono',consolas,'Courier New',monospace\">\r",
       "\u001b[2KEval num_timesteps=656000, episode_reward=27.96 +/- 61.91\n",
       "<span style=\"color: #800080; text-decoration-color: #800080\">  65%</span> <span style=\"color: #f92672; text-decoration-color: #f92672\">━━━━━━━━━━━━━━━━━━━━━━━━━━━━━━━━━━━╸</span><span style=\"color: #3a3a3a; text-decoration-color: #3a3a3a\">━━━━━━━━━━━━━━━━━━━</span> <span style=\"color: #008000; text-decoration-color: #008000\">654,400/1,000,000 </span> [ <span style=\"color: #808000; text-decoration-color: #808000\">0:02:39</span> &lt; <span style=\"color: #008080; text-decoration-color: #008080\">0:01:14</span> , <span style=\"color: #800000; text-decoration-color: #800000\">4,732 it/s</span> ]</pre>\n"
      ],
      "text/plain": [
       "\r",
       "\u001b[2KEval num_timesteps=656000, episode_reward=27.96 +/- 61.91\n",
       "\u001b[35m  65%\u001b[0m \u001b[38;2;249;38;114m━━━━━━━━━━━━━━━━━━━━━━━━━━━━━━━━━━━\u001b[0m\u001b[38;2;249;38;114m╸\u001b[0m\u001b[38;5;237m━━━━━━━━━━━━━━━━━━━\u001b[0m \u001b[32m654,400/1,000,000 \u001b[0m [ \u001b[33m0:02:39\u001b[0m < \u001b[36m0:01:14\u001b[0m , \u001b[31m4,732 it/s\u001b[0m ]"
      ]
     },
     "metadata": {},
     "output_type": "display_data"
    },
    {
     "data": {
      "text/html": [
       "<pre style=\"white-space:pre;overflow-x:auto;line-height:normal;font-family:Menlo,'DejaVu Sans Mono',consolas,'Courier New',monospace\">\r",
       "\u001b[2KEpisode length: 654.40 +/- 237.27\n",
       "<span style=\"color: #800080; text-decoration-color: #800080\">  65%</span> <span style=\"color: #f92672; text-decoration-color: #f92672\">━━━━━━━━━━━━━━━━━━━━━━━━━━━━━━━━━━━╸</span><span style=\"color: #3a3a3a; text-decoration-color: #3a3a3a\">━━━━━━━━━━━━━━━━━━━</span> <span style=\"color: #008000; text-decoration-color: #008000\">654,400/1,000,000 </span> [ <span style=\"color: #808000; text-decoration-color: #808000\">0:02:39</span> &lt; <span style=\"color: #008080; text-decoration-color: #008080\">0:01:14</span> , <span style=\"color: #800000; text-decoration-color: #800000\">4,732 it/s</span> ]</pre>\n"
      ],
      "text/plain": [
       "\r",
       "\u001b[2KEpisode length: 654.40 +/- 237.27\n",
       "\u001b[35m  65%\u001b[0m \u001b[38;2;249;38;114m━━━━━━━━━━━━━━━━━━━━━━━━━━━━━━━━━━━\u001b[0m\u001b[38;2;249;38;114m╸\u001b[0m\u001b[38;5;237m━━━━━━━━━━━━━━━━━━━\u001b[0m \u001b[32m654,400/1,000,000 \u001b[0m [ \u001b[33m0:02:39\u001b[0m < \u001b[36m0:01:14\u001b[0m , \u001b[31m4,732 it/s\u001b[0m ]"
      ]
     },
     "metadata": {},
     "output_type": "display_data"
    },
    {
     "name": "stdout",
     "output_type": "stream",
     "text": [
      "-----------------------------------------\n",
      "| eval/                   |             |\n",
      "|    mean_ep_length       | 654         |\n",
      "|    mean_reward          | 28          |\n",
      "| time/                   |             |\n",
      "|    total_timesteps      | 656000      |\n",
      "| train/                  |             |\n",
      "|    approx_kl            | 0.010007132 |\n",
      "|    clip_fraction        | 0.0793      |\n",
      "|    clip_range           | 0.2         |\n",
      "|    entropy_loss         | -1.35       |\n",
      "|    explained_variance   | 0.618       |\n",
      "|    learning_rate        | 7.77e-05    |\n",
      "|    loss                 | 28.4        |\n",
      "|    n_updates            | 800         |\n",
      "|    policy_gradient_loss | -0.0165     |\n",
      "|    std                  | 0.752       |\n",
      "|    value_loss           | 57.7        |\n",
      "-----------------------------------------\n",
      "---------------------------------\n",
      "| rollout/           |          |\n",
      "|    ep_len_mean     | 619      |\n",
      "|    ep_rew_mean     | 39.5     |\n",
      "| time/              |          |\n",
      "|    fps             | 4157     |\n",
      "|    iterations      | 81       |\n",
      "|    time_elapsed    | 159      |\n",
      "|    total_timesteps | 663552   |\n",
      "---------------------------------\n",
      "------------------------------------------\n",
      "| rollout/                |              |\n",
      "|    ep_len_mean          | 633          |\n",
      "|    ep_rew_mean          | 37.6         |\n",
      "| time/                   |              |\n",
      "|    fps                  | 4167         |\n",
      "|    iterations           | 82           |\n",
      "|    time_elapsed         | 161          |\n",
      "|    total_timesteps      | 671744       |\n",
      "| train/                  |              |\n",
      "|    approx_kl            | 0.0016305225 |\n",
      "|    clip_fraction        | 0.0164       |\n",
      "|    clip_range           | 0.2          |\n",
      "|    entropy_loss         | -1.37        |\n",
      "|    explained_variance   | 0.613        |\n",
      "|    learning_rate        | 7.77e-05     |\n",
      "|    loss                 | 16.1         |\n",
      "|    n_updates            | 810          |\n",
      "|    policy_gradient_loss | -0.00108     |\n",
      "|    std                  | 0.752        |\n",
      "|    value_loss           | 46.6         |\n",
      "------------------------------------------\n"
     ]
    },
    {
     "data": {
      "text/html": [
       "<pre style=\"white-space:pre;overflow-x:auto;line-height:normal;font-family:Menlo,'DejaVu Sans Mono',consolas,'Courier New',monospace\">\r",
       "\u001b[2KEval num_timesteps=672000, episode_reward=38.56 +/- 61.79\n",
       "<span style=\"color: #800080; text-decoration-color: #800080\">  67%</span> <span style=\"color: #f92672; text-decoration-color: #f92672\">━━━━━━━━━━━━━━━━━━━━━━━━━━━━━━━━━━━━╸</span><span style=\"color: #3a3a3a; text-decoration-color: #3a3a3a\">━━━━━━━━━━━━━━━━━━</span> <span style=\"color: #008000; text-decoration-color: #008000\">670,656/1,000,000 </span> [ <span style=\"color: #808000; text-decoration-color: #808000\">0:02:43</span> &lt; <span style=\"color: #008080; text-decoration-color: #008080\">0:01:11</span> , <span style=\"color: #800000; text-decoration-color: #800000\">4,705 it/s</span> ]</pre>\n"
      ],
      "text/plain": [
       "\r",
       "\u001b[2KEval num_timesteps=672000, episode_reward=38.56 +/- 61.79\n",
       "\u001b[35m  67%\u001b[0m \u001b[38;2;249;38;114m━━━━━━━━━━━━━━━━━━━━━━━━━━━━━━━━━━━━\u001b[0m\u001b[38;2;249;38;114m╸\u001b[0m\u001b[38;5;237m━━━━━━━━━━━━━━━━━━\u001b[0m \u001b[32m670,656/1,000,000 \u001b[0m [ \u001b[33m0:02:43\u001b[0m < \u001b[36m0:01:11\u001b[0m , \u001b[31m4,705 it/s\u001b[0m ]"
      ]
     },
     "metadata": {},
     "output_type": "display_data"
    },
    {
     "data": {
      "text/html": [
       "<pre style=\"white-space:pre;overflow-x:auto;line-height:normal;font-family:Menlo,'DejaVu Sans Mono',consolas,'Courier New',monospace\">\r",
       "\u001b[2KEpisode length: 552.80 +/- 228.45\n",
       "<span style=\"color: #800080; text-decoration-color: #800080\">  67%</span> <span style=\"color: #f92672; text-decoration-color: #f92672\">━━━━━━━━━━━━━━━━━━━━━━━━━━━━━━━━━━━━╸</span><span style=\"color: #3a3a3a; text-decoration-color: #3a3a3a\">━━━━━━━━━━━━━━━━━━</span> <span style=\"color: #008000; text-decoration-color: #008000\">670,656/1,000,000 </span> [ <span style=\"color: #808000; text-decoration-color: #808000\">0:02:43</span> &lt; <span style=\"color: #008080; text-decoration-color: #008080\">0:01:11</span> , <span style=\"color: #800000; text-decoration-color: #800000\">4,705 it/s</span> ]</pre>\n"
      ],
      "text/plain": [
       "\r",
       "\u001b[2KEpisode length: 552.80 +/- 228.45\n",
       "\u001b[35m  67%\u001b[0m \u001b[38;2;249;38;114m━━━━━━━━━━━━━━━━━━━━━━━━━━━━━━━━━━━━\u001b[0m\u001b[38;2;249;38;114m╸\u001b[0m\u001b[38;5;237m━━━━━━━━━━━━━━━━━━\u001b[0m \u001b[32m670,656/1,000,000 \u001b[0m [ \u001b[33m0:02:43\u001b[0m < \u001b[36m0:01:11\u001b[0m , \u001b[31m4,705 it/s\u001b[0m ]"
      ]
     },
     "metadata": {},
     "output_type": "display_data"
    },
    {
     "name": "stdout",
     "output_type": "stream",
     "text": [
      "----------------------------------------\n",
      "| eval/                   |            |\n",
      "|    mean_ep_length       | 553        |\n",
      "|    mean_reward          | 38.6       |\n",
      "| time/                   |            |\n",
      "|    total_timesteps      | 672000     |\n",
      "| train/                  |            |\n",
      "|    approx_kl            | 0.01426813 |\n",
      "|    clip_fraction        | 0.093      |\n",
      "|    clip_range           | 0.2        |\n",
      "|    entropy_loss         | -1.28      |\n",
      "|    explained_variance   | 0.644      |\n",
      "|    learning_rate        | 7.77e-05   |\n",
      "|    loss                 | 19.1       |\n",
      "|    n_updates            | 820        |\n",
      "|    policy_gradient_loss | -0.0069    |\n",
      "|    std                  | 0.748      |\n",
      "|    value_loss           | 54.4       |\n",
      "----------------------------------------\n",
      "---------------------------------\n",
      "| rollout/           |          |\n",
      "|    ep_len_mean     | 632      |\n",
      "|    ep_rew_mean     | 37.2     |\n",
      "| time/              |          |\n",
      "|    fps             | 4133     |\n",
      "|    iterations      | 83       |\n",
      "|    time_elapsed    | 164      |\n",
      "|    total_timesteps | 679936   |\n",
      "---------------------------------\n"
     ]
    },
    {
     "data": {
      "text/html": [
       "<pre style=\"white-space:pre;overflow-x:auto;line-height:normal;font-family:Menlo,'DejaVu Sans Mono',consolas,'Courier New',monospace\">\r",
       "\u001b[2KEval num_timesteps=688000, episode_reward=63.74 +/- 12.36\n",
       "<span style=\"color: #800080; text-decoration-color: #800080\">  69%</span> <span style=\"color: #f92672; text-decoration-color: #f92672\">━━━━━━━━━━━━━━━━━━━━━━━━━━━━━━━━━━━━━╸</span><span style=\"color: #3a3a3a; text-decoration-color: #3a3a3a\">━━━━━━━━━━━━━━━━━</span> <span style=\"color: #008000; text-decoration-color: #008000\">686,752/1,000,000 </span> [ <span style=\"color: #808000; text-decoration-color: #808000\">0:02:46</span> &lt; <span style=\"color: #008080; text-decoration-color: #008080\">0:01:12</span> , <span style=\"color: #800000; text-decoration-color: #800000\">4,375 it/s</span> ]</pre>\n"
      ],
      "text/plain": [
       "\r",
       "\u001b[2KEval num_timesteps=688000, episode_reward=63.74 +/- 12.36\n",
       "\u001b[35m  69%\u001b[0m \u001b[38;2;249;38;114m━━━━━━━━━━━━━━━━━━━━━━━━━━━━━━━━━━━━━\u001b[0m\u001b[38;2;249;38;114m╸\u001b[0m\u001b[38;5;237m━━━━━━━━━━━━━━━━━\u001b[0m \u001b[32m686,752/1,000,000 \u001b[0m [ \u001b[33m0:02:46\u001b[0m < \u001b[36m0:01:12\u001b[0m , \u001b[31m4,375 it/s\u001b[0m ]"
      ]
     },
     "metadata": {},
     "output_type": "display_data"
    },
    {
     "data": {
      "text/html": [
       "<pre style=\"white-space:pre;overflow-x:auto;line-height:normal;font-family:Menlo,'DejaVu Sans Mono',consolas,'Courier New',monospace\">\r",
       "\u001b[2KEpisode length: 508.40 +/- 141.58\n",
       "<span style=\"color: #800080; text-decoration-color: #800080\">  69%</span> <span style=\"color: #f92672; text-decoration-color: #f92672\">━━━━━━━━━━━━━━━━━━━━━━━━━━━━━━━━━━━━━╸</span><span style=\"color: #3a3a3a; text-decoration-color: #3a3a3a\">━━━━━━━━━━━━━━━━━</span> <span style=\"color: #008000; text-decoration-color: #008000\">686,752/1,000,000 </span> [ <span style=\"color: #808000; text-decoration-color: #808000\">0:02:46</span> &lt; <span style=\"color: #008080; text-decoration-color: #008080\">0:01:12</span> , <span style=\"color: #800000; text-decoration-color: #800000\">4,375 it/s</span> ]</pre>\n"
      ],
      "text/plain": [
       "\r",
       "\u001b[2KEpisode length: 508.40 +/- 141.58\n",
       "\u001b[35m  69%\u001b[0m \u001b[38;2;249;38;114m━━━━━━━━━━━━━━━━━━━━━━━━━━━━━━━━━━━━━\u001b[0m\u001b[38;2;249;38;114m╸\u001b[0m\u001b[38;5;237m━━━━━━━━━━━━━━━━━\u001b[0m \u001b[32m686,752/1,000,000 \u001b[0m [ \u001b[33m0:02:46\u001b[0m < \u001b[36m0:01:12\u001b[0m , \u001b[31m4,375 it/s\u001b[0m ]"
      ]
     },
     "metadata": {},
     "output_type": "display_data"
    },
    {
     "name": "stdout",
     "output_type": "stream",
     "text": [
      "-----------------------------------------\n",
      "| eval/                   |             |\n",
      "|    mean_ep_length       | 508         |\n",
      "|    mean_reward          | 63.7        |\n",
      "| time/                   |             |\n",
      "|    total_timesteps      | 688000      |\n",
      "| train/                  |             |\n",
      "|    approx_kl            | 0.009628346 |\n",
      "|    clip_fraction        | 0.0938      |\n",
      "|    clip_range           | 0.2         |\n",
      "|    entropy_loss         | -1.23       |\n",
      "|    explained_variance   | 0.655       |\n",
      "|    learning_rate        | 7.77e-05    |\n",
      "|    loss                 | 18.9        |\n",
      "|    n_updates            | 830         |\n",
      "|    policy_gradient_loss | -0.00413    |\n",
      "|    std                  | 0.744       |\n",
      "|    value_loss           | 60          |\n",
      "-----------------------------------------\n"
     ]
    },
    {
     "data": {
      "text/html": [
       "<pre style=\"white-space:pre;overflow-x:auto;line-height:normal;font-family:Menlo,'DejaVu Sans Mono',consolas,'Courier New',monospace\">\r",
       "\u001b[2KNew best mean reward!\n",
       "<span style=\"color: #800080; text-decoration-color: #800080\">  69%</span> <span style=\"color: #f92672; text-decoration-color: #f92672\">━━━━━━━━━━━━━━━━━━━━━━━━━━━━━━━━━━━━━╸</span><span style=\"color: #3a3a3a; text-decoration-color: #3a3a3a\">━━━━━━━━━━━━━━━━━</span> <span style=\"color: #008000; text-decoration-color: #008000\">686,752/1,000,000 </span> [ <span style=\"color: #808000; text-decoration-color: #808000\">0:02:46</span> &lt; <span style=\"color: #008080; text-decoration-color: #008080\">0:01:12</span> , <span style=\"color: #800000; text-decoration-color: #800000\">4,375 it/s</span> ]</pre>\n"
      ],
      "text/plain": [
       "\r",
       "\u001b[2KNew best mean reward!\n",
       "\u001b[35m  69%\u001b[0m \u001b[38;2;249;38;114m━━━━━━━━━━━━━━━━━━━━━━━━━━━━━━━━━━━━━\u001b[0m\u001b[38;2;249;38;114m╸\u001b[0m\u001b[38;5;237m━━━━━━━━━━━━━━━━━\u001b[0m \u001b[32m686,752/1,000,000 \u001b[0m [ \u001b[33m0:02:46\u001b[0m < \u001b[36m0:01:12\u001b[0m , \u001b[31m4,375 it/s\u001b[0m ]"
      ]
     },
     "metadata": {},
     "output_type": "display_data"
    },
    {
     "name": "stdout",
     "output_type": "stream",
     "text": [
      "---------------------------------\n",
      "| rollout/           |          |\n",
      "|    ep_len_mean     | 659      |\n",
      "|    ep_rew_mean     | 31       |\n",
      "| time/              |          |\n",
      "|    fps             | 4119     |\n",
      "|    iterations      | 84       |\n",
      "|    time_elapsed    | 167      |\n",
      "|    total_timesteps | 688128   |\n",
      "---------------------------------\n",
      "-----------------------------------------\n",
      "| rollout/                |             |\n",
      "|    ep_len_mean          | 646         |\n",
      "|    ep_rew_mean          | 31.8        |\n",
      "| time/                   |             |\n",
      "|    fps                  | 4134        |\n",
      "|    iterations           | 85          |\n",
      "|    time_elapsed         | 168         |\n",
      "|    total_timesteps      | 696320      |\n",
      "| train/                  |             |\n",
      "|    approx_kl            | 0.011262103 |\n",
      "|    clip_fraction        | 0.0924      |\n",
      "|    clip_range           | 0.2         |\n",
      "|    entropy_loss         | -1.34       |\n",
      "|    explained_variance   | 0.643       |\n",
      "|    learning_rate        | 7.77e-05    |\n",
      "|    loss                 | 32.9        |\n",
      "|    n_updates            | 840         |\n",
      "|    policy_gradient_loss | -0.00202    |\n",
      "|    std                  | 0.734       |\n",
      "|    value_loss           | 79.9        |\n",
      "-----------------------------------------\n"
     ]
    },
    {
     "data": {
      "text/html": [
       "<pre style=\"white-space:pre;overflow-x:auto;line-height:normal;font-family:Menlo,'DejaVu Sans Mono',consolas,'Courier New',monospace\">\r",
       "\u001b[2KEval num_timesteps=704000, episode_reward=62.16 +/- 10.58\n",
       "<span style=\"color: #800080; text-decoration-color: #800080\">  70%</span> <span style=\"color: #f92672; text-decoration-color: #f92672\">━━━━━━━━━━━━━━━━━━━━━━━━━━━━━━━━━━━━━━╸</span><span style=\"color: #3a3a3a; text-decoration-color: #3a3a3a\">━━━━━━━━━━━━━━━━</span> <span style=\"color: #008000; text-decoration-color: #008000\">703,392/1,000,000 </span> [ <span style=\"color: #808000; text-decoration-color: #808000\">0:02:50</span> &lt; <span style=\"color: #008080; text-decoration-color: #008080\">0:01:09</span> , <span style=\"color: #800000; text-decoration-color: #800000\">4,326 it/s</span> ]</pre>\n"
      ],
      "text/plain": [
       "\r",
       "\u001b[2KEval num_timesteps=704000, episode_reward=62.16 +/- 10.58\n",
       "\u001b[35m  70%\u001b[0m \u001b[38;2;249;38;114m━━━━━━━━━━━━━━━━━━━━━━━━━━━━━━━━━━━━━━\u001b[0m\u001b[38;2;249;38;114m╸\u001b[0m\u001b[38;5;237m━━━━━━━━━━━━━━━━\u001b[0m \u001b[32m703,392/1,000,000 \u001b[0m [ \u001b[33m0:02:50\u001b[0m < \u001b[36m0:01:09\u001b[0m , \u001b[31m4,326 it/s\u001b[0m ]"
      ]
     },
     "metadata": {},
     "output_type": "display_data"
    },
    {
     "data": {
      "text/html": [
       "<pre style=\"white-space:pre;overflow-x:auto;line-height:normal;font-family:Menlo,'DejaVu Sans Mono',consolas,'Courier New',monospace\">\r",
       "\u001b[2KEpisode length: 521.80 +/- 123.66\n",
       "<span style=\"color: #800080; text-decoration-color: #800080\">  70%</span> <span style=\"color: #f92672; text-decoration-color: #f92672\">━━━━━━━━━━━━━━━━━━━━━━━━━━━━━━━━━━━━━━╸</span><span style=\"color: #3a3a3a; text-decoration-color: #3a3a3a\">━━━━━━━━━━━━━━━━</span> <span style=\"color: #008000; text-decoration-color: #008000\">703,392/1,000,000 </span> [ <span style=\"color: #808000; text-decoration-color: #808000\">0:02:50</span> &lt; <span style=\"color: #008080; text-decoration-color: #008080\">0:01:09</span> , <span style=\"color: #800000; text-decoration-color: #800000\">4,326 it/s</span> ]</pre>\n"
      ],
      "text/plain": [
       "\r",
       "\u001b[2KEpisode length: 521.80 +/- 123.66\n",
       "\u001b[35m  70%\u001b[0m \u001b[38;2;249;38;114m━━━━━━━━━━━━━━━━━━━━━━━━━━━━━━━━━━━━━━\u001b[0m\u001b[38;2;249;38;114m╸\u001b[0m\u001b[38;5;237m━━━━━━━━━━━━━━━━\u001b[0m \u001b[32m703,392/1,000,000 \u001b[0m [ \u001b[33m0:02:50\u001b[0m < \u001b[36m0:01:09\u001b[0m , \u001b[31m4,326 it/s\u001b[0m ]"
      ]
     },
     "metadata": {},
     "output_type": "display_data"
    },
    {
     "name": "stdout",
     "output_type": "stream",
     "text": [
      "------------------------------------------\n",
      "| eval/                   |              |\n",
      "|    mean_ep_length       | 522          |\n",
      "|    mean_reward          | 62.2         |\n",
      "| time/                   |              |\n",
      "|    total_timesteps      | 704000       |\n",
      "| train/                  |              |\n",
      "|    approx_kl            | 0.0018096478 |\n",
      "|    clip_fraction        | 0.00597      |\n",
      "|    clip_range           | 0.2          |\n",
      "|    entropy_loss         | -1.21        |\n",
      "|    explained_variance   | 0.674        |\n",
      "|    learning_rate        | 7.77e-05     |\n",
      "|    loss                 | 26.8         |\n",
      "|    n_updates            | 850          |\n",
      "|    policy_gradient_loss | -0.000957    |\n",
      "|    std                  | 0.732        |\n",
      "|    value_loss           | 77.3         |\n",
      "------------------------------------------\n",
      "---------------------------------\n",
      "| rollout/           |          |\n",
      "|    ep_len_mean     | 623      |\n",
      "|    ep_rew_mean     | 33.5     |\n",
      "| time/              |          |\n",
      "|    fps             | 4131     |\n",
      "|    iterations      | 86       |\n",
      "|    time_elapsed    | 170      |\n",
      "|    total_timesteps | 704512   |\n",
      "---------------------------------\n",
      "-----------------------------------------\n",
      "| rollout/                |             |\n",
      "|    ep_len_mean          | 597         |\n",
      "|    ep_rew_mean          | 43.7        |\n",
      "| time/                   |             |\n",
      "|    fps                  | 4147        |\n",
      "|    iterations           | 87          |\n",
      "|    time_elapsed         | 171         |\n",
      "|    total_timesteps      | 712704      |\n",
      "| train/                  |             |\n",
      "|    approx_kl            | 0.017176952 |\n",
      "|    clip_fraction        | 0.0977      |\n",
      "|    clip_range           | 0.2         |\n",
      "|    entropy_loss         | -1.27       |\n",
      "|    explained_variance   | 0.67        |\n",
      "|    learning_rate        | 7.77e-05    |\n",
      "|    loss                 | 95.3        |\n",
      "|    n_updates            | 860         |\n",
      "|    policy_gradient_loss | -0.00492    |\n",
      "|    std                  | 0.73        |\n",
      "|    value_loss           | 103         |\n",
      "-----------------------------------------\n"
     ]
    },
    {
     "data": {
      "text/html": [
       "<pre style=\"white-space:pre;overflow-x:auto;line-height:normal;font-family:Menlo,'DejaVu Sans Mono',consolas,'Courier New',monospace\">\r",
       "\u001b[2KEval num_timesteps=720000, episode_reward=59.36 +/- 17.90\n",
       "<span style=\"color: #800080; text-decoration-color: #800080\">  72%</span> <span style=\"color: #f92672; text-decoration-color: #f92672\">━━━━━━━━━━━━━━━━━━━━━━━━━━━━━━━━━━━━━━━╸</span><span style=\"color: #3a3a3a; text-decoration-color: #3a3a3a\">━━━━━━━━━━━━━━━</span> <span style=\"color: #008000; text-decoration-color: #008000\">718,208/1,000,000 </span> [ <span style=\"color: #808000; text-decoration-color: #808000\">0:02:53</span> &lt; <span style=\"color: #008080; text-decoration-color: #008080\">0:01:06</span> , <span style=\"color: #800000; text-decoration-color: #800000\">4,301 it/s</span> ]</pre>\n"
      ],
      "text/plain": [
       "\r",
       "\u001b[2KEval num_timesteps=720000, episode_reward=59.36 +/- 17.90\n",
       "\u001b[35m  72%\u001b[0m \u001b[38;2;249;38;114m━━━━━━━━━━━━━━━━━━━━━━━━━━━━━━━━━━━━━━━\u001b[0m\u001b[38;2;249;38;114m╸\u001b[0m\u001b[38;5;237m━━━━━━━━━━━━━━━\u001b[0m \u001b[32m718,208/1,000,000 \u001b[0m [ \u001b[33m0:02:53\u001b[0m < \u001b[36m0:01:06\u001b[0m , \u001b[31m4,301 it/s\u001b[0m ]"
      ]
     },
     "metadata": {},
     "output_type": "display_data"
    },
    {
     "data": {
      "text/html": [
       "<pre style=\"white-space:pre;overflow-x:auto;line-height:normal;font-family:Menlo,'DejaVu Sans Mono',consolas,'Courier New',monospace\">\r",
       "\u001b[2KEpisode length: 537.80 +/- 197.64\n",
       "<span style=\"color: #800080; text-decoration-color: #800080\">  72%</span> <span style=\"color: #f92672; text-decoration-color: #f92672\">━━━━━━━━━━━━━━━━━━━━━━━━━━━━━━━━━━━━━━━╸</span><span style=\"color: #3a3a3a; text-decoration-color: #3a3a3a\">━━━━━━━━━━━━━━━</span> <span style=\"color: #008000; text-decoration-color: #008000\">718,208/1,000,000 </span> [ <span style=\"color: #808000; text-decoration-color: #808000\">0:02:53</span> &lt; <span style=\"color: #008080; text-decoration-color: #008080\">0:01:06</span> , <span style=\"color: #800000; text-decoration-color: #800000\">4,301 it/s</span> ]</pre>\n"
      ],
      "text/plain": [
       "\r",
       "\u001b[2KEpisode length: 537.80 +/- 197.64\n",
       "\u001b[35m  72%\u001b[0m \u001b[38;2;249;38;114m━━━━━━━━━━━━━━━━━━━━━━━━━━━━━━━━━━━━━━━\u001b[0m\u001b[38;2;249;38;114m╸\u001b[0m\u001b[38;5;237m━━━━━━━━━━━━━━━\u001b[0m \u001b[32m718,208/1,000,000 \u001b[0m [ \u001b[33m0:02:53\u001b[0m < \u001b[36m0:01:06\u001b[0m , \u001b[31m4,301 it/s\u001b[0m ]"
      ]
     },
     "metadata": {},
     "output_type": "display_data"
    },
    {
     "name": "stdout",
     "output_type": "stream",
     "text": [
      "-----------------------------------------\n",
      "| eval/                   |             |\n",
      "|    mean_ep_length       | 538         |\n",
      "|    mean_reward          | 59.4        |\n",
      "| time/                   |             |\n",
      "|    total_timesteps      | 720000      |\n",
      "| train/                  |             |\n",
      "|    approx_kl            | 0.016339162 |\n",
      "|    clip_fraction        | 0.105       |\n",
      "|    clip_range           | 0.2         |\n",
      "|    entropy_loss         | -1.2        |\n",
      "|    explained_variance   | 0.678       |\n",
      "|    learning_rate        | 7.77e-05    |\n",
      "|    loss                 | 51.4        |\n",
      "|    n_updates            | 870         |\n",
      "|    policy_gradient_loss | -0.00403    |\n",
      "|    std                  | 0.728       |\n",
      "|    value_loss           | 84.6        |\n",
      "-----------------------------------------\n",
      "---------------------------------\n",
      "| rollout/           |          |\n",
      "|    ep_len_mean     | 570      |\n",
      "|    ep_rew_mean     | 50.8     |\n",
      "| time/              |          |\n",
      "|    fps             | 4145     |\n",
      "|    iterations      | 88       |\n",
      "|    time_elapsed    | 173      |\n",
      "|    total_timesteps | 720896   |\n",
      "---------------------------------\n",
      "------------------------------------------\n",
      "| rollout/                |              |\n",
      "|    ep_len_mean          | 560          |\n",
      "|    ep_rew_mean          | 49.6         |\n",
      "| time/                   |              |\n",
      "|    fps                  | 4157         |\n",
      "|    iterations           | 89           |\n",
      "|    time_elapsed         | 175          |\n",
      "|    total_timesteps      | 729088       |\n",
      "| train/                  |              |\n",
      "|    approx_kl            | 0.0053137103 |\n",
      "|    clip_fraction        | 0.0585       |\n",
      "|    clip_range           | 0.2          |\n",
      "|    entropy_loss         | -1.22        |\n",
      "|    explained_variance   | 0.669        |\n",
      "|    learning_rate        | 7.77e-05     |\n",
      "|    loss                 | 53.5         |\n",
      "|    n_updates            | 880          |\n",
      "|    policy_gradient_loss | -0.00722     |\n",
      "|    std                  | 0.722        |\n",
      "|    value_loss           | 75.1         |\n",
      "------------------------------------------\n"
     ]
    },
    {
     "data": {
      "text/html": [
       "<pre style=\"white-space:pre;overflow-x:auto;line-height:normal;font-family:Menlo,'DejaVu Sans Mono',consolas,'Courier New',monospace\">\r",
       "\u001b[2KEval num_timesteps=736000, episode_reward=72.25 +/- 13.15\n",
       "<span style=\"color: #800080; text-decoration-color: #800080\">  74%</span> <span style=\"color: #f92672; text-decoration-color: #f92672\">━━━━━━━━━━━━━━━━━━━━━━━━━━━━━━━━━━━━━━━━</span><span style=\"color: #3a3a3a; text-decoration-color: #3a3a3a\">╺━━━━━━━━━━━━━━</span> <span style=\"color: #008000; text-decoration-color: #008000\">735,712/1,000,000 </span> [ <span style=\"color: #808000; text-decoration-color: #808000\">0:02:57</span> &lt; <span style=\"color: #008080; text-decoration-color: #008080\">0:01:01</span> , <span style=\"color: #800000; text-decoration-color: #800000\">4,390 it/s</span> ]</pre>\n"
      ],
      "text/plain": [
       "\r",
       "\u001b[2KEval num_timesteps=736000, episode_reward=72.25 +/- 13.15\n",
       "\u001b[35m  74%\u001b[0m \u001b[38;2;249;38;114m━━━━━━━━━━━━━━━━━━━━━━━━━━━━━━━━━━━━━━━━\u001b[0m\u001b[38;5;237m╺\u001b[0m\u001b[38;5;237m━━━━━━━━━━━━━━\u001b[0m \u001b[32m735,712/1,000,000 \u001b[0m [ \u001b[33m0:02:57\u001b[0m < \u001b[36m0:01:01\u001b[0m , \u001b[31m4,390 it/s\u001b[0m ]"
      ]
     },
     "metadata": {},
     "output_type": "display_data"
    },
    {
     "data": {
      "text/html": [
       "<pre style=\"white-space:pre;overflow-x:auto;line-height:normal;font-family:Menlo,'DejaVu Sans Mono',consolas,'Courier New',monospace\">\r",
       "\u001b[2KEpisode length: 379.60 +/- 150.52\n",
       "<span style=\"color: #800080; text-decoration-color: #800080\">  74%</span> <span style=\"color: #f92672; text-decoration-color: #f92672\">━━━━━━━━━━━━━━━━━━━━━━━━━━━━━━━━━━━━━━━━</span><span style=\"color: #3a3a3a; text-decoration-color: #3a3a3a\">╺━━━━━━━━━━━━━━</span> <span style=\"color: #008000; text-decoration-color: #008000\">735,712/1,000,000 </span> [ <span style=\"color: #808000; text-decoration-color: #808000\">0:02:57</span> &lt; <span style=\"color: #008080; text-decoration-color: #008080\">0:01:01</span> , <span style=\"color: #800000; text-decoration-color: #800000\">4,390 it/s</span> ]</pre>\n"
      ],
      "text/plain": [
       "\r",
       "\u001b[2KEpisode length: 379.60 +/- 150.52\n",
       "\u001b[35m  74%\u001b[0m \u001b[38;2;249;38;114m━━━━━━━━━━━━━━━━━━━━━━━━━━━━━━━━━━━━━━━━\u001b[0m\u001b[38;5;237m╺\u001b[0m\u001b[38;5;237m━━━━━━━━━━━━━━\u001b[0m \u001b[32m735,712/1,000,000 \u001b[0m [ \u001b[33m0:02:57\u001b[0m < \u001b[36m0:01:01\u001b[0m , \u001b[31m4,390 it/s\u001b[0m ]"
      ]
     },
     "metadata": {},
     "output_type": "display_data"
    },
    {
     "name": "stdout",
     "output_type": "stream",
     "text": [
      "------------------------------------------\n",
      "| eval/                   |              |\n",
      "|    mean_ep_length       | 380          |\n",
      "|    mean_reward          | 72.2         |\n",
      "| time/                   |              |\n",
      "|    total_timesteps      | 736000       |\n",
      "| train/                  |              |\n",
      "|    approx_kl            | 0.0012735731 |\n",
      "|    clip_fraction        | 0.00839      |\n",
      "|    clip_range           | 0.2          |\n",
      "|    entropy_loss         | -1.19        |\n",
      "|    explained_variance   | 0.67         |\n",
      "|    learning_rate        | 7.77e-05     |\n",
      "|    loss                 | 60.4         |\n",
      "|    n_updates            | 890          |\n",
      "|    policy_gradient_loss | -0.00168     |\n",
      "|    std                  | 0.721        |\n",
      "|    value_loss           | 126          |\n",
      "------------------------------------------\n"
     ]
    },
    {
     "data": {
      "text/html": [
       "<pre style=\"white-space:pre;overflow-x:auto;line-height:normal;font-family:Menlo,'DejaVu Sans Mono',consolas,'Courier New',monospace\">\r",
       "\u001b[2KNew best mean reward!\n",
       "<span style=\"color: #800080; text-decoration-color: #800080\">  74%</span> <span style=\"color: #f92672; text-decoration-color: #f92672\">━━━━━━━━━━━━━━━━━━━━━━━━━━━━━━━━━━━━━━━━</span><span style=\"color: #3a3a3a; text-decoration-color: #3a3a3a\">╺━━━━━━━━━━━━━━</span> <span style=\"color: #008000; text-decoration-color: #008000\">735,712/1,000,000 </span> [ <span style=\"color: #808000; text-decoration-color: #808000\">0:02:57</span> &lt; <span style=\"color: #008080; text-decoration-color: #008080\">0:01:01</span> , <span style=\"color: #800000; text-decoration-color: #800000\">4,390 it/s</span> ]</pre>\n"
      ],
      "text/plain": [
       "\r",
       "\u001b[2KNew best mean reward!\n",
       "\u001b[35m  74%\u001b[0m \u001b[38;2;249;38;114m━━━━━━━━━━━━━━━━━━━━━━━━━━━━━━━━━━━━━━━━\u001b[0m\u001b[38;5;237m╺\u001b[0m\u001b[38;5;237m━━━━━━━━━━━━━━\u001b[0m \u001b[32m735,712/1,000,000 \u001b[0m [ \u001b[33m0:02:57\u001b[0m < \u001b[36m0:01:01\u001b[0m , \u001b[31m4,390 it/s\u001b[0m ]"
      ]
     },
     "metadata": {},
     "output_type": "display_data"
    },
    {
     "name": "stdout",
     "output_type": "stream",
     "text": [
      "---------------------------------\n",
      "| rollout/           |          |\n",
      "|    ep_len_mean     | 535      |\n",
      "|    ep_rew_mean     | 54.5     |\n",
      "| time/              |          |\n",
      "|    fps             | 4142     |\n",
      "|    iterations      | 90       |\n",
      "|    time_elapsed    | 177      |\n",
      "|    total_timesteps | 737280   |\n",
      "---------------------------------\n",
      "------------------------------------------\n",
      "| rollout/                |              |\n",
      "|    ep_len_mean          | 468          |\n",
      "|    ep_rew_mean          | 64           |\n",
      "| time/                   |              |\n",
      "|    fps                  | 4159         |\n",
      "|    iterations           | 91           |\n",
      "|    time_elapsed         | 179          |\n",
      "|    total_timesteps      | 745472       |\n",
      "| train/                  |              |\n",
      "|    approx_kl            | 0.0033484343 |\n",
      "|    clip_fraction        | 0.00823      |\n",
      "|    clip_range           | 0.2          |\n",
      "|    entropy_loss         | -1.15        |\n",
      "|    explained_variance   | 0.656        |\n",
      "|    learning_rate        | 7.77e-05     |\n",
      "|    loss                 | 45.5         |\n",
      "|    n_updates            | 900          |\n",
      "|    policy_gradient_loss | 0.000173     |\n",
      "|    std                  | 0.72         |\n",
      "|    value_loss           | 112          |\n",
      "------------------------------------------\n"
     ]
    },
    {
     "data": {
      "text/html": [
       "<pre style=\"white-space:pre;overflow-x:auto;line-height:normal;font-family:Menlo,'DejaVu Sans Mono',consolas,'Courier New',monospace\">\r",
       "\u001b[2KEval num_timesteps=752000, episode_reward=68.52 +/- 8.24\n",
       "<span style=\"color: #800080; text-decoration-color: #800080\">  75%</span> <span style=\"color: #f92672; text-decoration-color: #f92672\">━━━━━━━━━━━━━━━━━━━━━━━━━━━━━━━━━━━━━━━━━</span><span style=\"color: #3a3a3a; text-decoration-color: #3a3a3a\">╺━━━━━━━━━━━━━</span> <span style=\"color: #008000; text-decoration-color: #008000\">750,720/1,000,000 </span> [ <span style=\"color: #808000; text-decoration-color: #808000\">0:03:00</span> &lt; <span style=\"color: #008080; text-decoration-color: #008080\">0:00:56</span> , <span style=\"color: #800000; text-decoration-color: #800000\">4,487 it/s</span> ]</pre>\n"
      ],
      "text/plain": [
       "\r",
       "\u001b[2KEval num_timesteps=752000, episode_reward=68.52 +/- 8.24\n",
       "\u001b[35m  75%\u001b[0m \u001b[38;2;249;38;114m━━━━━━━━━━━━━━━━━━━━━━━━━━━━━━━━━━━━━━━━━\u001b[0m\u001b[38;5;237m╺\u001b[0m\u001b[38;5;237m━━━━━━━━━━━━━\u001b[0m \u001b[32m750,720/1,000,000 \u001b[0m [ \u001b[33m0:03:00\u001b[0m < \u001b[36m0:00:56\u001b[0m , \u001b[31m4,487 it/s\u001b[0m ]"
      ]
     },
     "metadata": {},
     "output_type": "display_data"
    },
    {
     "data": {
      "text/html": [
       "<pre style=\"white-space:pre;overflow-x:auto;line-height:normal;font-family:Menlo,'DejaVu Sans Mono',consolas,'Courier New',monospace\">\r",
       "\u001b[2KEpisode length: 423.80 +/- 96.31\n",
       "<span style=\"color: #800080; text-decoration-color: #800080\">  75%</span> <span style=\"color: #f92672; text-decoration-color: #f92672\">━━━━━━━━━━━━━━━━━━━━━━━━━━━━━━━━━━━━━━━━━</span><span style=\"color: #3a3a3a; text-decoration-color: #3a3a3a\">╺━━━━━━━━━━━━━</span> <span style=\"color: #008000; text-decoration-color: #008000\">750,720/1,000,000 </span> [ <span style=\"color: #808000; text-decoration-color: #808000\">0:03:00</span> &lt; <span style=\"color: #008080; text-decoration-color: #008080\">0:00:56</span> , <span style=\"color: #800000; text-decoration-color: #800000\">4,487 it/s</span> ]</pre>\n"
      ],
      "text/plain": [
       "\r",
       "\u001b[2KEpisode length: 423.80 +/- 96.31\n",
       "\u001b[35m  75%\u001b[0m \u001b[38;2;249;38;114m━━━━━━━━━━━━━━━━━━━━━━━━━━━━━━━━━━━━━━━━━\u001b[0m\u001b[38;5;237m╺\u001b[0m\u001b[38;5;237m━━━━━━━━━━━━━\u001b[0m \u001b[32m750,720/1,000,000 \u001b[0m [ \u001b[33m0:03:00\u001b[0m < \u001b[36m0:00:56\u001b[0m , \u001b[31m4,487 it/s\u001b[0m ]"
      ]
     },
     "metadata": {},
     "output_type": "display_data"
    },
    {
     "name": "stdout",
     "output_type": "stream",
     "text": [
      "-------------------------------------------\n",
      "| eval/                   |               |\n",
      "|    mean_ep_length       | 424           |\n",
      "|    mean_reward          | 68.5          |\n",
      "| time/                   |               |\n",
      "|    total_timesteps      | 752000        |\n",
      "| train/                  |               |\n",
      "|    approx_kl            | 0.00046414792 |\n",
      "|    clip_fraction        | 0.00123       |\n",
      "|    clip_range           | 0.2           |\n",
      "|    entropy_loss         | -1.21         |\n",
      "|    explained_variance   | 0.687         |\n",
      "|    learning_rate        | 7.77e-05      |\n",
      "|    loss                 | 83.1          |\n",
      "|    n_updates            | 910           |\n",
      "|    policy_gradient_loss | -0.000559     |\n",
      "|    std                  | 0.717         |\n",
      "|    value_loss           | 148           |\n",
      "-------------------------------------------\n",
      "---------------------------------\n",
      "| rollout/           |          |\n",
      "|    ep_len_mean     | 444      |\n",
      "|    ep_rew_mean     | 66.3     |\n",
      "| time/              |          |\n",
      "|    fps             | 4162     |\n",
      "|    iterations      | 92       |\n",
      "|    time_elapsed    | 181      |\n",
      "|    total_timesteps | 753664   |\n",
      "---------------------------------\n",
      "-----------------------------------------\n",
      "| rollout/                |             |\n",
      "|    ep_len_mean          | 418         |\n",
      "|    ep_rew_mean          | 68.2        |\n",
      "| time/                   |             |\n",
      "|    fps                  | 4179        |\n",
      "|    iterations           | 93          |\n",
      "|    time_elapsed         | 182         |\n",
      "|    total_timesteps      | 761856      |\n",
      "| train/                  |             |\n",
      "|    approx_kl            | 0.007433986 |\n",
      "|    clip_fraction        | 0.0448      |\n",
      "|    clip_range           | 0.2         |\n",
      "|    entropy_loss         | -1.22       |\n",
      "|    explained_variance   | 0.658       |\n",
      "|    learning_rate        | 7.77e-05    |\n",
      "|    loss                 | 74.1        |\n",
      "|    n_updates            | 920         |\n",
      "|    policy_gradient_loss | -0.00515    |\n",
      "|    std                  | 0.713       |\n",
      "|    value_loss           | 95.5        |\n",
      "-----------------------------------------\n"
     ]
    },
    {
     "data": {
      "text/html": [
       "<pre style=\"white-space:pre;overflow-x:auto;line-height:normal;font-family:Menlo,'DejaVu Sans Mono',consolas,'Courier New',monospace\">\r",
       "\u001b[2KEval num_timesteps=768000, episode_reward=74.71 +/- 7.17\n",
       "<span style=\"color: #800080; text-decoration-color: #800080\">  77%</span> <span style=\"color: #f92672; text-decoration-color: #f92672\">━━━━━━━━━━━━━━━━━━━━━━━━━━━━━━━━━━━━━━━━━━</span><span style=\"color: #3a3a3a; text-decoration-color: #3a3a3a\">╺━━━━━━━━━━━━</span> <span style=\"color: #008000; text-decoration-color: #008000\">766,208/1,000,000 </span> [ <span style=\"color: #808000; text-decoration-color: #808000\">0:03:04</span> &lt; <span style=\"color: #008080; text-decoration-color: #008080\">0:00:52</span> , <span style=\"color: #800000; text-decoration-color: #800000\">4,556 it/s</span> ]</pre>\n"
      ],
      "text/plain": [
       "\r",
       "\u001b[2KEval num_timesteps=768000, episode_reward=74.71 +/- 7.17\n",
       "\u001b[35m  77%\u001b[0m \u001b[38;2;249;38;114m━━━━━━━━━━━━━━━━━━━━━━━━━━━━━━━━━━━━━━━━━━\u001b[0m\u001b[38;5;237m╺\u001b[0m\u001b[38;5;237m━━━━━━━━━━━━\u001b[0m \u001b[32m766,208/1,000,000 \u001b[0m [ \u001b[33m0:03:04\u001b[0m < \u001b[36m0:00:52\u001b[0m , \u001b[31m4,556 it/s\u001b[0m ]"
      ]
     },
     "metadata": {},
     "output_type": "display_data"
    },
    {
     "data": {
      "text/html": [
       "<pre style=\"white-space:pre;overflow-x:auto;line-height:normal;font-family:Menlo,'DejaVu Sans Mono',consolas,'Courier New',monospace\">\r",
       "\u001b[2KEpisode length: 344.40 +/- 83.11\n",
       "<span style=\"color: #800080; text-decoration-color: #800080\">  77%</span> <span style=\"color: #f92672; text-decoration-color: #f92672\">━━━━━━━━━━━━━━━━━━━━━━━━━━━━━━━━━━━━━━━━━━</span><span style=\"color: #3a3a3a; text-decoration-color: #3a3a3a\">╺━━━━━━━━━━━━</span> <span style=\"color: #008000; text-decoration-color: #008000\">766,208/1,000,000 </span> [ <span style=\"color: #808000; text-decoration-color: #808000\">0:03:04</span> &lt; <span style=\"color: #008080; text-decoration-color: #008080\">0:00:52</span> , <span style=\"color: #800000; text-decoration-color: #800000\">4,556 it/s</span> ]</pre>\n"
      ],
      "text/plain": [
       "\r",
       "\u001b[2KEpisode length: 344.40 +/- 83.11\n",
       "\u001b[35m  77%\u001b[0m \u001b[38;2;249;38;114m━━━━━━━━━━━━━━━━━━━━━━━━━━━━━━━━━━━━━━━━━━\u001b[0m\u001b[38;5;237m╺\u001b[0m\u001b[38;5;237m━━━━━━━━━━━━\u001b[0m \u001b[32m766,208/1,000,000 \u001b[0m [ \u001b[33m0:03:04\u001b[0m < \u001b[36m0:00:52\u001b[0m , \u001b[31m4,556 it/s\u001b[0m ]"
      ]
     },
     "metadata": {},
     "output_type": "display_data"
    },
    {
     "name": "stdout",
     "output_type": "stream",
     "text": [
      "-----------------------------------------\n",
      "| eval/                   |             |\n",
      "|    mean_ep_length       | 344         |\n",
      "|    mean_reward          | 74.7        |\n",
      "| time/                   |             |\n",
      "|    total_timesteps      | 768000      |\n",
      "| train/                  |             |\n",
      "|    approx_kl            | 0.003264239 |\n",
      "|    clip_fraction        | 0.0398      |\n",
      "|    clip_range           | 0.2         |\n",
      "|    entropy_loss         | -1.17       |\n",
      "|    explained_variance   | 0.661       |\n",
      "|    learning_rate        | 7.77e-05    |\n",
      "|    loss                 | 47.1        |\n",
      "|    n_updates            | 930         |\n",
      "|    policy_gradient_loss | -0.00118    |\n",
      "|    std                  | 0.708       |\n",
      "|    value_loss           | 122         |\n",
      "-----------------------------------------\n"
     ]
    },
    {
     "data": {
      "text/html": [
       "<pre style=\"white-space:pre;overflow-x:auto;line-height:normal;font-family:Menlo,'DejaVu Sans Mono',consolas,'Courier New',monospace\">\r",
       "\u001b[2KNew best mean reward!\n",
       "<span style=\"color: #800080; text-decoration-color: #800080\">  77%</span> <span style=\"color: #f92672; text-decoration-color: #f92672\">━━━━━━━━━━━━━━━━━━━━━━━━━━━━━━━━━━━━━━━━━━</span><span style=\"color: #3a3a3a; text-decoration-color: #3a3a3a\">╺━━━━━━━━━━━━</span> <span style=\"color: #008000; text-decoration-color: #008000\">766,208/1,000,000 </span> [ <span style=\"color: #808000; text-decoration-color: #808000\">0:03:04</span> &lt; <span style=\"color: #008080; text-decoration-color: #008080\">0:00:52</span> , <span style=\"color: #800000; text-decoration-color: #800000\">4,556 it/s</span> ]</pre>\n"
      ],
      "text/plain": [
       "\r",
       "\u001b[2KNew best mean reward!\n",
       "\u001b[35m  77%\u001b[0m \u001b[38;2;249;38;114m━━━━━━━━━━━━━━━━━━━━━━━━━━━━━━━━━━━━━━━━━━\u001b[0m\u001b[38;5;237m╺\u001b[0m\u001b[38;5;237m━━━━━━━━━━━━\u001b[0m \u001b[32m766,208/1,000,000 \u001b[0m [ \u001b[33m0:03:04\u001b[0m < \u001b[36m0:00:52\u001b[0m , \u001b[31m4,556 it/s\u001b[0m ]"
      ]
     },
     "metadata": {},
     "output_type": "display_data"
    },
    {
     "name": "stdout",
     "output_type": "stream",
     "text": [
      "---------------------------------\n",
      "| rollout/           |          |\n",
      "|    ep_len_mean     | 386      |\n",
      "|    ep_rew_mean     | 72.3     |\n",
      "| time/              |          |\n",
      "|    fps             | 4179     |\n",
      "|    iterations      | 94       |\n",
      "|    time_elapsed    | 184      |\n",
      "|    total_timesteps | 770048   |\n",
      "---------------------------------\n",
      "------------------------------------------\n",
      "| rollout/                |              |\n",
      "|    ep_len_mean          | 383          |\n",
      "|    ep_rew_mean          | 73.4         |\n",
      "| time/                   |              |\n",
      "|    fps                  | 4195         |\n",
      "|    iterations           | 95           |\n",
      "|    time_elapsed         | 185          |\n",
      "|    total_timesteps      | 778240       |\n",
      "| train/                  |              |\n",
      "|    approx_kl            | 0.0043598684 |\n",
      "|    clip_fraction        | 0.0502       |\n",
      "|    clip_range           | 0.2          |\n",
      "|    entropy_loss         | -1.2         |\n",
      "|    explained_variance   | 0.642        |\n",
      "|    learning_rate        | 7.77e-05     |\n",
      "|    loss                 | 38.3         |\n",
      "|    n_updates            | 940          |\n",
      "|    policy_gradient_loss | -0.00537     |\n",
      "|    std                  | 0.703        |\n",
      "|    value_loss           | 110          |\n",
      "------------------------------------------\n"
     ]
    },
    {
     "data": {
      "text/html": [
       "<pre style=\"white-space:pre;overflow-x:auto;line-height:normal;font-family:Menlo,'DejaVu Sans Mono',consolas,'Courier New',monospace\">\r",
       "\u001b[2KEval num_timesteps=784000, episode_reward=66.65 +/- 15.56\n",
       "<span style=\"color: #800080; text-decoration-color: #800080\">  78%</span> <span style=\"color: #f92672; text-decoration-color: #f92672\">━━━━━━━━━━━━━━━━━━━━━━━━━━━━━━━━━━━━━━━━━━━</span><span style=\"color: #3a3a3a; text-decoration-color: #3a3a3a\">╺━━━━━━━━━━━</span> <span style=\"color: #008000; text-decoration-color: #008000\">782,112/1,000,000 </span> [ <span style=\"color: #808000; text-decoration-color: #808000\">0:03:07</span> &lt; <span style=\"color: #008080; text-decoration-color: #008080\">0:00:48</span> , <span style=\"color: #800000; text-decoration-color: #800000\">4,571 it/s</span> ]</pre>\n"
      ],
      "text/plain": [
       "\r",
       "\u001b[2KEval num_timesteps=784000, episode_reward=66.65 +/- 15.56\n",
       "\u001b[35m  78%\u001b[0m \u001b[38;2;249;38;114m━━━━━━━━━━━━━━━━━━━━━━━━━━━━━━━━━━━━━━━━━━━\u001b[0m\u001b[38;5;237m╺\u001b[0m\u001b[38;5;237m━━━━━━━━━━━\u001b[0m \u001b[32m782,112/1,000,000 \u001b[0m [ \u001b[33m0:03:07\u001b[0m < \u001b[36m0:00:48\u001b[0m , \u001b[31m4,571 it/s\u001b[0m ]"
      ]
     },
     "metadata": {},
     "output_type": "display_data"
    },
    {
     "data": {
      "text/html": [
       "<pre style=\"white-space:pre;overflow-x:auto;line-height:normal;font-family:Menlo,'DejaVu Sans Mono',consolas,'Courier New',monospace\">\r",
       "\u001b[2KEpisode length: 423.60 +/- 169.81\n",
       "<span style=\"color: #800080; text-decoration-color: #800080\">  78%</span> <span style=\"color: #f92672; text-decoration-color: #f92672\">━━━━━━━━━━━━━━━━━━━━━━━━━━━━━━━━━━━━━━━━━━━</span><span style=\"color: #3a3a3a; text-decoration-color: #3a3a3a\">╺━━━━━━━━━━━</span> <span style=\"color: #008000; text-decoration-color: #008000\">782,112/1,000,000 </span> [ <span style=\"color: #808000; text-decoration-color: #808000\">0:03:07</span> &lt; <span style=\"color: #008080; text-decoration-color: #008080\">0:00:48</span> , <span style=\"color: #800000; text-decoration-color: #800000\">4,571 it/s</span> ]</pre>\n"
      ],
      "text/plain": [
       "\r",
       "\u001b[2KEpisode length: 423.60 +/- 169.81\n",
       "\u001b[35m  78%\u001b[0m \u001b[38;2;249;38;114m━━━━━━━━━━━━━━━━━━━━━━━━━━━━━━━━━━━━━━━━━━━\u001b[0m\u001b[38;5;237m╺\u001b[0m\u001b[38;5;237m━━━━━━━━━━━\u001b[0m \u001b[32m782,112/1,000,000 \u001b[0m [ \u001b[33m0:03:07\u001b[0m < \u001b[36m0:00:48\u001b[0m , \u001b[31m4,571 it/s\u001b[0m ]"
      ]
     },
     "metadata": {},
     "output_type": "display_data"
    },
    {
     "name": "stdout",
     "output_type": "stream",
     "text": [
      "------------------------------------------\n",
      "| eval/                   |              |\n",
      "|    mean_ep_length       | 424          |\n",
      "|    mean_reward          | 66.6         |\n",
      "| time/                   |              |\n",
      "|    total_timesteps      | 784000       |\n",
      "| train/                  |              |\n",
      "|    approx_kl            | 0.0010460261 |\n",
      "|    clip_fraction        | 0.0033       |\n",
      "|    clip_range           | 0.2          |\n",
      "|    entropy_loss         | -1.17        |\n",
      "|    explained_variance   | 0.684        |\n",
      "|    learning_rate        | 7.77e-05     |\n",
      "|    loss                 | 60           |\n",
      "|    n_updates            | 950          |\n",
      "|    policy_gradient_loss | -0.00199     |\n",
      "|    std                  | 0.7          |\n",
      "|    value_loss           | 130          |\n",
      "------------------------------------------\n",
      "---------------------------------\n",
      "| rollout/           |          |\n",
      "|    ep_len_mean     | 370      |\n",
      "|    ep_rew_mean     | 74.3     |\n",
      "| time/              |          |\n",
      "|    fps             | 4195     |\n",
      "|    iterations      | 96       |\n",
      "|    time_elapsed    | 187      |\n",
      "|    total_timesteps | 786432   |\n",
      "---------------------------------\n",
      "------------------------------------------\n",
      "| rollout/                |              |\n",
      "|    ep_len_mean          | 381          |\n",
      "|    ep_rew_mean          | 72.9         |\n",
      "| time/                   |              |\n",
      "|    fps                  | 4211         |\n",
      "|    iterations           | 97           |\n",
      "|    time_elapsed         | 188          |\n",
      "|    total_timesteps      | 794624       |\n",
      "| train/                  |              |\n",
      "|    approx_kl            | 0.0060845227 |\n",
      "|    clip_fraction        | 0.0442       |\n",
      "|    clip_range           | 0.2          |\n",
      "|    entropy_loss         | -1.17        |\n",
      "|    explained_variance   | 0.646        |\n",
      "|    learning_rate        | 7.77e-05     |\n",
      "|    loss                 | 57.9         |\n",
      "|    n_updates            | 960          |\n",
      "|    policy_gradient_loss | -0.00258     |\n",
      "|    std                  | 0.699        |\n",
      "|    value_loss           | 124          |\n",
      "------------------------------------------\n"
     ]
    },
    {
     "data": {
      "text/html": [
       "<pre style=\"white-space:pre;overflow-x:auto;line-height:normal;font-family:Menlo,'DejaVu Sans Mono',consolas,'Courier New',monospace\">\r",
       "\u001b[2KEval num_timesteps=800000, episode_reward=70.51 +/- 9.83\n",
       "<span style=\"color: #800080; text-decoration-color: #800080\">  80%</span> <span style=\"color: #f92672; text-decoration-color: #f92672\">━━━━━━━━━━━━━━━━━━━━━━━━━━━━━━━━━━━━━━━━━━━╸</span><span style=\"color: #3a3a3a; text-decoration-color: #3a3a3a\">━━━━━━━━━━━</span> <span style=\"color: #008000; text-decoration-color: #008000\">799,840/1,000,000 </span> [ <span style=\"color: #808000; text-decoration-color: #808000\">0:03:10</span> &lt; <span style=\"color: #008080; text-decoration-color: #008080\">0:00:44</span> , <span style=\"color: #800000; text-decoration-color: #800000\">4,650 it/s</span> ]</pre>\n"
      ],
      "text/plain": [
       "\r",
       "\u001b[2KEval num_timesteps=800000, episode_reward=70.51 +/- 9.83\n",
       "\u001b[35m  80%\u001b[0m \u001b[38;2;249;38;114m━━━━━━━━━━━━━━━━━━━━━━━━━━━━━━━━━━━━━━━━━━━\u001b[0m\u001b[38;2;249;38;114m╸\u001b[0m\u001b[38;5;237m━━━━━━━━━━━\u001b[0m \u001b[32m799,840/1,000,000 \u001b[0m [ \u001b[33m0:03:10\u001b[0m < \u001b[36m0:00:44\u001b[0m , \u001b[31m4,650 it/s\u001b[0m ]"
      ]
     },
     "metadata": {},
     "output_type": "display_data"
    },
    {
     "data": {
      "text/html": [
       "<pre style=\"white-space:pre;overflow-x:auto;line-height:normal;font-family:Menlo,'DejaVu Sans Mono',consolas,'Courier New',monospace\">\r",
       "\u001b[2KEpisode length: 386.00 +/- 113.33\n",
       "<span style=\"color: #800080; text-decoration-color: #800080\">  80%</span> <span style=\"color: #f92672; text-decoration-color: #f92672\">━━━━━━━━━━━━━━━━━━━━━━━━━━━━━━━━━━━━━━━━━━━╸</span><span style=\"color: #3a3a3a; text-decoration-color: #3a3a3a\">━━━━━━━━━━━</span> <span style=\"color: #008000; text-decoration-color: #008000\">799,840/1,000,000 </span> [ <span style=\"color: #808000; text-decoration-color: #808000\">0:03:10</span> &lt; <span style=\"color: #008080; text-decoration-color: #008080\">0:00:44</span> , <span style=\"color: #800000; text-decoration-color: #800000\">4,650 it/s</span> ]</pre>\n"
      ],
      "text/plain": [
       "\r",
       "\u001b[2KEpisode length: 386.00 +/- 113.33\n",
       "\u001b[35m  80%\u001b[0m \u001b[38;2;249;38;114m━━━━━━━━━━━━━━━━━━━━━━━━━━━━━━━━━━━━━━━━━━━\u001b[0m\u001b[38;2;249;38;114m╸\u001b[0m\u001b[38;5;237m━━━━━━━━━━━\u001b[0m \u001b[32m799,840/1,000,000 \u001b[0m [ \u001b[33m0:03:10\u001b[0m < \u001b[36m0:00:44\u001b[0m , \u001b[31m4,650 it/s\u001b[0m ]"
      ]
     },
     "metadata": {},
     "output_type": "display_data"
    },
    {
     "name": "stdout",
     "output_type": "stream",
     "text": [
      "-----------------------------------------\n",
      "| eval/                   |             |\n",
      "|    mean_ep_length       | 386         |\n",
      "|    mean_reward          | 70.5        |\n",
      "| time/                   |             |\n",
      "|    total_timesteps      | 800000      |\n",
      "| train/                  |             |\n",
      "|    approx_kl            | 0.006738373 |\n",
      "|    clip_fraction        | 0.0692      |\n",
      "|    clip_range           | 0.2         |\n",
      "|    entropy_loss         | -1.09       |\n",
      "|    explained_variance   | 0.708       |\n",
      "|    learning_rate        | 7.77e-05    |\n",
      "|    loss                 | 47.2        |\n",
      "|    n_updates            | 970         |\n",
      "|    policy_gradient_loss | -0.00323    |\n",
      "|    std                  | 0.701       |\n",
      "|    value_loss           | 129         |\n",
      "-----------------------------------------\n",
      "---------------------------------\n",
      "| rollout/           |          |\n",
      "|    ep_len_mean     | 386      |\n",
      "|    ep_rew_mean     | 72.3     |\n",
      "| time/              |          |\n",
      "|    fps             | 4211     |\n",
      "|    iterations      | 98       |\n",
      "|    time_elapsed    | 190      |\n",
      "|    total_timesteps | 802816   |\n",
      "---------------------------------\n",
      "------------------------------------------\n",
      "| rollout/                |              |\n",
      "|    ep_len_mean          | 365          |\n",
      "|    ep_rew_mean          | 73.5         |\n",
      "| time/                   |              |\n",
      "|    fps                  | 4214         |\n",
      "|    iterations           | 99           |\n",
      "|    time_elapsed         | 192          |\n",
      "|    total_timesteps      | 811008       |\n",
      "| train/                  |              |\n",
      "|    approx_kl            | 0.0025008249 |\n",
      "|    clip_fraction        | 0.0261       |\n",
      "|    clip_range           | 0.2          |\n",
      "|    entropy_loss         | -1.14        |\n",
      "|    explained_variance   | 0.682        |\n",
      "|    learning_rate        | 7.77e-05     |\n",
      "|    loss                 | 60.7         |\n",
      "|    n_updates            | 980          |\n",
      "|    policy_gradient_loss | -0.00241     |\n",
      "|    std                  | 0.699        |\n",
      "|    value_loss           | 141          |\n",
      "------------------------------------------\n"
     ]
    },
    {
     "data": {
      "text/html": [
       "<pre style=\"white-space:pre;overflow-x:auto;line-height:normal;font-family:Menlo,'DejaVu Sans Mono',consolas,'Courier New',monospace\">\r",
       "\u001b[2KEval num_timesteps=816000, episode_reward=79.96 +/- 6.18\n",
       "<span style=\"color: #800080; text-decoration-color: #800080\">  82%</span> <span style=\"color: #f92672; text-decoration-color: #f92672\">━━━━━━━━━━━━━━━━━━━━━━━━━━━━━━━━━━━━━━━━━━━━╸</span><span style=\"color: #3a3a3a; text-decoration-color: #3a3a3a\">━━━━━━━━━━</span> <span style=\"color: #008000; text-decoration-color: #008000\">815,232/1,000,000 </span> [ <span style=\"color: #808000; text-decoration-color: #808000\">0:03:14</span> &lt; <span style=\"color: #008080; text-decoration-color: #008080\">0:00:40</span> , <span style=\"color: #800000; text-decoration-color: #800000\">4,668 it/s</span> ]</pre>\n"
      ],
      "text/plain": [
       "\r",
       "\u001b[2KEval num_timesteps=816000, episode_reward=79.96 +/- 6.18\n",
       "\u001b[35m  82%\u001b[0m \u001b[38;2;249;38;114m━━━━━━━━━━━━━━━━━━━━━━━━━━━━━━━━━━━━━━━━━━━━\u001b[0m\u001b[38;2;249;38;114m╸\u001b[0m\u001b[38;5;237m━━━━━━━━━━\u001b[0m \u001b[32m815,232/1,000,000 \u001b[0m [ \u001b[33m0:03:14\u001b[0m < \u001b[36m0:00:40\u001b[0m , \u001b[31m4,668 it/s\u001b[0m ]"
      ]
     },
     "metadata": {},
     "output_type": "display_data"
    },
    {
     "data": {
      "text/html": [
       "<pre style=\"white-space:pre;overflow-x:auto;line-height:normal;font-family:Menlo,'DejaVu Sans Mono',consolas,'Courier New',monospace\">\r",
       "\u001b[2KEpisode length: 277.00 +/- 72.32\n",
       "<span style=\"color: #800080; text-decoration-color: #800080\">  82%</span> <span style=\"color: #f92672; text-decoration-color: #f92672\">━━━━━━━━━━━━━━━━━━━━━━━━━━━━━━━━━━━━━━━━━━━━╸</span><span style=\"color: #3a3a3a; text-decoration-color: #3a3a3a\">━━━━━━━━━━</span> <span style=\"color: #008000; text-decoration-color: #008000\">815,232/1,000,000 </span> [ <span style=\"color: #808000; text-decoration-color: #808000\">0:03:14</span> &lt; <span style=\"color: #008080; text-decoration-color: #008080\">0:00:40</span> , <span style=\"color: #800000; text-decoration-color: #800000\">4,668 it/s</span> ]</pre>\n"
      ],
      "text/plain": [
       "\r",
       "\u001b[2KEpisode length: 277.00 +/- 72.32\n",
       "\u001b[35m  82%\u001b[0m \u001b[38;2;249;38;114m━━━━━━━━━━━━━━━━━━━━━━━━━━━━━━━━━━━━━━━━━━━━\u001b[0m\u001b[38;2;249;38;114m╸\u001b[0m\u001b[38;5;237m━━━━━━━━━━\u001b[0m \u001b[32m815,232/1,000,000 \u001b[0m [ \u001b[33m0:03:14\u001b[0m < \u001b[36m0:00:40\u001b[0m , \u001b[31m4,668 it/s\u001b[0m ]"
      ]
     },
     "metadata": {},
     "output_type": "display_data"
    },
    {
     "name": "stdout",
     "output_type": "stream",
     "text": [
      "-----------------------------------------\n",
      "| eval/                   |             |\n",
      "|    mean_ep_length       | 277         |\n",
      "|    mean_reward          | 80          |\n",
      "| time/                   |             |\n",
      "|    total_timesteps      | 816000      |\n",
      "| train/                  |             |\n",
      "|    approx_kl            | 0.025411334 |\n",
      "|    clip_fraction        | 0.15        |\n",
      "|    clip_range           | 0.2         |\n",
      "|    entropy_loss         | -1.01       |\n",
      "|    explained_variance   | 0.651       |\n",
      "|    learning_rate        | 7.77e-05    |\n",
      "|    loss                 | 68.1        |\n",
      "|    n_updates            | 990         |\n",
      "|    policy_gradient_loss | -0.00185    |\n",
      "|    std                  | 0.699       |\n",
      "|    value_loss           | 166         |\n",
      "-----------------------------------------\n"
     ]
    },
    {
     "data": {
      "text/html": [
       "<pre style=\"white-space:pre;overflow-x:auto;line-height:normal;font-family:Menlo,'DejaVu Sans Mono',consolas,'Courier New',monospace\">\r",
       "\u001b[2KNew best mean reward!\n",
       "<span style=\"color: #800080; text-decoration-color: #800080\">  82%</span> <span style=\"color: #f92672; text-decoration-color: #f92672\">━━━━━━━━━━━━━━━━━━━━━━━━━━━━━━━━━━━━━━━━━━━━╸</span><span style=\"color: #3a3a3a; text-decoration-color: #3a3a3a\">━━━━━━━━━━</span> <span style=\"color: #008000; text-decoration-color: #008000\">815,232/1,000,000 </span> [ <span style=\"color: #808000; text-decoration-color: #808000\">0:03:14</span> &lt; <span style=\"color: #008080; text-decoration-color: #008080\">0:00:40</span> , <span style=\"color: #800000; text-decoration-color: #800000\">4,668 it/s</span> ]</pre>\n"
      ],
      "text/plain": [
       "\r",
       "\u001b[2KNew best mean reward!\n",
       "\u001b[35m  82%\u001b[0m \u001b[38;2;249;38;114m━━━━━━━━━━━━━━━━━━━━━━━━━━━━━━━━━━━━━━━━━━━━\u001b[0m\u001b[38;2;249;38;114m╸\u001b[0m\u001b[38;5;237m━━━━━━━━━━\u001b[0m \u001b[32m815,232/1,000,000 \u001b[0m [ \u001b[33m0:03:14\u001b[0m < \u001b[36m0:00:40\u001b[0m , \u001b[31m4,668 it/s\u001b[0m ]"
      ]
     },
     "metadata": {},
     "output_type": "display_data"
    },
    {
     "name": "stdout",
     "output_type": "stream",
     "text": [
      "---------------------------------\n",
      "| rollout/           |          |\n",
      "|    ep_len_mean     | 346      |\n",
      "|    ep_rew_mean     | 75       |\n",
      "| time/              |          |\n",
      "|    fps             | 4210     |\n",
      "|    iterations      | 100      |\n",
      "|    time_elapsed    | 194      |\n",
      "|    total_timesteps | 819200   |\n",
      "---------------------------------\n",
      "------------------------------------------\n",
      "| rollout/                |              |\n",
      "|    ep_len_mean          | 315          |\n",
      "|    ep_rew_mean          | 77.6         |\n",
      "| time/                   |              |\n",
      "|    fps                  | 4213         |\n",
      "|    iterations           | 101          |\n",
      "|    time_elapsed         | 196          |\n",
      "|    total_timesteps      | 827392       |\n",
      "| train/                  |              |\n",
      "|    approx_kl            | 0.0074505247 |\n",
      "|    clip_fraction        | 0.0555       |\n",
      "|    clip_range           | 0.2          |\n",
      "|    entropy_loss         | -1.09        |\n",
      "|    explained_variance   | 0.678        |\n",
      "|    learning_rate        | 7.77e-05     |\n",
      "|    loss                 | 68.8         |\n",
      "|    n_updates            | 1000         |\n",
      "|    policy_gradient_loss | -0.00509     |\n",
      "|    std                  | 0.697        |\n",
      "|    value_loss           | 141          |\n",
      "------------------------------------------\n"
     ]
    },
    {
     "data": {
      "text/html": [
       "<pre style=\"white-space:pre;overflow-x:auto;line-height:normal;font-family:Menlo,'DejaVu Sans Mono',consolas,'Courier New',monospace\">\r",
       "\u001b[2KEval num_timesteps=832000, episode_reward=73.24 +/- 6.31\n",
       "<span style=\"color: #800080; text-decoration-color: #800080\">  83%</span> <span style=\"color: #f92672; text-decoration-color: #f92672\">━━━━━━━━━━━━━━━━━━━━━━━━━━━━━━━━━━━━━━━━━━━━━╸</span><span style=\"color: #3a3a3a; text-decoration-color: #3a3a3a\">━━━━━━━━━</span> <span style=\"color: #008000; text-decoration-color: #008000\">831,968/1,000,000 </span> [ <span style=\"color: #808000; text-decoration-color: #808000\">0:03:19</span> &lt; <span style=\"color: #008080; text-decoration-color: #008080\">0:00:36</span> , <span style=\"color: #800000; text-decoration-color: #800000\">4,670 it/s</span> ]</pre>\n"
      ],
      "text/plain": [
       "\r",
       "\u001b[2KEval num_timesteps=832000, episode_reward=73.24 +/- 6.31\n",
       "\u001b[35m  83%\u001b[0m \u001b[38;2;249;38;114m━━━━━━━━━━━━━━━━━━━━━━━━━━━━━━━━━━━━━━━━━━━━━\u001b[0m\u001b[38;2;249;38;114m╸\u001b[0m\u001b[38;5;237m━━━━━━━━━\u001b[0m \u001b[32m831,968/1,000,000 \u001b[0m [ \u001b[33m0:03:19\u001b[0m < \u001b[36m0:00:36\u001b[0m , \u001b[31m4,670 it/s\u001b[0m ]"
      ]
     },
     "metadata": {},
     "output_type": "display_data"
    },
    {
     "data": {
      "text/html": [
       "<pre style=\"white-space:pre;overflow-x:auto;line-height:normal;font-family:Menlo,'DejaVu Sans Mono',consolas,'Courier New',monospace\">\r",
       "\u001b[2KEpisode length: 351.60 +/- 71.58\n",
       "<span style=\"color: #800080; text-decoration-color: #800080\">  83%</span> <span style=\"color: #f92672; text-decoration-color: #f92672\">━━━━━━━━━━━━━━━━━━━━━━━━━━━━━━━━━━━━━━━━━━━━━╸</span><span style=\"color: #3a3a3a; text-decoration-color: #3a3a3a\">━━━━━━━━━</span> <span style=\"color: #008000; text-decoration-color: #008000\">831,968/1,000,000 </span> [ <span style=\"color: #808000; text-decoration-color: #808000\">0:03:19</span> &lt; <span style=\"color: #008080; text-decoration-color: #008080\">0:00:36</span> , <span style=\"color: #800000; text-decoration-color: #800000\">4,670 it/s</span> ]</pre>\n"
      ],
      "text/plain": [
       "\r",
       "\u001b[2KEpisode length: 351.60 +/- 71.58\n",
       "\u001b[35m  83%\u001b[0m \u001b[38;2;249;38;114m━━━━━━━━━━━━━━━━━━━━━━━━━━━━━━━━━━━━━━━━━━━━━\u001b[0m\u001b[38;2;249;38;114m╸\u001b[0m\u001b[38;5;237m━━━━━━━━━\u001b[0m \u001b[32m831,968/1,000,000 \u001b[0m [ \u001b[33m0:03:19\u001b[0m < \u001b[36m0:00:36\u001b[0m , \u001b[31m4,670 it/s\u001b[0m ]"
      ]
     },
     "metadata": {},
     "output_type": "display_data"
    },
    {
     "name": "stdout",
     "output_type": "stream",
     "text": [
      "-----------------------------------------\n",
      "| eval/                   |             |\n",
      "|    mean_ep_length       | 352         |\n",
      "|    mean_reward          | 73.2        |\n",
      "| time/                   |             |\n",
      "|    total_timesteps      | 832000      |\n",
      "| train/                  |             |\n",
      "|    approx_kl            | 0.003212408 |\n",
      "|    clip_fraction        | 0.026       |\n",
      "|    clip_range           | 0.2         |\n",
      "|    entropy_loss         | -1.05       |\n",
      "|    explained_variance   | 0.65        |\n",
      "|    learning_rate        | 7.77e-05    |\n",
      "|    loss                 | 48.1        |\n",
      "|    n_updates            | 1010        |\n",
      "|    policy_gradient_loss | 0.000518    |\n",
      "|    std                  | 0.697       |\n",
      "|    value_loss           | 145         |\n",
      "-----------------------------------------\n",
      "---------------------------------\n",
      "| rollout/           |          |\n",
      "|    ep_len_mean     | 290      |\n",
      "|    ep_rew_mean     | 79.1     |\n",
      "| time/              |          |\n",
      "|    fps             | 4179     |\n",
      "|    iterations      | 102      |\n",
      "|    time_elapsed    | 199      |\n",
      "|    total_timesteps | 835584   |\n",
      "---------------------------------\n",
      "-----------------------------------------\n",
      "| rollout/                |             |\n",
      "|    ep_len_mean          | 287         |\n",
      "|    ep_rew_mean          | 79.5        |\n",
      "| time/                   |             |\n",
      "|    fps                  | 4169        |\n",
      "|    iterations           | 103         |\n",
      "|    time_elapsed         | 202         |\n",
      "|    total_timesteps      | 843776      |\n",
      "| train/                  |             |\n",
      "|    approx_kl            | 0.004079721 |\n",
      "|    clip_fraction        | 0.0324      |\n",
      "|    clip_range           | 0.2         |\n",
      "|    entropy_loss         | -1.05       |\n",
      "|    explained_variance   | 0.665       |\n",
      "|    learning_rate        | 7.77e-05    |\n",
      "|    loss                 | 97.1        |\n",
      "|    n_updates            | 1020        |\n",
      "|    policy_gradient_loss | -0.0024     |\n",
      "|    std                  | 0.693       |\n",
      "|    value_loss           | 194         |\n",
      "-----------------------------------------\n"
     ]
    },
    {
     "data": {
      "text/html": [
       "<pre style=\"white-space:pre;overflow-x:auto;line-height:normal;font-family:Menlo,'DejaVu Sans Mono',consolas,'Courier New',monospace\">\r",
       "\u001b[2KEval num_timesteps=848000, episode_reward=79.78 +/- 7.21\n",
       "<span style=\"color: #800080; text-decoration-color: #800080\">  85%</span> <span style=\"color: #f92672; text-decoration-color: #f92672\">━━━━━━━━━━━━━━━━━━━━━━━━━━━━━━━━━━━━━━━━━━━━━━╸</span><span style=\"color: #3a3a3a; text-decoration-color: #3a3a3a\">━━━━━━━━</span> <span style=\"color: #008000; text-decoration-color: #008000\">847,264/1,000,000 </span> [ <span style=\"color: #808000; text-decoration-color: #808000\">0:03:24</span> &lt; <span style=\"color: #008080; text-decoration-color: #008080\">0:00:36</span> , <span style=\"color: #800000; text-decoration-color: #800000\">4,253 it/s</span> ]</pre>\n"
      ],
      "text/plain": [
       "\r",
       "\u001b[2KEval num_timesteps=848000, episode_reward=79.78 +/- 7.21\n",
       "\u001b[35m  85%\u001b[0m \u001b[38;2;249;38;114m━━━━━━━━━━━━━━━━━━━━━━━━━━━━━━━━━━━━━━━━━━━━━━\u001b[0m\u001b[38;2;249;38;114m╸\u001b[0m\u001b[38;5;237m━━━━━━━━\u001b[0m \u001b[32m847,264/1,000,000 \u001b[0m [ \u001b[33m0:03:24\u001b[0m < \u001b[36m0:00:36\u001b[0m , \u001b[31m4,253 it/s\u001b[0m ]"
      ]
     },
     "metadata": {},
     "output_type": "display_data"
    },
    {
     "data": {
      "text/html": [
       "<pre style=\"white-space:pre;overflow-x:auto;line-height:normal;font-family:Menlo,'DejaVu Sans Mono',consolas,'Courier New',monospace\">\r",
       "\u001b[2KEpisode length: 274.60 +/- 86.34\n",
       "<span style=\"color: #800080; text-decoration-color: #800080\">  85%</span> <span style=\"color: #f92672; text-decoration-color: #f92672\">━━━━━━━━━━━━━━━━━━━━━━━━━━━━━━━━━━━━━━━━━━━━━━╸</span><span style=\"color: #3a3a3a; text-decoration-color: #3a3a3a\">━━━━━━━━</span> <span style=\"color: #008000; text-decoration-color: #008000\">847,264/1,000,000 </span> [ <span style=\"color: #808000; text-decoration-color: #808000\">0:03:24</span> &lt; <span style=\"color: #008080; text-decoration-color: #008080\">0:00:36</span> , <span style=\"color: #800000; text-decoration-color: #800000\">4,253 it/s</span> ]</pre>\n"
      ],
      "text/plain": [
       "\r",
       "\u001b[2KEpisode length: 274.60 +/- 86.34\n",
       "\u001b[35m  85%\u001b[0m \u001b[38;2;249;38;114m━━━━━━━━━━━━━━━━━━━━━━━━━━━━━━━━━━━━━━━━━━━━━━\u001b[0m\u001b[38;2;249;38;114m╸\u001b[0m\u001b[38;5;237m━━━━━━━━\u001b[0m \u001b[32m847,264/1,000,000 \u001b[0m [ \u001b[33m0:03:24\u001b[0m < \u001b[36m0:00:36\u001b[0m , \u001b[31m4,253 it/s\u001b[0m ]"
      ]
     },
     "metadata": {},
     "output_type": "display_data"
    },
    {
     "name": "stdout",
     "output_type": "stream",
     "text": [
      "------------------------------------------\n",
      "| eval/                   |              |\n",
      "|    mean_ep_length       | 275          |\n",
      "|    mean_reward          | 79.8         |\n",
      "| time/                   |              |\n",
      "|    total_timesteps      | 848000       |\n",
      "| train/                  |              |\n",
      "|    approx_kl            | 0.0033963262 |\n",
      "|    clip_fraction        | 0.0255       |\n",
      "|    clip_range           | 0.2          |\n",
      "|    entropy_loss         | -1.03        |\n",
      "|    explained_variance   | 0.699        |\n",
      "|    learning_rate        | 7.77e-05     |\n",
      "|    loss                 | 75.5         |\n",
      "|    n_updates            | 1030         |\n",
      "|    policy_gradient_loss | -0.000254    |\n",
      "|    std                  | 0.694        |\n",
      "|    value_loss           | 117          |\n",
      "------------------------------------------\n",
      "---------------------------------\n",
      "| rollout/           |          |\n",
      "|    ep_len_mean     | 293      |\n",
      "|    ep_rew_mean     | 79.3     |\n",
      "| time/              |          |\n",
      "|    fps             | 4151     |\n",
      "|    iterations      | 104      |\n",
      "|    time_elapsed    | 205      |\n",
      "|    total_timesteps | 851968   |\n",
      "---------------------------------\n",
      "------------------------------------------\n",
      "| rollout/                |              |\n",
      "|    ep_len_mean          | 290          |\n",
      "|    ep_rew_mean          | 79.5         |\n",
      "| time/                   |              |\n",
      "|    fps                  | 4154         |\n",
      "|    iterations           | 105          |\n",
      "|    time_elapsed         | 207          |\n",
      "|    total_timesteps      | 860160       |\n",
      "| train/                  |              |\n",
      "|    approx_kl            | 0.0036974505 |\n",
      "|    clip_fraction        | 0.0328       |\n",
      "|    clip_range           | 0.2          |\n",
      "|    entropy_loss         | -0.998       |\n",
      "|    explained_variance   | 0.651        |\n",
      "|    learning_rate        | 7.77e-05     |\n",
      "|    loss                 | 91           |\n",
      "|    n_updates            | 1040         |\n",
      "|    policy_gradient_loss | -0.000613    |\n",
      "|    std                  | 0.691        |\n",
      "|    value_loss           | 166          |\n",
      "------------------------------------------\n"
     ]
    },
    {
     "data": {
      "text/html": [
       "<pre style=\"white-space:pre;overflow-x:auto;line-height:normal;font-family:Menlo,'DejaVu Sans Mono',consolas,'Courier New',monospace\">\r",
       "\u001b[2KEval num_timesteps=864000, episode_reward=80.99 +/- 4.04\n",
       "<span style=\"color: #800080; text-decoration-color: #800080\">  86%</span> <span style=\"color: #f92672; text-decoration-color: #f92672\">━━━━━━━━━━━━━━━━━━━━━━━━━━━━━━━━━━━━━━━━━━━━━━━</span><span style=\"color: #3a3a3a; text-decoration-color: #3a3a3a\">╺━━━━━━━</span> <span style=\"color: #008000; text-decoration-color: #008000\">863,520/1,000,000 </span> [ <span style=\"color: #808000; text-decoration-color: #808000\">0:03:29</span> &lt; <span style=\"color: #008080; text-decoration-color: #008080\">0:00:34</span> , <span style=\"color: #800000; text-decoration-color: #800000\">4,051 it/s</span> ]</pre>\n"
      ],
      "text/plain": [
       "\r",
       "\u001b[2KEval num_timesteps=864000, episode_reward=80.99 +/- 4.04\n",
       "\u001b[35m  86%\u001b[0m \u001b[38;2;249;38;114m━━━━━━━━━━━━━━━━━━━━━━━━━━━━━━━━━━━━━━━━━━━━━━━\u001b[0m\u001b[38;5;237m╺\u001b[0m\u001b[38;5;237m━━━━━━━\u001b[0m \u001b[32m863,520/1,000,000 \u001b[0m [ \u001b[33m0:03:29\u001b[0m < \u001b[36m0:00:34\u001b[0m , \u001b[31m4,051 it/s\u001b[0m ]"
      ]
     },
     "metadata": {},
     "output_type": "display_data"
    },
    {
     "data": {
      "text/html": [
       "<pre style=\"white-space:pre;overflow-x:auto;line-height:normal;font-family:Menlo,'DejaVu Sans Mono',consolas,'Courier New',monospace\">\r",
       "\u001b[2KEpisode length: 260.40 +/- 47.15\n",
       "<span style=\"color: #800080; text-decoration-color: #800080\">  86%</span> <span style=\"color: #f92672; text-decoration-color: #f92672\">━━━━━━━━━━━━━━━━━━━━━━━━━━━━━━━━━━━━━━━━━━━━━━━</span><span style=\"color: #3a3a3a; text-decoration-color: #3a3a3a\">╺━━━━━━━</span> <span style=\"color: #008000; text-decoration-color: #008000\">863,520/1,000,000 </span> [ <span style=\"color: #808000; text-decoration-color: #808000\">0:03:29</span> &lt; <span style=\"color: #008080; text-decoration-color: #008080\">0:00:34</span> , <span style=\"color: #800000; text-decoration-color: #800000\">4,051 it/s</span> ]</pre>\n"
      ],
      "text/plain": [
       "\r",
       "\u001b[2KEpisode length: 260.40 +/- 47.15\n",
       "\u001b[35m  86%\u001b[0m \u001b[38;2;249;38;114m━━━━━━━━━━━━━━━━━━━━━━━━━━━━━━━━━━━━━━━━━━━━━━━\u001b[0m\u001b[38;5;237m╺\u001b[0m\u001b[38;5;237m━━━━━━━\u001b[0m \u001b[32m863,520/1,000,000 \u001b[0m [ \u001b[33m0:03:29\u001b[0m < \u001b[36m0:00:34\u001b[0m , \u001b[31m4,051 it/s\u001b[0m ]"
      ]
     },
     "metadata": {},
     "output_type": "display_data"
    },
    {
     "name": "stdout",
     "output_type": "stream",
     "text": [
      "-----------------------------------------\n",
      "| eval/                   |             |\n",
      "|    mean_ep_length       | 260         |\n",
      "|    mean_reward          | 81          |\n",
      "| time/                   |             |\n",
      "|    total_timesteps      | 864000      |\n",
      "| train/                  |             |\n",
      "|    approx_kl            | 0.012338577 |\n",
      "|    clip_fraction        | 0.135       |\n",
      "|    clip_range           | 0.2         |\n",
      "|    entropy_loss         | -1.08       |\n",
      "|    explained_variance   | 0.696       |\n",
      "|    learning_rate        | 7.77e-05    |\n",
      "|    loss                 | 51.5        |\n",
      "|    n_updates            | 1050        |\n",
      "|    policy_gradient_loss | -0.00821    |\n",
      "|    std                  | 0.688       |\n",
      "|    value_loss           | 139         |\n",
      "-----------------------------------------\n"
     ]
    },
    {
     "data": {
      "text/html": [
       "<pre style=\"white-space:pre;overflow-x:auto;line-height:normal;font-family:Menlo,'DejaVu Sans Mono',consolas,'Courier New',monospace\">\r",
       "\u001b[2KNew best mean reward!\n",
       "<span style=\"color: #800080; text-decoration-color: #800080\">  86%</span> <span style=\"color: #f92672; text-decoration-color: #f92672\">━━━━━━━━━━━━━━━━━━━━━━━━━━━━━━━━━━━━━━━━━━━━━━━</span><span style=\"color: #3a3a3a; text-decoration-color: #3a3a3a\">╺━━━━━━━</span> <span style=\"color: #008000; text-decoration-color: #008000\">863,520/1,000,000 </span> [ <span style=\"color: #808000; text-decoration-color: #808000\">0:03:29</span> &lt; <span style=\"color: #008080; text-decoration-color: #008080\">0:00:34</span> , <span style=\"color: #800000; text-decoration-color: #800000\">4,051 it/s</span> ]</pre>\n"
      ],
      "text/plain": [
       "\r",
       "\u001b[2KNew best mean reward!\n",
       "\u001b[35m  86%\u001b[0m \u001b[38;2;249;38;114m━━━━━━━━━━━━━━━━━━━━━━━━━━━━━━━━━━━━━━━━━━━━━━━\u001b[0m\u001b[38;5;237m╺\u001b[0m\u001b[38;5;237m━━━━━━━\u001b[0m \u001b[32m863,520/1,000,000 \u001b[0m [ \u001b[33m0:03:29\u001b[0m < \u001b[36m0:00:34\u001b[0m , \u001b[31m4,051 it/s\u001b[0m ]"
      ]
     },
     "metadata": {},
     "output_type": "display_data"
    },
    {
     "name": "stdout",
     "output_type": "stream",
     "text": [
      "---------------------------------\n",
      "| rollout/           |          |\n",
      "|    ep_len_mean     | 293      |\n",
      "|    ep_rew_mean     | 79.9     |\n",
      "| time/              |          |\n",
      "|    fps             | 4123     |\n",
      "|    iterations      | 106      |\n",
      "|    time_elapsed    | 210      |\n",
      "|    total_timesteps | 868352   |\n",
      "---------------------------------\n",
      "------------------------------------------\n",
      "| rollout/                |              |\n",
      "|    ep_len_mean          | 294          |\n",
      "|    ep_rew_mean          | 80           |\n",
      "| time/                   |              |\n",
      "|    fps                  | 4109         |\n",
      "|    iterations           | 107          |\n",
      "|    time_elapsed         | 213          |\n",
      "|    total_timesteps      | 876544       |\n",
      "| train/                  |              |\n",
      "|    approx_kl            | 0.0016830736 |\n",
      "|    clip_fraction        | 0.0188       |\n",
      "|    clip_range           | 0.2          |\n",
      "|    entropy_loss         | -1.01        |\n",
      "|    explained_variance   | 0.58         |\n",
      "|    learning_rate        | 7.77e-05     |\n",
      "|    loss                 | 78.9         |\n",
      "|    n_updates            | 1060         |\n",
      "|    policy_gradient_loss | -0.00486     |\n",
      "|    std                  | 0.684        |\n",
      "|    value_loss           | 181          |\n",
      "------------------------------------------\n"
     ]
    },
    {
     "data": {
      "text/html": [
       "<pre style=\"white-space:pre;overflow-x:auto;line-height:normal;font-family:Menlo,'DejaVu Sans Mono',consolas,'Courier New',monospace\">\r",
       "\u001b[2KEval num_timesteps=880000, episode_reward=78.65 +/- 7.85\n",
       "<span style=\"color: #800080; text-decoration-color: #800080\">  88%</span> <span style=\"color: #f92672; text-decoration-color: #f92672\">━━━━━━━━━━━━━━━━━━━━━━━━━━━━━━━━━━━━━━━━━━━━━━━━</span><span style=\"color: #3a3a3a; text-decoration-color: #3a3a3a\">╺━━━━━━</span> <span style=\"color: #008000; text-decoration-color: #008000\">879,392/1,000,000 </span> [ <span style=\"color: #808000; text-decoration-color: #808000\">0:03:36</span> &lt; <span style=\"color: #008080; text-decoration-color: #008080\">0:00:34</span> , <span style=\"color: #800000; text-decoration-color: #800000\">3,611 it/s</span> ]</pre>\n"
      ],
      "text/plain": [
       "\r",
       "\u001b[2KEval num_timesteps=880000, episode_reward=78.65 +/- 7.85\n",
       "\u001b[35m  88%\u001b[0m \u001b[38;2;249;38;114m━━━━━━━━━━━━━━━━━━━━━━━━━━━━━━━━━━━━━━━━━━━━━━━━\u001b[0m\u001b[38;5;237m╺\u001b[0m\u001b[38;5;237m━━━━━━\u001b[0m \u001b[32m879,392/1,000,000 \u001b[0m [ \u001b[33m0:03:36\u001b[0m < \u001b[36m0:00:34\u001b[0m , \u001b[31m3,611 it/s\u001b[0m ]"
      ]
     },
     "metadata": {},
     "output_type": "display_data"
    },
    {
     "data": {
      "text/html": [
       "<pre style=\"white-space:pre;overflow-x:auto;line-height:normal;font-family:Menlo,'DejaVu Sans Mono',consolas,'Courier New',monospace\">\r",
       "\u001b[2KEpisode length: 280.00 +/- 89.03\n",
       "<span style=\"color: #800080; text-decoration-color: #800080\">  88%</span> <span style=\"color: #f92672; text-decoration-color: #f92672\">━━━━━━━━━━━━━━━━━━━━━━━━━━━━━━━━━━━━━━━━━━━━━━━━</span><span style=\"color: #3a3a3a; text-decoration-color: #3a3a3a\">╺━━━━━━</span> <span style=\"color: #008000; text-decoration-color: #008000\">879,392/1,000,000 </span> [ <span style=\"color: #808000; text-decoration-color: #808000\">0:03:36</span> &lt; <span style=\"color: #008080; text-decoration-color: #008080\">0:00:34</span> , <span style=\"color: #800000; text-decoration-color: #800000\">3,611 it/s</span> ]</pre>\n"
      ],
      "text/plain": [
       "\r",
       "\u001b[2KEpisode length: 280.00 +/- 89.03\n",
       "\u001b[35m  88%\u001b[0m \u001b[38;2;249;38;114m━━━━━━━━━━━━━━━━━━━━━━━━━━━━━━━━━━━━━━━━━━━━━━━━\u001b[0m\u001b[38;5;237m╺\u001b[0m\u001b[38;5;237m━━━━━━\u001b[0m \u001b[32m879,392/1,000,000 \u001b[0m [ \u001b[33m0:03:36\u001b[0m < \u001b[36m0:00:34\u001b[0m , \u001b[31m3,611 it/s\u001b[0m ]"
      ]
     },
     "metadata": {},
     "output_type": "display_data"
    },
    {
     "name": "stdout",
     "output_type": "stream",
     "text": [
      "------------------------------------------\n",
      "| eval/                   |              |\n",
      "|    mean_ep_length       | 280          |\n",
      "|    mean_reward          | 78.6         |\n",
      "| time/                   |              |\n",
      "|    total_timesteps      | 880000       |\n",
      "| train/                  |              |\n",
      "|    approx_kl            | 0.0083751185 |\n",
      "|    clip_fraction        | 0.0497       |\n",
      "|    clip_range           | 0.2          |\n",
      "|    entropy_loss         | -1.08        |\n",
      "|    explained_variance   | 0.704        |\n",
      "|    learning_rate        | 7.77e-05     |\n",
      "|    loss                 | 53.3         |\n",
      "|    n_updates            | 1070         |\n",
      "|    policy_gradient_loss | -0.00262     |\n",
      "|    std                  | 0.679        |\n",
      "|    value_loss           | 145          |\n",
      "------------------------------------------\n",
      "---------------------------------\n",
      "| rollout/           |          |\n",
      "|    ep_len_mean     | 289      |\n",
      "|    ep_rew_mean     | 80.2     |\n",
      "| time/              |          |\n",
      "|    fps             | 4084     |\n",
      "|    iterations      | 108      |\n",
      "|    time_elapsed    | 216      |\n",
      "|    total_timesteps | 884736   |\n",
      "---------------------------------\n",
      "------------------------------------------\n",
      "| rollout/                |              |\n",
      "|    ep_len_mean          | 298          |\n",
      "|    ep_rew_mean          | 79.1         |\n",
      "| time/                   |              |\n",
      "|    fps                  | 4087         |\n",
      "|    iterations           | 109          |\n",
      "|    time_elapsed         | 218          |\n",
      "|    total_timesteps      | 892928       |\n",
      "| train/                  |              |\n",
      "|    approx_kl            | 0.0038867863 |\n",
      "|    clip_fraction        | 0.0197       |\n",
      "|    clip_range           | 0.2          |\n",
      "|    entropy_loss         | -1.1         |\n",
      "|    explained_variance   | 0.705        |\n",
      "|    learning_rate        | 7.77e-05     |\n",
      "|    loss                 | 51.2         |\n",
      "|    n_updates            | 1080         |\n",
      "|    policy_gradient_loss | -0.00167     |\n",
      "|    std                  | 0.677        |\n",
      "|    value_loss           | 116          |\n",
      "------------------------------------------\n"
     ]
    },
    {
     "data": {
      "text/html": [
       "<pre style=\"white-space:pre;overflow-x:auto;line-height:normal;font-family:Menlo,'DejaVu Sans Mono',consolas,'Courier New',monospace\">\r",
       "\u001b[2KEval num_timesteps=896000, episode_reward=78.51 +/- 6.66\n",
       "<span style=\"color: #800080; text-decoration-color: #800080\">  90%</span> <span style=\"color: #f92672; text-decoration-color: #f92672\">━━━━━━━━━━━━━━━━━━━━━━━━━━━━━━━━━━━━━━━━━━━━━━━━━</span><span style=\"color: #3a3a3a; text-decoration-color: #3a3a3a\">╺━━━━━</span> <span style=\"color: #008000; text-decoration-color: #008000\">895,712/1,000,000 </span> [ <span style=\"color: #808000; text-decoration-color: #808000\">0:03:39</span> &lt; <span style=\"color: #008080; text-decoration-color: #008080\">0:00:32</span> , <span style=\"color: #800000; text-decoration-color: #800000\">3,350 it/s</span> ]</pre>\n"
      ],
      "text/plain": [
       "\r",
       "\u001b[2KEval num_timesteps=896000, episode_reward=78.51 +/- 6.66\n",
       "\u001b[35m  90%\u001b[0m \u001b[38;2;249;38;114m━━━━━━━━━━━━━━━━━━━━━━━━━━━━━━━━━━━━━━━━━━━━━━━━━\u001b[0m\u001b[38;5;237m╺\u001b[0m\u001b[38;5;237m━━━━━\u001b[0m \u001b[32m895,712/1,000,000 \u001b[0m [ \u001b[33m0:03:39\u001b[0m < \u001b[36m0:00:32\u001b[0m , \u001b[31m3,350 it/s\u001b[0m ]"
      ]
     },
     "metadata": {},
     "output_type": "display_data"
    },
    {
     "data": {
      "text/html": [
       "<pre style=\"white-space:pre;overflow-x:auto;line-height:normal;font-family:Menlo,'DejaVu Sans Mono',consolas,'Courier New',monospace\">\r",
       "\u001b[2KEpisode length: 280.40 +/- 75.26\n",
       "<span style=\"color: #800080; text-decoration-color: #800080\">  90%</span> <span style=\"color: #f92672; text-decoration-color: #f92672\">━━━━━━━━━━━━━━━━━━━━━━━━━━━━━━━━━━━━━━━━━━━━━━━━━</span><span style=\"color: #3a3a3a; text-decoration-color: #3a3a3a\">╺━━━━━</span> <span style=\"color: #008000; text-decoration-color: #008000\">895,712/1,000,000 </span> [ <span style=\"color: #808000; text-decoration-color: #808000\">0:03:39</span> &lt; <span style=\"color: #008080; text-decoration-color: #008080\">0:00:32</span> , <span style=\"color: #800000; text-decoration-color: #800000\">3,350 it/s</span> ]</pre>\n"
      ],
      "text/plain": [
       "\r",
       "\u001b[2KEpisode length: 280.40 +/- 75.26\n",
       "\u001b[35m  90%\u001b[0m \u001b[38;2;249;38;114m━━━━━━━━━━━━━━━━━━━━━━━━━━━━━━━━━━━━━━━━━━━━━━━━━\u001b[0m\u001b[38;5;237m╺\u001b[0m\u001b[38;5;237m━━━━━\u001b[0m \u001b[32m895,712/1,000,000 \u001b[0m [ \u001b[33m0:03:39\u001b[0m < \u001b[36m0:00:32\u001b[0m , \u001b[31m3,350 it/s\u001b[0m ]"
      ]
     },
     "metadata": {},
     "output_type": "display_data"
    },
    {
     "name": "stdout",
     "output_type": "stream",
     "text": [
      "-----------------------------------------\n",
      "| eval/                   |             |\n",
      "|    mean_ep_length       | 280         |\n",
      "|    mean_reward          | 78.5        |\n",
      "| time/                   |             |\n",
      "|    total_timesteps      | 896000      |\n",
      "| train/                  |             |\n",
      "|    approx_kl            | 0.006108508 |\n",
      "|    clip_fraction        | 0.068       |\n",
      "|    clip_range           | 0.2         |\n",
      "|    entropy_loss         | -1.02       |\n",
      "|    explained_variance   | 0.678       |\n",
      "|    learning_rate        | 7.77e-05    |\n",
      "|    loss                 | 64.8        |\n",
      "|    n_updates            | 1090        |\n",
      "|    policy_gradient_loss | -0.00279    |\n",
      "|    std                  | 0.681       |\n",
      "|    value_loss           | 143         |\n",
      "-----------------------------------------\n",
      "---------------------------------\n",
      "| rollout/           |          |\n",
      "|    ep_len_mean     | 300      |\n",
      "|    ep_rew_mean     | 78.3     |\n",
      "| time/              |          |\n",
      "|    fps             | 4095     |\n",
      "|    iterations      | 110      |\n",
      "|    time_elapsed    | 220      |\n",
      "|    total_timesteps | 901120   |\n",
      "---------------------------------\n",
      "-----------------------------------------\n",
      "| rollout/                |             |\n",
      "|    ep_len_mean          | 297         |\n",
      "|    ep_rew_mean          | 78.2        |\n",
      "| time/                   |             |\n",
      "|    fps                  | 4109        |\n",
      "|    iterations           | 111         |\n",
      "|    time_elapsed         | 221         |\n",
      "|    total_timesteps      | 909312      |\n",
      "| train/                  |             |\n",
      "|    approx_kl            | 0.008873084 |\n",
      "|    clip_fraction        | 0.0721      |\n",
      "|    clip_range           | 0.2         |\n",
      "|    entropy_loss         | -1.08       |\n",
      "|    explained_variance   | 0.694       |\n",
      "|    learning_rate        | 7.77e-05    |\n",
      "|    loss                 | 55.5        |\n",
      "|    n_updates            | 1100        |\n",
      "|    policy_gradient_loss | -0.00557    |\n",
      "|    std                  | 0.677       |\n",
      "|    value_loss           | 129         |\n",
      "-----------------------------------------\n"
     ]
    },
    {
     "data": {
      "text/html": [
       "<pre style=\"white-space:pre;overflow-x:auto;line-height:normal;font-family:Menlo,'DejaVu Sans Mono',consolas,'Courier New',monospace\">\r",
       "\u001b[2KEval num_timesteps=912000, episode_reward=83.41 +/- 5.52\n",
       "<span style=\"color: #800080; text-decoration-color: #800080\">  91%</span> <span style=\"color: #f92672; text-decoration-color: #f92672\">━━━━━━━━━━━━━━━━━━━━━━━━━━━━━━━━━━━━━━━━━━━━━━━━━━</span><span style=\"color: #3a3a3a; text-decoration-color: #3a3a3a\">╺━━━━</span> <span style=\"color: #008000; text-decoration-color: #008000\">910,624/1,000,000 </span> [ <span style=\"color: #808000; text-decoration-color: #808000\">0:03:42</span> &lt; <span style=\"color: #008080; text-decoration-color: #008080\">0:00:27</span> , <span style=\"color: #800000; text-decoration-color: #800000\">3,348 it/s</span> ]</pre>\n"
      ],
      "text/plain": [
       "\r",
       "\u001b[2KEval num_timesteps=912000, episode_reward=83.41 +/- 5.52\n",
       "\u001b[35m  91%\u001b[0m \u001b[38;2;249;38;114m━━━━━━━━━━━━━━━━━━━━━━━━━━━━━━━━━━━━━━━━━━━━━━━━━━\u001b[0m\u001b[38;5;237m╺\u001b[0m\u001b[38;5;237m━━━━\u001b[0m \u001b[32m910,624/1,000,000 \u001b[0m [ \u001b[33m0:03:42\u001b[0m < \u001b[36m0:00:27\u001b[0m , \u001b[31m3,348 it/s\u001b[0m ]"
      ]
     },
     "metadata": {},
     "output_type": "display_data"
    },
    {
     "data": {
      "text/html": [
       "<pre style=\"white-space:pre;overflow-x:auto;line-height:normal;font-family:Menlo,'DejaVu Sans Mono',consolas,'Courier New',monospace\">\r",
       "\u001b[2KEpisode length: 220.00 +/- 61.51\n",
       "<span style=\"color: #800080; text-decoration-color: #800080\">  91%</span> <span style=\"color: #f92672; text-decoration-color: #f92672\">━━━━━━━━━━━━━━━━━━━━━━━━━━━━━━━━━━━━━━━━━━━━━━━━━━</span><span style=\"color: #3a3a3a; text-decoration-color: #3a3a3a\">╺━━━━</span> <span style=\"color: #008000; text-decoration-color: #008000\">910,624/1,000,000 </span> [ <span style=\"color: #808000; text-decoration-color: #808000\">0:03:42</span> &lt; <span style=\"color: #008080; text-decoration-color: #008080\">0:00:27</span> , <span style=\"color: #800000; text-decoration-color: #800000\">3,348 it/s</span> ]</pre>\n"
      ],
      "text/plain": [
       "\r",
       "\u001b[2KEpisode length: 220.00 +/- 61.51\n",
       "\u001b[35m  91%\u001b[0m \u001b[38;2;249;38;114m━━━━━━━━━━━━━━━━━━━━━━━━━━━━━━━━━━━━━━━━━━━━━━━━━━\u001b[0m\u001b[38;5;237m╺\u001b[0m\u001b[38;5;237m━━━━\u001b[0m \u001b[32m910,624/1,000,000 \u001b[0m [ \u001b[33m0:03:42\u001b[0m < \u001b[36m0:00:27\u001b[0m , \u001b[31m3,348 it/s\u001b[0m ]"
      ]
     },
     "metadata": {},
     "output_type": "display_data"
    },
    {
     "name": "stdout",
     "output_type": "stream",
     "text": [
      "-----------------------------------------\n",
      "| eval/                   |             |\n",
      "|    mean_ep_length       | 220         |\n",
      "|    mean_reward          | 83.4        |\n",
      "| time/                   |             |\n",
      "|    total_timesteps      | 912000      |\n",
      "| train/                  |             |\n",
      "|    approx_kl            | 0.015610078 |\n",
      "|    clip_fraction        | 0.161       |\n",
      "|    clip_range           | 0.2         |\n",
      "|    entropy_loss         | -1.01       |\n",
      "|    explained_variance   | 0.725       |\n",
      "|    learning_rate        | 7.77e-05    |\n",
      "|    loss                 | 65          |\n",
      "|    n_updates            | 1110        |\n",
      "|    policy_gradient_loss | -0.00809    |\n",
      "|    std                  | 0.673       |\n",
      "|    value_loss           | 134         |\n",
      "-----------------------------------------\n"
     ]
    },
    {
     "data": {
      "text/html": [
       "<pre style=\"white-space:pre;overflow-x:auto;line-height:normal;font-family:Menlo,'DejaVu Sans Mono',consolas,'Courier New',monospace\">\r",
       "\u001b[2KNew best mean reward!\n",
       "<span style=\"color: #800080; text-decoration-color: #800080\">  91%</span> <span style=\"color: #f92672; text-decoration-color: #f92672\">━━━━━━━━━━━━━━━━━━━━━━━━━━━━━━━━━━━━━━━━━━━━━━━━━━</span><span style=\"color: #3a3a3a; text-decoration-color: #3a3a3a\">╺━━━━</span> <span style=\"color: #008000; text-decoration-color: #008000\">910,624/1,000,000 </span> [ <span style=\"color: #808000; text-decoration-color: #808000\">0:03:42</span> &lt; <span style=\"color: #008080; text-decoration-color: #008080\">0:00:27</span> , <span style=\"color: #800000; text-decoration-color: #800000\">3,348 it/s</span> ]</pre>\n"
      ],
      "text/plain": [
       "\r",
       "\u001b[2KNew best mean reward!\n",
       "\u001b[35m  91%\u001b[0m \u001b[38;2;249;38;114m━━━━━━━━━━━━━━━━━━━━━━━━━━━━━━━━━━━━━━━━━━━━━━━━━━\u001b[0m\u001b[38;5;237m╺\u001b[0m\u001b[38;5;237m━━━━\u001b[0m \u001b[32m910,624/1,000,000 \u001b[0m [ \u001b[33m0:03:42\u001b[0m < \u001b[36m0:00:27\u001b[0m , \u001b[31m3,348 it/s\u001b[0m ]"
      ]
     },
     "metadata": {},
     "output_type": "display_data"
    },
    {
     "name": "stdout",
     "output_type": "stream",
     "text": [
      "---------------------------------\n",
      "| rollout/           |          |\n",
      "|    ep_len_mean     | 299      |\n",
      "|    ep_rew_mean     | 77.5     |\n",
      "| time/              |          |\n",
      "|    fps             | 4110     |\n",
      "|    iterations      | 112      |\n",
      "|    time_elapsed    | 223      |\n",
      "|    total_timesteps | 917504   |\n",
      "---------------------------------\n",
      "-----------------------------------------\n",
      "| rollout/                |             |\n",
      "|    ep_len_mean          | 283         |\n",
      "|    ep_rew_mean          | 78.6        |\n",
      "| time/                   |             |\n",
      "|    fps                  | 4122        |\n",
      "|    iterations           | 113         |\n",
      "|    time_elapsed         | 224         |\n",
      "|    total_timesteps      | 925696      |\n",
      "| train/                  |             |\n",
      "|    approx_kl            | 0.006512434 |\n",
      "|    clip_fraction        | 0.0716      |\n",
      "|    clip_range           | 0.2         |\n",
      "|    entropy_loss         | -0.985      |\n",
      "|    explained_variance   | 0.711       |\n",
      "|    learning_rate        | 7.77e-05    |\n",
      "|    loss                 | 46.2        |\n",
      "|    n_updates            | 1120        |\n",
      "|    policy_gradient_loss | -0.00385    |\n",
      "|    std                  | 0.671       |\n",
      "|    value_loss           | 148         |\n",
      "-----------------------------------------\n"
     ]
    },
    {
     "data": {
      "text/html": [
       "<pre style=\"white-space:pre;overflow-x:auto;line-height:normal;font-family:Menlo,'DejaVu Sans Mono',consolas,'Courier New',monospace\">\r",
       "\u001b[2KEval num_timesteps=928000, episode_reward=79.96 +/- 4.48\n",
       "<span style=\"color: #800080; text-decoration-color: #800080\">  93%</span> <span style=\"color: #f92672; text-decoration-color: #f92672\">━━━━━━━━━━━━━━━━━━━━━━━━━━━━━━━━━━━━━━━━━━━━━━━━━━━</span><span style=\"color: #3a3a3a; text-decoration-color: #3a3a3a\">╺━━━</span> <span style=\"color: #008000; text-decoration-color: #008000\">927,488/1,000,000 </span> [ <span style=\"color: #808000; text-decoration-color: #808000\">0:03:45</span> &lt; <span style=\"color: #008080; text-decoration-color: #008080\">0:00:20</span> , <span style=\"color: #800000; text-decoration-color: #800000\">3,634 it/s</span> ]</pre>\n"
      ],
      "text/plain": [
       "\r",
       "\u001b[2KEval num_timesteps=928000, episode_reward=79.96 +/- 4.48\n",
       "\u001b[35m  93%\u001b[0m \u001b[38;2;249;38;114m━━━━━━━━━━━━━━━━━━━━━━━━━━━━━━━━━━━━━━━━━━━━━━━━━━━\u001b[0m\u001b[38;5;237m╺\u001b[0m\u001b[38;5;237m━━━\u001b[0m \u001b[32m927,488/1,000,000 \u001b[0m [ \u001b[33m0:03:45\u001b[0m < \u001b[36m0:00:20\u001b[0m , \u001b[31m3,634 it/s\u001b[0m ]"
      ]
     },
     "metadata": {},
     "output_type": "display_data"
    },
    {
     "data": {
      "text/html": [
       "<pre style=\"white-space:pre;overflow-x:auto;line-height:normal;font-family:Menlo,'DejaVu Sans Mono',consolas,'Courier New',monospace\">\r",
       "\u001b[2KEpisode length: 262.60 +/- 49.37\n",
       "<span style=\"color: #800080; text-decoration-color: #800080\">  93%</span> <span style=\"color: #f92672; text-decoration-color: #f92672\">━━━━━━━━━━━━━━━━━━━━━━━━━━━━━━━━━━━━━━━━━━━━━━━━━━━</span><span style=\"color: #3a3a3a; text-decoration-color: #3a3a3a\">╺━━━</span> <span style=\"color: #008000; text-decoration-color: #008000\">927,488/1,000,000 </span> [ <span style=\"color: #808000; text-decoration-color: #808000\">0:03:45</span> &lt; <span style=\"color: #008080; text-decoration-color: #008080\">0:00:20</span> , <span style=\"color: #800000; text-decoration-color: #800000\">3,634 it/s</span> ]</pre>\n"
      ],
      "text/plain": [
       "\r",
       "\u001b[2KEpisode length: 262.60 +/- 49.37\n",
       "\u001b[35m  93%\u001b[0m \u001b[38;2;249;38;114m━━━━━━━━━━━━━━━━━━━━━━━━━━━━━━━━━━━━━━━━━━━━━━━━━━━\u001b[0m\u001b[38;5;237m╺\u001b[0m\u001b[38;5;237m━━━\u001b[0m \u001b[32m927,488/1,000,000 \u001b[0m [ \u001b[33m0:03:45\u001b[0m < \u001b[36m0:00:20\u001b[0m , \u001b[31m3,634 it/s\u001b[0m ]"
      ]
     },
     "metadata": {},
     "output_type": "display_data"
    },
    {
     "name": "stdout",
     "output_type": "stream",
     "text": [
      "-----------------------------------------\n",
      "| eval/                   |             |\n",
      "|    mean_ep_length       | 263         |\n",
      "|    mean_reward          | 80          |\n",
      "| time/                   |             |\n",
      "|    total_timesteps      | 928000      |\n",
      "| train/                  |             |\n",
      "|    approx_kl            | 0.006308357 |\n",
      "|    clip_fraction        | 0.0489      |\n",
      "|    clip_range           | 0.2         |\n",
      "|    entropy_loss         | -0.951      |\n",
      "|    explained_variance   | 0.681       |\n",
      "|    learning_rate        | 7.77e-05    |\n",
      "|    loss                 | 56.5        |\n",
      "|    n_updates            | 1130        |\n",
      "|    policy_gradient_loss | -0.00291    |\n",
      "|    std                  | 0.668       |\n",
      "|    value_loss           | 155         |\n",
      "-----------------------------------------\n",
      "---------------------------------\n",
      "| rollout/           |          |\n",
      "|    ep_len_mean     | 261      |\n",
      "|    ep_rew_mean     | 80.8     |\n",
      "| time/              |          |\n",
      "|    fps             | 4127     |\n",
      "|    iterations      | 114      |\n",
      "|    time_elapsed    | 226      |\n",
      "|    total_timesteps | 933888   |\n",
      "---------------------------------\n",
      "------------------------------------------\n",
      "| rollout/                |              |\n",
      "|    ep_len_mean          | 238          |\n",
      "|    ep_rew_mean          | 83           |\n",
      "| time/                   |              |\n",
      "|    fps                  | 4141         |\n",
      "|    iterations           | 115          |\n",
      "|    time_elapsed         | 227          |\n",
      "|    total_timesteps      | 942080       |\n",
      "| train/                  |              |\n",
      "|    approx_kl            | 0.0023496416 |\n",
      "|    clip_fraction        | 0.026        |\n",
      "|    clip_range           | 0.2          |\n",
      "|    entropy_loss         | -0.958       |\n",
      "|    explained_variance   | 0.639        |\n",
      "|    learning_rate        | 7.77e-05     |\n",
      "|    loss                 | 98.6         |\n",
      "|    n_updates            | 1140         |\n",
      "|    policy_gradient_loss | -0.00256     |\n",
      "|    std                  | 0.667        |\n",
      "|    value_loss           | 211          |\n",
      "------------------------------------------\n"
     ]
    },
    {
     "data": {
      "text/html": [
       "<pre style=\"white-space:pre;overflow-x:auto;line-height:normal;font-family:Menlo,'DejaVu Sans Mono',consolas,'Courier New',monospace\">\r",
       "\u001b[2KEval num_timesteps=944000, episode_reward=86.19 +/- 3.65\n",
       "<span style=\"color: #800080; text-decoration-color: #800080\">  94%</span> <span style=\"color: #f92672; text-decoration-color: #f92672\">━━━━━━━━━━━━━━━━━━━━━━━━━━━━━━━━━━━━━━━━━━━━━━━━━━━╸</span><span style=\"color: #3a3a3a; text-decoration-color: #3a3a3a\">━━━</span> <span style=\"color: #008000; text-decoration-color: #008000\">942,368/1,000,000 </span> [ <span style=\"color: #808000; text-decoration-color: #808000\">0:03:48</span> &lt; <span style=\"color: #008080; text-decoration-color: #008080\">0:00:16</span> , <span style=\"color: #800000; text-decoration-color: #800000\">3,785 it/s</span> ]</pre>\n"
      ],
      "text/plain": [
       "\r",
       "\u001b[2KEval num_timesteps=944000, episode_reward=86.19 +/- 3.65\n",
       "\u001b[35m  94%\u001b[0m \u001b[38;2;249;38;114m━━━━━━━━━━━━━━━━━━━━━━━━━━━━━━━━━━━━━━━━━━━━━━━━━━━\u001b[0m\u001b[38;2;249;38;114m╸\u001b[0m\u001b[38;5;237m━━━\u001b[0m \u001b[32m942,368/1,000,000 \u001b[0m [ \u001b[33m0:03:48\u001b[0m < \u001b[36m0:00:16\u001b[0m , \u001b[31m3,785 it/s\u001b[0m ]"
      ]
     },
     "metadata": {},
     "output_type": "display_data"
    },
    {
     "data": {
      "text/html": [
       "<pre style=\"white-space:pre;overflow-x:auto;line-height:normal;font-family:Menlo,'DejaVu Sans Mono',consolas,'Courier New',monospace\">\r",
       "\u001b[2KEpisode length: 185.20 +/- 44.92\n",
       "<span style=\"color: #800080; text-decoration-color: #800080\">  94%</span> <span style=\"color: #f92672; text-decoration-color: #f92672\">━━━━━━━━━━━━━━━━━━━━━━━━━━━━━━━━━━━━━━━━━━━━━━━━━━━╸</span><span style=\"color: #3a3a3a; text-decoration-color: #3a3a3a\">━━━</span> <span style=\"color: #008000; text-decoration-color: #008000\">942,368/1,000,000 </span> [ <span style=\"color: #808000; text-decoration-color: #808000\">0:03:48</span> &lt; <span style=\"color: #008080; text-decoration-color: #008080\">0:00:16</span> , <span style=\"color: #800000; text-decoration-color: #800000\">3,785 it/s</span> ]</pre>\n"
      ],
      "text/plain": [
       "\r",
       "\u001b[2KEpisode length: 185.20 +/- 44.92\n",
       "\u001b[35m  94%\u001b[0m \u001b[38;2;249;38;114m━━━━━━━━━━━━━━━━━━━━━━━━━━━━━━━━━━━━━━━━━━━━━━━━━━━\u001b[0m\u001b[38;2;249;38;114m╸\u001b[0m\u001b[38;5;237m━━━\u001b[0m \u001b[32m942,368/1,000,000 \u001b[0m [ \u001b[33m0:03:48\u001b[0m < \u001b[36m0:00:16\u001b[0m , \u001b[31m3,785 it/s\u001b[0m ]"
      ]
     },
     "metadata": {},
     "output_type": "display_data"
    },
    {
     "name": "stdout",
     "output_type": "stream",
     "text": [
      "-----------------------------------------\n",
      "| eval/                   |             |\n",
      "|    mean_ep_length       | 185         |\n",
      "|    mean_reward          | 86.2        |\n",
      "| time/                   |             |\n",
      "|    total_timesteps      | 944000      |\n",
      "| train/                  |             |\n",
      "|    approx_kl            | 0.009521402 |\n",
      "|    clip_fraction        | 0.0359      |\n",
      "|    clip_range           | 0.2         |\n",
      "|    entropy_loss         | -0.947      |\n",
      "|    explained_variance   | 0.706       |\n",
      "|    learning_rate        | 7.77e-05    |\n",
      "|    loss                 | 75          |\n",
      "|    n_updates            | 1150        |\n",
      "|    policy_gradient_loss | -0.00596    |\n",
      "|    std                  | 0.66        |\n",
      "|    value_loss           | 147         |\n",
      "-----------------------------------------\n"
     ]
    },
    {
     "data": {
      "text/html": [
       "<pre style=\"white-space:pre;overflow-x:auto;line-height:normal;font-family:Menlo,'DejaVu Sans Mono',consolas,'Courier New',monospace\">\r",
       "\u001b[2KNew best mean reward!\n",
       "<span style=\"color: #800080; text-decoration-color: #800080\">  94%</span> <span style=\"color: #f92672; text-decoration-color: #f92672\">━━━━━━━━━━━━━━━━━━━━━━━━━━━━━━━━━━━━━━━━━━━━━━━━━━━╸</span><span style=\"color: #3a3a3a; text-decoration-color: #3a3a3a\">━━━</span> <span style=\"color: #008000; text-decoration-color: #008000\">942,368/1,000,000 </span> [ <span style=\"color: #808000; text-decoration-color: #808000\">0:03:48</span> &lt; <span style=\"color: #008080; text-decoration-color: #008080\">0:00:16</span> , <span style=\"color: #800000; text-decoration-color: #800000\">3,785 it/s</span> ]</pre>\n"
      ],
      "text/plain": [
       "\r",
       "\u001b[2KNew best mean reward!\n",
       "\u001b[35m  94%\u001b[0m \u001b[38;2;249;38;114m━━━━━━━━━━━━━━━━━━━━━━━━━━━━━━━━━━━━━━━━━━━━━━━━━━━\u001b[0m\u001b[38;2;249;38;114m╸\u001b[0m\u001b[38;5;237m━━━\u001b[0m \u001b[32m942,368/1,000,000 \u001b[0m [ \u001b[33m0:03:48\u001b[0m < \u001b[36m0:00:16\u001b[0m , \u001b[31m3,785 it/s\u001b[0m ]"
      ]
     },
     "metadata": {},
     "output_type": "display_data"
    },
    {
     "name": "stdout",
     "output_type": "stream",
     "text": [
      "---------------------------------\n",
      "| rollout/           |          |\n",
      "|    ep_len_mean     | 219      |\n",
      "|    ep_rew_mean     | 84.6     |\n",
      "| time/              |          |\n",
      "|    fps             | 4147     |\n",
      "|    iterations      | 116      |\n",
      "|    time_elapsed    | 229      |\n",
      "|    total_timesteps | 950272   |\n",
      "---------------------------------\n",
      "-----------------------------------------\n",
      "| rollout/                |             |\n",
      "|    ep_len_mean          | 220         |\n",
      "|    ep_rew_mean          | 84.2        |\n",
      "| time/                   |             |\n",
      "|    fps                  | 4161        |\n",
      "|    iterations           | 117         |\n",
      "|    time_elapsed         | 230         |\n",
      "|    total_timesteps      | 958464      |\n",
      "| train/                  |             |\n",
      "|    approx_kl            | 0.002884412 |\n",
      "|    clip_fraction        | 0.0686      |\n",
      "|    clip_range           | 0.2         |\n",
      "|    entropy_loss         | -0.941      |\n",
      "|    explained_variance   | 0.705       |\n",
      "|    learning_rate        | 7.77e-05    |\n",
      "|    loss                 | 77.8        |\n",
      "|    n_updates            | 1160        |\n",
      "|    policy_gradient_loss | -0.00239    |\n",
      "|    std                  | 0.661       |\n",
      "|    value_loss           | 170         |\n",
      "-----------------------------------------\n"
     ]
    },
    {
     "data": {
      "text/html": [
       "<pre style=\"white-space:pre;overflow-x:auto;line-height:normal;font-family:Menlo,'DejaVu Sans Mono',consolas,'Courier New',monospace\">\r",
       "\u001b[2KEval num_timesteps=960000, episode_reward=84.60 +/- 2.53\n",
       "<span style=\"color: #800080; text-decoration-color: #800080\">  96%</span> <span style=\"color: #f92672; text-decoration-color: #f92672\">━━━━━━━━━━━━━━━━━━━━━━━━━━━━━━━━━━━━━━━━━━━━━━━━━━━━╸</span><span style=\"color: #3a3a3a; text-decoration-color: #3a3a3a\">━━</span> <span style=\"color: #008000; text-decoration-color: #008000\">958,400/1,000,000 </span> [ <span style=\"color: #808000; text-decoration-color: #808000\">0:03:51</span> &lt; <span style=\"color: #008080; text-decoration-color: #008080\">0:00:10</span> , <span style=\"color: #800000; text-decoration-color: #800000\">4,271 it/s</span> ]</pre>\n"
      ],
      "text/plain": [
       "\r",
       "\u001b[2KEval num_timesteps=960000, episode_reward=84.60 +/- 2.53\n",
       "\u001b[35m  96%\u001b[0m \u001b[38;2;249;38;114m━━━━━━━━━━━━━━━━━━━━━━━━━━━━━━━━━━━━━━━━━━━━━━━━━━━━\u001b[0m\u001b[38;2;249;38;114m╸\u001b[0m\u001b[38;5;237m━━\u001b[0m \u001b[32m958,400/1,000,000 \u001b[0m [ \u001b[33m0:03:51\u001b[0m < \u001b[36m0:00:10\u001b[0m , \u001b[31m4,271 it/s\u001b[0m ]"
      ]
     },
     "metadata": {},
     "output_type": "display_data"
    },
    {
     "data": {
      "text/html": [
       "<pre style=\"white-space:pre;overflow-x:auto;line-height:normal;font-family:Menlo,'DejaVu Sans Mono',consolas,'Courier New',monospace\">\r",
       "\u001b[2KEpisode length: 202.00 +/- 31.13\n",
       "<span style=\"color: #800080; text-decoration-color: #800080\">  96%</span> <span style=\"color: #f92672; text-decoration-color: #f92672\">━━━━━━━━━━━━━━━━━━━━━━━━━━━━━━━━━━━━━━━━━━━━━━━━━━━━╸</span><span style=\"color: #3a3a3a; text-decoration-color: #3a3a3a\">━━</span> <span style=\"color: #008000; text-decoration-color: #008000\">958,400/1,000,000 </span> [ <span style=\"color: #808000; text-decoration-color: #808000\">0:03:51</span> &lt; <span style=\"color: #008080; text-decoration-color: #008080\">0:00:10</span> , <span style=\"color: #800000; text-decoration-color: #800000\">4,271 it/s</span> ]</pre>\n"
      ],
      "text/plain": [
       "\r",
       "\u001b[2KEpisode length: 202.00 +/- 31.13\n",
       "\u001b[35m  96%\u001b[0m \u001b[38;2;249;38;114m━━━━━━━━━━━━━━━━━━━━━━━━━━━━━━━━━━━━━━━━━━━━━━━━━━━━\u001b[0m\u001b[38;2;249;38;114m╸\u001b[0m\u001b[38;5;237m━━\u001b[0m \u001b[32m958,400/1,000,000 \u001b[0m [ \u001b[33m0:03:51\u001b[0m < \u001b[36m0:00:10\u001b[0m , \u001b[31m4,271 it/s\u001b[0m ]"
      ]
     },
     "metadata": {},
     "output_type": "display_data"
    },
    {
     "name": "stdout",
     "output_type": "stream",
     "text": [
      "------------------------------------------\n",
      "| eval/                   |              |\n",
      "|    mean_ep_length       | 202          |\n",
      "|    mean_reward          | 84.6         |\n",
      "| time/                   |              |\n",
      "|    total_timesteps      | 960000       |\n",
      "| train/                  |              |\n",
      "|    approx_kl            | 0.0043596467 |\n",
      "|    clip_fraction        | 0.009        |\n",
      "|    clip_range           | 0.2          |\n",
      "|    entropy_loss         | -0.918       |\n",
      "|    explained_variance   | 0.728        |\n",
      "|    learning_rate        | 7.77e-05     |\n",
      "|    loss                 | 52.7         |\n",
      "|    n_updates            | 1170         |\n",
      "|    policy_gradient_loss | -0.00272     |\n",
      "|    std                  | 0.657        |\n",
      "|    value_loss           | 141          |\n",
      "------------------------------------------\n",
      "---------------------------------\n",
      "| rollout/           |          |\n",
      "|    ep_len_mean     | 215      |\n",
      "|    ep_rew_mean     | 84.5     |\n",
      "| time/              |          |\n",
      "|    fps             | 4168     |\n",
      "|    iterations      | 118      |\n",
      "|    time_elapsed    | 231      |\n",
      "|    total_timesteps | 966656   |\n",
      "---------------------------------\n",
      "-----------------------------------------\n",
      "| rollout/                |             |\n",
      "|    ep_len_mean          | 200         |\n",
      "|    ep_rew_mean          | 85.7        |\n",
      "| time/                   |             |\n",
      "|    fps                  | 4157        |\n",
      "|    iterations           | 119         |\n",
      "|    time_elapsed         | 234         |\n",
      "|    total_timesteps      | 974848      |\n",
      "| train/                  |             |\n",
      "|    approx_kl            | 0.004678791 |\n",
      "|    clip_fraction        | 0.0627      |\n",
      "|    clip_range           | 0.2         |\n",
      "|    entropy_loss         | -0.929      |\n",
      "|    explained_variance   | 0.703       |\n",
      "|    learning_rate        | 7.77e-05    |\n",
      "|    loss                 | 97          |\n",
      "|    n_updates            | 1180        |\n",
      "|    policy_gradient_loss | -0.00242    |\n",
      "|    std                  | 0.655       |\n",
      "|    value_loss           | 181         |\n",
      "-----------------------------------------\n"
     ]
    },
    {
     "data": {
      "text/html": [
       "<pre style=\"white-space:pre;overflow-x:auto;line-height:normal;font-family:Menlo,'DejaVu Sans Mono',consolas,'Courier New',monospace\">\r",
       "\u001b[2KEval num_timesteps=976000, episode_reward=87.25 +/- 2.49\n",
       "<span style=\"color: #800080; text-decoration-color: #800080\">  98%</span> <span style=\"color: #f92672; text-decoration-color: #f92672\">━━━━━━━━━━━━━━━━━━━━━━━━━━━━━━━━━━━━━━━━━━━━━━━━━━━━━╸</span><span style=\"color: #3a3a3a; text-decoration-color: #3a3a3a\">━</span> <span style=\"color: #008000; text-decoration-color: #008000\">975,168/1,000,000 </span> [ <span style=\"color: #808000; text-decoration-color: #808000\">0:03:56</span> &lt; <span style=\"color: #008080; text-decoration-color: #008080\">0:00:06</span> , <span style=\"color: #800000; text-decoration-color: #800000\">4,218 it/s</span> ]</pre>\n"
      ],
      "text/plain": [
       "\r",
       "\u001b[2KEval num_timesteps=976000, episode_reward=87.25 +/- 2.49\n",
       "\u001b[35m  98%\u001b[0m \u001b[38;2;249;38;114m━━━━━━━━━━━━━━━━━━━━━━━━━━━━━━━━━━━━━━━━━━━━━━━━━━━━━\u001b[0m\u001b[38;2;249;38;114m╸\u001b[0m\u001b[38;5;237m━\u001b[0m \u001b[32m975,168/1,000,000 \u001b[0m [ \u001b[33m0:03:56\u001b[0m < \u001b[36m0:00:06\u001b[0m , \u001b[31m4,218 it/s\u001b[0m ]"
      ]
     },
     "metadata": {},
     "output_type": "display_data"
    },
    {
     "data": {
      "text/html": [
       "<pre style=\"white-space:pre;overflow-x:auto;line-height:normal;font-family:Menlo,'DejaVu Sans Mono',consolas,'Courier New',monospace\">\r",
       "\u001b[2KEpisode length: 168.80 +/- 27.96\n",
       "<span style=\"color: #800080; text-decoration-color: #800080\">  98%</span> <span style=\"color: #f92672; text-decoration-color: #f92672\">━━━━━━━━━━━━━━━━━━━━━━━━━━━━━━━━━━━━━━━━━━━━━━━━━━━━━╸</span><span style=\"color: #3a3a3a; text-decoration-color: #3a3a3a\">━</span> <span style=\"color: #008000; text-decoration-color: #008000\">975,168/1,000,000 </span> [ <span style=\"color: #808000; text-decoration-color: #808000\">0:03:56</span> &lt; <span style=\"color: #008080; text-decoration-color: #008080\">0:00:06</span> , <span style=\"color: #800000; text-decoration-color: #800000\">4,218 it/s</span> ]</pre>\n"
      ],
      "text/plain": [
       "\r",
       "\u001b[2KEpisode length: 168.80 +/- 27.96\n",
       "\u001b[35m  98%\u001b[0m \u001b[38;2;249;38;114m━━━━━━━━━━━━━━━━━━━━━━━━━━━━━━━━━━━━━━━━━━━━━━━━━━━━━\u001b[0m\u001b[38;2;249;38;114m╸\u001b[0m\u001b[38;5;237m━\u001b[0m \u001b[32m975,168/1,000,000 \u001b[0m [ \u001b[33m0:03:56\u001b[0m < \u001b[36m0:00:06\u001b[0m , \u001b[31m4,218 it/s\u001b[0m ]"
      ]
     },
     "metadata": {},
     "output_type": "display_data"
    },
    {
     "name": "stdout",
     "output_type": "stream",
     "text": [
      "-----------------------------------------\n",
      "| eval/                   |             |\n",
      "|    mean_ep_length       | 169         |\n",
      "|    mean_reward          | 87.3        |\n",
      "| time/                   |             |\n",
      "|    total_timesteps      | 976000      |\n",
      "| train/                  |             |\n",
      "|    approx_kl            | 0.006135653 |\n",
      "|    clip_fraction        | 0.0378      |\n",
      "|    clip_range           | 0.2         |\n",
      "|    entropy_loss         | -0.893      |\n",
      "|    explained_variance   | 0.705       |\n",
      "|    learning_rate        | 7.77e-05    |\n",
      "|    loss                 | 79.6        |\n",
      "|    n_updates            | 1190        |\n",
      "|    policy_gradient_loss | -0.00219    |\n",
      "|    std                  | 0.653       |\n",
      "|    value_loss           | 172         |\n",
      "-----------------------------------------\n"
     ]
    },
    {
     "data": {
      "text/html": [
       "<pre style=\"white-space:pre;overflow-x:auto;line-height:normal;font-family:Menlo,'DejaVu Sans Mono',consolas,'Courier New',monospace\">\r",
       "\u001b[2KNew best mean reward!\n",
       "<span style=\"color: #800080; text-decoration-color: #800080\">  98%</span> <span style=\"color: #f92672; text-decoration-color: #f92672\">━━━━━━━━━━━━━━━━━━━━━━━━━━━━━━━━━━━━━━━━━━━━━━━━━━━━━╸</span><span style=\"color: #3a3a3a; text-decoration-color: #3a3a3a\">━</span> <span style=\"color: #008000; text-decoration-color: #008000\">975,168/1,000,000 </span> [ <span style=\"color: #808000; text-decoration-color: #808000\">0:03:56</span> &lt; <span style=\"color: #008080; text-decoration-color: #008080\">0:00:06</span> , <span style=\"color: #800000; text-decoration-color: #800000\">4,218 it/s</span> ]</pre>\n"
      ],
      "text/plain": [
       "\r",
       "\u001b[2KNew best mean reward!\n",
       "\u001b[35m  98%\u001b[0m \u001b[38;2;249;38;114m━━━━━━━━━━━━━━━━━━━━━━━━━━━━━━━━━━━━━━━━━━━━━━━━━━━━━\u001b[0m\u001b[38;2;249;38;114m╸\u001b[0m\u001b[38;5;237m━\u001b[0m \u001b[32m975,168/1,000,000 \u001b[0m [ \u001b[33m0:03:56\u001b[0m < \u001b[36m0:00:06\u001b[0m , \u001b[31m4,218 it/s\u001b[0m ]"
      ]
     },
     "metadata": {},
     "output_type": "display_data"
    },
    {
     "name": "stdout",
     "output_type": "stream",
     "text": [
      "---------------------------------\n",
      "| rollout/           |          |\n",
      "|    ep_len_mean     | 189      |\n",
      "|    ep_rew_mean     | 86.2     |\n",
      "| time/              |          |\n",
      "|    fps             | 4153     |\n",
      "|    iterations      | 120      |\n",
      "|    time_elapsed    | 236      |\n",
      "|    total_timesteps | 983040   |\n",
      "---------------------------------\n",
      "------------------------------------------\n",
      "| rollout/                |              |\n",
      "|    ep_len_mean          | 190          |\n",
      "|    ep_rew_mean          | 86.3         |\n",
      "| time/                   |              |\n",
      "|    fps                  | 4146         |\n",
      "|    iterations           | 121          |\n",
      "|    time_elapsed         | 239          |\n",
      "|    total_timesteps      | 991232       |\n",
      "| train/                  |              |\n",
      "|    approx_kl            | 0.0037096376 |\n",
      "|    clip_fraction        | 0.0393       |\n",
      "|    clip_range           | 0.2          |\n",
      "|    entropy_loss         | -0.907       |\n",
      "|    explained_variance   | 0.659        |\n",
      "|    learning_rate        | 7.77e-05     |\n",
      "|    loss                 | 82.6         |\n",
      "|    n_updates            | 1200         |\n",
      "|    policy_gradient_loss | -0.00434     |\n",
      "|    std                  | 0.649        |\n",
      "|    value_loss           | 176          |\n",
      "------------------------------------------\n"
     ]
    },
    {
     "data": {
      "text/html": [
       "<pre style=\"white-space:pre;overflow-x:auto;line-height:normal;font-family:Menlo,'DejaVu Sans Mono',consolas,'Courier New',monospace\">\r",
       "\u001b[2KEval num_timesteps=992000, episode_reward=87.04 +/- 2.64\n",
       "<span style=\"color: #800080; text-decoration-color: #800080\">  99%</span> <span style=\"color: #f92672; text-decoration-color: #f92672\">━━━━━━━━━━━━━━━━━━━━━━━━━━━━━━━━━━━━━━━━━━━━━━━━━━━━━━╸</span> <span style=\"color: #008000; text-decoration-color: #008000\">991,488/1,000,000 </span> [ <span style=\"color: #808000; text-decoration-color: #808000\">0:04:00</span> &lt; <span style=\"color: #008080; text-decoration-color: #008080\">0:00:03</span> , <span style=\"color: #800000; text-decoration-color: #800000\">4,218 it/s</span> ]</pre>\n"
      ],
      "text/plain": [
       "\r",
       "\u001b[2KEval num_timesteps=992000, episode_reward=87.04 +/- 2.64\n",
       "\u001b[35m  99%\u001b[0m \u001b[38;2;249;38;114m━━━━━━━━━━━━━━━━━━━━━━━━━━━━━━━━━━━━━━━━━━━━━━━━━━━━━━\u001b[0m\u001b[38;2;249;38;114m╸\u001b[0m \u001b[32m991,488/1,000,000 \u001b[0m [ \u001b[33m0:04:00\u001b[0m < \u001b[36m0:00:03\u001b[0m , \u001b[31m4,218 it/s\u001b[0m ]"
      ]
     },
     "metadata": {},
     "output_type": "display_data"
    },
    {
     "data": {
      "text/html": [
       "<pre style=\"white-space:pre;overflow-x:auto;line-height:normal;font-family:Menlo,'DejaVu Sans Mono',consolas,'Courier New',monospace\">\r",
       "\u001b[2KEpisode length: 170.60 +/- 30.54\n",
       "<span style=\"color: #800080; text-decoration-color: #800080\">  99%</span> <span style=\"color: #f92672; text-decoration-color: #f92672\">━━━━━━━━━━━━━━━━━━━━━━━━━━━━━━━━━━━━━━━━━━━━━━━━━━━━━━╸</span> <span style=\"color: #008000; text-decoration-color: #008000\">991,488/1,000,000 </span> [ <span style=\"color: #808000; text-decoration-color: #808000\">0:04:00</span> &lt; <span style=\"color: #008080; text-decoration-color: #008080\">0:00:03</span> , <span style=\"color: #800000; text-decoration-color: #800000\">4,218 it/s</span> ]</pre>\n"
      ],
      "text/plain": [
       "\r",
       "\u001b[2KEpisode length: 170.60 +/- 30.54\n",
       "\u001b[35m  99%\u001b[0m \u001b[38;2;249;38;114m━━━━━━━━━━━━━━━━━━━━━━━━━━━━━━━━━━━━━━━━━━━━━━━━━━━━━━\u001b[0m\u001b[38;2;249;38;114m╸\u001b[0m \u001b[32m991,488/1,000,000 \u001b[0m [ \u001b[33m0:04:00\u001b[0m < \u001b[36m0:00:03\u001b[0m , \u001b[31m4,218 it/s\u001b[0m ]"
      ]
     },
     "metadata": {},
     "output_type": "display_data"
    },
    {
     "name": "stdout",
     "output_type": "stream",
     "text": [
      "-----------------------------------------\n",
      "| eval/                   |             |\n",
      "|    mean_ep_length       | 171         |\n",
      "|    mean_reward          | 87          |\n",
      "| time/                   |             |\n",
      "|    total_timesteps      | 992000      |\n",
      "| train/                  |             |\n",
      "|    approx_kl            | 0.002632823 |\n",
      "|    clip_fraction        | 0.0163      |\n",
      "|    clip_range           | 0.2         |\n",
      "|    entropy_loss         | -0.899      |\n",
      "|    explained_variance   | 0.717       |\n",
      "|    learning_rate        | 7.77e-05    |\n",
      "|    loss                 | 95.4        |\n",
      "|    n_updates            | 1210        |\n",
      "|    policy_gradient_loss | -0.00394    |\n",
      "|    std                  | 0.644       |\n",
      "|    value_loss           | 183         |\n",
      "-----------------------------------------\n",
      "---------------------------------\n",
      "| rollout/           |          |\n",
      "|    ep_len_mean     | 183      |\n",
      "|    ep_rew_mean     | 86.6     |\n",
      "| time/              |          |\n",
      "|    fps             | 4143     |\n",
      "|    iterations      | 122      |\n",
      "|    time_elapsed    | 241      |\n",
      "|    total_timesteps | 999424   |\n",
      "---------------------------------\n",
      "------------------------------------------\n",
      "| rollout/                |              |\n",
      "|    ep_len_mean          | 173          |\n",
      "|    ep_rew_mean          | 87.3         |\n",
      "| time/                   |              |\n",
      "|    fps                  | 4156         |\n",
      "|    iterations           | 123          |\n",
      "|    time_elapsed         | 242          |\n",
      "|    total_timesteps      | 1007616      |\n",
      "| train/                  |              |\n",
      "|    approx_kl            | 0.0044185566 |\n",
      "|    clip_fraction        | 0.0406       |\n",
      "|    clip_range           | 0.2          |\n",
      "|    entropy_loss         | -0.851       |\n",
      "|    explained_variance   | 0.666        |\n",
      "|    learning_rate        | 7.77e-05     |\n",
      "|    loss                 | 70.9         |\n",
      "|    n_updates            | 1220         |\n",
      "|    policy_gradient_loss | -0.00494     |\n",
      "|    std                  | 0.642        |\n",
      "|    value_loss           | 179          |\n",
      "------------------------------------------\n"
     ]
    },
    {
     "data": {
      "text/html": [
       "<pre style=\"white-space:pre;overflow-x:auto;line-height:normal;font-family:Menlo,'DejaVu Sans Mono',consolas,'Courier New',monospace\">\n",
       "</pre>\n"
      ],
      "text/plain": [
       "\n",
       "\u001b[?25h"
      ]
     },
     "metadata": {},
     "output_type": "display_data"
    }
   ],
   "source": [
    "eval_callback = EvalCallback(train_env, \n",
    "                             best_model_save_path=\"./logs/best_model/expert_noob\",\n",
    "                             log_path=\"./logs/results\",\n",
    "                             eval_freq=500,\n",
    "                             deterministic=True, render=False)\n",
    "model = PPO(\"MlpPolicy\", \n",
    "            train_env,\n",
    "            verbose=1, \n",
    "            seed=0,\n",
    "            batch_size=512,\n",
    "            # ent_coef=0.00429,\n",
    "            learning_rate=7.77e-05,\n",
    "            n_epochs=10,\n",
    "            n_steps=8*NUM_CPU,\n",
    "            gae_lambda=0.9,\n",
    "            gamma=0.9999,\n",
    "            # clip_range=0.1,\n",
    "            max_grad_norm=5,\n",
    "            # vf_coef=0.19,\n",
    "            use_sde=True,\n",
    "            # policy_kwargs=dict(log_std_init=-3.29, ortho_init=False),\n",
    "            tensorboard_log=\"./logs/ppo_MountainCar_tensorboard_noob/\")\n",
    "\n",
    "model.learn(total_timesteps=1_000_000, callback=eval_callback, progress_bar=True)\n",
    "model.save(\"./logs/ppo_MountainCar_noob\")\n",
    "\n",
    "del model # remove to demonstrate saving and loading"
   ]
  },
  {
   "cell_type": "markdown",
   "metadata": {
    "tags": []
   },
   "source": [
    "# Visual testing of policies"
   ]
  },
  {
   "cell_type": "code",
   "execution_count": 9,
   "metadata": {
    "tags": []
   },
   "outputs": [
    {
     "data": {
      "image/png": "[encoded data removed]",
      "text/plain": [
       "<Figure size 640x480 with 1 Axes>"
      ]
     },
     "metadata": {},
     "output_type": "display_data"
    },
    {
     "data": {
      "image/png": "[encoded data removed]",
      "text/plain": [
       "<Figure size 640x480 with 1 Axes>"
      ]
     },
     "metadata": {},
     "output_type": "display_data"
    }
   ],
   "source": [
    "test_env_f = make_vec_env(env_id,\n",
    "                        wrapper_class=wrapper,\n",
    "                        n_envs=1)\n",
    "\n",
    "expert = PPO.load(\"./logs/ppo_MountainCar_expert.zip\", print_system_info=True)\n",
    "\n",
    "obs = test_env_f.reset()\n",
    "\n",
    "for _ in range(1000):\n",
    "    action, _states = expert.predict(obs)\n",
    "    obs, rewards, dones, info = test_env_f.step(action)\n",
    "    test_env_f.render(mode=\"rgb_array\")\n",
    "\n",
    "    if dones:\n",
    "        break\n",
    "\n",
    "test_env_f.close()"
   ]
  },
  {
   "cell_type": "code",
   "execution_count": 12,
   "metadata": {},
   "outputs": [
    {
     "data": {
      "image/png": "[encoded data removed]",
      "text/plain": [
       "<Figure size 640x480 with 1 Axes>"
      ]
     },
     "metadata": {},
     "output_type": "display_data"
    },
    {
     "data": {
      "image/png": "[encoded data removed]",
      "text/plain": [
       "<Figure size 640x480 with 1 Axes>"
      ]
     },
     "metadata": {},
     "output_type": "display_data"
    }
   ],
   "source": [
    "test_env = make_vec_env(env_id,\n",
    "                        wrapper_class=gnwrapper.Animation,\n",
    "                        n_envs=1)\n",
    "\n",
    "noob = PPO.load(\"./logs/ppo_MountainCar_noob.zip\", print_system_info=True)\n",
    "\n",
    "obs = test_env.reset()\n",
    "\n",
    "for _ in range(1000):\n",
    "    action, _states = noob.predict(obs)\n",
    "    obs, rewards, dones, info = test_env.step(action)\n",
    "    test_env.render(mode=\"rgb_array\")\n",
    "\n",
    "    if dones:\n",
    "        break\n",
    "\n",
    "test_env.close()"
   ]
  },
  {
   "cell_type": "markdown",
   "metadata": {
    "tags": []
   },
   "source": [
    "# Imitation Learning\n",
    "In this section used Behavioral Cloning (BC)"
   ]
  },
  {
   "cell_type": "code",
   "execution_count": 13,
   "metadata": {},
   "outputs": [
    {
     "name": "stderr",
     "output_type": "stream",
     "text": [
      "/home/vlad1slav/Diploma/rl-venv/lib/python3.10/site-packages/gym/logger.py:34: UserWarning: \u001b[33mWARN: Box bound precision lowered by casting to float32\u001b[0m\n",
      "  warnings.warn(colorize(\"%s: %s\" % (\"WARN\", msg % args), \"yellow\"))\n"
     ]
    }
   ],
   "source": [
    "from imitation.data import rollout\n",
    "from imitation.data.wrappers import RolloutInfoWrapper\n",
    "import dataclasses\n",
    "NUM_EPISODES = 100\n",
    "# expert = PPO.load(\"./logs/ppo_MountainCar_expert.zip\")\n",
    "\n",
    "env = gym.make(env_id)\n",
    "env = RolloutInfoWrapper(env) # Wrapper to save origin obs\n",
    "env = MountainCarContinuousObsWrapper(env) # Wrapper to add angle to obs\n",
    "env = DummyVecEnv([lambda: env]) # Vectorized env\n",
    "\n",
    "rng = np.random.default_rng()\n",
    "rollouts = rollout.rollout(\n",
    "    expert,\n",
    "    env,\n",
    "    rollout.make_sample_until(min_timesteps=None, min_episodes=NUM_EPISODES),\n",
    "    rng=rng,\n",
    "    unwrap=True,\n",
    ")\n",
    "\n",
    "transitions = rollout.flatten_trajectories(rollouts)\n",
    "env.close()"
   ]
  },
  {
   "cell_type": "code",
   "execution_count": 14,
   "metadata": {},
   "outputs": [
    {
     "name": "stdout",
     "output_type": "stream",
     "text": [
      "The `rollout` function generated a list of 100 <class 'imitation.data.types.TrajectoryWithRew'>.\n",
      "After flattening, this list is turned into a <class 'imitation.data.types.Transitions'> object containing 12181 transitions.\n",
      "The transitions object contains arrays for: obs, acts, infos, next_obs, dones.\"\n",
      "\n"
     ]
    }
   ],
   "source": [
    "print(\n",
    "    f\"\"\"The `rollout` function generated a list of {len(rollouts)} {type(rollouts[0])}.\n",
    "After flattening, this list is turned into a {type(transitions)} object containing {len(transitions)} transitions.\n",
    "The transitions object contains arrays for: {', '.join(transitions.__dict__.keys())}.\"\n",
    "\"\"\"\n",
    ")"
   ]
  },
  {
   "cell_type": "code",
   "execution_count": 15,
   "metadata": {},
   "outputs": [],
   "source": [
    "from imitation.algorithms import bc\n",
    "from stable_baselines3.common.policies import ActorCriticPolicy\n",
    "\n",
    "env = gym.make(env_id)\n",
    "env = gnwrapper.Animation(env)\n",
    "bc_trainer = bc.BC(\n",
    "    observation_space=env.observation_space,\n",
    "    action_space=env.action_space,\n",
    "    demonstrations=transitions,\n",
    "    rng=rng,\n",
    "    policy=ActorCriticPolicy(observation_space=env.observation_space,\n",
    "                             action_space=env.action_space,\n",
    "                             lr_schedule=lambda _: torch.finfo(torch.float32).max,\n",
    "                             net_arch=[64, 64]\n",
    "                             )\n",
    ")"
   ]
  },
  {
   "cell_type": "code",
   "execution_count": 16,
   "metadata": {
    "tags": []
   },
   "outputs": [
    {
     "name": "stderr",
     "output_type": "stream",
     "text": [
      "0batch [00:00, ?batch/s]"
     ]
    },
    {
     "name": "stdout",
     "output_type": "stream",
     "text": [
      "--------------------------------\n",
      "| batch_size        | 32       |\n",
      "| bc/               |          |\n",
      "|    batch          | 0        |\n",
      "|    ent_loss       | -0.00142 |\n",
      "|    entropy        | 1.42     |\n",
      "|    epoch          | 0        |\n",
      "|    l2_loss        | 0        |\n",
      "|    l2_norm        | 66.5     |\n",
      "|    loss           | 1.4      |\n",
      "|    neglogp        | 1.4      |\n",
      "|    prob_true_act  | 0.248    |\n",
      "|    samples_so_far | 32       |\n",
      "--------------------------------\n"
     ]
    },
    {
     "name": "stderr",
     "output_type": "stream",
     "text": [
      "375batch [00:01, 238.06batch/s]\n",
      "498batch [00:02, 223.78batch/s]\u001b[A"
     ]
    },
    {
     "name": "stdout",
     "output_type": "stream",
     "text": [
      "--------------------------------\n",
      "| batch_size        | 32       |\n",
      "| bc/               |          |\n",
      "|    batch          | 500      |\n",
      "|    ent_loss       | -0.001   |\n",
      "|    entropy        | 1        |\n",
      "|    epoch          | 1        |\n",
      "|    l2_loss        | 0        |\n",
      "|    l2_norm        | 94.7     |\n",
      "|    loss           | 0.941    |\n",
      "|    neglogp        | 0.942    |\n",
      "|    prob_true_act  | 0.456    |\n",
      "|    samples_so_far | 16032    |\n",
      "--------------------------------\n"
     ]
    },
    {
     "name": "stderr",
     "output_type": "stream",
     "text": [
      "755batch [00:03, 249.93batch/s]\n",
      "760batch [00:03, 231.52batch/s]\u001b[A\n"
     ]
    }
   ],
   "source": [
    "bc_trainer.train(n_epochs=2)"
   ]
  },
  {
   "cell_type": "markdown",
   "metadata": {
    "tags": []
   },
   "source": [
    "# Policy Comparison"
   ]
  },
  {
   "cell_type": "code",
   "execution_count": 17,
   "metadata": {},
   "outputs": [],
   "source": [
    "from stable_baselines3.common.evaluation import evaluate_policy"
   ]
  },
  {
   "cell_type": "code",
   "execution_count": 18,
   "metadata": {},
   "outputs": [],
   "source": [
    "expert = PPO.load(\"./logs/ppo_MountainCar_expert.zip\")\n",
    "noob = PPO.load(\"./logs/ppo_MountainCar_noob.zip\")"
   ]
  },
  {
   "cell_type": "code",
   "execution_count": 19,
   "metadata": {},
   "outputs": [
    {
     "name": "stdout",
     "output_type": "stream",
     "text": [
      "expert reward 88.32603394 +/- 2.5599224716309785\n",
      "BC reward 88.98148456999999 +/- 2.8211702170479085\n",
      "noob reward 88.56093507999998 +/- 3.310453799519555\n"
     ]
    }
   ],
   "source": [
    "test_env_f = make_vec_env(env_id, wrapper_class=wrapper, n_envs=1)\n",
    "test_env = make_vec_env(env_id, n_envs=1)\n",
    "\n",
    "expert_reward, expert_reward_std = evaluate_policy(expert, test_env_f, 100)\n",
    "bc_reward, bc_reward_std = evaluate_policy(bc_trainer.policy, test_env, 100)\n",
    "noob_reward, noob_reward_std = evaluate_policy(noob, test_env, 100)\n",
    "print(f'expert reward {expert_reward} +/- {expert_reward_std}')\n",
    "print(f'BC reward {bc_reward} +/- {bc_reward_std}')\n",
    "print(f'noob reward {noob_reward} +/- {noob_reward_std}')"
   ]
  },
  {
   "cell_type": "markdown",
   "metadata": {
    "tags": []
   },
   "source": [
    "## Compare policy architecture"
   ]
  },
  {
   "cell_type": "code",
   "execution_count": 21,
   "metadata": {
    "tags": []
   },
   "outputs": [
    {
     "data": {
      "text/plain": [
       "ActorCriticPolicy(\n",
       "  (features_extractor): FlattenExtractor(\n",
       "    (flatten): Flatten(start_dim=1, end_dim=-1)\n",
       "  )\n",
       "  (pi_features_extractor): FlattenExtractor(\n",
       "    (flatten): Flatten(start_dim=1, end_dim=-1)\n",
       "  )\n",
       "  (vf_features_extractor): FlattenExtractor(\n",
       "    (flatten): Flatten(start_dim=1, end_dim=-1)\n",
       "  )\n",
       "  (mlp_extractor): MlpExtractor(\n",
       "    (shared_net): Sequential()\n",
       "    (policy_net): Sequential(\n",
       "      (0): Linear(in_features=3, out_features=64, bias=True)\n",
       "      (1): Tanh()\n",
       "      (2): Linear(in_features=64, out_features=64, bias=True)\n",
       "      (3): Tanh()\n",
       "    )\n",
       "    (value_net): Sequential(\n",
       "      (0): Linear(in_features=3, out_features=64, bias=True)\n",
       "      (1): Tanh()\n",
       "      (2): Linear(in_features=64, out_features=64, bias=True)\n",
       "      (3): Tanh()\n",
       "    )\n",
       "  )\n",
       "  (action_net): Linear(in_features=64, out_features=1, bias=True)\n",
       "  (value_net): Linear(in_features=64, out_features=1, bias=True)\n",
       ")"
      ]
     },
     "execution_count": 21,
     "metadata": {},
     "output_type": "execute_result"
    }
   ],
   "source": [
    "expert.policy"
   ]
  },
  {
   "cell_type": "code",
   "execution_count": 22,
   "metadata": {},
   "outputs": [
    {
     "data": {
      "text/plain": [
       "ActorCriticPolicy(\n",
       "  (features_extractor): FlattenExtractor(\n",
       "    (flatten): Flatten(start_dim=1, end_dim=-1)\n",
       "  )\n",
       "  (pi_features_extractor): FlattenExtractor(\n",
       "    (flatten): Flatten(start_dim=1, end_dim=-1)\n",
       "  )\n",
       "  (vf_features_extractor): FlattenExtractor(\n",
       "    (flatten): Flatten(start_dim=1, end_dim=-1)\n",
       "  )\n",
       "  (mlp_extractor): MlpExtractor(\n",
       "    (shared_net): Sequential()\n",
       "    (policy_net): Sequential(\n",
       "      (0): Linear(in_features=2, out_features=64, bias=True)\n",
       "      (1): Tanh()\n",
       "      (2): Linear(in_features=64, out_features=64, bias=True)\n",
       "      (3): Tanh()\n",
       "    )\n",
       "    (value_net): Sequential(\n",
       "      (0): Linear(in_features=2, out_features=64, bias=True)\n",
       "      (1): Tanh()\n",
       "      (2): Linear(in_features=64, out_features=64, bias=True)\n",
       "      (3): Tanh()\n",
       "    )\n",
       "  )\n",
       "  (action_net): Linear(in_features=64, out_features=1, bias=True)\n",
       "  (value_net): Linear(in_features=64, out_features=1, bias=True)\n",
       ")"
      ]
     },
     "execution_count": 22,
     "metadata": {},
     "output_type": "execute_result"
    }
   ],
   "source": [
    "noob.policy"
   ]
  },
  {
   "cell_type": "code",
   "execution_count": 23,
   "metadata": {},
   "outputs": [
    {
     "data": {
      "text/plain": [
       "ActorCriticPolicy(\n",
       "  (features_extractor): FlattenExtractor(\n",
       "    (flatten): Flatten(start_dim=1, end_dim=-1)\n",
       "  )\n",
       "  (pi_features_extractor): FlattenExtractor(\n",
       "    (flatten): Flatten(start_dim=1, end_dim=-1)\n",
       "  )\n",
       "  (vf_features_extractor): FlattenExtractor(\n",
       "    (flatten): Flatten(start_dim=1, end_dim=-1)\n",
       "  )\n",
       "  (mlp_extractor): MlpExtractor(\n",
       "    (shared_net): Sequential(\n",
       "      (0): Linear(in_features=2, out_features=64, bias=True)\n",
       "      (1): Tanh()\n",
       "      (2): Linear(in_features=64, out_features=64, bias=True)\n",
       "      (3): Tanh()\n",
       "    )\n",
       "    (policy_net): Sequential()\n",
       "    (value_net): Sequential()\n",
       "  )\n",
       "  (action_net): Linear(in_features=64, out_features=1, bias=True)\n",
       "  (value_net): Linear(in_features=64, out_features=1, bias=True)\n",
       ")"
      ]
     },
     "execution_count": 23,
     "metadata": {},
     "output_type": "execute_result"
    }
   ],
   "source": [
    "bc_trainer.policy"
   ]
  }
 ],
 "metadata": {
  "kernelspec": {
   "display_name": "rl-venv",
   "language": "python",
   "name": "rl-venv"
  },
  "language_info": {
   "codemirror_mode": {
    "name": "ipython",
    "version": 3
   },
   "file_extension": ".py",
   "mimetype": "text/x-python",
   "name": "python",
   "nbconvert_exporter": "python",
   "pygments_lexer": "ipython3",
   "version": "3.10.6"
  },
  "vscode": {
   "interpreter": {
    "hash": "916dbcbb3f70747c44a77c7bcd40155683ae19c65e1c03b4aa3499c5328201f1"
   }
  }
 },
 "nbformat": 4,
 "nbformat_minor": 4
}
