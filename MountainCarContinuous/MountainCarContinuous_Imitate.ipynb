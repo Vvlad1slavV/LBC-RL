{
 "cells": [
  {
   "cell_type": "code",
   "execution_count": null,
   "id": "3dbc3954-1c37-4448-b4a5-6a21ced91486",
   "metadata": {},
   "outputs": [],
   "source": [
    "# import sys\n",
    "# import gymnasium as gym\n",
    "\n",
    "# sys.modules[\"gym\"] = gym\n",
    "import gym\n",
    "gym.__version__"
   ]
  },
  {
   "cell_type": "code",
   "execution_count": null,
   "id": "0caa9c31-b71e-4dc0-8050-d44d2fb05f40",
   "metadata": {},
   "outputs": [],
   "source": [
    "import dataclasses\n",
    "\n",
    "from stable_baselines3 import PPO\n",
    "from stable_baselines3.common.monitor import Monitor\n",
    "from stable_baselines3.common.vec_env import DummyVecEnv, SubprocVecEnv, VecVideoRecorder, VecFrameStack\n",
    "from stable_baselines3.common.env_util import make_vec_env\n",
    "from stable_baselines3.common.callbacks import EvalCallback\n",
    "from stable_baselines3.common.policies import ActorCriticPolicy\n",
    "\n",
    "from imitation.data import rollout\n",
    "from imitation.data.wrappers import RolloutInfoWrapper\n",
    "from imitation.algorithms import bc\n",
    "\n",
    "from MountainCar_utils.tcn_extractor import TCNExtractor\n",
    "from MountainCar_utils.observation_wrapper import MountainCarContinuousObsWrapper\n",
    "from MountainCar_utils.observation_wrapper import MountainCarContinuousNoVelObsWrapper"
   ]
  },
  {
   "cell_type": "code",
   "execution_count": null,
   "id": "f5f2140a-e237-454a-a6ac-f25039e30a13",
   "metadata": {},
   "outputs": [],
   "source": [
    "import numpy as np\n",
    "import torch as th\n",
    "from torch import nn\n",
    "import matplotlib.pyplot as plt\n",
    "from pprint import pprint"
   ]
  },
  {
   "cell_type": "code",
   "execution_count": null,
   "id": "5ca2af40-9352-4e0e-9b65-1182675499eb",
   "metadata": {},
   "outputs": [],
   "source": [
    "import gnwrapper"
   ]
  },
  {
   "cell_type": "code",
   "execution_count": null,
   "id": "70678eda-16c0-4784-9eb4-4a8dc0f53a9d",
   "metadata": {
    "tags": []
   },
   "outputs": [],
   "source": [
    "# expert = PPO.load(\"./policy/ppo_MountainCarContinuous_expert3464.zip\", print_system_info=True)\n",
    "expert = PPO.load(\"./policy/ppo_MountainCarContinuous_expert46304_n32b64.zip\", print_system_info=True)"
   ]
  },
  {
   "cell_type": "code",
   "execution_count": null,
   "id": "b441e510-2dd4-4a68-b288-50ed2ed5f35c",
   "metadata": {},
   "outputs": [],
   "source": [
    "env_id = \"MountainCarContinuous-v0\"\n",
    "NUM_CPU = 32  # Number of processes to use"
   ]
  },
  {
   "cell_type": "markdown",
   "id": "fe118772-ee77-4eba-8610-dd43583704a7",
   "metadata": {},
   "source": [
    "# Simple BC"
   ]
  },
  {
   "cell_type": "code",
   "execution_count": null,
   "id": "8d1c641a-1c4c-4619-ad74-cd79f2f5f4de",
   "metadata": {},
   "outputs": [],
   "source": [
    "def make_env(env_id):\n",
    "    def _init():\n",
    "        env = gym.make(env_id)\n",
    "        env = RolloutInfoWrapper(env) # Wrapper to save origin obs\n",
    "        env = MountainCarContinuousObsWrapper(env) # Wrapper Obs\n",
    "        return env\n",
    "    \n",
    "    return _init\n",
    "\n",
    "bc_env = DummyVecEnv([make_env(env_id)]*NUM_CPU)\n",
    "bc_env.observation_space"
   ]
  },
  {
   "cell_type": "code",
   "execution_count": null,
   "id": "f62f3fc2-0fa6-4902-aae2-1aa392864d3b",
   "metadata": {
    "tags": []
   },
   "outputs": [],
   "source": [
    "NUM_EPISODES = 1000\n",
    "rng = np.random.default_rng()\n",
    "rollouts = rollout.rollout(\n",
    "    expert,\n",
    "    bc_env,\n",
    "    rollout.make_sample_until(min_timesteps=None, min_episodes=NUM_EPISODES),\n",
    "    rng = rng,\n",
    "    unwrap = True,\n",
    ")\n",
    "\n",
    "bc_env.close()"
   ]
  },
  {
   "cell_type": "code",
   "execution_count": null,
   "id": "c9c0aeae-2fe6-4433-a82c-cd5789340d6c",
   "metadata": {},
   "outputs": [],
   "source": [
    "top_rollouts = [rollout for rollout in rollouts if sum(rollout.rews) > 94]\n",
    "transitions = rollout.flatten_trajectories(top_rollouts)"
   ]
  },
  {
   "cell_type": "code",
   "execution_count": null,
   "id": "5dc740c1-d128-404b-88e1-328d58a27d01",
   "metadata": {},
   "outputs": [],
   "source": [
    "pprint(rollout.rollout_stats(rollouts))\n",
    "pprint(rollout.rollout_stats(top_rollouts))"
   ]
  },
  {
   "cell_type": "code",
   "execution_count": null,
   "id": "0672d727-7370-4b87-9d76-6c0f0f9a55d9",
   "metadata": {},
   "outputs": [],
   "source": [
    "print(\n",
    "    f\"\"\"The `rollout` function generated a list of {len(top_rollouts)} {type(top_rollouts[0])}.\n",
    "After flattening, this list is turned into a {type(transitions)} object containing {len(transitions)} transitions.\n",
    "The transitions object contains arrays for: {', '.join(transitions.__dict__.keys())}.\"\n",
    "\"\"\"\n",
    ")"
   ]
  },
  {
   "cell_type": "code",
   "execution_count": null,
   "id": "2c164543-d04e-4a0c-bb7f-aba625ba628c",
   "metadata": {
    "tags": []
   },
   "outputs": [],
   "source": [
    "env = gym.make(env_id)\n",
    "env = DummyVecEnv([lambda: env])\n",
    "\n",
    "bc_trainer = bc.BC(\n",
    "    observation_space=env.observation_space,\n",
    "    action_space=env.action_space,\n",
    "    demonstrations=transitions,\n",
    "    rng=rng,\n",
    "    policy=ActorCriticPolicy(observation_space=env.observation_space,\n",
    "                             action_space=env.action_space,\n",
    "                             lr_schedule=lambda _: th.finfo(th.float32).max,\n",
    "                             net_arch=[64, 64]\n",
    "                             )\n",
    ")"
   ]
  },
  {
   "cell_type": "code",
   "execution_count": null,
   "id": "cd45bc20-573c-44b7-b4d7-caefe1e9e5f7",
   "metadata": {
    "tags": []
   },
   "outputs": [],
   "source": [
    "bc_trainer.train(n_epochs=10)"
   ]
  },
  {
   "cell_type": "markdown",
   "id": "77666006-38f4-410e-a999-de787e980d81",
   "metadata": {},
   "source": [
    "# TCN BC"
   ]
  },
  {
   "cell_type": "code",
   "execution_count": null,
   "id": "d076db5f-a736-40f0-903f-4beae08dcbbe",
   "metadata": {},
   "outputs": [],
   "source": [
    "def make_tcn_env(env_id):\n",
    "    def _init():\n",
    "        env = gym.make(env_id)\n",
    "        env = MountainCarContinuousNoVelObsWrapper(env)\n",
    "        env = gym.wrappers.FrameStack(env, 4)\n",
    "        env = RolloutInfoWrapper(env) # Wrapper to save origin obs\n",
    "        env = MountainCarContinuousObsWrapper(env) # Wrapper Obs\n",
    "        return env\n",
    "    \n",
    "    return _init\n",
    "\n",
    "bc_tcn_env = DummyVecEnv([make_tcn_env(env_id)]*NUM_CPU)\n",
    "bc_tcn_env.observation_space"
   ]
  },
  {
   "cell_type": "code",
   "execution_count": null,
   "id": "27fe0ba7-fa1d-4a7c-ab5e-977764f96711",
   "metadata": {},
   "outputs": [],
   "source": [
    "NUM_EPISODES = 1000\n",
    "rng = np.random.default_rng()\n",
    "rollouts = rollout.rollout(\n",
    "    expert,\n",
    "    bc_tcn_env,\n",
    "    rollout.make_sample_until(min_timesteps=None, min_episodes=NUM_EPISODES),\n",
    "    rng = rng,\n",
    "    unwrap = True,\n",
    ")\n",
    "\n",
    "bc_tcn_env.close()"
   ]
  },
  {
   "cell_type": "code",
   "execution_count": null,
   "id": "3b2a01de-b7b7-4419-ba3b-0263cb0b25d9",
   "metadata": {},
   "outputs": [],
   "source": [
    "top_rollouts = [rollout for rollout in rollouts if sum(rollout.rews) > 94]\n",
    "transitions_novel = rollout.flatten_trajectories(top_rollouts)"
   ]
  },
  {
   "cell_type": "code",
   "execution_count": null,
   "id": "69ad2602-658a-4a21-8645-be209b651e8c",
   "metadata": {},
   "outputs": [],
   "source": [
    "pprint(rollout.rollout_stats(rollouts))\n",
    "pprint(rollout.rollout_stats(top_rollouts))"
   ]
  },
  {
   "cell_type": "code",
   "execution_count": null,
   "id": "6655fc96-fb59-43c0-9ebf-b294b9d9a635",
   "metadata": {},
   "outputs": [],
   "source": [
    "print(\n",
    "    f\"\"\"The `rollout` function generated a list of {len(top_rollouts)} {type(top_rollouts[0])}.\n",
    "After flattening, this list is turned into a {type(transitions_novel)} object containing {len(transitions_novel)} transitions.\n",
    "The transitions object contains arrays for: {', '.join(transitions_novel.__dict__.keys())}.\"\n",
    "\"\"\"\n",
    ")"
   ]
  },
  {
   "cell_type": "code",
   "execution_count": null,
   "id": "bee05fe7-7e1e-4df7-9c86-5f58ed53a682",
   "metadata": {},
   "outputs": [],
   "source": [
    "env_novel = gym.make(env_id)\n",
    "env_novel = MountainCarContinuousNoVelObsWrapper(env_novel)\n",
    "env_novel = DummyVecEnv([lambda: env_novel])\n",
    "env_novel = VecFrameStack(env_novel, 4)\n",
    "\n",
    "bc_trainer_novel = bc.BC(\n",
    "    observation_space=env_novel.observation_space,\n",
    "    action_space=env_novel.action_space,\n",
    "    demonstrations=transitions_novel,\n",
    "    rng=rng,\n",
    "    batch_size=32,\n",
    "    policy=ActorCriticPolicy(observation_space=env_novel.observation_space,\n",
    "                             action_space=env_novel.action_space,\n",
    "                             lr_schedule=lambda _: th.finfo(th.float32).max,\n",
    "                             net_arch=[64, 64],\n",
    "                             ortho_init=False,\n",
    "                             features_extractor_class=TCNExtractor,\n",
    "                             features_extractor_kwargs=dict(input_size = 1),\n",
    "                             # sde=True,\n",
    "                             )\n",
    ")"
   ]
  },
  {
   "cell_type": "code",
   "execution_count": null,
   "id": "7fed437e-bb71-4134-9b85-8967b75a3b8d",
   "metadata": {
    "jupyter": {
     "outputs_hidden": true
    },
    "tags": []
   },
   "outputs": [],
   "source": [
    "bc_trainer_novel.train(n_epochs=10)"
   ]
  },
  {
   "cell_type": "markdown",
   "id": "0ada8001-fb26-45ab-9689-f920cf50d0df",
   "metadata": {},
   "source": [
    "# test BC policy"
   ]
  },
  {
   "cell_type": "code",
   "execution_count": null,
   "id": "cbbaae8b-f547-4b8d-b36a-9fd424eeafb7",
   "metadata": {
    "tags": []
   },
   "outputs": [],
   "source": [
    "from stable_baselines3.common.evaluation import evaluate_policy\n",
    "\n",
    "# test_env_angle = make_vec_env(env_id, wrapper_class=wrapper, n_envs=10)\n",
    "# test_env = make_vec_env(env_id, n_envs=10)\n",
    "# test_env_novel = make_vec_env(env_id, wrapper_class=MountainCarContinuousNoVelObsWrapper, n_envs=10)\n",
    "# test_env_novel = VecFrameStack(test_env_novel, 4)\n",
    "\n",
    "test_env_novel = gym.make(env_id)\n",
    "test_env_novel = MountainCarContinuousNoVelObsWrapper(test_env_novel)\n",
    "test_env_novel = DummyVecEnv([lambda: test_env_novel])\n",
    "test_env_novel = VecFrameStack(test_env_novel, 4)\n",
    "\n",
    "# test_env_angle.seed(0)\n",
    "# expert_reward, expert_reward_std = evaluate_policy(expert, test_env_angle, 1000)\n",
    "# test_env.seed(0)\n",
    "# bc_reward, bc_reward_std = evaluate_policy(bc_trainer.policy, test_env, 1000)\n",
    "test_env_novel.seed(0)\n",
    "bc_novel_reward, bc_novel_reward_std = evaluate_policy(bc_trainer_novel.policy, test_env_novel, 100)\n",
    "# noob_reward, noob_reward_std = evaluate_policy(noob, test_env, 10)"
   ]
  },
  {
   "cell_type": "code",
   "execution_count": null,
   "id": "262688b7-6a64-44ed-86bf-c74fea728463",
   "metadata": {
    "tags": []
   },
   "outputs": [],
   "source": [
    "# print(f'expert reward {expert_reward:.2f} +/- {expert_reward_std:.2f}')\n",
    "# print(f'BC reward {bc_reward:.2f} +/- {bc_reward_std:.2f}')\n",
    "print(f'BC noVel reward {bc_novel_reward:.2f} +/- {bc_novel_reward_std:.2f}')\n",
    "# print(f'noob reward {noob_reward} +/- {noob_reward_std}')"
   ]
  },
  {
   "cell_type": "markdown",
   "id": "46655088-e686-4184-a952-f4cb1d9c90f2",
   "metadata": {
    "tags": []
   },
   "source": [
    "# Save results"
   ]
  },
  {
   "cell_type": "code",
   "execution_count": null,
   "id": "f1dfe291-931b-4f81-953c-dfc398d5715d",
   "metadata": {},
   "outputs": [],
   "source": [
    "bc_trainer.save_policy('policy/bc_expert3464.zip')\n",
    "# bc_trainer.save_policy('policy/bc_expert46304_n32b64.zip')"
   ]
  },
  {
   "cell_type": "code",
   "execution_count": null,
   "id": "02f737c9-cb66-44da-9544-2fbf4c7d900a",
   "metadata": {},
   "outputs": [],
   "source": [
    "bc_trainer_novel.save_policy('policy/bc_tcn_expert46304_n32b64.zip')"
   ]
  },
  {
   "cell_type": "markdown",
   "id": "80f36374-47ad-4c06-9c23-0bb16abfb936",
   "metadata": {
    "jp-MarkdownHeadingCollapsed": true,
    "tags": []
   },
   "source": [
    "# Animate"
   ]
  },
  {
   "cell_type": "code",
   "execution_count": null,
   "id": "57e28162-6697-4670-87c6-fa829ee81230",
   "metadata": {
    "tags": []
   },
   "outputs": [],
   "source": [
    "env = gym.make(env_id)\n",
    "env = gnwrapper.Animation(env)\n",
    "# env = gym.wrappers.RecordVideo(env, 'video')\n",
    "# env = make_vec_env(env_id, wrapper_class=wrapper_image, n_envs=1)\n",
    "# env = VecVideoRecorder(env, './video', True, 1000)\n",
    "\n",
    "obs = env.reset()\n",
    "while True:\n",
    "    action, _states = bc_trainer.policy.predict(np.asarray(obs))\n",
    "    obs, rewards, dones, info = env.step(action)\n",
    "    env.render()\n",
    "    if dones:\n",
    "        break\n",
    "    \n",
    "env.close()"
   ]
  },
  {
   "cell_type": "code",
   "execution_count": null,
   "id": "006da05a-72ca-4a81-863f-4b5fcda9fb07",
   "metadata": {
    "tags": []
   },
   "outputs": [],
   "source": [
    "env = gym.make(env_id)\n",
    "env = wrapper(env)\n",
    "env = gnwrapper.Animation(env)\n",
    "# env = wrapper(env)\n",
    "# env = gym.wrappers.RecordVideo(env, 'video')\n",
    "# env = make_vec_env(env_id, wrapper_class=wrapper, n_envs=1)\n",
    "# env = VecVideoRecorder(env, './video', lambda x: True, 1000)\n",
    "\n",
    "obs = env.reset()\n",
    "while True:\n",
    "    action, _states = expert.predict(obs.copy())\n",
    "    obs, rewards, dones, info = env.step(action)\n",
    "    env.render()\n",
    "    if dones:\n",
    "        break\n",
    "    \n",
    "env.close()"
   ]
  }
 ],
 "metadata": {
  "kernelspec": {
   "display_name": "rl-venv",
   "language": "python",
   "name": "rl-venv"
  },
  "language_info": {
   "codemirror_mode": {
    "name": "ipython",
    "version": 3
   },
   "file_extension": ".py",
   "mimetype": "text/x-python",
   "name": "python",
   "nbconvert_exporter": "python",
   "pygments_lexer": "ipython3",
   "version": "3.10.6"
  }
 },
 "nbformat": 4,
 "nbformat_minor": 5
}
