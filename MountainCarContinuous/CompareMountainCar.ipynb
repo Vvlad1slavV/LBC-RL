{
 "cells": [
  {
   "cell_type": "code",
   "execution_count": null,
   "id": "10f7692f-4abf-4309-8c8c-df3bf45d968d",
   "metadata": {},
   "outputs": [],
   "source": [
    "import sys\n",
    "import os\n",
    "\n",
    "from tqdm import tqdm\n",
    "import numpy as np\n",
    "\n",
    "current = os.path.dirname(os.path.realpath(__file__))\n",
    "parent = os.path.dirname(current)\n",
    "sys.path.append(parent)"
   ]
  },
  {
   "cell_type": "code",
   "execution_count": null,
   "id": "5d862d8c-fa33-4206-b2b9-eb486e48f501",
   "metadata": {},
   "outputs": [],
   "source": [
    "import numpy as np\n",
    "import torch\n",
    "print(torch.cuda.is_available())"
   ]
  },
  {
   "cell_type": "code",
   "execution_count": null,
   "id": "9085c6a1-8906-4a99-947a-68b21e9db8ae",
   "metadata": {},
   "outputs": [],
   "source": [
    "seed = np.load('./seed2.npy')\n",
    "print(seed)"
   ]
  },
  {
   "cell_type": "code",
   "execution_count": null,
   "id": "0ed6e1b7-098c-4f29-b141-02a7e91599d2",
   "metadata": {},
   "outputs": [],
   "source": [
    "import train_PPO_MountainCarContinuous_expert\n",
    "import train_PPO_MountainCarContinuous\n",
    "import train_PPOLSTM_MountainCarContinuous\n",
    "import train_PPOTCN_MountainCarContinuous"
   ]
  },
  {
   "cell_type": "markdown",
   "id": "073b3598-a565-41cf-86d0-616a391fbc00",
   "metadata": {
    "tags": []
   },
   "source": [
    "# Find hyperparameters"
   ]
  },
  {
   "cell_type": "code",
   "execution_count": null,
   "id": "e9c08868-6b25-411c-8b47-4f9deb66e06b",
   "metadata": {
    "tags": []
   },
   "outputs": [],
   "source": [
    "from itertools import product\n",
    "\n",
    "step_batch = [512, 256, 128, 64]\n",
    "step_n_step = [128, 64, 32]\n",
    "\n",
    "step_and_batch = []\n",
    "# for n_step, batch_size in product(step_n_step, step_batch):\n",
    "#     step_and_batch.append((n_step, batch_size))\n",
    "step_and_batch.append([32, 64])\n",
    "step_and_batch.append([64, 64])\n",
    "step_and_batch.append([128, 64])"
   ]
  },
  {
   "cell_type": "code",
   "execution_count": null,
   "id": "8c637938-b848-40c4-8895-571d380ce180",
   "metadata": {},
   "outputs": [],
   "source": [
    "for n_step, batch_size in product(step_n_step, step_batch):\n",
    "    train_PPO_MountainCarContinuous_expert.run(seed=0,\n",
    "                                               batch_size = batch_size,\n",
    "                                               n_step = n_step,\n",
    "                                               total_timesteps=500_000,\n",
    "                                               model_name=f'expert{n_step}{batch_size}',\n",
    "                                               log_prefix='./Compare/expert_step/', \n",
    "                                               sde=True)"
   ]
  },
  {
   "cell_type": "code",
   "execution_count": null,
   "id": "b6bec585-e0f5-4171-80ff-ceb7dd392f4a",
   "metadata": {
    "tags": []
   },
   "outputs": [],
   "source": [
    "for n_step, batch_size in product(step_n_step, step_batch):\n",
    "    train_PPO_MountainCarContinuous.run(seed=0,\n",
    "                                       batch_size = batch_size,\n",
    "                                       n_step = n_step,\n",
    "                                       total_timesteps=500_000,\n",
    "                                       model_name=f'noob{n_step}{batch_size}',\n",
    "                                       log_prefix='./Compare/noob_step/', \n",
    "                                       sde=True)"
   ]
  },
  {
   "cell_type": "code",
   "execution_count": null,
   "id": "f964f8a4-6933-4e0d-8dac-ac501dc1a3b7",
   "metadata": {
    "tags": []
   },
   "outputs": [],
   "source": [
    "for n_step, batch_size in product(step_n_step, step_batch):\n",
    "    train_PPOLSTM_MountainCarContinuous.run(seed=0,\n",
    "                                       batch_size = batch_size,\n",
    "                                       n_step = n_step,\n",
    "                                       total_timesteps=500_000,\n",
    "                                       model_name=f'noob{n_step}{batch_size}',\n",
    "                                       log_prefix='./Compare/noob_lstm_step/', \n",
    "                                       sde=True)"
   ]
  },
  {
   "cell_type": "code",
   "execution_count": null,
   "id": "aee61ac5-1845-4963-8668-1bf56aa6a598",
   "metadata": {},
   "outputs": [],
   "source": [
    "for n_step, batch_size in product(step_n_step, step_batch):\n",
    "    train_PPO_MountainCarContinuous.run(seed=0,\n",
    "                                        novel=True,\n",
    "                                        frame_stack_size = 2,\n",
    "                                        batch_size = batch_size,\n",
    "                                        n_step = n_step,\n",
    "                                        total_timesteps=500_000,\n",
    "                                        model_name=f'noob{n_step}{batch_size}_framestack2',\n",
    "                                        log_prefix='./Compare/noob_novel_step/', \n",
    "                                        sde=True)"
   ]
  },
  {
   "cell_type": "code",
   "execution_count": null,
   "id": "501bb3e6-3b98-4f7a-a030-c218d220920f",
   "metadata": {
    "tags": []
   },
   "outputs": [],
   "source": [
    "for n_step, batch_size in step_and_batch:\n",
    "    train_PPOTCN_MountainCarContinuous.run(seed=0,\n",
    "                                        novel=True,\n",
    "                                        frame_stack_size = 4,\n",
    "                                        batch_size = batch_size,\n",
    "                                        n_step = n_step,\n",
    "                                        total_timesteps=500_000,\n",
    "                                        model_name=f'noob{n_step}{batch_size}_tcn',\n",
    "                                        log_prefix='./Compare/noob_novel_tcn_step2/', \n",
    "                                        sde=True)"
   ]
  },
  {
   "cell_type": "markdown",
   "id": "95688bbb-19ad-49ab-8909-b84eaff27457",
   "metadata": {
    "tags": []
   },
   "source": [
    "# Training"
   ]
  },
  {
   "cell_type": "markdown",
   "id": "d3700499-9258-437d-8b39-934b7ffa8916",
   "metadata": {},
   "source": [
    "## PPO"
   ]
  },
  {
   "cell_type": "code",
   "execution_count": null,
   "id": "ee17a01b-1cb7-4d5f-96a6-ab9570a3a248",
   "metadata": {
    "tags": []
   },
   "outputs": [],
   "source": [
    "for i in seed.tolist():\n",
    "    train_PPO_MountainCarContinuous_expert.run(seed=i,\n",
    "                                               batch_size = 64,\n",
    "                                               n_step = 32,\n",
    "                                               total_timesteps=1_000_000,\n",
    "                                               model_name=f'expert{i}',\n",
    "                                               log_prefix='./Compare/expert_3264_1kk/', \n",
    "                                               sde=True)"
   ]
  },
  {
   "cell_type": "code",
   "execution_count": null,
   "id": "b8a7b5fb-4c54-424b-afc8-f04edd235c09",
   "metadata": {},
   "outputs": [],
   "source": [
    "for i in seed.tolist():\n",
    "    train_PPO_MountainCarContinuous_expert.run(seed=i,\n",
    "                                               n_step = 32,\n",
    "                                               batch_size = 64,\n",
    "                                               total_timesteps=1_020_000,\n",
    "                                               model_name=f'expert{i}',\n",
    "                                               log_prefix='./Compare/expert_3264_eval2/',\n",
    "                                               eval_freq=256,\n",
    "                                               sde=True)"
   ]
  },
  {
   "cell_type": "code",
   "execution_count": null,
   "id": "fc4b09cc-dee2-4cc7-8ee4-67b88081b195",
   "metadata": {},
   "outputs": [],
   "source": [
    "for i in seed.tolist():\n",
    "    train_PPO_MountainCarContinuous.run(seed=i,\n",
    "                                       batch_size = 64,\n",
    "                                       n_step = 32,\n",
    "                                       total_timesteps=1_000_000,\n",
    "                                       model_name=f'noob{i}',\n",
    "                                       log_prefix='./Compare/noob_3264_1kk/', \n",
    "                                       sde=True)"
   ]
  },
  {
   "cell_type": "code",
   "execution_count": null,
   "id": "6077fcdd-6ff4-474f-a138-a5e30f5bff87",
   "metadata": {},
   "outputs": [],
   "source": [
    "for i in seed.tolist():\n",
    "    train_PPO_MountainCarContinuous.run(seed=i,\n",
    "                                       batch_size = 64,\n",
    "                                       n_step = 32,\n",
    "                                       total_timesteps=1_020_000,\n",
    "                                       model_name=f'noob{i}',\n",
    "                                       log_prefix='./Compare/noob_3264_eval2/',\n",
    "                                       eval_freq=256,\n",
    "                                       sde=True)"
   ]
  },
  {
   "cell_type": "code",
   "execution_count": null,
   "id": "1b026836-95ec-44a7-a32c-c0a65351b1e7",
   "metadata": {},
   "outputs": [],
   "source": [
    "for i in seed.tolist():\n",
    "    train_PPO_MountainCarContinuous_expert.run(seed=i,\n",
    "                                               total_timesteps=1_500_000, \n",
    "                                               model_name=f'expert{i}', \n",
    "                                               log_prefix='./Compare/expert_eval2/', \n",
    "                                               eval_freq=256, \n",
    "                                               sde=True)"
   ]
  },
  {
   "cell_type": "code",
   "execution_count": null,
   "id": "5a8bed78-a9a5-4e90-a4f8-b6799dc70bd1",
   "metadata": {},
   "outputs": [],
   "source": [
    "for i in seed.tolist():\n",
    "    train_PPO_MountainCarContinuous.run(seed=i, \n",
    "                                        total_timesteps=1_500_000, \n",
    "                                        model_name=f'noob{i}', \n",
    "                                        log_prefix='./Compare/noob_eval2/', \n",
    "                                        eval_freq=256, \n",
    "                                        sde=True)"
   ]
  },
  {
   "cell_type": "markdown",
   "id": "d1a257c5-b347-4f60-93ee-9669a4f8914f",
   "metadata": {},
   "source": [
    "## no Velocity"
   ]
  },
  {
   "cell_type": "code",
   "execution_count": null,
   "id": "0ffdeca2-0f99-4879-b748-0e62575d78cf",
   "metadata": {},
   "outputs": [],
   "source": [
    "for i in seed.tolist():\n",
    "    train_PPOTCN_MountainCarContinuous.run(seed=i,\n",
    "                                        novel=True,\n",
    "                                        frame_stack_size = 4,\n",
    "                                        n_step = 32,\n",
    "                                        batch_size = 64,\n",
    "                                        total_timesteps=1_000_000,\n",
    "                                        model_name=f'noob_tcn{i}',\n",
    "                                        log_prefix='./Compare/noob_tcn_3264_eval2/',\n",
    "                                        eval_freq=256,\n",
    "                                        sde=True)"
   ]
  },
  {
   "cell_type": "code",
   "execution_count": null,
   "id": "bd74aecc-9bfc-413c-9d1a-96de4f0dfc6d",
   "metadata": {},
   "outputs": [],
   "source": [
    "for i in seed.tolist():\n",
    "    train_PPOTCN_MountainCarContinuous.run(seed=i,\n",
    "                                        novel=True,\n",
    "                                        frame_stack_size = 2,\n",
    "                                        n_step = 32,\n",
    "                                        batch_size = 64,\n",
    "                                        total_timesteps=1_000_000,\n",
    "                                        model_name=f'noob_tcn{i}',\n",
    "                                        log_prefix='./Compare/noob_tcn_fs2_3264_eval2/',\n",
    "                                        eval_freq=256,\n",
    "                                        sde=True)"
   ]
  },
  {
   "cell_type": "code",
   "execution_count": null,
   "id": "0474a3ac-2365-4d54-ab90-ffddd7427976",
   "metadata": {},
   "outputs": [],
   "source": [
    "for i in seed.tolist():\n",
    "    train_PPO_MountainCarContinuous.run(seed=i,\n",
    "                                        novel=True,\n",
    "                                        frame_stack_size = 2,\n",
    "                                        n_step = 32,\n",
    "                                        batch_size = 64,\n",
    "                                        total_timesteps=1_000_000,\n",
    "                                        model_name=f'noob{i}',\n",
    "                                        log_prefix='./Compare/noob_novel_3264_fs2_eval2/',\n",
    "                                        eval_freq=256,\n",
    "                                        sde=True)"
   ]
  },
  {
   "cell_type": "code",
   "execution_count": null,
   "id": "f8327e0b-6169-4a2f-8c6f-5beca6ec172d",
   "metadata": {
    "tags": []
   },
   "outputs": [],
   "source": [
    "for i in seed.tolist():\n",
    "    train_PPO_MountainCarContinuous.run(seed=i,\n",
    "                                        novel=True,\n",
    "                                        frame_stack_size = 4,\n",
    "                                        n_step = 32,\n",
    "                                        batch_size = 64,\n",
    "                                        total_timesteps=1_000_000,\n",
    "                                        model_name=f'noob{i}',\n",
    "                                        log_prefix='./Compare/noob_novel_3264_fs4_eval2/',\n",
    "                                        eval_freq=256,\n",
    "                                        sde=True)"
   ]
  }
 ],
 "metadata": {
  "kernelspec": {
   "display_name": "rl-venv",
   "language": "python",
   "name": "rl-venv"
  },
  "language_info": {
   "codemirror_mode": {
    "name": "ipython",
    "version": 3
   },
   "file_extension": ".py",
   "mimetype": "text/x-python",
   "name": "python",
   "nbconvert_exporter": "python",
   "pygments_lexer": "ipython3",
   "version": "3.10.6"
  }
 },
 "nbformat": 4,
 "nbformat_minor": 5
}
