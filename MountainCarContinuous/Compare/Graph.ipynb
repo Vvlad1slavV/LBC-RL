{
 "cells": [
  {
   "cell_type": "code",
   "execution_count": null,
   "id": "b0bf7aa3-f93d-4132-a03f-cfca76e26766",
   "metadata": {},
   "outputs": [],
   "source": [
    "import os\n",
    "import numpy as np\n",
    "import pandas as pd\n",
    "\n",
    "import glob\n",
    "import copy\n",
    "\n",
    "import matplotlib.pyplot as plt\n",
    "import seaborn as sns"
   ]
  },
  {
   "cell_type": "code",
   "execution_count": null,
   "id": "67b89d91-42fa-4a26-8f22-06046e3ca58d",
   "metadata": {},
   "outputs": [],
   "source": [
    "def plot_data(data, xaxis='timesteps', value=\"reward\", smooth=1, xlim=(None, None), ylim=(None, None), time=None, **kwargs):\n",
    "    data = copy.deepcopy(data)\n",
    "    if smooth > 1:\n",
    "        \"\"\"\n",
    "        smooth data with moving window average.\n",
    "        that is,\n",
    "            smoothed_y[t] = average(y[t-k], y[t-k+1], ..., y[t+k-1], y[t+k])\n",
    "        where the \"smooth\" param is width of that window (2k+1)\n",
    "        \"\"\"\n",
    "        y = np.ones(smooth)\n",
    "        for datum in data:\n",
    "            x = np.asarray(datum[value])\n",
    "            z = np.ones(len(x))\n",
    "            smoothed_x = np.convolve(x,y,'same') / np.convolve(z,y,'same')\n",
    "            datum[value] = smoothed_x\n",
    "\n",
    "    if isinstance(data, list):\n",
    "        data = pd.concat(data, ignore_index=True)\n",
    "        \n",
    "    ax1 = plt.subplot(1,1,1)    \n",
    "    sns.set(style=\"whitegrid\", font_scale=1.5) # darkgrid whitegrid\n",
    "    sns.lineplot(data=data, x=xaxis, y=value, errorbar='sd', **kwargs, legend=None)\n",
    "    plt.legend(\n",
    "            # loc='upper center',\n",
    "            # bbox_to_anchor=(0.5, 1.0),\n",
    "            bbox_to_anchor=(0., 1.02, 1., .102), loc='lower left',\n",
    "            ncol=2,\n",
    "            handlelength=1.0, \n",
    "            mode=\"expand\", \n",
    "            borderaxespad=0.,\n",
    "            frameon=False,\n",
    "            prop={'size': 13}\n",
    "    )\n",
    "    \n",
    "    # plt.legend(loc='best').set_draggable(True)\n",
    "    #plt.legend(loc='upper center', ncol=3, handlelength=1,\n",
    "    #           borderaxespad=0., prop={'size': 13})\n",
    "\n",
    "    \"\"\"\n",
    "    For the version of the legend used in the Spinning Up benchmarking page, \n",
    "    swap L38 with:\n",
    "    plt.legend(loc='upper center', ncol=6, handlelength=1,\n",
    "               mode=\"expand\", borderaxespad=0., prop={'size': 13})\n",
    "    \"\"\"\n",
    "\n",
    "    xscale = np.max(np.asarray(data[xaxis])) > 5e3\n",
    "    if xscale:\n",
    "        # Just some formatting niceness: x-axis scale in scientific notation if max x is large\n",
    "        plt.ticklabel_format(style='sci', axis='x', scilimits=(0,0))\n",
    "\n",
    "    plt.xlim(xlim)\n",
    "    plt.ylim(ylim)\n",
    "    plt.tight_layout(pad=2)\n",
    "    \n",
    "    if time is not None:\n",
    "        ax2 = ax1.twiny()\n",
    "        \n",
    "        timesteps = data.tail(1)[xaxis].values\n",
    "        # print(np.ceil(time/60))\n",
    "        # print(np.linspace(0, np.ceil(time/60), num=6))\n",
    "        # print(np.unique(np.linspace(0, np.ceil(time/60), num=6)).astype(int))\n",
    "        # newlabel = np.unique(np.linspace(0, np.ceil(time/60), num=6)).astype(int)\n",
    "        print(np.arange(0, np.ceil(time/60)+1, np.ceil(time/60/6)))\n",
    "        newlabel = np.arange(0, np.ceil(time/60)+1, np.ceil(time/60/6))\n",
    "        newpos = newlabel*(timesteps / time * 60)\n",
    "        ax2.set_xticks(newpos)\n",
    "        ax2.set_xticklabels(newlabel)\n",
    "\n",
    "        ax2.xaxis.set_ticks_position('bottom') # set the position of the second x-axis to bottom\n",
    "        ax2.xaxis.set_label_position('bottom') # set the position of the second x-axis to bottom\n",
    "        ax2.spines['bottom'].set_position(('outward', 64))\n",
    "        ax2.set_xlabel('time, мин')\n",
    "        ax2.set_xlim(ax1.get_xlim())\n",
    "        # ax2.xaxis.set_major_formatter(FormatStrFormatter('% 1.1f'))\n",
    "        ax2.grid(False)"
   ]
  },
  {
   "cell_type": "markdown",
   "id": "edae9e72-d98b-4a24-a3de-b711287b3230",
   "metadata": {},
   "source": [
    "# Experiment 1 - expand standart obs by angle"
   ]
  },
  {
   "cell_type": "code",
   "execution_count": null,
   "id": "9ec6333c-742d-4437-b1d7-eebe5ce235bb",
   "metadata": {},
   "outputs": [],
   "source": [
    "# data_expert_eval = []\n",
    "# for file in glob.glob('./expert_eval/results/expert*/evaluations.npz'):\n",
    "#     ev = np.load(file)\n",
    "#     data_expert_eval.append(pd.DataFrame({'timesteps': ev['timesteps'],\n",
    "#                                        'reward': np.mean(ev['results'], axis=1),\n",
    "#                                        'level': 'expert'}))\n",
    "\n",
    "# data_noob_eval = []\n",
    "# for file in glob.glob('./noob_eval/results/noob*/evaluations.npz'):\n",
    "#     ev = np.load(file)\n",
    "#     data_noob_eval.append(pd.DataFrame({'timesteps': ev['timesteps'],\n",
    "#                                        'reward': np.mean(ev['results'], axis=1),\n",
    "#                                        'level': 'expert'}))\n",
    "\n",
    "data_expert_eval2 = []\n",
    "for file in glob.glob('./expert_eval2/results/expert*/evaluations.npz'):\n",
    "    ev = np.load(file)\n",
    "    data_expert_eval2.append(pd.DataFrame({'timesteps': ev['timesteps'],\n",
    "                                       'reward': np.mean(ev['results'], axis=1),\n",
    "                                       'level': 'expert'}))\n",
    "\n",
    "data_noob_eval2 = []\n",
    "for file in glob.glob('./noob_eval2/results/noob*/evaluations.npz'):\n",
    "    ev = np.load(file)\n",
    "    data_noob_eval2.append(pd.DataFrame({'timesteps': ev['timesteps'],\n",
    "                                       'reward': np.mean(ev['results'], axis=1),\n",
    "                                       'level': 'expert'}))"
   ]
  },
  {
   "cell_type": "code",
   "execution_count": null,
   "id": "1d97ffa8-036a-407d-a232-948c6055bb8f",
   "metadata": {},
   "outputs": [],
   "source": [
    "data_expert3264_eval = []\n",
    "for file in glob.glob('./expert_3264_eval/results/expert*/evaluations.npz'):\n",
    "    ev = np.load(file)\n",
    "    data_expert3264_eval.append(pd.DataFrame({'timesteps': ev['timesteps'],\n",
    "                                       'reward': np.mean(ev['results'], axis=1),\n",
    "                                       'level': 'expert'}))\n",
    "    \n",
    "data_noob3264_eval = []\n",
    "for file in glob.glob('./noob_3264_eval/results/noob*/evaluations.npz'):\n",
    "    ev = np.load(file)\n",
    "    data_noob3264_eval.append(pd.DataFrame({'timesteps': ev['timesteps'],\n",
    "                                       'reward': np.mean(ev['results'], axis=1),\n",
    "                                       'level': 'expert'}))    \n",
    "\n",
    "data_expert3264_eval2 = []\n",
    "for file in glob.glob('./expert_3264_eval2/results/expert*/evaluations.npz'):\n",
    "    ev = np.load(file)\n",
    "    data_expert3264_eval2.append(pd.DataFrame({'timesteps': ev['timesteps'],\n",
    "                                       'reward': np.mean(ev['results'], axis=1),\n",
    "                                       'level': 'expert'}))\n",
    "    \n",
    "data_noob3264_eval2 = []\n",
    "for file in glob.glob('./noob_3264_eval2/results/noob*/evaluations.npz'):\n",
    "    ev = np.load(file)\n",
    "    data_noob3264_eval2.append(pd.DataFrame({'timesteps': ev['timesteps'],\n",
    "                                       'reward': np.mean(ev['results'], axis=1),\n",
    "                                       'level': 'expert'}))    "
   ]
  },
  {
   "cell_type": "code",
   "execution_count": null,
   "id": "49c482b9-ed2f-4cb9-af7f-9894a33f27f2",
   "metadata": {},
   "outputs": [],
   "source": [
    "xlim = (0, 1.5*1e6)\n",
    "ylim = (None, 100)\n",
    "plt.figure()\n",
    "# plot_data(data_expert, smooth=5, label='high_obs')\n",
    "# plot_data(data_noob, smooth=5, label='standart_obs')\n",
    "plot_data(data_expert_eval2, smooth=5, xlim=xlim, ylim=ylim, label='extend_obs')\n",
    "plot_data(data_noob_eval2, smooth=5, xlim=xlim, ylim=ylim, label='standart_obs')\n",
    "plt.savefig('Pictures/MountainCarContinuous_obs_comp_2.pdf', bbox_inches='tight')\n",
    "plt.show()"
   ]
  },
  {
   "cell_type": "code",
   "execution_count": null,
   "id": "0f0addd1-40f8-4349-8e16-03727e0d774d",
   "metadata": {},
   "outputs": [],
   "source": [
    "xlim = (0, 0.5*1e6)\n",
    "ylim = (None, 100)\n",
    "plt.figure()\n",
    "# plot_data(data_expert3264, smooth=5, label='high_obs')\n",
    "# plot_data(data_noob3264, smooth=5, label='standart_obs')\n",
    "plot_data(data_expert3264_eval2, smooth=5, xlim=xlim, ylim=ylim, label='extend_obs')\n",
    "plot_data(data_noob3264_eval2, smooth=5, xlim=xlim, ylim=ylim, label='standart_obs')\n",
    "plt.savefig('Pictures/MountainCarContinuous_obs_comp3264_2.pdf', bbox_inches='tight')\n",
    "plt.show()"
   ]
  },
  {
   "cell_type": "code",
   "execution_count": null,
   "id": "f0f06760-484f-429e-a489-a85f47671cc7",
   "metadata": {},
   "outputs": [],
   "source": [
    "# xlim = (0, 1*1e6)\n",
    "# ylim = (-110, 100)\n",
    "# plt.figure()\n",
    "# # plot_data(data_expert3264, smooth=5, label='high_obs')\n",
    "# # plot_data(data_noob3264, smooth=5, label='standart_obs')\n",
    "# plot_data(data_expert3264_eval, smooth=5, xlim=xlim, ylim=ylim, label='high_obs')\n",
    "# plot_data(data_noob3264_eval, smooth=5, xlim=xlim, ylim=ylim, label='standart_obs')\n",
    "# plt.savefig('Pictures/MountainCarContinuous_obs_comp3264_1.pdf', bbox_inches='tight')\n",
    "# plt.show()"
   ]
  },
  {
   "cell_type": "markdown",
   "id": "474f26fd-0107-4cec-91d8-463a4f3184f5",
   "metadata": {},
   "source": [
    "# Experiment 2 - No Vel"
   ]
  },
  {
   "cell_type": "code",
   "execution_count": null,
   "id": "f91384cb-4e29-476f-a729-86caa36f697f",
   "metadata": {},
   "outputs": [],
   "source": [
    "# data_noob_lstm = []\n",
    "# for file in glob.glob('./noob_lstm_n32b128_1kk/results/noob*/rewards_ncpu.npz'):\n",
    "#     ev = np.load(file)\n",
    "#     data_noob_lstm.append(pd.DataFrame({'timesteps': ev['timesteps'],\n",
    "#                                        'reward': ev['results'],\n",
    "#                                        'level': 'expert'}))\n",
    "# data_noob_novel = []\n",
    "# for file in glob.glob('./noob_novel_n32b64_1kk/results/noob*/rewards_ncpu.npz'):\n",
    "#     ev = np.load(file)\n",
    "#     data_noob_novel.append(pd.DataFrame({'timesteps': ev['timesteps'],\n",
    "#                                        'reward': ev['results'],\n",
    "#                                        'level': 'expert'}))"
   ]
  },
  {
   "cell_type": "code",
   "execution_count": null,
   "id": "cb668054-3cf5-4862-910f-087ebf7f9b6f",
   "metadata": {},
   "outputs": [],
   "source": [
    "data_noob_lstm_eval2 = []\n",
    "for file in glob.glob('./noob_lstm_32128_eval2/results/noob*/evaluations.npz'):\n",
    "    ev = np.load(file)\n",
    "    data_noob_lstm_eval2.append(pd.DataFrame({'timesteps': ev['timesteps'],\n",
    "                                       'reward': np.mean(ev['results'], axis=1),\n",
    "                                       'level': 'expert'}))\n",
    "\n",
    "data_noob_novel_fs2_eval2 = []\n",
    "for file in glob.glob('./noob_novel_3264_fs2_eval2/results/noob*/evaluations.npz'):\n",
    "    ev = np.load(file)\n",
    "    data_noob_novel_fs2_eval2.append(pd.DataFrame({'timesteps': ev['timesteps'],\n",
    "                                       'reward': np.mean(ev['results'], axis=1),\n",
    "                                       'level': 'expert'}))\n",
    "    \n",
    "data_noob_novel_fs4_eval2 = []\n",
    "for file in glob.glob('./noob_novel_3264_fs4_eval2/results/noob*/evaluations.npz'):\n",
    "    ev = np.load(file)\n",
    "    data_noob_novel_fs4_eval2.append(pd.DataFrame({'timesteps': ev['timesteps'],\n",
    "                                       'reward': np.mean(ev['results'], axis=1),\n",
    "                                       'level': 'expert'}))    "
   ]
  },
  {
   "cell_type": "code",
   "execution_count": null,
   "id": "3c1d357c-1fe4-4dcb-aa69-25d841460238",
   "metadata": {},
   "outputs": [],
   "source": [
    "xlim=(0, 1*1e6)\n",
    "ylim=(-110, 100)\n",
    "plt.figure()\n",
    "plot_data(data_noob_lstm_eval2, smooth=5, xlim=xlim, ylim=ylim, label='standart_obs_lstm')\n",
    "plot_data(data_noob_novel_fs2_eval2, smooth=5, xlim=xlim, ylim=ylim, label='standart_obs_fs2')\n",
    "plot_data(data_noob_novel_fs4_eval2, smooth=5, xlim=xlim, ylim=ylim, label='standart_obs_fs4')\n",
    "plt.savefig('Pictures/MountainCarContinuousNoVel_comp_2.pdf', bbox_inches='tight')\n",
    "plt.show()"
   ]
  },
  {
   "cell_type": "markdown",
   "id": "0f0a6188-ce58-4cda-a602-64b8a2a6af11",
   "metadata": {
    "jp-MarkdownHeadingCollapsed": true,
    "tags": []
   },
   "source": [
    "# ..."
   ]
  },
  {
   "cell_type": "code",
   "execution_count": null,
   "id": "7ef6427d-e62a-490a-8cec-9942235319a7",
   "metadata": {},
   "outputs": [],
   "source": [
    "data_expert3264 = []\n",
    "for file in glob.glob('./expert_3264_1kk/results/expert*/rewards_ncpu.npz'):\n",
    "    ev = np.load(file)\n",
    "    data_expert3264.append(pd.DataFrame({'timesteps': ev['timesteps'],\n",
    "                                       'reward': ev['results'],\n",
    "                                       'level': 'expert'}))\n",
    "# for i, data in enumerate(data_expert3264):\n",
    "#     data_expert3264[i] = data[data.timesteps >= 32768*2]\n",
    "\n",
    "\n",
    "data_noob3264 = []\n",
    "for file in glob.glob('./noob_3264_1kk/results/noob*/rewards_ncpu.npz'):\n",
    "    ev = np.load(file)\n",
    "    data_noob3264.append(pd.DataFrame({'timesteps': ev['timesteps'],\n",
    "                                       'reward': ev['results'],\n",
    "                                       'level': 'expert'}))\n",
    "# for i, data in enumerate(data_noob3264):\n",
    "#     data_noob3264[i] = data[data.timesteps >= 32768*2]\n",
    "\n"
   ]
  },
  {
   "cell_type": "code",
   "execution_count": null,
   "id": "506a2f52-e1ac-482b-8f87-f87f64c290ff",
   "metadata": {},
   "outputs": [],
   "source": [
    "plt.figure()\n",
    "plot_data(data_expert3264, smooth=5, label='high_obs_n32b64')\n",
    "plot_data(data_noob3264, smooth=5, label='standart_obs_n32b64')\n",
    "plt.xlim(0, 1*1e6)\n",
    "plt.ylim(85, 100)\n",
    "plt.savefig('Pictures/MountainCarContinuous_obs_comp3264_cropp.pdf', bbox_inches='tight')\n",
    "plt.show()"
   ]
  },
  {
   "cell_type": "code",
   "execution_count": null,
   "id": "5f3551cf-73f7-4058-9896-2793b641fa5b",
   "metadata": {},
   "outputs": [],
   "source": []
  },
  {
   "cell_type": "code",
   "execution_count": null,
   "id": "5f6acccc-18eb-4212-92a2-e94dc7b03edf",
   "metadata": {},
   "outputs": [],
   "source": [
    "data = []\n",
    "for file in glob.glob('./noob_novel_1kk/logs/noob32230_monitor/*'):\n",
    "    data.append(pd.read_csv(file, header=1))\n",
    "    \n",
    "data_n = np.array([d.to_numpy()[:10] for d in data])\n",
    "data_n[:, 0, 0]"
   ]
  },
  {
   "cell_type": "code",
   "execution_count": null,
   "id": "103b1416-340f-4daf-b584-ac90f28f989a",
   "metadata": {},
   "outputs": [],
   "source": [
    "from stable_baselines3.common import results_plotter\n",
    "from stable_baselines3.common.results_plotter import load_results, ts2xy\n",
    "\n",
    "# Helper from the library\n",
    "results_plotter.plot_results([file for file in glob.glob('./test_expert/logs/expert*_monitor')], 1e6, results_plotter.X_TIMESTEPS, \"TD3 LunarLander\")"
   ]
  },
  {
   "cell_type": "code",
   "execution_count": null,
   "id": "b466c49e-8fd7-4641-ada6-9b7c41417d7a",
   "metadata": {},
   "outputs": [],
   "source": [
    "data_expert_3264 = [ load_results(file) for file in glob.glob('./test_expert/logs/expert*_monitor')]\n",
    "data_expert_3264[0]"
   ]
  },
  {
   "cell_type": "code",
   "execution_count": null,
   "id": "c384b66c-c347-49ee-bd8d-4c24bfdbfae7",
   "metadata": {},
   "outputs": [],
   "source": []
  },
  {
   "cell_type": "code",
   "execution_count": null,
   "id": "31cadb39-cc67-41c0-8760-d94bfb7792d2",
   "metadata": {},
   "outputs": [],
   "source": [
    "plot_data(data_expert_3264, smooth=1001, xaxis='t', value=\"r\", label='high_obs')"
   ]
  }
 ],
 "metadata": {
  "kernelspec": {
   "display_name": "rl-venv",
   "language": "python",
   "name": "rl-venv"
  },
  "language_info": {
   "codemirror_mode": {
    "name": "ipython",
    "version": 3
   },
   "file_extension": ".py",
   "mimetype": "text/x-python",
   "name": "python",
   "nbconvert_exporter": "python",
   "pygments_lexer": "ipython3",
   "version": "3.10.6"
  }
 },
 "nbformat": 4,
 "nbformat_minor": 5
}
