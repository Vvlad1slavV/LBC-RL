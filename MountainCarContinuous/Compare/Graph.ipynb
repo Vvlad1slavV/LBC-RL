{
 "cells": [
  {
   "cell_type": "code",
   "execution_count": null,
   "id": "b0bf7aa3-f93d-4132-a03f-cfca76e26766",
   "metadata": {},
   "outputs": [],
   "source": [
    "import os\n",
    "import numpy as np\n",
    "import pandas as pd\n",
    "\n",
    "import glob\n",
    "import copy\n",
    "\n",
    "import matplotlib.pyplot as plt\n",
    "import seaborn as sns"
   ]
  },
  {
   "cell_type": "code",
   "execution_count": null,
   "id": "67b89d91-42fa-4a26-8f22-06046e3ca58d",
   "metadata": {},
   "outputs": [],
   "source": [
    "def plot_data(data, xaxis='timesteps', value=\"reward\", smooth=1, **kwargs):\n",
    "    data = copy.deepcopy(data)\n",
    "    if smooth > 1:\n",
    "        \"\"\"\n",
    "        smooth data with moving window average.\n",
    "        that is,\n",
    "            smoothed_y[t] = average(y[t-k], y[t-k+1], ..., y[t+k-1], y[t+k])\n",
    "        where the \"smooth\" param is width of that window (2k+1)\n",
    "        \"\"\"\n",
    "        y = np.ones(smooth)\n",
    "        for datum in data:\n",
    "            x = np.asarray(datum[value])\n",
    "            z = np.ones(len(x))\n",
    "            smoothed_x = np.convolve(x,y,'same') / np.convolve(z,y,'same')\n",
    "            datum[value] = smoothed_x\n",
    "\n",
    "    if isinstance(data, list):\n",
    "        data = pd.concat(data, ignore_index=True)\n",
    "    sns.set(style=\"whitegrid\", font_scale=1.5) # darkgrid whitegrid\n",
    "    sns.lineplot(data=data, x=xaxis, y=value, errorbar='sd', **kwargs, legend=None)\n",
    "    plt.legend(\n",
    "            # loc='upper center',\n",
    "            # bbox_to_anchor=(0.5, 1.0),\n",
    "            bbox_to_anchor=(0., 1.02, 1., .102), loc='lower left',\n",
    "            ncol=2,\n",
    "            handlelength=1.0, \n",
    "            mode=\"expand\", \n",
    "            borderaxespad=0.,\n",
    "            frameon=False,\n",
    "            prop={'size': 13}\n",
    "    )\n",
    "\n",
    "    # plt.legend(loc='best').set_draggable(True)\n",
    "    #plt.legend(loc='upper center', ncol=3, handlelength=1,\n",
    "    #           borderaxespad=0., prop={'size': 13})\n",
    "\n",
    "    \"\"\"\n",
    "    For the version of the legend used in the Spinning Up benchmarking page, \n",
    "    swap L38 with:\n",
    "    plt.legend(loc='upper center', ncol=6, handlelength=1,\n",
    "               mode=\"expand\", borderaxespad=0., prop={'size': 13})\n",
    "    \"\"\"\n",
    "\n",
    "    xscale = np.max(np.asarray(data[xaxis])) > 5e3\n",
    "    if xscale:\n",
    "        # Just some formatting niceness: x-axis scale in scientific notation if max x is large\n",
    "        plt.ticklabel_format(style='sci', axis='x', scilimits=(0,0))\n",
    "\n",
    "    plt.tight_layout(pad=2)"
   ]
  },
  {
   "cell_type": "code",
   "execution_count": null,
   "id": "9ec6333c-742d-4437-b1d7-eebe5ce235bb",
   "metadata": {},
   "outputs": [],
   "source": [
    "data_expert = []\n",
    "for file in glob.glob('./test_expert/results/expert*/rewards_ncpu.npz'):\n",
    "    ev = np.load(file)\n",
    "    data_expert.append(pd.DataFrame({'timesteps': ev['timesteps'],\n",
    "                                       'reward': ev['results'],\n",
    "                                       'level': 'expert'}))\n",
    "for i, data in enumerate(data_expert):\n",
    "    data_expert[i] = data[data.timesteps >= 32768]\n",
    "\n",
    "\n",
    "data_expert_eval = []\n",
    "for file in glob.glob('./test_expert_eval/results/expert*/evaluations.npz'):\n",
    "    ev = np.load(file)\n",
    "    data_expert_eval.append(pd.DataFrame({'timesteps': ev['timesteps'],\n",
    "                                       'reward': np.mean(ev['results'], axis=1),\n",
    "                                       'level': 'expert'}))\n",
    "\n",
    "data_noob = []\n",
    "for file in glob.glob('./test_noob/results/noob*/rewards_ncpu.npz'):\n",
    "    ev = np.load(file)\n",
    "    data_noob.append(pd.DataFrame({'timesteps': ev['timesteps'],\n",
    "                                       'reward': ev['results'],\n",
    "                                       'level': 'expert'}))\n",
    "for i, data in enumerate(data_noob):\n",
    "    data_noob[i] = data[data.timesteps >= 32768]\n",
    "\n",
    "\n",
    "data_noob_eval = []\n",
    "for file in glob.glob('./test_noob_eval/results/noob*/evaluations.npz'):\n",
    "    ev = np.load(file)\n",
    "    data_noob_eval.append(pd.DataFrame({'timesteps': ev['timesteps'],\n",
    "                                       'reward': np.mean(ev['results'], axis=1),\n",
    "                                       'level': 'expert'}))"
   ]
  },
  {
   "cell_type": "code",
   "execution_count": null,
   "id": "7ef6427d-e62a-490a-8cec-9942235319a7",
   "metadata": {},
   "outputs": [],
   "source": [
    "data_expert3264 = []\n",
    "for file in glob.glob('./expert_3264_1kk/results/expert*/rewards_ncpu.npz'):\n",
    "    ev = np.load(file)\n",
    "    data_expert3264.append(pd.DataFrame({'timesteps': ev['timesteps'],\n",
    "                                       'reward': ev['results'],\n",
    "                                       'level': 'expert'}))\n",
    "# for i, data in enumerate(data_expert3264):\n",
    "#     data_expert3264[i] = data[data.timesteps >= 32768*2]\n",
    "data_noob3264 = []\n",
    "for file in glob.glob('./noob_3264_1kk/results/noob*/rewards_ncpu.npz'):\n",
    "    ev = np.load(file)\n",
    "    data_noob3264.append(pd.DataFrame({'timesteps': ev['timesteps'],\n",
    "                                       'reward': ev['results'],\n",
    "                                       'level': 'expert'}))\n",
    "# for i, data in enumerate(data_noob3264):\n",
    "#     data_noob3264[i] = data[data.timesteps >= 32768*2]"
   ]
  },
  {
   "cell_type": "code",
   "execution_count": null,
   "id": "f91384cb-4e29-476f-a729-86caa36f697f",
   "metadata": {},
   "outputs": [],
   "source": [
    "data_noob_lstm = []\n",
    "for file in glob.glob('./noob_lstm_n32b128_1kk/results/noob*/rewards_ncpu.npz'):\n",
    "    ev = np.load(file)\n",
    "    data_noob_lstm.append(pd.DataFrame({'timesteps': ev['timesteps'],\n",
    "                                       'reward': ev['results'],\n",
    "                                       'level': 'expert'}))\n",
    "data_noob_novel = []\n",
    "for file in glob.glob('./noob_novel_n32b64_1kk/results/noob*/rewards_ncpu.npz'):\n",
    "    ev = np.load(file)\n",
    "    data_noob_novel.append(pd.DataFrame({'timesteps': ev['timesteps'],\n",
    "                                       'reward': ev['results'],\n",
    "                                       'level': 'expert'}))"
   ]
  },
  {
   "cell_type": "code",
   "execution_count": null,
   "id": "49c482b9-ed2f-4cb9-af7f-9894a33f27f2",
   "metadata": {},
   "outputs": [],
   "source": [
    "plt.figure()\n",
    "plot_data(data_expert, smooth=5, label='high_obs')\n",
    "# plot_data(data_expert3264, smooth=5, label='high_obs3264')\n",
    "# plot_data(data_expert_eval, smooth=5, label='high_obs_eval')\n",
    "plot_data(data_noob, smooth=5, label='standart_obs')\n",
    "# plot_data(data_noob3264, smooth=5, label='standart_obs3264')\n",
    "# plot_data(data_noob_eval, smooth=5, label='standart_obs_eval')\n",
    "plt.xlim(0, 1.5*1e6)\n",
    "plt.ylim(None, 100)\n",
    "plt.savefig('Pictures/MountainCarContinuous_obs_comp.pdf', bbox_inches='tight')\n",
    "plt.show()"
   ]
  },
  {
   "cell_type": "code",
   "execution_count": null,
   "id": "0f0addd1-40f8-4349-8e16-03727e0d774d",
   "metadata": {},
   "outputs": [],
   "source": [
    "plt.figure()\n",
    "plot_data(data_expert3264, smooth=5, label='high_obs_n32b64')\n",
    "plot_data(data_noob3264, smooth=5, label='standart_obs_n32b64')\n",
    "plt.xlim(0, 1*1e6)\n",
    "plt.ylim(None, 100)\n",
    "plt.savefig('Pictures/MountainCarContinuous_obs_comp3264.pdf', bbox_inches='tight')\n",
    "plt.show()"
   ]
  },
  {
   "cell_type": "code",
   "execution_count": null,
   "id": "506a2f52-e1ac-482b-8f87-f87f64c290ff",
   "metadata": {},
   "outputs": [],
   "source": [
    "plt.figure()\n",
    "plot_data(data_expert3264, smooth=5, label='high_obs_n32b64')\n",
    "plot_data(data_noob3264, smooth=5, label='standart_obs_n32b64')\n",
    "plt.xlim(0, 1*1e6)\n",
    "plt.ylim(85, 100)\n",
    "plt.savefig('Pictures/MountainCarContinuous_obs_comp3264_cropp.pdf', bbox_inches='tight')\n",
    "plt.show()"
   ]
  },
  {
   "cell_type": "code",
   "execution_count": null,
   "id": "3c1d357c-1fe4-4dcb-aa69-25d841460238",
   "metadata": {},
   "outputs": [],
   "source": [
    "plt.figure()\n",
    "plot_data(data_noob_lstm, smooth=5, label='standart_obs_lstm')\n",
    "plot_data(data_noob_novel, smooth=5, label='standart_obs_fs2')\n",
    "plt.xlim(0, 1*1e6)\n",
    "# plt.ylim(85, 100)\n",
    "plt.savefig('Pictures/MountainCarContinuousNoVel_comp.pdf', bbox_inches='tight')\n",
    "plt.show()"
   ]
  },
  {
   "cell_type": "code",
   "execution_count": null,
   "id": "5f6acccc-18eb-4212-92a2-e94dc7b03edf",
   "metadata": {},
   "outputs": [],
   "source": [
    "[file for file in glob.glob('./expert_3264_1kk/logs/expert*_monitor')]"
   ]
  },
  {
   "cell_type": "code",
   "execution_count": null,
   "id": "103b1416-340f-4daf-b584-ac90f28f989a",
   "metadata": {},
   "outputs": [],
   "source": [
    "from stable_baselines3.common import results_plotter\n",
    "from stable_baselines3.common.results_plotter import load_results, ts2xy\n",
    "\n",
    "# Helper from the library\n",
    "results_plotter.plot_results([file for file in glob.glob('./test_expert/logs/expert*_monitor')], 1e6, results_plotter.X_TIMESTEPS, \"TD3 LunarLander\")"
   ]
  },
  {
   "cell_type": "code",
   "execution_count": null,
   "id": "b466c49e-8fd7-4641-ada6-9b7c41417d7a",
   "metadata": {},
   "outputs": [],
   "source": [
    "data_expert_3264 = [ load_results(file) for file in glob.glob('./test_expert/logs/expert*_monitor')]\n",
    "data_expert_3264[0]"
   ]
  },
  {
   "cell_type": "code",
   "execution_count": null,
   "id": "c384b66c-c347-49ee-bd8d-4c24bfdbfae7",
   "metadata": {},
   "outputs": [],
   "source": []
  },
  {
   "cell_type": "code",
   "execution_count": null,
   "id": "31cadb39-cc67-41c0-8760-d94bfb7792d2",
   "metadata": {},
   "outputs": [],
   "source": [
    "plot_data(data_expert_3264, smooth=1001, xaxis='t', value=\"r\", label='high_obs')"
   ]
  }
 ],
 "metadata": {
  "kernelspec": {
   "display_name": "rl-venv",
   "language": "python",
   "name": "rl-venv"
  },
  "language_info": {
   "codemirror_mode": {
    "name": "ipython",
    "version": 3
   },
   "file_extension": ".py",
   "mimetype": "text/x-python",
   "name": "python",
   "nbconvert_exporter": "python",
   "pygments_lexer": "ipython3",
   "version": "3.10.6"
  }
 },
 "nbformat": 4,
 "nbformat_minor": 5
}
