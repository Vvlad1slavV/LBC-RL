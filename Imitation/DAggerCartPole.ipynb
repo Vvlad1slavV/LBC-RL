{
 "cells": [
  {
   "cell_type": "code",
   "execution_count": 1,
   "id": "b412afa8-64af-4226-97cc-b157613393f7",
   "metadata": {},
   "outputs": [
    {
     "data": {
      "text/plain": [
       "'0.21.0'"
      ]
     },
     "execution_count": 1,
     "metadata": {},
     "output_type": "execute_result"
    }
   ],
   "source": [
    "# import sys\n",
    "# import gymnasium as gym\n",
    "# sys.modules[\"gym\"] = gym\n",
    "import gym\n",
    "gym.__version__"
   ]
  },
  {
   "cell_type": "code",
   "execution_count": 2,
   "id": "16240bb9-6283-4faa-baee-5fc4b347ac09",
   "metadata": {},
   "outputs": [],
   "source": [
    "import gnwrapper"
   ]
  },
  {
   "cell_type": "code",
   "execution_count": 3,
   "id": "c5796eea-1d13-494b-85be-835f64d4e310",
   "metadata": {},
   "outputs": [
    {
     "name": "stdout",
     "output_type": "stream",
     "text": [
      "True\n"
     ]
    }
   ],
   "source": [
    "import os\n",
    "import numpy as np\n",
    "import torch\n",
    "print(torch.cuda.is_available())"
   ]
  },
  {
   "cell_type": "code",
   "execution_count": 4,
   "id": "1578350d-b5a0-48a4-b702-828966e0427c",
   "metadata": {},
   "outputs": [],
   "source": [
    "from stable_baselines3 import PPO\n",
    "from stable_baselines3.ppo import MlpPolicy"
   ]
  },
  {
   "cell_type": "code",
   "execution_count": 5,
   "id": "29b3f642-b78d-4f04-bb79-94c3206c935f",
   "metadata": {},
   "outputs": [],
   "source": [
    "env = gym.make(\"CartPole-v1\")"
   ]
  },
  {
   "cell_type": "code",
   "execution_count": null,
   "id": "480a9101-5cc3-406b-a3cc-33451052a215",
   "metadata": {},
   "outputs": [
    {
     "data": {
      "text/html": [
       "<pre style=\"white-space:pre;overflow-x:auto;line-height:normal;font-family:Menlo,'DejaVu Sans Mono',consolas,'Courier New',monospace\"><span style=\"color: #800080; text-decoration-color: #800080\">  68%</span> <span style=\"color: #f92672; text-decoration-color: #f92672\">━━━━━━━━━━━━━━━━━━━━━━━━━━━━━━━━━━━━━</span><span style=\"color: #3a3a3a; text-decoration-color: #3a3a3a\">╺━━━━━━━━━━━━━━━━━</span> <span style=\"color: #008000; text-decoration-color: #008000\">678,529/1,000,000 </span> [ <span style=\"color: #808000; text-decoration-color: #808000\">0:06:25</span> &lt; <span style=\"color: #008080; text-decoration-color: #008080\">0:03:03</span> , <span style=\"color: #800000; text-decoration-color: #800000\">1,761 it/s</span> ]\n",
       "<span style=\"color: #800080; text-decoration-color: #800080\">  68%</span> <span style=\"color: #f92672; text-decoration-color: #f92672\">━━━━━━━━━━━━━━━━━━━━━━━━━━━━━━━━━━━━━</span><span style=\"color: #3a3a3a; text-decoration-color: #3a3a3a\">╺━━━━━━━━━━━━━━━━━</span> <span style=\"color: #008000; text-decoration-color: #008000\">678,529/1,000,000 </span> [ <span style=\"color: #808000; text-decoration-color: #808000\">0:06:25</span> &lt; <span style=\"color: #008080; text-decoration-color: #008080\">0:03:03</span> , <span style=\"color: #800000; text-decoration-color: #800000\">1,761 it/s</span> ]</pre>\n"
      ],
      "text/plain": [
       "\r",
       "\u001b[2K\u001b[35m  68%\u001b[0m \u001b[38;2;249;38;114m━━━━━━━━━━━━━━━━━━━━━━━━━━━━━━━━━━━━━\u001b[0m\u001b[38;5;237m╺\u001b[0m\u001b[38;5;237m━━━━━━━━━━━━━━━━━\u001b[0m \u001b[32m678,529/1,000,000 \u001b[0m [ \u001b[33m0:06:25\u001b[0m < \u001b[36m0:03:03\u001b[0m , \u001b[31m1,761 it/s\u001b[0m ]\n",
       "\u001b[35m  68%\u001b[0m \u001b[38;2;249;38;114m━━━━━━━━━━━━━━━━━━━━━━━━━━━━━━━━━━━━━\u001b[0m\u001b[38;5;237m╺\u001b[0m\u001b[38;5;237m━━━━━━━━━━━━━━━━━\u001b[0m \u001b[32m678,529/1,000,000 \u001b[0m [ \u001b[33m0:06:25\u001b[0m < \u001b[36m0:03:03\u001b[0m , \u001b[31m1,761 it/s\u001b[0m ]"
      ]
     },
     "metadata": {},
     "output_type": "display_data"
    }
   ],
   "source": [
    "expert = PPO(\n",
    "    policy=MlpPolicy,\n",
    "    env=env,\n",
    "    seed=0,\n",
    "    batch_size=64,\n",
    "    ent_coef=0.0,\n",
    "    learning_rate=0.0003,\n",
    "    n_epochs=10,\n",
    "    n_steps=64,\n",
    ")\n",
    "expert.learn(1_000_000, progress_bar=True)\n",
    "expert.save(\"ppo_CartPole_expert\")"
   ]
  },
  {
   "cell_type": "code",
   "execution_count": 6,
   "id": "7f9520da-a07a-4c7e-8eff-01f1acb5cebb",
   "metadata": {},
   "outputs": [
    {
     "name": "stdout",
     "output_type": "stream",
     "text": [
      "== CURRENT SYSTEM INFO ==\n",
      "- OS: Linux-5.15.0-58-generic-x86_64-with-glibc2.35 # 64-Ubuntu SMP Thu Jan 5 11:43:13 UTC 2023\n",
      "- Python: 3.10.6\n",
      "- Stable-Baselines3: 1.7.0\n",
      "- PyTorch: 1.13.1+cu117\n",
      "- GPU Enabled: True\n",
      "- Numpy: 1.24.1\n",
      "- Gym: 0.21.0\n",
      "\n",
      "== SAVED MODEL SYSTEM INFO ==\n",
      "- OS: Linux-5.15.0-58-generic-x86_64-with-glibc2.35 # 64-Ubuntu SMP Thu Jan 5 11:43:13 UTC 2023\n",
      "- Python: 3.10.6\n",
      "- Stable-Baselines3: 1.7.0\n",
      "- PyTorch: 1.13.1+cu117\n",
      "- GPU Enabled: True\n",
      "- Numpy: 1.24.1\n",
      "- Gym: 0.21.0\n",
      "\n"
     ]
    }
   ],
   "source": [
    "expert = PPO.load(\"ppo_CartPole_expert.zip\", print_system_info=True)"
   ]
  },
  {
   "cell_type": "code",
   "execution_count": 7,
   "id": "c2c74804-53d8-43e0-89cb-7b0c0fe62994",
   "metadata": {},
   "outputs": [
    {
     "name": "stderr",
     "output_type": "stream",
     "text": [
      "/home/vlad1slav/Diploma/rl-venv/lib/python3.10/site-packages/stable_baselines3/common/evaluation.py:67: UserWarning: Evaluation environment is not wrapped with a ``Monitor`` wrapper. This may result in reporting modified episode lengths and rewards, if other wrappers happen to modify these. Consider wrapping environment first with ``Monitor`` wrapper.\n",
      "  warnings.warn(\n"
     ]
    },
    {
     "name": "stdout",
     "output_type": "stream",
     "text": [
      "500.0\n"
     ]
    }
   ],
   "source": [
    "from stable_baselines3.common.evaluation import evaluate_policy\n",
    "\n",
    "reward, _ = evaluate_policy(expert, env, 10)\n",
    "print(reward)"
   ]
  },
  {
   "cell_type": "code",
   "execution_count": 10,
   "id": "a1c8a2a1-ee13-4bcd-969f-385d3bd7408d",
   "metadata": {
    "collapsed": true,
    "jupyter": {
     "outputs_hidden": true
    },
    "tags": []
   },
   "outputs": [
    {
     "name": "stdout",
     "output_type": "stream",
     "text": [
      "/tmp/dagger_example_xxoac_2_\n"
     ]
    },
    {
     "name": "stderr",
     "output_type": "stream",
     "text": [
      "0batch [00:00, ?batch/s]"
     ]
    },
    {
     "name": "stdout",
     "output_type": "stream",
     "text": [
      "---------------------------------\n",
      "| batch_size        | 32        |\n",
      "| bc/               |           |\n",
      "|    batch          | 0         |\n",
      "|    ent_loss       | -0.000693 |\n",
      "|    entropy        | 0.693     |\n",
      "|    epoch          | 0         |\n",
      "|    l2_loss        | 0         |\n",
      "|    l2_norm        | 36.5      |\n",
      "|    loss           | 0.693     |\n",
      "|    neglogp        | 0.694     |\n",
      "|    prob_true_act  | 0.5       |\n",
      "|    samples_so_far | 32        |\n",
      "| rollout/          |           |\n",
      "|    return_max     | 37        |\n",
      "|    return_mean    | 24.2      |\n",
      "|    return_min     | 12        |\n",
      "|    return_std     | 8.08      |\n",
      "---------------------------------\n"
     ]
    },
    {
     "name": "stderr",
     "output_type": "stream",
     "text": [
      "\n",
      "59batch [00:00, 584.15batch/s]\n",
      "138batch [00:00, 703.42batch/s][A\n",
      "Epoch 2 of 4                   \u001b[A\n",
      "184batch [00:00, 705.96batch/s]\n",
      "0batch [00:00, ?batch/s]"
     ]
    },
    {
     "name": "stdout",
     "output_type": "stream",
     "text": [
      "---------------------------------\n",
      "| batch_size        | 32        |\n",
      "| bc/               |           |\n",
      "|    batch          | 0         |\n",
      "|    ent_loss       | -0.000389 |\n",
      "|    entropy        | 0.389     |\n",
      "|    epoch          | 0         |\n",
      "|    l2_loss        | 0         |\n",
      "|    l2_norm        | 51.7      |\n",
      "|    loss           | 0.386     |\n",
      "|    neglogp        | 0.387     |\n",
      "|    prob_true_act  | 0.734     |\n",
      "|    samples_so_far | 32        |\n",
      "| rollout/          |           |\n",
      "|    return_max     | 135       |\n",
      "|    return_mean    | 86        |\n",
      "|    return_min     | 58        |\n",
      "|    return_std     | 26        |\n",
      "---------------------------------\n"
     ]
    },
    {
     "name": "stderr",
     "output_type": "stream",
     "text": [
      "78batch [00:00, 441.16batch/s]\n",
      "148batch [00:00, 558.51batch/s][A\n",
      "225batch [00:00, 639.84batch/s]\u001b[A\n",
      "369batch [00:00, 681.32batch/s]\u001b[A\n",
      "372batch [00:00, 611.05batch/s]\u001b[A\n",
      "0batch [00:00, ?batch/s]"
     ]
    },
    {
     "name": "stdout",
     "output_type": "stream",
     "text": [
      "--------------------------------\n",
      "| batch_size        | 32       |\n",
      "| bc/               |          |\n",
      "|    batch          | 0        |\n",
      "|    ent_loss       | -0.00027 |\n",
      "|    entropy        | 0.27     |\n",
      "|    epoch          | 0        |\n",
      "|    l2_loss        | 0        |\n",
      "|    l2_norm        | 62.1     |\n",
      "|    loss           | 0.219    |\n",
      "|    neglogp        | 0.22     |\n",
      "|    prob_true_act  | 0.838    |\n",
      "|    samples_so_far | 32       |\n",
      "| rollout/          |          |\n",
      "|    return_max     | 174      |\n",
      "|    return_mean    | 137      |\n",
      "|    return_min     | 102      |\n",
      "|    return_std     | 25.5     |\n",
      "--------------------------------\n"
     ]
    },
    {
     "name": "stderr",
     "output_type": "stream",
     "text": [
      "80batch [00:00, 402.23batch/s]\n",
      "239batch [00:00, 650.93batch/s][A\n",
      "398batch [00:00, 731.71batch/s]\u001b[A\n",
      "477batch [00:00, 749.87batch/s]\u001b[A"
     ]
    },
    {
     "name": "stdout",
     "output_type": "stream",
     "text": [
      "---------------------------------\n",
      "| batch_size        | 32        |\n",
      "| bc/               |           |\n",
      "|    batch          | 500       |\n",
      "|    ent_loss       | -0.000263 |\n",
      "|    entropy        | 0.263     |\n",
      "|    epoch          | 3         |\n",
      "|    l2_loss        | 0         |\n",
      "|    l2_norm        | 132       |\n",
      "|    loss           | 0.368     |\n",
      "|    neglogp        | 0.369     |\n",
      "|    prob_true_act  | 0.828     |\n",
      "|    samples_so_far | 16032     |\n",
      "| rollout/          |           |\n",
      "|    return_max     | 500       |\n",
      "|    return_mean    | 500       |\n",
      "|    return_min     | 500       |\n",
      "|    return_std     | 0         |\n",
      "---------------------------------\n"
     ]
    },
    {
     "name": "stderr",
     "output_type": "stream",
     "text": [
      "554batch [00:01, 292.55batch/s]\n",
      "560batch [00:01, 413.56batch/s]\u001b[A\n",
      "0batch [00:00, ?batch/s]"
     ]
    },
    {
     "name": "stdout",
     "output_type": "stream",
     "text": [
      "---------------------------------\n",
      "| batch_size        | 32        |\n",
      "| bc/               |           |\n",
      "|    batch          | 0         |\n",
      "|    ent_loss       | -0.000255 |\n",
      "|    entropy        | 0.255     |\n",
      "|    epoch          | 0         |\n",
      "|    l2_loss        | 0         |\n",
      "|    l2_norm        | 148       |\n",
      "|    loss           | 0.212     |\n",
      "|    neglogp        | 0.212     |\n",
      "|    prob_true_act  | 0.851     |\n",
      "|    samples_so_far | 32        |\n",
      "| rollout/          |           |\n",
      "|    return_max     | 500       |\n",
      "|    return_mean    | 500       |\n",
      "|    return_min     | 500       |\n",
      "|    return_std     | 0         |\n",
      "---------------------------------\n"
     ]
    },
    {
     "name": "stderr",
     "output_type": "stream",
     "text": [
      "157batch [00:00, 319.38batch/s]\n",
      "316batch [00:00, 534.39batch/s]\u001b[A\n",
      "475batch [00:01, 658.49batch/s]\u001b[A"
     ]
    },
    {
     "name": "stdout",
     "output_type": "stream",
     "text": [
      "---------------------------------\n",
      "| batch_size        | 32        |\n",
      "| bc/               |           |\n",
      "|    batch          | 500       |\n",
      "|    ent_loss       | -0.000114 |\n",
      "|    entropy        | 0.114     |\n",
      "|    epoch          | 2         |\n",
      "|    l2_loss        | 0         |\n",
      "|    l2_norm        | 254       |\n",
      "|    loss           | 0.0734    |\n",
      "|    neglogp        | 0.0735    |\n",
      "|    prob_true_act  | 0.942     |\n",
      "|    samples_so_far | 16032     |\n",
      "| rollout/          |           |\n",
      "|    return_max     | 500       |\n",
      "|    return_mean    | 500       |\n",
      "|    return_min     | 500       |\n",
      "|    return_std     | 0         |\n",
      "---------------------------------\n"
     ]
    },
    {
     "name": "stderr",
     "output_type": "stream",
     "text": [
      "552batch [00:01, 282.23batch/s]\n",
      "711batch [00:01, 430.24batch/s]\u001b[A\n",
      "748batch [00:01, 381.58batch/s]\u001b[A\n",
      "0batch [00:00, ?batch/s]"
     ]
    },
    {
     "name": "stdout",
     "output_type": "stream",
     "text": [
      "---------------------------------\n",
      "| batch_size        | 32        |\n",
      "| bc/               |           |\n",
      "|    batch          | 0         |\n",
      "|    ent_loss       | -7.01e-05 |\n",
      "|    entropy        | 0.0701    |\n",
      "|    epoch          | 0         |\n",
      "|    l2_loss        | 0         |\n",
      "|    l2_norm        | 286       |\n",
      "|    loss           | 0.0632    |\n",
      "|    neglogp        | 0.0633    |\n",
      "|    prob_true_act  | 0.956     |\n",
      "|    samples_so_far | 32        |\n",
      "| rollout/          |           |\n",
      "|    return_max     | 500       |\n",
      "|    return_mean    | 500       |\n",
      "|    return_min     | 500       |\n",
      "|    return_std     | 0         |\n",
      "---------------------------------\n"
     ]
    },
    {
     "name": "stderr",
     "output_type": "stream",
     "text": [
      "156batch [00:00, 318.82batch/s]\n",
      "396batch [00:01, 608.55batch/s]\u001b[A\n",
      "475batch [00:01, 659.54batch/s]\u001b[A"
     ]
    },
    {
     "name": "stdout",
     "output_type": "stream",
     "text": [
      "--------------------------------\n",
      "| batch_size        | 32       |\n",
      "| bc/               |          |\n",
      "|    batch          | 500      |\n",
      "|    ent_loss       | -8.6e-05 |\n",
      "|    entropy        | 0.086    |\n",
      "|    epoch          | 2        |\n",
      "|    l2_loss        | 0        |\n",
      "|    l2_norm        | 338      |\n",
      "|    loss           | 0.0423   |\n",
      "|    neglogp        | 0.0424   |\n",
      "|    prob_true_act  | 0.964    |\n",
      "|    samples_so_far | 16032    |\n",
      "| rollout/          |          |\n",
      "|    return_max     | 500      |\n",
      "|    return_mean    | 500      |\n",
      "|    return_min     | 500      |\n",
      "|    return_std     | 0        |\n",
      "--------------------------------\n"
     ]
    },
    {
     "name": "stderr",
     "output_type": "stream",
     "text": [
      "632batch [00:01, 355.13batch/s]\n",
      "858batch [00:02, 543.77batch/s]\u001b[A\n",
      "936batch [00:02, 422.63batch/s]\u001b[A\n",
      "0batch [00:00, ?batch/s]"
     ]
    },
    {
     "name": "stdout",
     "output_type": "stream",
     "text": [
      "---------------------------------\n",
      "| batch_size        | 32        |\n",
      "| bc/               |           |\n",
      "|    batch          | 0         |\n",
      "|    ent_loss       | -5.21e-05 |\n",
      "|    entropy        | 0.0521    |\n",
      "|    epoch          | 0         |\n",
      "|    l2_loss        | 0         |\n",
      "|    l2_norm        | 376       |\n",
      "|    loss           | 0.0516    |\n",
      "|    neglogp        | 0.0517    |\n",
      "|    prob_true_act  | 0.967     |\n",
      "|    samples_so_far | 32        |\n",
      "| rollout/          |           |\n",
      "|    return_max     | 500       |\n",
      "|    return_mean    | 500       |\n",
      "|    return_min     | 500       |\n",
      "|    return_std     | 0         |\n",
      "---------------------------------\n"
     ]
    },
    {
     "name": "stderr",
     "output_type": "stream",
     "text": [
      "225batch [00:00, 417.85batch/s]\n",
      "451batch [00:01, 622.27batch/s]\u001b[A"
     ]
    },
    {
     "name": "stdout",
     "output_type": "stream",
     "text": [
      "---------------------------------\n",
      "| batch_size        | 32        |\n",
      "| bc/               |           |\n",
      "|    batch          | 500       |\n",
      "|    ent_loss       | -1.61e-05 |\n",
      "|    entropy        | 0.0161    |\n",
      "|    epoch          | 1         |\n",
      "|    l2_loss        | 0         |\n",
      "|    l2_norm        | 415       |\n",
      "|    loss           | 0.00397   |\n",
      "|    neglogp        | 0.00399   |\n",
      "|    prob_true_act  | 0.996     |\n",
      "|    samples_so_far | 16032     |\n",
      "| rollout/          |           |\n",
      "|    return_max     | 500       |\n",
      "|    return_mean    | 500       |\n",
      "|    return_min     | 500       |\n",
      "|    return_std     | 0         |\n",
      "---------------------------------\n"
     ]
    },
    {
     "name": "stderr",
     "output_type": "stream",
     "text": [
      "523batch [00:01, 269.01batch/s]\n",
      "832batch [00:02, 542.91batch/s]\u001b[A\n",
      "979batch [00:02, 621.91batch/s]\u001b[A"
     ]
    },
    {
     "name": "stdout",
     "output_type": "stream",
     "text": [
      "---------------------------------\n",
      "| batch_size        | 32        |\n",
      "| bc/               |           |\n",
      "|    batch          | 1000      |\n",
      "|    ent_loss       | -2.27e-05 |\n",
      "|    entropy        | 0.0227    |\n",
      "|    epoch          | 3         |\n",
      "|    l2_loss        | 0         |\n",
      "|    l2_norm        | 446       |\n",
      "|    loss           | 0.0069    |\n",
      "|    neglogp        | 0.00692   |\n",
      "|    prob_true_act  | 0.993     |\n",
      "|    samples_so_far | 32032     |\n",
      "| rollout/          |           |\n",
      "|    return_max     | 500       |\n",
      "|    return_mean    | 500       |\n",
      "|    return_min     | 500       |\n",
      "|    return_std     | 0         |\n",
      "---------------------------------\n"
     ]
    },
    {
     "name": "stderr",
     "output_type": "stream",
     "text": [
      "1051batch [00:02, 283.06batch/s]\n",
      "1124batch [00:02, 375.71batch/s]\u001b[A\n",
      "0batch [00:00, ?batch/s]"
     ]
    },
    {
     "name": "stdout",
     "output_type": "stream",
     "text": [
      "---------------------------------\n",
      "| batch_size        | 32        |\n",
      "| bc/               |           |\n",
      "|    batch          | 0         |\n",
      "|    ent_loss       | -6.63e-05 |\n",
      "|    entropy        | 0.0663    |\n",
      "|    epoch          | 0         |\n",
      "|    l2_loss        | 0         |\n",
      "|    l2_norm        | 453       |\n",
      "|    loss           | 0.0239    |\n",
      "|    neglogp        | 0.024     |\n",
      "|    prob_true_act  | 0.978     |\n",
      "|    samples_so_far | 32        |\n",
      "| rollout/          |           |\n",
      "|    return_max     | 500       |\n",
      "|    return_mean    | 500       |\n",
      "|    return_min     | 500       |\n",
      "|    return_std     | 0         |\n",
      "---------------------------------\n"
     ]
    },
    {
     "name": "stderr",
     "output_type": "stream",
     "text": [
      "313batch [00:00, 531.07batch/s]\n",
      "472batch [00:01, 656.12batch/s]\u001b[A"
     ]
    },
    {
     "name": "stdout",
     "output_type": "stream",
     "text": [
      "---------------------------------\n",
      "| batch_size        | 32        |\n",
      "| bc/               |           |\n",
      "|    batch          | 500       |\n",
      "|    ent_loss       | -3.67e-05 |\n",
      "|    entropy        | 0.0367    |\n",
      "|    epoch          | 1         |\n",
      "|    l2_loss        | 0         |\n",
      "|    l2_norm        | 483       |\n",
      "|    loss           | 0.0162    |\n",
      "|    neglogp        | 0.0162    |\n",
      "|    prob_true_act  | 0.986     |\n",
      "|    samples_so_far | 16032     |\n",
      "| rollout/          |           |\n",
      "|    return_max     | 500       |\n",
      "|    return_mean    | 500       |\n",
      "|    return_min     | 500       |\n",
      "|    return_std     | 0         |\n",
      "---------------------------------\n"
     ]
    },
    {
     "name": "stderr",
     "output_type": "stream",
     "text": [
      "624batch [00:01, 348.96batch/s]\n",
      "943batch [00:02, 616.73batch/s]\u001b[A\n",
      "Epoch 2 of 4                   \u001b[A"
     ]
    },
    {
     "name": "stdout",
     "output_type": "stream",
     "text": [
      "---------------------------------\n",
      "| batch_size        | 32        |\n",
      "| bc/               |           |\n",
      "|    batch          | 1000      |\n",
      "|    ent_loss       | -1.37e-05 |\n",
      "|    entropy        | 0.0137    |\n",
      "|    epoch          | 3         |\n",
      "|    l2_loss        | 0         |\n",
      "|    l2_norm        | 507       |\n",
      "|    loss           | 0.00474   |\n",
      "|    neglogp        | 0.00475   |\n",
      "|    prob_true_act  | 0.996     |\n",
      "|    samples_so_far | 32032     |\n",
      "| rollout/          |           |\n",
      "|    return_max     | 500       |\n",
      "|    return_mean    | 500       |\n",
      "|    return_min     | 500       |\n",
      "|    return_std     | 0         |\n",
      "---------------------------------\n"
     ]
    },
    {
     "name": "stderr",
     "output_type": "stream",
     "text": [
      "1258batch [00:03, 496.84batch/s]\n",
      "1312batch [00:03, 410.50batch/s]\u001b[A\n"
     ]
    }
   ],
   "source": [
    "import tempfile\n",
    "import gym\n",
    "import numpy as np\n",
    "from stable_baselines3.common.vec_env import DummyVecEnv\n",
    "\n",
    "from imitation.algorithms import bc\n",
    "from imitation.algorithms.dagger import SimpleDAggerTrainer\n",
    "\n",
    "venv = DummyVecEnv([lambda: gym.make(\"CartPole-v1\")])\n",
    "\n",
    "\n",
    "bc_trainer = bc.BC(\n",
    "    observation_space=env.observation_space,\n",
    "    action_space=env.action_space,\n",
    "    rng=np.random.default_rng(),\n",
    ")\n",
    "\n",
    "with tempfile.TemporaryDirectory(prefix=\"dagger_example_\") as tmpdir:\n",
    "    print(tmpdir)\n",
    "    dagger_trainer = SimpleDAggerTrainer(\n",
    "        venv=venv,\n",
    "        scratch_dir=tmpdir,\n",
    "        expert_policy=expert,\n",
    "        bc_trainer=bc_trainer,\n",
    "        rng=np.random.default_rng(),\n",
    "    )\n",
    "\n",
    "    dagger_trainer.train(10000)"
   ]
  },
  {
   "cell_type": "code",
   "execution_count": 11,
   "id": "660f7383-a1cf-4dc5-9019-c98dae0b81c4",
   "metadata": {},
   "outputs": [
    {
     "name": "stdout",
     "output_type": "stream",
     "text": [
      "500.0\n"
     ]
    }
   ],
   "source": [
    "from stable_baselines3.common.evaluation import evaluate_policy\n",
    "\n",
    "reward, _ = evaluate_policy(dagger_trainer.policy, env, 10)\n",
    "print(reward)"
   ]
  }
 ],
 "metadata": {
  "kernelspec": {
   "display_name": "rl-venv",
   "language": "python",
   "name": "rl-venv"
  },
  "language_info": {
   "codemirror_mode": {
    "name": "ipython",
    "version": 3
   },
   "file_extension": ".py",
   "mimetype": "text/x-python",
   "name": "python",
   "nbconvert_exporter": "python",
   "pygments_lexer": "ipython3",
   "version": "3.10.6"
  }
 },
 "nbformat": 4,
 "nbformat_minor": 5
}
