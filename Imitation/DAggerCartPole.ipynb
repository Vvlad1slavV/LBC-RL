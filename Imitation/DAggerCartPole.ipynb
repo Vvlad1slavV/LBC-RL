{
 "cells": [
  {
   "cell_type": "code",
   "execution_count": null,
   "id": "b412afa8-64af-4226-97cc-b157613393f7",
   "metadata": {},
   "outputs": [],
   "source": [
    "# import sys\n",
    "# import gymnasium as gym\n",
    "# sys.modules[\"gym\"] = gym\n",
    "import gym\n",
    "gym.__version__"
   ]
  },
  {
   "cell_type": "code",
   "execution_count": null,
   "id": "16240bb9-6283-4faa-baee-5fc4b347ac09",
   "metadata": {},
   "outputs": [],
   "source": [
    "import gnwrapper"
   ]
  },
  {
   "cell_type": "code",
   "execution_count": null,
   "id": "c5796eea-1d13-494b-85be-835f64d4e310",
   "metadata": {},
   "outputs": [],
   "source": [
    "import os\n",
    "import numpy as np\n",
    "import torch\n",
    "print(torch.cuda.is_available())"
   ]
  },
  {
   "cell_type": "code",
   "execution_count": null,
   "id": "1578350d-b5a0-48a4-b702-828966e0427c",
   "metadata": {},
   "outputs": [],
   "source": [
    "from stable_baselines3 import PPO\n",
    "from stable_baselines3.ppo import MlpPolicy"
   ]
  },
  {
   "cell_type": "code",
   "execution_count": null,
   "id": "29b3f642-b78d-4f04-bb79-94c3206c935f",
   "metadata": {},
   "outputs": [],
   "source": [
    "env = gym.make(\"CartPole-v1\")"
   ]
  },
  {
   "cell_type": "code",
   "execution_count": null,
   "id": "480a9101-5cc3-406b-a3cc-33451052a215",
   "metadata": {},
   "outputs": [],
   "source": [
    "expert = PPO(\n",
    "    policy=MlpPolicy,\n",
    "    env=env,\n",
    "    seed=0,\n",
    "    batch_size=64,\n",
    "    ent_coef=0.0,\n",
    "    learning_rate=0.0003,\n",
    "    n_epochs=10,\n",
    "    n_steps=64,\n",
    ")\n",
    "expert.learn(1_000_000, progress_bar=True)\n",
    "expert.save(\"ppo_CartPole_expert\")"
   ]
  },
  {
   "cell_type": "code",
   "execution_count": null,
   "id": "7f9520da-a07a-4c7e-8eff-01f1acb5cebb",
   "metadata": {},
   "outputs": [],
   "source": [
    "expert = PPO.load(\"ppo_CartPole_expert.zip\", print_system_info=True)"
   ]
  },
  {
   "cell_type": "code",
   "execution_count": null,
   "id": "c2c74804-53d8-43e0-89cb-7b0c0fe62994",
   "metadata": {},
   "outputs": [],
   "source": [
    "from stable_baselines3.common.evaluation import evaluate_policy\n",
    "\n",
    "reward, _ = evaluate_policy(expert, env, 10)\n",
    "print(reward)"
   ]
  },
  {
   "cell_type": "code",
   "execution_count": null,
   "id": "a1c8a2a1-ee13-4bcd-969f-385d3bd7408d",
   "metadata": {
    "jupyter": {
     "outputs_hidden": true
    },
    "tags": []
   },
   "outputs": [],
   "source": [
    "import tempfile\n",
    "import gym\n",
    "import numpy as np\n",
    "from stable_baselines3.common.vec_env import DummyVecEnv\n",
    "\n",
    "from imitation.algorithms import bc\n",
    "from imitation.algorithms.dagger import SimpleDAggerTrainer\n",
    "\n",
    "venv = DummyVecEnv([lambda: gym.make(\"CartPole-v1\")])\n",
    "\n",
    "\n",
    "bc_trainer = bc.BC(\n",
    "    observation_space=env.observation_space,\n",
    "    action_space=env.action_space,\n",
    "    rng=np.random.default_rng(),\n",
    ")\n",
    "\n",
    "with tempfile.TemporaryDirectory(prefix=\"dagger_example_\") as tmpdir:\n",
    "    print(tmpdir)\n",
    "    dagger_trainer = SimpleDAggerTrainer(\n",
    "        venv=venv,\n",
    "        scratch_dir=tmpdir,\n",
    "        expert_policy=expert,\n",
    "        bc_trainer=bc_trainer,\n",
    "        rng=np.random.default_rng(),\n",
    "    )\n",
    "\n",
    "    dagger_trainer.train(10000)"
   ]
  },
  {
   "cell_type": "code",
   "execution_count": null,
   "id": "660f7383-a1cf-4dc5-9019-c98dae0b81c4",
   "metadata": {},
   "outputs": [],
   "source": [
    "from stable_baselines3.common.evaluation import evaluate_policy\n",
    "\n",
    "reward, _ = evaluate_policy(dagger_trainer.policy, env, 10)\n",
    "print(reward)"
   ]
  }
 ],
 "metadata": {
  "kernelspec": {
   "display_name": "rl-venv",
   "language": "python",
   "name": "rl-venv"
  },
  "language_info": {
   "codemirror_mode": {
    "name": "ipython",
    "version": 3
   },
   "file_extension": ".py",
   "mimetype": "text/x-python",
   "name": "python",
   "nbconvert_exporter": "python",
   "pygments_lexer": "ipython3",
   "version": "3.10.6"
  }
 },
 "nbformat": 4,
 "nbformat_minor": 5
}
