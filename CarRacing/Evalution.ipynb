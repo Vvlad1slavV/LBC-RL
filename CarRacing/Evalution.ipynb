{
 "cells": [
  {
   "cell_type": "code",
   "execution_count": null,
   "id": "0c3e3136-25f7-4570-9c88-319fc7b1a120",
   "metadata": {},
   "outputs": [],
   "source": [
    "import glob\n",
    "import numpy as np\n",
    "import gym\n",
    "import torch as th\n",
    "\n",
    "from stable_baselines3.common.env_util import make_vec_env\n",
    "from stable_baselines3.common.vec_env import VecFrameStack\n",
    "from stable_baselines3.common.evaluation import evaluate_policy\n",
    "from stable_baselines3 import PPO\n",
    "from imitation.algorithms import bc\n",
    "\n",
    "import gnwrapper\n",
    "\n",
    "env_id = \"CarRacing-v0\""
   ]
  },
  {
   "cell_type": "code",
   "execution_count": null,
   "id": "7af4cdcc-4478-4fe8-985f-a5d438c2d668",
   "metadata": {},
   "outputs": [],
   "source": [
    "from CarRacing_utils import CarRacingGroundTruthXYObsWrapper\n",
    "def wrapper(env):\n",
    "    env = CarRacingGroundTruthXYObsWrapper(env) \n",
    "    env = gnwrapper.Animation(env)\n",
    "    return env\n",
    "\n",
    "def wrapper_image(env):\n",
    "    env = gym.wrappers.gray_scale_observation.GrayScaleObservation(env, keep_dim=True)\n",
    "    env = gnwrapper.Animation(env)\n",
    "    return env"
   ]
  },
  {
   "cell_type": "code",
   "execution_count": null,
   "id": "9bbd5ac5-14ec-4e6c-a3ed-702d9b643d51",
   "metadata": {},
   "outputs": [],
   "source": [
    "expert_xy_policy = []\n",
    "for file in glob.glob('./Compare/expert_xy_seed/expert*.zip'):\n",
    "    expert_xy_policy.append(PPO.load(file, print_system_info=False))\n",
    "\n",
    "noob_policy = []\n",
    "for file in glob.glob('./Compare/noob_seed/noob*.zip'):\n",
    "    noob_policy.append(PPO.load(file, print_system_info=False))\n",
    "    \n",
    "best_expert = PPO.load(\"./policy/ppo_CarRacing_XY_expert33046.zip\", print_system_info=False)\n",
    "best_noob = PPO.load(\"./policy/ppo_CarRacing_noob33046.zip\", print_system_info=False)\n",
    "bc_policy = th.load('policy/bc1.zip')"
   ]
  },
  {
   "cell_type": "code",
   "execution_count": null,
   "id": "446bba11-7888-4f47-ac68-c8a2ce1e8da8",
   "metadata": {},
   "outputs": [],
   "source": [
    "env_gt = make_vec_env(env_id, wrapper_class=wrapper, env_kwargs = { 'verbose': False }, n_envs=10)\n",
    "env = make_vec_env(env_id, wrapper_class=wrapper_image, env_kwargs = { 'verbose': False }, n_envs=10)\n",
    "env = VecFrameStack(env, 2)"
   ]
  },
  {
   "cell_type": "code",
   "execution_count": null,
   "id": "29353fb1-0d8d-417c-8756-0ebb30daad0e",
   "metadata": {
    "tags": []
   },
   "outputs": [],
   "source": [
    "expert_rewards = []\n",
    "for expert in expert_xy_policy:\n",
    "    expert_reward, expert_reward_std = evaluate_policy(expert, env_gt, 10)\n",
    "    expert_rewards.append([expert_reward, expert_reward_std])\n",
    "\n",
    "noob_rewards = []\n",
    "for noob in noob_policy:\n",
    "    noob_reward, noob_reward_std = evaluate_policy(noob, env, 10)\n",
    "    noob_rewards.append([noob_reward, noob_reward_std])\n",
    "    \n",
    "bc_rewards = []\n",
    "for i in range(10):\n",
    "    bc_reward, bc_reward_std = evaluate_policy(bc_policy, env, 10)\n",
    "    bc_rewards.append([bc_reward, bc_reward_std])    "
   ]
  },
  {
   "cell_type": "code",
   "execution_count": null,
   "id": "a1bb3ead-00af-4525-a6f3-7ce4e872602e",
   "metadata": {
    "tags": []
   },
   "outputs": [],
   "source": [
    "best_expert_rew, best_expert_std = evaluate_policy(best_expert, env_gt, 10)\n",
    "best_noob_rew, best_noob_std = evaluate_policy(best_noob, env, 10)"
   ]
  },
  {
   "cell_type": "code",
   "execution_count": null,
   "id": "e89a6a2f-cddc-42c6-b976-4bc8003142eb",
   "metadata": {},
   "outputs": [],
   "source": [
    "expert_rewards_sort = np.sort(expert_rewards, axis=0)[2:-2]\n",
    "expert_rew = np.mean(expert_rewards_sort, axis=0)[0]\n",
    "expert_std = np.linalg.norm(expert_rewards_sort[:, 1])/np.sqrt(len(expert_rewards_sort))\n",
    "noob_rewards_sort = np.sort(noob_rewards, axis=0)[2:-2]\n",
    "noob_rew = np.mean(noob_rewards_sort, axis=0)[0]\n",
    "noob_std = np.linalg.norm(noob_rewards_sort[:, 1])/np.sqrt(len(noob_rewards_sort))\n",
    "bc_rewards_sort = np.sort(bc_rewards, axis=0)[2:-2]\n",
    "bc_rew = np.mean(bc_rewards_sort, axis=0)[0]\n",
    "bc_std = np.linalg.norm(bc_rewards_sort[:, 1])/np.sqrt(len(bc_rewards_sort))"
   ]
  },
  {
   "cell_type": "code",
   "execution_count": null,
   "id": "2716f703-8b64-42f9-90d9-93b7c1c1c9af",
   "metadata": {},
   "outputs": [],
   "source": [
    "print(f'{\"expert reward\":<20} {expert_rew:.2f} +/- {expert_std:.2f}')\n",
    "print(f'{\"best expert reward\":<20} {best_expert_rew:.2f} +/- {best_expert_std:.2f}')\n",
    "print(f'{\"noob reward\":<20} {noob_rew:.2f} +/- {noob_std:.2f}')\n",
    "print(f'{\"best noob reward\":<20} {best_noob_rew:.2f} +/- {best_noob_std:.2f}')\n",
    "print(f'{\"BC reward\":<20} {bc_rew:.2f} +/- {bc_std:.2f}')"
   ]
  }
 ],
 "metadata": {
  "kernelspec": {
   "display_name": "rl-venv",
   "language": "python",
   "name": "rl-venv"
  },
  "language_info": {
   "codemirror_mode": {
    "name": "ipython",
    "version": 3
   },
   "file_extension": ".py",
   "mimetype": "text/x-python",
   "name": "python",
   "nbconvert_exporter": "python",
   "pygments_lexer": "ipython3",
   "version": "3.10.6"
  }
 },
 "nbformat": 4,
 "nbformat_minor": 5
}
