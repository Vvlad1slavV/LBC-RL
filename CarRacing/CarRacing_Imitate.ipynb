{
 "cells": [
  {
   "cell_type": "code",
   "execution_count": null,
   "id": "3dbc3954-1c37-4448-b4a5-6a21ced91486",
   "metadata": {},
   "outputs": [],
   "source": [
    "# import sys\n",
    "# import gymnasium as gym\n",
    "# sys.modules[\"gym\"] = gym\n",
    "import gym\n",
    "gym.__version__"
   ]
  },
  {
   "cell_type": "code",
   "execution_count": null,
   "id": "0caa9c31-b71e-4dc0-8050-d44d2fb05f40",
   "metadata": {},
   "outputs": [],
   "source": [
    "from stable_baselines3 import PPO\n",
    "from stable_baselines3.common.monitor import Monitor\n",
    "from stable_baselines3.common.vec_env import DummyVecEnv, SubprocVecEnv\n",
    "from stable_baselines3.common.env_util import make_vec_env\n",
    "from stable_baselines3.common.callbacks import EvalCallback"
   ]
  },
  {
   "cell_type": "code",
   "execution_count": null,
   "id": "f5f2140a-e237-454a-a6ac-f25039e30a13",
   "metadata": {},
   "outputs": [],
   "source": [
    "import numpy as np\n",
    "import torch as th\n",
    "from torch import nn\n",
    "import matplotlib.pyplot as plt"
   ]
  },
  {
   "cell_type": "code",
   "execution_count": null,
   "id": "5ca2af40-9352-4e0e-9b65-1182675499eb",
   "metadata": {},
   "outputs": [],
   "source": [
    "import gnwrapper"
   ]
  },
  {
   "cell_type": "code",
   "execution_count": null,
   "id": "b441e510-2dd4-4a68-b288-50ed2ed5f35c",
   "metadata": {},
   "outputs": [],
   "source": [
    "env_id = \"CarRacing-v0\"\n",
    "NUM_CPU = 4  # Number0of processes to use"
   ]
  },
  {
   "cell_type": "code",
   "execution_count": null,
   "id": "541782fa-f9ad-470b-9214-c24b07050f53",
   "metadata": {},
   "outputs": [],
   "source": [
    "from utils import CarRacingGroundTruthObsWrapper\n",
    "def wrapper(env):\n",
    "    env = CarRacingGroundTruthObsWrapper(env) \n",
    "    env = gnwrapper.Animation(env)\n",
    "    return env"
   ]
  },
  {
   "cell_type": "code",
   "execution_count": null,
   "id": "70678eda-16c0-4784-9eb4-4a8dc0f53a9d",
   "metadata": {},
   "outputs": [],
   "source": [
    "expert = PPO.load(\"./policy/ppo_CarRacing_expert-1kk.zip\", print_system_info=True)"
   ]
  },
  {
   "cell_type": "code",
   "execution_count": null,
   "id": "18e5bcb6-877e-4d25-8d58-0ec85bb758cf",
   "metadata": {},
   "outputs": [],
   "source": [
    "from imitation.data import rollout\n",
    "from imitation.data.wrappers import RolloutInfoWrapper\n",
    "import dataclasses\n",
    "from stable_baselines3.common.vec_env import VecTransposeImage\n",
    "\n",
    "class TransformaObservacions(gym.ObservationWrapper):\n",
    "    def __init__(self, env):\n",
    "        super().__init__(env)\n",
    "        \n",
    "        image_width = self.observation_space.shape[0]\n",
    "        image_height = self.observation_space.shape[1]\n",
    "        n_chanel = self.observation_space.shape[2]\n",
    "        \n",
    "        self.new_obs_shape = (n_chanel, image_width, image_height)\n",
    "        \n",
    "        self.observation_space = gym.spaces.Box(shape=self.new_obs_shape, low=0, high=255)\n",
    "\n",
    "    def observation(self, observ):\n",
    "        return np.reshape(observ, self.new_obs_shape, order='F')\n",
    "\n",
    "def make_env(env_id):\n",
    "    def _init():\n",
    "        env = gym.make(env_id)\n",
    "        env = gym.wrappers.gray_scale_observation.GrayScaleObservation(env, keep_dim=True)\n",
    "        env = TransformaObservacions(env)\n",
    "        env = RolloutInfoWrapper(env) # Wrapper to save origin obs\n",
    "        env = wrapper(env) # Wrapper Obs\n",
    "        return env\n",
    "    \n",
    "    return _init\n",
    "\n",
    "# env = gym.wrappers.gray_scale_observation.GrayScaleObservation(env, keep_dim=True)\n",
    "# env = RolloutInfoWrapper(env) # Wrapper to save origin obs\n",
    "# env = wrapper(env) # Wrapper Obs\n",
    "# env = DummyVecEnv([lambda: env]) # Vectorized env\n",
    "\n",
    "env = DummyVecEnv([make_env(env_id)]*NUM_CPU)"
   ]
  },
  {
   "cell_type": "code",
   "execution_count": null,
   "id": "b2894809-2e9a-403f-9f9e-d73e9efc6d71",
   "metadata": {
    "tags": []
   },
   "outputs": [],
   "source": [
    "NUM_EPISODES = 100\n",
    "rng = np.random.default_rng()\n",
    "rollouts = rollout.rollout(\n",
    "    expert,\n",
    "    env,\n",
    "    rollout.make_sample_until(min_timesteps=None, min_episodes=NUM_EPISODES),\n",
    "    rng = rng,\n",
    "    unwrap = True,\n",
    ")\n",
    "\n",
    "transitions = rollout.flatten_trajectories(rollouts)"
   ]
  },
  {
   "cell_type": "code",
   "execution_count": null,
   "id": "0672d727-7370-4b87-9d76-6c0f0f9a55d9",
   "metadata": {},
   "outputs": [],
   "source": [
    "print(\n",
    "    f\"\"\"The `rollout` function generated a list of {len(rollouts)} {type(rollouts[0])}.\n",
    "After flattening, this list is turned into a {type(transitions)} object containing {len(transitions)} transitions.\n",
    "The transitions object contains arrays for: {', '.join(transitions.__dict__.keys())}.\"\n",
    "\"\"\"\n",
    ")"
   ]
  },
  {
   "cell_type": "code",
   "execution_count": null,
   "id": "2c164543-d04e-4a0c-bb7f-aba625ba628c",
   "metadata": {},
   "outputs": [],
   "source": [
    "from imitation.algorithms import bc\n",
    "from stable_baselines3.common.policies import ActorCriticCnnPolicy\n",
    "\n",
    "env = gym.make(env_id)\n",
    "env = gym.wrappers.gray_scale_observation.GrayScaleObservation(env, keep_dim=True)\n",
    "env = gnwrapper.Animation(env)\n",
    "env = DummyVecEnv([lambda: env])\n",
    "env = VecTransposeImage(env)\n",
    "\n",
    "bc_trainer = bc.BC(\n",
    "    observation_space=env.observation_space,\n",
    "    action_space=env.action_space,\n",
    "    demonstrations=transitions,\n",
    "    rng=rng,\n",
    "    batch_size=256,\n",
    "    policy=ActorCriticCnnPolicy(\n",
    "                         observation_space=env.observation_space,\n",
    "                         action_space=env.action_space,\n",
    "                         lr_schedule=lambda _: th.finfo(th.float32).max,\n",
    "                         # net_arch=dict(pi=[256], vf=[256]),\n",
    "                         net_arch=[256, 256],\n",
    "                         activation_fn = nn.LeakyReLU,\n",
    "                         ortho_init=False,\n",
    "                         )\n",
    ")"
   ]
  },
  {
   "cell_type": "code",
   "execution_count": null,
   "id": "cd45bc20-573c-44b7-b4d7-caefe1e9e5f7",
   "metadata": {
    "tags": []
   },
   "outputs": [],
   "source": [
    "bc_trainer.train(n_epochs=10)"
   ]
  },
  {
   "cell_type": "code",
   "execution_count": null,
   "id": "57e28162-6697-4670-87c6-fa829ee81230",
   "metadata": {},
   "outputs": [],
   "source": [
    "obs = env.reset()\n",
    "while True:\n",
    "    action, _states = bc_trainer.policy.predict(obs.copy())\n",
    "    obs, rewards, dones, info = env.step(action)\n",
    "    env.render()\n",
    "    if dones:\n",
    "        break\n",
    "    \n",
    "env.close()"
   ]
  },
  {
   "cell_type": "code",
   "execution_count": null,
   "id": "3cf24973-e7d2-4ef6-b32d-c9ba7942a11f",
   "metadata": {},
   "outputs": [],
   "source": [
    "from stable_baselines3.common.evaluation import evaluate_policy"
   ]
  },
  {
   "cell_type": "code",
   "execution_count": null,
   "id": "b14ff9d6-70a4-404c-aaf7-3f5141d7ba98",
   "metadata": {},
   "outputs": [],
   "source": [
    "reward, _ = evaluate_policy(bc_trainer.policy, env, 5)\n",
    "print(f\"BC reward: {reward}\")"
   ]
  },
  {
   "cell_type": "code",
   "execution_count": null,
   "id": "159db514-5e1e-4860-8fec-d35dcd5e1d2e",
   "metadata": {},
   "outputs": [],
   "source": []
  }
 ],
 "metadata": {
  "kernelspec": {
   "display_name": "rl-venv",
   "language": "python",
   "name": "rl-venv"
  },
  "language_info": {
   "codemirror_mode": {
    "name": "ipython",
    "version": 3
   },
   "file_extension": ".py",
   "mimetype": "text/x-python",
   "name": "python",
   "nbconvert_exporter": "python",
   "pygments_lexer": "ipython3",
   "version": "3.10.6"
  }
 },
 "nbformat": 4,
 "nbformat_minor": 5
}
