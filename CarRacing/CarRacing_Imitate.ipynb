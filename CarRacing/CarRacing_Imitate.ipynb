{
 "cells": [
  {
   "cell_type": "code",
   "execution_count": null,
   "id": "3dbc3954-1c37-4448-b4a5-6a21ced91486",
   "metadata": {},
   "outputs": [],
   "source": [
    "# import sys\n",
    "# import gymnasium as gym\n",
    "# sys.modules[\"gym\"] = gym\n",
    "import gym\n",
    "gym.__version__"
   ]
  },
  {
   "cell_type": "code",
   "execution_count": null,
   "id": "0caa9c31-b71e-4dc0-8050-d44d2fb05f40",
   "metadata": {},
   "outputs": [],
   "source": [
    "from stable_baselines3 import PPO\n",
    "from stable_baselines3.common.monitor import Monitor\n",
    "from stable_baselines3.common.vec_env import DummyVecEnv, SubprocVecEnv\n",
    "from stable_baselines3.common.env_util import make_vec_env\n",
    "from stable_baselines3.common.callbacks import EvalCallback"
   ]
  },
  {
   "cell_type": "code",
   "execution_count": null,
   "id": "f5f2140a-e237-454a-a6ac-f25039e30a13",
   "metadata": {},
   "outputs": [],
   "source": [
    "import numpy as np\n",
    "import torch as th\n",
    "from torch import nn\n",
    "import matplotlib.pyplot as plt\n",
    "from pprint import pprint"
   ]
  },
  {
   "cell_type": "code",
   "execution_count": null,
   "id": "5ca2af40-9352-4e0e-9b65-1182675499eb",
   "metadata": {},
   "outputs": [],
   "source": [
    "import gnwrapper"
   ]
  },
  {
   "cell_type": "code",
   "execution_count": null,
   "id": "b441e510-2dd4-4a68-b288-50ed2ed5f35c",
   "metadata": {},
   "outputs": [],
   "source": [
    "env_id = \"CarRacing-v0\"\n",
    "NUM_CPU = 16  # Number0of processes to use"
   ]
  },
  {
   "cell_type": "code",
   "execution_count": null,
   "id": "541782fa-f9ad-470b-9214-c24b07050f53",
   "metadata": {},
   "outputs": [],
   "source": [
    "from CarRacing_utils import CarRacingGroundTruthXYObsWrapper\n",
    "def wrapper(env):\n",
    "    env = CarRacingGroundTruthXYObsWrapper(env) \n",
    "    env = gnwrapper.Animation(env)\n",
    "    return env\n",
    "\n",
    "def wrapper_image(env):\n",
    "    env = gym.wrappers.gray_scale_observation.GrayScaleObservation(env, keep_dim=False)\n",
    "    env = gym.wrappers.FrameStack(env, 2)\n",
    "    env = gnwrapper.Animation(env)\n",
    "    return env"
   ]
  },
  {
   "cell_type": "code",
   "execution_count": null,
   "id": "70678eda-16c0-4784-9eb4-4a8dc0f53a9d",
   "metadata": {
    "tags": []
   },
   "outputs": [],
   "source": [
    "# expert = PPO.load(\"./policy/ppo_CarRacing_expert-1kk.zip\", print_system_info=True)\n",
    "expert = PPO.load(\"./policy/ppo_CarRacing_XY_expert33046.zip\", print_system_info=True)"
   ]
  },
  {
   "cell_type": "code",
   "execution_count": null,
   "id": "18e5bcb6-877e-4d25-8d58-0ec85bb758cf",
   "metadata": {},
   "outputs": [],
   "source": [
    "from imitation.data import rollout\n",
    "from imitation.data.wrappers import RolloutInfoWrapper\n",
    "import dataclasses\n",
    "from stable_baselines3.common.vec_env import VecTransposeImage, VecFrameStack\n",
    "\n",
    "class TransformaObservacions(gym.ObservationWrapper):\n",
    "    def __init__(self, env):\n",
    "        super().__init__(env)\n",
    "        \n",
    "        image_width = self.observation_space.shape[0]\n",
    "        image_height = self.observation_space.shape[1]\n",
    "        n_chanel = self.observation_space.shape[2]\n",
    "        \n",
    "        new_obs_shape = (n_chanel, image_width, image_height)\n",
    "        \n",
    "        self.observation_space = gym.spaces.Box(shape=new_obs_shape, low=0, high=255)\n",
    "\n",
    "    def observation(self, observ):\n",
    "        return np.transpose(observ, (2, 0, 1))  \n",
    "    \n",
    "def make_env(env_id):\n",
    "    def _init():\n",
    "        env = gym.make(env_id)\n",
    "        env = gym.wrappers.gray_scale_observation.GrayScaleObservation(env, keep_dim=False)\n",
    "        env = gym.wrappers.FrameStack(env, 2)\n",
    "        env = RolloutInfoWrapper(env) # Wrapper to save origin obs\n",
    "        env = wrapper(env) # Wrapper Obs\n",
    "        return env\n",
    "    \n",
    "    return _init\n",
    "\n",
    "# env = gym.wrappers.gray_scale_observation.GrayScaleObservation(env, keep_dim=True)\n",
    "# env = RolloutInfoWrapper(env) # Wrapper to save origin obs\n",
    "# env = wrapper(env) # Wrapper Obs\n",
    "# env = DummyVecEnv([lambda: env]) # Vectorized env\n",
    "\n",
    "bc_env = DummyVecEnv([make_env(env_id)]*NUM_CPU)\n",
    "bc_env.observation_space"
   ]
  },
  {
   "cell_type": "code",
   "execution_count": null,
   "id": "f62f3fc2-0fa6-4902-aae2-1aa392864d3b",
   "metadata": {
    "jupyter": {
     "outputs_hidden": true
    },
    "tags": []
   },
   "outputs": [],
   "source": [
    "NUM_EPISODES = 1000\n",
    "rng = np.random.default_rng()\n",
    "rollouts = rollout.rollout(\n",
    "    expert,\n",
    "    bc_env,\n",
    "    rollout.make_sample_until(min_timesteps=None, min_episodes=NUM_EPISODES),\n",
    "    rng = rng,\n",
    "    unwrap = True,\n",
    ")"
   ]
  },
  {
   "cell_type": "code",
   "execution_count": null,
   "id": "cc97a249-ce8e-41e6-a3eb-315d0872bc8b",
   "metadata": {
    "tags": []
   },
   "outputs": [],
   "source": [
    "top_rollouts = [rollout for rollout in rollouts if len(rollout.rews) < 880]\n",
    "transitions = rollout.flatten_trajectories(top_rollouts)"
   ]
  },
  {
   "cell_type": "code",
   "execution_count": null,
   "id": "5dc740c1-d128-404b-88e1-328d58a27d01",
   "metadata": {},
   "outputs": [],
   "source": [
    "pprint(rollout.rollout_stats(rollouts))\n",
    "pprint(rollout.rollout_stats(top_rollouts))"
   ]
  },
  {
   "cell_type": "code",
   "execution_count": null,
   "id": "0672d727-7370-4b87-9d76-6c0f0f9a55d9",
   "metadata": {},
   "outputs": [],
   "source": [
    "print(\n",
    "    f\"\"\"The `rollout` function generated a list of {len(rollouts)} {type(rollouts[0])}.\n",
    "After flattening, this list is turned into a {type(transitions)} object containing {len(transitions)} transitions.\n",
    "The transitions object contains arrays for: {', '.join(transitions.__dict__.keys())}.\"\n",
    "\"\"\"\n",
    ")"
   ]
  },
  {
   "cell_type": "code",
   "execution_count": null,
   "id": "2c164543-d04e-4a0c-bb7f-aba625ba628c",
   "metadata": {
    "tags": []
   },
   "outputs": [],
   "source": [
    "from imitation.algorithms import bc\n",
    "from stable_baselines3.common.policies import ActorCriticCnnPolicy\n",
    "\n",
    "# env = gym.make(env_id)\n",
    "# env = gym.wrappers.gray_scale_observation.GrayScaleObservation(env, keep_dim=False)\n",
    "# env = TransformaObservacions(env)\n",
    "# env = gym.wrappers.FrameStack(env, 2)\n",
    "# env = gnwrapper.Animation(env)\n",
    "# env = DummyVecEnv([lambda: env])\n",
    "# env = VecTransposeImage(env)\n",
    "\n",
    "env = make_vec_env(env_id, wrapper_class=wrapper_image, n_envs=1)\n",
    "\n",
    "bc_trainer = bc.BC(\n",
    "    observation_space=env.observation_space,\n",
    "    action_space=env.action_space,\n",
    "    demonstrations=transitions,\n",
    "    rng=rng,\n",
    "    batch_size=4096,\n",
    "    policy=ActorCriticCnnPolicy(\n",
    "                         observation_space=env.observation_space,\n",
    "                         action_space=env.action_space,\n",
    "                         lr_schedule=lambda _: th.finfo(th.float32).max,\n",
    "                         net_arch=dict(pi=[256], vf=[256]),\n",
    "                         # net_arch=[256, 256],\n",
    "                         activation_fn = nn.LeakyReLU, # nn.GELU, # nn.LeakyReLU,\n",
    "                         ortho_init=False,\n",
    "                         )\n",
    ")"
   ]
  },
  {
   "cell_type": "code",
   "execution_count": null,
   "id": "cd45bc20-573c-44b7-b4d7-caefe1e9e5f7",
   "metadata": {
    "jupyter": {
     "outputs_hidden": true
    },
    "tags": []
   },
   "outputs": [],
   "source": [
    "bc_trainer.train(n_epochs=100)"
   ]
  },
  {
   "cell_type": "code",
   "execution_count": null,
   "id": "57e28162-6697-4670-87c6-fa829ee81230",
   "metadata": {
    "tags": []
   },
   "outputs": [],
   "source": [
    "env = gym.make(env_id)\n",
    "env = wrapper_image(env)\n",
    "env = gym.wrappers.RecordVideo(env, 'video')\n",
    "\n",
    "obs = env.reset()\n",
    "while True:\n",
    "    action, _states = bc_trainer.policy.predict(np.asarray(obs))\n",
    "    obs, rewards, dones, info = env.step(action)\n",
    "    env.render()\n",
    "    if dones:\n",
    "        break\n",
    "    \n",
    "env.close()"
   ]
  },
  {
   "cell_type": "code",
   "execution_count": null,
   "id": "006da05a-72ca-4a81-863f-4b5fcda9fb07",
   "metadata": {},
   "outputs": [],
   "source": [
    "env = gym.make(env_id)\n",
    "env = wrapper(env)\n",
    "env = gym.wrappers.RecordVideo(env, 'video')\n",
    "\n",
    "obs = env.reset()\n",
    "while True:\n",
    "    action, _states = expert.predict(obs.copy())\n",
    "    obs, rewards, dones, info = env.step(action)\n",
    "    env.render()\n",
    "    if dones:\n",
    "        break\n",
    "    \n",
    "env.close()"
   ]
  },
  {
   "cell_type": "code",
   "execution_count": null,
   "id": "3cf24973-e7d2-4ef6-b32d-c9ba7942a11f",
   "metadata": {},
   "outputs": [],
   "source": [
    "from stable_baselines3.common.evaluation import evaluate_policy"
   ]
  },
  {
   "cell_type": "code",
   "execution_count": null,
   "id": "cbbaae8b-f547-4b8d-b36a-9fd424eeafb7",
   "metadata": {
    "tags": []
   },
   "outputs": [],
   "source": [
    "from stable_baselines3.common.vec_env import VecFrameStack\n",
    "def wrapper_image2(env):\n",
    "    env = gym.wrappers.gray_scale_observation.GrayScaleObservation(env, keep_dim=True)\n",
    "    env = gnwrapper.Animation(env)\n",
    "    return env\n",
    "\n",
    "test_env_gt = make_vec_env(env_id, wrapper_class=wrapper, n_envs=10)\n",
    "test_env = make_vec_env(env_id, wrapper_class=wrapper_image2, n_envs=10)\n",
    "test_env = VecFrameStack(test_env, 2)\n",
    "\n",
    "expert_reward, expert_reward_std = evaluate_policy(expert, test_env_gt, 10)\n",
    "bc_reward, bc_reward_std = evaluate_policy(bc_trainer.policy, test_env, 10)\n",
    "# noob_reward, noob_reward_std = evaluate_policy(noob, test_env, 10)"
   ]
  },
  {
   "cell_type": "code",
   "execution_count": null,
   "id": "262688b7-6a64-44ed-86bf-c74fea728463",
   "metadata": {
    "tags": []
   },
   "outputs": [],
   "source": [
    "print(f'expert reward {expert_reward:.2f} +/- {expert_reward_std:.2f}')\n",
    "print(f'BC reward {bc_reward:.2f} +/- {bc_reward_std:.2f}')\n",
    "# print(f'noob reward {noob_reward} +/- {noob_reward_std}')"
   ]
  },
  {
   "cell_type": "code",
   "execution_count": null,
   "id": "f3b11a61-ed8b-4e7f-bf9b-e7a1cdecb9e0",
   "metadata": {},
   "outputs": [],
   "source": [
    "save(opt.log_prefix + opt.model_name)"
   ]
  },
  {
   "cell_type": "code",
   "execution_count": null,
   "id": "b34464df-cea8-40dc-a44b-83fddfc5b153",
   "metadata": {},
   "outputs": [],
   "source": []
  },
  {
   "cell_type": "code",
   "execution_count": null,
   "id": "f1dfe291-931b-4f81-953c-dfc398d5715d",
   "metadata": {},
   "outputs": [],
   "source": [
    "bc_trainer.save_policy('policy/bc1')"
   ]
  },
  {
   "cell_type": "code",
   "execution_count": null,
   "id": "ff8b5864-6d39-4539-88f3-08a33e2dd009",
   "metadata": {},
   "outputs": [],
   "source": [
    "th.load('policy/bc1.zip').predict(obs.copy())"
   ]
  }
 ],
 "metadata": {
  "kernelspec": {
   "display_name": "rl-venv",
   "language": "python",
   "name": "rl-venv"
  },
  "language_info": {
   "codemirror_mode": {
    "name": "ipython",
    "version": 3
   },
   "file_extension": ".py",
   "mimetype": "text/x-python",
   "name": "python",
   "nbconvert_exporter": "python",
   "pygments_lexer": "ipython3",
   "version": "3.10.6"
  }
 },
 "nbformat": 4,
 "nbformat_minor": 5
}
