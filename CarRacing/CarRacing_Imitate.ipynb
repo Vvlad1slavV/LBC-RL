{
 "cells": [
  {
   "cell_type": "code",
   "execution_count": 1,
   "id": "3dbc3954-1c37-4448-b4a5-6a21ced91486",
   "metadata": {},
   "outputs": [
    {
     "data": {
      "text/plain": [
       "'0.21.0'"
      ]
     },
     "execution_count": 1,
     "metadata": {},
     "output_type": "execute_result"
    }
   ],
   "source": [
    "# import sys\n",
    "# import gymnasium as gym\n",
    "# sys.modules[\"gym\"] = gym\n",
    "import gym\n",
    "gym.__version__"
   ]
  },
  {
   "cell_type": "code",
   "execution_count": 2,
   "id": "0caa9c31-b71e-4dc0-8050-d44d2fb05f40",
   "metadata": {},
   "outputs": [],
   "source": [
    "from stable_baselines3 import PPO\n",
    "from stable_baselines3.common.monitor import Monitor\n",
    "from stable_baselines3.common.vec_env import DummyVecEnv, SubprocVecEnv\n",
    "from stable_baselines3.common.env_util import make_vec_env\n",
    "from stable_baselines3.common.callbacks import EvalCallback"
   ]
  },
  {
   "cell_type": "code",
   "execution_count": 3,
   "id": "f5f2140a-e237-454a-a6ac-f25039e30a13",
   "metadata": {},
   "outputs": [],
   "source": [
    "import numpy as np\n",
    "import matplotlib.pyplot as plt\n",
    "\n",
    "from scipy.spatial import distance"
   ]
  },
  {
   "cell_type": "code",
   "execution_count": 4,
   "id": "5ca2af40-9352-4e0e-9b65-1182675499eb",
   "metadata": {},
   "outputs": [],
   "source": [
    "import gnwrapper"
   ]
  },
  {
   "cell_type": "code",
   "execution_count": 5,
   "id": "b441e510-2dd4-4a68-b288-50ed2ed5f35c",
   "metadata": {},
   "outputs": [],
   "source": [
    "env_id = \"CarRacing-v0\"\n",
    "NUM_CPU = 4  # Number0of processes to use"
   ]
  },
  {
   "cell_type": "code",
   "execution_count": 6,
   "id": "541782fa-f9ad-470b-9214-c24b07050f53",
   "metadata": {},
   "outputs": [],
   "source": [
    "from utils import CarRacingGroundTruthObsWrapper\n",
    "def wrapper(env):\n",
    "    env = CarRacingGroundTruthObsWrapper(env) \n",
    "    env = gnwrapper.Animation(env)\n",
    "    return env\n",
    "\n",
    "def make_env(env_id):\n",
    "    def _init():\n",
    "        env = gym.make(env_id)\n",
    "        env = wrapper(env)\n",
    "        return env\n",
    "    \n",
    "    return _init"
   ]
  },
  {
   "cell_type": "code",
   "execution_count": 7,
   "id": "70678eda-16c0-4784-9eb4-4a8dc0f53a9d",
   "metadata": {},
   "outputs": [
    {
     "name": "stdout",
     "output_type": "stream",
     "text": [
      "== CURRENT SYSTEM INFO ==\n",
      "- OS: Linux-5.15.0-60-generic-x86_64-with-glibc2.35 # 66-Ubuntu SMP Fri Jan 20 14:29:49 UTC 2023\n",
      "- Python: 3.10.6\n",
      "- Stable-Baselines3: 1.7.0\n",
      "- PyTorch: 1.13.1+cu117\n",
      "- GPU Enabled: True\n",
      "- Numpy: 1.24.1\n",
      "- Gym: 0.21.0\n",
      "\n",
      "== SAVED MODEL SYSTEM INFO ==\n",
      "- OS: Linux-5.15.0-58-generic-x86_64-with-glibc2.35 # 64-Ubuntu SMP Thu Jan 5 11:43:13 UTC 2023\n",
      "- Python: 3.10.6\n",
      "- Stable-Baselines3: 1.7.0\n",
      "- PyTorch: 1.13.1+cu117\n",
      "- GPU Enabled: True\n",
      "- Numpy: 1.24.1\n",
      "- Gym: 0.21.0\n",
      "\n"
     ]
    }
   ],
   "source": [
    "expert = PPO.load(\"./policy/ppo_CarRacing_expert-1kk.zip\", print_system_info=True)"
   ]
  },
  {
   "cell_type": "code",
   "execution_count": 13,
   "id": "b87d071a-b7eb-4bb6-97c4-4a9e55ab2a6c",
   "metadata": {},
   "outputs": [
    {
     "name": "stdout",
     "output_type": "stream",
     "text": [
      "Track generation: 1023..1283 -> 260-tiles track\n",
      "Track generation: 1155..1448 -> 293-tiles track\n",
      "Track generation: 1035..1298 -> 263-tiles track\n",
      "Track generation: 1090..1366 -> 276-tiles track\n",
      "Track generation: 964..1209 -> 245-tiles track\n",
      "Track generation: 1196..1499 -> 303-tiles track\n",
      "Track generation: 1159..1452 -> 293-tiles track\n",
      "Track generation: 1263..1583 -> 320-tiles track\n",
      "Track generation: 1236..1549 -> 313-tiles track\n",
      "Track generation: 999..1263 -> 264-tiles track\n",
      "Track generation: 1115..1399 -> 284-tiles track\n",
      "Track generation: 1192..1494 -> 302-tiles track\n",
      "Track generation: 1049..1315 -> 266-tiles track\n",
      "Track generation: 1268..1589 -> 321-tiles track\n",
      "Track generation: 1119..1403 -> 284-tiles track\n",
      "Track generation: 1279..1603 -> 324-tiles track\n",
      "Track generation: 1229..1540 -> 311-tiles track\n",
      "Track generation: 1137..1425 -> 288-tiles track\n",
      "Track generation: 1211..1518 -> 307-tiles track\n",
      "Track generation: 1179..1478 -> 299-tiles track\n",
      "Track generation: 1144..1441 -> 297-tiles track\n",
      "Track generation: 1208..1514 -> 306-tiles track\n",
      "Track generation: 1253..1571 -> 318-tiles track\n",
      "Track generation: 1123..1418 -> 295-tiles track\n",
      "Track generation: 1293..1620 -> 327-tiles track\n",
      "Track generation: 1069..1340 -> 271-tiles track\n",
      "Track generation: 1203..1508 -> 305-tiles track\n",
      "Track generation: 1344..1684 -> 340-tiles track\n",
      "Track generation: 1114..1400 -> 286-tiles track\n",
      "Track generation: 1131..1425 -> 294-tiles track\n",
      "Track generation: 1230..1540 -> 310-tiles track\n",
      "retry to generate track (normal if there are not manyinstances of this message)\n",
      "Track generation: 1279..1611 -> 332-tiles track\n",
      "Track generation: 1220..1529 -> 309-tiles track\n",
      "Track generation: 1256..1579 -> 323-tiles track\n",
      "Track generation: 993..1251 -> 258-tiles track\n",
      "Track generation: 1199..1511 -> 312-tiles track\n",
      "Track generation: 1101..1387 -> 286-tiles track\n",
      "Track generation: 1129..1415 -> 286-tiles track\n",
      "Track generation: 1040..1304 -> 264-tiles track\n",
      "Track generation: 1166..1462 -> 296-tiles track\n",
      "Track generation: 1252..1569 -> 317-tiles track\n",
      "Track generation: 1267..1587 -> 320-tiles track\n",
      "Track generation: 1248..1564 -> 316-tiles track\n",
      "Track generation: 1170..1475 -> 305-tiles track\n",
      "Track generation: 1184..1484 -> 300-tiles track\n",
      "Track generation: 1225..1535 -> 310-tiles track\n",
      "Track generation: 1227..1538 -> 311-tiles track\n",
      "Track generation: 1238..1561 -> 323-tiles track\n",
      "Track generation: 1160..1454 -> 294-tiles track\n",
      "Track generation: 1077..1350 -> 273-tiles track\n",
      "Track generation: 1140..1437 -> 297-tiles track\n",
      "Track generation: 1260..1579 -> 319-tiles track\n"
     ]
    }
   ],
   "source": [
    "from imitation.data import rollout\n",
    "from imitation.data.wrappers import RolloutInfoWrapper\n",
    "import dataclasses\n",
    "from stable_baselines3.common.vec_env import VecTransposeImage\n",
    "\n",
    "NUM_EPISODES = 50\n",
    "env = gym.make(env_id)\n",
    "env = gym.wrappers.gray_scale_observation.GrayScaleObservation(env, keep_dim=True)\n",
    "env = RolloutInfoWrapper(env) # Wrapper to save origin obs\n",
    "env = wrapper(env) # Wrapper Obs\n",
    "env = DummyVecEnv([lambda: env]) # Vectorized env\n",
    "\n",
    "rng = np.random.default_rng()\n",
    "rollouts = rollout.rollout(\n",
    "    expert,\n",
    "    env,\n",
    "    rollout.make_sample_until(min_timesteps=None, min_episodes=NUM_EPISODES),\n",
    "    rng = rng,\n",
    "    unwrap = True\n",
    ")\n",
    "\n",
    "transitions = rollout.flatten_trajectories(rollouts)"
   ]
  },
  {
   "cell_type": "code",
   "execution_count": 14,
   "id": "0672d727-7370-4b87-9d76-6c0f0f9a55d9",
   "metadata": {},
   "outputs": [
    {
     "name": "stdout",
     "output_type": "stream",
     "text": [
      "The `rollout` function generated a list of 50 <class 'imitation.data.types.TrajectoryWithRew'>.\n",
      "After flattening, this list is turned into a <class 'imitation.data.types.Transitions'> object containing 45510 transitions.\n",
      "The transitions object contains arrays for: obs, acts, infos, next_obs, dones.\"\n",
      "\n"
     ]
    }
   ],
   "source": [
    "print(\n",
    "    f\"\"\"The `rollout` function generated a list of {len(rollouts)} {type(rollouts[0])}.\n",
    "After flattening, this list is turned into a {type(transitions)} object containing {len(transitions)} transitions.\n",
    "The transitions object contains arrays for: {', '.join(transitions.__dict__.keys())}.\"\n",
    "\"\"\"\n",
    ")"
   ]
  },
  {
   "cell_type": "code",
   "execution_count": 15,
   "id": "2c164543-d04e-4a0c-bb7f-aba625ba628c",
   "metadata": {},
   "outputs": [],
   "source": [
    "from imitation.algorithms import bc\n",
    "from stable_baselines3.common.policies import ActorCriticCnnPolicy\n",
    "\n",
    "env = gym.make(env_id)\n",
    "env = gnwrapper.Animation(env)\n",
    "bc_trainer = bc.BC(\n",
    "    observation_space=env.observation_space,\n",
    "    action_space=env.action_space,\n",
    "    demonstrations=transitions,\n",
    "    rng=rng,\n",
    "    batch_size=1024\n",
    "    # policy=MultiInputActorCriticPolicy(\n",
    "                             # observation_space=env.observation_space,\n",
    "                             # action_space=env.action_space,\n",
    "                             # lr_schedule=lambda _: torch.finfo(torch.float32).max,\n",
    "                             # net_arch=[64, 64]\n",
    "                             # )\n",
    ")"
   ]
  },
  {
   "cell_type": "code",
   "execution_count": 18,
   "id": "cd45bc20-573c-44b7-b4d7-caefe1e9e5f7",
   "metadata": {
    "collapsed": true,
    "jupyter": {
     "outputs_hidden": true
    },
    "tags": []
   },
   "outputs": [
    {
     "name": "stderr",
     "output_type": "stream",
     "text": [
      "0batch [00:00, ?batch/s]"
     ]
    },
    {
     "name": "stdout",
     "output_type": "stream",
     "text": [
      "--------------------------------\n",
      "| batch_size        | 1024     |\n",
      "| bc/               |          |\n",
      "|    batch          | 0        |\n",
      "|    ent_loss       | -0.00132 |\n",
      "|    entropy        | 1.32     |\n",
      "|    epoch          | 0        |\n",
      "|    l2_loss        | 0        |\n",
      "|    l2_norm        | 80.4     |\n",
      "|    loss           | 1.32     |\n",
      "|    neglogp        | 1.32     |\n",
      "|    prob_true_act  | 0.464    |\n",
      "|    samples_so_far | 1024     |\n",
      "--------------------------------\n"
     ]
    },
    {
     "name": "stderr",
     "output_type": "stream",
     "text": [
      "43batch [00:02, 18.97batch/s]\n",
      "86batch [00:04, 20.47batch/s]\u001b[A\n",
      "132batch [00:06, 19.36batch/s][A\n",
      "175batch [00:08, 20.77batch/s]\u001b[A\n",
      "219batch [00:11, 20.67batch/s]\u001b[A\n",
      "263batch [00:13, 20.99batch/s]\u001b[A\n",
      "307batch [00:15, 20.65batch/s]\u001b[A\n",
      "350batch [00:17, 20.45batch/s]\u001b[A\n",
      "394batch [00:19, 19.61batch/s]\u001b[A\n",
      "438batch [00:22, 19.73batch/s]\u001b[A\n",
      "482batch [00:24, 19.68batch/s]\u001b[A\n",
      "499batch [00:25, 19.71batch/s]\u001b[A"
     ]
    },
    {
     "name": "stdout",
     "output_type": "stream",
     "text": [
      "--------------------------------\n",
      "| batch_size        | 1024     |\n",
      "| bc/               |          |\n",
      "|    batch          | 500      |\n",
      "|    ent_loss       | -0.00132 |\n",
      "|    entropy        | 1.32     |\n",
      "|    epoch          | 11       |\n",
      "|    l2_loss        | 0        |\n",
      "|    l2_norm        | 80.3     |\n",
      "|    loss           | 1.34     |\n",
      "|    neglogp        | 1.35     |\n",
      "|    prob_true_act  | 0.479    |\n",
      "|    samples_so_far | 513024   |\n",
      "--------------------------------\n"
     ]
    },
    {
     "name": "stderr",
     "output_type": "stream",
     "text": [
      "526batch [00:26, 20.95batch/s]\n",
      "571batch [00:28, 20.64batch/s]\u001b[A\n",
      "615batch [00:31, 19.74batch/s]\u001b[A\n",
      "660batch [00:33, 20.73batch/s]\u001b[A\n",
      "703batch [00:35, 18.54batch/s]\u001b[A\n",
      "746batch [00:37, 21.03batch/s]\u001b[A\n",
      "791batch [00:39, 20.16batch/s]\u001b[A\n",
      "835batch [00:42, 20.28batch/s]\u001b[A\n",
      "880batch [00:44, 20.98batch/s]\u001b[A\n",
      "922batch [00:46, 21.23batch/s]\u001b[A\n",
      "967batch [00:48, 20.89batch/s]\u001b[A\n",
      "1000batch [00:50, 20.39batch/s][A"
     ]
    },
    {
     "name": "stdout",
     "output_type": "stream",
     "text": [
      "--------------------------------\n",
      "| batch_size        | 1024     |\n",
      "| bc/               |          |\n",
      "|    batch          | 1000     |\n",
      "|    ent_loss       | -0.00132 |\n",
      "|    entropy        | 1.32     |\n",
      "|    epoch          | 22       |\n",
      "|    l2_loss        | 0        |\n",
      "|    l2_norm        | 80.3     |\n",
      "|    loss           | 1.22     |\n",
      "|    neglogp        | 1.22     |\n",
      "|    prob_true_act  | 0.484    |\n",
      "|    samples_so_far | 1025024  |\n",
      "--------------------------------\n"
     ]
    },
    {
     "name": "stderr",
     "output_type": "stream",
     "text": [
      "1012batch [00:50, 20.71batch/s]\n",
      "1056batch [00:52, 21.22batch/s]\u001b[A\n",
      "1098batch [00:54, 20.88batch/s]\u001b[A\n",
      "1143batch [00:57, 21.42batch/s]\u001b[A\n",
      "1188batch [00:59, 20.49batch/s]\u001b[A\n",
      "1230batch [01:01, 21.27batch/s]\u001b[A\n",
      "1274batch [01:03, 20.17batch/s]\u001b[A\n",
      "1319batch [01:05, 21.08batch/s]\u001b[A\n",
      "1364batch [01:07, 18.50batch/s]\u001b[A\n",
      "1406batch [01:09, 21.23batch/s]\u001b[A\n",
      "1451batch [01:12, 20.93batch/s]\u001b[A\n",
      "1496batch [01:14, 20.99batch/s]\u001b[A\n",
      "1499batch [01:14, 20.40batch/s]\u001b[A"
     ]
    },
    {
     "name": "stdout",
     "output_type": "stream",
     "text": [
      "--------------------------------\n",
      "| batch_size        | 1024     |\n",
      "| bc/               |          |\n",
      "|    batch          | 1500     |\n",
      "|    ent_loss       | -0.00132 |\n",
      "|    entropy        | 1.32     |\n",
      "|    epoch          | 34       |\n",
      "|    l2_loss        | 0        |\n",
      "|    l2_norm        | 80.3     |\n",
      "|    loss           | 1.36     |\n",
      "|    neglogp        | 1.36     |\n",
      "|    prob_true_act  | 0.49     |\n",
      "|    samples_so_far | 1537024  |\n",
      "--------------------------------\n"
     ]
    },
    {
     "name": "stderr",
     "output_type": "stream",
     "text": [
      "1539batch [01:16, 21.09batch/s]\n",
      "1584batch [01:18, 21.44batch/s]\u001b[A\n",
      "1626batch [01:20, 20.53batch/s]\u001b[A\n",
      "1672batch [01:23, 21.14batch/s]\u001b[A\n",
      "1714batch [01:25, 21.34batch/s]\u001b[A\n",
      "1759batch [01:27, 20.79batch/s]\u001b[A\n",
      "1804batch [01:29, 21.27batch/s]\u001b[A\n",
      "1846batch [01:31, 19.49batch/s]\u001b[A\n",
      "1891batch [01:33, 21.39batch/s]\u001b[A\n",
      "1936batch [01:35, 19.13batch/s]\u001b[A\n",
      "1978batch [01:37, 21.50batch/s]\u001b[A\n",
      "1999batch [01:38, 20.68batch/s]\u001b[A"
     ]
    },
    {
     "name": "stdout",
     "output_type": "stream",
     "text": [
      "--------------------------------\n",
      "| batch_size        | 1024     |\n",
      "| bc/               |          |\n",
      "|    batch          | 2000     |\n",
      "|    ent_loss       | -0.00131 |\n",
      "|    entropy        | 1.31     |\n",
      "|    epoch          | 45       |\n",
      "|    l2_loss        | 0        |\n",
      "|    l2_norm        | 80.3     |\n",
      "|    loss           | 1.38     |\n",
      "|    neglogp        | 1.38     |\n",
      "|    prob_true_act  | 0.486    |\n",
      "|    samples_so_far | 2049024  |\n",
      "--------------------------------\n"
     ]
    },
    {
     "name": "stderr",
     "output_type": "stream",
     "text": [
      "2023batch [01:40, 19.12batch/s]\n",
      "2067batch [01:42, 20.22batch/s]\u001b[A\n",
      "2110batch [01:44, 20.17batch/s]\u001b[A\n",
      "2156batch [01:47, 19.78batch/s]\u001b[A\n",
      "2200batch [01:49, 19.86batch/s]\u001b[A\n",
      "2243batch [01:51, 18.84batch/s]\u001b[A\n",
      "2288batch [01:53, 20.62batch/s]\u001b[A\n",
      "2332batch [01:56, 20.84batch/s]\u001b[A\n",
      "2376batch [01:58, 20.60batch/s]\u001b[A\n",
      "2419batch [02:00, 19.19batch/s]\u001b[A\n",
      "2463batch [02:02, 20.24batch/s]\u001b[A\n",
      "2500batch [02:04, 20.21batch/s]\u001b[A"
     ]
    },
    {
     "name": "stdout",
     "output_type": "stream",
     "text": [
      "--------------------------------\n",
      "| batch_size        | 1024     |\n",
      "| bc/               |          |\n",
      "|    batch          | 2500     |\n",
      "|    ent_loss       | -0.00132 |\n",
      "|    entropy        | 1.32     |\n",
      "|    epoch          | 56       |\n",
      "|    l2_loss        | 0        |\n",
      "|    l2_norm        | 80.3     |\n",
      "|    loss           | 1.44     |\n",
      "|    neglogp        | 1.44     |\n",
      "|    prob_true_act  | 0.483    |\n",
      "|    samples_so_far | 2561024  |\n",
      "--------------------------------\n"
     ]
    },
    {
     "name": "stderr",
     "output_type": "stream",
     "text": [
      "2508batch [02:04, 18.65batch/s]\n",
      "2550batch [02:07, 21.15batch/s]\u001b[A\n",
      "2595batch [02:09, 20.24batch/s]\u001b[A\n",
      "2639batch [02:11, 20.05batch/s]\u001b[A\n",
      "2683batch [02:13, 20.54batch/s]\u001b[A\n",
      "2726batch [02:15, 20.65batch/s]\u001b[A\n",
      "2770batch [02:18, 20.97batch/s]\u001b[A\n",
      "2816batch [02:20, 20.08batch/s]\u001b[A\n",
      "2859batch [02:22, 19.63batch/s]\u001b[A\n",
      "2904batch [02:25, 20.04batch/s]\u001b[A\n",
      "2948batch [02:27, 20.42batch/s]\u001b[A\n",
      "2991batch [02:29, 20.29batch/s]\u001b[A\n",
      "3000batch [02:30, 18.72batch/s]\u001b[A"
     ]
    },
    {
     "name": "stdout",
     "output_type": "stream",
     "text": [
      "--------------------------------\n",
      "| batch_size        | 1024     |\n",
      "| bc/               |          |\n",
      "|    batch          | 3000     |\n",
      "|    ent_loss       | -0.00132 |\n",
      "|    entropy        | 1.32     |\n",
      "|    epoch          | 68       |\n",
      "|    l2_loss        | 0        |\n",
      "|    l2_norm        | 80.3     |\n",
      "|    loss           | 1.38     |\n",
      "|    neglogp        | 1.38     |\n",
      "|    prob_true_act  | 0.472    |\n",
      "|    samples_so_far | 3073024  |\n",
      "--------------------------------\n"
     ]
    },
    {
     "name": "stderr",
     "output_type": "stream",
     "text": [
      "3035batch [02:31, 18.36batch/s]\n",
      "3080batch [02:34, 19.43batch/s]\u001b[A\n",
      "3124batch [02:36, 20.80batch/s]\u001b[A\n",
      "3166batch [02:38, 20.44batch/s]\u001b[A\n",
      "3210batch [02:40, 20.39batch/s]\u001b[A\n",
      "3255batch [02:43, 20.48batch/s]\u001b[A\n",
      "3300batch [02:45, 20.64batch/s]\u001b[A\n",
      "3344batch [02:47, 21.02batch/s]\u001b[A\n",
      "3386batch [02:49, 20.44batch/s]\u001b[A\n",
      "3432batch [02:51, 19.80batch/s]\u001b[A\n",
      "3476batch [02:54, 19.79batch/s]\u001b[A\n",
      "3500batch [02:55, 20.22batch/s]\u001b[A"
     ]
    },
    {
     "name": "stdout",
     "output_type": "stream",
     "text": [
      "--------------------------------\n",
      "| batch_size        | 1024     |\n",
      "| bc/               |          |\n",
      "|    batch          | 3500     |\n",
      "|    ent_loss       | -0.00132 |\n",
      "|    entropy        | 1.32     |\n",
      "|    epoch          | 79       |\n",
      "|    l2_loss        | 0        |\n",
      "|    l2_norm        | 80.3     |\n",
      "|    loss           | 1.4      |\n",
      "|    neglogp        | 1.4      |\n",
      "|    prob_true_act  | 0.477    |\n",
      "|    samples_so_far | 3585024  |\n",
      "--------------------------------\n"
     ]
    },
    {
     "name": "stderr",
     "output_type": "stream",
     "text": [
      "3518batch [02:56, 21.00batch/s]\n",
      "3562batch [02:58, 20.66batch/s]\u001b[A\n",
      "3608batch [03:00, 20.20batch/s]\u001b[A\n",
      "3650batch [03:03, 19.26batch/s]\u001b[A\n",
      "3696batch [03:05, 20.74batch/s]\u001b[A\n",
      "3740batch [03:07, 18.32batch/s]\u001b[A\n",
      "3782batch [03:09, 19.70batch/s]\u001b[A\n",
      "3827batch [03:12, 18.89batch/s]\u001b[A\n",
      "3871batch [03:14, 19.91batch/s]\u001b[A\n",
      "3916batch [03:16, 21.05batch/s]\u001b[A\n",
      "3958batch [03:18, 20.87batch/s]\u001b[A\n",
      "3999batch [03:20, 20.75batch/s]\u001b[A"
     ]
    },
    {
     "name": "stdout",
     "output_type": "stream",
     "text": [
      "--------------------------------\n",
      "| batch_size        | 1024     |\n",
      "| bc/               |          |\n",
      "|    batch          | 4000     |\n",
      "|    ent_loss       | -0.00132 |\n",
      "|    entropy        | 1.32     |\n",
      "|    epoch          | 90       |\n",
      "|    l2_loss        | 0        |\n",
      "|    l2_norm        | 80.3     |\n",
      "|    loss           | 1.33     |\n",
      "|    neglogp        | 1.34     |\n",
      "|    prob_true_act  | 0.485    |\n",
      "|    samples_so_far | 4097024  |\n",
      "--------------------------------\n"
     ]
    },
    {
     "name": "stderr",
     "output_type": "stream",
     "text": [
      "4002batch [03:20, 20.57batch/s]\n",
      "4047batch [03:23, 16.20batch/s]\u001b[A\n",
      "4092batch [03:25, 19.89batch/s]\u001b[A\n",
      "4136batch [03:27, 19.99batch/s]\u001b[A\n",
      "4179batch [03:29, 20.91batch/s]\u001b[A\n",
      "4223batch [03:32, 19.97batch/s]\u001b[A\n",
      "4268batch [03:34, 20.23batch/s]\u001b[A\n",
      "4310batch [03:36, 17.98batch/s]\u001b[A\n",
      "4355batch [03:38, 20.66batch/s]\u001b[A\n",
      "4398batch [03:41, 20.24batch/s]\u001b[A\n",
      "4400batch [03:41, 19.89batch/s]\u001b[A\n"
     ]
    }
   ],
   "source": [
    "bc_trainer.train(n_epochs=100)"
   ]
  },
  {
   "cell_type": "code",
   "execution_count": 23,
   "id": "57e28162-6697-4670-87c6-fa829ee81230",
   "metadata": {},
   "outputs": [
    {
     "data": {
      "image/png": "[encoded data removed]",
      "text/plain": [
       "<Figure size 640x480 with 1 Axes>"
      ]
     },
     "metadata": {},
     "output_type": "display_data"
    },
    {
     "data": {
      "image/png": "[encoded data removed]",
      "text/plain": [
       "<Figure size 640x480 with 1 Axes>"
      ]
     },
     "metadata": {},
     "output_type": "display_data"
    }
   ],
   "source": [
    "obs = env.reset()\n",
    "while True:\n",
    "    action, _states = bc_trainer.policy.predict(obs.copy())\n",
    "    obs, rewards, dones, info = env.step(action)\n",
    "    env.render()\n",
    "    if dones:\n",
    "        break\n",
    "    \n",
    "env.close()"
   ]
  },
  {
   "cell_type": "code",
   "execution_count": 21,
   "id": "3cf24973-e7d2-4ef6-b32d-c9ba7942a11f",
   "metadata": {},
   "outputs": [],
   "source": [
    "from stable_baselines3.common.evaluation import evaluate_policy"
   ]
  },
  {
   "cell_type": "code",
   "execution_count": 22,
   "id": "b14ff9d6-70a4-404c-aaf7-3f5141d7ba98",
   "metadata": {},
   "outputs": [
    {
     "name": "stderr",
     "output_type": "stream",
     "text": [
      "/home/vlad1slav/Diploma/rl-venv/lib/python3.10/site-packages/stable_baselines3/common/evaluation.py:67: UserWarning: Evaluation environment is not wrapped with a ``Monitor`` wrapper. This may result in reporting modified episode lengths and rewards, if other wrappers happen to modify these. Consider wrapping environment first with ``Monitor`` wrapper.\n",
      "  warnings.warn(\n"
     ]
    },
    {
     "name": "stdout",
     "output_type": "stream",
     "text": [
      "Track generation: 1196..1499 -> 303-tiles track\n",
      "Track generation: 1108..1389 -> 281-tiles track\n",
      "Track generation: 1139..1428 -> 289-tiles track\n",
      "Track generation: 1090..1373 -> 283-tiles track\n",
      "Track generation: 1174..1472 -> 298-tiles track\n",
      "Track generation: 1137..1425 -> 288-tiles track\n",
      "BC reward: -58.55677370727062\n"
     ]
    }
   ],
   "source": [
    "reward, _ = evaluate_policy(bc_trainer.policy, env, 5)\n",
    "print(f\"BC reward: {reward}\")"
   ]
  },
  {
   "cell_type": "code",
   "execution_count": null,
   "id": "159db514-5e1e-4860-8fec-d35dcd5e1d2e",
   "metadata": {},
   "outputs": [],
   "source": []
  }
 ],
 "metadata": {
  "kernelspec": {
   "display_name": "rl-venv",
   "language": "python",
   "name": "rl-venv"
  },
  "language_info": {
   "codemirror_mode": {
    "name": "ipython",
    "version": 3
   },
   "file_extension": ".py",
   "mimetype": "text/x-python",
   "name": "python",
   "nbconvert_exporter": "python",
   "pygments_lexer": "ipython3",
   "version": "3.10.6"
  }
 },
 "nbformat": 4,
 "nbformat_minor": 5
}
