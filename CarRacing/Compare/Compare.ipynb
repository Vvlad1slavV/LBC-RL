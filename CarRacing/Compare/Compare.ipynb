{
 "cells": [
  {
   "cell_type": "code",
   "execution_count": null,
   "id": "240f3d51-8557-4b15-babf-c0549b032679",
   "metadata": {},
   "outputs": [],
   "source": [
    "import numpy as np\n",
    "import sys\n",
    "interpreter = sys.executable\n",
    "print(interpreter)"
   ]
  },
  {
   "cell_type": "code",
   "execution_count": null,
   "id": "1c9e2ed6-2af5-4a4c-8281-f4135aa20a43",
   "metadata": {},
   "outputs": [],
   "source": [
    "import torch\n",
    "print(torch.cuda.is_available())"
   ]
  },
  {
   "cell_type": "code",
   "execution_count": null,
   "id": "42a0d00d-a987-4058-8a48-6b12acf4c266",
   "metadata": {},
   "outputs": [],
   "source": [
    "seed = np.load('./seed.npy')\n",
    "print(seed)"
   ]
  },
  {
   "cell_type": "markdown",
   "id": "43611846-bc33-42a2-b039-16a033469a38",
   "metadata": {},
   "source": [
    "# Expert"
   ]
  },
  {
   "cell_type": "code",
   "execution_count": null,
   "id": "f94bbedb-0583-483a-b973-428c8146800c",
   "metadata": {
    "tags": []
   },
   "outputs": [],
   "source": [
    "for i in seed:\n",
    "    !{interpreter} ../train_PPO_CarRacing_expert.py --seed={i} --total-timesteps=410_000 --model-name=expert{i} --wrapper-name='DirectionObs' --n-step=64 --batch-size=128 --log-prefix='./expert_direction_seed/'"
   ]
  },
  {
   "cell_type": "code",
   "execution_count": null,
   "id": "ca94d7df-9b06-4f47-aab3-f77a5948b176",
   "metadata": {
    "tags": []
   },
   "outputs": [],
   "source": [
    "for i in seed:\n",
    "    !{interpreter} ../train_PPO_CarRacing_expert.py --seed={i} --total-timesteps=410_000 --model-name=expert{i} --wrapper-name='XYObs' --n-step=64 --batch-size=128 --log-prefix='./expert_xy_seed/'"
   ]
  },
  {
   "cell_type": "markdown",
   "id": "852328f9-91fb-4dd3-9d25-1851884168fc",
   "metadata": {
    "jp-MarkdownHeadingCollapsed": true,
    "tags": []
   },
   "source": [
    "## Expert SDE"
   ]
  },
  {
   "cell_type": "code",
   "execution_count": null,
   "id": "eca35a62-0f0e-4bdb-9f25-8b35e49cc192",
   "metadata": {
    "tags": []
   },
   "outputs": [],
   "source": [
    "for i in seed:\n",
    "    !{interpreter} ../train_PPO_CarRacing_expert.py --seed={i} --total-timesteps=410_000 --model-name=expert{i} --wrapper-name='DirectionObs' --n-step=64 --batch-size=128 --sde --log-prefix='./expert_direction_seed_sde/'"
   ]
  },
  {
   "cell_type": "code",
   "execution_count": null,
   "id": "45325a3b-3af8-42cd-bcc7-6135d4faa717",
   "metadata": {},
   "outputs": [],
   "source": [
    "for i in seed:\n",
    "    !{interpreter} ../train_PPO_CarRacing_expert.py --seed={i} --total-timesteps=410_000 --model-name=expert{i} --wrapper-name='XYObs' --n-step=64 --batch-size=128 --sde --log-prefix='./expert_xy_seed_sde/'"
   ]
  },
  {
   "cell_type": "markdown",
   "id": "acb17505-7664-4186-bfdd-70f494d445ba",
   "metadata": {},
   "source": [
    "# Noob"
   ]
  },
  {
   "cell_type": "code",
   "execution_count": null,
   "id": "f2cde4ba-2b58-463e-b95c-e6bcb41c36e4",
   "metadata": {
    "jupyter": {
     "outputs_hidden": true
    },
    "tags": []
   },
   "outputs": [],
   "source": [
    "for i in seed:\n",
    "     !{interpreter} ../train_PPO_CarRacing.py --seed={i} --total-timesteps=410_000 --model-name=noob{i} --n-step=64 --batch-size=128 --log-prefix='./noob_seed/'"
   ]
  },
  {
   "cell_type": "code",
   "execution_count": null,
   "id": "61916875-f4d0-4dad-b203-d98541c1d7ef",
   "metadata": {
    "jupyter": {
     "outputs_hidden": true
    },
    "tags": []
   },
   "outputs": [],
   "source": [
    "for i in seed:\n",
    "     !{interpreter} ../train_PPO_CarRacing.py --seed={i} --total-timesteps=410_000 --model-name=noob{i} --n-step=512 --batch-size=128 --log-prefix='./noob_seed_512128/'"
   ]
  },
  {
   "cell_type": "code",
   "execution_count": null,
   "id": "e404f058-1e17-45f4-84db-89a426bb4ac7",
   "metadata": {},
   "outputs": [],
   "source": [
    "np.random.randint(2**16, size=4)"
   ]
  }
 ],
 "metadata": {
  "kernelspec": {
   "display_name": "rl-venv",
   "language": "python",
   "name": "rl-venv"
  },
  "language_info": {
   "codemirror_mode": {
    "name": "ipython",
    "version": 3
   },
   "file_extension": ".py",
   "mimetype": "text/x-python",
   "name": "python",
   "nbconvert_exporter": "python",
   "pygments_lexer": "ipython3",
   "version": "3.10.6"
  }
 },
 "nbformat": 4,
 "nbformat_minor": 5
}
