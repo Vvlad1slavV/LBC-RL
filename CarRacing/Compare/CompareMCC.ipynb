{
 "cells": [
  {
   "cell_type": "code",
   "execution_count": 3,
   "id": "240f3d51-8557-4b15-babf-c0549b032679",
   "metadata": {},
   "outputs": [
    {
     "name": "stdout",
     "output_type": "stream",
     "text": [
      "/home/vlad1slav/Diploma/rl-venv/bin/python\n"
     ]
    }
   ],
   "source": [
    "import numpy as np\n",
    "import sys\n",
    "interpreter = sys.executable\n",
    "print(interpreter)"
   ]
  },
  {
   "cell_type": "code",
   "execution_count": null,
   "id": "4ccf3dae-cb2d-4ad3-8b8a-8b0ef2c2bb3c",
   "metadata": {
    "tags": []
   },
   "outputs": [
    {
     "name": "stdout",
     "output_type": "stream",
     "text": [
      "Using cuda device\n",
      "Track generation: 1108..1389 -> 281-tiles track\n",
      "Track generation: 1147..1438 -> 291-tiles track\n",
      "Track generation: 1136..1424 -> 288-tiles track\n",
      "Track generation: 1127..1413 -> 286-tiles track\n",
      "Track generation: 1047..1319 -> 272-tiles track\n",
      "Track generation: 1136..1434 -> 298-tiles track\n",
      "Track generation: 1055..1332 -> 277-tiles track\n",
      "Track generation: 1203..1508 -> 305-tiles track\n",
      "Track generation: 1143..1442 -> 299-tiles track\n",
      "Track generation: 1164..1459 -> 295-tiles track\n",
      "Track generation: 1112..1400 -> 288-tiles track\n",
      "Track generation: 1056..1324 -> 268-tiles track\n",
      "Track generation: 1104..1384 -> 280-tiles track\n",
      "Track generation: 1173..1478 -> 305-tiles track\n",
      "Track generation: 1321..1655 -> 334-tiles track\n",
      "Track generation: 1190..1492 -> 302-tiles track\n",
      "Logging to ./expert_logs/logs/expert5781_tensorboard/PPO_1\n",
      "\u001b[2K-----------------------------114m━━━━━━━━━━━━━━━━━━━━━━━━━━━\u001b[0m\u001b[38;2;249;38;114m╸\u001b[0m \u001b[32m1,984/2,000 \u001b[0m [ \u001b[33m0:00:04\u001b[0m < \u001b[36m0:00:01\u001b[0m , \u001b[31m553 it/s\u001b[0m ]m552 it/s\u001b[0m ]\n",
      "| time/              |      |\n",
      "|    fps             | 380  |\n",
      "|    iterations      | 1    |\n",
      "|    time_elapsed    | 5    |\n",
      "|    total_timesteps | 2048 |\n",
      "-----------------------------\n",
      "\u001b[2K\u001b[35m 100%\u001b[0m \u001b[38;2;114;156;31m━━━━━━━━━━━━━━━━━━━━━━━━━━━━\u001b[0m \u001b[32m2,048/2,000 \u001b[0m [ \u001b[33m0:00:04\u001b[0m < \u001b[36m0:00:00\u001b[0m , \u001b[31m554 it/s\u001b[0m ][31m553 it/s\u001b[0m ]\n",
      "\u001b[?25h^C\n",
      "Using cuda device\n",
      "Track generation: 1147..1438 -> 291-tiles track\n",
      "Track generation: 1056..1324 -> 268-tiles track\n",
      "Track generation: 1108..1389 -> 281-tiles track\n",
      "Track generation: 1164..1459 -> 295-tiles track\n",
      "Track generation: 1143..1442 -> 299-tiles track\n",
      "Track generation: 1136..1434 -> 298-tiles track\n",
      "Track generation: 1112..1400 -> 288-tiles track\n",
      "Track generation: 1203..1508 -> 305-tiles track\n",
      "Track generation: 1055..1332 -> 277-tiles track\n",
      "Track generation: 1127..1413 -> 286-tiles track\n",
      "Track generation: 1104..1384 -> 280-tiles track\n",
      "Track generation: 1047..1319 -> 272-tiles track\n",
      "Track generation: 1136..1424 -> 288-tiles track\n",
      "Track generation: 1173..1478 -> 305-tiles track\n",
      "Track generation: 1321..1655 -> 334-tiles track\n",
      "Track generation: 1190..1492 -> 302-tiles track\n",
      "Logging to ./expert_logs/logs/expert45040_tensorboard/PPO_1\n",
      "\u001b[2K-----------------------------114m━━━━━━━━━━━━━━━━━━━━━━━━━━━\u001b[0m\u001b[38;2;249;38;114m╸\u001b[0m \u001b[32m1,968/2,000 \u001b[0m [ \u001b[33m0:00:03\u001b[0m < \u001b[36m0:00:01\u001b[0m , \u001b[31m646 it/s\u001b[0m ]m647 it/s\u001b[0m ]\n",
      "| time/              |      |\n",
      "|    fps             | 444  |\n",
      "|    iterations      | 1    |\n",
      "|    time_elapsed    | 4    |\n",
      "|    total_timesteps | 2048 |\n",
      "-----------------------------\n",
      "\u001b[2K\u001b[35m 100%\u001b[0m \u001b[38;2;114;156;31m━━━━━━━━━━━━━━━━━━━━━━━━━━━━\u001b[0m \u001b[32m2,048/2,000 \u001b[0m [ \u001b[33m0:00:03\u001b[0m < \u001b[36m0:00:00\u001b[0m , \u001b[31m521 it/s\u001b[0m ][31m646 it/s\u001b[0m ]\n",
      "\u001b[?25hUsing cuda device\n",
      "Track generation: 1056..1324 -> 268-tiles track\n",
      "Track generation: 1136..1424 -> 288-tiles track\n",
      "Track generation: 1164..1459 -> 295-tiles track\n",
      "Track generation: 1108..1389 -> 281-tiles track\n",
      "Track generation: 1127..1413 -> 286-tiles track\n",
      "Track generation: 1147..1438 -> 291-tiles track\n",
      "Track generation: 1047..1319 -> 272-tiles track\n",
      "Track generation: 1112..1400 -> 288-tiles track\n",
      "Track generation: 1203..1508 -> 305-tiles track\n",
      "Track generation: 1143..1442 -> 299-tiles track\n",
      "Track generation: 1055..1332 -> 277-tiles track\n",
      "Track generation: 1136..1434 -> 298-tiles track\n",
      "Track generation: 1104..1384 -> 280-tiles track\n",
      "Track generation: 1173..1478 -> 305-tiles track\n",
      "Track generation: 1190..1492 -> 302-tiles track\n",
      "Track generation: 1321..1655 -> 334-tiles track\n",
      "Logging to ./expert_logs/logs/expert28402_tensorboard/PPO_1\n",
      "\u001b[2K-----------------------------;31m━━━━━━━━━━━━━━━━━━━━━━━━━━━━\u001b[0m \u001b[32m2,000/2,000 \u001b[0m [ \u001b[33m0:00:04\u001b[0m < \u001b[36m0:00:00\u001b[0m , \u001b[31m511 it/s\u001b[0m ]m512 it/s\u001b[0m ]m512 it/s\u001b[0m ]s\u001b[0m ]\n",
      "| time/              |      |\n",
      "|    fps             | 370  |\n",
      "|    iterations      | 1    |\n",
      "|    time_elapsed    | 5    |\n",
      "|    total_timesteps | 2048 |\n",
      "-----------------------------\n",
      "\u001b[2K\u001b[35m 100%\u001b[0m \u001b[38;2;114;156;31m━━━━━━━━━━━━━━━━━━━━━━━━━━━━\u001b[0m \u001b[32m2,048/2,000 \u001b[0m [ \u001b[33m0:00:04\u001b[0m < \u001b[36m0:00:00\u001b[0m , \u001b[31m466 it/s\u001b[0m ]\n",
      "\u001b[?25hUsing cuda device\n",
      "Track generation: 1056..1324 -> 268-tiles track\n",
      "Track generation: 1108..1389 -> 281-tiles track\n",
      "Track generation: 1104..1384 -> 280-tiles track\n",
      "Track generation: 1047..1319 -> 272-tiles track\n",
      "Track generation: 1164..1459 -> 295-tiles track\n",
      "Track generation: 1055..1332 -> 277-tiles track\n",
      "Track generation: 1136..1424 -> 288-tiles track\n",
      "Track generation: 1147..1438 -> 291-tiles track\n",
      "Track generation: 1112..1400 -> 288-tiles track\n",
      "Track generation: 1203..1508 -> 305-tiles track\n",
      "Track generation: 1136..1434 -> 298-tiles track\n",
      "Track generation: 1143..1442 -> 299-tiles track\n",
      "Track generation: 1127..1413 -> 286-tiles track\n",
      "Track generation: 1173..1478 -> 305-tiles track\n",
      "Track generation: 1321..1655 -> 334-tiles track\n",
      "Track generation: 1190..1492 -> 302-tiles track\n",
      "Logging to ./expert_logs/logs/expert57399_tensorboard/PPO_1\n",
      "\u001b[2K-----------------------------114m━━━━━━━━━━━━━━━━━━━━━━━━━━━\u001b[0m\u001b[38;2;249;38;114m╸\u001b[0m \u001b[32m1,968/2,000 \u001b[0m [ \u001b[33m0:00:03\u001b[0m < \u001b[36m0:00:01\u001b[0m , \u001b[31m547 it/s\u001b[0m ]m546 it/s\u001b[0m ]\n",
      "| time/              |      |\n",
      "|    fps             | 404  |\n",
      "|    iterations      | 1    |\n",
      "|    time_elapsed    | 5    |\n",
      "|    total_timesteps | 2048 |\n",
      "-----------------------------\n",
      "\u001b[2K\u001b[35m 100%\u001b[0m \u001b[38;2;114;156;31m━━━━━━━━━━━━━━━━━━━━━━━━━━━━\u001b[0m \u001b[32m2,048/2,000 \u001b[0m [ \u001b[33m0:00:04\u001b[0m < \u001b[36m0:00:00\u001b[0m , \u001b[31m463 it/s\u001b[0m ][31m547 it/s\u001b[0m ]\n",
      "\u001b[?25h^C\n"
     ]
    }
   ],
   "source": [
    "for i in np.random.randint(2**16, size=10):\n",
    "    !{interpreter} ../train_PPO_CarRacing_expert.py --log-prefix='./expert_logs/' --model-name=expert{i} --total-timesteps=2000"
   ]
  }
 ],
 "metadata": {
  "kernelspec": {
   "display_name": "rl-venv",
   "language": "python",
   "name": "rl-venv"
  },
  "language_info": {
   "codemirror_mode": {
    "name": "ipython",
    "version": 3
   },
   "file_extension": ".py",
   "mimetype": "text/x-python",
   "name": "python",
   "nbconvert_exporter": "python",
   "pygments_lexer": "ipython3",
   "version": "3.10.6"
  }
 },
 "nbformat": 4,
 "nbformat_minor": 5
}
