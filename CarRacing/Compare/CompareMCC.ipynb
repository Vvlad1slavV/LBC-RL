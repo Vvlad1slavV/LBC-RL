{
 "cells": [
  {
   "cell_type": "code",
   "execution_count": null,
   "id": "240f3d51-8557-4b15-babf-c0549b032679",
   "metadata": {},
   "outputs": [],
   "source": [
    "import numpy as np\n",
    "import sys\n",
    "interpreter = sys.executable\n",
    "print(interpreter)"
   ]
  },
  {
   "cell_type": "code",
   "execution_count": null,
   "id": "4ccf3dae-cb2d-4ad3-8b8a-8b0ef2c2bb3c",
   "metadata": {
    "tags": []
   },
   "outputs": [],
   "source": [
    "for i in np.random.randint(2**16, size=10):\n",
    "    !{interpreter} ../train_PPO_CarRacing_expert.py --seed={i} --total-timesteps=200_000 --eval-freq=250 --model-name=expert{i} --log-prefix='./expert_logs_200k2/' "
   ]
  }
 ],
 "metadata": {
  "kernelspec": {
   "display_name": "rl-venv",
   "language": "python",
   "name": "rl-venv"
  },
  "language_info": {
   "codemirror_mode": {
    "name": "ipython",
    "version": 3
   },
   "file_extension": ".py",
   "mimetype": "text/x-python",
   "name": "python",
   "nbconvert_exporter": "python",
   "pygments_lexer": "ipython3",
   "version": "3.10.6"
  }
 },
 "nbformat": 4,
 "nbformat_minor": 5
}
