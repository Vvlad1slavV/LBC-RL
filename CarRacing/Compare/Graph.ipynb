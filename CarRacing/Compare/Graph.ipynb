{
 "cells": [
  {
   "cell_type": "code",
   "execution_count": null,
   "id": "b0bf7aa3-f93d-4132-a03f-cfca76e26766",
   "metadata": {},
   "outputs": [],
   "source": [
    "import os\n",
    "import numpy as np\n",
    "import pandas as pd\n",
    "\n",
    "import glob\n",
    "import copy\n",
    "\n",
    "import matplotlib.pyplot as plt\n",
    "import seaborn as sns"
   ]
  },
  {
   "cell_type": "code",
   "execution_count": null,
   "id": "941fa530-bef2-477f-9733-136b3d753003",
   "metadata": {},
   "outputs": [],
   "source": [
    "data_expert_d = []\n",
    "for file in glob.glob('./expert_direction_seed/results/expert*/rewards.npz'):\n",
    "    ev = np.load(file)\n",
    "    data_expert_d.append(pd.DataFrame({'timesteps': (np.arange(0, len(ev['results']), 1)+1)*16384,\n",
    "                                       'reward': ev['results'],\n",
    "                                       'level': 'expert'}))\n",
    "    \n",
    "# data_expert_d_sde = []\n",
    "# for file in glob.glob('./expert_direction_seed_sde/results/expert*/rewards.npz'):\n",
    "#     ev = np.load(file)\n",
    "#     data_expert_d_sde.append(pd.DataFrame({'timesteps': (np.arange(0, len(ev['results']), 1)+1)*16384,\n",
    "#                                        'value': ev['results'],\n",
    "#                                        'level': 'expert'}))    \n",
    "    \n",
    "data_expert_xy = []    \n",
    "for file in glob.glob('./expert_xy_seed/results/expert*/rewards.npz'):\n",
    "    ev = np.load(file)\n",
    "    data_expert_xy.append(pd.DataFrame({'timesteps': (np.arange(0, len(ev['results']), 1)+1)*16384,\n",
    "                                       'reward': ev['results'],\n",
    "                                       'level': 'expert'}))    "
   ]
  },
  {
   "cell_type": "code",
   "execution_count": null,
   "id": "b8477917-1100-4115-a40e-e82eb095a8e0",
   "metadata": {},
   "outputs": [],
   "source": [
    "# data_expert = []\n",
    "# for file in glob.glob(log_prefix + 'results/expert*/evaluations.npz'):\n",
    "#     ev = np.load(file)\n",
    "#     for i in range(5):\n",
    "#         data_expert.append(pd.DataFrame({'timesteps': ev['timesteps'],\n",
    "#                                        'value': ev['results'][:, i],\n",
    "#                                        'level': 'expert'}))\n",
    "    \n",
    "# data_noob= []\n",
    "# for file in glob.glob(log_prefix +'results/noob*/evaluations.npz'):\n",
    "#     ev = np.load(file)\n",
    "#     for i in range(5):\n",
    "#         data_noob.append(pd.DataFrame({'timesteps': ev['timesteps'],\n",
    "#                                    'value': ev['results'][:, i],\n",
    "#                                    'level': 'noob'}))"
   ]
  },
  {
   "cell_type": "code",
   "execution_count": null,
   "id": "49c482b9-ed2f-4cb9-af7f-9894a33f27f2",
   "metadata": {},
   "outputs": [],
   "source": [
    "plt.figure()\n",
    "plot_data(data_expert_d, smooth=3, label='direction_obs')\n",
    "# plot_data(data_expert_d_sde, smooth=1, label='direction_obs_sde')\n",
    "plot_data(data_expert_xy, smooth=3, label='xy_obs')\n",
    "plt.savefig('Pictures/CarRacing_obs_comp.pdf', bbox_inches='tight')\n",
    "plt.show()"
   ]
  },
  {
   "cell_type": "code",
   "execution_count": null,
   "id": "67b89d91-42fa-4a26-8f22-06046e3ca58d",
   "metadata": {},
   "outputs": [],
   "source": [
    "def plot_data(data, xaxis='timesteps', value=\"reward\", smooth=1, **kwargs):\n",
    "    data = copy.deepcopy(data)\n",
    "    if smooth > 1:\n",
    "        \"\"\"\n",
    "        smooth data with moving window average.\n",
    "        that is,\n",
    "            smoothed_y[t] = average(y[t-k], y[t-k+1], ..., y[t+k-1], y[t+k])\n",
    "        where the \"smooth\" param is width of that window (2k+1)\n",
    "        \"\"\"\n",
    "        y = np.ones(smooth)\n",
    "        for datum in data:\n",
    "            x = np.asarray(datum[value])\n",
    "            z = np.ones(len(x))\n",
    "            smoothed_x = np.convolve(x,y,'same') / np.convolve(z,y,'same')\n",
    "            datum[value] = smoothed_x\n",
    "\n",
    "    if isinstance(data, list):\n",
    "        data = pd.concat(data, ignore_index=True)\n",
    "    sns.set(style=\"darkgrid\", font_scale=1.5)\n",
    "    sns.lineplot(data=data, x=xaxis, y=value, errorbar='sd', **kwargs)\n",
    "    \n",
    "    plt.legend(loc='upper center', ncol=6, handlelength=1,\n",
    "               mode=\"expand\", borderaxespad=0., prop={'size': 13})\n",
    "    # plt.legend(loc='best').set_draggable(True)\n",
    "    #plt.legend(loc='upper center', ncol=3, handlelength=1,\n",
    "    #           borderaxespad=0., prop={'size': 13})\n",
    "\n",
    "    \"\"\"\n",
    "    For the version of the legend used in the Spinning Up benchmarking page, \n",
    "    swap L38 with:\n",
    "    plt.legend(loc='upper center', ncol=6, handlelength=1,\n",
    "               mode=\"expand\", borderaxespad=0., prop={'size': 13})\n",
    "    \"\"\"\n",
    "\n",
    "    xscale = np.max(np.asarray(data[xaxis])) > 5e3\n",
    "    if xscale:\n",
    "        # Just some formatting niceness: x-axis scale in scientific notation if max x is large\n",
    "        plt.ticklabel_format(style='sci', axis='x', scilimits=(0,0))\n",
    "\n",
    "    plt.tight_layout(pad=0.5)"
   ]
  },
  {
   "cell_type": "code",
   "execution_count": null,
   "id": "103b1416-340f-4daf-b584-ac90f28f989a",
   "metadata": {},
   "outputs": [],
   "source": []
  }
 ],
 "metadata": {
  "kernelspec": {
   "display_name": "rl-venv",
   "language": "python",
   "name": "rl-venv"
  },
  "language_info": {
   "codemirror_mode": {
    "name": "ipython",
    "version": 3
   },
   "file_extension": ".py",
   "mimetype": "text/x-python",
   "name": "python",
   "nbconvert_exporter": "python",
   "pygments_lexer": "ipython3",
   "version": "3.10.6"
  }
 },
 "nbformat": 4,
 "nbformat_minor": 5
}
