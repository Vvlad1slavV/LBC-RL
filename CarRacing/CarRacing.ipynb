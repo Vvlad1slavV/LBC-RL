{
 "cells": [
  {
   "cell_type": "code",
   "execution_count": null,
   "id": "3863e714-e564-46fc-bf24-3be2952c9788",
   "metadata": {},
   "outputs": [],
   "source": [
    "# import sys\n",
    "# import gymnasium as gym\n",
    "# sys.modules[\"gym\"] = gym\n",
    "import gym\n",
    "gym.__version__"
   ]
  },
  {
   "cell_type": "code",
   "execution_count": null,
   "id": "cfe9d486-4ca7-4e23-b16f-986e123131f3",
   "metadata": {},
   "outputs": [],
   "source": [
    "from stable_baselines3 import PPO\n",
    "from stable_baselines3.common.monitor import Monitor\n",
    "from stable_baselines3.common.vec_env import DummyVecEnv, SubprocVecEnv\n",
    "from stable_baselines3.common.env_util import make_vec_env\n",
    "from stable_baselines3.common.callbacks import EvalCallback"
   ]
  },
  {
   "cell_type": "code",
   "execution_count": null,
   "id": "87c6a408-bfd2-41ac-a12a-7cfad5cd64b8",
   "metadata": {},
   "outputs": [],
   "source": [
    "import numpy as np\n",
    "import matplotlib.pyplot as plt\n",
    "\n",
    "from scipy.spatial import distance"
   ]
  },
  {
   "cell_type": "code",
   "execution_count": null,
   "id": "6a4df5ae-e0c2-4357-8b05-d755182ea168",
   "metadata": {},
   "outputs": [],
   "source": [
    "import gnwrapper"
   ]
  },
  {
   "cell_type": "code",
   "execution_count": null,
   "id": "671b7b9b-1a1d-45f5-a4fc-26bddab648e0",
   "metadata": {},
   "outputs": [],
   "source": [
    "env_id = \"CarRacing-v0\"\n",
    "NUM_CPU = 4  # Number0of processes to use"
   ]
  },
  {
   "cell_type": "code",
   "execution_count": null,
   "id": "3c005be9-a86a-4c49-9c5b-5c34f770445e",
   "metadata": {},
   "outputs": [],
   "source": [
    "env = gnwrapper.Animation(gym.make(env_id))\n",
    "env.reset()\n",
    "try:\n",
    "    track = np.array(env.track)\n",
    "    print(track.shape)\n",
    "    # plt.plot(track[:, 2], track[:, 3])\n",
    "    plt.scatter(track[:, 2], track[:, 3], c=-track[:, 1], cmap='gray')\n",
    "    car_position =  env.car.hull.position\n",
    "    car_angle = -env.car.hull.angle\n",
    "    \n",
    "    rot = np.array([[np.cos(car_angle), -np.sin(car_angle)], [np.sin(car_angle), np.cos(car_angle)]])\n",
    "    arg = np.argmin(distance.cdist([car_position], track[:, 2:4]))\n",
    "    track_size = track.shape[0]\n",
    "    path = rot @ (track[arg+1-track_size:arg+5-track_size:1, 2:4] - car_position).T\n",
    "    \n",
    "    print(path)\n",
    "    path_angles = np.arctan2(*path)\n",
    "    print(path_angles)\n",
    "except Exception as e:\n",
    "    print('ERROR', e)\n",
    "env.close()"
   ]
  },
  {
   "cell_type": "code",
   "execution_count": null,
   "id": "bfb03f68-b04b-4f5b-86b6-0130caa8fb61",
   "metadata": {},
   "outputs": [],
   "source": [
    "from scipy.spatial import distance\n",
    "class CarRacingGroundTruthObsWrapper(gym.ObservationWrapper):\n",
    "    def __init__(self, env):\n",
    "        super().__init__(env)\n",
    "        self.low_state = np.array(\n",
    "            [0, -np.pi, *[-float('inf'), -float('inf'), -np.pi]*4], dtype=np.float32\n",
    "        )\n",
    "        self.high_state = np.array(\n",
    "            [100, np.pi, *[float('inf'), float('inf'), np.pi]*4], dtype=np.float32\n",
    "        )\n",
    "        self.observation_space = gym.spaces.Box(\n",
    "            low=self.low_state, high=self.high_state, dtype=np.float32\n",
    "        )\n",
    "        \n",
    "    def observation(self, obs):\n",
    "        velocity = np.sqrt(\n",
    "            np.square(self.car.hull.linearVelocity[0])\n",
    "            + np.square(self.car.hull.linearVelocity[1])\n",
    "        )\n",
    "        angular_velocity = self.car.hull.angularVelocity\n",
    "        # ABS sensors\n",
    "        # abs_sensors = []\n",
    "        # for i in range(4):\n",
    "            # abs_sensors.append(0.01 * self.car.wheels[i].omega)\n",
    "        car_position =  self.car.hull.position\n",
    "        car_angle = -self.car.hull.angle\n",
    "        track = np.array(self.track)\n",
    "        \n",
    "        rot = np.array([[np.cos(car_angle), -np.sin(car_angle)], [np.sin(car_angle), np.cos(car_angle)]])\n",
    "        arg = np.argmin(distance.cdist([car_position], track[:, 2:4]))\n",
    "        track_size = track.shape[0]\n",
    "        path = rot @ (track[arg+1-track_size:arg+5-track_size:1, 2:4] - car_position).T\n",
    "        path_angles = np.expand_dims(np.arctan2(*path), axis=0)\n",
    "        \n",
    "        # print(path.shape, path_angles.shape)\n",
    "        # print(np.concatenate((path.T, path_angles.T), axis=1))\n",
    "        # print()\n",
    "        # print(path_angles)\n",
    "        return np.array([velocity, angular_velocity, *np.concatenate((path, path_angles), axis=0).ravel(order='F')])\n"
   ]
  },
  {
   "cell_type": "code",
   "execution_count": null,
   "id": "28e8a4be-a21c-4d6d-8bdb-600400eb7135",
   "metadata": {},
   "outputs": [],
   "source": [
    "# env = DummyVecEnv([lambda: CarRacingGroundTruthObsWrapper(gym.make(env_id))])\n",
    "from utils import CarRacingGroundTruthObsWrapper\n",
    "def wrapper(env):\n",
    "    env = CarRacingGroundTruthObsWrapper(env) \n",
    "    env = gnwrapper.Animation(env)\n",
    "    return env"
   ]
  },
  {
   "cell_type": "code",
   "execution_count": null,
   "id": "734fd67f-45a0-4a87-b17c-938aaf172f8b",
   "metadata": {},
   "outputs": [],
   "source": [
    "# def make_env(env_id):\n",
    "#     def _init():\n",
    "#         env = gym.make(env_id)\n",
    "#         env = wrapper(env)\n",
    "#         return env\n",
    "#     return _init\n",
    "\n",
    "# env = gym.make(env_id)\n",
    "# env = CarRacingGroundTruthObsWrapper(env)\n",
    "# env = SubprocVecEnv([make_env(env_id) for _ in range(1)])\n",
    "# env = SubprocVecEnv([lambda: wrapper(gym.make(env_id))])\n",
    "\n",
    "env = make_vec_env(env_id, n_envs=NUM_CPU, wrapper_class=wrapper)\n",
    "env.observation_space"
   ]
  },
  {
   "cell_type": "code",
   "execution_count": null,
   "id": "2dd4aaf9-a729-404d-9a8f-33e448aba49b",
   "metadata": {},
   "outputs": [],
   "source": [
    "from typing import Callable\n",
    "def linear_schedule(initial_value: float) -> Callable[[float], float]:\n",
    "    \"\"\"\n",
    "    Linear learning rate schedule.\n",
    "\n",
    "    :param initial_value: Initial learning rate.\n",
    "    :return: schedule that computes\n",
    "      current learning rate depending on remaining progress\n",
    "    \"\"\"\n",
    "    def func(progress_remaining: float) -> float:\n",
    "        \"\"\"\n",
    "        Progress will decrease from 1 (beginning) to 0.\n",
    "\n",
    "        :param progress_remaining:\n",
    "        :return: current learning rate\n",
    "        \"\"\"\n",
    "        return progress_remaining * initial_value\n",
    "\n",
    "    return func"
   ]
  },
  {
   "cell_type": "code",
   "execution_count": null,
   "id": "648c5201-6e07-4689-9551-ea4da24919fd",
   "metadata": {
    "tags": []
   },
   "outputs": [],
   "source": [
    "model = PPO(\"MlpPolicy\",\n",
    "            env,\n",
    "            verbose=1,\n",
    "            seed=0,\n",
    "            batch_size=512,\n",
    "            learning_rate=linear_schedule(1e-03),\n",
    "            n_epochs=10,\n",
    "            n_steps=8*NUM_CPU,\n",
    "           )\n",
    "model.learn(total_timesteps=100_000, progress_bar=True)\n",
    "\n",
    "env.close()"
   ]
  },
  {
   "cell_type": "code",
   "execution_count": null,
   "id": "9c939904-f25f-4e4b-b34e-a68b547681a6",
   "metadata": {},
   "outputs": [],
   "source": [
    "model = PPO.load(\"ppo_CarRacing_expert\", print_system_info=True)"
   ]
  },
  {
   "cell_type": "code",
   "execution_count": null,
   "id": "17b5697f-7f67-40f0-aadb-c84e7093ae88",
   "metadata": {},
   "outputs": [],
   "source": [
    "env = gym.make(env_id)\n",
    "env = wrapper(env)\n",
    "# env = CarRacingGroundTruthObsWrapper(env)\n",
    "\n",
    "# env = gnwrapper.Monitor(env, directory=\"CarRacing/video\")\n",
    "# env = gym.wrappers.RecordVideo(env, 'CarRacing/video')\n",
    "\n",
    "obs = env.reset()\n",
    "while True:\n",
    "    action, _states = model.predict(obs)\n",
    "    obs, rewards, dones, info = env.step(action)\n",
    "    env.render()\n",
    "    if dones:\n",
    "        break\n",
    "    \n",
    "env.close()"
   ]
  },
  {
   "cell_type": "code",
   "execution_count": null,
   "id": "46da193b-5fae-43da-a6ca-f211783822b1",
   "metadata": {},
   "outputs": [],
   "source": [
    "env = DummyVecEnv([lambda: CarRacingGroundTruthObsWrapper(gym.make(env_id))])\n",
    "# env = gnwrapper.Animation(env)\n",
    "\n",
    "# env = DummyVecEnv([lambda: env])\n",
    "obs = env.reset()\n",
    "for _ in range(10000):\n",
    "    action, _states = model.predict(obs)\n",
    "    # action = np.array([0.1, 0.01, 0])\n",
    "    obs, rewards, dones, info = env.step(action)\n",
    "    env.render()"
   ]
  }
 ],
 "metadata": {
  "kernelspec": {
   "display_name": "rl-venv",
   "language": "python",
   "name": "rl-venv"
  },
  "language_info": {
   "codemirror_mode": {
    "name": "ipython",
    "version": 3
   },
   "file_extension": ".py",
   "mimetype": "text/x-python",
   "name": "python",
   "nbconvert_exporter": "python",
   "pygments_lexer": "ipython3",
   "version": "3.10.6"
  }
 },
 "nbformat": 4,
 "nbformat_minor": 5
}
