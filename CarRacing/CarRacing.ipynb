{
 "cells": [
  {
   "cell_type": "code",
   "execution_count": 1,
   "id": "3863e714-e564-46fc-bf24-3be2952c9788",
   "metadata": {},
   "outputs": [
    {
     "data": {
      "text/plain": [
       "'0.21.0'"
      ]
     },
     "execution_count": 1,
     "metadata": {},
     "output_type": "execute_result"
    }
   ],
   "source": [
    "# import sys\n",
    "# import gymnasium as gym\n",
    "# sys.modules[\"gym\"] = gym\n",
    "import gym\n",
    "gym.__version__"
   ]
  },
  {
   "cell_type": "code",
   "execution_count": 2,
   "id": "cfe9d486-4ca7-4e23-b16f-986e123131f3",
   "metadata": {},
   "outputs": [],
   "source": [
    "from stable_baselines3 import PPO\n",
    "from stable_baselines3.common.monitor import Monitor\n",
    "from stable_baselines3.common.vec_env import DummyVecEnv, SubprocVecEnv\n",
    "from stable_baselines3.common.env_util import make_vec_env\n",
    "from stable_baselines3.common.callbacks import EvalCallback"
   ]
  },
  {
   "cell_type": "code",
   "execution_count": 3,
   "id": "87c6a408-bfd2-41ac-a12a-7cfad5cd64b8",
   "metadata": {},
   "outputs": [
    {
     "name": "stdout",
     "output_type": "stream",
     "text": [
      "True\n"
     ]
    }
   ],
   "source": [
    "import os\n",
    "import numpy as np\n",
    "import torch\n",
    "print(torch.cuda.is_available())"
   ]
  },
  {
   "cell_type": "code",
   "execution_count": 4,
   "id": "6a4df5ae-e0c2-4357-8b05-d755182ea168",
   "metadata": {},
   "outputs": [],
   "source": [
    "import gnwrapper"
   ]
  },
  {
   "cell_type": "code",
   "execution_count": 5,
   "id": "671b7b9b-1a1d-45f5-a4fc-26bddab648e0",
   "metadata": {},
   "outputs": [],
   "source": [
    "env_id = \"CarRacing-v0\"\n",
    "NUM_CPU = 4  # Number0of processes to use"
   ]
  },
  {
   "cell_type": "markdown",
   "id": "807864ff-03bb-46af-b9a4-9a3c9e38f166",
   "metadata": {},
   "source": [
    "# Observ Wrapper\n",
    "```\n",
    "import gym\n",
    "from scipy.spatial import distance\n",
    "import numpy as np\n",
    "\n",
    "class CarRacingGroundTruthObsWrapper(gym.ObservationWrapper):\n",
    "    def __init__(self, env, num_obs_points: int = 6):\n",
    "        super().__init__(env)\n",
    "        self.num_obs_points = num_obs_points\n",
    "        self.low_state = np.array(\n",
    "            [0, -np.pi, *[-float('inf'), -float('inf'), -np.pi]*self.num_obs_points], dtype=np.float32\n",
    "        )\n",
    "        self.high_state = np.array(\n",
    "            [100, np.pi, *[float('inf'), float('inf'), np.pi]*self.num_obs_points], dtype=np.float32\n",
    "        )\n",
    "        self.observation_space = gym.spaces.Box(\n",
    "            low=self.low_state, high=self.high_state, dtype=np.float32\n",
    "        )\n",
    "        \n",
    "    def observation(self, obs):\n",
    "        velocity = np.sqrt(\n",
    "            np.square(self.car.hull.linearVelocity[0])\n",
    "            + np.square(self.car.hull.linearVelocity[1])\n",
    "        )\n",
    "        angular_velocity = self.car.hull.angularVelocity\n",
    "        # ABS sensors\n",
    "        # abs_sensors = []\n",
    "        # for i in range(4):\n",
    "            # abs_sensors.append(0.01 * self.car.wheels[i].omega)\n",
    "        car_position =  np.array(self.car.hull.position)\n",
    "        car_angle = -self.car.hull.angle\n",
    "\n",
    "        track = np.array(self.track)\n",
    "        track_size = track.shape[0]\n",
    "\n",
    "        rot = np.array([[np.cos(car_angle), -np.sin(car_angle)], [np.sin(car_angle), np.cos(car_angle)]])\n",
    "        arg = np.argmin(distance.cdist([car_position], track[:, 2:4]))\n",
    "        path = rot @ (track[np.r_[arg+1-track_size:arg+1+self.num_obs_points-track_size], 2:4] - car_position).T\n",
    "        path_angles = np.expand_dims(np.arctan2(*path), axis=0)\n",
    "        \n",
    "        return np.array([velocity, angular_velocity, *np.concatenate((path, path_angles), axis=0).ravel(order='F')])\n",
    "```"
   ]
  },
  {
   "cell_type": "code",
   "execution_count": 6,
   "id": "28e8a4be-a21c-4d6d-8bdb-600400eb7135",
   "metadata": {},
   "outputs": [],
   "source": [
    "# env = DummyVecEnv([lambda: CarRacingGroundTruthObsWrapper(gym.make(env_id))])\n",
    "from utils import CarRacingGroundTruthObsWrapper\n",
    "def wrapper(env):\n",
    "    env = CarRacingGroundTruthObsWrapper(env) \n",
    "    env = gnwrapper.Animation(env)\n",
    "    return env"
   ]
  },
  {
   "cell_type": "markdown",
   "id": "a61156d4-a45b-41dc-b53f-373f9e62fe67",
   "metadata": {},
   "source": [
    "# Training 'expert' and 'noob' policy\n",
    "Skip this if you have trained policies\n",
    "\n",
    "In this notebool used DummyVecEnv, it doesn't support Multi Processing. If you have a power PC, I recomend use PPO_CarRacing.py for training"
   ]
  },
  {
   "cell_type": "markdown",
   "id": "08db813e-8bd3-4227-aba9-c5e02c8e2353",
   "metadata": {
    "tags": []
   },
   "source": [
    "## Training with multiprocessin, SubprocVecEnv (recomended)"
   ]
  },
  {
   "cell_type": "code",
   "execution_count": 4,
   "id": "39249516-a76b-4210-9fe6-453feed77b18",
   "metadata": {},
   "outputs": [
    {
     "name": "stdout",
     "output_type": "stream",
     "text": [
      "/home/vlad1slav/Diploma/rl-venv/bin/python\n"
     ]
    }
   ],
   "source": [
    "import sys\n",
    "interpreter = sys.executable\n",
    "print(interpreter)"
   ]
  },
  {
   "cell_type": "code",
   "execution_count": null,
   "id": "9ee2d0df-7d73-407e-8006-5582b269fd86",
   "metadata": {},
   "outputs": [],
   "source": [
    "!{interpreter} PPO_CarRacing_expert_train.py"
   ]
  },
  {
   "cell_type": "code",
   "execution_count": 3,
   "id": "ae48fe68-2f5b-43cf-abd7-f3056748e898",
   "metadata": {
    "collapsed": true,
    "jupyter": {
     "outputs_hidden": true
    },
    "tags": []
   },
   "outputs": [
    {
     "name": "stdout",
     "output_type": "stream",
     "text": [
      "Using cuda device\n",
      "Track generation: 1056..1324 -> 268-tiles track\n",
      "Track generation: 1108..1389 -> 281-tiles track\n",
      "Track generation: 1127..1413 -> 286-tiles track\n",
      "Track generation: 1112..1400 -> 288-tiles track\n",
      "Track generation: 1055..1332 -> 277-tiles track\n",
      "Track generation: 1203..1508 -> 305-tiles track\n",
      "Track generation: 1136..1434 -> 298-tiles track\n",
      "Track generation: 1143..1442 -> 299-tiles track\n",
      "Track generation: 1164..1459 -> 295-tiles track\n",
      "Track generation: 1047..1319 -> 272-tiles track\n",
      "Track generation: 1147..1438 -> 291-tiles track\n",
      "Track generation: 1173..1478 -> 305-tiles track\n",
      "Track generation: 1104..1384 -> 280-tiles track\n",
      "Track generation: 1190..1492 -> 302-tiles track\n",
      "Track generation: 1321..1655 -> 334-tiles track\n",
      "Track generation: 1136..1424 -> 288-tiles track\n",
      "Logging to ./test/logs/expert0_tensorboard/PPO_4\n",
      "\u001b[2K-----------------------------;31m━━━━━━━━━━━━━━━━━━━━━━━━━━━━\u001b[0m \u001b[32m2,000/1,000 \u001b[0m [ \u001b[33m0:00:03\u001b[0m < \u001b[36m0:00:00\u001b[0m , \u001b[31m535 it/s\u001b[0m ][36m0:00:01\u001b[0m , \u001b[31m470 it/s\u001b[0m ]\n",
      "| time/              |      |\n",
      "|    fps             | 311  |\n",
      "|    iterations      | 1    |\n",
      "|    time_elapsed    | 6    |\n",
      "|    total_timesteps | 2048 |\n",
      "-----------------------------\n",
      "\u001b[2K\u001b[35m 100%\u001b[0m \u001b[38;2;114;156;31m━━━━━━━━━━━━━━━━━━━━━━━━━━━━\u001b[0m \u001b[32m2,048/1,000 \u001b[0m [ \u001b[33m0:00:03\u001b[0m < \u001b[36m0:00:00\u001b[0m , \u001b[31m479 it/s\u001b[0m ]\n",
      "\u001b[?25hUsing cuda device\n",
      "Track generation: 1056..1324 -> 268-tiles track\n",
      "Track generation: 1104..1384 -> 280-tiles track\n",
      "Track generation: 1127..1413 -> 286-tiles track\n",
      "Track generation: 1108..1389 -> 281-tiles track\n",
      "Track generation: 1147..1438 -> 291-tiles track\n",
      "Track generation: 1136..1424 -> 288-tiles track\n",
      "Track generation: 1164..1459 -> 295-tiles track\n",
      "Track generation: 1203..1508 -> 305-tiles track\n",
      "Track generation: 1112..1400 -> 288-tiles track\n",
      "Track generation: 1055..1332 -> 277-tiles track\n",
      "Track generation: 1143..1442 -> 299-tiles track\n",
      "Track generation: 1136..1434 -> 298-tiles track\n",
      "Track generation: 1047..1319 -> 272-tiles track\n",
      "Track generation: 1173..1478 -> 305-tiles track\n",
      "Track generation: 1321..1655 -> 334-tiles track\n",
      "Track generation: 1190..1492 -> 302-tiles track\n",
      "Logging to ./test/logs/expert1_tensorboard/PPO_1\n",
      "\u001b[2K-----------------------------;31m━━━━━━━━━━━━━━━━━━━━━━━━━━━━\u001b[0m \u001b[32m1,984/1,000 \u001b[0m [ \u001b[33m0:00:01\u001b[0m < \u001b[36m0:00:00\u001b[0m , \u001b[31m695 it/s\u001b[0m ]0:01\u001b[0m , \u001b[31m689 it/s\u001b[0m ]s\u001b[0m ]\n",
      "| time/              |      |\n",
      "|    fps             | 458  |\n",
      "|    iterations      | 1    |\n",
      "|    time_elapsed    | 4    |\n",
      "|    total_timesteps | 2048 |\n",
      "-----------------------------\n",
      "\u001b[2K\u001b[35m 100%\u001b[0m \u001b[38;2;114;156;31m━━━━━━━━━━━━━━━━━━━━━━━━━━━━\u001b[0m \u001b[32m2,048/1,000 \u001b[0m [ \u001b[33m0:00:01\u001b[0m < \u001b[36m0:00:00\u001b[0m , \u001b[31m600 it/s\u001b[0m ]\n",
      "\u001b[?25hUsing cuda device\n",
      "Track generation: 1056..1324 -> 268-tiles track\n",
      "Track generation: 1108..1389 -> 281-tiles track\n",
      "Track generation: 1104..1384 -> 280-tiles track\n",
      "Track generation: 1047..1319 -> 272-tiles track\n",
      "Track generation: 1147..1438 -> 291-tiles track\n",
      "Track generation: 1127..1413 -> 286-tiles track\n",
      "Track generation: 1055..1332 -> 277-tiles track\n",
      "Track generation: 1136..1424 -> 288-tiles track\n",
      "Track generation: 1112..1400 -> 288-tiles track\n",
      "Track generation: 1203..1508 -> 305-tiles track\n",
      "Track generation: 1136..1434 -> 298-tiles track\n",
      "Track generation: 1143..1442 -> 299-tiles track\n",
      "Track generation: 1164..1459 -> 295-tiles track\n",
      "Track generation: 1190..1492 -> 302-tiles track\n",
      "Track generation: 1173..1478 -> 305-tiles track\n",
      "Track generation: 1321..1655 -> 334-tiles track\n",
      "Logging to ./test/logs/expert2_tensorboard/PPO_1\n",
      "\u001b[2K-----------------------------;31m━━━━━━━━━━━━━━━━━━━━━━━━━━━━\u001b[0m \u001b[32m1,968/1,000 \u001b[0m [ \u001b[33m0:00:01\u001b[0m < \u001b[36m0:00:00\u001b[0m , \u001b[31m644 it/s\u001b[0m ]0:01\u001b[0m , \u001b[31m657 it/s\u001b[0m ]s\u001b[0m ]\n",
      "| time/              |      |\n",
      "|    fps             | 443  |\n",
      "|    iterations      | 1    |\n",
      "|    time_elapsed    | 4    |\n",
      "|    total_timesteps | 2048 |\n",
      "-----------------------------\n",
      "\u001b[2K\u001b[35m 100%\u001b[0m \u001b[38;2;114;156;31m━━━━━━━━━━━━━━━━━━━━━━━━━━━━\u001b[0m \u001b[32m2,048/1,000 \u001b[0m [ \u001b[33m0:00:01\u001b[0m < \u001b[36m0:00:00\u001b[0m , \u001b[31m551 it/s\u001b[0m ]\n",
      "\u001b[?25hUsing cuda device\n",
      "Track generation: 1056..1324 -> 268-tiles track\n",
      "Track generation: 1108..1389 -> 281-tiles track\n",
      "Track generation: 1127..1413 -> 286-tiles track\n",
      "Track generation: 1047..1319 -> 272-tiles track\n",
      "Track generation: 1164..1459 -> 295-tiles track\n",
      "Track generation: 1055..1332 -> 277-tiles track\n",
      "Track generation: 1147..1438 -> 291-tiles track\n",
      "Track generation: 1203..1508 -> 305-tiles track\n",
      "Track generation: 1112..1400 -> 288-tiles track\n",
      "Track generation: 1143..1442 -> 299-tiles track\n",
      "Track generation: 1136..1434 -> 298-tiles track\n",
      "Track generation: 1136..1424 -> 288-tiles track\n",
      "Track generation: 1104..1384 -> 280-tiles track\n",
      "Track generation: 1190..1492 -> 302-tiles track\n",
      "Track generation: 1321..1655 -> 334-tiles track\n",
      "Track generation: 1173..1478 -> 305-tiles track\n",
      "Logging to ./test/logs/expert3_tensorboard/PPO_1\n",
      "\u001b[2K-----------------------------;31m━━━━━━━━━━━━━━━━━━━━━━━━━━━━\u001b[0m \u001b[32m2,000/1,000 \u001b[0m [ \u001b[33m0:00:02\u001b[0m < \u001b[36m0:00:00\u001b[0m , \u001b[31m599 it/s\u001b[0m ]m619 it/s\u001b[0m ]m621 it/s\u001b[0m ]s\u001b[0m ]\n",
      "| time/              |      |\n",
      "|    fps             | 419  |\n",
      "|    iterations      | 1    |\n",
      "|    time_elapsed    | 4    |\n",
      "|    total_timesteps | 2048 |\n",
      "-----------------------------\n",
      "\u001b[2K\u001b[35m 100%\u001b[0m \u001b[38;2;114;156;31m━━━━━━━━━━━━━━━━━━━━━━━━━━━━\u001b[0m \u001b[32m2,048/1,000 \u001b[0m [ \u001b[33m0:00:02\u001b[0m < \u001b[36m0:00:00\u001b[0m , \u001b[31m541 it/s\u001b[0m ]\n",
      "\u001b[?25hUsing cuda device\n",
      "Track generation: 1056..1324 -> 268-tiles track\n",
      "Track generation: 1108..1389 -> 281-tiles track\n",
      "Track generation: 1127..1413 -> 286-tiles track\n",
      "Track generation: 1164..1459 -> 295-tiles track\n",
      "Track generation: 1047..1319 -> 272-tiles track\n",
      "Track generation: 1203..1508 -> 305-tiles track\n",
      "Track generation: 1147..1438 -> 291-tiles track\n",
      "Track generation: 1104..1384 -> 280-tiles track\n",
      "Track generation: 1173..1478 -> 305-tiles track\n",
      "Track generation: 1190..1492 -> 302-tiles track\n",
      "Track generation: 1321..1655 -> 334-tiles track\n",
      "Track generation: 1136..1424 -> 288-tiles track\n",
      "Track generation: 1055..1332 -> 277-tiles track\n",
      "Track generation: 1112..1400 -> 288-tiles track\n",
      "Track generation: 1143..1442 -> 299-tiles track\n",
      "Track generation: 1136..1434 -> 298-tiles track\n",
      "Logging to ./test/logs/expert4_tensorboard/PPO_1\n",
      "\u001b[2K-----------------------------;31m━━━━━━━━━━━━━━━━━━━━━━━━━━━━\u001b[0m \u001b[32m1,936/1,000 \u001b[0m [ \u001b[33m0:00:01\u001b[0m < \u001b[36m0:00:00\u001b[0m , \u001b[31m692 it/s\u001b[0m ]m702 it/s\u001b[0m ] , \u001b[31m702 it/s\u001b[0m ]\n",
      "| time/              |      |\n",
      "|    fps             | 480  |\n",
      "|    iterations      | 1    |\n",
      "|    time_elapsed    | 4    |\n",
      "|    total_timesteps | 2048 |\n",
      "-----------------------------\n",
      "\u001b[2K\u001b[35m 100%\u001b[0m \u001b[38;2;114;156;31m━━━━━━━━━━━━━━━━━━━━━━━━━━━━\u001b[0m \u001b[32m2,048/1,000 \u001b[0m [ \u001b[33m0:00:01\u001b[0m < \u001b[36m0:00:00\u001b[0m , \u001b[31m586 it/s\u001b[0m ]\n",
      "\u001b[?25hUsing cuda device\n",
      "Traceback (most recent call last):\n",
      "  File \"/home/vlad1slav/Diploma/LBC-RL/CarRacing/PPO_CarRacing_expert_train.py\", line 95, in <module>\n",
      "    main(opt)\n",
      "  File \"/home/vlad1slav/Diploma/LBC-RL/CarRacing/PPO_CarRacing_expert_train.py\", line 55, in main\n",
      "    model = PPO(\"MlpPolicy\",\n",
      "  File \"/home/vlad1slav/Diploma/rl-venv/lib/python3.10/site-packages/stable_baselines3/ppo/ppo.py\", line 161, in __init__\n",
      "    self._setup_model()\n",
      "  File \"/home/vlad1slav/Diploma/rl-venv/lib/python3.10/site-packages/stable_baselines3/ppo/ppo.py\", line 164, in _setup_model\n",
      "    super()._setup_model()\n",
      "  File \"/home/vlad1slav/Diploma/rl-venv/lib/python3.10/site-packages/stable_baselines3/common/on_policy_algorithm.py\", line 104, in _setup_model\n",
      "    self.set_random_seed(self.seed)\n",
      "  File \"/home/vlad1slav/Diploma/rl-venv/lib/python3.10/site-packages/stable_baselines3/common/base_class.py\", line 550, in set_random_seed\n",
      "    self.env.seed(seed)\n",
      "  File \"/home/vlad1slav/Diploma/rl-venv/lib/python3.10/site-packages/stable_baselines3/common/vec_env/subproc_vec_env.py\", line 131, in seed\n",
      "    return [remote.recv() for remote in self.remotes]\n",
      "  File \"/home/vlad1slav/Diploma/rl-venv/lib/python3.10/site-packages/stable_baselines3/common/vec_env/subproc_vec_env.py\", line 131, in <listcomp>\n",
      "    return [remote.recv() for remote in self.remotes]\n",
      "  File \"/usr/lib/python3.10/multiprocessing/connection.py\", line 250, in recv\n",
      "    buf = self._recv_bytes()\n",
      "  File \"/usr/lib/python3.10/multiprocessing/connection.py\", line 414, in _recv_bytes\n",
      "    buf = self._recv(4)\n",
      "  File \"/usr/lib/python3.10/multiprocessing/connection.py\", line 379, in _recv\n",
      "    chunk = read(handle, remaining)\n",
      "ConnectionResetError: [Errno 104] Connection reset by peer\n",
      "Using cuda device\n",
      "Track generation: 1056..1324 -> 268-tiles track\n",
      "Track generation: 1108..1389 -> 281-tiles track\n",
      "Track generation: 1047..1319 -> 272-tiles track\n",
      "Track generation: 1127..1413 -> 286-tiles track\n",
      "Track generation: 1164..1459 -> 295-tiles track\n",
      "Track generation: 1055..1332 -> 277-tiles track\n",
      "Track generation: 1147..1438 -> 291-tiles track\n",
      "Track generation: 1112..1400 -> 288-tiles track\n",
      "Track generation: 1143..1442 -> 299-tiles track\n",
      "Track generation: 1136..1434 -> 298-tiles track\n",
      "Track generation: 1203..1508 -> 305-tiles track\n",
      "Track generation: 1136..1424 -> 288-tiles track\n",
      "Track generation: 1104..1384 -> 280-tiles track\n",
      "Track generation: 1173..1478 -> 305-tiles track\n",
      "Track generation: 1321..1655 -> 334-tiles track\n",
      "Track generation: 1190..1492 -> 302-tiles track\n",
      "Logging to ./test/logs/expert6_tensorboard/PPO_1\n",
      "\u001b[2K-----------------------------;31m━━━━━━━━━━━━━━━━━━━━━━━━━━━━\u001b[0m \u001b[32m2,000/1,000 \u001b[0m [ \u001b[33m0:00:01\u001b[0m < \u001b[36m0:00:00\u001b[0m , \u001b[31m692 it/s\u001b[0m ][36m0:00:01\u001b[0m , \u001b[31m680 it/s\u001b[0m ]\n",
      "| time/              |      |\n",
      "|    fps             | 480  |\n",
      "|    iterations      | 1    |\n",
      "|    time_elapsed    | 4    |\n",
      "|    total_timesteps | 2048 |\n",
      "-----------------------------\n",
      "\u001b[2K\u001b[35m 100%\u001b[0m \u001b[38;2;114;156;31m━━━━━━━━━━━━━━━━━━━━━━━━━━━━\u001b[0m \u001b[32m2,048/1,000 \u001b[0m [ \u001b[33m0:00:01\u001b[0m < \u001b[36m0:00:00\u001b[0m , \u001b[31m588 it/s\u001b[0m ]\n",
      "\u001b[?25hUsing cuda device\n",
      "Track generation: 1056..1324 -> 268-tiles track\n",
      "Track generation: 1108..1389 -> 281-tiles track\n",
      "Track generation: 1104..1384 -> 280-tiles track\n",
      "Track generation: 1136..1424 -> 288-tiles track\n",
      "Track generation: 1127..1413 -> 286-tiles track\n",
      "Track generation: 1055..1332 -> 277-tiles track\n",
      "Track generation: 1147..1438 -> 291-tiles track\n",
      "Track generation: 1112..1400 -> 288-tiles track\n",
      "Track generation: 1164..1459 -> 295-tiles track\n",
      "Track generation: 1143..1442 -> 299-tiles track\n",
      "Track generation: 1136..1434 -> 298-tiles track\n",
      "Track generation: 1173..1478 -> 305-tiles track\n",
      "Track generation: 1047..1319 -> 272-tiles track\n",
      "Track generation: 1203..1508 -> 305-tiles track\n",
      "Track generation: 1190..1492 -> 302-tiles track\n",
      "Track generation: 1321..1655 -> 334-tiles track\n",
      "Logging to ./test/logs/expert7_tensorboard/PPO_1\n",
      "\u001b[2K-----------------------------;31m━━━━━━━━━━━━━━━━━━━━━━━━━━━━\u001b[0m \u001b[32m1,952/1,000 \u001b[0m [ \u001b[33m0:00:02\u001b[0m < \u001b[36m0:00:00\u001b[0m , \u001b[31m626 it/s\u001b[0m ] , \u001b[31m650 it/s\u001b[0m ]/s\u001b[0m ]s\u001b[0m ]\n",
      "| time/              |      |\n",
      "|    fps             | 415  |\n",
      "|    iterations      | 1    |\n",
      "|    time_elapsed    | 4    |\n",
      "|    total_timesteps | 2048 |\n",
      "-----------------------------\n",
      "\u001b[2K\u001b[35m 100%\u001b[0m \u001b[38;2;114;156;31m━━━━━━━━━━━━━━━━━━━━━━━━━━━━\u001b[0m \u001b[32m2,048/1,000 \u001b[0m [ \u001b[33m0:00:02\u001b[0m < \u001b[36m0:00:00\u001b[0m , \u001b[31m584 it/s\u001b[0m ]\n",
      "\u001b[?25hUsing cuda device\n",
      "Track generation: 1056..1324 -> 268-tiles track\n",
      "Track generation: 1108..1389 -> 281-tiles track\n",
      "Track generation: 1127..1413 -> 286-tiles track\n",
      "Track generation: 1047..1319 -> 272-tiles track\n",
      "Track generation: 1147..1438 -> 291-tiles track\n",
      "Track generation: 1164..1459 -> 295-tiles track\n",
      "Track generation: 1203..1508 -> 305-tiles track\n",
      "Track generation: 1112..1400 -> 288-tiles track\n",
      "Track generation: 1136..1434 -> 298-tiles track\n",
      "Track generation: 1055..1332 -> 277-tiles track\n",
      "Track generation: 1143..1442 -> 299-tiles track\n",
      "Track generation: 1136..1424 -> 288-tiles track\n",
      "Track generation: 1104..1384 -> 280-tiles track\n",
      "Track generation: 1321..1655 -> 334-tiles track\n",
      "Track generation: 1173..1478 -> 305-tiles track\n",
      "Track generation: 1190..1492 -> 302-tiles track\n",
      "Logging to ./test/logs/expert8_tensorboard/PPO_1\n",
      "\u001b[2K-----------------------------;31m━━━━━━━━━━━━━━━━━━━━━━━━━━━━\u001b[0m \u001b[32m1,968/1,000 \u001b[0m [ \u001b[33m0:00:01\u001b[0m < \u001b[36m0:00:00\u001b[0m , \u001b[31m659 it/s\u001b[0m ][36m0:00:01\u001b[0m , \u001b[31m649 it/s\u001b[0m ]\n",
      "| time/              |      |\n",
      "|    fps             | 456  |\n",
      "|    iterations      | 1    |\n",
      "|    time_elapsed    | 4    |\n",
      "|    total_timesteps | 2048 |\n",
      "-----------------------------\n",
      "\u001b[2K\u001b[35m 100%\u001b[0m \u001b[38;2;114;156;31m━━━━━━━━━━━━━━━━━━━━━━━━━━━━\u001b[0m \u001b[32m2,048/1,000 \u001b[0m [ \u001b[33m0:00:01\u001b[0m < \u001b[36m0:00:00\u001b[0m , \u001b[31m659 it/s\u001b[0m ]\n",
      "\u001b[?25hUsing cuda device\n",
      "Track generation: 1056..1324 -> 268-tiles track\n",
      "Track generation: 1108..1389 -> 281-tiles track\n",
      "Track generation: 1127..1413 -> 286-tiles track\n",
      "Track generation: 1047..1319 -> 272-tiles track\n",
      "Track generation: 1136..1424 -> 288-tiles track\n",
      "Track generation: 1164..1459 -> 295-tiles track\n",
      "Track generation: 1147..1438 -> 291-tiles track\n",
      "Track generation: 1055..1332 -> 277-tiles track\n",
      "Track generation: 1112..1400 -> 288-tiles track\n",
      "Track generation: 1203..1508 -> 305-tiles track\n",
      "Track generation: 1143..1442 -> 299-tiles track\n",
      "Track generation: 1136..1434 -> 298-tiles track\n",
      "Track generation: 1104..1384 -> 280-tiles track\n",
      "Track generation: 1173..1478 -> 305-tiles track\n",
      "Track generation: 1321..1655 -> 334-tiles track\n",
      "Track generation: 1190..1492 -> 302-tiles track\n",
      "Logging to ./test/logs/expert9_tensorboard/PPO_1\n",
      "\u001b[2K-----------------------------;31m━━━━━━━━━━━━━━━━━━━━━━━━━━━━\u001b[0m \u001b[32m1,920/1,000 \u001b[0m [ \u001b[33m0:00:01\u001b[0m < \u001b[36m0:00:00\u001b[0m , \u001b[31m669 it/s\u001b[0m ][36m0:00:01\u001b[0m , \u001b[31m677 it/s\u001b[0m ]\n",
      "| time/              |      |\n",
      "|    fps             | 460  |\n",
      "|    iterations      | 1    |\n",
      "|    time_elapsed    | 4    |\n",
      "|    total_timesteps | 2048 |\n",
      "-----------------------------\n",
      "\u001b[2K\u001b[35m 100%\u001b[0m \u001b[38;2;114;156;31m━━━━━━━━━━━━━━━━━━━━━━━━━━━━\u001b[0m \u001b[32m2,048/1,000 \u001b[0m [ \u001b[33m0:00:01\u001b[0m < \u001b[36m0:00:00\u001b[0m , \u001b[31m565 it/s\u001b[0m ]\n",
      "\u001b[?25h"
     ]
    }
   ],
   "source": [
    "for i in range(10):\n",
    "    !{interpreter} PPO_CarRacing_expert_train.py --log-prefix='./' --model-name=expert{i} --total-timesteps=200_000"
   ]
  },
  {
   "cell_type": "markdown",
   "id": "f576bc14-0b05-4a54-ace5-4c5c5dc1bb8c",
   "metadata": {
    "jp-MarkdownHeadingCollapsed": true,
    "tags": []
   },
   "source": [
    "## Training without multiprocessing, DummyVecEnv"
   ]
  },
  {
   "cell_type": "code",
   "execution_count": null,
   "id": "734fd67f-45a0-4a87-b17c-938aaf172f8b",
   "metadata": {},
   "outputs": [],
   "source": [
    "env = make_vec_env(env_id, n_envs=NUM_CPU, wrapper_class=wrapper)\n",
    "env.observation_space"
   ]
  },
  {
   "cell_type": "code",
   "execution_count": null,
   "id": "648c5201-6e07-4689-9551-ea4da24919fd",
   "metadata": {
    "tags": []
   },
   "outputs": [],
   "source": [
    "from utils import linear_schedule\n",
    "\n",
    "model = PPO(\"MlpPolicy\",\n",
    "            env,\n",
    "            verbose=1,\n",
    "            seed=0,\n",
    "            batch_size=512,\n",
    "            learning_rate=linear_schedule(1e-03),\n",
    "            n_epochs=10,\n",
    "            n_steps=8*NUM_CPU,\n",
    "           )\n",
    "model.learn(total_timesteps=100_000, progress_bar=True)\n",
    "model = PPO.save(\"ppo_CarRacing_expert\")\n",
    "\n",
    "env.close()"
   ]
  },
  {
   "cell_type": "code",
   "execution_count": 27,
   "id": "9c939904-f25f-4e4b-b34e-a68b547681a6",
   "metadata": {},
   "outputs": [
    {
     "data": {
      "text/plain": [
       "(1, 96, 96)"
      ]
     },
     "execution_count": 27,
     "metadata": {},
     "output_type": "execute_result"
    }
   ],
   "source": [
    "from stable_baselines3.common.vec_env import VecTransposeImage\n",
    "\n",
    "def wrapper_image(env):\n",
    "    env = gym.wrappers.gray_scale_observation.GrayScaleObservation(env, keep_dim=True)\n",
    "    env = gnwrapper.Animation(env)\n",
    "    return env\n",
    "env = make_vec_env(env_id, n_envs=NUM_CPU, wrapper_class=wrapper_image)\n",
    "env = VecTransposeImage(env)\n",
    "\n",
    "env.observation_space.shape"
   ]
  },
  {
   "cell_type": "code",
   "execution_count": 25,
   "id": "e9ed00f0-1de1-466a-9f27-126b2906fe12",
   "metadata": {
    "tags": []
   },
   "outputs": [],
   "source": [
    "from stable_baselines3.common.policies import ActorCriticCnnPolicy\n",
    "policy=ActorCriticCnnPolicy(\n",
    "                             observation_space=env.observation_space,\n",
    "                             action_space=env.action_space,\n",
    "                             lr_schedule=lambda _: torch.finfo(torch.float32).max,\n",
    "                             # net_arch=dict(pi=[256], vf=[256]),\n",
    "                             # net_arch=[256, 256],\n",
    "                             # activation_fn = nn.LeakyReLU,\n",
    "                             # ortho_init=False,\n",
    "                             )"
   ]
  },
  {
   "cell_type": "code",
   "execution_count": null,
   "id": "07d7ffff-fd6e-4819-854e-b1b8923ab524",
   "metadata": {},
   "outputs": [],
   "source": [
    "# OrderedDict([('batch_size', 128),\n",
    "#              ('clip_range', 0.2),\n",
    "#              ('ent_coef', 0.0),\n",
    "#              ('env_wrapper',\n",
    "#               [{'rl_zoo3.wrappers.FrameSkip': {'skip': 2}},\n",
    "#                {'gym.wrappers.resize_observation.ResizeObservation': {'shape': 64}},\n",
    "#                {'gym.wrappers.gray_scale_observation.GrayScaleObservation': {'keep_dim': True}}]),\n",
    "#              ('frame_stack', 2),\n",
    "#              ('gae_lambda', 0.95),\n",
    "#              ('gamma', 0.99),\n",
    "#              ('learning_rate', 'lin_1e-4'),\n",
    "#              ('max_grad_norm', 0.5),\n",
    "#              ('n_envs', 8),\n",
    "#              ('n_epochs', 10),\n",
    "#              ('n_steps', 512),\n",
    "#              ('n_timesteps', 4000000.0),\n",
    "#              ('normalize', \"{'norm_obs': False, 'norm_reward': True}\"),\n",
    "#              ('policy', 'CnnPolicy'),\n",
    "#              ('policy_kwargs',\n",
    "#               'dict(log_std_init=-2, ortho_init=False, activation_fn=nn.GELU, '\n",
    "#               'net_arch=dict(pi=[256], vf=[256]), )'),\n",
    "#              ('sde_sample_freq', 4),\n",
    "#              ('use_sde', True),\n",
    "#              ('vf_coef', 0.5),\n",
    "#              ('normalize_kwargs', {'norm_obs': False, 'norm_reward': False})])\n"
   ]
  },
  {
   "cell_type": "code",
   "execution_count": 28,
   "id": "6ea41f3e-8bfb-4be5-9801-c3083d411786",
   "metadata": {},
   "outputs": [
    {
     "name": "stdout",
     "output_type": "stream",
     "text": [
      "Using cuda device\n"
     ]
    }
   ],
   "source": [
    "from utils import linear_schedule\n",
    "# env = gym.make(env_id)\n",
    "\n",
    "# Hyperparameters from https://huggingface.co/sb3/ppo-CarRacing-v0\n",
    "model = PPO('CnnPolicy',\n",
    "            env,\n",
    "            verbose=1,\n",
    "            seed=0,\n",
    "            batch_size=128,\n",
    "            learning_rate=linear_schedule(1e-04),\n",
    "            n_epochs=10,\n",
    "            n_steps=8*NUM_CPU,\n",
    "           )\n",
    "# model.learn(total_timesteps=100_000, progress_bar=True)\n",
    "# model = PPO.save(\"ppo_CarRacing_noob\", print_system_info=True)\n",
    "\n",
    "# env.close()"
   ]
  },
  {
   "cell_type": "code",
   "execution_count": 29,
   "id": "a2d5dc68-9a40-4f09-96ee-7a79ed22c2fb",
   "metadata": {},
   "outputs": [
    {
     "data": {
      "text/plain": [
       "(1, 96, 96)"
      ]
     },
     "execution_count": 29,
     "metadata": {},
     "output_type": "execute_result"
    }
   ],
   "source": [
    "model.observation_space.shape"
   ]
  },
  {
   "cell_type": "markdown",
   "id": "82901ce8-4473-4530-8ce6-b6cf45be473f",
   "metadata": {},
   "source": [
    "# Visual testing of policies"
   ]
  },
  {
   "cell_type": "code",
   "execution_count": null,
   "id": "17b5697f-7f67-40f0-aadb-c84e7093ae88",
   "metadata": {},
   "outputs": [
    {
     "data": {
      "image/png": "[encoded data removed]",
      "text/plain": [
       "<Figure size 640x480 with 1 Axes>"
      ]
     },
     "metadata": {},
     "output_type": "display_data"
    }
   ],
   "source": [
    "env = make_vec_env(env_id,\n",
    "                        wrapper_class=wrapper,\n",
    "                        n_envs=1)\n",
    "\n",
    "# expert = PPO.load(\"./logs/ppo_MountainCar_expert.zip\", print_system_info=True)\n",
    "expert = PPO.load(\"./policy/ppo_CarRacing_expert-1kk.zip\", print_system_info=True)\n",
    "\n",
    "obs = env.reset()\n",
    "while True:\n",
    "    action, _states = expert.predict(obs)\n",
    "    obs, rewards, dones, info = env.step(action)\n",
    "    env.render()\n",
    "    # print(obs)\n",
    "    if dones:\n",
    "        break\n",
    "    \n",
    "env.close()"
   ]
  },
  {
   "cell_type": "code",
   "execution_count": null,
   "id": "0909cfcd-09ed-44a2-9d02-b73d0a78b2e8",
   "metadata": {},
   "outputs": [],
   "source": []
  },
  {
   "cell_type": "code",
   "execution_count": null,
   "id": "46da193b-5fae-43da-a6ca-f211783822b1",
   "metadata": {},
   "outputs": [],
   "source": [
    "env = DummyVecEnv([lambda: CarRacingGroundTruthObsWrapper(gym.make(env_id))])\n",
    "# env = gnwrapper.Animation(env)\n",
    "\n",
    "# env = DummyVecEnv([lambda: env])\n",
    "obs = env.reset()\n",
    "for _ in range(10000):\n",
    "    action, _states = model.predict(obs)\n",
    "    # action = np.array([0.1, 0.01, 0])\n",
    "    obs, rewards, dones, info = env.step(action)\n",
    "    env.render()"
   ]
  }
 ],
 "metadata": {
  "kernelspec": {
   "display_name": "rl-venv",
   "language": "python",
   "name": "rl-venv"
  },
  "language_info": {
   "codemirror_mode": {
    "name": "ipython",
    "version": 3
   },
   "file_extension": ".py",
   "mimetype": "text/x-python",
   "name": "python",
   "nbconvert_exporter": "python",
   "pygments_lexer": "ipython3",
   "version": "3.10.6"
  }
 },
 "nbformat": 4,
 "nbformat_minor": 5
}
