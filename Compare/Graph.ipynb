{
 "cells": [
  {
   "cell_type": "code",
   "execution_count": null,
   "id": "b0bf7aa3-f93d-4132-a03f-cfca76e26766",
   "metadata": {},
   "outputs": [],
   "source": [
    "import os\n",
    "import numpy as np\n",
    "import pandas as pd\n",
    "\n",
    "import glob\n",
    "import copy\n",
    "\n",
    "import matplotlib.pyplot as plt\n",
    "import seaborn as sns"
   ]
  },
  {
   "cell_type": "code",
   "execution_count": null,
   "id": "6dcab474-6c0c-4645-934a-b33689192d7b",
   "metadata": {},
   "outputs": [],
   "source": [
    "timesteps = []\n",
    "results = []\n",
    "for i in range(10):\n",
    "    ev = np.load(f'results/expert{i}/evaluations.npz')\n",
    "    timesteps.append(ev['timesteps'])\n",
    "    results.append(ev['results'])\n",
    "\n",
    "timestep = np.array(timesteps)[0]\n",
    "results = np.array(results)\n",
    "results = results.transpose(1,0,2).reshape(123, -1)\n",
    "results.shape"
   ]
  },
  {
   "cell_type": "code",
   "execution_count": null,
   "id": "4f16f12d-e7ca-4d6d-b911-e4897b105c7b",
   "metadata": {},
   "outputs": [],
   "source": [
    "log_prefix = './test2kk/'"
   ]
  },
  {
   "cell_type": "code",
   "execution_count": null,
   "id": "b8477917-1100-4115-a40e-e82eb095a8e0",
   "metadata": {},
   "outputs": [],
   "source": [
    "data_expert = []\n",
    "for file in glob.glob(log_prefix + 'results/expert*/evaluations.npz'):\n",
    "    ev = np.load(file)\n",
    "    for i in range(5):\n",
    "        data_expert.append(pd.DataFrame({'timesteps': ev['timesteps'],\n",
    "                                       'value': ev['results'][:, i],\n",
    "                                       'level': 'expert'}))\n",
    "    \n",
    "data_noob= []\n",
    "for file in glob.glob(log_prefix +'results/noob*/evaluations.npz'):\n",
    "    ev = np.load(file)\n",
    "    for i in range(5):\n",
    "        data_noob.append(pd.DataFrame({'timesteps': ev['timesteps'],\n",
    "                                   'value': ev['results'][:, i],\n",
    "                                   'level': 'noob'}))"
   ]
  },
  {
   "cell_type": "code",
   "execution_count": null,
   "id": "1d969986-93bb-4a65-8588-3776772d1191",
   "metadata": {},
   "outputs": [],
   "source": [
    "data_expert = []\n",
    "for file in glob.glob(log_prefix + 'results/expert*/evaluations.npz'):\n",
    "    ev = np.load(file)\n",
    "    data_expert.append(pd.DataFrame({'timesteps': ev['timesteps'],\n",
    "                                       'value': np.mean(ev['results'], axis=1),\n",
    "                                       'level': 'expert'}))\n",
    "    \n",
    "data_noob= []\n",
    "for file in glob.glob(log_prefix + 'results/noob*/evaluations.npz'):\n",
    "    ev = np.load(file)\n",
    "    data_noob.append(pd.DataFrame({'timesteps': ev['timesteps'],\n",
    "                                   'value': np.mean(ev['results'], axis=1),\n",
    "                                   'level': 'noob'}))"
   ]
  },
  {
   "cell_type": "code",
   "execution_count": null,
   "id": "49c482b9-ed2f-4cb9-af7f-9894a33f27f2",
   "metadata": {},
   "outputs": [],
   "source": [
    "plt.figure()\n",
    "plot_data(data_expert, smooth=5, label='high_obs')\n",
    "plot_data(data_noob, smooth=5, label='standart_obs')\n",
    "plt.show()"
   ]
  },
  {
   "cell_type": "code",
   "execution_count": null,
   "id": "67b89d91-42fa-4a26-8f22-06046e3ca58d",
   "metadata": {},
   "outputs": [],
   "source": [
    "def plot_data(data, xaxis='timesteps', value=\"value\", smooth=1, **kwargs):\n",
    "    data = copy.deepcopy(data)\n",
    "    if smooth > 1:\n",
    "        \"\"\"\n",
    "        smooth data with moving window average.\n",
    "        that is,\n",
    "            smoothed_y[t] = average(y[t-k], y[t-k+1], ..., y[t+k-1], y[t+k])\n",
    "        where the \"smooth\" param is width of that window (2k+1)\n",
    "        \"\"\"\n",
    "        y = np.ones(smooth)\n",
    "        for datum in data:\n",
    "            x = np.asarray(datum[value])\n",
    "            z = np.ones(len(x))\n",
    "            smoothed_x = np.convolve(x,y,'same') / np.convolve(z,y,'same')\n",
    "            datum[value] = smoothed_x\n",
    "\n",
    "    if isinstance(data, list):\n",
    "        data = pd.concat(data, ignore_index=True)\n",
    "    sns.set(style=\"darkgrid\", font_scale=1.5)\n",
    "    sns.lineplot(data=data, x=xaxis, y=value, errorbar='sd', **kwargs)\n",
    "    \n",
    "    plt.legend(loc='upper center', ncol=6, handlelength=1,\n",
    "               mode=\"expand\", borderaxespad=0., prop={'size': 13})\n",
    "    # plt.legend(loc='best').set_draggable(True)\n",
    "    #plt.legend(loc='upper center', ncol=3, handlelength=1,\n",
    "    #           borderaxespad=0., prop={'size': 13})\n",
    "\n",
    "    \"\"\"\n",
    "    For the version of the legend used in the Spinning Up benchmarking page, \n",
    "    swap L38 with:\n",
    "    plt.legend(loc='upper center', ncol=6, handlelength=1,\n",
    "               mode=\"expand\", borderaxespad=0., prop={'size': 13})\n",
    "    \"\"\"\n",
    "\n",
    "    xscale = np.max(np.asarray(data[xaxis])) > 5e3\n",
    "    if xscale:\n",
    "        # Just some formatting niceness: x-axis scale in scientific notation if max x is large\n",
    "        plt.ticklabel_format(style='sci', axis='x', scilimits=(0,0))\n",
    "\n",
    "    plt.tight_layout(pad=0.5)"
   ]
  },
  {
   "cell_type": "code",
   "execution_count": null,
   "id": "103b1416-340f-4daf-b584-ac90f28f989a",
   "metadata": {},
   "outputs": [],
   "source": []
  }
 ],
 "metadata": {
  "kernelspec": {
   "display_name": "rl-venv",
   "language": "python",
   "name": "rl-venv"
  },
  "language_info": {
   "codemirror_mode": {
    "name": "ipython",
    "version": 3
   },
   "file_extension": ".py",
   "mimetype": "text/x-python",
   "name": "python",
   "nbconvert_exporter": "python",
   "pygments_lexer": "ipython3",
   "version": "3.10.6"
  }
 },
 "nbformat": 4,
 "nbformat_minor": 5
}
