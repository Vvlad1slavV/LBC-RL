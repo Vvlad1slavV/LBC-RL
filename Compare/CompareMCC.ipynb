{
 "cells": [
  {
   "cell_type": "code",
   "execution_count": null,
   "id": "abbb5298-0b6a-4bef-8024-20a6cb3e6a39",
   "metadata": {},
   "outputs": [],
   "source": [
    "# import sys\n",
    "# import gymnasium as gym\n",
    "# sys.modules[\"gym\"] = gym\n",
    "import gym\n",
    "gym.__version__"
   ]
  },
  {
   "cell_type": "code",
   "execution_count": null,
   "id": "df857733-b157-4bd0-8a21-d7171cea1613",
   "metadata": {},
   "outputs": [],
   "source": [
    "import os\n",
    "import numpy as np\n",
    "np.random.seed(0)\n",
    "import torch\n",
    "print(torch.cuda.is_available())"
   ]
  },
  {
   "cell_type": "code",
   "execution_count": null,
   "id": "42f07806-1850-4c51-9ab8-b2726cb6616a",
   "metadata": {},
   "outputs": [],
   "source": [
    "from stable_baselines3 import PPO\n",
    "from stable_baselines3.common.monitor import Monitor\n",
    "from stable_baselines3.common.vec_env import DummyVecEnv, SubprocVecEnv\n",
    "from stable_baselines3.common.env_util import make_vec_env\n",
    "from stable_baselines3.common.callbacks import EvalCallback"
   ]
  },
  {
   "cell_type": "code",
   "execution_count": null,
   "id": "d0d02e91-15ab-4543-8aa0-09f38f7a585d",
   "metadata": {},
   "outputs": [],
   "source": [
    "env_id = \"MountainCarContinuous-v0\"\n",
    "NUM_CPU = 32  # Number of processes to use"
   ]
  },
  {
   "cell_type": "code",
   "execution_count": null,
   "id": "7501a6f6-c4b8-4435-a867-c7d5fbd28d87",
   "metadata": {},
   "outputs": [],
   "source": [
    "# Parallel environments\n",
    "train_env_f = make_vec_env(env_id, n_envs=NUM_CPU)\n",
    "train_env_f.observation_space"
   ]
  },
  {
   "cell_type": "code",
   "execution_count": null,
   "id": "376716b4-b46c-4841-b75c-0c7a9f09e70d",
   "metadata": {},
   "outputs": [],
   "source": [
    "log_prefix = './test2kk/'"
   ]
  },
  {
   "cell_type": "code",
   "execution_count": null,
   "id": "415d36c7-59d9-4319-afa7-94229a459fac",
   "metadata": {},
   "outputs": [],
   "source": [
    "# for i in range(10):\n",
    "for i in np.random.randint(2**16, size=10):\n",
    "    model = PPO(\"MlpPolicy\", \n",
    "            train_env_f,\n",
    "            verbose=1, \n",
    "            seed=int(i),\n",
    "            batch_size=512,\n",
    "            learning_rate=7.77e-05,\n",
    "            n_epochs=10,\n",
    "            n_steps=8*NUM_CPU,\n",
    "            gae_lambda=0.9,\n",
    "            gamma=0.9999,\n",
    "            max_grad_norm=5,\n",
    "            use_sde=True,\n",
    "            tensorboard_log= log_prefix + \"logs/ppo_MountainCar_tensorboard_expert/\")\n",
    "    \n",
    "    eval_callback = EvalCallback(train_env_f, \n",
    "                                 best_model_save_path= log_prefix + f\"best_models/expert{i}\",\n",
    "                                 log_path= log_prefix + f\"results/expert{i}\",\n",
    "                                 eval_freq=2**14/NUM_CPU,\n",
    "                                 deterministic=True, render=False)\n",
    "\n",
    "    model.learn(total_timesteps=2_000_000, callback=eval_callback, progress_bar=True)\n",
    "    model.save(log_prefix + f\"/models/expert{i}\")"
   ]
  },
  {
   "cell_type": "code",
   "execution_count": null,
   "id": "7559f72c-df15-4cb8-b32e-2c74a39b924f",
   "metadata": {},
   "outputs": [],
   "source": [
    "train_env = make_vec_env(env_id, \n",
    "                         env_kwargs=dict(\n",
    "                            full_obs=False\n",
    "                         ),\n",
    "                         n_envs=NUM_CPU)\n",
    "train_env.observation_space"
   ]
  },
  {
   "cell_type": "code",
   "execution_count": null,
   "id": "9a42a288-0528-4397-977e-40d98da51ebd",
   "metadata": {},
   "outputs": [],
   "source": [
    "# for i in range(10):\n",
    "for i in np.random.randint(2**16, size=10):\n",
    "    model = PPO(\"MlpPolicy\", \n",
    "            train_env,\n",
    "            verbose=1, \n",
    "            seed=int(i),\n",
    "            batch_size=512,\n",
    "            learning_rate=7.77e-05,\n",
    "            n_epochs=10,\n",
    "            n_steps=8*NUM_CPU,\n",
    "            gae_lambda=0.9,\n",
    "            gamma=0.9999,\n",
    "            max_grad_norm=5,\n",
    "            use_sde=True,\n",
    "            tensorboard_log= log_prefix + \"logs/ppo_MountainCar_tensorboard_noob/\")\n",
    "    \n",
    "    eval_callback = EvalCallback(train_env, \n",
    "                                 best_model_save_path=log_prefix + f\"best_models/noob{i}\",\n",
    "                                 log_path=log_prefix + f\"results/noob{i}\",\n",
    "                                 eval_freq=2**14/NUM_CPU,\n",
    "                                 deterministic=True, render=False)\n",
    "\n",
    "    model.learn(total_timesteps=2_000_000, callback=eval_callback, progress_bar=True)\n",
    "    model.save(log_prefix + f\"models/noob{i}\")"
   ]
  },
  {
   "cell_type": "code",
   "execution_count": null,
   "id": "240f3d51-8557-4b15-babf-c0549b032679",
   "metadata": {},
   "outputs": [],
   "source": []
  }
 ],
 "metadata": {
  "kernelspec": {
   "display_name": "rl-venv",
   "language": "python",
   "name": "rl-venv"
  },
  "language_info": {
   "codemirror_mode": {
    "name": "ipython",
    "version": 3
   },
   "file_extension": ".py",
   "mimetype": "text/x-python",
   "name": "python",
   "nbconvert_exporter": "python",
   "pygments_lexer": "ipython3",
   "version": "3.10.6"
  }
 },
 "nbformat": 4,
 "nbformat_minor": 5
}
