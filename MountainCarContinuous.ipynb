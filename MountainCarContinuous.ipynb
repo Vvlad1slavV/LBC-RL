{
 "cells": [
  {
   "cell_type": "code",
   "execution_count": 1,
   "metadata": {},
   "outputs": [
    {
     "data": {
      "text/plain": [
       "'0.21.0'"
      ]
     },
     "execution_count": 1,
     "metadata": {},
     "output_type": "execute_result"
    }
   ],
   "source": [
    "# import sys\n",
    "# import gymnasium as gym\n",
    "# sys.modules[\"gym\"] = gym\n",
    "import gym\n",
    "gym.__version__"
   ]
  },
  {
   "cell_type": "code",
   "execution_count": 2,
   "metadata": {},
   "outputs": [],
   "source": [
    "import gnwrapper"
   ]
  },
  {
   "cell_type": "code",
   "execution_count": 3,
   "metadata": {},
   "outputs": [
    {
     "name": "stdout",
     "output_type": "stream",
     "text": [
      "True\n"
     ]
    }
   ],
   "source": [
    "import os\n",
    "import numpy as np\n",
    "import torch\n",
    "print(torch.cuda.is_available())"
   ]
  },
  {
   "cell_type": "code",
   "execution_count": 4,
   "metadata": {},
   "outputs": [],
   "source": [
    "from stable_baselines3 import PPO\n",
    "from stable_baselines3.common.monitor import Monitor\n",
    "from stable_baselines3.common.vec_env import DummyVecEnv, SubprocVecEnv\n",
    "from stable_baselines3.common.env_util import make_vec_env\n",
    "from stable_baselines3.common.callbacks import EvalCallback"
   ]
  },
  {
   "cell_type": "code",
   "execution_count": 5,
   "metadata": {},
   "outputs": [],
   "source": [
    "env_id = \"MountainCarContinuous-v0\"\n",
    "NUM_CPU = 32  # Number of processes to use"
   ]
  },
  {
   "cell_type": "code",
   "execution_count": 6,
   "metadata": {
    "tags": []
   },
   "outputs": [
    {
     "data": {
      "text/plain": [
       "Box([-1.2  -0.07 -3.  ], [0.6  0.07 3.  ], (3,), float32)"
      ]
     },
     "execution_count": 6,
     "metadata": {},
     "output_type": "execute_result"
    }
   ],
   "source": [
    "# Parallel environments\n",
    "train_env = make_vec_env(env_id, n_envs=NUM_CPU)\n",
    "train_env.observation_space"
   ]
  },
  {
   "cell_type": "code",
   "execution_count": 7,
   "metadata": {
    "collapsed": true,
    "jupyter": {
     "outputs_hidden": true
    },
    "tags": []
   },
   "outputs": [
    {
     "name": "stdout",
     "output_type": "stream",
     "text": [
      "Using cuda device\n",
      "Logging to ./logs/ppo_MountainCar_tensorboard/PPO_1\n"
     ]
    },
    {
     "data": {
      "text/html": [
       "<pre style=\"white-space:pre;overflow-x:auto;line-height:normal;font-family:Menlo,'DejaVu Sans Mono',consolas,'Courier New',monospace\"></pre>\n"
      ],
      "text/plain": [
       "\u001b[?25l"
      ]
     },
     "metadata": {},
     "output_type": "display_data"
    },
    {
     "data": {
      "application/vnd.jupyter.widget-view+json": {
       "model_id": "d84d992f6ce54114bace4aa8fa976acd",
       "version_major": 2,
       "version_minor": 0
      },
      "text/plain": [
       "Output()"
      ]
     },
     "metadata": {},
     "output_type": "display_data"
    },
    {
     "name": "stdout",
     "output_type": "stream",
     "text": [
      "------------------------------\n",
      "| time/              |       |\n",
      "|    fps             | 10362 |\n",
      "|    iterations      | 1     |\n",
      "|    time_elapsed    | 0     |\n",
      "|    total_timesteps | 8192  |\n",
      "------------------------------\n"
     ]
    },
    {
     "data": {
      "text/html": [
       "<pre style=\"white-space:pre;overflow-x:auto;line-height:normal;font-family:Menlo,'DejaVu Sans Mono',consolas,'Courier New',monospace\">\r",
       "\u001b[2KEval num_timesteps=16000, episode_reward=-8.74 +/- 0.25\n",
       "<span style=\"color: #800080; text-decoration-color: #800080\">  15%</span> <span style=\"color: #f92672; text-decoration-color: #f92672\">━━━━━━━━╸</span><span style=\"color: #3a3a3a; text-decoration-color: #3a3a3a\">━━━━━━━━━━━━━━━━━━━━━━━━━━━━━━━━━━━━━━━━━━━━━━━━━</span> <span style=\"color: #008000; text-decoration-color: #008000\">15,072/100,000 </span> [ <span style=\"color: #808000; text-decoration-color: #808000\">0:00:03</span> &lt; <span style=\"color: #008080; text-decoration-color: #008080\">0:00:10</span> , <span style=\"color: #800000; text-decoration-color: #800000\">8,589 it/s</span> ]</pre>\n"
      ],
      "text/plain": [
       "\r",
       "\u001b[2KEval num_timesteps=16000, episode_reward=-8.74 +/- 0.25\n",
       "\u001b[35m  15%\u001b[0m \u001b[38;2;249;38;114m━━━━━━━━\u001b[0m\u001b[38;2;249;38;114m╸\u001b[0m\u001b[38;5;237m━━━━━━━━━━━━━━━━━━━━━━━━━━━━━━━━━━━━━━━━━━━━━━━━━\u001b[0m \u001b[32m15,072/100,000 \u001b[0m [ \u001b[33m0:00:03\u001b[0m < \u001b[36m0:00:10\u001b[0m , \u001b[31m8,589 it/s\u001b[0m ]"
      ]
     },
     "metadata": {},
     "output_type": "display_data"
    },
    {
     "data": {
      "text/html": [
       "<pre style=\"white-space:pre;overflow-x:auto;line-height:normal;font-family:Menlo,'DejaVu Sans Mono',consolas,'Courier New',monospace\">\r",
       "\u001b[2KEpisode length: 999.00 +/- 0.00\n",
       "<span style=\"color: #800080; text-decoration-color: #800080\">  15%</span> <span style=\"color: #f92672; text-decoration-color: #f92672\">━━━━━━━━╸</span><span style=\"color: #3a3a3a; text-decoration-color: #3a3a3a\">━━━━━━━━━━━━━━━━━━━━━━━━━━━━━━━━━━━━━━━━━━━━━━━━━</span> <span style=\"color: #008000; text-decoration-color: #008000\">15,072/100,000 </span> [ <span style=\"color: #808000; text-decoration-color: #808000\">0:00:03</span> &lt; <span style=\"color: #008080; text-decoration-color: #008080\">0:00:10</span> , <span style=\"color: #800000; text-decoration-color: #800000\">8,589 it/s</span> ]</pre>\n"
      ],
      "text/plain": [
       "\r",
       "\u001b[2KEpisode length: 999.00 +/- 0.00\n",
       "\u001b[35m  15%\u001b[0m \u001b[38;2;249;38;114m━━━━━━━━\u001b[0m\u001b[38;2;249;38;114m╸\u001b[0m\u001b[38;5;237m━━━━━━━━━━━━━━━━━━━━━━━━━━━━━━━━━━━━━━━━━━━━━━━━━\u001b[0m \u001b[32m15,072/100,000 \u001b[0m [ \u001b[33m0:00:03\u001b[0m < \u001b[36m0:00:10\u001b[0m , \u001b[31m8,589 it/s\u001b[0m ]"
      ]
     },
     "metadata": {},
     "output_type": "display_data"
    },
    {
     "name": "stdout",
     "output_type": "stream",
     "text": [
      "-----------------------------------------\n",
      "| eval/                   |             |\n",
      "|    mean_ep_length       | 999         |\n",
      "|    mean_reward          | -8.74       |\n",
      "| time/                   |             |\n",
      "|    total_timesteps      | 16000       |\n",
      "| train/                  |             |\n",
      "|    approx_kl            | 0.006472579 |\n",
      "|    clip_fraction        | 0.0144      |\n",
      "|    clip_range           | 0.2         |\n",
      "|    entropy_loss         | -2.64       |\n",
      "|    explained_variance   | 0.156       |\n",
      "|    learning_rate        | 7.77e-05    |\n",
      "|    loss                 | 0.108       |\n",
      "|    n_updates            | 10          |\n",
      "|    policy_gradient_loss | 0.0189      |\n",
      "|    std                  | 0.988       |\n",
      "|    value_loss           | 0.227       |\n",
      "-----------------------------------------\n"
     ]
    },
    {
     "data": {
      "text/html": [
       "<pre style=\"white-space:pre;overflow-x:auto;line-height:normal;font-family:Menlo,'DejaVu Sans Mono',consolas,'Courier New',monospace\">\r",
       "\u001b[2KNew best mean reward!\n",
       "<span style=\"color: #800080; text-decoration-color: #800080\">  15%</span> <span style=\"color: #f92672; text-decoration-color: #f92672\">━━━━━━━━╸</span><span style=\"color: #3a3a3a; text-decoration-color: #3a3a3a\">━━━━━━━━━━━━━━━━━━━━━━━━━━━━━━━━━━━━━━━━━━━━━━━━━</span> <span style=\"color: #008000; text-decoration-color: #008000\">15,072/100,000 </span> [ <span style=\"color: #808000; text-decoration-color: #808000\">0:00:03</span> &lt; <span style=\"color: #008080; text-decoration-color: #008080\">0:00:10</span> , <span style=\"color: #800000; text-decoration-color: #800000\">8,589 it/s</span> ]</pre>\n"
      ],
      "text/plain": [
       "\r",
       "\u001b[2KNew best mean reward!\n",
       "\u001b[35m  15%\u001b[0m \u001b[38;2;249;38;114m━━━━━━━━\u001b[0m\u001b[38;2;249;38;114m╸\u001b[0m\u001b[38;5;237m━━━━━━━━━━━━━━━━━━━━━━━━━━━━━━━━━━━━━━━━━━━━━━━━━\u001b[0m \u001b[32m15,072/100,000 \u001b[0m [ \u001b[33m0:00:03\u001b[0m < \u001b[36m0:00:10\u001b[0m , \u001b[31m8,589 it/s\u001b[0m ]"
      ]
     },
     "metadata": {},
     "output_type": "display_data"
    },
    {
     "name": "stdout",
     "output_type": "stream",
     "text": [
      "------------------------------\n",
      "| time/              |       |\n",
      "|    fps             | 4167  |\n",
      "|    iterations      | 2     |\n",
      "|    time_elapsed    | 3     |\n",
      "|    total_timesteps | 16384 |\n",
      "------------------------------\n",
      "----------------------------------------\n",
      "| time/                   |            |\n",
      "|    fps                  | 4580       |\n",
      "|    iterations           | 3          |\n",
      "|    time_elapsed         | 5          |\n",
      "|    total_timesteps      | 24576      |\n",
      "| train/                  |            |\n",
      "|    approx_kl            | 0.10134855 |\n",
      "|    clip_fraction        | 0.277      |\n",
      "|    clip_range           | 0.2        |\n",
      "|    entropy_loss         | -2.83      |\n",
      "|    explained_variance   | -0.0235    |\n",
      "|    learning_rate        | 7.77e-05   |\n",
      "|    loss                 | 0.265      |\n",
      "|    n_updates            | 20         |\n",
      "|    policy_gradient_loss | 0.104      |\n",
      "|    std                  | 0.973      |\n",
      "|    value_loss           | 0.269      |\n",
      "----------------------------------------\n"
     ]
    },
    {
     "data": {
      "text/html": [
       "<pre style=\"white-space:pre;overflow-x:auto;line-height:normal;font-family:Menlo,'DejaVu Sans Mono',consolas,'Courier New',monospace\">\r",
       "\u001b[2KEval num_timesteps=32000, episode_reward=-35.07 +/- 1.41\n",
       "<span style=\"color: #800080; text-decoration-color: #800080\">  31%</span> <span style=\"color: #f92672; text-decoration-color: #f92672\">━━━━━━━━━━━━━━━━━╸</span><span style=\"color: #3a3a3a; text-decoration-color: #3a3a3a\">━━━━━━━━━━━━━━━━━━━━━━━━━━━━━━━━━━━━━━━━</span> <span style=\"color: #008000; text-decoration-color: #008000\">30,592/100,000 </span> [ <span style=\"color: #808000; text-decoration-color: #808000\">0:00:08</span> &lt; <span style=\"color: #008080; text-decoration-color: #008080\">0:00:15</span> , <span style=\"color: #800000; text-decoration-color: #800000\">4,860 it/s</span> ]</pre>\n"
      ],
      "text/plain": [
       "\r",
       "\u001b[2KEval num_timesteps=32000, episode_reward=-35.07 +/- 1.41\n",
       "\u001b[35m  31%\u001b[0m \u001b[38;2;249;38;114m━━━━━━━━━━━━━━━━━\u001b[0m\u001b[38;2;249;38;114m╸\u001b[0m\u001b[38;5;237m━━━━━━━━━━━━━━━━━━━━━━━━━━━━━━━━━━━━━━━━\u001b[0m \u001b[32m30,592/100,000 \u001b[0m [ \u001b[33m0:00:08\u001b[0m < \u001b[36m0:00:15\u001b[0m , \u001b[31m4,860 it/s\u001b[0m ]"
      ]
     },
     "metadata": {},
     "output_type": "display_data"
    },
    {
     "data": {
      "text/html": [
       "<pre style=\"white-space:pre;overflow-x:auto;line-height:normal;font-family:Menlo,'DejaVu Sans Mono',consolas,'Courier New',monospace\">\r",
       "\u001b[2KEpisode length: 999.00 +/- 0.00\n",
       "<span style=\"color: #800080; text-decoration-color: #800080\">  31%</span> <span style=\"color: #f92672; text-decoration-color: #f92672\">━━━━━━━━━━━━━━━━━╸</span><span style=\"color: #3a3a3a; text-decoration-color: #3a3a3a\">━━━━━━━━━━━━━━━━━━━━━━━━━━━━━━━━━━━━━━━━</span> <span style=\"color: #008000; text-decoration-color: #008000\">30,592/100,000 </span> [ <span style=\"color: #808000; text-decoration-color: #808000\">0:00:08</span> &lt; <span style=\"color: #008080; text-decoration-color: #008080\">0:00:15</span> , <span style=\"color: #800000; text-decoration-color: #800000\">4,860 it/s</span> ]</pre>\n"
      ],
      "text/plain": [
       "\r",
       "\u001b[2KEpisode length: 999.00 +/- 0.00\n",
       "\u001b[35m  31%\u001b[0m \u001b[38;2;249;38;114m━━━━━━━━━━━━━━━━━\u001b[0m\u001b[38;2;249;38;114m╸\u001b[0m\u001b[38;5;237m━━━━━━━━━━━━━━━━━━━━━━━━━━━━━━━━━━━━━━━━\u001b[0m \u001b[32m30,592/100,000 \u001b[0m [ \u001b[33m0:00:08\u001b[0m < \u001b[36m0:00:15\u001b[0m , \u001b[31m4,860 it/s\u001b[0m ]"
      ]
     },
     "metadata": {},
     "output_type": "display_data"
    },
    {
     "name": "stdout",
     "output_type": "stream",
     "text": [
      "-----------------------------------------\n",
      "| eval/                   |             |\n",
      "|    mean_ep_length       | 999         |\n",
      "|    mean_reward          | -35.1       |\n",
      "| time/                   |             |\n",
      "|    total_timesteps      | 32000       |\n",
      "| train/                  |             |\n",
      "|    approx_kl            | 0.017992686 |\n",
      "|    clip_fraction        | 0.0547      |\n",
      "|    clip_range           | 0.2         |\n",
      "|    entropy_loss         | -2.9        |\n",
      "|    explained_variance   | 0.0917      |\n",
      "|    learning_rate        | 7.77e-05    |\n",
      "|    loss                 | 0.0237      |\n",
      "|    n_updates            | 30          |\n",
      "|    policy_gradient_loss | -0.027      |\n",
      "|    std                  | 0.966       |\n",
      "|    value_loss           | 0.239       |\n",
      "-----------------------------------------\n",
      "------------------------------\n",
      "| time/              |       |\n",
      "|    fps             | 4040  |\n",
      "|    iterations      | 4     |\n",
      "|    time_elapsed    | 8     |\n",
      "|    total_timesteps | 32768 |\n",
      "------------------------------\n",
      "------------------------------------------\n",
      "| time/                   |              |\n",
      "|    fps                  | 4273         |\n",
      "|    iterations           | 5            |\n",
      "|    time_elapsed         | 9            |\n",
      "|    total_timesteps      | 40960        |\n",
      "| train/                  |              |\n",
      "|    approx_kl            | 0.0011246265 |\n",
      "|    clip_fraction        | 0.00146      |\n",
      "|    clip_range           | 0.2          |\n",
      "|    entropy_loss         | -2.77        |\n",
      "|    explained_variance   | 0.254        |\n",
      "|    learning_rate        | 7.77e-05     |\n",
      "|    loss                 | 0.189        |\n",
      "|    n_updates            | 40           |\n",
      "|    policy_gradient_loss | 0.000146     |\n",
      "|    std                  | 0.956        |\n",
      "|    value_loss           | 0.461        |\n",
      "------------------------------------------\n"
     ]
    },
    {
     "data": {
      "text/html": [
       "<pre style=\"white-space:pre;overflow-x:auto;line-height:normal;font-family:Menlo,'DejaVu Sans Mono',consolas,'Courier New',monospace\">\r",
       "\u001b[2KEval num_timesteps=48000, episode_reward=-11.67 +/- 0.37\n",
       "<span style=\"color: #800080; text-decoration-color: #800080\">  47%</span> <span style=\"color: #f92672; text-decoration-color: #f92672\">━━━━━━━━━━━━━━━━━━━━━━━━━━━</span><span style=\"color: #3a3a3a; text-decoration-color: #3a3a3a\">╺━━━━━━━━━━━━━━━━━━━━━━━━━━━━━━</span> <span style=\"color: #008000; text-decoration-color: #008000\">46,912/100,000 </span> [ <span style=\"color: #808000; text-decoration-color: #808000\">0:00:12</span> &lt; <span style=\"color: #008080; text-decoration-color: #008080\">0:00:12</span> , <span style=\"color: #800000; text-decoration-color: #800000\">4,453 it/s</span> ]</pre>\n"
      ],
      "text/plain": [
       "\r",
       "\u001b[2KEval num_timesteps=48000, episode_reward=-11.67 +/- 0.37\n",
       "\u001b[35m  47%\u001b[0m \u001b[38;2;249;38;114m━━━━━━━━━━━━━━━━━━━━━━━━━━━\u001b[0m\u001b[38;5;237m╺\u001b[0m\u001b[38;5;237m━━━━━━━━━━━━━━━━━━━━━━━━━━━━━━\u001b[0m \u001b[32m46,912/100,000 \u001b[0m [ \u001b[33m0:00:12\u001b[0m < \u001b[36m0:00:12\u001b[0m , \u001b[31m4,453 it/s\u001b[0m ]"
      ]
     },
     "metadata": {},
     "output_type": "display_data"
    },
    {
     "data": {
      "text/html": [
       "<pre style=\"white-space:pre;overflow-x:auto;line-height:normal;font-family:Menlo,'DejaVu Sans Mono',consolas,'Courier New',monospace\">\r",
       "\u001b[2KEpisode length: 999.00 +/- 0.00\n",
       "<span style=\"color: #800080; text-decoration-color: #800080\">  47%</span> <span style=\"color: #f92672; text-decoration-color: #f92672\">━━━━━━━━━━━━━━━━━━━━━━━━━━━</span><span style=\"color: #3a3a3a; text-decoration-color: #3a3a3a\">╺━━━━━━━━━━━━━━━━━━━━━━━━━━━━━━</span> <span style=\"color: #008000; text-decoration-color: #008000\">46,912/100,000 </span> [ <span style=\"color: #808000; text-decoration-color: #808000\">0:00:12</span> &lt; <span style=\"color: #008080; text-decoration-color: #008080\">0:00:12</span> , <span style=\"color: #800000; text-decoration-color: #800000\">4,453 it/s</span> ]</pre>\n"
      ],
      "text/plain": [
       "\r",
       "\u001b[2KEpisode length: 999.00 +/- 0.00\n",
       "\u001b[35m  47%\u001b[0m \u001b[38;2;249;38;114m━━━━━━━━━━━━━━━━━━━━━━━━━━━\u001b[0m\u001b[38;5;237m╺\u001b[0m\u001b[38;5;237m━━━━━━━━━━━━━━━━━━━━━━━━━━━━━━\u001b[0m \u001b[32m46,912/100,000 \u001b[0m [ \u001b[33m0:00:12\u001b[0m < \u001b[36m0:00:12\u001b[0m , \u001b[31m4,453 it/s\u001b[0m ]"
      ]
     },
     "metadata": {},
     "output_type": "display_data"
    },
    {
     "name": "stdout",
     "output_type": "stream",
     "text": [
      "------------------------------------------\n",
      "| eval/                   |              |\n",
      "|    mean_ep_length       | 999          |\n",
      "|    mean_reward          | -11.7        |\n",
      "| time/                   |              |\n",
      "|    total_timesteps      | 48000        |\n",
      "| train/                  |              |\n",
      "|    approx_kl            | 0.0026463498 |\n",
      "|    clip_fraction        | 0.00647      |\n",
      "|    clip_range           | 0.2          |\n",
      "|    entropy_loss         | -2.83        |\n",
      "|    explained_variance   | 0.39         |\n",
      "|    learning_rate        | 7.77e-05     |\n",
      "|    loss                 | 0.153        |\n",
      "|    n_updates            | 50           |\n",
      "|    policy_gradient_loss | 0.00308      |\n",
      "|    std                  | 0.951        |\n",
      "|    value_loss           | 0.426        |\n",
      "------------------------------------------\n",
      "---------------------------------\n",
      "| rollout/           |          |\n",
      "|    ep_len_mean     | 312      |\n",
      "|    ep_rew_mean     | 71.8     |\n",
      "| time/              |          |\n",
      "|    fps             | 3999     |\n",
      "|    iterations      | 6        |\n",
      "|    time_elapsed    | 12       |\n",
      "|    total_timesteps | 49152    |\n",
      "---------------------------------\n",
      "------------------------------------------\n",
      "| rollout/                |              |\n",
      "|    ep_len_mean          | 234          |\n",
      "|    ep_rew_mean          | 78.9         |\n",
      "| time/                   |              |\n",
      "|    fps                  | 4130         |\n",
      "|    iterations           | 7            |\n",
      "|    time_elapsed         | 13           |\n",
      "|    total_timesteps      | 57344        |\n",
      "| train/                  |              |\n",
      "|    approx_kl            | 0.0015739339 |\n",
      "|    clip_fraction        | 0.00236      |\n",
      "|    clip_range           | 0.2          |\n",
      "|    entropy_loss         | -2.82        |\n",
      "|    explained_variance   | 0.109        |\n",
      "|    learning_rate        | 7.77e-05     |\n",
      "|    loss                 | 5.74         |\n",
      "|    n_updates            | 60           |\n",
      "|    policy_gradient_loss | -0.00211     |\n",
      "|    std                  | 0.948        |\n",
      "|    value_loss           | 25.7         |\n",
      "------------------------------------------\n"
     ]
    },
    {
     "data": {
      "text/html": [
       "<pre style=\"white-space:pre;overflow-x:auto;line-height:normal;font-family:Menlo,'DejaVu Sans Mono',consolas,'Courier New',monospace\">\r",
       "\u001b[2KEval num_timesteps=64000, episode_reward=-7.74 +/- 0.01\n",
       "<span style=\"color: #800080; text-decoration-color: #800080\">  62%</span> <span style=\"color: #f92672; text-decoration-color: #f92672\">━━━━━━━━━━━━━━━━━━━━━━━━━━━━━━━━━━━━</span><span style=\"color: #3a3a3a; text-decoration-color: #3a3a3a\">╺━━━━━━━━━━━━━━━━━━━━━</span> <span style=\"color: #008000; text-decoration-color: #008000\">62,336/100,000 </span> [ <span style=\"color: #808000; text-decoration-color: #808000\">0:00:16</span> &lt; <span style=\"color: #008080; text-decoration-color: #008080\">0:00:09</span> , <span style=\"color: #800000; text-decoration-color: #800000\">4,249 it/s</span> ]</pre>\n"
      ],
      "text/plain": [
       "\r",
       "\u001b[2KEval num_timesteps=64000, episode_reward=-7.74 +/- 0.01\n",
       "\u001b[35m  62%\u001b[0m \u001b[38;2;249;38;114m━━━━━━━━━━━━━━━━━━━━━━━━━━━━━━━━━━━━\u001b[0m\u001b[38;5;237m╺\u001b[0m\u001b[38;5;237m━━━━━━━━━━━━━━━━━━━━━\u001b[0m \u001b[32m62,336/100,000 \u001b[0m [ \u001b[33m0:00:16\u001b[0m < \u001b[36m0:00:09\u001b[0m , \u001b[31m4,249 it/s\u001b[0m ]"
      ]
     },
     "metadata": {},
     "output_type": "display_data"
    },
    {
     "data": {
      "text/html": [
       "<pre style=\"white-space:pre;overflow-x:auto;line-height:normal;font-family:Menlo,'DejaVu Sans Mono',consolas,'Courier New',monospace\">\r",
       "\u001b[2KEpisode length: 999.00 +/- 0.00\n",
       "<span style=\"color: #800080; text-decoration-color: #800080\">  62%</span> <span style=\"color: #f92672; text-decoration-color: #f92672\">━━━━━━━━━━━━━━━━━━━━━━━━━━━━━━━━━━━━</span><span style=\"color: #3a3a3a; text-decoration-color: #3a3a3a\">╺━━━━━━━━━━━━━━━━━━━━━</span> <span style=\"color: #008000; text-decoration-color: #008000\">62,336/100,000 </span> [ <span style=\"color: #808000; text-decoration-color: #808000\">0:00:16</span> &lt; <span style=\"color: #008080; text-decoration-color: #008080\">0:00:09</span> , <span style=\"color: #800000; text-decoration-color: #800000\">4,249 it/s</span> ]</pre>\n"
      ],
      "text/plain": [
       "\r",
       "\u001b[2KEpisode length: 999.00 +/- 0.00\n",
       "\u001b[35m  62%\u001b[0m \u001b[38;2;249;38;114m━━━━━━━━━━━━━━━━━━━━━━━━━━━━━━━━━━━━\u001b[0m\u001b[38;5;237m╺\u001b[0m\u001b[38;5;237m━━━━━━━━━━━━━━━━━━━━━\u001b[0m \u001b[32m62,336/100,000 \u001b[0m [ \u001b[33m0:00:16\u001b[0m < \u001b[36m0:00:09\u001b[0m , \u001b[31m4,249 it/s\u001b[0m ]"
      ]
     },
     "metadata": {},
     "output_type": "display_data"
    },
    {
     "name": "stdout",
     "output_type": "stream",
     "text": [
      "------------------------------------------\n",
      "| eval/                   |              |\n",
      "|    mean_ep_length       | 999          |\n",
      "|    mean_reward          | -7.74        |\n",
      "| time/                   |              |\n",
      "|    total_timesteps      | 64000        |\n",
      "| train/                  |              |\n",
      "|    approx_kl            | 0.0025994226 |\n",
      "|    clip_fraction        | 0.00574      |\n",
      "|    clip_range           | 0.2          |\n",
      "|    entropy_loss         | -2.8         |\n",
      "|    explained_variance   | 0.183        |\n",
      "|    learning_rate        | 7.77e-05     |\n",
      "|    loss                 | 8.47         |\n",
      "|    n_updates            | 70           |\n",
      "|    policy_gradient_loss | -0.000835    |\n",
      "|    std                  | 0.945        |\n",
      "|    value_loss           | 13.8         |\n",
      "------------------------------------------\n"
     ]
    },
    {
     "data": {
      "text/html": [
       "<pre style=\"white-space:pre;overflow-x:auto;line-height:normal;font-family:Menlo,'DejaVu Sans Mono',consolas,'Courier New',monospace\">\r",
       "\u001b[2KNew best mean reward!\n",
       "<span style=\"color: #800080; text-decoration-color: #800080\">  62%</span> <span style=\"color: #f92672; text-decoration-color: #f92672\">━━━━━━━━━━━━━━━━━━━━━━━━━━━━━━━━━━━━</span><span style=\"color: #3a3a3a; text-decoration-color: #3a3a3a\">╺━━━━━━━━━━━━━━━━━━━━━</span> <span style=\"color: #008000; text-decoration-color: #008000\">62,336/100,000 </span> [ <span style=\"color: #808000; text-decoration-color: #808000\">0:00:16</span> &lt; <span style=\"color: #008080; text-decoration-color: #008080\">0:00:09</span> , <span style=\"color: #800000; text-decoration-color: #800000\">4,249 it/s</span> ]</pre>\n"
      ],
      "text/plain": [
       "\r",
       "\u001b[2KNew best mean reward!\n",
       "\u001b[35m  62%\u001b[0m \u001b[38;2;249;38;114m━━━━━━━━━━━━━━━━━━━━━━━━━━━━━━━━━━━━\u001b[0m\u001b[38;5;237m╺\u001b[0m\u001b[38;5;237m━━━━━━━━━━━━━━━━━━━━━\u001b[0m \u001b[32m62,336/100,000 \u001b[0m [ \u001b[33m0:00:16\u001b[0m < \u001b[36m0:00:09\u001b[0m , \u001b[31m4,249 it/s\u001b[0m ]"
      ]
     },
     "metadata": {},
     "output_type": "display_data"
    },
    {
     "name": "stdout",
     "output_type": "stream",
     "text": [
      "---------------------------------\n",
      "| rollout/           |          |\n",
      "|    ep_len_mean     | 253      |\n",
      "|    ep_rew_mean     | 76.9     |\n",
      "| time/              |          |\n",
      "|    fps             | 3953     |\n",
      "|    iterations      | 8        |\n",
      "|    time_elapsed    | 16       |\n",
      "|    total_timesteps | 65536    |\n",
      "---------------------------------\n",
      "------------------------------------------\n",
      "| rollout/                |              |\n",
      "|    ep_len_mean          | 255          |\n",
      "|    ep_rew_mean          | 76.7         |\n",
      "| time/                   |              |\n",
      "|    fps                  | 4041         |\n",
      "|    iterations           | 9            |\n",
      "|    time_elapsed         | 18           |\n",
      "|    total_timesteps      | 73728        |\n",
      "| train/                  |              |\n",
      "|    approx_kl            | 0.0022903052 |\n",
      "|    clip_fraction        | 0.00604      |\n",
      "|    clip_range           | 0.2          |\n",
      "|    entropy_loss         | -2.82        |\n",
      "|    explained_variance   | 0.195        |\n",
      "|    learning_rate        | 7.77e-05     |\n",
      "|    loss                 | 1.2          |\n",
      "|    n_updates            | 80           |\n",
      "|    policy_gradient_loss | 0.000182     |\n",
      "|    std                  | 0.942        |\n",
      "|    value_loss           | 12.7         |\n",
      "------------------------------------------\n"
     ]
    },
    {
     "data": {
      "text/html": [
       "<pre style=\"white-space:pre;overflow-x:auto;line-height:normal;font-family:Menlo,'DejaVu Sans Mono',consolas,'Courier New',monospace\">\r",
       "\u001b[2KEval num_timesteps=80000, episode_reward=-25.42 +/- 0.51\n",
       "<span style=\"color: #800080; text-decoration-color: #800080\">  80%</span> <span style=\"color: #f92672; text-decoration-color: #f92672\">━━━━━━━━━━━━━━━━━━━━━━━━━━━━━━━━━━━━━━━━━━━━━━</span><span style=\"color: #3a3a3a; text-decoration-color: #3a3a3a\">╺━━━━━━━━━━━</span> <span style=\"color: #008000; text-decoration-color: #008000\">79,904/100,000 </span> [ <span style=\"color: #808000; text-decoration-color: #808000\">0:00:20</span> &lt; <span style=\"color: #008080; text-decoration-color: #008080\">0:00:05</span> , <span style=\"color: #800000; text-decoration-color: #800000\">4,194 it/s</span> ]</pre>\n"
      ],
      "text/plain": [
       "\r",
       "\u001b[2KEval num_timesteps=80000, episode_reward=-25.42 +/- 0.51\n",
       "\u001b[35m  80%\u001b[0m \u001b[38;2;249;38;114m━━━━━━━━━━━━━━━━━━━━━━━━━━━━━━━━━━━━━━━━━━━━━━\u001b[0m\u001b[38;5;237m╺\u001b[0m\u001b[38;5;237m━━━━━━━━━━━\u001b[0m \u001b[32m79,904/100,000 \u001b[0m [ \u001b[33m0:00:20\u001b[0m < \u001b[36m0:00:05\u001b[0m , \u001b[31m4,194 it/s\u001b[0m ]"
      ]
     },
     "metadata": {},
     "output_type": "display_data"
    },
    {
     "data": {
      "text/html": [
       "<pre style=\"white-space:pre;overflow-x:auto;line-height:normal;font-family:Menlo,'DejaVu Sans Mono',consolas,'Courier New',monospace\">\r",
       "\u001b[2KEpisode length: 999.00 +/- 0.00\n",
       "<span style=\"color: #800080; text-decoration-color: #800080\">  80%</span> <span style=\"color: #f92672; text-decoration-color: #f92672\">━━━━━━━━━━━━━━━━━━━━━━━━━━━━━━━━━━━━━━━━━━━━━━</span><span style=\"color: #3a3a3a; text-decoration-color: #3a3a3a\">╺━━━━━━━━━━━</span> <span style=\"color: #008000; text-decoration-color: #008000\">79,904/100,000 </span> [ <span style=\"color: #808000; text-decoration-color: #808000\">0:00:20</span> &lt; <span style=\"color: #008080; text-decoration-color: #008080\">0:00:05</span> , <span style=\"color: #800000; text-decoration-color: #800000\">4,194 it/s</span> ]</pre>\n"
      ],
      "text/plain": [
       "\r",
       "\u001b[2KEpisode length: 999.00 +/- 0.00\n",
       "\u001b[35m  80%\u001b[0m \u001b[38;2;249;38;114m━━━━━━━━━━━━━━━━━━━━━━━━━━━━━━━━━━━━━━━━━━━━━━\u001b[0m\u001b[38;5;237m╺\u001b[0m\u001b[38;5;237m━━━━━━━━━━━\u001b[0m \u001b[32m79,904/100,000 \u001b[0m [ \u001b[33m0:00:20\u001b[0m < \u001b[36m0:00:05\u001b[0m , \u001b[31m4,194 it/s\u001b[0m ]"
      ]
     },
     "metadata": {},
     "output_type": "display_data"
    },
    {
     "name": "stdout",
     "output_type": "stream",
     "text": [
      "------------------------------------------\n",
      "| eval/                   |              |\n",
      "|    mean_ep_length       | 999          |\n",
      "|    mean_reward          | -25.4        |\n",
      "| time/                   |              |\n",
      "|    total_timesteps      | 80000        |\n",
      "| train/                  |              |\n",
      "|    approx_kl            | 0.0024307282 |\n",
      "|    clip_fraction        | 0.00253      |\n",
      "|    clip_range           | 0.2          |\n",
      "|    entropy_loss         | -2.77        |\n",
      "|    explained_variance   | 0.294        |\n",
      "|    learning_rate        | 7.77e-05     |\n",
      "|    loss                 | 0.843        |\n",
      "|    n_updates            | 90           |\n",
      "|    policy_gradient_loss | -0.00111     |\n",
      "|    std                  | 0.937        |\n",
      "|    value_loss           | 7.97         |\n",
      "------------------------------------------\n",
      "---------------------------------\n",
      "| rollout/           |          |\n",
      "|    ep_len_mean     | 271      |\n",
      "|    ep_rew_mean     | 75.2     |\n",
      "| time/              |          |\n",
      "|    fps             | 3960     |\n",
      "|    iterations      | 10       |\n",
      "|    time_elapsed    | 20       |\n",
      "|    total_timesteps | 81920    |\n",
      "---------------------------------\n",
      "------------------------------------------\n",
      "| rollout/                |              |\n",
      "|    ep_len_mean          | 245          |\n",
      "|    ep_rew_mean          | 77.7         |\n",
      "| time/                   |              |\n",
      "|    fps                  | 4096         |\n",
      "|    iterations           | 11           |\n",
      "|    time_elapsed         | 21           |\n",
      "|    total_timesteps      | 90112        |\n",
      "| train/                  |              |\n",
      "|    approx_kl            | 0.0066659297 |\n",
      "|    clip_fraction        | 0.0358       |\n",
      "|    clip_range           | 0.2          |\n",
      "|    entropy_loss         | -2.76        |\n",
      "|    explained_variance   | 0.245        |\n",
      "|    learning_rate        | 7.77e-05     |\n",
      "|    loss                 | 8.66         |\n",
      "|    n_updates            | 100          |\n",
      "|    policy_gradient_loss | -0.00614     |\n",
      "|    std                  | 0.935        |\n",
      "|    value_loss           | 14.4         |\n",
      "------------------------------------------\n"
     ]
    },
    {
     "data": {
      "text/html": [
       "<pre style=\"white-space:pre;overflow-x:auto;line-height:normal;font-family:Menlo,'DejaVu Sans Mono',consolas,'Courier New',monospace\">\r",
       "\u001b[2KEval num_timesteps=96000, episode_reward=-35.47 +/- 0.03\n",
       "<span style=\"color: #800080; text-decoration-color: #800080\">  95%</span> <span style=\"color: #f92672; text-decoration-color: #f92672\">━━━━━━━━━━━━━━━━━━━━━━━━━━━━━━━━━━━━━━━━━━━━━━━━━━━━━━╸</span><span style=\"color: #3a3a3a; text-decoration-color: #3a3a3a\">━━━</span> <span style=\"color: #008000; text-decoration-color: #008000\">94,592/100,000 </span> [ <span style=\"color: #808000; text-decoration-color: #808000\">0:00:24</span> &lt; <span style=\"color: #008080; text-decoration-color: #008080\">0:00:02</span> , <span style=\"color: #800000; text-decoration-color: #800000\">4,157 it/s</span> ]</pre>\n"
      ],
      "text/plain": [
       "\r",
       "\u001b[2KEval num_timesteps=96000, episode_reward=-35.47 +/- 0.03\n",
       "\u001b[35m  95%\u001b[0m \u001b[38;2;249;38;114m━━━━━━━━━━━━━━━━━━━━━━━━━━━━━━━━━━━━━━━━━━━━━━━━━━━━━━\u001b[0m\u001b[38;2;249;38;114m╸\u001b[0m\u001b[38;5;237m━━━\u001b[0m \u001b[32m94,592/100,000 \u001b[0m [ \u001b[33m0:00:24\u001b[0m < \u001b[36m0:00:02\u001b[0m , \u001b[31m4,157 it/s\u001b[0m ]"
      ]
     },
     "metadata": {},
     "output_type": "display_data"
    },
    {
     "data": {
      "text/html": [
       "<pre style=\"white-space:pre;overflow-x:auto;line-height:normal;font-family:Menlo,'DejaVu Sans Mono',consolas,'Courier New',monospace\">\r",
       "\u001b[2KEpisode length: 999.00 +/- 0.00\n",
       "<span style=\"color: #800080; text-decoration-color: #800080\">  95%</span> <span style=\"color: #f92672; text-decoration-color: #f92672\">━━━━━━━━━━━━━━━━━━━━━━━━━━━━━━━━━━━━━━━━━━━━━━━━━━━━━━╸</span><span style=\"color: #3a3a3a; text-decoration-color: #3a3a3a\">━━━</span> <span style=\"color: #008000; text-decoration-color: #008000\">94,592/100,000 </span> [ <span style=\"color: #808000; text-decoration-color: #808000\">0:00:24</span> &lt; <span style=\"color: #008080; text-decoration-color: #008080\">0:00:02</span> , <span style=\"color: #800000; text-decoration-color: #800000\">4,157 it/s</span> ]</pre>\n"
      ],
      "text/plain": [
       "\r",
       "\u001b[2KEpisode length: 999.00 +/- 0.00\n",
       "\u001b[35m  95%\u001b[0m \u001b[38;2;249;38;114m━━━━━━━━━━━━━━━━━━━━━━━━━━━━━━━━━━━━━━━━━━━━━━━━━━━━━━\u001b[0m\u001b[38;2;249;38;114m╸\u001b[0m\u001b[38;5;237m━━━\u001b[0m \u001b[32m94,592/100,000 \u001b[0m [ \u001b[33m0:00:24\u001b[0m < \u001b[36m0:00:02\u001b[0m , \u001b[31m4,157 it/s\u001b[0m ]"
      ]
     },
     "metadata": {},
     "output_type": "display_data"
    },
    {
     "name": "stdout",
     "output_type": "stream",
     "text": [
      "------------------------------------------\n",
      "| eval/                   |              |\n",
      "|    mean_ep_length       | 999          |\n",
      "|    mean_reward          | -35.5        |\n",
      "| time/                   |              |\n",
      "|    total_timesteps      | 96000        |\n",
      "| train/                  |              |\n",
      "|    approx_kl            | 0.0045126826 |\n",
      "|    clip_fraction        | 0.00369      |\n",
      "|    clip_range           | 0.2          |\n",
      "|    entropy_loss         | -2.82        |\n",
      "|    explained_variance   | 0.258        |\n",
      "|    learning_rate        | 7.77e-05     |\n",
      "|    loss                 | 13.1         |\n",
      "|    n_updates            | 110          |\n",
      "|    policy_gradient_loss | -0.00202     |\n",
      "|    std                  | 0.929        |\n",
      "|    value_loss           | 13.5         |\n",
      "------------------------------------------\n",
      "---------------------------------\n",
      "| rollout/           |          |\n",
      "|    ep_len_mean     | 269      |\n",
      "|    ep_rew_mean     | 75.3     |\n",
      "| time/              |          |\n",
      "|    fps             | 4014     |\n",
      "|    iterations      | 12       |\n",
      "|    time_elapsed    | 24       |\n",
      "|    total_timesteps | 98304    |\n",
      "---------------------------------\n",
      "------------------------------------------\n",
      "| rollout/                |              |\n",
      "|    ep_len_mean          | 269          |\n",
      "|    ep_rew_mean          | 75.3         |\n",
      "| time/                   |              |\n",
      "|    fps                  | 4119         |\n",
      "|    iterations           | 13           |\n",
      "|    time_elapsed         | 25           |\n",
      "|    total_timesteps      | 106496       |\n",
      "| train/                  |              |\n",
      "|    approx_kl            | 0.0027948846 |\n",
      "|    clip_fraction        | 0.00419      |\n",
      "|    clip_range           | 0.2          |\n",
      "|    entropy_loss         | -2.86        |\n",
      "|    explained_variance   | 0.262        |\n",
      "|    learning_rate        | 7.77e-05     |\n",
      "|    loss                 | 1.41         |\n",
      "|    n_updates            | 120          |\n",
      "|    policy_gradient_loss | -0.00235     |\n",
      "|    std                  | 0.925        |\n",
      "|    value_loss           | 26.2         |\n",
      "------------------------------------------\n"
     ]
    },
    {
     "data": {
      "text/html": [
       "<pre style=\"white-space:pre;overflow-x:auto;line-height:normal;font-family:Menlo,'DejaVu Sans Mono',consolas,'Courier New',monospace\">\n",
       "</pre>\n"
      ],
      "text/plain": [
       "\n",
       "\u001b[?25h"
      ]
     },
     "metadata": {},
     "output_type": "display_data"
    }
   ],
   "source": [
    "eval_callback = EvalCallback(train_env, \n",
    "                             best_model_save_path=\"./logs/best_model\",\n",
    "                             log_path=\"./logs/results\", \n",
    "                             eval_freq=500,\n",
    "                             deterministic=True, render=False)\n",
    "model = PPO(\"MlpPolicy\", \n",
    "            train_env,\n",
    "            verbose=1, \n",
    "            seed=0,\n",
    "            batch_size=512,\n",
    "            # ent_coef=0.00429,\n",
    "            learning_rate=7.77e-05,\n",
    "            n_epochs=10,\n",
    "            n_steps=8*NUM_CPU,\n",
    "            gae_lambda=0.9,\n",
    "            gamma=0.9999,\n",
    "            # clip_range=0.1,\n",
    "            max_grad_norm=5,\n",
    "            # vf_coef=0.19,\n",
    "            use_sde=True,\n",
    "            # policy_kwargs=dict(log_std_init=-3.29, ortho_init=False),\n",
    "            tensorboard_log=\"./logs/ppo_MountainCar_tensorboard/\")\n",
    "\n",
    "model.learn(total_timesteps=100_000, callback=eval_callback, progress_bar=True)\n",
    "model.save(\"./logs/ppo_MountainCar\")\n",
    "\n",
    "del model # remove to demonstrate saving and loading"
   ]
  },
  {
   "cell_type": "code",
   "execution_count": 6,
   "metadata": {
    "tags": []
   },
   "outputs": [
    {
     "name": "stderr",
     "output_type": "stream",
     "text": [
      "/home/vlad1slav/Diploma/rl-venv/lib/python3.10/site-packages/gym/logger.py:34: UserWarning: \u001b[33mWARN: Box bound precision lowered by casting to float32\u001b[0m\n",
      "  warnings.warn(colorize(\"%s: %s\" % (\"WARN\", msg % args), \"yellow\"))\n"
     ]
    },
    {
     "name": "stdout",
     "output_type": "stream",
     "text": [
      "== CURRENT SYSTEM INFO ==\n",
      "- OS: Linux-5.15.0-58-generic-x86_64-with-glibc2.35 # 64-Ubuntu SMP Thu Jan 5 11:43:13 UTC 2023\n",
      "- Python: 3.10.6\n",
      "- Stable-Baselines3: 1.7.0\n",
      "- PyTorch: 1.13.1+cu117\n",
      "- GPU Enabled: True\n",
      "- Numpy: 1.24.1\n",
      "- Gym: 0.21.0\n",
      "\n",
      "== SAVED MODEL SYSTEM INFO ==\n",
      "- OS: Linux-5.15.0-58-generic-x86_64-with-glibc2.35 # 64-Ubuntu SMP Thu Jan 5 11:43:13 UTC 2023\n",
      "- Python: 3.10.6\n",
      "- Stable-Baselines3: 1.7.0\n",
      "- PyTorch: 1.13.1+cu117\n",
      "- GPU Enabled: True\n",
      "- Numpy: 1.24.1\n",
      "- Gym: 0.21.0\n",
      "\n"
     ]
    }
   ],
   "source": [
    "# test_env = gym.make(env_id, render_mode=\"human\")\n",
    "# test_env = gnwrapper.Animation(test_env)\n",
    "# test_env = DummyVecEnv([lambda: test_env])\n",
    "\n",
    "test_env = make_vec_env(env_id,\n",
    "                        # env_kwargs=dict(\n",
    "                        #     render_mode=\"rgb_array\"\n",
    "                        # ),\n",
    "                        wrapper_class=gnwrapper.Animation,\n",
    "                        n_envs=1)\n",
    "\n",
    "expert = PPO.load(\"./logs/ppo_MountainCar.zip\", print_system_info=True)\n",
    "\n",
    "obs = test_env.reset()\n",
    "\n",
    "# for _ in range(1000):\n",
    "#     action, _states = expert.predict(obs)\n",
    "#     obs, rewards, dones, info = test_env.step(action)\n",
    "#     test_env.render(mode=\"rgb_array\")\n",
    "\n",
    "    # if dones:\n",
    "    #     break\n",
    "\n",
    "test_env.close()"
   ]
  },
  {
   "cell_type": "code",
   "execution_count": 7,
   "metadata": {},
   "outputs": [
    {
     "name": "stdout",
     "output_type": "stream",
     "text": [
      "-86.7007622\n"
     ]
    }
   ],
   "source": [
    "from stable_baselines3.common.evaluation import evaluate_policy\n",
    "\n",
    "reward, _ = evaluate_policy(expert, test_env, 10)\n",
    "print(reward)"
   ]
  },
  {
   "cell_type": "code",
   "execution_count": 8,
   "metadata": {},
   "outputs": [
    {
     "name": "stderr",
     "output_type": "stream",
     "text": [
      "/home/vlad1slav/Diploma/rl-venv/lib/python3.10/site-packages/gym/logger.py:34: UserWarning: \u001b[33mWARN: Box bound precision lowered by casting to float32\u001b[0m\n",
      "  warnings.warn(colorize(\"%s: %s\" % (\"WARN\", msg % args), \"yellow\"))\n"
     ]
    }
   ],
   "source": [
    "from imitation.data import rollout\n",
    "from imitation.data.wrappers import RolloutInfoWrapper\n",
    "import dataclasses\n",
    "\n",
    "NUM_EPISODES = 10\n",
    "full_env = gym.make(env_id)\n",
    "rng = np.random.default_rng()\n",
    "rollouts = rollout.rollout(\n",
    "    expert,\n",
    "    DummyVecEnv([lambda: RolloutInfoWrapper(full_env)]),\n",
    "    rollout.make_sample_until(min_timesteps=None, min_episodes=10),\n",
    "    rng=rng,\n",
    ")\n",
    "\n",
    "rollouts = [dataclasses.replace(rollout, obs=np.delete(rollout.obs, 2, 1)) for rollout in rollouts]\n",
    "transitions = rollout.flatten_trajectories(rollouts)"
   ]
  },
  {
   "cell_type": "code",
   "execution_count": 9,
   "metadata": {},
   "outputs": [
    {
     "name": "stdout",
     "output_type": "stream",
     "text": [
      "The `rollout` function generated a list of 10 <class 'imitation.data.types.TrajectoryWithRew'>.\n",
      "After flattening, this list is turned into a <class 'imitation.data.types.Transitions'> object containing 9990 transitions.\n",
      "The transitions object contains arrays for: obs, acts, infos, next_obs, dones.\"\n",
      "\n"
     ]
    }
   ],
   "source": [
    "print(\n",
    "    f\"\"\"The `rollout` function generated a list of {len(rollouts)} {type(rollouts[0])}.\n",
    "After flattening, this list is turned into a {type(transitions)} object containing {len(transitions)} transitions.\n",
    "The transitions object contains arrays for: {', '.join(transitions.__dict__.keys())}.\"\n",
    "\"\"\"\n",
    ")"
   ]
  },
  {
   "cell_type": "code",
   "execution_count": 10,
   "metadata": {},
   "outputs": [],
   "source": [
    "from imitation.algorithms import bc\n",
    "\n",
    "env = gym.make(env_id, full_obs=False)\n",
    "bc_trainer = bc.BC(\n",
    "    observation_space=env.observation_space,\n",
    "    action_space=env.action_space,\n",
    "    demonstrations=transitions,\n",
    "    rng=rng,\n",
    ")"
   ]
  },
  {
   "cell_type": "code",
   "execution_count": 19,
   "metadata": {
    "collapsed": true,
    "jupyter": {
     "outputs_hidden": true
    },
    "tags": []
   },
   "outputs": [],
   "source": [
    "bc_trainer.train(n_epochs=2)"
   ]
  },
  {
   "cell_type": "code",
   "execution_count": 19,
   "metadata": {
    "collapsed": true,
    "jupyter": {
     "outputs_hidden": true
    },
    "tags": []
   },
   "outputs": [
    {
     "name": "stderr",
     "output_type": "stream",
     "text": [
      "0batch [00:00, ?batch/s]"
     ]
    },
    {
     "name": "stdout",
     "output_type": "stream",
     "text": [
      "--------------------------------\n",
      "| batch_size        | 32       |\n",
      "| bc/               |          |\n",
      "|    batch          | 0        |\n",
      "|    ent_loss       | 0.000531 |\n",
      "|    entropy        | -0.531   |\n",
      "|    epoch          | 0        |\n",
      "|    l2_loss        | 0        |\n",
      "|    l2_norm        | 69.6     |\n",
      "|    loss           | -1.03    |\n",
      "|    neglogp        | -1.03    |\n",
      "|    prob_true_act  | 2.79     |\n",
      "|    samples_so_far | 32       |\n",
      "--------------------------------\n"
     ]
    },
    {
     "name": "stderr",
     "output_type": "stream",
     "text": [
      "303batch [00:01, 226.84batch/s]\n",
      "487batch [00:02, 253.33batch/s]\u001b[A"
     ]
    },
    {
     "name": "stdout",
     "output_type": "stream",
     "text": [
      "--------------------------------\n",
      "| batch_size        | 32       |\n",
      "| bc/               |          |\n",
      "|    batch          | 500      |\n",
      "|    ent_loss       | 0.00103  |\n",
      "|    entropy        | -1.03    |\n",
      "|    epoch          | 1        |\n",
      "|    l2_loss        | 0        |\n",
      "|    l2_norm        | 76.5     |\n",
      "|    loss           | -1.52    |\n",
      "|    neglogp        | -1.52    |\n",
      "|    prob_true_act  | 4.59     |\n",
      "|    samples_so_far | 16032    |\n",
      "--------------------------------\n"
     ]
    },
    {
     "name": "stderr",
     "output_type": "stream",
     "text": [
      "618batch [00:02, 250.99batch/s]\n",
      "624batch [00:02, 239.36batch/s]\u001b[A\n"
     ]
    },
    {
     "data": {
      "text/plain": [
       "FeedForward32Policy(\n",
       "  (features_extractor): FlattenExtractor(\n",
       "    (flatten): Flatten(start_dim=1, end_dim=-1)\n",
       "  )\n",
       "  (pi_features_extractor): FlattenExtractor(\n",
       "    (flatten): Flatten(start_dim=1, end_dim=-1)\n",
       "  )\n",
       "  (vf_features_extractor): FlattenExtractor(\n",
       "    (flatten): Flatten(start_dim=1, end_dim=-1)\n",
       "  )\n",
       "  (mlp_extractor): MlpExtractor(\n",
       "    (shared_net): Sequential(\n",
       "      (0): Linear(in_features=2, out_features=32, bias=True)\n",
       "      (1): Tanh()\n",
       "      (2): Linear(in_features=32, out_features=32, bias=True)\n",
       "      (3): Tanh()\n",
       "    )\n",
       "    (policy_net): Sequential()\n",
       "    (value_net): Sequential()\n",
       "  )\n",
       "  (action_net): Linear(in_features=32, out_features=1, bias=True)\n",
       "  (value_net): Linear(in_features=32, out_features=1, bias=True)\n",
       ")"
      ]
     },
     "execution_count": 19,
     "metadata": {},
     "output_type": "execute_result"
    }
   ],
   "source": [
    "reward, _ = evaluate_policy(bc_trainer.policy, env, 10)\n",
    "print(reward)"
   ]
  }
 ],
 "metadata": {
  "kernelspec": {
   "display_name": "rl-venv",
   "language": "python",
   "name": "rl-venv"
  },
  "language_info": {
   "codemirror_mode": {
    "name": "ipython",
    "version": 3
   },
   "file_extension": ".py",
   "mimetype": "text/x-python",
   "name": "python",
   "nbconvert_exporter": "python",
   "pygments_lexer": "ipython3",
   "version": "3.10.6"
  },
  "vscode": {
   "interpreter": {
    "hash": "916dbcbb3f70747c44a77c7bcd40155683ae19c65e1c03b4aa3499c5328201f1"
   }
  }
 },
 "nbformat": 4,
 "nbformat_minor": 4
}
