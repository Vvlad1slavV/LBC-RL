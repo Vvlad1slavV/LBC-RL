{
 "cells": [
  {
   "cell_type": "code",
   "execution_count": 1,
   "metadata": {},
   "outputs": [
    {
     "data": {
      "text/plain": [
       "'0.21.0'"
      ]
     },
     "execution_count": 1,
     "metadata": {},
     "output_type": "execute_result"
    }
   ],
   "source": [
    "# import sys\n",
    "# import gymnasium as gym\n",
    "# sys.modules[\"gym\"] = gym\n",
    "import gym\n",
    "gym.__version__"
   ]
  },
  {
   "cell_type": "code",
   "execution_count": 2,
   "metadata": {},
   "outputs": [],
   "source": [
    "import gnwrapper"
   ]
  },
  {
   "cell_type": "code",
   "execution_count": 3,
   "metadata": {},
   "outputs": [
    {
     "name": "stdout",
     "output_type": "stream",
     "text": [
      "True\n"
     ]
    }
   ],
   "source": [
    "import os\n",
    "import numpy as np\n",
    "import torch\n",
    "print(torch.cuda.is_available())"
   ]
  },
  {
   "cell_type": "code",
   "execution_count": 4,
   "metadata": {},
   "outputs": [],
   "source": [
    "from stable_baselines3 import PPO\n",
    "from stable_baselines3.common.monitor import Monitor\n",
    "from stable_baselines3.common.vec_env import DummyVecEnv, SubprocVecEnv\n",
    "from stable_baselines3.common.env_util import make_vec_env\n",
    "from stable_baselines3.common.callbacks import EvalCallback"
   ]
  },
  {
   "cell_type": "code",
   "execution_count": 5,
   "metadata": {},
   "outputs": [],
   "source": [
    "env_id = \"MountainCarContinuous-v0\"\n",
    "NUM_CPU = 32  # Number of processes to use"
   ]
  },
  {
   "cell_type": "code",
   "execution_count": 6,
   "metadata": {
    "tags": []
   },
   "outputs": [
    {
     "name": "stderr",
     "output_type": "stream",
     "text": [
      "/home/vlad1slav/Diploma/rl-venv/lib/python3.10/site-packages/gym/logger.py:34: UserWarning: \u001b[33mWARN: Box bound precision lowered by casting to float32\u001b[0m\n",
      "  warnings.warn(colorize(\"%s: %s\" % (\"WARN\", msg % args), \"yellow\"))\n"
     ]
    },
    {
     "data": {
      "text/plain": [
       "Box([-1.2  -0.07 -3.  ], [0.6  0.07 3.  ], (3,), float32)"
      ]
     },
     "execution_count": 6,
     "metadata": {},
     "output_type": "execute_result"
    }
   ],
   "source": [
    "# Parallel environments\n",
    "train_env = make_vec_env(env_id, n_envs=NUM_CPU)\n",
    "train_env.observation_space"
   ]
  },
  {
   "cell_type": "code",
   "execution_count": 15,
   "metadata": {
    "tags": []
   },
   "outputs": [
    {
     "data": {
      "text/html": [
       "<pre style=\"white-space:pre;overflow-x:auto;line-height:normal;font-family:Menlo,'DejaVu Sans Mono',consolas,'Courier New',monospace\"><span style=\"color: #800080; text-decoration-color: #800080\"> 100%</span> <span style=\"color: #729c1f; text-decoration-color: #729c1f\">━━━━━━━━━━━━━━━━━━━━━━━━━━━━━━━━━━━━━━━━━━━━━━━━━━━━</span> <span style=\"color: #008000; text-decoration-color: #008000\">1,004,992/1,000,000 </span> [ <span style=\"color: #808000; text-decoration-color: #808000\">0:01:02</span> &lt; <span style=\"color: #008080; text-decoration-color: #008080\">0:00:00</span> , <span style=\"color: #800000; text-decoration-color: #800000\">17,980 it/s</span> ]\n",
       "<span style=\"color: #800080; text-decoration-color: #800080\"> 100%</span> <span style=\"color: #729c1f; text-decoration-color: #729c1f\">━━━━━━━━━━━━━━━━━━━━━━━━━━━━━━━━━━━━━━━━━━━━━━━━━━━━</span> <span style=\"color: #008000; text-decoration-color: #008000\">1,004,992/1,000,000 </span> [ <span style=\"color: #808000; text-decoration-color: #808000\">0:01:02</span> &lt; <span style=\"color: #008080; text-decoration-color: #008080\">0:00:00</span> , <span style=\"color: #800000; text-decoration-color: #800000\">17,980 it/s</span> ]</pre>\n"
      ],
      "text/plain": [
       "\r",
       "\u001b[2K\u001b[35m 100%\u001b[0m \u001b[38;2;114;156;31m━━━━━━━━━━━━━━━━━━━━━━━━━━━━━━━━━━━━━━━━━━━━━━━━━━━━\u001b[0m \u001b[32m1,004,992/1,000,000 \u001b[0m [ \u001b[33m0:01:02\u001b[0m < \u001b[36m0:00:00\u001b[0m , \u001b[31m17,980 it/s\u001b[0m ]\n",
       "\u001b[35m 100%\u001b[0m \u001b[38;2;114;156;31m━━━━━━━━━━━━━━━━━━━━━━━━━━━━━━━━━━━━━━━━━━━━━━━━━━━━\u001b[0m \u001b[32m1,004,992/1,000,000 \u001b[0m [ \u001b[33m0:01:02\u001b[0m < \u001b[36m0:00:00\u001b[0m , \u001b[31m17,980 it/s\u001b[0m ]"
      ]
     },
     "metadata": {},
     "output_type": "display_data"
    },
    {
     "data": {
      "text/html": [
       "<pre style=\"white-space:pre;overflow-x:auto;line-height:normal;font-family:Menlo,'DejaVu Sans Mono',consolas,'Courier New',monospace\">\n",
       "</pre>\n"
      ],
      "text/plain": [
       "\n",
       "\u001b[?25h"
      ]
     },
     "metadata": {},
     "output_type": "display_data"
    }
   ],
   "source": [
    "eval_callback = EvalCallback(train_env, \n",
    "                             best_model_save_path=\"./logs/best_model\",\n",
    "                             log_path=\"./logs/results\", \n",
    "                             eval_freq=500,\n",
    "                             deterministic=True, render=False)\n",
    "model = PPO(\"MlpPolicy\", \n",
    "            train_env,\n",
    "            verbose=1, \n",
    "            seed=0,\n",
    "            batch_size=512,\n",
    "            # ent_coef=0.00429,\n",
    "            learning_rate=7.77e-05,\n",
    "            n_epochs=10,\n",
    "            n_steps=8*NUM_CPU,\n",
    "            gae_lambda=0.9,\n",
    "            gamma=0.9999,\n",
    "            # clip_range=0.1,\n",
    "            max_grad_norm=5,\n",
    "            # vf_coef=0.19,\n",
    "            use_sde=True,\n",
    "            # policy_kwargs=dict(log_std_init=-3.29, ortho_init=False),\n",
    "            tensorboard_log=\"./logs/ppo_MountainCar_tensorboard/\")\n",
    "\n",
    "model.learn(total_timesteps=1_000_000, callback=eval_callback, progress_bar=True)\n",
    "model.save(\"./logs/ppo_MountainCar\")\n",
    "\n",
    "del model # remove to demonstrate saving and loading"
   ]
  },
  {
   "cell_type": "code",
   "execution_count": 16,
   "metadata": {
    "tags": []
   },
   "outputs": [
    {
     "data": {
      "image/png": "[encoded data removed]",
      "text/plain": [
       "<Figure size 640x480 with 1 Axes>"
      ]
     },
     "metadata": {},
     "output_type": "display_data"
    },
    {
     "data": {
      "image/png": "[encoded data removed]",
      "text/plain": [
       "<Figure size 640x480 with 1 Axes>"
      ]
     },
     "metadata": {},
     "output_type": "display_data"
    }
   ],
   "source": [
    "# test_env = gym.make(env_id, render_mode=\"human\")\n",
    "# test_env = gnwrapper.Animation(test_env)\n",
    "# test_env = DummyVecEnv([lambda: test_env])\n",
    "\n",
    "test_env = make_vec_env(env_id,\n",
    "                        # env_kwargs=dict(\n",
    "                        #     render_mode=\"rgb_array\"\n",
    "                        # ),\n",
    "                        wrapper_class=gnwrapper.Animation,\n",
    "                        n_envs=1)\n",
    "\n",
    "expert = PPO.load(\"./logs/ppo_MountainCar.zip\", print_system_info=True)\n",
    "\n",
    "obs = test_env.reset()\n",
    "\n",
    "for _ in range(1000):\n",
    "    action, _states = expert.predict(obs)\n",
    "    obs, rewards, dones, info = test_env.step(action)\n",
    "    test_env.render(mode=\"rgb_array\")\n",
    "\n",
    "    # if dones:\n",
    "    #     break\n",
    "\n",
    "test_env.close()"
   ]
  },
  {
   "cell_type": "code",
   "execution_count": 17,
   "metadata": {},
   "outputs": [
    {
     "name": "stdout",
     "output_type": "stream",
     "text": [
      "89.3480352\n"
     ]
    }
   ],
   "source": [
    "from stable_baselines3.common.evaluation import evaluate_policy\n",
    "\n",
    "reward, _ = evaluate_policy(expert, test_env, 10)\n",
    "print(reward)"
   ]
  },
  {
   "cell_type": "code",
   "execution_count": 28,
   "metadata": {},
   "outputs": [],
   "source": [
    "from imitation.data import rollout\n",
    "from imitation.data.wrappers import RolloutInfoWrapper\n",
    "import numpy as np\n",
    "\n",
    "NUM_EPISODES = 10\n",
    "full_env = gym.make(env_id)\n",
    "rng = np.random.default_rng()\n",
    "rollouts = rollout.rollout(\n",
    "    expert,\n",
    "    DummyVecEnv([lambda: RolloutInfoWrapper(full_env)]),\n",
    "    rollout.make_sample_until(min_timesteps=None, NUM_EPISODES=10),\n",
    "    rng=rng,\n",
    ")\n",
    "# transitions = rollout.flatten_trajectories(rollouts)"
   ]
  },
  {
   "cell_type": "code",
   "execution_count": 43,
   "metadata": {},
   "outputs": [
    {
     "ename": "FrozenInstanceError",
     "evalue": "cannot assign to field 'obs'",
     "output_type": "error",
     "traceback": [
      "\u001b[0;31m---------------------------------------------------------------------------\u001b[0m",
      "\u001b[0;31mFrozenInstanceError\u001b[0m                       Traceback (most recent call last)",
      "Cell \u001b[0;32mIn[43], line 4\u001b[0m\n\u001b[1;32m      2\u001b[0m new_rollouts \u001b[38;5;241m=\u001b[39m deepcopy(rollouts)\n\u001b[1;32m      3\u001b[0m \u001b[38;5;28;01mfor\u001b[39;00m i, rollout \u001b[38;5;129;01min\u001b[39;00m \u001b[38;5;28menumerate\u001b[39m(rollouts):\n\u001b[0;32m----> 4\u001b[0m     \u001b[43mnew_rollouts\u001b[49m\u001b[43m[\u001b[49m\u001b[43mi\u001b[49m\u001b[43m]\u001b[49m\u001b[38;5;241;43m.\u001b[39;49m\u001b[43mobs\u001b[49m \u001b[38;5;241m=\u001b[39m np\u001b[38;5;241m.\u001b[39mdelete(rollout\u001b[38;5;241m.\u001b[39mobs, \u001b[38;5;241m2\u001b[39m, \u001b[38;5;241m1\u001b[39m)\n",
      "File \u001b[0;32m<string>:4\u001b[0m, in \u001b[0;36m__setattr__\u001b[0;34m(self, name, value)\u001b[0m\n",
      "\u001b[0;31mFrozenInstanceError\u001b[0m: cannot assign to field 'obs'"
     ]
    }
   ],
   "source": [
    "from copy import deepcopy\n",
    "new_rollouts = deepcopy(rollouts)\n",
    "for i, rollout in enumerate(rollouts):\n",
    "    new_rollouts[i].obs = np.delete(rollout.obs, 2, 1)"
   ]
  },
  {
   "cell_type": "code",
   "execution_count": 42,
   "metadata": {},
   "outputs": [
    {
     "data": {
      "text/plain": [
       "array([[-4.57576841e-01,  0.00000000e+00,  1.96773350e-01],\n",
       "       [-4.56568778e-01,  1.00806670e-03,  1.99737513e-01],\n",
       "       [-4.54560041e-01,  2.00872310e-03,  2.05638555e-01],\n",
       "       [-4.51565415e-01,  2.99462653e-03,  2.14422053e-01],\n",
       "       [-4.47606832e-01,  3.95857124e-03,  2.26006159e-01],\n",
       "       [-4.42713290e-01,  4.89355577e-03,  2.40282143e-01],\n",
       "       [-4.36920434e-01,  5.79285063e-03,  2.57114382e-01],\n",
       "       [-4.30270374e-01,  6.65006461e-03,  2.76341442e-01],\n",
       "       [-4.22811151e-01,  7.45921116e-03,  2.97776685e-01],\n",
       "       [-4.14596379e-01,  8.21476895e-03,  3.21210250e-01],\n",
       "       [-4.05684650e-01,  8.91174376e-03,  3.46410926e-01],\n",
       "       [-3.96138936e-01,  9.54571646e-03,  3.73129199e-01],\n",
       "       [-3.86026055e-01,  1.01128938e-02,  4.01100769e-01],\n",
       "       [-3.75415921e-01,  1.06101418e-02,  4.30050388e-01],\n",
       "       [-3.64380896e-01,  1.10350158e-02,  4.59696671e-01],\n",
       "       [-3.52995127e-01,  1.13857742e-02,  4.89756952e-01],\n",
       "       [-3.41333747e-01,  1.16613815e-02,  5.19952285e-01],\n",
       "       [-3.29472244e-01,  1.18615003e-02,  5.50012820e-01],\n",
       "       [-3.17485780e-01,  1.19864680e-02,  5.79682508e-01],\n",
       "       [-3.05448532e-01,  1.20372614e-02,  6.08723588e-01],\n",
       "       [-2.93433070e-01,  1.20154526e-02,  6.36920481e-01],\n",
       "       [-2.81509906e-01,  1.19231511e-02,  6.64082938e-01],\n",
       "       [-2.69746959e-01,  1.17629441e-02,  6.90048050e-01],\n",
       "       [-2.58209139e-01,  1.15378238e-02,  7.14681695e-01],\n",
       "       [-2.46958017e-01,  1.12511199e-02,  7.37878910e-01],\n",
       "       [-2.36051589e-01,  1.09064225e-02,  7.59563358e-01],\n",
       "       [-2.25544080e-01,  1.05075138e-02,  7.79685938e-01],\n",
       "       [-2.15485781e-01,  1.00582987e-02,  7.98222766e-01],\n",
       "       [-2.06497625e-01,  8.98816064e-03,  8.14173017e-01],\n",
       "       [-1.99458048e-01,  7.03957397e-03,  8.26252546e-01],\n",
       "       [-1.95388019e-01,  4.07002959e-03,  8.33068731e-01],\n",
       "       [-1.94900662e-01,  4.87357756e-04,  8.33876613e-01],\n",
       "       [-1.97998002e-01, -3.09733371e-03,  8.28711959e-01],\n",
       "       [-2.04667121e-01, -6.66911341e-03,  8.17349221e-01],\n",
       "       [-2.14879602e-01, -1.02124866e-02,  7.99316854e-01],\n",
       "       [-2.28590384e-01, -1.37107791e-02,  7.73930936e-01],\n",
       "       [-2.45735988e-01, -1.71456058e-02,  7.40348309e-01],\n",
       "       [-2.66232461e-01, -2.04964764e-02,  6.97640551e-01],\n",
       "       [-2.89973050e-01, -2.37405784e-02,  6.44888367e-01],\n",
       "       [-3.16825837e-01, -2.68527996e-02,  5.81294577e-01],\n",
       "       [-3.46631885e-01, -2.98060365e-02,  5.06310273e-01],\n",
       "       [-3.79203707e-01, -3.25718112e-02,  4.19763954e-01],\n",
       "       [-4.12145615e-01, -3.29419188e-02,  3.28164160e-01],\n",
       "       [-4.44407940e-01, -3.22623290e-02,  2.35344001e-01],\n",
       "       [-4.75758642e-01, -3.13506909e-02,  1.43028239e-01],\n",
       "       [-5.05966902e-01, -3.02082617e-02,  5.28709537e-02],\n",
       "       [-5.34807324e-01, -2.88404394e-02, -3.36193594e-02],\n",
       "       [-5.62063694e-01, -2.72563919e-02, -1.15138891e-01],\n",
       "       [-5.87532222e-01, -2.54685450e-02, -1.90626578e-01],\n",
       "       [-6.11024201e-01, -2.34919786e-02, -2.59279654e-01],\n",
       "       [-6.32367969e-01, -2.13437788e-02, -3.20547674e-01],\n",
       "       [-6.51410401e-01, -1.90424100e-02, -3.74108060e-01],\n",
       "       [-6.68017566e-01, -1.66071393e-02, -4.19828447e-01],\n",
       "       [-6.82075143e-01, -1.40575683e-02, -4.57719979e-01],\n",
       "       [-6.93488419e-01, -1.14132678e-02, -4.87888260e-01],\n",
       "       [-7.02181995e-01, -8.69354699e-03, -5.10485729e-01],\n",
       "       [-7.08099306e-01, -5.91733260e-03, -5.25669265e-01],\n",
       "       [-7.11202443e-01, -3.10315960e-03, -5.33565788e-01],\n",
       "       [-7.11471677e-01, -2.69245269e-04, -5.34248707e-01],\n",
       "       [-7.08905280e-01,  2.56637647e-03, -5.27724624e-01],\n",
       "       [-7.03519583e-01,  5.38568804e-03, -5.13932227e-01],\n",
       "       [-6.95349038e-01,  8.17051809e-03, -4.92753160e-01],\n",
       "       [-6.84446633e-01,  1.09024011e-02, -4.64033825e-01],\n",
       "       [-6.70884132e-01,  1.35624856e-02, -4.27618054e-01],\n",
       "       [-6.54752612e-01,  1.61315314e-02, -3.83387684e-01],\n",
       "       [-6.36162639e-01,  1.85900014e-02, -3.31309863e-01],\n",
       "       [-6.15244389e-01,  2.09182762e-02, -2.71486073e-01],\n",
       "       [-5.92147410e-01,  2.30969917e-02, -2.04199458e-01],\n",
       "       [-5.67039907e-01,  2.51074899e-02, -1.29954838e-01],\n",
       "       [-5.40107548e-01,  2.69323774e-02, -4.95060192e-02],\n",
       "       [-5.11551380e-01,  2.85561420e-02,  3.61342418e-02],\n",
       "       [-4.81585562e-01,  2.99658068e-02,  1.25706159e-01],\n",
       "       [-4.50434029e-01,  3.11515406e-02,  2.17736049e-01],\n",
       "       [-4.18326825e-01,  3.21072005e-02,  3.10592067e-01],\n",
       "       [-3.85496110e-01,  3.28307189e-02,  4.02556585e-01],\n",
       "       [-3.52171779e-01,  3.33243273e-02,  4.91908964e-01],\n",
       "       [-3.18577230e-01,  3.35945562e-02,  5.77011330e-01],\n",
       "       [-2.84925193e-01,  3.36520262e-02,  6.56387814e-01],\n",
       "       [-2.51414150e-01,  3.35110575e-02,  7.28790503e-01],\n",
       "       [-2.18225062e-01,  3.31890807e-02,  7.93245737e-01],\n",
       "       [-1.85519099e-01,  3.27059664e-02,  8.49078808e-01],\n",
       "       [-1.53435826e-01,  3.20832692e-02,  8.95915946e-01],\n",
       "       [-1.22092344e-01,  3.13434787e-02,  9.33667161e-01],\n",
       "       [-9.15830359e-02,  3.05093117e-02,  9.62493299e-01],\n",
       "       [-6.19799569e-02,  2.96030790e-02,  9.82762930e-01],\n",
       "       [-3.33337858e-02,  2.86461711e-02,  9.95004030e-01],\n",
       "       [-5.67512494e-03,  2.76586618e-02,  9.99855072e-01],\n",
       "       [ 2.09838990e-02,  2.66590249e-02,  9.98019196e-01],\n",
       "       [ 4.66478765e-02,  2.56639775e-02,  9.90223861e-01],\n",
       "       [ 7.13362917e-02,  2.46884171e-02,  9.77187367e-01],\n",
       "       [ 9.50817391e-02,  2.37454493e-02,  9.59592678e-01],\n",
       "       [ 1.17928207e-01,  2.28464678e-02,  9.38068251e-01],\n",
       "       [ 1.39929503e-01,  2.20012963e-02,  9.13175156e-01],\n",
       "       [ 1.61147863e-01,  2.12183576e-02,  8.85399491e-01],\n",
       "       [ 1.81652725e-01,  2.05048583e-02,  8.55148978e-01],\n",
       "       [ 2.01519713e-01,  1.98669862e-02,  8.22752767e-01],\n",
       "       [ 2.20829815e-01,  1.93101037e-02,  7.88463461e-01],\n",
       "       [ 2.39668757e-01,  1.88389458e-02,  7.52460602e-01],\n",
       "       [ 2.58126557e-01,  1.84577946e-02,  7.14854963e-01],\n",
       "       [ 2.76297212e-01,  1.81706566e-02,  6.75693237e-01],\n",
       "       [ 2.94278622e-01,  1.79814231e-02,  6.34962842e-01],\n",
       "       [ 3.12172651e-01,  1.78940166e-02,  5.92596432e-01],\n",
       "       [ 3.30085188e-01,  1.79125257e-02,  5.48476212e-01],\n",
       "       [ 3.48126531e-01,  1.80413350e-02,  5.02438455e-01],\n",
       "       [ 3.66411775e-01,  1.82852391e-02,  4.54277487e-01],\n",
       "       [ 3.85061324e-01,  1.86495446e-02,  4.03750239e-01],\n",
       "       [ 4.04201478e-01,  1.91401690e-02,  3.50581415e-01],\n",
       "       [ 4.23965186e-01,  1.97637156e-02,  2.94469872e-01],\n",
       "       [ 4.44492728e-01,  2.05275416e-02,  2.35096789e-01],\n",
       "       [ 4.65932518e-01,  2.14398000e-02,  1.72137102e-01]])"
      ]
     },
     "execution_count": 42,
     "metadata": {},
     "output_type": "execute_result"
    }
   ],
   "source": [
    "new_rollouts[0].obs"
   ]
  },
  {
   "cell_type": "code",
   "execution_count": 23,
   "metadata": {},
   "outputs": [
    {
     "data": {
      "text/plain": [
       "{'obs': array([-0.48439482,  0.0012157 ,  0.11734087]),\n",
       " 'acts': array([1.], dtype=float32),\n",
       " 'infos': {},\n",
       " 'next_obs': array([-0.48197246,  0.00242235,  0.12455461]),\n",
       " 'dones': False}"
      ]
     },
     "execution_count": 23,
     "metadata": {},
     "output_type": "execute_result"
    }
   ],
   "source": [
    "transitions[1]"
   ]
  },
  {
   "cell_type": "code",
   "execution_count": 21,
   "metadata": {},
   "outputs": [
    {
     "name": "stdout",
     "output_type": "stream",
     "text": [
      "The `rollout` function generated a list of 100 <class 'imitation.data.types.TrajectoryWithRew'>.\n",
      "After flattening, this list is turned into a <class 'imitation.data.types.Transitions'> object containing 12945 transitions.\n",
      "The transitions object contains arrays for: obs, acts, infos, next_obs, dones.\"\n",
      "\n"
     ]
    }
   ],
   "source": [
    "print(\n",
    "    f\"\"\"The `rollout` function generated a list of {len(rollouts)} {type(rollouts[0])}.\n",
    "After flattening, this list is turned into a {type(transitions)} object containing {len(transitions)} transitions.\n",
    "The transitions object contains arrays for: {', '.join(transitions.__dict__.keys())}.\"\n",
    "\"\"\"\n",
    ")"
   ]
  },
  {
   "cell_type": "code",
   "execution_count": 14,
   "metadata": {},
   "outputs": [
    {
     "data": {
      "text/plain": [
       "Box([-1.2  -0.07 -3.  ], [0.6  0.07 3.  ], (3,), float32)"
      ]
     },
     "execution_count": 14,
     "metadata": {},
     "output_type": "execute_result"
    }
   ],
   "source": [
    "env.observation_space"
   ]
  },
  {
   "cell_type": "code",
   "execution_count": 19,
   "metadata": {},
   "outputs": [],
   "source": [
    "from imitation.algorithms import bc\n",
    "\n",
    "env = gym.make(env_id, full_obs=False)\n",
    "bc_trainer = bc.BC(\n",
    "    observation_space=env.observation_space,\n",
    "    action_space=env.action_space,\n",
    "    demonstrations=transitions,\n",
    "    rng=rng,\n",
    ")"
   ]
  },
  {
   "cell_type": "code",
   "execution_count": 21,
   "metadata": {},
   "outputs": [
    {
     "name": "stderr",
     "output_type": "stream",
     "text": [
      "0batch [00:00, ?batch/s]\n"
     ]
    },
    {
     "ename": "RuntimeError",
     "evalue": "mat1 and mat2 shapes cannot be multiplied (32x3 and 2x32)",
     "output_type": "error",
     "traceback": [
      "\u001b[0;31m---------------------------------------------------------------------------\u001b[0m",
      "\u001b[0;31mRuntimeError\u001b[0m                              Traceback (most recent call last)",
      "Cell \u001b[0;32mIn[21], line 1\u001b[0m\n\u001b[0;32m----> 1\u001b[0m \u001b[43mbc_trainer\u001b[49m\u001b[38;5;241;43m.\u001b[39;49m\u001b[43mtrain\u001b[49m\u001b[43m(\u001b[49m\u001b[43mn_epochs\u001b[49m\u001b[38;5;241;43m=\u001b[39;49m\u001b[38;5;241;43m2\u001b[39;49m\u001b[43m)\u001b[49m\n\u001b[1;32m      2\u001b[0m reward, _ \u001b[38;5;241m=\u001b[39m evaluate_policy(bc_trainer\u001b[38;5;241m.\u001b[39mpolicy, full_env, \u001b[38;5;241m10\u001b[39m)\n\u001b[1;32m      3\u001b[0m \u001b[38;5;28mprint\u001b[39m(\u001b[38;5;124mf\u001b[39m\u001b[38;5;124m\"\u001b[39m\u001b[38;5;124mReward after training: \u001b[39m\u001b[38;5;132;01m{\u001b[39;00mreward\u001b[38;5;132;01m}\u001b[39;00m\u001b[38;5;124m\"\u001b[39m)\n",
      "File \u001b[0;32m~/Diploma/rl-venv/lib/python3.10/site-packages/imitation/algorithms/bc.py:470\u001b[0m, in \u001b[0;36mBC.train\u001b[0;34m(self, n_epochs, n_batches, on_epoch_end, on_batch_end, log_interval, log_rollouts_venv, log_rollouts_n_episodes, progress_bar, reset_tensorboard)\u001b[0m\n\u001b[1;32m    468\u001b[0m obs \u001b[38;5;241m=\u001b[39m th\u001b[38;5;241m.\u001b[39mas_tensor(batch[\u001b[38;5;124m\"\u001b[39m\u001b[38;5;124mobs\u001b[39m\u001b[38;5;124m\"\u001b[39m], device\u001b[38;5;241m=\u001b[39m\u001b[38;5;28mself\u001b[39m\u001b[38;5;241m.\u001b[39mpolicy\u001b[38;5;241m.\u001b[39mdevice)\u001b[38;5;241m.\u001b[39mdetach()\n\u001b[1;32m    469\u001b[0m acts \u001b[38;5;241m=\u001b[39m th\u001b[38;5;241m.\u001b[39mas_tensor(batch[\u001b[38;5;124m\"\u001b[39m\u001b[38;5;124macts\u001b[39m\u001b[38;5;124m\"\u001b[39m], device\u001b[38;5;241m=\u001b[39m\u001b[38;5;28mself\u001b[39m\u001b[38;5;241m.\u001b[39mpolicy\u001b[38;5;241m.\u001b[39mdevice)\u001b[38;5;241m.\u001b[39mdetach()\n\u001b[0;32m--> 470\u001b[0m training_metrics \u001b[38;5;241m=\u001b[39m \u001b[38;5;28;43mself\u001b[39;49m\u001b[38;5;241;43m.\u001b[39;49m\u001b[43mloss_calculator\u001b[49m\u001b[43m(\u001b[49m\u001b[38;5;28;43mself\u001b[39;49m\u001b[38;5;241;43m.\u001b[39;49m\u001b[43mpolicy\u001b[49m\u001b[43m,\u001b[49m\u001b[43m \u001b[49m\u001b[43mobs\u001b[49m\u001b[43m,\u001b[49m\u001b[43m \u001b[49m\u001b[43macts\u001b[49m\u001b[43m)\u001b[49m\n\u001b[1;32m    472\u001b[0m \u001b[38;5;66;03m# Renormalise the loss to be averaged over the whole\u001b[39;00m\n\u001b[1;32m    473\u001b[0m \u001b[38;5;66;03m# batch size instead of the minibatch size.\u001b[39;00m\n\u001b[1;32m    474\u001b[0m \u001b[38;5;66;03m# If there is an incomplete batch, its gradients will be\u001b[39;00m\n\u001b[1;32m    475\u001b[0m \u001b[38;5;66;03m# smaller, which may be helpful for stability.\u001b[39;00m\n\u001b[1;32m    476\u001b[0m loss \u001b[38;5;241m=\u001b[39m training_metrics\u001b[38;5;241m.\u001b[39mloss \u001b[38;5;241m*\u001b[39m minibatch_size \u001b[38;5;241m/\u001b[39m \u001b[38;5;28mself\u001b[39m\u001b[38;5;241m.\u001b[39mbatch_size\n",
      "File \u001b[0;32m~/Diploma/rl-venv/lib/python3.10/site-packages/imitation/algorithms/bc.py:119\u001b[0m, in \u001b[0;36mBehaviorCloningLossCalculator.__call__\u001b[0;34m(self, policy, obs, acts)\u001b[0m\n\u001b[1;32m    117\u001b[0m obs \u001b[38;5;241m=\u001b[39m util\u001b[38;5;241m.\u001b[39msafe_to_tensor(obs)\n\u001b[1;32m    118\u001b[0m acts \u001b[38;5;241m=\u001b[39m util\u001b[38;5;241m.\u001b[39msafe_to_tensor(acts)\n\u001b[0;32m--> 119\u001b[0m _, log_prob, entropy \u001b[38;5;241m=\u001b[39m \u001b[43mpolicy\u001b[49m\u001b[38;5;241;43m.\u001b[39;49m\u001b[43mevaluate_actions\u001b[49m\u001b[43m(\u001b[49m\u001b[43mobs\u001b[49m\u001b[43m,\u001b[49m\u001b[43m \u001b[49m\u001b[43macts\u001b[49m\u001b[43m)\u001b[49m\n\u001b[1;32m    120\u001b[0m prob_true_act \u001b[38;5;241m=\u001b[39m th\u001b[38;5;241m.\u001b[39mexp(log_prob)\u001b[38;5;241m.\u001b[39mmean()\n\u001b[1;32m    121\u001b[0m log_prob \u001b[38;5;241m=\u001b[39m log_prob\u001b[38;5;241m.\u001b[39mmean()\n",
      "File \u001b[0;32m~/Diploma/rl-venv/lib/python3.10/site-packages/stable_baselines3/common/policies.py:702\u001b[0m, in \u001b[0;36mActorCriticPolicy.evaluate_actions\u001b[0;34m(self, obs, actions)\u001b[0m\n\u001b[1;32m    700\u001b[0m features \u001b[38;5;241m=\u001b[39m \u001b[38;5;28mself\u001b[39m\u001b[38;5;241m.\u001b[39mextract_features(obs)\n\u001b[1;32m    701\u001b[0m \u001b[38;5;28;01mif\u001b[39;00m \u001b[38;5;28mself\u001b[39m\u001b[38;5;241m.\u001b[39mshare_features_extractor:\n\u001b[0;32m--> 702\u001b[0m     latent_pi, latent_vf \u001b[38;5;241m=\u001b[39m \u001b[38;5;28;43mself\u001b[39;49m\u001b[38;5;241;43m.\u001b[39;49m\u001b[43mmlp_extractor\u001b[49m\u001b[43m(\u001b[49m\u001b[43mfeatures\u001b[49m\u001b[43m)\u001b[49m\n\u001b[1;32m    703\u001b[0m \u001b[38;5;28;01melse\u001b[39;00m:\n\u001b[1;32m    704\u001b[0m     pi_features, vf_features \u001b[38;5;241m=\u001b[39m features\n",
      "File \u001b[0;32m~/Diploma/rl-venv/lib/python3.10/site-packages/torch/nn/modules/module.py:1194\u001b[0m, in \u001b[0;36mModule._call_impl\u001b[0;34m(self, *input, **kwargs)\u001b[0m\n\u001b[1;32m   1190\u001b[0m \u001b[38;5;66;03m# If we don't have any hooks, we want to skip the rest of the logic in\u001b[39;00m\n\u001b[1;32m   1191\u001b[0m \u001b[38;5;66;03m# this function, and just call forward.\u001b[39;00m\n\u001b[1;32m   1192\u001b[0m \u001b[38;5;28;01mif\u001b[39;00m \u001b[38;5;129;01mnot\u001b[39;00m (\u001b[38;5;28mself\u001b[39m\u001b[38;5;241m.\u001b[39m_backward_hooks \u001b[38;5;129;01mor\u001b[39;00m \u001b[38;5;28mself\u001b[39m\u001b[38;5;241m.\u001b[39m_forward_hooks \u001b[38;5;129;01mor\u001b[39;00m \u001b[38;5;28mself\u001b[39m\u001b[38;5;241m.\u001b[39m_forward_pre_hooks \u001b[38;5;129;01mor\u001b[39;00m _global_backward_hooks\n\u001b[1;32m   1193\u001b[0m         \u001b[38;5;129;01mor\u001b[39;00m _global_forward_hooks \u001b[38;5;129;01mor\u001b[39;00m _global_forward_pre_hooks):\n\u001b[0;32m-> 1194\u001b[0m     \u001b[38;5;28;01mreturn\u001b[39;00m \u001b[43mforward_call\u001b[49m\u001b[43m(\u001b[49m\u001b[38;5;241;43m*\u001b[39;49m\u001b[38;5;28;43minput\u001b[39;49m\u001b[43m,\u001b[49m\u001b[43m \u001b[49m\u001b[38;5;241;43m*\u001b[39;49m\u001b[38;5;241;43m*\u001b[39;49m\u001b[43mkwargs\u001b[49m\u001b[43m)\u001b[49m\n\u001b[1;32m   1195\u001b[0m \u001b[38;5;66;03m# Do not call functions when jit is used\u001b[39;00m\n\u001b[1;32m   1196\u001b[0m full_backward_hooks, non_full_backward_hooks \u001b[38;5;241m=\u001b[39m [], []\n",
      "File \u001b[0;32m~/Diploma/rl-venv/lib/python3.10/site-packages/stable_baselines3/common/torch_layers.py:262\u001b[0m, in \u001b[0;36mMlpExtractor.forward\u001b[0;34m(self, features)\u001b[0m\n\u001b[1;32m    257\u001b[0m \u001b[38;5;28;01mdef\u001b[39;00m \u001b[38;5;21mforward\u001b[39m(\u001b[38;5;28mself\u001b[39m, features: th\u001b[38;5;241m.\u001b[39mTensor) \u001b[38;5;241m-\u001b[39m\u001b[38;5;241m>\u001b[39m Tuple[th\u001b[38;5;241m.\u001b[39mTensor, th\u001b[38;5;241m.\u001b[39mTensor]:\n\u001b[1;32m    258\u001b[0m \u001b[38;5;250m    \u001b[39m\u001b[38;5;124;03m\"\"\"\u001b[39;00m\n\u001b[1;32m    259\u001b[0m \u001b[38;5;124;03m    :return: latent_policy, latent_value of the specified network.\u001b[39;00m\n\u001b[1;32m    260\u001b[0m \u001b[38;5;124;03m        If all layers are shared, then ``latent_policy == latent_value``\u001b[39;00m\n\u001b[1;32m    261\u001b[0m \u001b[38;5;124;03m    \"\"\"\u001b[39;00m\n\u001b[0;32m--> 262\u001b[0m     shared_latent \u001b[38;5;241m=\u001b[39m \u001b[38;5;28;43mself\u001b[39;49m\u001b[38;5;241;43m.\u001b[39;49m\u001b[43mshared_net\u001b[49m\u001b[43m(\u001b[49m\u001b[43mfeatures\u001b[49m\u001b[43m)\u001b[49m\n\u001b[1;32m    263\u001b[0m     \u001b[38;5;28;01mreturn\u001b[39;00m \u001b[38;5;28mself\u001b[39m\u001b[38;5;241m.\u001b[39mpolicy_net(shared_latent), \u001b[38;5;28mself\u001b[39m\u001b[38;5;241m.\u001b[39mvalue_net(shared_latent)\n",
      "File \u001b[0;32m~/Diploma/rl-venv/lib/python3.10/site-packages/torch/nn/modules/module.py:1194\u001b[0m, in \u001b[0;36mModule._call_impl\u001b[0;34m(self, *input, **kwargs)\u001b[0m\n\u001b[1;32m   1190\u001b[0m \u001b[38;5;66;03m# If we don't have any hooks, we want to skip the rest of the logic in\u001b[39;00m\n\u001b[1;32m   1191\u001b[0m \u001b[38;5;66;03m# this function, and just call forward.\u001b[39;00m\n\u001b[1;32m   1192\u001b[0m \u001b[38;5;28;01mif\u001b[39;00m \u001b[38;5;129;01mnot\u001b[39;00m (\u001b[38;5;28mself\u001b[39m\u001b[38;5;241m.\u001b[39m_backward_hooks \u001b[38;5;129;01mor\u001b[39;00m \u001b[38;5;28mself\u001b[39m\u001b[38;5;241m.\u001b[39m_forward_hooks \u001b[38;5;129;01mor\u001b[39;00m \u001b[38;5;28mself\u001b[39m\u001b[38;5;241m.\u001b[39m_forward_pre_hooks \u001b[38;5;129;01mor\u001b[39;00m _global_backward_hooks\n\u001b[1;32m   1193\u001b[0m         \u001b[38;5;129;01mor\u001b[39;00m _global_forward_hooks \u001b[38;5;129;01mor\u001b[39;00m _global_forward_pre_hooks):\n\u001b[0;32m-> 1194\u001b[0m     \u001b[38;5;28;01mreturn\u001b[39;00m \u001b[43mforward_call\u001b[49m\u001b[43m(\u001b[49m\u001b[38;5;241;43m*\u001b[39;49m\u001b[38;5;28;43minput\u001b[39;49m\u001b[43m,\u001b[49m\u001b[43m \u001b[49m\u001b[38;5;241;43m*\u001b[39;49m\u001b[38;5;241;43m*\u001b[39;49m\u001b[43mkwargs\u001b[49m\u001b[43m)\u001b[49m\n\u001b[1;32m   1195\u001b[0m \u001b[38;5;66;03m# Do not call functions when jit is used\u001b[39;00m\n\u001b[1;32m   1196\u001b[0m full_backward_hooks, non_full_backward_hooks \u001b[38;5;241m=\u001b[39m [], []\n",
      "File \u001b[0;32m~/Diploma/rl-venv/lib/python3.10/site-packages/torch/nn/modules/container.py:204\u001b[0m, in \u001b[0;36mSequential.forward\u001b[0;34m(self, input)\u001b[0m\n\u001b[1;32m    202\u001b[0m \u001b[38;5;28;01mdef\u001b[39;00m \u001b[38;5;21mforward\u001b[39m(\u001b[38;5;28mself\u001b[39m, \u001b[38;5;28minput\u001b[39m):\n\u001b[1;32m    203\u001b[0m     \u001b[38;5;28;01mfor\u001b[39;00m module \u001b[38;5;129;01min\u001b[39;00m \u001b[38;5;28mself\u001b[39m:\n\u001b[0;32m--> 204\u001b[0m         \u001b[38;5;28minput\u001b[39m \u001b[38;5;241m=\u001b[39m \u001b[43mmodule\u001b[49m\u001b[43m(\u001b[49m\u001b[38;5;28;43minput\u001b[39;49m\u001b[43m)\u001b[49m\n\u001b[1;32m    205\u001b[0m     \u001b[38;5;28;01mreturn\u001b[39;00m \u001b[38;5;28minput\u001b[39m\n",
      "File \u001b[0;32m~/Diploma/rl-venv/lib/python3.10/site-packages/torch/nn/modules/module.py:1194\u001b[0m, in \u001b[0;36mModule._call_impl\u001b[0;34m(self, *input, **kwargs)\u001b[0m\n\u001b[1;32m   1190\u001b[0m \u001b[38;5;66;03m# If we don't have any hooks, we want to skip the rest of the logic in\u001b[39;00m\n\u001b[1;32m   1191\u001b[0m \u001b[38;5;66;03m# this function, and just call forward.\u001b[39;00m\n\u001b[1;32m   1192\u001b[0m \u001b[38;5;28;01mif\u001b[39;00m \u001b[38;5;129;01mnot\u001b[39;00m (\u001b[38;5;28mself\u001b[39m\u001b[38;5;241m.\u001b[39m_backward_hooks \u001b[38;5;129;01mor\u001b[39;00m \u001b[38;5;28mself\u001b[39m\u001b[38;5;241m.\u001b[39m_forward_hooks \u001b[38;5;129;01mor\u001b[39;00m \u001b[38;5;28mself\u001b[39m\u001b[38;5;241m.\u001b[39m_forward_pre_hooks \u001b[38;5;129;01mor\u001b[39;00m _global_backward_hooks\n\u001b[1;32m   1193\u001b[0m         \u001b[38;5;129;01mor\u001b[39;00m _global_forward_hooks \u001b[38;5;129;01mor\u001b[39;00m _global_forward_pre_hooks):\n\u001b[0;32m-> 1194\u001b[0m     \u001b[38;5;28;01mreturn\u001b[39;00m \u001b[43mforward_call\u001b[49m\u001b[43m(\u001b[49m\u001b[38;5;241;43m*\u001b[39;49m\u001b[38;5;28;43minput\u001b[39;49m\u001b[43m,\u001b[49m\u001b[43m \u001b[49m\u001b[38;5;241;43m*\u001b[39;49m\u001b[38;5;241;43m*\u001b[39;49m\u001b[43mkwargs\u001b[49m\u001b[43m)\u001b[49m\n\u001b[1;32m   1195\u001b[0m \u001b[38;5;66;03m# Do not call functions when jit is used\u001b[39;00m\n\u001b[1;32m   1196\u001b[0m full_backward_hooks, non_full_backward_hooks \u001b[38;5;241m=\u001b[39m [], []\n",
      "File \u001b[0;32m~/Diploma/rl-venv/lib/python3.10/site-packages/torch/nn/modules/linear.py:114\u001b[0m, in \u001b[0;36mLinear.forward\u001b[0;34m(self, input)\u001b[0m\n\u001b[1;32m    113\u001b[0m \u001b[38;5;28;01mdef\u001b[39;00m \u001b[38;5;21mforward\u001b[39m(\u001b[38;5;28mself\u001b[39m, \u001b[38;5;28minput\u001b[39m: Tensor) \u001b[38;5;241m-\u001b[39m\u001b[38;5;241m>\u001b[39m Tensor:\n\u001b[0;32m--> 114\u001b[0m     \u001b[38;5;28;01mreturn\u001b[39;00m \u001b[43mF\u001b[49m\u001b[38;5;241;43m.\u001b[39;49m\u001b[43mlinear\u001b[49m\u001b[43m(\u001b[49m\u001b[38;5;28;43minput\u001b[39;49m\u001b[43m,\u001b[49m\u001b[43m \u001b[49m\u001b[38;5;28;43mself\u001b[39;49m\u001b[38;5;241;43m.\u001b[39;49m\u001b[43mweight\u001b[49m\u001b[43m,\u001b[49m\u001b[43m \u001b[49m\u001b[38;5;28;43mself\u001b[39;49m\u001b[38;5;241;43m.\u001b[39;49m\u001b[43mbias\u001b[49m\u001b[43m)\u001b[49m\n",
      "\u001b[0;31mRuntimeError\u001b[0m: mat1 and mat2 shapes cannot be multiplied (32x3 and 2x32)"
     ]
    }
   ],
   "source": [
    "bc_trainer.train(n_epochs=2)\n",
    "reward, _ = evaluate_policy(bc_trainer.policy, full_env, 10)\n",
    "print(f\"Reward after training: {reward}\")"
   ]
  }
 ],
 "metadata": {
  "kernelspec": {
   "display_name": "rl-venv",
   "language": "python",
   "name": "rl-venv"
  },
  "language_info": {
   "codemirror_mode": {
    "name": "ipython",
    "version": 3
   },
   "file_extension": ".py",
   "mimetype": "text/x-python",
   "name": "python",
   "nbconvert_exporter": "python",
   "pygments_lexer": "ipython3",
   "version": "3.10.6"
  },
  "vscode": {
   "interpreter": {
    "hash": "916dbcbb3f70747c44a77c7bcd40155683ae19c65e1c03b4aa3499c5328201f1"
   }
  }
 },
 "nbformat": 4,
 "nbformat_minor": 4
}
